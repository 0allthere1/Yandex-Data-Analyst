{
 "cells": [
  {
   "cell_type": "markdown",
   "metadata": {
    "id": "E0vqbgi9ay0H"
   },
   "source": [
    "# Yandex.Music"
   ]
  },
  {
   "cell_type": "markdown",
   "metadata": {
    "id": "fhq_eyov_Zcs"
   },
   "source": [
    "# Contents <a id='back'></a>\n",
    "\n",
    "* [Introdução](#intro)\n",
    "* [Etapa 1. Visão geral dos dados](#data_review)\n",
    "    * [Conclusões](#data_review_conclusions)\n",
    "* [Etapa 2. Pré-processamento de dados](#data_preprocessing)\n",
    "    * [2.1 Estilo do cabeçalho](#header_style)\n",
    "    * [2.2 Valores ausentes](#missing_values)\n",
    "    * [2.3 Duplicatas](#duplicates)\n",
    "    * [2.4 Conclusões](#data_preprocessing_conclusions)\n",
    "* [Etapa 3. Testando as hipóteses](#hypotheses)\n",
    "    * [3.1 Hipótese 1: comparando o comportamento dos usuários em duas cidades](#activity)\n",
    "    * [3.2 Hipótese 2: música no começo e no fim da semana](#week)\n",
    "    * [3.3 Hipótese 3: preferências em Springfield e Shelbyville](#genre)\n",
    "* [Conclusões](#end)"
   ]
  },
  {
   "cell_type": "markdown",
   "metadata": {
    "id": "VUC88oWjTJw2"
   },
   "source": [
    "## Introdução <a id='intro'></a>\n",
    "Sempre que fazemos uma pesquisa, precisamos formular uma hipótese que depois poderemos testar. Às vezes nós aceitamos essas hipóteses; outras vezes, nós as rejeitamos. Para fazer as escolhas certas, um negócio deve ser capaz de entender se está fazendo as suposições certas ou não.\n",
    "\n",
    "Neste projeto, você vai comparar as preferências musicais dos habitantes de Springfild e Shelbyville. Você estudará dados reais do Yandex.Music para testar a hipótese abaixo e comparar o comportamento do usuário para essas duas cidades.\n",
    "\n",
    "### Objetivo: \n",
    "Teste três hipóteses:\n",
    "1. A atividade dos usuários é diferente dependendo do dia da semana e da cidade. \n",
    "2. Durante as manhãs de segunda-feira, os moradores de Springfield e Shelbyville escutam diferentes gêneros. Isso também é verdadeiro para noites de sexta-feira. \n",
    "3. Os ouvintes de Springfield e Shelbyville têm diferentes preferências. Em Springfield, as pessoas preferem pop, enquanto Shelbyville tem mais fãs de rap.\n",
    "\n",
    "### Etapas \n",
    "Os dados sobre o comportamento do usuário é armazenado no arquivo `/datasets/music_project_en.csv`. Não há informação sobre a qualidade dos dados, então, você precisará examiná-los antes de testar a hipótese. \n",
    "\n",
    "Primeiro, você avaliará a qualidade dos dados e ver se seus problemas são significativos. Depois, durante o pré-processamento de dados, você tentará dar conta dos problemas mais críticos problemas.\n",
    " \n",
    "O seu projeto consistirá em três etapas:\n",
    " 1. Visão geral dos dados\n",
    " 2. Pré-processamento de dados\n",
    " 3. Testando as hipóteses\n",
    " \n",
    "[Voltar ao Índice](#back)"
   ]
  },
  {
   "cell_type": "markdown",
   "metadata": {
    "id": "Ml1hmfXC_Zcs"
   },
   "source": [
    "## Etapa 1. Visão geral dos dados <a id='data_review'></a>\n",
    "\n",
    "Abra os dados em Yandex.Music e explore-os."
   ]
  },
  {
   "cell_type": "markdown",
   "metadata": {
    "id": "57eAOGIz_Zcs"
   },
   "source": [
    "Você precisará de `pandas`, então, importe-a."
   ]
  },
  {
   "cell_type": "code",
   "execution_count": 1,
   "metadata": {
    "id": "AXN7PHPN_Zcs"
   },
   "outputs": [],
   "source": [
    "# importando pandas\n",
    "import pandas as pd\n",
    "import numpy as np"
   ]
  },
  {
   "cell_type": "markdown",
   "metadata": {
    "id": "SG23P8tt_Zcs"
   },
   "source": [
    "Leia o arquivo `music_project_en.csv` da pasta `/datasets/` e salve-o na variável `df`:"
   ]
  },
  {
   "cell_type": "code",
   "execution_count": 2,
   "metadata": {
    "id": "fFVu7vqh_Zct"
   },
   "outputs": [],
   "source": [
    "# lendo o arquivo e armazenando em df\n",
    "df = pd.read_csv('/datasets/music_project_en.csv')"
   ]
  },
  {
   "cell_type": "markdown",
   "metadata": {
    "id": "rDoOMd3uTqnZ"
   },
   "source": [
    "Exiba as primeiras 10 linhas da tabela:"
   ]
  },
  {
   "cell_type": "code",
   "execution_count": 3,
   "metadata": {
    "id": "oWTVX3gW_Zct"
   },
   "outputs": [
    {
     "name": "stdout",
     "output_type": "stream",
     "text": [
      "     userID                        Track            artist   genre  \\\n",
      "0  FFB692EC            Kamigata To Boots  The Mass Missile    rock   \n",
      "1  55204538  Delayed Because of Accident  Andreas Rönnberg    rock   \n",
      "2    20EC38            Funiculì funiculà       Mario Lanza     pop   \n",
      "3  A3DD03C9        Dragons in the Sunset        Fire + Ice    folk   \n",
      "4  E2DC1FAE                  Soul People        Space Echo   dance   \n",
      "5  842029A1                       Chains          Obladaet  rusrap   \n",
      "6  4CB90AA5                         True      Roman Messer   dance   \n",
      "7  F03E1C1F             Feeling This Way   Polina Griffith   dance   \n",
      "8  8FA1D3BE                     L’estate       Julia Dalia  ruspop   \n",
      "9  E772D5C0                    Pessimist               NaN   dance   \n",
      "\n",
      "        City        time        Day  \n",
      "0  Shelbyville  20:28:33  Wednesday  \n",
      "1  Springfield  14:07:09     Friday  \n",
      "2  Shelbyville  20:58:07  Wednesday  \n",
      "3  Shelbyville  08:37:09     Monday  \n",
      "4  Springfield  08:34:34     Monday  \n",
      "5  Shelbyville  13:09:41     Friday  \n",
      "6  Springfield  13:00:07  Wednesday  \n",
      "7  Springfield  20:47:49  Wednesday  \n",
      "8  Springfield  09:17:40     Friday  \n",
      "9  Shelbyville  21:20:49  Wednesday  \n"
     ]
    }
   ],
   "source": [
    "# obtenha as 10 primeiras 10 linhas da tabela df\n",
    "\n",
    "print(df.head(10))"
   ]
  },
  {
   "cell_type": "markdown",
   "metadata": {
    "id": "EO73Kwic_Zct"
   },
   "source": [
    "Obtendo as informações gerais sobre a tabela com um comando:"
   ]
  },
  {
   "cell_type": "code",
   "execution_count": 4,
   "metadata": {
    "id": "DSf2kIb-_Zct"
   },
   "outputs": [
    {
     "name": "stdout",
     "output_type": "stream",
     "text": [
      "<class 'pandas.core.frame.DataFrame'>\n",
      "RangeIndex: 65079 entries, 0 to 65078\n",
      "Data columns (total 7 columns):\n",
      " #   Column    Non-Null Count  Dtype \n",
      "---  ------    --------------  ----- \n",
      " 0     userID  65079 non-null  object\n",
      " 1   Track     63736 non-null  object\n",
      " 2   artist    57512 non-null  object\n",
      " 3   genre     63881 non-null  object\n",
      " 4     City    65079 non-null  object\n",
      " 5   time      65079 non-null  object\n",
      " 6   Day       65079 non-null  object\n",
      "dtypes: object(7)\n",
      "memory usage: 3.5+ MB\n"
     ]
    }
   ],
   "source": [
    "# obtendo informações gerais sobre os dados em df\n",
    "df.info()"
   ]
  },
  {
   "cell_type": "markdown",
   "metadata": {
    "id": "TaQ2Iwbr_Zct"
   },
   "source": [
    "A tabela contém sete colunas. Elas armazenam o mesmo tipo de dado: `object`.\n",
    "\n",
    "De acordo com a documentação:\n",
    "- `'userID'` — identificação do usuário\n",
    "- `'Track'` — título da música\n",
    "- `'artist'` — nome do artista\n",
    "- `'genre'` — o gênero\n",
    "- `'City'` — cidade do usuário\n",
    "- `'time'` — tempo exato que a música foi tocada\n",
    "- `'Day'` — dia da semana\n",
    "\n",
    "Nós podemos ver três problemas com o estilo nos nomes das colunas:\n",
    "1. Alguns nomes estão com letra maiúscula, alguns com letra minúscula.\n",
    "2. Há espaços em alguns nomes.\n",
    "3. Não Possui snakecase\n",
    "\n",
    "A quantidade de valores das colunas é diferente. Isso significa que os dados contém valores ausentes.\n"
   ]
  },
  {
   "cell_type": "markdown",
   "metadata": {
    "id": "MCB6-dXG_Zct"
   },
   "source": [
    "### Conclusões <a id='data_review_conclusions'></a> \n",
    "\n",
    "Cada linha na tabela armazena dados sobre uma música que foi tocada. Algumas colunas descrevem a música por si só: seu título, artista e gênero. O restante contém informações sobre o usuário: a cidade de onde eles vêm, a quantidade de vezes que a música foi tocada. \n",
    "\n",
    "Está claro que os dados são suficientes para testar as hipóteses. Entretanto, há valores ausentes.\n",
    "\n",
    "Para seguir adiante, precisamos pré-processar os dados."
   ]
  },
  {
   "cell_type": "markdown",
   "metadata": {
    "id": "3eL__vcwViOi"
   },
   "source": [
    "[Voltar ao Índice](#back)"
   ]
  },
  {
   "cell_type": "markdown",
   "metadata": {
    "id": "SjYF6Ub9_Zct"
   },
   "source": [
    "## Etapa 2. Pré-processar dados <a id='data_preprocessing'></a>\n",
    "Corrija a formatação no cabeçalho da coluna e trabalhe com os valores ausentes. Depois, verifique se há duplicatas nos dados."
   ]
  },
  {
   "cell_type": "markdown",
   "metadata": {
    "id": "dIaKXr29_Zct"
   },
   "source": [
    "### Estilo do cabeçalho <a id='header_style'></a>\n",
    "Exiba o cabeçalho da coluna:"
   ]
  },
  {
   "cell_type": "code",
   "execution_count": 5,
   "metadata": {
    "id": "oKOTdF_Q_Zct"
   },
   "outputs": [
    {
     "name": "stdout",
     "output_type": "stream",
     "text": [
      "Index(['  userID', 'Track', 'artist', 'genre', '  City  ', 'time', 'Day'], dtype='object')\n"
     ]
    }
   ],
   "source": [
    "# a lista dos nomes das colunas na tabela df\n",
    "print(df.columns)"
   ]
  },
  {
   "cell_type": "markdown",
   "metadata": {
    "id": "zj5534cv_Zct"
   },
   "source": [
    "Mude os nomes das colunas de acordo com as regras da boa prática de estilo:\n",
    "* Se o nome tiver várias palavras, use snake_case\n",
    "* Todos os caracteres precisam estar com letras minúsculas\n",
    "* Delete espaços"
   ]
  },
  {
   "cell_type": "code",
   "execution_count": 6,
   "metadata": {
    "id": "ISlFqs5y_Zct"
   },
   "outputs": [],
   "source": [
    "# renomeando colunas\n",
    "df = df.rename(columns={\n",
    "     '  userID':'user_id' ,\n",
    "     'Track': 'track',\n",
    "     'artist': 'artist',\n",
    "     'genre':'genre',\n",
    "     '  City  ':'city',\n",
    "     'time':'time',\n",
    "     'Day':'day'   \n",
    "})\n"
   ]
  },
  {
   "cell_type": "markdown",
   "metadata": {
    "id": "1dqbh00J_Zct"
   },
   "source": [
    "Verifique o resultado. Exiba os nomes das colunas mais uma vez:"
   ]
  },
  {
   "cell_type": "code",
   "execution_count": 7,
   "metadata": {
    "id": "d4NOAmTW_Zct",
    "scrolled": true
   },
   "outputs": [
    {
     "name": "stdout",
     "output_type": "stream",
     "text": [
      "Index(['user_id', 'track', 'artist', 'genre', 'city', 'time', 'day'], dtype='object')\n"
     ]
    }
   ],
   "source": [
    "# checando o resultado: a lista dos nomes das colunas\n",
    "print(df.columns)"
   ]
  },
  {
   "cell_type": "markdown",
   "metadata": {
    "id": "xYJk6ksJVpOl"
   },
   "source": [
    "[Voltar ao Índice](#back)"
   ]
  },
  {
   "cell_type": "markdown",
   "metadata": {
    "id": "5ISfbcfY_Zct"
   },
   "source": [
    "### Valores ausentes <a id='missing_values'></a>\n",
    "Primeiro, encontre a quantidade de valores ausentes na tabela. Para fazer isso, use dois métodos pandas:"
   ]
  },
  {
   "cell_type": "code",
   "execution_count": 8,
   "metadata": {
    "id": "RskX29qr_Zct"
   },
   "outputs": [
    {
     "data": {
      "text/plain": [
       "user_id       0\n",
       "track      1343\n",
       "artist     7567\n",
       "genre      1198\n",
       "city          0\n",
       "time          0\n",
       "day           0\n",
       "dtype: int64"
      ]
     },
     "execution_count": 8,
     "metadata": {},
     "output_type": "execute_result"
    }
   ],
   "source": [
    "# calculando valores ausentes\n",
    "\n",
    "df.isnull().sum()"
   ]
  },
  {
   "cell_type": "markdown",
   "metadata": {
    "id": "qubhgnlO_Zct"
   },
   "source": [
    "df.isnull().sum()\n",
    "Nem todos os valores ausentes afetam a pesquisa. Por exemplo, os valores ausentes na música e artista não é decisivo. Você pode simplesmente substituí-los por marcadores claros.\n",
    "\n",
    "Mas valores ausentes em `'genre'` pode afetar a comparação de preferências musicais de Springfield e Shelbyville. Na vida real, seria útil descobrir as razões pelas quais os dados estão ausentes e tentar compensá-los. Mas nós não temos essa possibilidade neste projeto. Então, você terá que:\n",
    "* Preencher os valores ausentes com marcadores\n",
    "* Avaliar o quanto os valores ausentes podem afetar os seus cálculos"
   ]
  },
  {
   "cell_type": "markdown",
   "metadata": {
    "id": "fSv2laPA_Zct"
   },
   "source": [
    "Substituir os valores ausentes em `'track'`, `'artist'`, e `'genre'` com a string `'unknown'`. Para fazer isso, crie a lista `columns_to_replace`, percorra-a com o laço `for`, e substitua os valores ausentes em cada uma das colunas:"
   ]
  },
  {
   "cell_type": "code",
   "execution_count": 9,
   "metadata": {
    "id": "KplB5qWs_Zct"
   },
   "outputs": [],
   "source": [
    "# columns_to_replace = df['track', 'artist', 'genre']\n",
    "\n",
    "df['track'].fillna('unknow', inplace=True)\n",
    "df['artist'].fillna('unknow', inplace=True)\n",
    "df['genre'].fillna('unknow', inplace=True)\n",
    "             "
   ]
  },
  {
   "cell_type": "markdown",
   "metadata": {
    "id": "Ilsm-MZo_Zct"
   },
   "source": [
    "Certifique-se de que a tabela não contenha mais valores ausentes. Conte os valores ausentes novamente."
   ]
  },
  {
   "cell_type": "code",
   "execution_count": 10,
   "metadata": {
    "id": "Tq4nYRX4_Zct"
   },
   "outputs": [
    {
     "data": {
      "text/plain": [
       "user_id    0\n",
       "track      0\n",
       "artist     0\n",
       "genre      0\n",
       "city       0\n",
       "time       0\n",
       "day        0\n",
       "dtype: int64"
      ]
     },
     "execution_count": 10,
     "metadata": {},
     "output_type": "execute_result"
    }
   ],
   "source": [
    "df.isna().sum()\n"
   ]
  },
  {
   "cell_type": "markdown",
   "metadata": {
    "id": "74ZIBmq9VrsK"
   },
   "source": [
    "[Voltar ao Índice](#back)"
   ]
  },
  {
   "cell_type": "markdown",
   "metadata": {
    "id": "BWKRtBJ3_Zct"
   },
   "source": [
    "### Duplicatas <a id='duplicates'></a>\n",
    "Encontre o número de duplicatas óbvias na tabela usando um comando:"
   ]
  },
  {
   "cell_type": "code",
   "execution_count": 12,
   "metadata": {
    "id": "36eES_S0_Zct"
   },
   "outputs": [
    {
     "data": {
      "text/plain": [
       "3755"
      ]
     },
     "execution_count": 12,
     "metadata": {},
     "output_type": "execute_result"
    }
   ],
   "source": [
    "# contando duplicatas claras\n",
    "df.duplicated().sum()"
   ]
  },
  {
   "cell_type": "markdown",
   "metadata": {
    "id": "Ot25h6XR_Zct"
   },
   "source": [
    "Chame o método `pandas` para se livrar das duplicatas óbvias:"
   ]
  },
  {
   "cell_type": "code",
   "execution_count": 13,
   "metadata": {
    "id": "exFHq6tt_Zct"
   },
   "outputs": [],
   "source": [
    "# removendo duplicatas óbvias\n",
    "\n",
    "df = df.drop_duplicates().reset_index(drop = True)\n"
   ]
  },
  {
   "cell_type": "markdown",
   "metadata": {
    "id": "Im2YwBEG_Zct"
   },
   "source": [
    "Conte as duplicatas óbvias mais uma vez certifique-se que você removeu todas elas:"
   ]
  },
  {
   "cell_type": "markdown",
   "metadata": {
    "id": "QlFBsxAr_Zct"
   },
   "source": [
    "Agora, livre-se das duplicatas implícitas na coluna genre. Por exemplo, o nome de um gênero pode ser escrito de maneiras diferentes. Alguns erros afetarão também o resultado."
   ]
  },
  {
   "cell_type": "markdown",
   "metadata": {
    "id": "eSjWwsOh_Zct"
   },
   "source": [
    "Exiba a lista de nomes de gêneros únicos, organizados em ordem alfabética. Para fazer isso:\n",
    "* Recupere o DataFrame da coluna pretendida \n",
    "* Aplique um método de escolha para isso\n",
    "* Para a coluna selecionada, chame o método que irá retornar todos os valores únicos das colunas"
   ]
  },
  {
   "cell_type": "code",
   "execution_count": 14,
   "metadata": {},
   "outputs": [
    {
     "name": "stdout",
     "output_type": "stream",
     "text": [
      "['rock' 'pop' 'folk' 'dance' 'rusrap' 'ruspop' 'world' 'electronic'\n",
      " 'alternative' 'children' 'rnb' 'hip' 'jazz' 'postrock' 'latin'\n",
      " 'classical' 'metal' 'reggae' 'triphop' 'blues' 'instrumental' 'rusrock'\n",
      " 'dnb' 'türk' 'post' 'country' 'psychedelic' 'conjazz' 'indie'\n",
      " 'posthardcore' 'local' 'avantgarde' 'punk' 'videogame' 'techno' 'house'\n",
      " 'christmas' 'melodic' 'caucasian' 'reggaeton' 'soundtrack' 'singer' 'ska'\n",
      " 'salsa' 'ambient' 'film' 'western' 'rap' 'beats' \"hard'n'heavy\"\n",
      " 'progmetal' 'minimal' 'tropical' 'contemporary' 'new' 'soul' 'holiday'\n",
      " 'german' 'jpop' 'spiritual' 'urban' 'gospel' 'nujazz' 'folkmetal'\n",
      " 'trance' 'miscellaneous' 'anime' 'hardcore' 'progressive' 'korean'\n",
      " 'numetal' 'vocal' 'estrada' 'tango' 'loungeelectronic' 'classicmetal'\n",
      " 'dubstep' 'club' 'deep' 'southern' 'black' 'folkrock' 'fitness' 'french'\n",
      " 'disco' 'religious' 'hiphop' 'drum' 'extrememetal' 'türkçe'\n",
      " 'experimental' 'easy' 'metalcore' 'modern' 'argentinetango' 'old' 'swing'\n",
      " 'breaks' 'eurofolk' 'stonerrock' 'industrial' 'funk' 'middle' 'variété'\n",
      " 'other' 'adult' 'christian' 'thrash' 'gothic' 'international' 'muslim'\n",
      " 'relax' 'schlager' 'caribbean' 'nu' 'breakbeat' 'comedy' 'chill' 'newage'\n",
      " 'specialty' 'uzbek' 'k-pop' 'balkan' 'chinese' 'meditative' 'dub' 'power'\n",
      " 'death' 'grime' 'arabesk' 'romance' 'flamenco' 'leftfield' 'european'\n",
      " 'tech' 'newwave' 'dancehall' 'mpb' 'piano' 'top' 'bigroom' 'opera'\n",
      " 'celtic' 'tradjazz' 'acoustic' 'epicmetal' 'hip-hop' 'historisch'\n",
      " 'downbeat' 'downtempo' 'africa' 'audiobook' 'jewish' 'sängerportrait'\n",
      " 'deutschrock' 'eastern' 'action' 'future' 'electropop' 'folklore'\n",
      " 'bollywood' 'marschmusik' 'rnr' 'karaoke' 'indian' 'rancheras'\n",
      " 'afrikaans' 'rhythm' 'sound' 'deutschspr' 'trip' 'lovers' 'choral'\n",
      " 'dancepop' 'retro' 'smooth' 'mexican' 'brazilian' 'ïîï' 'mood' 'surf'\n",
      " 'gangsta' 'inspirational' 'idm' 'ethnic' 'bluegrass' 'broadway'\n",
      " 'animated' 'americana' 'karadeniz' 'rockabilly' 'colombian' 'self' 'hop'\n",
      " 'sertanejo' 'japanese' 'canzone' 'lounge' 'sport' 'ragga' 'traditional'\n",
      " 'gitarre' 'frankreich' 'emo' 'laiko' 'cantopop' 'glitch' 'documentary'\n",
      " 'oceania' 'popeurodance' 'dark' 'vi' 'grunge' 'hardstyle' 'samba'\n",
      " 'garage' 'art' 'folktronica' 'entehno' 'mediterranean' 'chamber' 'cuban'\n",
      " 'taraftar' 'gypsy' 'hardtechno' 'shoegazing' 'bossa' 'latino' 'worldbeat'\n",
      " 'malaysian' 'baile' 'ghazal' 'arabic' 'popelectronic' 'acid' 'kayokyoku'\n",
      " 'neoklassik' 'tribal' 'tanzorchester' 'native' 'independent' 'cantautori'\n",
      " 'handsup' 'punjabi' 'synthpop' 'rave' 'französisch' 'quebecois' 'speech'\n",
      " 'soulful' 'jam' 'ram' 'horror' 'orchestral' 'neue' 'roots' 'slow'\n",
      " 'jungle' 'indipop' 'axé' 'fado' 'showtunes' 'arena' 'irish' 'mandopop'\n",
      " 'forró' 'dirty' 'regional']\n"
     ]
    }
   ],
   "source": [
    "genre_list = df[\"genre\"].unique()\n",
    "print(genre_list)"
   ]
  },
  {
   "cell_type": "markdown",
   "metadata": {},
   "source": [
    "<div class=\"alert alert-block alert-success\">\n",
    "<b> Comentário do revisor: </b> <a class=\"tocSkip\"></a>\n",
    "\n",
    "Correto. Porém, vocẽ devia ter usado também sorted()\n",
    "</div>\n"
   ]
  },
  {
   "cell_type": "code",
   "execution_count": 15,
   "metadata": {},
   "outputs": [],
   "source": [
    "# ** Precisamos procura informacoes a respeito de quantos nomes possuem a lista.\n",
    "\n",
    "def find_genre(genre):\n",
    "    counter = 0\n",
    "    \n",
    "    for genre in genre_list:\n",
    "        if genre == genre:\n",
    "            counter += 1\n",
    "    \n",
    "    return counter\n"
   ]
  },
  {
   "cell_type": "code",
   "execution_count": 16,
   "metadata": {},
   "outputs": [
    {
     "name": "stdout",
     "output_type": "stream",
     "text": [
      "268\n"
     ]
    }
   ],
   "source": [
    "print(find_genre(('hip', 'hip-hop', 'hop')))"
   ]
  },
  {
   "cell_type": "code",
   "execution_count": 17,
   "metadata": {
    "id": "JIUcqzZN_Zct",
    "scrolled": false
   },
   "outputs": [
    {
     "name": "stdout",
     "output_type": "stream",
     "text": [
      "pop            8323\n",
      "dance          6367\n",
      "rock           5844\n",
      "electronic     5522\n",
      "hip            2975\n",
      "               ... \n",
      "französisch       1\n",
      "horror            1\n",
      "showtunes         1\n",
      "top               1\n",
      "metalcore         1\n",
      "Name: genre, Length: 268, dtype: int64\n"
     ]
    }
   ],
   "source": [
    "# visualizando nomes de gêneros únicos\n",
    "genre_list = df[\"genre\"].value_counts(dropna = False)\n",
    "\n",
    "print(genre_list)"
   ]
  },
  {
   "cell_type": "markdown",
   "metadata": {
    "id": "qej-Qmuo_Zct"
   },
   "source": [
    "Olhe a lista e encontre duplicatas implícitas do gênero `hiphop`. Esses podem ser nomes escritos incorretamente, ou nomes alternativos para o mesmo gênero.\n",
    "\n",
    "Você verá as seguintes duplicatas implícitas:\n",
    "* `hip`\n",
    "* `hop`\n",
    "* `hip-hop`\n",
    "\n",
    "Para se livrar deles, declare a função `replace_wrong_genres()` com dois parâmetros: \n",
    "* `wrong_genres=` — a lista de duplicatas\n",
    "* `correct_genre=` — a string com o valor correto\n",
    "\n",
    "A função deve corrigir os nomes na coluna `'genre'` da tabela `df` isto é, substituindo cada valor da lista `wrong_genres` por valores de `correct_genre`."
   ]
  },
  {
   "cell_type": "markdown",
   "metadata": {
    "id": "zQKF16_RG15m"
   },
   "source": [
    "Certifique-se que os nomes duplicados foram removidos. Exiba a lista de valores únicos da coluna `'genre'`:"
   ]
  },
  {
   "cell_type": "code",
   "execution_count": 18,
   "metadata": {},
   "outputs": [],
   "source": [
    "def replace_wrong_genres(df, wrong):\n",
    "    df['genre'] = df['genre'].replace(wrong, 'hiphop')\n",
    "    "
   ]
  },
  {
   "cell_type": "code",
   "execution_count": 19,
   "metadata": {},
   "outputs": [
    {
     "name": "stdout",
     "output_type": "stream",
     "text": [
      "<class 'pandas.core.frame.DataFrame'>\n",
      "RangeIndex: 60126 entries, 0 to 60125\n",
      "Data columns (total 7 columns):\n",
      " #   Column   Non-Null Count  Dtype \n",
      "---  ------   --------------  ----- \n",
      " 0   user_id  60126 non-null  object\n",
      " 1   track    60126 non-null  object\n",
      " 2   artist   60126 non-null  object\n",
      " 3   genre    60126 non-null  object\n",
      " 4   city     60126 non-null  object\n",
      " 5   time     60126 non-null  object\n",
      " 6   day      60126 non-null  object\n",
      "dtypes: object(7)\n",
      "memory usage: 3.2+ MB\n"
     ]
    }
   ],
   "source": [
    "df.info()\n"
   ]
  },
  {
   "cell_type": "markdown",
   "metadata": {
    "id": "ALgNbvF3VtPA"
   },
   "source": [
    "[Voltar ao Índice](#back)"
   ]
  },
  {
   "cell_type": "markdown",
   "metadata": {
    "id": "jz6a9-7HQUDd"
   },
   "source": [
    "### Conclusões <a id='data_preprocessing_conclusions'></a>\n",
    "Nós detectamos três problemas com os dados:\n",
    "\n",
    "- Estilo de cabeçalho incorreto\n",
    "- Valores ausentes\n",
    "- Duplicatas óbvias e implícitas\n",
    "\n",
    "O cabeçalho foi limpo para fazer o processamento da tabela mais simples.\n",
    "\n",
    "Todos os valores ausentes foram substituídos por `'unknown'`. Mas nós ainda temos que ver os se valores ausentes em `'genre'` afetará os nossos cálculos.\n",
    "\n",
    "A ausência de duplicatas deixará os resultados mais precisos e mais fáceis de entender.\n",
    "\n",
    "Agora você pode seguir para testar hipóteses."
   ]
  },
  {
   "cell_type": "markdown",
   "metadata": {
    "id": "eK1es74rVujj"
   },
   "source": [
    "[Voltar ao Índice](#back)"
   ]
  },
  {
   "cell_type": "markdown",
   "metadata": {
    "id": "WttZHXH0SqKk"
   },
   "source": [
    "## Etapa 3. Testando hipóteses <a id='hypotheses'></a>"
   ]
  },
  {
   "cell_type": "markdown",
   "metadata": {
    "id": "Im936VVi_Zcu"
   },
   "source": [
    "### Hipótese 1: comparando o comportamento dos usuários em duas cidades <a id='activity'></a>"
   ]
  },
  {
   "cell_type": "markdown",
   "metadata": {
    "id": "nwt_MuaL_Zcu"
   },
   "source": [
    "De acordo com a primeira hipótese, usuários de Springfield and Shelbyville escutam música de forma diferente. Teste essa hipótese usando os dados de três dias da semana: segunda-feira, quarta-feira, e sexta-feira.\n",
    "\n",
    "* Divida os usuários de cada cidade em grupos.\n",
    "* Compare quantas músicas cada grupo escutou na segunda-feira, quarta-feira e sexta-feira.\n"
   ]
  },
  {
   "cell_type": "markdown",
   "metadata": {
    "id": "8Dw_YMmT_Zcu"
   },
   "source": [
    "Por uma questão de prática, faça cada um desses cálculos separadamente. \n",
    "\n",
    "Avalie a atividade do usuário em cada cidade. Agrupe os dados por cidade e encontre o número de músicas tocadas em cada grupo.\n",
    "\n"
   ]
  },
  {
   "cell_type": "code",
   "execution_count": 20,
   "metadata": {
    "id": "0_Qs96oh_Zcu"
   },
   "outputs": [
    {
     "data": {
      "text/plain": [
       "city\n",
       "Shelbyville    18234\n",
       "Springfield    41892\n",
       "Name: genre, dtype: int64"
      ]
     },
     "execution_count": 20,
     "metadata": {},
     "output_type": "execute_result"
    }
   ],
   "source": [
    "# Contando as músicas tocadas em cada cidade\n",
    "df.groupby('city')['genre'].count()"
   ]
  },
  {
   "cell_type": "markdown",
   "metadata": {
    "id": "dzli3w8o_Zcu"
   },
   "source": [
    "Springfield tem mais músicas tocadas do que Shelbyville. Mas isso não quer dizer que os cidadãos de Springfield escutam música com mais frequência. Essa cidade é somente maior, e tem mais usuários.\n",
    "\n",
    "Agora agrupe os dados por dia da semana e encontre a quantidade de músicas tocadas na segunda, quarta e sexta-feira.\n"
   ]
  },
  {
   "cell_type": "code",
   "execution_count": 21,
   "metadata": {
    "id": "uZMKjiJz_Zcu"
   },
   "outputs": [
    {
     "data": {
      "text/plain": [
       "day\n",
       "Friday       21482\n",
       "Monday       20866\n",
       "Wednesday    17778\n",
       "Name: genre, dtype: int64"
      ]
     },
     "execution_count": 21,
     "metadata": {},
     "output_type": "execute_result"
    }
   ],
   "source": [
    "# Calculando as músicas escutadas em cada um desses três dias\n",
    "df.groupby('day')['genre'].count()"
   ]
  },
  {
   "cell_type": "markdown",
   "metadata": {},
   "source": [
    "<div class=\"alert alert-block alert-success\">\n",
    "<b> Comentário do revisor: </b> <a class=\"tocSkip\"></a>\n",
    "\n",
    "Correto.\n",
    "</div>\n"
   ]
  },
  {
   "cell_type": "markdown",
   "metadata": {
    "id": "cC2tNrlL_Zcu"
   },
   "source": [
    "Quarta-feira é o dia mais calmo em geral. Mas se considerarmos as duas cidades separadamente, devemos chegar a uma conclusão diferente."
   ]
  },
  {
   "cell_type": "markdown",
   "metadata": {
    "id": "POzs8bGa_Zcu"
   },
   "source": [
    "Você viu como agrupar por cidade ou dia da semana funciona. Agora escreva a função que agrupar os dados pelos dois critérios.\n",
    "\n",
    "Crie a função `number_tracks()` para calcular o número de músicas tocadas em um determinado dia da semana e em cada cidade. Será necessários dois parâmetros:\n",
    "* dia da semana\n",
    "* nome da cidade\n",
    "\n",
    "Na função, use a variável para armazenar as linhas da tabela original, onde:\n",
    "  * `'day'` o valor da coluna `day` é igual ao parâmetro dia\n",
    "  * `'city'` o valor da coluna `city` é igual ao parâmetro cidade\n",
    "\n",
    "Aplique filtros consecutivos com indexação lógica.\n",
    "\n",
    "Depois, calcule os valores da coluna `'user_id'` na tabela resultante. Armazene o resultado na nova variável. Retorne essa variável da função."
   ]
  },
  {
   "cell_type": "code",
   "execution_count": 22,
   "metadata": {},
   "outputs": [],
   "source": [
    "def number_tracks(df,day, city):\n",
    "    track_list = df[(df['day'] == day) &(df['city'] == city)]\n",
    "    track_list_count = track_list['genre'].count() \n",
    "    return track_list_count\n"
   ]
  },
  {
   "cell_type": "code",
   "execution_count": 23,
   "metadata": {
    "id": "Nz3GdQB1_Zcu"
   },
   "outputs": [],
   "source": [
    "# <criando a função number_tracks()>\n",
    "# vamos declarar a função com dois parâmetros: day=, city=.\n",
    "# Deixe a variável track_list armazenar as linha df onde\n",
    "# o valor na coluna 'day' é igual ao parâmetro day= e ao mesmo tempo, \n",
    "# o valor na coluna 'city' é igual ao parâmetro city= (aplique filtragem consecutiva \n",
    "# com indexação lógica).\n",
    "# Deixe a variável track_list_count armazenar o número de valores da coluna 'user_id' em track_list\n",
    "# (encontre com o método count())\n",
    "\n",
    "# Deixe a função retornar um número: o valor de track_list_count.\n",
    "\n",
    "# A função conta músicas tocadas por uma certa cidade e dia.\n",
    "# primeiro retorne as linhas com o dia pretendido da tabela,\n",
    "# depois filtre as linhas com a cidade pretendida a parir do resultado,\n",
    "# depois encontre o número de valores de 'user_id' na tabela filtrada,\n",
    "# então retorne aquele número.\n",
    "# Para o que ele retorna, envolva a função call em print()."
   ]
  },
  {
   "cell_type": "markdown",
   "metadata": {
    "id": "ytf7xFrFJQ2r"
   },
   "source": [
    "Chame a `number_tracks()` seis vezes, mudando os valores dos parâmetros, para que você recupere os dados de ambas as cidades para os três dias."
   ]
  },
  {
   "cell_type": "code",
   "execution_count": 24,
   "metadata": {
    "id": "rJcRATNQ_Zcu"
   },
   "outputs": [
    {
     "data": {
      "text/plain": [
       "15347"
      ]
     },
     "execution_count": 24,
     "metadata": {},
     "output_type": "execute_result"
    }
   ],
   "source": [
    "# a quantidade de músicas tocadas em Springfield na segunda-feira\n",
    "day_m = 'Monday'\n",
    "city_sp = 'Springfield'\n",
    "number_tracks(df, day_m, city_sp)\n"
   ]
  },
  {
   "cell_type": "code",
   "execution_count": 25,
   "metadata": {
    "id": "hq_ncZ5T_Zcu"
   },
   "outputs": [
    {
     "data": {
      "text/plain": [
       "5519"
      ]
     },
     "execution_count": 25,
     "metadata": {},
     "output_type": "execute_result"
    }
   ],
   "source": [
    "# a quantidade de músicas tocadas em Shelbyville na segunda-feira\n",
    "day_m = 'Monday'\n",
    "city_sh = 'Shelbyville'\n",
    "number_tracks(df, day_m, city_sh)"
   ]
  },
  {
   "cell_type": "code",
   "execution_count": 26,
   "metadata": {
    "id": "_NTy2VPU_Zcu"
   },
   "outputs": [
    {
     "data": {
      "text/plain": [
       "10865"
      ]
     },
     "execution_count": 26,
     "metadata": {},
     "output_type": "execute_result"
    }
   ],
   "source": [
    "# a quantidade de músicas tocadas em Springfield na quarta-feira\n",
    "day_w = 'Wednesday'\n",
    "city_sp = 'Springfield'\n",
    "number_tracks(df, day_w , city_sp)"
   ]
  },
  {
   "cell_type": "code",
   "execution_count": 27,
   "metadata": {
    "id": "j2y3TAwo_Zcu"
   },
   "outputs": [
    {
     "data": {
      "text/plain": [
       "6913"
      ]
     },
     "execution_count": 27,
     "metadata": {},
     "output_type": "execute_result"
    }
   ],
   "source": [
    "# a quantidade de músicas tocadas em Shelbyville na quarta-feira\n",
    "day_w  = 'Wednesday'\n",
    "city_sh = 'Shelbyville'\n",
    "number_tracks(df, day_w , city_sh)"
   ]
  },
  {
   "cell_type": "code",
   "execution_count": 28,
   "metadata": {
    "id": "vYDw5u_K_Zcu"
   },
   "outputs": [
    {
     "data": {
      "text/plain": [
       "15680"
      ]
     },
     "execution_count": 28,
     "metadata": {},
     "output_type": "execute_result"
    }
   ],
   "source": [
    "# a quantidade de músicas tocadas em Springfield na sexta-feira\n",
    "day_f = 'Friday'\n",
    "city_sp = 'Springfield'\n",
    "number_tracks(df, day_f, city_sp)"
   ]
  },
  {
   "cell_type": "code",
   "execution_count": 29,
   "metadata": {
    "id": "8_yzFtW3_Zcu"
   },
   "outputs": [
    {
     "data": {
      "text/plain": [
       "5802"
      ]
     },
     "execution_count": 29,
     "metadata": {},
     "output_type": "execute_result"
    }
   ],
   "source": [
    "# a quantidade de músicas tocadas em Shelbyville na sexta-feira\n",
    "day_f = 'Friday'\n",
    "city_sh = 'Shelbyville'\n",
    "number_tracks(df, day_f, city_sh)"
   ]
  },
  {
   "cell_type": "markdown",
   "metadata": {
    "id": "7QXffbO-_Zcu"
   },
   "source": [
    "Use `pd.DataFrame` para criar uma tabela, onde\n",
    "* Os nomes das colunas são: `['city', 'monday', 'wednesday', 'friday']`\n",
    "\n",
    "* Os dados são o resultado que você recebe de `number_tracks()`"
   ]
  },
  {
   "cell_type": "code",
   "execution_count": 30,
   "metadata": {
    "id": "APAcLpOr_Zcu"
   },
   "outputs": [],
   "source": [
    "# tabela com resultados\n",
    "# Eu quero a cidade agrupada por DIA\n",
    "\n",
    "\n",
    "table_results = pd.DataFrame(data = [\n",
    "    ['Springfield',number_tracks(df, day_f, city_sp), number_tracks(df, day_w , city_sp), number_tracks(df, day_m, city_sp)],\n",
    "    ['Shelbyville', number_tracks(df, day_f, city_sh), number_tracks(df, day_w , city_sh), number_tracks(df, day_m, city_sh)]\n",
    "], columns =['city', 'Friday', 'Wednesday','Monday'])"
   ]
  },
  {
   "cell_type": "code",
   "execution_count": 31,
   "metadata": {},
   "outputs": [
    {
     "data": {
      "text/html": [
       "<div>\n",
       "<style scoped>\n",
       "    .dataframe tbody tr th:only-of-type {\n",
       "        vertical-align: middle;\n",
       "    }\n",
       "\n",
       "    .dataframe tbody tr th {\n",
       "        vertical-align: top;\n",
       "    }\n",
       "\n",
       "    .dataframe thead th {\n",
       "        text-align: right;\n",
       "    }\n",
       "</style>\n",
       "<table border=\"1\" class=\"dataframe\">\n",
       "  <thead>\n",
       "    <tr style=\"text-align: right;\">\n",
       "      <th></th>\n",
       "      <th>city</th>\n",
       "      <th>Friday</th>\n",
       "      <th>Wednesday</th>\n",
       "      <th>Monday</th>\n",
       "    </tr>\n",
       "  </thead>\n",
       "  <tbody>\n",
       "    <tr>\n",
       "      <th>0</th>\n",
       "      <td>Springfield</td>\n",
       "      <td>15680</td>\n",
       "      <td>10865</td>\n",
       "      <td>15347</td>\n",
       "    </tr>\n",
       "    <tr>\n",
       "      <th>1</th>\n",
       "      <td>Shelbyville</td>\n",
       "      <td>5802</td>\n",
       "      <td>6913</td>\n",
       "      <td>5519</td>\n",
       "    </tr>\n",
       "  </tbody>\n",
       "</table>\n",
       "</div>"
      ],
      "text/plain": [
       "          city  Friday  Wednesday  Monday\n",
       "0  Springfield   15680      10865   15347\n",
       "1  Shelbyville    5802       6913    5519"
      ]
     },
     "execution_count": 31,
     "metadata": {},
     "output_type": "execute_result"
    }
   ],
   "source": [
    "table_results"
   ]
  },
  {
   "cell_type": "markdown",
   "metadata": {
    "id": "-EgPIHYu_Zcu"
   },
   "source": [
    "**Conclusões**\n",
    "\n",
    "Os dados revelam diferenças no comportamento dos usuários:\n",
    "\n",
    "- Em Springfield, a quantidade de músicas tocadas tem seu auge nas segundas e sextas-feiras, enquanto na quarta-feira há uma diminuição na atividade.\n",
    "- Em Shelbyville, ao contrário, usuários escutam mais música na quarta-feira. A atividade na segunda e sexta-feira é pequena.\n",
    "\n",
    "Então a primeira hipótese parece ser correta."
   ]
  },
  {
   "cell_type": "markdown",
   "metadata": {
    "id": "p7nFQajCVw5B"
   },
   "source": [
    "[Voltar ao Índice](#back)"
   ]
  },
  {
   "cell_type": "markdown",
   "metadata": {
    "id": "atZAxtq4_Zcu"
   },
   "source": [
    "### Hipótese 2: música no começo e no fim da semana <a id='week'></a>"
   ]
  },
  {
   "cell_type": "markdown",
   "metadata": {
    "id": "eXrQqXFH_Zcu"
   },
   "source": [
    "De acordo com a segunda hipótese, na segunda-feira de manhã e sexta-feira à noite, habitantes de Springfield escutam gêneros que diferem de alguns usuários de Shelbyville gostam."
   ]
  },
  {
   "cell_type": "markdown",
   "metadata": {
    "id": "S8UcW6Hw_Zcu"
   },
   "source": [
    "Obtenha uma tabela (certifique-se de que o nome da sua tabela combinada corresponda ao DataFrame dado em dois blocos de código abaixo):\n",
    "* Para Springfield — `spr_general`\n",
    "* Para Shelbyville — `shel_general`"
   ]
  },
  {
   "cell_type": "code",
   "execution_count": 32,
   "metadata": {
    "id": "qeaFfM_P_Zcu"
   },
   "outputs": [],
   "source": [
    "# obtendo a tabela spr_general a partir das linhas df, \n",
    "# onde o valor na coluna 'city' é 'Springfield'\n",
    "spr_general = df[df['city'] == 'Springfield']\n",
    "\n",
    "\n"
   ]
  },
  {
   "cell_type": "code",
   "execution_count": 33,
   "metadata": {
    "id": "ORaVRKto_Zcu"
   },
   "outputs": [],
   "source": [
    "# obtendo os shel_general a partir das linhas df,\n",
    "# onde os valores na coluna 'city' é 'Shelbyville'\n",
    "she_general = df[df['city'] == 'Shelbyville']\n"
   ]
  },
  {
   "cell_type": "markdown",
   "metadata": {
    "id": "MEJV-CX2_Zcu"
   },
   "source": [
    "Escreva a função `genre_weekday()` com quatro parâmetros:\n",
    "* Uma tabela para dados (`df`)\n",
    "* O dia da semana (`day`)\n",
    "* O primeiro carimbo de hora, no formato 'HH:MM' (`time1`)\n",
    "* O último carimbo de hora, no formato 'HH,MM' (`time2`)\n",
    "\n",
    "A função deve retornar informações sobre os 15 gêneros mais populares em um determinado dia, dentro do período entre os dois carimbos de hora."
   ]
  },
  {
   "cell_type": "code",
   "execution_count": 34,
   "metadata": {},
   "outputs": [
    {
     "name": "stdout",
     "output_type": "stream",
     "text": [
      "<class 'pandas.core.frame.DataFrame'>\n",
      "RangeIndex: 60126 entries, 0 to 60125\n",
      "Data columns (total 7 columns):\n",
      " #   Column   Non-Null Count  Dtype \n",
      "---  ------   --------------  ----- \n",
      " 0   user_id  60126 non-null  object\n",
      " 1   track    60126 non-null  object\n",
      " 2   artist   60126 non-null  object\n",
      " 3   genre    60126 non-null  object\n",
      " 4   city     60126 non-null  object\n",
      " 5   time     60126 non-null  object\n",
      " 6   day      60126 non-null  object\n",
      "dtypes: object(7)\n",
      "memory usage: 3.2+ MB\n"
     ]
    }
   ],
   "source": [
    "df.info()"
   ]
  },
  {
   "cell_type": "code",
   "execution_count": 35,
   "metadata": {},
   "outputs": [],
   "source": [
    "def genre_weekday(df, day, time1, time2):\n",
    "   #1\n",
    "    genre_df = df[(df['day'] == day) \n",
    "                  & (df['time'] > time1) \n",
    "                  & (df['time'] < time2)]\n",
    "    \n",
    "    #2 #3 #4\n",
    "    genre_df_sorted = genre_df.groupby('genre')['genre'].count().sort_values(ascending = False)\n",
    "    return (genre_df_sorted[:15])"
   ]
  },
  {
   "cell_type": "raw",
   "metadata": {
    "id": "laJT9BYl_Zcu",
    "raw_mimetype": "text/x-python",
    "slideshow": {
     "slide_type": "-"
    }
   },
   "source": [
    "# Declarando a função genre_weekday() com os parâmetros day=, time1=, e time2=. It should\n",
    "# retornar a informação sobre os gêneros mais populares em um determinado dia em um período específico:\n",
    "\n",
    "# 1) Deixe a variável genre_df armazenar as linhas que satisfazem várias condições:\n",
    "#    - o valor na coluna 'day' é igual ao valor do argumento day=\n",
    "#    - o valor na coluna 'time' é maior do que o valor do argumento time1=\n",
    "#    - o valor na coluna 'time' é menor do que o valor do argumento time2=\n",
    "#    Use filtros consecutivos com indexação lógica.\n",
    "\n",
    "# 2) Agrupe genre_df pela coluna 'genre', pegue uma das suas colunas, \n",
    "#    e use o método count() para encontrar a quantidade de entradas para entradas de cada um dos \n",
    "#    representantes de gênero; armazene o objeto Series resultante na\n",
    "#    variável genre_df_count\n",
    "\n",
    "# 3) Organize genre_df_count em ordem decrescente de frequência e armazene o resultado\n",
    "#    para a variável genre_df_sorted\n",
    "\n",
    "# 4) Retorne um objeto Series com os primeiros 15 valores genre_df_sorted - os 15 maiores\n",
    "#    generos populares (em um determinado dia, dentro de um certo intervalo de tempo)\n",
    "\n",
    "# Escreva a sua função aqui\n",
    "def genre_weekday(df, day, time1, time2):\n",
    "    # filtragem consecutiva\n",
    "    # genre_df armazenará apenas as linhas df onde o dia é igual a day=\n",
    "    genre_df =  df[(df['day']== day)]\n",
    "\n",
    "    # genre_df armazenará apenas aslinhas df que o tempo é menor do que time2=\n",
    "    genre_df = df[(df['time' < time2])]\n",
    "    # genre_df armazenará apenas as linhas onde onde o tempo é maior do que time1=\n",
    "    genre_df = df[(df['time' > time1])]\n",
    "\n",
    "    # agrupe o DataFrame filtrado pela coluna com nomes dos gêneros, pegue a coluna gênero, e encontre o número de linhas para cada gênero com o método count()\n",
    "    genre_df_grouped = # escreva o seu código aqui\n",
    "\n",
    "    # nós vamos armazenar o resultado em ordem decrescente (para que os gêneros mais populares venham primeiro no objeto Series)\n",
    "    genre_df_sorted = # escreva o seu código aqui\n",
    "    \n",
    "    # nós vamos retornar o objeto Serie armazenando os 15 gêneros mais populares em um determinado dia, dentro de um determinado intervalo de tempo\n",
    "    return genre_df_sorted[:15]"
   ]
  },
  {
   "cell_type": "markdown",
   "metadata": {
    "id": "la2s2_PF_Zcu"
   },
   "source": [
    "Compare os resultados da função `genre_weekday()` para Springfield e Shelbyville na segunda-feira de manhã (de 7hs à 11hs) e na sexta-feira de tarde (das 17hs às 23hs):"
   ]
  },
  {
   "cell_type": "code",
   "execution_count": 36,
   "metadata": {
    "id": "yz7itPUQ_Zcu"
   },
   "outputs": [
    {
     "data": {
      "text/plain": [
       "genre\n",
       "pop            781\n",
       "dance          549\n",
       "electronic     480\n",
       "rock           474\n",
       "hip            281\n",
       "ruspop         186\n",
       "world          181\n",
       "rusrap         175\n",
       "alternative    164\n",
       "classical      157\n",
       "metal          120\n",
       "jazz           100\n",
       "folk            97\n",
       "soundtrack      95\n",
       "latin           79\n",
       "Name: genre, dtype: int64"
      ]
     },
     "execution_count": 36,
     "metadata": {},
     "output_type": "execute_result"
    }
   ],
   "source": [
    "# chamando a função para segunda-feira de manha em Springfield (use spr_general em vez de df table)\n",
    "genre_weekday(spr_general, 'Monday','07:00:00', '11:00:00')"
   ]
  },
  {
   "cell_type": "code",
   "execution_count": 38,
   "metadata": {
    "id": "kwUcHPdy_Zcu"
   },
   "outputs": [
    {
     "data": {
      "text/plain": [
       "genre\n",
       "pop            218\n",
       "dance          182\n",
       "rock           162\n",
       "electronic     147\n",
       "hip             79\n",
       "ruspop          64\n",
       "alternative     58\n",
       "rusrap          55\n",
       "jazz            44\n",
       "classical       40\n",
       "world           36\n",
       "rap             32\n",
       "soundtrack      31\n",
       "rnb             27\n",
       "metal           27\n",
       "Name: genre, dtype: int64"
      ]
     },
     "execution_count": 38,
     "metadata": {},
     "output_type": "execute_result"
    }
   ],
   "source": [
    "# chamando a função para segunda-feira de manhã em Shelbyville (use shel_general em vez de df table)\n",
    "genre_weekday(she_general, 'Monday','07:00:00', '11:00:00')"
   ]
  },
  {
   "cell_type": "code",
   "execution_count": 39,
   "metadata": {
    "id": "EzXVRE1o_Zcu"
   },
   "outputs": [
    {
     "data": {
      "text/plain": [
       "genre\n",
       "pop            713\n",
       "rock           517\n",
       "dance          495\n",
       "electronic     482\n",
       "hip            267\n",
       "world          208\n",
       "ruspop         170\n",
       "alternative    163\n",
       "classical      163\n",
       "rusrap         142\n",
       "jazz           111\n",
       "soundtrack     105\n",
       "rnb             90\n",
       "metal           88\n",
       "folk            83\n",
       "Name: genre, dtype: int64"
      ]
     },
     "execution_count": 39,
     "metadata": {},
     "output_type": "execute_result"
    }
   ],
   "source": [
    "# chamando a função para sexta-feira à tarde em Springfield\n",
    "genre_weekday(spr_general, 'Friday','17:00:00', '23:00:00')"
   ]
  },
  {
   "cell_type": "code",
   "execution_count": 40,
   "metadata": {
    "id": "JZaEKu5v_Zcu"
   },
   "outputs": [
    {
     "data": {
      "text/plain": [
       "genre\n",
       "pop            256\n",
       "electronic     216\n",
       "rock           216\n",
       "dance          210\n",
       "hip             94\n",
       "alternative     63\n",
       "jazz            61\n",
       "classical       60\n",
       "rusrap          59\n",
       "world           54\n",
       "ruspop          47\n",
       "soundtrack      40\n",
       "metal           39\n",
       "rap             36\n",
       "latin           35\n",
       "Name: genre, dtype: int64"
      ]
     },
     "execution_count": 40,
     "metadata": {},
     "output_type": "execute_result"
    }
   ],
   "source": [
    "# chamando a função para sexta-feira à tarde em Shelbyville\n",
    "genre_weekday(she_general, 'Friday','17:00:00', '23:00:00')"
   ]
  },
  {
   "cell_type": "markdown",
   "metadata": {
    "id": "wrCe4MNX_Zcu"
   },
   "source": [
    "**Conclusão**\n",
    "\n",
    "Tendo comparado os 15 gêneros mais ouvidos na segunda-feira de manhã, nós podemos tirar as seguintes conclusões:\n",
    "\n",
    "1. Usuários de Springfield e Shelbyville escutam músicas semelhantes. Os cinco gêneros mais ouvidos são os mesmos, apenas rock e música eletrônica trocaram de lugar.\n",
    "\n",
    "2. Em Springfield, a quantidade de valores ausentes acabaram por serem tantos que o valor `'unknown'` veio em 10º. Isso significa que valores ausentes tiveram uma considerável porção dos dados, que pode ser a base para questionamentos a confiabilidade das conclusões.\n",
    "\n",
    "Para sexta-feira à tarde, a situação é parecida. Gêneros individuais variam um pouco, mas no todo, os 15 gêneros mais ouvidos são parecidos para as duas cidades.\n",
    "\n",
    "Assim, a segunda hipótese foi parcialmente provada:\n",
    "* Usuários escutam gêneros musicais parecidos no começo e no fim da semana.\n",
    "* Não há grande diferença entre Springfield e Shelbyville. Nas duas cidades, pop é o gênero mais popular.\n",
    "\n",
    "No entanto, o número de valores ausentes faz esse resultado ser questionável. Em Springfield, há tantos que eles afetaram o top 15. Se não nos faltassem esses valores, as coisas poderiam ser diferentes."
   ]
  },
  {
   "cell_type": "markdown",
   "metadata": {
    "id": "jLmXgdanVyhP"
   },
   "source": [
    "[Voltar ao Índice](#back)"
   ]
  },
  {
   "cell_type": "markdown",
   "metadata": {
    "id": "JolODAqr_Zcu"
   },
   "source": [
    "### Hipótese 3: preferências em Springfield e Shelbyville <a id='genre'></a>\n",
    "\n",
    "Hipótese: Shelbyville ama rap. Cidadãos de Springfield curtem mais pop."
   ]
  },
  {
   "cell_type": "markdown",
   "metadata": {
    "id": "DlegSvaT_Zcu"
   },
   "source": [
    "Agrupe a tabela `spr_general` por gênero e encontre o número de músicas tocadas para cada gênero com o método `count()`. Depois organize o resultado em ordem decrescente e armazene-o em `spr_genres`."
   ]
  },
  {
   "cell_type": "code",
   "execution_count": 41,
   "metadata": {
    "id": "r19lIPke_Zcu"
   },
   "outputs": [],
   "source": [
    "# em uma linha: agrupe a tabela spr_general pela coluna 'genre', \n",
    "# conte os valores de 'genre' com count() no agrupamento, \n",
    "# organize o o objeto Series resultante em ordem decrescente, e armazene-o em spr_genres\n",
    "spr_genres = spr_general.groupby('genre')['genre'].count().sort_values(ascending = False)\n"
   ]
  },
  {
   "cell_type": "markdown",
   "metadata": {
    "id": "6kMuomxTiIr8"
   },
   "source": [
    "Exiba as primeiras 10 linhas de `spr_genres`:"
   ]
  },
  {
   "cell_type": "code",
   "execution_count": 42,
   "metadata": {
    "id": "WhCSooF8_Zcv"
   },
   "outputs": [
    {
     "data": {
      "text/plain": [
       "genre\n",
       "pop            5892\n",
       "dance          4435\n",
       "rock           3965\n",
       "electronic     3786\n",
       "hip            2041\n",
       "classical      1616\n",
       "world          1432\n",
       "alternative    1379\n",
       "ruspop         1372\n",
       "rusrap         1161\n",
       "Name: genre, dtype: int64"
      ]
     },
     "execution_count": 42,
     "metadata": {},
     "output_type": "execute_result"
    }
   ],
   "source": [
    "# exibindo as primeiras 10 linhas de spr_genres\n",
    "spr_genres.head(10)"
   ]
  },
  {
   "cell_type": "markdown",
   "metadata": {
    "id": "cnPG2vnN_Zcv"
   },
   "source": [
    "Agora faça o mesmo com os dados de Shelbyville.\n",
    "\n",
    "Agrupe a tabela `shel_general` por gênero e encontre o número de músicas tocadas de cada gênero. Depois organize o resultado em ordem decrescente e armazene-o na tabela `shel_genres`:\n"
   ]
  },
  {
   "cell_type": "code",
   "execution_count": 45,
   "metadata": {
    "id": "gluLIpE7_Zcv"
   },
   "outputs": [],
   "source": [
    "# na linha um: agrupe a tabela shel_general pela coluna 'genre', \n",
    "# conte os valores 'genre' no agrupamento com count(), \n",
    "# organize a o objeto Series resultante em ordem decrescente e armazene-o em shel_genres\n",
    "shel_genres = she_general.groupby('genre')['genre'].count().sort_values(ascending = False)\n"
   ]
  },
  {
   "cell_type": "markdown",
   "metadata": {
    "id": "5Doha_ODgyQ8"
   },
   "source": [
    "Exiba as 10 primeiras linhas de `shel_genres`:"
   ]
  },
  {
   "cell_type": "code",
   "execution_count": 46,
   "metadata": {
    "id": "uaGJHjVU_Zcv"
   },
   "outputs": [
    {
     "data": {
      "text/plain": [
       "genre\n",
       "pop            2431\n",
       "dance          1932\n",
       "rock           1879\n",
       "electronic     1736\n",
       "hip             934\n",
       "alternative     649\n",
       "classical       646\n",
       "rusrap          564\n",
       "ruspop          538\n",
       "world           515\n",
       "Name: genre, dtype: int64"
      ]
     },
     "execution_count": 46,
     "metadata": {},
     "output_type": "execute_result"
    }
   ],
   "source": [
    "# exibindo as 10 primeiras linhas de shel_genres\n",
    "shel_genres.head(10)"
   ]
  },
  {
   "cell_type": "markdown",
   "metadata": {
    "id": "RY51YJYu_Zcv"
   },
   "source": [
    "**Conclusão**"
   ]
  },
  {
   "cell_type": "markdown",
   "metadata": {
    "id": "nVhnJEm__Zcv"
   },
   "source": [
    "A hipótese foi parcialmente provada:\n",
    "* Música pop é o gênero mais em Springfield, como esperado.\n",
    "* Entretanto, música pop acabou por ser igualmente popular em Springfield e Shelbyville, e rap não estava no top 5 em nenhuma cidade.\n"
   ]
  },
  {
   "cell_type": "markdown",
   "metadata": {
    "id": "Byr0RfpPVz14"
   },
   "source": [
    "[Voltar ao Índice](#back)"
   ]
  },
  {
   "cell_type": "markdown",
   "metadata": {
    "id": "ykKQ0N65_Zcv"
   },
   "source": [
    "# Conclusões <a id='end'></a>"
   ]
  },
  {
   "cell_type": "markdown",
   "metadata": {
    "id": "tjUwbHb3_Zcv"
   },
   "source": [
    "Nós testamos as três hipóteses seguintes:\n",
    "\n",
    "1. A atividade do usuário varia dependendo do dia da semana e da cidade. \n",
    "2. Nas segundas-feiras de manhã, os habitantes de Springfield e Shelbyville escutam diferentes gêneros. Isso também é verdadeiro para noites de sexta-feira. \n",
    "3. Ouvintes de Springfield e Shelbyville têm preferências diferentes. Tanto em Springfield como Shellbyville, eles preferem pop.\n",
    "\n",
    "Depois de analisar os dados, nós concluímos:\n",
    "\n",
    "1. A atividade do usuário em Springfield e Shelbyville depende do dia da semana, embora as cidades variam de formas diferentes. \n",
    "\n",
    "A primeira hipótese é totalmente aceita.\n",
    "\n",
    "2. As preferências musicais não variam significativamente ao decorrer da semana tanto em Springfield como em Shelbyville. Nós podemos ver pequenas diferenças na ordem nas segundas-feiras, mas:\n",
    "* Em Springfield e Shelbyville, as pessoas escutam mais música pop.\n",
    "\n",
    "Então nós podemos aceitar essa hipótese. Nós devemos também ter em mente que o resultado pode ter sido diferente se não fosse pelos valores ausentes.\n",
    "\n",
    "3. Acontece que preferências musicais dos usuários de Springfield e Shelbyville são bastante parecidas.\n",
    "\n",
    "A terceira hipótese foi rejeitada. Se há alguma diferença nas preferências, ela não pode ser vista nesses dados.\n",
    "\n",
    "### Observação \n",
    "Em projetos reais, pesquisas envolvendo teste estatístico de hipóteses, que é mais preciso e mais quantitativo. Também perceba que você não pode sempre tirar conclusões sobre uma cidade inteira com base em dados de apenas uma fonte.\n",
    "\n",
    "Você vai estudar teste de hipóteses no sprint sobre análise estatística de dados."
   ]
  },
  {
   "cell_type": "markdown",
   "metadata": {
    "id": "Ju4AHDSgV1FE"
   },
   "source": [
    "[Voltar ao Índice](#back)"
   ]
  }
 ],
 "metadata": {
  "ExecuteTimeLog": [
   {
    "duration": 176,
    "start_time": "2022-04-19T23:27:54.354Z"
   },
   {
    "duration": 134,
    "start_time": "2022-04-19T23:28:27.782Z"
   },
   {
    "duration": 441,
    "start_time": "2022-04-19T23:30:49.764Z"
   },
   {
    "duration": 145,
    "start_time": "2022-04-19T23:37:56.812Z"
   },
   {
    "duration": 146,
    "start_time": "2022-04-19T23:38:50.238Z"
   },
   {
    "duration": 151,
    "start_time": "2022-04-19T23:38:58.014Z"
   },
   {
    "duration": 148,
    "start_time": "2022-04-19T23:39:10.488Z"
   },
   {
    "duration": 3,
    "start_time": "2022-04-19T23:39:39.605Z"
   },
   {
    "duration": 126,
    "start_time": "2022-04-19T23:39:41.713Z"
   },
   {
    "duration": 135,
    "start_time": "2022-04-19T23:40:15.494Z"
   },
   {
    "duration": 143,
    "start_time": "2022-04-19T23:40:54.973Z"
   },
   {
    "duration": 134,
    "start_time": "2022-04-19T23:41:01.581Z"
   },
   {
    "duration": 140,
    "start_time": "2022-04-19T23:43:33.653Z"
   },
   {
    "duration": 137,
    "start_time": "2022-04-19T23:43:47.572Z"
   },
   {
    "duration": 142,
    "start_time": "2022-04-19T23:46:27.252Z"
   },
   {
    "duration": 136,
    "start_time": "2022-04-19T23:46:42.088Z"
   },
   {
    "duration": 139,
    "start_time": "2022-04-19T23:46:43.329Z"
   },
   {
    "duration": 590,
    "start_time": "2022-04-19T23:55:18.300Z"
   },
   {
    "duration": 146,
    "start_time": "2022-04-19T23:55:37.391Z"
   },
   {
    "duration": 130,
    "start_time": "2022-04-19T23:55:38.790Z"
   },
   {
    "duration": 137,
    "start_time": "2022-04-19T23:55:39.392Z"
   },
   {
    "duration": 3,
    "start_time": "2022-04-19T23:55:51.568Z"
   },
   {
    "duration": 137,
    "start_time": "2022-04-19T23:57:40.829Z"
   },
   {
    "duration": 133,
    "start_time": "2022-04-19T23:58:07.154Z"
   },
   {
    "duration": 129,
    "start_time": "2022-04-19T23:58:10.771Z"
   },
   {
    "duration": 339,
    "start_time": "2022-04-20T00:02:00.780Z"
   },
   {
    "duration": 6,
    "start_time": "2022-04-20T00:02:22.962Z"
   },
   {
    "duration": 156,
    "start_time": "2022-04-20T00:02:45.346Z"
   },
   {
    "duration": 154,
    "start_time": "2022-04-20T00:02:48.555Z"
   },
   {
    "duration": 157,
    "start_time": "2022-04-20T00:02:51.655Z"
   },
   {
    "duration": 154,
    "start_time": "2022-04-20T00:03:10.196Z"
   },
   {
    "duration": 8,
    "start_time": "2022-04-20T00:03:25.493Z"
   },
   {
    "duration": 7,
    "start_time": "2022-04-20T00:04:19.796Z"
   },
   {
    "duration": 8,
    "start_time": "2022-04-20T00:07:49.881Z"
   },
   {
    "duration": 8,
    "start_time": "2022-04-20T00:07:51.409Z"
   },
   {
    "duration": 7,
    "start_time": "2022-04-20T00:12:20.623Z"
   },
   {
    "duration": 153,
    "start_time": "2022-04-20T00:55:40.827Z"
   },
   {
    "duration": 2,
    "start_time": "2022-04-20T01:11:00.281Z"
   },
   {
    "duration": 2,
    "start_time": "2022-04-20T01:11:04.712Z"
   },
   {
    "duration": 4,
    "start_time": "2022-04-20T01:11:17.015Z"
   },
   {
    "duration": 3,
    "start_time": "2022-04-20T01:15:58.423Z"
   },
   {
    "duration": 3,
    "start_time": "2022-04-20T01:16:26.439Z"
   },
   {
    "duration": 8,
    "start_time": "2022-04-20T01:17:12.950Z"
   },
   {
    "duration": 3,
    "start_time": "2022-04-20T01:17:31.557Z"
   },
   {
    "duration": 4,
    "start_time": "2022-04-20T01:17:43.764Z"
   },
   {
    "duration": 3,
    "start_time": "2022-04-20T01:17:46.120Z"
   },
   {
    "duration": 4,
    "start_time": "2022-04-20T01:18:17.011Z"
   },
   {
    "duration": 4,
    "start_time": "2022-04-20T01:18:41.634Z"
   },
   {
    "duration": 133,
    "start_time": "2022-04-20T01:20:37.684Z"
   },
   {
    "duration": 9,
    "start_time": "2022-04-20T02:08:17.726Z"
   },
   {
    "duration": 3,
    "start_time": "2022-04-20T02:09:56.970Z"
   },
   {
    "duration": 29,
    "start_time": "2022-04-20T02:30:40.404Z"
   },
   {
    "duration": 31,
    "start_time": "2022-04-20T02:33:31.936Z"
   },
   {
    "duration": 49,
    "start_time": "2022-04-20T02:34:07.835Z"
   },
   {
    "duration": 49,
    "start_time": "2022-04-20T02:34:10.373Z"
   },
   {
    "duration": 49,
    "start_time": "2022-04-20T02:40:35.727Z"
   },
   {
    "duration": 27,
    "start_time": "2022-04-20T02:40:42.587Z"
   },
   {
    "duration": 30,
    "start_time": "2022-04-20T02:40:56.338Z"
   },
   {
    "duration": 49,
    "start_time": "2022-04-20T02:41:11.771Z"
   },
   {
    "duration": 11,
    "start_time": "2022-04-20T02:45:59.487Z"
   },
   {
    "duration": 26,
    "start_time": "2022-04-20T02:48:59.339Z"
   },
   {
    "duration": 11,
    "start_time": "2022-04-20T02:51:25.974Z"
   },
   {
    "duration": 183,
    "start_time": "2022-04-20T02:52:30.484Z"
   },
   {
    "duration": 133,
    "start_time": "2022-04-20T02:52:56.595Z"
   },
   {
    "duration": 34,
    "start_time": "2022-04-20T02:59:43.603Z"
   },
   {
    "duration": 134,
    "start_time": "2022-04-20T03:02:51.616Z"
   },
   {
    "duration": 135,
    "start_time": "2022-04-20T03:03:08.569Z"
   },
   {
    "duration": 212,
    "start_time": "2022-04-20T03:04:00.638Z"
   },
   {
    "duration": 48,
    "start_time": "2022-04-20T03:28:15.397Z"
   },
   {
    "duration": 47,
    "start_time": "2022-04-20T03:28:46.980Z"
   },
   {
    "duration": 11,
    "start_time": "2022-04-20T03:29:48.569Z"
   },
   {
    "duration": 46,
    "start_time": "2022-04-22T18:31:45.150Z"
   },
   {
    "duration": 3,
    "start_time": "2022-04-24T14:12:52.416Z"
   },
   {
    "duration": 45,
    "start_time": "2022-04-24T14:12:59.213Z"
   },
   {
    "duration": 6,
    "start_time": "2022-04-24T14:16:33.669Z"
   },
   {
    "duration": 6,
    "start_time": "2022-04-24T14:16:45.985Z"
   },
   {
    "duration": 7,
    "start_time": "2022-04-24T14:16:54.972Z"
   },
   {
    "duration": 7,
    "start_time": "2022-04-24T14:17:09.213Z"
   },
   {
    "duration": 2,
    "start_time": "2022-04-24T14:29:30.490Z"
   },
   {
    "duration": 198,
    "start_time": "2022-04-24T14:33:10.088Z"
   },
   {
    "duration": 196,
    "start_time": "2022-04-24T14:33:28.132Z"
   },
   {
    "duration": 253,
    "start_time": "2022-04-24T14:33:44.757Z"
   },
   {
    "duration": 189,
    "start_time": "2022-04-24T14:39:25.762Z"
   },
   {
    "duration": 191,
    "start_time": "2022-04-24T14:39:36.274Z"
   },
   {
    "duration": 192,
    "start_time": "2022-04-24T14:39:50.682Z"
   },
   {
    "duration": 204,
    "start_time": "2022-04-24T14:39:59.296Z"
   },
   {
    "duration": 192,
    "start_time": "2022-04-24T14:44:00.994Z"
   },
   {
    "duration": 234,
    "start_time": "2022-04-24T14:44:14.765Z"
   },
   {
    "duration": 217,
    "start_time": "2022-04-24T14:45:46.012Z"
   },
   {
    "duration": 194,
    "start_time": "2022-04-24T14:45:57.093Z"
   },
   {
    "duration": 195,
    "start_time": "2022-04-24T14:46:13.198Z"
   },
   {
    "duration": 205,
    "start_time": "2022-04-24T14:53:45.474Z"
   },
   {
    "duration": 208,
    "start_time": "2022-04-24T14:54:09.206Z"
   },
   {
    "duration": 179,
    "start_time": "2022-04-24T14:54:14.808Z"
   },
   {
    "duration": 6,
    "start_time": "2022-04-24T14:54:19.781Z"
   },
   {
    "duration": 7,
    "start_time": "2022-04-24T14:55:03.125Z"
   },
   {
    "duration": 6,
    "start_time": "2022-04-24T14:55:11.905Z"
   },
   {
    "duration": 206,
    "start_time": "2022-04-24T14:55:36.657Z"
   },
   {
    "duration": 183,
    "start_time": "2022-04-24T14:55:41.159Z"
   },
   {
    "duration": 202,
    "start_time": "2022-04-24T14:55:44.881Z"
   },
   {
    "duration": 6,
    "start_time": "2022-04-24T14:57:28.963Z"
   },
   {
    "duration": 6,
    "start_time": "2022-04-24T14:57:36.450Z"
   },
   {
    "duration": 8,
    "start_time": "2022-04-24T14:58:43.526Z"
   },
   {
    "duration": 6,
    "start_time": "2022-04-24T15:06:49.748Z"
   },
   {
    "duration": 6,
    "start_time": "2022-04-24T15:06:50.066Z"
   },
   {
    "duration": 7,
    "start_time": "2022-04-24T15:07:26.327Z"
   },
   {
    "duration": 211,
    "start_time": "2022-04-24T15:07:42.426Z"
   },
   {
    "duration": 7,
    "start_time": "2022-04-24T15:09:31.113Z"
   },
   {
    "duration": 6,
    "start_time": "2022-04-24T15:10:09.571Z"
   },
   {
    "duration": 7,
    "start_time": "2022-04-24T15:10:16.834Z"
   },
   {
    "duration": 11,
    "start_time": "2022-04-24T15:10:57.707Z"
   },
   {
    "duration": 6,
    "start_time": "2022-04-24T15:11:03.095Z"
   },
   {
    "duration": 220,
    "start_time": "2022-04-24T15:11:11.328Z"
   },
   {
    "duration": 193,
    "start_time": "2022-04-24T15:11:16.391Z"
   },
   {
    "duration": 195,
    "start_time": "2022-04-24T15:21:32.616Z"
   },
   {
    "duration": 202,
    "start_time": "2022-04-24T15:21:53.335Z"
   },
   {
    "duration": 6,
    "start_time": "2022-04-24T15:23:00.979Z"
   },
   {
    "duration": 200,
    "start_time": "2022-04-24T15:23:12.105Z"
   },
   {
    "duration": 7,
    "start_time": "2022-04-24T15:23:29.165Z"
   },
   {
    "duration": 7,
    "start_time": "2022-04-24T15:24:10.979Z"
   },
   {
    "duration": 6,
    "start_time": "2022-04-24T15:24:47.981Z"
   },
   {
    "duration": 6,
    "start_time": "2022-04-24T15:24:55.255Z"
   },
   {
    "duration": 6,
    "start_time": "2022-04-24T15:25:00.719Z"
   },
   {
    "duration": 403,
    "start_time": "2022-04-24T15:25:07.664Z"
   },
   {
    "duration": 191,
    "start_time": "2022-04-24T15:25:09.701Z"
   },
   {
    "duration": 10,
    "start_time": "2022-04-24T15:25:12.479Z"
   },
   {
    "duration": 3,
    "start_time": "2022-04-24T15:25:23.702Z"
   },
   {
    "duration": 3,
    "start_time": "2022-04-24T15:25:28.941Z"
   },
   {
    "duration": 14,
    "start_time": "2022-04-24T15:25:31.509Z"
   },
   {
    "duration": 3,
    "start_time": "2022-04-24T15:25:35.939Z"
   },
   {
    "duration": 43,
    "start_time": "2022-04-24T15:25:40.843Z"
   },
   {
    "duration": 31,
    "start_time": "2022-04-24T15:25:46.415Z"
   },
   {
    "duration": 7,
    "start_time": "2022-04-24T15:25:50.322Z"
   },
   {
    "duration": 7,
    "start_time": "2022-04-24T15:25:59.525Z"
   },
   {
    "duration": 7,
    "start_time": "2022-04-24T15:26:08.355Z"
   },
   {
    "duration": 7,
    "start_time": "2022-04-24T15:26:12.867Z"
   },
   {
    "duration": 7,
    "start_time": "2022-04-24T15:26:20.651Z"
   },
   {
    "duration": 7,
    "start_time": "2022-04-24T15:27:11.941Z"
   },
   {
    "duration": 7,
    "start_time": "2022-04-24T15:27:20.279Z"
   },
   {
    "duration": 6,
    "start_time": "2022-04-24T15:27:28.757Z"
   },
   {
    "duration": 6,
    "start_time": "2022-04-24T15:27:37.529Z"
   },
   {
    "duration": 7,
    "start_time": "2022-04-24T15:28:08.731Z"
   },
   {
    "duration": 2,
    "start_time": "2022-04-24T15:47:55.673Z"
   },
   {
    "duration": 3,
    "start_time": "2022-04-24T15:47:58.495Z"
   },
   {
    "duration": 150,
    "start_time": "2022-04-24T15:48:03.659Z"
   },
   {
    "duration": 6,
    "start_time": "2022-04-24T15:48:04.567Z"
   },
   {
    "duration": 2,
    "start_time": "2022-04-24T15:48:06.472Z"
   },
   {
    "duration": 3,
    "start_time": "2022-04-24T15:48:09.063Z"
   },
   {
    "duration": 8,
    "start_time": "2022-04-24T15:48:10.679Z"
   },
   {
    "duration": 3,
    "start_time": "2022-04-24T15:48:12.313Z"
   },
   {
    "duration": 24,
    "start_time": "2022-04-24T15:48:14.335Z"
   },
   {
    "duration": 802,
    "start_time": "2022-04-24T15:48:17.400Z"
   },
   {
    "duration": 45,
    "start_time": "2022-04-24T15:48:30.991Z"
   },
   {
    "duration": 728,
    "start_time": "2022-04-24T15:48:39.974Z"
   },
   {
    "duration": 23,
    "start_time": "2022-04-24T15:55:09.270Z"
   },
   {
    "duration": 82,
    "start_time": "2022-04-24T15:55:27.810Z"
   },
   {
    "duration": 19,
    "start_time": "2022-04-24T15:55:32.841Z"
   },
   {
    "duration": 45,
    "start_time": "2022-04-24T15:55:46.049Z"
   },
   {
    "duration": 17,
    "start_time": "2022-04-24T15:55:55.609Z"
   },
   {
    "duration": 62,
    "start_time": "2022-04-24T15:55:57.731Z"
   },
   {
    "duration": 18,
    "start_time": "2022-04-24T15:56:38.813Z"
   },
   {
    "duration": 73,
    "start_time": "2022-04-24T15:56:48.875Z"
   },
   {
    "duration": 15,
    "start_time": "2022-04-24T15:57:38.686Z"
   },
   {
    "duration": 18,
    "start_time": "2022-04-24T15:58:00.663Z"
   },
   {
    "duration": 23,
    "start_time": "2022-04-24T16:18:10.138Z"
   },
   {
    "duration": 36,
    "start_time": "2022-04-24T16:18:23.448Z"
   },
   {
    "duration": 28,
    "start_time": "2022-04-24T16:18:30.809Z"
   },
   {
    "duration": 3355,
    "start_time": "2022-04-24T16:20:34.219Z"
   },
   {
    "duration": 3042,
    "start_time": "2022-04-24T16:21:53.852Z"
   },
   {
    "duration": 3252,
    "start_time": "2022-04-24T16:22:05.928Z"
   },
   {
    "duration": 7,
    "start_time": "2022-04-24T16:23:16.588Z"
   },
   {
    "duration": 6,
    "start_time": "2022-04-24T16:23:42.470Z"
   },
   {
    "duration": 7,
    "start_time": "2022-04-24T16:25:31.434Z"
   },
   {
    "duration": 7,
    "start_time": "2022-04-24T16:29:35.678Z"
   },
   {
    "duration": 6,
    "start_time": "2022-04-24T16:29:41.097Z"
   },
   {
    "duration": 9,
    "start_time": "2022-04-24T16:30:06.080Z"
   },
   {
    "duration": 7,
    "start_time": "2022-04-24T16:30:13.775Z"
   },
   {
    "duration": 3024,
    "start_time": "2022-04-24T16:34:14.227Z"
   },
   {
    "duration": 5173,
    "start_time": "2022-04-24T16:35:18.820Z"
   },
   {
    "duration": 176,
    "start_time": "2022-04-24T16:44:37.501Z"
   },
   {
    "duration": 188,
    "start_time": "2022-04-24T16:44:56.631Z"
   },
   {
    "duration": 190,
    "start_time": "2022-04-24T16:45:04.475Z"
   },
   {
    "duration": 3093,
    "start_time": "2022-04-24T16:45:19.967Z"
   },
   {
    "duration": 2963,
    "start_time": "2022-04-24T16:46:03.263Z"
   },
   {
    "duration": 3137,
    "start_time": "2022-04-24T16:46:09.231Z"
   },
   {
    "duration": 3121,
    "start_time": "2022-04-24T16:50:13.567Z"
   },
   {
    "duration": 2913,
    "start_time": "2022-04-24T16:50:19.013Z"
   },
   {
    "duration": 3038,
    "start_time": "2022-04-24T16:52:23.813Z"
   },
   {
    "duration": 2924,
    "start_time": "2022-04-24T16:52:37.587Z"
   },
   {
    "duration": 2932,
    "start_time": "2022-04-24T16:54:11.061Z"
   },
   {
    "duration": 3091,
    "start_time": "2022-04-24T16:54:20.801Z"
   },
   {
    "duration": 3051,
    "start_time": "2022-04-24T16:54:57.219Z"
   },
   {
    "duration": 206,
    "start_time": "2022-04-24T16:55:09.936Z"
   },
   {
    "duration": 182,
    "start_time": "2022-04-24T16:55:13.169Z"
   },
   {
    "duration": 2937,
    "start_time": "2022-04-24T16:55:25.463Z"
   },
   {
    "duration": 2858,
    "start_time": "2022-04-24T16:56:50.564Z"
   },
   {
    "duration": 2914,
    "start_time": "2022-04-24T16:57:05.029Z"
   },
   {
    "duration": 3143,
    "start_time": "2022-04-24T16:57:32.049Z"
   },
   {
    "duration": 184,
    "start_time": "2022-04-24T16:59:27.964Z"
   },
   {
    "duration": 2941,
    "start_time": "2022-04-24T16:59:34.255Z"
   },
   {
    "duration": 175,
    "start_time": "2022-04-24T16:59:43.983Z"
   },
   {
    "duration": 185,
    "start_time": "2022-04-24T16:59:51.216Z"
   },
   {
    "duration": 228,
    "start_time": "2022-04-24T17:00:01.701Z"
   },
   {
    "duration": 3117,
    "start_time": "2022-04-24T17:00:11.414Z"
   },
   {
    "duration": 84,
    "start_time": "2022-04-24T17:01:31.891Z"
   },
   {
    "duration": 69,
    "start_time": "2022-04-24T17:02:37.316Z"
   },
   {
    "duration": 50,
    "start_time": "2022-04-24T17:02:51.338Z"
   },
   {
    "duration": 53,
    "start_time": "2022-04-24T17:03:53.295Z"
   },
   {
    "duration": 395,
    "start_time": "2022-04-24T17:04:13.104Z"
   },
   {
    "duration": 61,
    "start_time": "2022-04-24T17:04:37.463Z"
   },
   {
    "duration": 68,
    "start_time": "2022-04-24T17:04:45.956Z"
   },
   {
    "duration": 53,
    "start_time": "2022-04-24T17:04:49.001Z"
   },
   {
    "duration": 2954,
    "start_time": "2022-04-24T17:05:15.322Z"
   },
   {
    "duration": 2929,
    "start_time": "2022-04-24T17:05:21.441Z"
   },
   {
    "duration": 3,
    "start_time": "2022-04-24T17:05:34.287Z"
   },
   {
    "duration": 53,
    "start_time": "2022-04-24T17:05:53.775Z"
   },
   {
    "duration": 69,
    "start_time": "2022-04-24T17:06:01.966Z"
   },
   {
    "duration": 52,
    "start_time": "2022-04-24T17:06:08.731Z"
   },
   {
    "duration": 61,
    "start_time": "2022-04-24T17:06:51.160Z"
   },
   {
    "duration": 51,
    "start_time": "2022-04-24T17:06:54.650Z"
   },
   {
    "duration": 71,
    "start_time": "2022-04-24T17:06:58.094Z"
   },
   {
    "duration": 61,
    "start_time": "2022-04-24T17:07:01.419Z"
   },
   {
    "duration": 55,
    "start_time": "2022-04-24T17:07:05.151Z"
   },
   {
    "duration": 69,
    "start_time": "2022-04-24T17:07:07.553Z"
   },
   {
    "duration": 10,
    "start_time": "2022-04-24T17:10:02.645Z"
   },
   {
    "duration": 11,
    "start_time": "2022-04-24T17:10:47.715Z"
   },
   {
    "duration": 10,
    "start_time": "2022-04-24T17:10:56.491Z"
   },
   {
    "duration": 12,
    "start_time": "2022-04-24T22:27:22.948Z"
   },
   {
    "duration": 5,
    "start_time": "2022-04-24T22:27:33.714Z"
   },
   {
    "duration": 4,
    "start_time": "2022-04-24T22:27:40.712Z"
   },
   {
    "duration": 5,
    "start_time": "2022-04-24T22:29:01.338Z"
   },
   {
    "duration": 67,
    "start_time": "2022-04-24T22:29:16.272Z"
   },
   {
    "duration": 5,
    "start_time": "2022-04-24T22:29:26.350Z"
   },
   {
    "duration": 8,
    "start_time": "2022-04-24T22:30:37.022Z"
   },
   {
    "duration": 8,
    "start_time": "2022-04-24T22:30:45.292Z"
   },
   {
    "duration": 8,
    "start_time": "2022-04-24T23:10:57.125Z"
   },
   {
    "duration": 5,
    "start_time": "2022-04-24T23:11:06.464Z"
   },
   {
    "duration": 4,
    "start_time": "2022-04-24T23:11:15.064Z"
   },
   {
    "duration": 9,
    "start_time": "2022-04-24T23:11:20.571Z"
   },
   {
    "duration": 8,
    "start_time": "2022-04-24T23:11:24.849Z"
   },
   {
    "duration": 8,
    "start_time": "2022-04-24T23:11:48.469Z"
   },
   {
    "duration": 8,
    "start_time": "2022-04-24T23:11:51.214Z"
   },
   {
    "duration": 477,
    "start_time": "2022-04-24T23:11:56.157Z"
   },
   {
    "duration": 518,
    "start_time": "2022-04-24T23:12:14.138Z"
   },
   {
    "duration": 456,
    "start_time": "2022-04-24T23:12:14.659Z"
   },
   {
    "duration": 14,
    "start_time": "2022-04-24T23:12:15.118Z"
   },
   {
    "duration": 4,
    "start_time": "2022-04-24T23:12:15.136Z"
   },
   {
    "duration": 10,
    "start_time": "2022-04-24T23:12:15.143Z"
   },
   {
    "duration": 22,
    "start_time": "2022-04-24T23:12:15.155Z"
   },
   {
    "duration": 10,
    "start_time": "2022-04-24T23:12:15.179Z"
   },
   {
    "duration": 45,
    "start_time": "2022-04-24T23:12:15.225Z"
   },
   {
    "duration": 119,
    "start_time": "2022-04-24T23:12:15.272Z"
   },
   {
    "duration": 0,
    "start_time": "2022-04-24T23:12:15.394Z"
   },
   {
    "duration": 1,
    "start_time": "2022-04-24T23:12:15.395Z"
   },
   {
    "duration": 0,
    "start_time": "2022-04-24T23:12:15.397Z"
   },
   {
    "duration": 0,
    "start_time": "2022-04-24T23:12:15.398Z"
   },
   {
    "duration": 0,
    "start_time": "2022-04-24T23:12:15.399Z"
   },
   {
    "duration": 0,
    "start_time": "2022-04-24T23:12:15.401Z"
   },
   {
    "duration": 0,
    "start_time": "2022-04-24T23:12:15.402Z"
   },
   {
    "duration": 0,
    "start_time": "2022-04-24T23:12:15.403Z"
   },
   {
    "duration": 0,
    "start_time": "2022-04-24T23:12:15.405Z"
   },
   {
    "duration": 0,
    "start_time": "2022-04-24T23:12:15.424Z"
   },
   {
    "duration": 0,
    "start_time": "2022-04-24T23:12:15.426Z"
   },
   {
    "duration": 0,
    "start_time": "2022-04-24T23:12:15.427Z"
   },
   {
    "duration": 0,
    "start_time": "2022-04-24T23:12:15.429Z"
   },
   {
    "duration": 0,
    "start_time": "2022-04-24T23:12:15.430Z"
   },
   {
    "duration": 0,
    "start_time": "2022-04-24T23:12:15.431Z"
   },
   {
    "duration": 0,
    "start_time": "2022-04-24T23:12:15.433Z"
   },
   {
    "duration": 0,
    "start_time": "2022-04-24T23:12:15.434Z"
   },
   {
    "duration": 0,
    "start_time": "2022-04-24T23:12:15.437Z"
   },
   {
    "duration": 0,
    "start_time": "2022-04-24T23:12:15.438Z"
   },
   {
    "duration": 0,
    "start_time": "2022-04-24T23:12:15.439Z"
   },
   {
    "duration": 0,
    "start_time": "2022-04-24T23:12:15.440Z"
   },
   {
    "duration": 0,
    "start_time": "2022-04-24T23:12:15.442Z"
   },
   {
    "duration": 0,
    "start_time": "2022-04-24T23:12:15.443Z"
   },
   {
    "duration": 0,
    "start_time": "2022-04-24T23:12:15.445Z"
   },
   {
    "duration": 0,
    "start_time": "2022-04-24T23:12:15.446Z"
   },
   {
    "duration": 0,
    "start_time": "2022-04-24T23:12:15.447Z"
   },
   {
    "duration": 0,
    "start_time": "2022-04-24T23:12:15.448Z"
   },
   {
    "duration": 0,
    "start_time": "2022-04-24T23:12:15.449Z"
   },
   {
    "duration": 0,
    "start_time": "2022-04-24T23:12:15.451Z"
   },
   {
    "duration": 5,
    "start_time": "2022-04-24T23:12:22.666Z"
   },
   {
    "duration": 102,
    "start_time": "2022-04-24T23:12:25.077Z"
   },
   {
    "duration": 127,
    "start_time": "2022-04-24T23:12:27.498Z"
   },
   {
    "duration": 16,
    "start_time": "2022-04-24T23:12:31.020Z"
   },
   {
    "duration": 5,
    "start_time": "2022-04-24T23:12:33.582Z"
   },
   {
    "duration": 6,
    "start_time": "2022-04-24T23:12:47.842Z"
   },
   {
    "duration": 25,
    "start_time": "2022-04-24T23:19:46.770Z"
   },
   {
    "duration": 29,
    "start_time": "2022-04-24T23:19:56.876Z"
   },
   {
    "duration": 140,
    "start_time": "2022-04-24T23:20:05.832Z"
   },
   {
    "duration": 108,
    "start_time": "2022-04-24T23:21:44.516Z"
   },
   {
    "duration": 1618,
    "start_time": "2022-04-25T00:47:23.414Z"
   },
   {
    "duration": 489,
    "start_time": "2022-04-25T00:47:41.763Z"
   },
   {
    "duration": 206,
    "start_time": "2022-04-25T00:47:42.254Z"
   },
   {
    "duration": 12,
    "start_time": "2022-04-25T00:47:42.462Z"
   },
   {
    "duration": 8,
    "start_time": "2022-04-25T00:47:42.476Z"
   },
   {
    "duration": 6,
    "start_time": "2022-04-25T00:47:42.486Z"
   },
   {
    "duration": 46,
    "start_time": "2022-04-25T00:47:42.494Z"
   },
   {
    "duration": 6,
    "start_time": "2022-04-25T00:47:42.543Z"
   },
   {
    "duration": 47,
    "start_time": "2022-04-25T00:47:42.551Z"
   },
   {
    "duration": 1702,
    "start_time": "2022-04-25T00:47:42.600Z"
   },
   {
    "duration": 0,
    "start_time": "2022-04-25T00:47:44.307Z"
   },
   {
    "duration": 0,
    "start_time": "2022-04-25T00:47:44.309Z"
   },
   {
    "duration": 0,
    "start_time": "2022-04-25T00:47:44.312Z"
   },
   {
    "duration": 0,
    "start_time": "2022-04-25T00:47:44.314Z"
   },
   {
    "duration": 0,
    "start_time": "2022-04-25T00:47:44.316Z"
   },
   {
    "duration": 0,
    "start_time": "2022-04-25T00:47:44.319Z"
   },
   {
    "duration": 0,
    "start_time": "2022-04-25T00:47:44.320Z"
   },
   {
    "duration": 0,
    "start_time": "2022-04-25T00:47:44.323Z"
   },
   {
    "duration": 0,
    "start_time": "2022-04-25T00:47:44.325Z"
   },
   {
    "duration": 0,
    "start_time": "2022-04-25T00:47:44.327Z"
   },
   {
    "duration": 0,
    "start_time": "2022-04-25T00:47:44.329Z"
   },
   {
    "duration": 0,
    "start_time": "2022-04-25T00:47:44.331Z"
   },
   {
    "duration": 0,
    "start_time": "2022-04-25T00:47:44.333Z"
   },
   {
    "duration": 0,
    "start_time": "2022-04-25T00:47:44.335Z"
   },
   {
    "duration": 0,
    "start_time": "2022-04-25T00:47:44.337Z"
   },
   {
    "duration": 0,
    "start_time": "2022-04-25T00:47:44.339Z"
   },
   {
    "duration": 0,
    "start_time": "2022-04-25T00:47:44.341Z"
   },
   {
    "duration": 0,
    "start_time": "2022-04-25T00:47:44.343Z"
   },
   {
    "duration": 0,
    "start_time": "2022-04-25T00:47:44.346Z"
   },
   {
    "duration": 0,
    "start_time": "2022-04-25T00:47:44.348Z"
   },
   {
    "duration": 0,
    "start_time": "2022-04-25T00:47:44.350Z"
   },
   {
    "duration": 0,
    "start_time": "2022-04-25T00:47:44.354Z"
   },
   {
    "duration": 0,
    "start_time": "2022-04-25T00:47:44.356Z"
   },
   {
    "duration": 0,
    "start_time": "2022-04-25T00:47:44.358Z"
   },
   {
    "duration": 0,
    "start_time": "2022-04-25T00:47:44.360Z"
   },
   {
    "duration": 0,
    "start_time": "2022-04-25T00:47:44.363Z"
   },
   {
    "duration": 0,
    "start_time": "2022-04-25T00:47:44.365Z"
   },
   {
    "duration": 0,
    "start_time": "2022-04-25T00:47:44.367Z"
   },
   {
    "duration": 0,
    "start_time": "2022-04-25T00:47:44.426Z"
   },
   {
    "duration": 16,
    "start_time": "2022-04-25T00:47:52.889Z"
   },
   {
    "duration": 136,
    "start_time": "2022-04-25T00:48:01.462Z"
   },
   {
    "duration": 97,
    "start_time": "2022-04-25T00:48:03.196Z"
   },
   {
    "duration": 15,
    "start_time": "2022-04-25T00:48:05.179Z"
   },
   {
    "duration": 1526,
    "start_time": "2022-04-25T00:48:12.696Z"
   },
   {
    "duration": 7,
    "start_time": "2022-04-25T00:48:54.687Z"
   },
   {
    "duration": 8,
    "start_time": "2022-04-25T00:48:58.170Z"
   },
   {
    "duration": 1564,
    "start_time": "2022-04-25T00:49:29.577Z"
   },
   {
    "duration": 1469,
    "start_time": "2022-04-25T00:49:36.429Z"
   },
   {
    "duration": 1565,
    "start_time": "2022-04-25T00:49:40.253Z"
   },
   {
    "duration": 35,
    "start_time": "2022-04-25T00:50:00.569Z"
   },
   {
    "duration": 1511,
    "start_time": "2022-04-25T00:50:11.557Z"
   },
   {
    "duration": 35,
    "start_time": "2022-04-25T00:50:14.670Z"
   },
   {
    "duration": 22,
    "start_time": "2022-04-25T00:50:46.605Z"
   },
   {
    "duration": 37,
    "start_time": "2022-04-25T00:50:51.800Z"
   },
   {
    "duration": 88,
    "start_time": "2022-04-25T00:51:00.293Z"
   },
   {
    "duration": 110,
    "start_time": "2022-04-25T00:51:02.421Z"
   },
   {
    "duration": 410,
    "start_time": "2022-08-29T16:30:33.115Z"
   },
   {
    "duration": 227,
    "start_time": "2022-08-29T16:30:33.527Z"
   },
   {
    "duration": 8,
    "start_time": "2022-08-29T16:30:33.756Z"
   },
   {
    "duration": 5,
    "start_time": "2022-08-29T16:30:33.766Z"
   },
   {
    "duration": 8,
    "start_time": "2022-08-29T16:30:33.773Z"
   },
   {
    "duration": 21,
    "start_time": "2022-08-29T16:30:33.783Z"
   },
   {
    "duration": 9,
    "start_time": "2022-08-29T16:30:33.806Z"
   },
   {
    "duration": 33,
    "start_time": "2022-08-29T16:30:33.816Z"
   },
   {
    "duration": 14,
    "start_time": "2022-08-29T16:30:33.850Z"
   },
   {
    "duration": 32,
    "start_time": "2022-08-29T16:30:33.867Z"
   },
   {
    "duration": 58,
    "start_time": "2022-08-29T16:30:33.901Z"
   },
   {
    "duration": 90,
    "start_time": "2022-08-29T16:30:33.961Z"
   },
   {
    "duration": 62,
    "start_time": "2022-08-29T16:30:34.053Z"
   },
   {
    "duration": 10,
    "start_time": "2022-08-29T16:30:34.116Z"
   },
   {
    "duration": 85,
    "start_time": "2022-08-29T16:30:34.128Z"
   },
   {
    "duration": 0,
    "start_time": "2022-08-29T16:30:34.214Z"
   },
   {
    "duration": 0,
    "start_time": "2022-08-29T16:30:34.216Z"
   },
   {
    "duration": 0,
    "start_time": "2022-08-29T16:30:34.217Z"
   },
   {
    "duration": 0,
    "start_time": "2022-08-29T16:30:34.218Z"
   },
   {
    "duration": 0,
    "start_time": "2022-08-29T16:30:34.219Z"
   },
   {
    "duration": 0,
    "start_time": "2022-08-29T16:30:34.220Z"
   },
   {
    "duration": 1,
    "start_time": "2022-08-29T16:30:34.220Z"
   },
   {
    "duration": 0,
    "start_time": "2022-08-29T16:30:34.221Z"
   },
   {
    "duration": 0,
    "start_time": "2022-08-29T16:30:34.222Z"
   },
   {
    "duration": 0,
    "start_time": "2022-08-29T16:30:34.223Z"
   },
   {
    "duration": 0,
    "start_time": "2022-08-29T16:30:34.224Z"
   },
   {
    "duration": 0,
    "start_time": "2022-08-29T16:30:34.225Z"
   },
   {
    "duration": 0,
    "start_time": "2022-08-29T16:30:34.226Z"
   },
   {
    "duration": 0,
    "start_time": "2022-08-29T16:30:34.227Z"
   },
   {
    "duration": 0,
    "start_time": "2022-08-29T16:30:34.228Z"
   },
   {
    "duration": 0,
    "start_time": "2022-08-29T16:30:34.229Z"
   },
   {
    "duration": 0,
    "start_time": "2022-08-29T16:30:34.230Z"
   },
   {
    "duration": 0,
    "start_time": "2022-08-29T16:30:34.231Z"
   },
   {
    "duration": 0,
    "start_time": "2022-08-29T16:30:34.231Z"
   },
   {
    "duration": 0,
    "start_time": "2022-08-29T16:30:34.232Z"
   },
   {
    "duration": 0,
    "start_time": "2022-08-29T16:30:34.233Z"
   },
   {
    "duration": 0,
    "start_time": "2022-08-29T16:30:34.234Z"
   },
   {
    "duration": 0,
    "start_time": "2022-08-29T16:30:34.235Z"
   },
   {
    "duration": 62,
    "start_time": "2022-08-29T16:36:01.054Z"
   },
   {
    "duration": 51,
    "start_time": "2022-08-29T16:36:04.127Z"
   },
   {
    "duration": 11,
    "start_time": "2022-08-29T16:36:16.769Z"
   },
   {
    "duration": 55,
    "start_time": "2022-08-29T16:37:40.843Z"
   },
   {
    "duration": 47,
    "start_time": "2022-08-29T16:39:25.991Z"
   },
   {
    "duration": 61,
    "start_time": "2022-08-29T16:41:50.325Z"
   },
   {
    "duration": 6,
    "start_time": "2022-08-29T16:41:59.763Z"
   },
   {
    "duration": 8,
    "start_time": "2022-08-29T16:52:27.570Z"
   },
   {
    "duration": 10,
    "start_time": "2022-08-29T16:52:56.703Z"
   },
   {
    "duration": 51,
    "start_time": "2022-08-29T16:56:27.842Z"
   },
   {
    "duration": 45,
    "start_time": "2022-08-29T17:00:17.225Z"
   },
   {
    "duration": 5,
    "start_time": "2022-08-29T17:00:32.187Z"
   },
   {
    "duration": 9,
    "start_time": "2022-08-29T17:00:46.732Z"
   },
   {
    "duration": 16,
    "start_time": "2022-08-29T17:03:22.363Z"
   },
   {
    "duration": 10,
    "start_time": "2022-08-29T17:03:25.094Z"
   },
   {
    "duration": 24,
    "start_time": "2022-08-29T17:03:38.357Z"
   },
   {
    "duration": 11,
    "start_time": "2022-08-29T17:03:40.260Z"
   },
   {
    "duration": 493,
    "start_time": "2022-08-29T17:04:36.521Z"
   },
   {
    "duration": 7,
    "start_time": "2022-08-29T17:04:52.326Z"
   },
   {
    "duration": 7,
    "start_time": "2022-08-29T17:05:10.590Z"
   },
   {
    "duration": 13,
    "start_time": "2022-08-29T17:05:16.555Z"
   },
   {
    "duration": 58,
    "start_time": "2022-08-29T17:13:07.555Z"
   },
   {
    "duration": 8,
    "start_time": "2022-08-29T17:13:34.479Z"
   },
   {
    "duration": 11,
    "start_time": "2022-08-29T17:30:37.843Z"
   },
   {
    "duration": 5,
    "start_time": "2022-08-29T17:36:02.795Z"
   },
   {
    "duration": 4,
    "start_time": "2022-08-29T17:36:22.418Z"
   },
   {
    "duration": 4,
    "start_time": "2022-08-29T17:36:41.115Z"
   },
   {
    "duration": 4,
    "start_time": "2022-08-29T17:36:55.898Z"
   },
   {
    "duration": 3,
    "start_time": "2022-08-29T17:37:14.280Z"
   },
   {
    "duration": 91,
    "start_time": "2022-08-29T17:39:55.898Z"
   },
   {
    "duration": 14,
    "start_time": "2022-08-29T17:40:11.607Z"
   },
   {
    "duration": 11,
    "start_time": "2022-08-29T17:40:14.505Z"
   },
   {
    "duration": 78,
    "start_time": "2022-08-29T17:40:48.605Z"
   },
   {
    "duration": 95,
    "start_time": "2022-08-29T17:41:15.094Z"
   },
   {
    "duration": 10,
    "start_time": "2022-08-29T17:41:34.986Z"
   },
   {
    "duration": 11,
    "start_time": "2022-08-29T17:41:40.145Z"
   },
   {
    "duration": 10,
    "start_time": "2022-08-29T17:41:53.116Z"
   },
   {
    "duration": 6,
    "start_time": "2022-08-29T17:42:05.594Z"
   },
   {
    "duration": 11,
    "start_time": "2022-08-29T17:42:08.098Z"
   },
   {
    "duration": 13,
    "start_time": "2022-08-29T17:44:43.998Z"
   },
   {
    "duration": 15,
    "start_time": "2022-08-29T17:44:45.042Z"
   },
   {
    "duration": 14,
    "start_time": "2022-08-29T17:45:55.167Z"
   },
   {
    "duration": 14,
    "start_time": "2022-08-29T17:45:56.267Z"
   },
   {
    "duration": 7,
    "start_time": "2022-08-29T17:49:12.161Z"
   },
   {
    "duration": 885,
    "start_time": "2022-08-29T17:51:16.443Z"
   },
   {
    "duration": 866,
    "start_time": "2022-08-29T17:51:37.740Z"
   },
   {
    "duration": 152,
    "start_time": "2022-08-29T17:52:12.255Z"
   },
   {
    "duration": 4,
    "start_time": "2022-08-29T17:52:21.551Z"
   },
   {
    "duration": 3,
    "start_time": "2022-08-29T17:52:31.835Z"
   },
   {
    "duration": 31,
    "start_time": "2022-08-29T17:52:36.900Z"
   },
   {
    "duration": 31,
    "start_time": "2022-08-29T17:53:19.460Z"
   },
   {
    "duration": 130,
    "start_time": "2022-08-29T20:05:52.715Z"
   },
   {
    "duration": 83,
    "start_time": "2022-08-29T20:06:35.653Z"
   },
   {
    "duration": 422,
    "start_time": "2022-08-29T20:06:47.514Z"
   },
   {
    "duration": 3,
    "start_time": "2022-08-29T20:06:53.580Z"
   },
   {
    "duration": 5,
    "start_time": "2022-08-29T20:07:01.162Z"
   },
   {
    "duration": 14,
    "start_time": "2022-08-29T20:07:58.816Z"
   },
   {
    "duration": 9,
    "start_time": "2022-08-29T20:08:28.932Z"
   },
   {
    "duration": 9,
    "start_time": "2022-08-29T20:08:51.252Z"
   },
   {
    "duration": 10,
    "start_time": "2022-08-29T20:09:19.252Z"
   },
   {
    "duration": 8,
    "start_time": "2022-08-29T20:09:55.734Z"
   },
   {
    "duration": 45,
    "start_time": "2022-08-29T20:10:09.726Z"
   },
   {
    "duration": 76,
    "start_time": "2022-08-29T20:10:15.484Z"
   },
   {
    "duration": 11,
    "start_time": "2022-08-29T20:11:36.822Z"
   },
   {
    "duration": 5,
    "start_time": "2022-08-29T20:14:24.278Z"
   },
   {
    "duration": 8,
    "start_time": "2022-08-29T20:14:30.758Z"
   },
   {
    "duration": 7,
    "start_time": "2022-08-29T20:14:58.874Z"
   },
   {
    "duration": 4,
    "start_time": "2022-08-29T20:16:02.341Z"
   },
   {
    "duration": 5,
    "start_time": "2022-08-29T20:17:01.805Z"
   },
   {
    "duration": 3,
    "start_time": "2022-08-29T20:17:13.276Z"
   },
   {
    "duration": 3,
    "start_time": "2022-08-29T20:17:21.168Z"
   },
   {
    "duration": 7,
    "start_time": "2022-08-29T20:17:28.550Z"
   },
   {
    "duration": 11,
    "start_time": "2022-08-29T20:18:10.569Z"
   },
   {
    "duration": 3,
    "start_time": "2022-08-29T20:18:21.212Z"
   },
   {
    "duration": 10,
    "start_time": "2022-08-29T20:18:22.574Z"
   },
   {
    "duration": 57,
    "start_time": "2022-08-29T20:29:55.517Z"
   },
   {
    "duration": 45,
    "start_time": "2022-08-29T20:30:06.900Z"
   },
   {
    "duration": 3,
    "start_time": "2022-08-29T20:30:11.499Z"
   },
   {
    "duration": 24,
    "start_time": "2022-08-29T20:31:02.016Z"
   },
   {
    "duration": 19,
    "start_time": "2022-08-29T20:33:33.257Z"
   },
   {
    "duration": 3,
    "start_time": "2022-08-29T20:34:13.472Z"
   },
   {
    "duration": 9,
    "start_time": "2022-08-29T20:34:15.726Z"
   },
   {
    "duration": 4,
    "start_time": "2022-08-29T20:35:16.234Z"
   },
   {
    "duration": 20,
    "start_time": "2022-08-29T20:35:23.261Z"
   },
   {
    "duration": 19,
    "start_time": "2022-08-29T20:35:34.626Z"
   },
   {
    "duration": 3,
    "start_time": "2022-08-29T20:35:53.158Z"
   },
   {
    "duration": 705,
    "start_time": "2022-08-29T20:35:56.789Z"
   },
   {
    "duration": 810,
    "start_time": "2022-08-29T20:36:12.076Z"
   },
   {
    "duration": 3,
    "start_time": "2022-08-29T20:37:23.232Z"
   },
   {
    "duration": 682,
    "start_time": "2022-08-29T20:37:26.489Z"
   },
   {
    "duration": 7,
    "start_time": "2022-08-29T20:40:00.907Z"
   },
   {
    "duration": 65,
    "start_time": "2022-08-29T20:45:08.108Z"
   },
   {
    "duration": 3,
    "start_time": "2022-08-29T20:45:15.784Z"
   },
   {
    "duration": 53,
    "start_time": "2022-08-29T20:47:11.158Z"
   },
   {
    "duration": 3,
    "start_time": "2022-08-29T20:47:49.548Z"
   },
   {
    "duration": 7,
    "start_time": "2022-08-29T20:48:11.007Z"
   },
   {
    "duration": 40,
    "start_time": "2022-08-29T20:48:18.839Z"
   },
   {
    "duration": 7,
    "start_time": "2022-08-29T20:48:28.004Z"
   },
   {
    "duration": 3,
    "start_time": "2022-08-29T20:48:38.607Z"
   },
   {
    "duration": 7,
    "start_time": "2022-08-29T20:49:07.129Z"
   },
   {
    "duration": 6,
    "start_time": "2022-08-29T21:00:44.538Z"
   },
   {
    "duration": 8,
    "start_time": "2022-08-29T21:01:51.747Z"
   },
   {
    "duration": 6,
    "start_time": "2022-08-29T21:02:08.749Z"
   },
   {
    "duration": 6,
    "start_time": "2022-08-29T21:02:19.861Z"
   },
   {
    "duration": 3,
    "start_time": "2022-08-29T21:02:42.769Z"
   },
   {
    "duration": 4,
    "start_time": "2022-08-29T21:02:48.441Z"
   },
   {
    "duration": 9,
    "start_time": "2022-08-29T21:02:50.500Z"
   },
   {
    "duration": 401,
    "start_time": "2022-08-29T21:03:02.833Z"
   },
   {
    "duration": 244,
    "start_time": "2022-08-29T21:03:03.236Z"
   },
   {
    "duration": 11,
    "start_time": "2022-08-29T21:03:03.482Z"
   },
   {
    "duration": 20,
    "start_time": "2022-08-29T21:03:03.495Z"
   },
   {
    "duration": 20,
    "start_time": "2022-08-29T21:03:03.517Z"
   },
   {
    "duration": 22,
    "start_time": "2022-08-29T21:03:03.539Z"
   },
   {
    "duration": 14,
    "start_time": "2022-08-29T21:03:03.563Z"
   },
   {
    "duration": 50,
    "start_time": "2022-08-29T21:03:03.579Z"
   },
   {
    "duration": 17,
    "start_time": "2022-08-29T21:03:03.631Z"
   },
   {
    "duration": 32,
    "start_time": "2022-08-29T21:03:03.651Z"
   },
   {
    "duration": 67,
    "start_time": "2022-08-29T21:03:03.684Z"
   },
   {
    "duration": 80,
    "start_time": "2022-08-29T21:03:03.752Z"
   },
   {
    "duration": 70,
    "start_time": "2022-08-29T21:03:03.834Z"
   },
   {
    "duration": 11,
    "start_time": "2022-08-29T21:03:03.906Z"
   },
   {
    "duration": 21,
    "start_time": "2022-08-29T21:03:03.918Z"
   },
   {
    "duration": 17,
    "start_time": "2022-08-29T21:03:03.940Z"
   },
   {
    "duration": 10,
    "start_time": "2022-08-29T21:03:03.958Z"
   },
   {
    "duration": 50,
    "start_time": "2022-08-29T21:03:03.970Z"
   },
   {
    "duration": 0,
    "start_time": "2022-08-29T21:03:04.023Z"
   },
   {
    "duration": 0,
    "start_time": "2022-08-29T21:03:04.024Z"
   },
   {
    "duration": 0,
    "start_time": "2022-08-29T21:03:04.026Z"
   },
   {
    "duration": 0,
    "start_time": "2022-08-29T21:03:04.027Z"
   },
   {
    "duration": 0,
    "start_time": "2022-08-29T21:03:04.028Z"
   },
   {
    "duration": 0,
    "start_time": "2022-08-29T21:03:04.030Z"
   },
   {
    "duration": 0,
    "start_time": "2022-08-29T21:03:04.032Z"
   },
   {
    "duration": 0,
    "start_time": "2022-08-29T21:03:04.033Z"
   },
   {
    "duration": 0,
    "start_time": "2022-08-29T21:03:04.034Z"
   },
   {
    "duration": 0,
    "start_time": "2022-08-29T21:03:04.035Z"
   },
   {
    "duration": 0,
    "start_time": "2022-08-29T21:03:04.036Z"
   },
   {
    "duration": 0,
    "start_time": "2022-08-29T21:03:04.038Z"
   },
   {
    "duration": 0,
    "start_time": "2022-08-29T21:03:04.039Z"
   },
   {
    "duration": 0,
    "start_time": "2022-08-29T21:03:04.040Z"
   },
   {
    "duration": 0,
    "start_time": "2022-08-29T21:03:04.042Z"
   },
   {
    "duration": 0,
    "start_time": "2022-08-29T21:03:04.044Z"
   },
   {
    "duration": 0,
    "start_time": "2022-08-29T21:03:04.045Z"
   },
   {
    "duration": 0,
    "start_time": "2022-08-29T21:03:04.046Z"
   },
   {
    "duration": 0,
    "start_time": "2022-08-29T21:03:04.047Z"
   },
   {
    "duration": 0,
    "start_time": "2022-08-29T21:03:04.048Z"
   },
   {
    "duration": 0,
    "start_time": "2022-08-29T21:03:04.050Z"
   },
   {
    "duration": 0,
    "start_time": "2022-08-29T21:03:04.051Z"
   },
   {
    "duration": 0,
    "start_time": "2022-08-29T21:03:04.053Z"
   },
   {
    "duration": 31,
    "start_time": "2022-08-29T21:10:27.241Z"
   },
   {
    "duration": 37,
    "start_time": "2022-08-29T21:10:29.166Z"
   },
   {
    "duration": 8,
    "start_time": "2022-08-29T21:10:33.775Z"
   },
   {
    "duration": 2,
    "start_time": "2022-08-29T21:10:35.405Z"
   },
   {
    "duration": 57,
    "start_time": "2022-08-29T21:12:54.971Z"
   },
   {
    "duration": 3,
    "start_time": "2022-08-29T21:13:09.771Z"
   },
   {
    "duration": 8,
    "start_time": "2022-08-29T21:13:12.061Z"
   },
   {
    "duration": 3,
    "start_time": "2022-08-29T21:13:30.555Z"
   },
   {
    "duration": 8,
    "start_time": "2022-08-29T21:13:32.137Z"
   },
   {
    "duration": 3,
    "start_time": "2022-08-29T21:14:05.634Z"
   },
   {
    "duration": 8,
    "start_time": "2022-08-29T21:14:08.030Z"
   },
   {
    "duration": 6,
    "start_time": "2022-08-29T21:14:21.499Z"
   },
   {
    "duration": 8,
    "start_time": "2022-08-29T21:14:24.028Z"
   },
   {
    "duration": 3,
    "start_time": "2022-08-29T21:14:44.715Z"
   },
   {
    "duration": 8,
    "start_time": "2022-08-29T21:14:46.146Z"
   },
   {
    "duration": 427,
    "start_time": "2022-08-29T21:15:00.255Z"
   },
   {
    "duration": 252,
    "start_time": "2022-08-29T21:15:00.684Z"
   },
   {
    "duration": 8,
    "start_time": "2022-08-29T21:15:00.938Z"
   },
   {
    "duration": 10,
    "start_time": "2022-08-29T21:15:00.947Z"
   },
   {
    "duration": 46,
    "start_time": "2022-08-29T21:15:00.959Z"
   },
   {
    "duration": 36,
    "start_time": "2022-08-29T21:15:01.007Z"
   },
   {
    "duration": 38,
    "start_time": "2022-08-29T21:15:01.045Z"
   },
   {
    "duration": 60,
    "start_time": "2022-08-29T21:15:01.085Z"
   },
   {
    "duration": 27,
    "start_time": "2022-08-29T21:15:01.146Z"
   },
   {
    "duration": 41,
    "start_time": "2022-08-29T21:15:01.175Z"
   },
   {
    "duration": 66,
    "start_time": "2022-08-29T21:15:01.218Z"
   },
   {
    "duration": 76,
    "start_time": "2022-08-29T21:15:01.297Z"
   },
   {
    "duration": 63,
    "start_time": "2022-08-29T21:15:01.375Z"
   },
   {
    "duration": 12,
    "start_time": "2022-08-29T21:15:01.442Z"
   },
   {
    "duration": 33,
    "start_time": "2022-08-29T21:15:01.456Z"
   },
   {
    "duration": 35,
    "start_time": "2022-08-29T21:15:01.491Z"
   },
   {
    "duration": 27,
    "start_time": "2022-08-29T21:15:01.528Z"
   },
   {
    "duration": 72,
    "start_time": "2022-08-29T21:15:01.557Z"
   },
   {
    "duration": 33,
    "start_time": "2022-08-29T21:15:01.630Z"
   },
   {
    "duration": 3,
    "start_time": "2022-08-29T21:15:01.665Z"
   },
   {
    "duration": 40,
    "start_time": "2022-08-29T21:15:01.670Z"
   },
   {
    "duration": 131,
    "start_time": "2022-08-29T21:15:01.712Z"
   },
   {
    "duration": 0,
    "start_time": "2022-08-29T21:15:01.845Z"
   },
   {
    "duration": 0,
    "start_time": "2022-08-29T21:15:01.847Z"
   },
   {
    "duration": 0,
    "start_time": "2022-08-29T21:15:01.849Z"
   },
   {
    "duration": 0,
    "start_time": "2022-08-29T21:15:01.850Z"
   },
   {
    "duration": 0,
    "start_time": "2022-08-29T21:15:01.851Z"
   },
   {
    "duration": 0,
    "start_time": "2022-08-29T21:15:01.853Z"
   },
   {
    "duration": 0,
    "start_time": "2022-08-29T21:15:01.854Z"
   },
   {
    "duration": 0,
    "start_time": "2022-08-29T21:15:01.855Z"
   },
   {
    "duration": 0,
    "start_time": "2022-08-29T21:15:01.857Z"
   },
   {
    "duration": 0,
    "start_time": "2022-08-29T21:15:01.858Z"
   },
   {
    "duration": 0,
    "start_time": "2022-08-29T21:15:01.860Z"
   },
   {
    "duration": 0,
    "start_time": "2022-08-29T21:15:01.861Z"
   },
   {
    "duration": 0,
    "start_time": "2022-08-29T21:15:01.862Z"
   },
   {
    "duration": 0,
    "start_time": "2022-08-29T21:15:01.864Z"
   },
   {
    "duration": 0,
    "start_time": "2022-08-29T21:15:01.889Z"
   },
   {
    "duration": 0,
    "start_time": "2022-08-29T21:15:01.890Z"
   },
   {
    "duration": 0,
    "start_time": "2022-08-29T21:15:01.890Z"
   },
   {
    "duration": 49,
    "start_time": "2022-08-29T21:15:28.648Z"
   },
   {
    "duration": 19,
    "start_time": "2022-08-29T21:15:30.817Z"
   },
   {
    "duration": 57,
    "start_time": "2022-08-29T21:16:21.902Z"
   },
   {
    "duration": 53,
    "start_time": "2022-08-29T21:16:34.316Z"
   },
   {
    "duration": 18,
    "start_time": "2022-08-29T21:16:36.729Z"
   },
   {
    "duration": 58,
    "start_time": "2022-08-29T21:19:35.509Z"
   },
   {
    "duration": 47,
    "start_time": "2022-08-29T21:19:42.756Z"
   },
   {
    "duration": 43,
    "start_time": "2022-08-29T21:19:48.231Z"
   },
   {
    "duration": 60,
    "start_time": "2022-08-29T21:19:55.876Z"
   },
   {
    "duration": 3,
    "start_time": "2022-08-29T21:20:03.447Z"
   },
   {
    "duration": 10,
    "start_time": "2022-08-29T21:20:07.029Z"
   },
   {
    "duration": 10,
    "start_time": "2022-08-29T21:27:06.488Z"
   },
   {
    "duration": 4,
    "start_time": "2022-08-29T21:27:37.634Z"
   },
   {
    "duration": 10,
    "start_time": "2022-08-29T21:27:40.760Z"
   },
   {
    "duration": 14,
    "start_time": "2022-08-29T21:43:06.960Z"
   },
   {
    "duration": 8,
    "start_time": "2022-08-29T21:46:06.786Z"
   },
   {
    "duration": 367,
    "start_time": "2022-08-29T21:48:58.185Z"
   },
   {
    "duration": 7,
    "start_time": "2022-08-29T21:49:03.850Z"
   },
   {
    "duration": 8,
    "start_time": "2022-08-29T21:49:16.488Z"
   },
   {
    "duration": 9,
    "start_time": "2022-08-29T21:49:33.042Z"
   },
   {
    "duration": 696,
    "start_time": "2022-08-29T21:51:08.216Z"
   },
   {
    "duration": 50,
    "start_time": "2022-08-29T21:52:53.027Z"
   },
   {
    "duration": 50,
    "start_time": "2022-08-29T21:52:58.873Z"
   },
   {
    "duration": 102,
    "start_time": "2022-08-29T21:53:07.394Z"
   },
   {
    "duration": 7,
    "start_time": "2022-08-29T21:53:12.682Z"
   },
   {
    "duration": 6,
    "start_time": "2022-08-29T21:53:25.420Z"
   },
   {
    "duration": 65,
    "start_time": "2022-08-29T21:53:35.583Z"
   },
   {
    "duration": 725,
    "start_time": "2022-08-29T21:53:48.467Z"
   },
   {
    "duration": 740,
    "start_time": "2022-08-29T21:53:51.689Z"
   },
   {
    "duration": 46,
    "start_time": "2022-08-29T21:56:34.476Z"
   },
   {
    "duration": 46,
    "start_time": "2022-08-29T21:56:42.267Z"
   },
   {
    "duration": 9,
    "start_time": "2022-08-29T21:56:46.420Z"
   },
   {
    "duration": 10,
    "start_time": "2022-08-29T21:57:23.195Z"
   },
   {
    "duration": 3,
    "start_time": "2022-08-29T21:57:27.023Z"
   },
   {
    "duration": 11,
    "start_time": "2022-08-29T21:57:29.194Z"
   },
   {
    "duration": 70,
    "start_time": "2022-08-29T21:58:00.218Z"
   },
   {
    "duration": 4,
    "start_time": "2022-08-29T21:58:08.426Z"
   },
   {
    "duration": 11,
    "start_time": "2022-08-29T21:58:10.489Z"
   },
   {
    "duration": 387,
    "start_time": "2022-09-01T13:55:04.485Z"
   },
   {
    "duration": 419,
    "start_time": "2022-09-01T13:55:04.874Z"
   },
   {
    "duration": 7,
    "start_time": "2022-09-01T13:55:05.295Z"
   },
   {
    "duration": 4,
    "start_time": "2022-09-01T13:55:05.304Z"
   },
   {
    "duration": 7,
    "start_time": "2022-09-01T13:55:05.309Z"
   },
   {
    "duration": 21,
    "start_time": "2022-09-01T13:55:05.318Z"
   },
   {
    "duration": 7,
    "start_time": "2022-09-01T13:55:05.341Z"
   },
   {
    "duration": 30,
    "start_time": "2022-09-01T13:55:05.350Z"
   },
   {
    "duration": 14,
    "start_time": "2022-09-01T13:55:05.382Z"
   },
   {
    "duration": 25,
    "start_time": "2022-09-01T13:55:05.399Z"
   },
   {
    "duration": 59,
    "start_time": "2022-09-01T13:55:05.426Z"
   },
   {
    "duration": 71,
    "start_time": "2022-09-01T13:55:05.487Z"
   },
   {
    "duration": 57,
    "start_time": "2022-09-01T13:55:05.560Z"
   },
   {
    "duration": 10,
    "start_time": "2022-09-01T13:55:05.618Z"
   },
   {
    "duration": 11,
    "start_time": "2022-09-01T13:55:05.629Z"
   },
   {
    "duration": 10,
    "start_time": "2022-09-01T13:55:05.642Z"
   },
   {
    "duration": 8,
    "start_time": "2022-09-01T13:55:05.654Z"
   },
   {
    "duration": 51,
    "start_time": "2022-09-01T13:55:05.663Z"
   },
   {
    "duration": 26,
    "start_time": "2022-09-01T13:55:05.715Z"
   },
   {
    "duration": 3,
    "start_time": "2022-09-01T13:55:05.742Z"
   },
   {
    "duration": 194,
    "start_time": "2022-09-01T13:55:05.747Z"
   },
   {
    "duration": 0,
    "start_time": "2022-09-01T13:55:05.942Z"
   },
   {
    "duration": 0,
    "start_time": "2022-09-01T13:55:05.944Z"
   },
   {
    "duration": 0,
    "start_time": "2022-09-01T13:55:05.944Z"
   },
   {
    "duration": 0,
    "start_time": "2022-09-01T13:55:05.946Z"
   },
   {
    "duration": 0,
    "start_time": "2022-09-01T13:55:05.947Z"
   },
   {
    "duration": 0,
    "start_time": "2022-09-01T13:55:05.947Z"
   },
   {
    "duration": 0,
    "start_time": "2022-09-01T13:55:05.948Z"
   },
   {
    "duration": 0,
    "start_time": "2022-09-01T13:55:05.949Z"
   },
   {
    "duration": 0,
    "start_time": "2022-09-01T13:55:05.950Z"
   },
   {
    "duration": 0,
    "start_time": "2022-09-01T13:55:05.952Z"
   },
   {
    "duration": 0,
    "start_time": "2022-09-01T13:55:05.952Z"
   },
   {
    "duration": 0,
    "start_time": "2022-09-01T13:55:05.953Z"
   },
   {
    "duration": 0,
    "start_time": "2022-09-01T13:55:05.954Z"
   },
   {
    "duration": 0,
    "start_time": "2022-09-01T13:55:05.955Z"
   },
   {
    "duration": 0,
    "start_time": "2022-09-01T13:55:05.956Z"
   },
   {
    "duration": 0,
    "start_time": "2022-09-01T13:55:05.957Z"
   },
   {
    "duration": 0,
    "start_time": "2022-09-01T13:55:05.958Z"
   },
   {
    "duration": 0,
    "start_time": "2022-09-01T13:55:05.958Z"
   },
   {
    "duration": 9,
    "start_time": "2022-09-01T14:26:33.767Z"
   },
   {
    "duration": 20,
    "start_time": "2022-09-01T14:26:35.369Z"
   },
   {
    "duration": 340,
    "start_time": "2022-09-01T14:26:44.656Z"
   },
   {
    "duration": 142,
    "start_time": "2022-09-01T14:26:44.998Z"
   },
   {
    "duration": 7,
    "start_time": "2022-09-01T14:26:45.142Z"
   },
   {
    "duration": 13,
    "start_time": "2022-09-01T14:26:45.151Z"
   },
   {
    "duration": 5,
    "start_time": "2022-09-01T14:26:45.166Z"
   },
   {
    "duration": 15,
    "start_time": "2022-09-01T14:26:45.172Z"
   },
   {
    "duration": 5,
    "start_time": "2022-09-01T14:26:45.189Z"
   },
   {
    "duration": 30,
    "start_time": "2022-09-01T14:26:45.196Z"
   },
   {
    "duration": 10,
    "start_time": "2022-09-01T14:26:45.228Z"
   },
   {
    "duration": 26,
    "start_time": "2022-09-01T14:26:45.241Z"
   },
   {
    "duration": 62,
    "start_time": "2022-09-01T14:26:45.268Z"
   },
   {
    "duration": 63,
    "start_time": "2022-09-01T14:26:45.332Z"
   },
   {
    "duration": 55,
    "start_time": "2022-09-01T14:26:45.396Z"
   },
   {
    "duration": 9,
    "start_time": "2022-09-01T14:26:45.452Z"
   },
   {
    "duration": 16,
    "start_time": "2022-09-01T14:26:45.462Z"
   },
   {
    "duration": 11,
    "start_time": "2022-09-01T14:26:45.480Z"
   },
   {
    "duration": 19,
    "start_time": "2022-09-01T14:26:45.493Z"
   },
   {
    "duration": 30,
    "start_time": "2022-09-01T14:26:45.513Z"
   },
   {
    "duration": 25,
    "start_time": "2022-09-01T14:26:45.544Z"
   },
   {
    "duration": 3,
    "start_time": "2022-09-01T14:26:45.570Z"
   },
   {
    "duration": 66,
    "start_time": "2022-09-01T14:26:45.575Z"
   },
   {
    "duration": 0,
    "start_time": "2022-09-01T14:26:45.643Z"
   },
   {
    "duration": 0,
    "start_time": "2022-09-01T14:26:45.644Z"
   },
   {
    "duration": 0,
    "start_time": "2022-09-01T14:26:45.646Z"
   },
   {
    "duration": 0,
    "start_time": "2022-09-01T14:26:45.647Z"
   },
   {
    "duration": 0,
    "start_time": "2022-09-01T14:26:45.648Z"
   },
   {
    "duration": 0,
    "start_time": "2022-09-01T14:26:45.649Z"
   },
   {
    "duration": 0,
    "start_time": "2022-09-01T14:26:45.651Z"
   },
   {
    "duration": 0,
    "start_time": "2022-09-01T14:26:45.652Z"
   },
   {
    "duration": 0,
    "start_time": "2022-09-01T14:26:45.653Z"
   },
   {
    "duration": 0,
    "start_time": "2022-09-01T14:26:45.655Z"
   },
   {
    "duration": 0,
    "start_time": "2022-09-01T14:26:45.656Z"
   },
   {
    "duration": 0,
    "start_time": "2022-09-01T14:26:45.657Z"
   },
   {
    "duration": 0,
    "start_time": "2022-09-01T14:26:45.659Z"
   },
   {
    "duration": 0,
    "start_time": "2022-09-01T14:26:45.660Z"
   },
   {
    "duration": 0,
    "start_time": "2022-09-01T14:26:45.661Z"
   },
   {
    "duration": 0,
    "start_time": "2022-09-01T14:26:45.662Z"
   },
   {
    "duration": 0,
    "start_time": "2022-09-01T14:26:45.664Z"
   },
   {
    "duration": 0,
    "start_time": "2022-09-01T14:26:45.665Z"
   },
   {
    "duration": 63,
    "start_time": "2022-09-01T14:31:09.851Z"
   },
   {
    "duration": 13,
    "start_time": "2022-09-01T14:31:16.332Z"
   },
   {
    "duration": 52,
    "start_time": "2022-09-01T14:31:18.064Z"
   },
   {
    "duration": 46,
    "start_time": "2022-09-01T14:33:04.937Z"
   },
   {
    "duration": 57,
    "start_time": "2022-09-01T14:33:06.615Z"
   },
   {
    "duration": 51,
    "start_time": "2022-09-01T14:33:07.598Z"
   },
   {
    "duration": 55,
    "start_time": "2022-09-01T14:33:44.060Z"
   },
   {
    "duration": 61,
    "start_time": "2022-09-01T14:33:46.253Z"
   },
   {
    "duration": 9,
    "start_time": "2022-09-01T14:33:49.651Z"
   },
   {
    "duration": 8,
    "start_time": "2022-09-01T14:34:19.697Z"
   },
   {
    "duration": 62,
    "start_time": "2022-09-01T14:34:22.198Z"
   },
   {
    "duration": 7,
    "start_time": "2022-09-01T14:35:00.079Z"
   },
   {
    "duration": 9,
    "start_time": "2022-09-01T14:35:10.231Z"
   },
   {
    "duration": 5,
    "start_time": "2022-09-01T14:36:54.999Z"
   },
   {
    "duration": 8,
    "start_time": "2022-09-01T14:37:06.913Z"
   },
   {
    "duration": 8,
    "start_time": "2022-09-01T14:37:10.261Z"
   },
   {
    "duration": 13,
    "start_time": "2022-09-01T14:37:15.788Z"
   },
   {
    "duration": 8,
    "start_time": "2022-09-01T14:37:21.364Z"
   },
   {
    "duration": 3,
    "start_time": "2022-09-01T14:44:30.993Z"
   },
   {
    "duration": 23,
    "start_time": "2022-09-01T14:44:44.769Z"
   },
   {
    "duration": 3,
    "start_time": "2022-09-01T14:47:14.958Z"
   },
   {
    "duration": 7,
    "start_time": "2022-09-01T14:48:05.554Z"
   },
   {
    "duration": 8,
    "start_time": "2022-09-01T14:48:17.420Z"
   },
   {
    "duration": 6,
    "start_time": "2022-09-01T14:48:50.699Z"
   },
   {
    "duration": 3,
    "start_time": "2022-09-01T14:48:53.878Z"
   },
   {
    "duration": 3,
    "start_time": "2022-09-01T14:49:04.724Z"
   },
   {
    "duration": 6,
    "start_time": "2022-09-01T14:49:11.057Z"
   },
   {
    "duration": 83,
    "start_time": "2022-09-01T14:49:23.079Z"
   },
   {
    "duration": 72,
    "start_time": "2022-09-01T14:49:27.831Z"
   },
   {
    "duration": 8,
    "start_time": "2022-09-01T14:49:31.754Z"
   },
   {
    "duration": 3,
    "start_time": "2022-09-01T14:49:59.093Z"
   },
   {
    "duration": 3,
    "start_time": "2022-09-01T14:50:01.064Z"
   },
   {
    "duration": 3,
    "start_time": "2022-09-01T14:52:05.252Z"
   },
   {
    "duration": 4,
    "start_time": "2022-09-01T14:53:07.305Z"
   },
   {
    "duration": 3,
    "start_time": "2022-09-01T14:53:17.398Z"
   },
   {
    "duration": 27,
    "start_time": "2022-09-01T14:53:49.791Z"
   },
   {
    "duration": 409,
    "start_time": "2022-09-01T14:54:02.689Z"
   },
   {
    "duration": 135,
    "start_time": "2022-09-01T14:54:03.106Z"
   },
   {
    "duration": 9,
    "start_time": "2022-09-01T14:54:03.242Z"
   },
   {
    "duration": 9,
    "start_time": "2022-09-01T14:54:03.253Z"
   },
   {
    "duration": 20,
    "start_time": "2022-09-01T14:54:03.264Z"
   },
   {
    "duration": 16,
    "start_time": "2022-09-01T14:54:03.286Z"
   },
   {
    "duration": 16,
    "start_time": "2022-09-01T14:54:03.303Z"
   },
   {
    "duration": 29,
    "start_time": "2022-09-01T14:54:03.320Z"
   },
   {
    "duration": 17,
    "start_time": "2022-09-01T14:54:03.350Z"
   },
   {
    "duration": 29,
    "start_time": "2022-09-01T14:54:03.369Z"
   },
   {
    "duration": 56,
    "start_time": "2022-09-01T14:54:03.400Z"
   },
   {
    "duration": 0,
    "start_time": "2022-09-01T14:54:03.458Z"
   },
   {
    "duration": 0,
    "start_time": "2022-09-01T14:54:03.459Z"
   },
   {
    "duration": 0,
    "start_time": "2022-09-01T14:54:03.460Z"
   },
   {
    "duration": 0,
    "start_time": "2022-09-01T14:54:03.461Z"
   },
   {
    "duration": 0,
    "start_time": "2022-09-01T14:54:03.462Z"
   },
   {
    "duration": 0,
    "start_time": "2022-09-01T14:54:03.463Z"
   },
   {
    "duration": 0,
    "start_time": "2022-09-01T14:54:03.464Z"
   },
   {
    "duration": 0,
    "start_time": "2022-09-01T14:54:03.467Z"
   },
   {
    "duration": 0,
    "start_time": "2022-09-01T14:54:03.468Z"
   },
   {
    "duration": 0,
    "start_time": "2022-09-01T14:54:03.468Z"
   },
   {
    "duration": 0,
    "start_time": "2022-09-01T14:54:03.469Z"
   },
   {
    "duration": 0,
    "start_time": "2022-09-01T14:54:03.471Z"
   },
   {
    "duration": 0,
    "start_time": "2022-09-01T14:54:03.471Z"
   },
   {
    "duration": 0,
    "start_time": "2022-09-01T14:54:03.473Z"
   },
   {
    "duration": 0,
    "start_time": "2022-09-01T14:54:03.473Z"
   },
   {
    "duration": 0,
    "start_time": "2022-09-01T14:54:03.474Z"
   },
   {
    "duration": 0,
    "start_time": "2022-09-01T14:54:03.506Z"
   },
   {
    "duration": 0,
    "start_time": "2022-09-01T14:54:03.508Z"
   },
   {
    "duration": 0,
    "start_time": "2022-09-01T14:54:03.509Z"
   },
   {
    "duration": 0,
    "start_time": "2022-09-01T14:54:03.510Z"
   },
   {
    "duration": 0,
    "start_time": "2022-09-01T14:54:03.511Z"
   },
   {
    "duration": 0,
    "start_time": "2022-09-01T14:54:03.512Z"
   },
   {
    "duration": 0,
    "start_time": "2022-09-01T14:54:03.512Z"
   },
   {
    "duration": 0,
    "start_time": "2022-09-01T14:54:03.513Z"
   },
   {
    "duration": 0,
    "start_time": "2022-09-01T14:54:03.514Z"
   },
   {
    "duration": 0,
    "start_time": "2022-09-01T14:54:03.515Z"
   },
   {
    "duration": 0,
    "start_time": "2022-09-01T14:54:03.516Z"
   },
   {
    "duration": 0,
    "start_time": "2022-09-01T14:54:03.517Z"
   },
   {
    "duration": 0,
    "start_time": "2022-09-01T14:54:03.518Z"
   },
   {
    "duration": 0,
    "start_time": "2022-09-01T14:54:03.519Z"
   },
   {
    "duration": 0,
    "start_time": "2022-09-01T14:54:03.520Z"
   },
   {
    "duration": 6,
    "start_time": "2022-09-01T14:54:12.281Z"
   },
   {
    "duration": 16,
    "start_time": "2022-09-01T14:54:25.985Z"
   },
   {
    "duration": 55,
    "start_time": "2022-09-01T14:54:27.150Z"
   },
   {
    "duration": 64,
    "start_time": "2022-09-01T14:54:28.486Z"
   },
   {
    "duration": 6,
    "start_time": "2022-09-01T14:54:32.855Z"
   },
   {
    "duration": 3,
    "start_time": "2022-09-01T14:54:34.869Z"
   },
   {
    "duration": 4,
    "start_time": "2022-09-01T14:54:36.137Z"
   },
   {
    "duration": 10,
    "start_time": "2022-09-01T14:54:38.853Z"
   },
   {
    "duration": 3,
    "start_time": "2022-09-01T14:54:44.485Z"
   },
   {
    "duration": 22,
    "start_time": "2022-09-01T14:54:45.920Z"
   },
   {
    "duration": 11,
    "start_time": "2022-09-01T14:55:25.180Z"
   },
   {
    "duration": 11,
    "start_time": "2022-09-01T14:55:38.383Z"
   },
   {
    "duration": 4,
    "start_time": "2022-09-01T15:19:11.158Z"
   },
   {
    "duration": 4,
    "start_time": "2022-09-01T15:19:42.316Z"
   },
   {
    "duration": 7,
    "start_time": "2022-09-01T15:19:49.109Z"
   },
   {
    "duration": 14,
    "start_time": "2022-09-01T15:19:59.453Z"
   },
   {
    "duration": 11,
    "start_time": "2022-09-01T15:20:21.749Z"
   },
   {
    "duration": 17,
    "start_time": "2022-09-01T15:20:37.637Z"
   },
   {
    "duration": 2,
    "start_time": "2022-09-01T15:20:52.679Z"
   },
   {
    "duration": 11,
    "start_time": "2022-09-01T15:21:12.167Z"
   },
   {
    "duration": 11,
    "start_time": "2022-09-01T15:21:14.532Z"
   },
   {
    "duration": 13,
    "start_time": "2022-09-01T15:23:14.504Z"
   },
   {
    "duration": 14,
    "start_time": "2022-09-01T15:23:15.873Z"
   },
   {
    "duration": 10,
    "start_time": "2022-09-01T15:23:32.971Z"
   },
   {
    "duration": 13,
    "start_time": "2022-09-01T15:23:33.903Z"
   },
   {
    "duration": 14,
    "start_time": "2022-09-01T15:23:50.018Z"
   },
   {
    "duration": 14,
    "start_time": "2022-09-01T15:23:51.965Z"
   },
   {
    "duration": 15,
    "start_time": "2022-09-01T15:23:52.985Z"
   },
   {
    "duration": 13,
    "start_time": "2022-09-01T15:23:53.946Z"
   },
   {
    "duration": 14,
    "start_time": "2022-09-01T15:23:54.824Z"
   },
   {
    "duration": 14,
    "start_time": "2022-09-01T15:23:56.248Z"
   },
   {
    "duration": 70,
    "start_time": "2022-09-01T15:30:37.783Z"
   },
   {
    "duration": 56,
    "start_time": "2022-09-01T15:32:15.131Z"
   },
   {
    "duration": 7,
    "start_time": "2022-09-01T15:32:17.247Z"
   },
   {
    "duration": 53,
    "start_time": "2022-09-01T15:34:50.131Z"
   },
   {
    "duration": 7,
    "start_time": "2022-09-01T15:34:52.772Z"
   },
   {
    "duration": 64,
    "start_time": "2022-09-01T15:35:09.729Z"
   },
   {
    "duration": 6,
    "start_time": "2022-09-01T15:35:11.317Z"
   },
   {
    "duration": 7,
    "start_time": "2022-09-01T15:37:11.032Z"
   },
   {
    "duration": 8,
    "start_time": "2022-09-01T15:37:54.239Z"
   },
   {
    "duration": 4,
    "start_time": "2022-09-01T15:52:09.928Z"
   },
   {
    "duration": 7,
    "start_time": "2022-09-01T16:44:19.675Z"
   },
   {
    "duration": 6,
    "start_time": "2022-09-01T16:44:29.831Z"
   },
   {
    "duration": 1433,
    "start_time": "2022-09-01T16:44:54.757Z"
   },
   {
    "duration": 2091,
    "start_time": "2022-09-01T16:45:14.075Z"
   },
   {
    "duration": 1167,
    "start_time": "2022-09-01T16:45:42.235Z"
   },
   {
    "duration": 3,
    "start_time": "2022-09-01T16:45:58.336Z"
   },
   {
    "duration": 8149,
    "start_time": "2022-09-01T16:46:01.948Z"
   },
   {
    "duration": 1493,
    "start_time": "2022-09-01T16:47:26.211Z"
   },
   {
    "duration": 1366,
    "start_time": "2022-09-01T16:47:32.671Z"
   },
   {
    "duration": 1426,
    "start_time": "2022-09-01T16:49:02.964Z"
   },
   {
    "duration": 3,
    "start_time": "2022-09-01T16:50:25.864Z"
   },
   {
    "duration": 6,
    "start_time": "2022-09-01T16:50:29.105Z"
   },
   {
    "duration": 7,
    "start_time": "2022-09-01T16:50:39.944Z"
   },
   {
    "duration": 8,
    "start_time": "2022-09-01T16:50:44.816Z"
   },
   {
    "duration": 9,
    "start_time": "2022-09-01T16:50:52.867Z"
   },
   {
    "duration": 6,
    "start_time": "2022-09-01T16:52:06.818Z"
   },
   {
    "duration": 6,
    "start_time": "2022-09-01T16:52:32.257Z"
   },
   {
    "duration": 70,
    "start_time": "2022-09-01T16:52:59.837Z"
   },
   {
    "duration": 3,
    "start_time": "2022-09-01T16:53:04.795Z"
   },
   {
    "duration": 6,
    "start_time": "2022-09-01T16:53:10.563Z"
   },
   {
    "duration": 6,
    "start_time": "2022-09-01T16:53:13.064Z"
   },
   {
    "duration": 9,
    "start_time": "2022-09-01T16:53:29.194Z"
   },
   {
    "duration": 7,
    "start_time": "2022-09-01T16:53:32.740Z"
   },
   {
    "duration": 7,
    "start_time": "2022-09-01T16:53:41.843Z"
   },
   {
    "duration": 9,
    "start_time": "2022-09-01T16:53:45.859Z"
   },
   {
    "duration": 5,
    "start_time": "2022-09-01T16:53:51.668Z"
   },
   {
    "duration": 10,
    "start_time": "2022-09-01T16:53:53.954Z"
   },
   {
    "duration": 9,
    "start_time": "2022-09-01T16:54:23.917Z"
   },
   {
    "duration": 8,
    "start_time": "2022-09-01T16:54:26.174Z"
   },
   {
    "duration": 14,
    "start_time": "2022-09-01T16:58:50.398Z"
   },
   {
    "duration": 13,
    "start_time": "2022-09-01T16:58:51.224Z"
   },
   {
    "duration": 15,
    "start_time": "2022-09-01T16:58:52.034Z"
   },
   {
    "duration": 13,
    "start_time": "2022-09-01T16:58:52.766Z"
   },
   {
    "duration": 13,
    "start_time": "2022-09-01T16:58:53.297Z"
   },
   {
    "duration": 13,
    "start_time": "2022-09-01T16:58:54.278Z"
   },
   {
    "duration": 52,
    "start_time": "2022-09-01T16:59:14.479Z"
   },
   {
    "duration": 53,
    "start_time": "2022-09-01T16:59:22.889Z"
   },
   {
    "duration": 7,
    "start_time": "2022-09-01T16:59:24.208Z"
   },
   {
    "duration": 56,
    "start_time": "2022-09-01T16:59:31.192Z"
   },
   {
    "duration": 6,
    "start_time": "2022-09-01T16:59:34.775Z"
   },
   {
    "duration": 12,
    "start_time": "2022-09-01T16:59:44.230Z"
   },
   {
    "duration": 1244,
    "start_time": "2022-09-01T16:59:48.943Z"
   },
   {
    "duration": 11,
    "start_time": "2022-09-01T16:59:58.679Z"
   },
   {
    "duration": 9,
    "start_time": "2022-09-01T17:00:00.347Z"
   },
   {
    "duration": 51,
    "start_time": "2022-09-01T17:00:09.058Z"
   },
   {
    "duration": 56,
    "start_time": "2022-09-01T17:00:40.433Z"
   },
   {
    "duration": 7,
    "start_time": "2022-09-01T17:00:42.015Z"
   },
   {
    "duration": 10,
    "start_time": "2022-09-01T17:00:45.104Z"
   },
   {
    "duration": 11,
    "start_time": "2022-09-01T17:00:46.225Z"
   },
   {
    "duration": 23,
    "start_time": "2022-09-01T17:02:58.594Z"
   },
   {
    "duration": 3,
    "start_time": "2022-09-01T17:05:04.292Z"
   },
   {
    "duration": 15,
    "start_time": "2022-09-01T17:05:07.466Z"
   },
   {
    "duration": 12,
    "start_time": "2022-09-01T17:05:17.054Z"
   },
   {
    "duration": 14,
    "start_time": "2022-09-01T17:05:26.368Z"
   },
   {
    "duration": 9,
    "start_time": "2022-09-01T17:05:32.443Z"
   },
   {
    "duration": 11,
    "start_time": "2022-09-01T17:05:54.132Z"
   },
   {
    "duration": 15,
    "start_time": "2022-09-01T17:05:54.698Z"
   },
   {
    "duration": 11,
    "start_time": "2022-09-01T17:05:55.805Z"
   },
   {
    "duration": 3,
    "start_time": "2022-09-01T17:06:50.296Z"
   },
   {
    "duration": 7,
    "start_time": "2022-09-01T17:11:58.993Z"
   },
   {
    "duration": 4,
    "start_time": "2022-09-01T17:15:46.442Z"
   },
   {
    "duration": 15,
    "start_time": "2022-09-01T17:15:51.156Z"
   },
   {
    "duration": 13,
    "start_time": "2022-09-01T17:15:59.922Z"
   },
   {
    "duration": 15,
    "start_time": "2022-09-01T17:16:02.693Z"
   },
   {
    "duration": 4,
    "start_time": "2022-09-01T17:16:48.071Z"
   },
   {
    "duration": 14,
    "start_time": "2022-09-01T17:17:07.496Z"
   },
   {
    "duration": 12,
    "start_time": "2022-09-01T17:17:07.512Z"
   },
   {
    "duration": 23,
    "start_time": "2022-09-01T17:17:07.525Z"
   },
   {
    "duration": 9,
    "start_time": "2022-09-01T17:17:07.550Z"
   },
   {
    "duration": 6,
    "start_time": "2022-09-01T17:17:07.561Z"
   },
   {
    "duration": 0,
    "start_time": "2022-09-01T17:17:07.569Z"
   },
   {
    "duration": 0,
    "start_time": "2022-09-01T17:17:07.569Z"
   },
   {
    "duration": 0,
    "start_time": "2022-09-01T17:17:07.570Z"
   },
   {
    "duration": 7,
    "start_time": "2022-09-01T17:17:45.483Z"
   },
   {
    "duration": 6,
    "start_time": "2022-09-01T17:18:46.420Z"
   },
   {
    "duration": 8,
    "start_time": "2022-09-01T17:18:49.852Z"
   },
   {
    "duration": 7,
    "start_time": "2022-09-01T17:18:53.897Z"
   },
   {
    "duration": 5,
    "start_time": "2022-09-01T17:18:56.256Z"
   },
   {
    "duration": 6,
    "start_time": "2022-09-01T17:19:34.475Z"
   },
   {
    "duration": 10,
    "start_time": "2022-09-01T17:19:47.319Z"
   },
   {
    "duration": 4,
    "start_time": "2022-09-01T17:20:17.593Z"
   },
   {
    "duration": 5,
    "start_time": "2022-09-01T17:20:21.583Z"
   },
   {
    "duration": 7,
    "start_time": "2022-09-01T17:20:22.733Z"
   },
   {
    "duration": 121,
    "start_time": "2022-09-01T20:28:10.592Z"
   },
   {
    "duration": 405,
    "start_time": "2022-09-01T20:28:26.540Z"
   },
   {
    "duration": 469,
    "start_time": "2022-09-01T20:28:26.947Z"
   },
   {
    "duration": 8,
    "start_time": "2022-09-01T20:28:27.418Z"
   },
   {
    "duration": 7,
    "start_time": "2022-09-01T20:28:27.429Z"
   },
   {
    "duration": 6,
    "start_time": "2022-09-01T20:28:27.438Z"
   },
   {
    "duration": 16,
    "start_time": "2022-09-01T20:28:27.446Z"
   },
   {
    "duration": 6,
    "start_time": "2022-09-01T20:28:27.463Z"
   },
   {
    "duration": 25,
    "start_time": "2022-09-01T20:28:27.471Z"
   },
   {
    "duration": 9,
    "start_time": "2022-09-01T20:28:27.498Z"
   },
   {
    "duration": 22,
    "start_time": "2022-09-01T20:28:27.509Z"
   },
   {
    "duration": 27,
    "start_time": "2022-09-01T20:28:27.532Z"
   },
   {
    "duration": 49,
    "start_time": "2022-09-01T20:28:27.560Z"
   },
   {
    "duration": 70,
    "start_time": "2022-09-01T20:28:27.610Z"
   },
   {
    "duration": 6,
    "start_time": "2022-09-01T20:28:27.682Z"
   },
   {
    "duration": 7,
    "start_time": "2022-09-01T20:28:27.689Z"
   },
   {
    "duration": 5,
    "start_time": "2022-09-01T20:28:27.698Z"
   },
   {
    "duration": 9,
    "start_time": "2022-09-01T20:28:27.705Z"
   },
   {
    "duration": 7,
    "start_time": "2022-09-01T20:28:27.715Z"
   },
   {
    "duration": 38,
    "start_time": "2022-09-01T20:28:27.723Z"
   },
   {
    "duration": 13,
    "start_time": "2022-09-01T20:28:27.762Z"
   },
   {
    "duration": 13,
    "start_time": "2022-09-01T20:28:27.776Z"
   },
   {
    "duration": 5,
    "start_time": "2022-09-01T20:28:27.791Z"
   },
   {
    "duration": 91,
    "start_time": "2022-09-01T20:28:27.797Z"
   },
   {
    "duration": 0,
    "start_time": "2022-09-01T20:28:27.889Z"
   },
   {
    "duration": 0,
    "start_time": "2022-09-01T20:28:27.891Z"
   },
   {
    "duration": 0,
    "start_time": "2022-09-01T20:28:27.892Z"
   },
   {
    "duration": 0,
    "start_time": "2022-09-01T20:28:27.893Z"
   },
   {
    "duration": 0,
    "start_time": "2022-09-01T20:28:27.894Z"
   },
   {
    "duration": 0,
    "start_time": "2022-09-01T20:28:27.895Z"
   },
   {
    "duration": 0,
    "start_time": "2022-09-01T20:28:27.895Z"
   },
   {
    "duration": 0,
    "start_time": "2022-09-01T20:28:27.897Z"
   },
   {
    "duration": 0,
    "start_time": "2022-09-01T20:28:27.898Z"
   },
   {
    "duration": 0,
    "start_time": "2022-09-01T20:28:27.898Z"
   },
   {
    "duration": 0,
    "start_time": "2022-09-01T20:28:27.899Z"
   },
   {
    "duration": 0,
    "start_time": "2022-09-01T20:28:27.900Z"
   },
   {
    "duration": 0,
    "start_time": "2022-09-01T20:28:27.901Z"
   },
   {
    "duration": 0,
    "start_time": "2022-09-01T20:28:27.902Z"
   },
   {
    "duration": 0,
    "start_time": "2022-09-01T20:28:27.903Z"
   },
   {
    "duration": 0,
    "start_time": "2022-09-01T20:28:27.903Z"
   },
   {
    "duration": 0,
    "start_time": "2022-09-01T20:28:27.904Z"
   },
   {
    "duration": 0,
    "start_time": "2022-09-01T20:28:27.905Z"
   },
   {
    "duration": 0,
    "start_time": "2022-09-01T20:28:27.906Z"
   },
   {
    "duration": 0,
    "start_time": "2022-09-01T20:28:27.907Z"
   },
   {
    "duration": 24,
    "start_time": "2022-09-01T20:30:11.679Z"
   },
   {
    "duration": 23,
    "start_time": "2022-09-01T20:30:29.753Z"
   },
   {
    "duration": 79,
    "start_time": "2022-09-01T20:36:21.932Z"
   },
   {
    "duration": 2,
    "start_time": "2022-09-01T20:36:28.855Z"
   },
   {
    "duration": 15,
    "start_time": "2022-09-01T20:37:40.344Z"
   },
   {
    "duration": 12,
    "start_time": "2022-09-01T20:37:41.630Z"
   },
   {
    "duration": 13,
    "start_time": "2022-09-01T20:37:42.132Z"
   },
   {
    "duration": 12,
    "start_time": "2022-09-01T20:37:42.606Z"
   },
   {
    "duration": 18,
    "start_time": "2022-09-01T20:37:42.976Z"
   },
   {
    "duration": 13,
    "start_time": "2022-09-01T20:37:43.348Z"
   },
   {
    "duration": 52,
    "start_time": "2022-09-01T20:37:45.048Z"
   },
   {
    "duration": 7,
    "start_time": "2022-09-01T20:37:46.333Z"
   },
   {
    "duration": 22,
    "start_time": "2022-09-01T20:38:22.948Z"
   },
   {
    "duration": 379,
    "start_time": "2022-09-01T20:38:35.225Z"
   },
   {
    "duration": 141,
    "start_time": "2022-09-01T20:38:35.606Z"
   },
   {
    "duration": 10,
    "start_time": "2022-09-01T20:38:35.748Z"
   },
   {
    "duration": 4,
    "start_time": "2022-09-01T20:38:35.760Z"
   },
   {
    "duration": 7,
    "start_time": "2022-09-01T20:38:35.766Z"
   },
   {
    "duration": 14,
    "start_time": "2022-09-01T20:38:35.775Z"
   },
   {
    "duration": 5,
    "start_time": "2022-09-01T20:38:35.790Z"
   },
   {
    "duration": 31,
    "start_time": "2022-09-01T20:38:35.796Z"
   },
   {
    "duration": 27,
    "start_time": "2022-09-01T20:38:35.828Z"
   },
   {
    "duration": 25,
    "start_time": "2022-09-01T20:38:35.857Z"
   },
   {
    "duration": 25,
    "start_time": "2022-09-01T20:38:35.883Z"
   },
   {
    "duration": 62,
    "start_time": "2022-09-01T20:38:35.910Z"
   },
   {
    "duration": 64,
    "start_time": "2022-09-01T20:38:35.973Z"
   },
   {
    "duration": 17,
    "start_time": "2022-09-01T20:38:36.038Z"
   },
   {
    "duration": 2,
    "start_time": "2022-09-01T20:38:36.057Z"
   },
   {
    "duration": 6,
    "start_time": "2022-09-01T20:38:36.061Z"
   },
   {
    "duration": 10,
    "start_time": "2022-09-01T20:38:36.069Z"
   },
   {
    "duration": 3,
    "start_time": "2022-09-01T20:38:36.081Z"
   },
   {
    "duration": 27,
    "start_time": "2022-09-01T20:38:36.086Z"
   },
   {
    "duration": 10,
    "start_time": "2022-09-01T20:38:36.115Z"
   },
   {
    "duration": 35,
    "start_time": "2022-09-01T20:38:36.127Z"
   },
   {
    "duration": 4,
    "start_time": "2022-09-01T20:38:36.163Z"
   },
   {
    "duration": 5,
    "start_time": "2022-09-01T20:38:36.168Z"
   },
   {
    "duration": 17,
    "start_time": "2022-09-01T20:38:36.174Z"
   },
   {
    "duration": 12,
    "start_time": "2022-09-01T20:38:36.192Z"
   },
   {
    "duration": 12,
    "start_time": "2022-09-01T20:38:36.206Z"
   },
   {
    "duration": 43,
    "start_time": "2022-09-01T20:38:36.219Z"
   },
   {
    "duration": 13,
    "start_time": "2022-09-01T20:38:36.265Z"
   },
   {
    "duration": 11,
    "start_time": "2022-09-01T20:38:36.280Z"
   },
   {
    "duration": 71,
    "start_time": "2022-09-01T20:38:36.293Z"
   },
   {
    "duration": 8,
    "start_time": "2022-09-01T20:38:36.365Z"
   },
   {
    "duration": 12,
    "start_time": "2022-09-01T20:38:36.374Z"
   },
   {
    "duration": 8,
    "start_time": "2022-09-01T20:38:36.388Z"
   },
   {
    "duration": 22,
    "start_time": "2022-09-01T20:38:36.397Z"
   },
   {
    "duration": 3,
    "start_time": "2022-09-01T20:38:36.420Z"
   },
   {
    "duration": 38,
    "start_time": "2022-09-01T20:38:36.425Z"
   },
   {
    "duration": 53,
    "start_time": "2022-09-01T20:38:36.465Z"
   },
   {
    "duration": 0,
    "start_time": "2022-09-01T20:38:36.519Z"
   },
   {
    "duration": 0,
    "start_time": "2022-09-01T20:38:36.520Z"
   },
   {
    "duration": 0,
    "start_time": "2022-09-01T20:38:36.521Z"
   },
   {
    "duration": 0,
    "start_time": "2022-09-01T20:38:36.522Z"
   },
   {
    "duration": 0,
    "start_time": "2022-09-01T20:38:36.523Z"
   },
   {
    "duration": 0,
    "start_time": "2022-09-01T20:38:36.524Z"
   },
   {
    "duration": 11,
    "start_time": "2022-09-01T20:39:21.471Z"
   },
   {
    "duration": 14,
    "start_time": "2022-09-01T20:39:23.368Z"
   },
   {
    "duration": 10,
    "start_time": "2022-09-01T20:39:25.664Z"
   },
   {
    "duration": 8,
    "start_time": "2022-09-01T20:39:37.607Z"
   },
   {
    "duration": 4,
    "start_time": "2022-09-01T20:39:39.530Z"
   },
   {
    "duration": 7,
    "start_time": "2022-09-01T20:39:39.901Z"
   },
   {
    "duration": 6,
    "start_time": "2022-09-01T20:39:40.918Z"
   },
   {
    "duration": 6,
    "start_time": "2022-09-01T20:39:59.184Z"
   },
   {
    "duration": 5,
    "start_time": "2022-09-01T20:40:02.719Z"
   },
   {
    "duration": 74,
    "start_time": "2022-09-01T20:42:15.446Z"
   }
  ],
  "celltoolbar": "Raw Cell Format",
  "colab": {
   "collapsed_sections": [
    "E0vqbgi9ay0H",
    "VUC88oWjTJw2",
    "atZAxtq4_Zcu"
   ],
   "name": "EmptyFinalProject.ipynb\"",
   "provenance": []
  },
  "kernelspec": {
   "display_name": "Python 3 (ipykernel)",
   "language": "python",
   "name": "python3"
  },
  "language_info": {
   "codemirror_mode": {
    "name": "ipython",
    "version": 3
   },
   "file_extension": ".py",
   "mimetype": "text/x-python",
   "name": "python",
   "nbconvert_exporter": "python",
   "pygments_lexer": "ipython3",
   "version": "3.9.5"
  },
  "toc": {
   "base_numbering": 1,
   "nav_menu": {},
   "number_sections": true,
   "sideBar": true,
   "skip_h1_title": true,
   "title_cell": "Table of Contents",
   "title_sidebar": "Contents",
   "toc_cell": false,
   "toc_position": {
    "height": "calc(100% - 180px)",
    "left": "10px",
    "top": "150px",
    "width": "165px"
   },
   "toc_section_display": true,
   "toc_window_display": false
  }
 },
 "nbformat": 4,
 "nbformat_minor": 4
}
