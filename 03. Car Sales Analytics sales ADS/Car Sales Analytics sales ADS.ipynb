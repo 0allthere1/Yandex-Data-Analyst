{
 "cells": [
  {
   "cell_type": "markdown",
   "metadata": {},
   "source": [
    "# O que vende um carro?\n",
    "\n",
    "Você é analista na Lista de Eixo de Manivela. Centenas de propagandas gratuitas de veículos são publicadas no seu site todos os dias. Você precisa estudar os dados coletados nos últimos anos e determinar quais fatores influenciaram o preço de um veículo."
   ]
  },
  {
   "cell_type": "markdown",
   "metadata": {},
   "source": [
    "## Iniciação"
   ]
  },
  {
   "cell_type": "code",
   "execution_count": 1,
   "metadata": {},
   "outputs": [],
   "source": [
    "# Carregando todas as bibliotecas\n",
    "import pandas as pd\n",
    "import numpy as np\n",
    "import matplotlib.pyplot as plt"
   ]
  },
  {
   "cell_type": "markdown",
   "metadata": {},
   "source": [
    "### Carregue dados"
   ]
  },
  {
   "cell_type": "code",
   "execution_count": 2,
   "metadata": {},
   "outputs": [],
   "source": [
    "# Carregue o arquivo com os dados em um DataFrame\n",
    "\n",
    "us_car = pd.read_csv('/datasets/vehicles_us.csv')\n",
    "\n"
   ]
  },
  {
   "cell_type": "markdown",
   "metadata": {},
   "source": [
    "### Explore os dados iniciais"
   ]
  },
  {
   "cell_type": "markdown",
   "metadata": {},
   "source": [
    "O conjunto de dados contém os seguintes campos:\n",
    "- `price`\n",
    "- `model_year`\n",
    "- `model`\n",
    "- `condition`\n",
    "- `cylinders`\n",
    "- `fuel` — gasolina, diesel etc.\n",
    "- `odometer` — a quilometragem do veículo quando a propaganda foi publicada \n",
    "- `transmission`\n",
    "- `paint_color`\n",
    "- `is_4wd` — Se o veículo é 4 por 4 (tipo Booleano)\n",
    "- `date_posted` — a data que a propaganda foi publicada\n",
    "- `days_listed` — dias desde a publicação até a retirada\n",
    "\n"
   ]
  },
  {
   "cell_type": "code",
   "execution_count": 3,
   "metadata": {},
   "outputs": [
    {
     "name": "stdout",
     "output_type": "stream",
     "text": [
      "<class 'pandas.core.frame.DataFrame'>\n",
      "RangeIndex: 51525 entries, 0 to 51524\n",
      "Data columns (total 13 columns):\n",
      " #   Column        Non-Null Count  Dtype  \n",
      "---  ------        --------------  -----  \n",
      " 0   price         51525 non-null  int64  \n",
      " 1   model_year    47906 non-null  float64\n",
      " 2   model         51525 non-null  object \n",
      " 3   condition     51525 non-null  object \n",
      " 4   cylinders     46265 non-null  float64\n",
      " 5   fuel          51525 non-null  object \n",
      " 6   odometer      43633 non-null  float64\n",
      " 7   transmission  51525 non-null  object \n",
      " 8   type          51525 non-null  object \n",
      " 9   paint_color   42258 non-null  object \n",
      " 10  is_4wd        25572 non-null  float64\n",
      " 11  date_posted   51525 non-null  object \n",
      " 12  days_listed   51525 non-null  int64  \n",
      "dtypes: float64(4), int64(2), object(7)\n",
      "memory usage: 5.1+ MB\n",
      "None\n"
     ]
    }
   ],
   "source": [
    "# imprima as informações gerais/resumidas sobre o DataFrame\n",
    "\n",
    "print(us_car.info())"
   ]
  },
  {
   "cell_type": "code",
   "execution_count": 4,
   "metadata": {
    "scrolled": true
   },
   "outputs": [
    {
     "name": "stdout",
     "output_type": "stream",
     "text": [
      "   price  model_year           model  condition  cylinders fuel  odometer  \\\n",
      "0   9400      2011.0          bmw x5       good        6.0  gas  145000.0   \n",
      "1  25500         NaN      ford f-150       good        6.0  gas   88705.0   \n",
      "2   5500      2013.0  hyundai sonata   like new        4.0  gas  110000.0   \n",
      "3   1500      2003.0      ford f-150       fair        8.0  gas       NaN   \n",
      "4  14900      2017.0    chrysler 200  excellent        4.0  gas   80903.0   \n",
      "5  14990      2014.0    chrysler 300  excellent        6.0  gas   57954.0   \n",
      "6  12990      2015.0    toyota camry  excellent        4.0  gas   79212.0   \n",
      "7  15990      2013.0     honda pilot  excellent        6.0  gas  109473.0   \n",
      "8  11500      2012.0     kia sorento  excellent        4.0  gas  104174.0   \n",
      "9   9200      2008.0     honda pilot  excellent        NaN  gas  147191.0   \n",
      "\n",
      "  transmission    type paint_color  is_4wd date_posted  days_listed  \n",
      "0    automatic     SUV         NaN     1.0  2018-06-23           19  \n",
      "1    automatic  pickup       white     1.0  2018-10-19           50  \n",
      "2    automatic   sedan         red     NaN  2019-02-07           79  \n",
      "3    automatic  pickup         NaN     NaN  2019-03-22            9  \n",
      "4    automatic   sedan       black     NaN  2019-04-02           28  \n",
      "5    automatic   sedan       black     1.0  2018-06-20           15  \n",
      "6    automatic   sedan       white     NaN  2018-12-27           73  \n",
      "7    automatic     SUV       black     1.0  2019-01-07           68  \n",
      "8    automatic     SUV         NaN     1.0  2018-07-16           19  \n",
      "9    automatic     SUV        blue     1.0  2019-02-15           17  \n"
     ]
    }
   ],
   "source": [
    "# imprima uma amostragem dos dados\n",
    "\n",
    "print(us_car.head(10))"
   ]
  },
  {
   "cell_type": "markdown",
   "metadata": {},
   "source": [
    "** Podemos ver algumas informacoes faltantes e NAN. \n",
    "\n",
    "- `paint_color   42258`\n",
    "\n",
    "- `model_year    47906`\n",
    "- `cylinders     46265` \n",
    "- `odometer      43633`\n",
    "- `is_4wd        25572`\n",
    "\n",
    "- `NAN\n"
   ]
  },
  {
   "cell_type": "markdown",
   "metadata": {},
   "source": [
    "### Conclusões e próximos passos"
   ]
  },
  {
   "cell_type": "markdown",
   "metadata": {},
   "source": [
    "## Cuide dos valores ausentes (se houver algum)"
   ]
  },
  {
   "cell_type": "code",
   "execution_count": 5,
   "metadata": {},
   "outputs": [
    {
     "data": {
      "text/plain": [
       "<bound method NDFrame.convert_dtypes of        price  model_year           model  condition  cylinders fuel  odometer  \\\n",
       "0       9400      2011.0          bmw x5       good        6.0  gas  145000.0   \n",
       "1      25500         NaN      ford f-150       good        6.0  gas   88705.0   \n",
       "2       5500      2013.0  hyundai sonata   like new        4.0  gas  110000.0   \n",
       "3       1500      2003.0      ford f-150       fair        8.0  gas       NaN   \n",
       "4      14900      2017.0    chrysler 200  excellent        4.0  gas   80903.0   \n",
       "...      ...         ...             ...        ...        ...  ...       ...   \n",
       "51520   9249      2013.0   nissan maxima   like new        6.0  gas   88136.0   \n",
       "51521   2700      2002.0     honda civic    salvage        4.0  gas  181500.0   \n",
       "51522   3950      2009.0  hyundai sonata  excellent        4.0  gas  128000.0   \n",
       "51523   7455      2013.0  toyota corolla       good        4.0  gas  139573.0   \n",
       "51524   6300      2014.0   nissan altima       good        4.0  gas       NaN   \n",
       "\n",
       "      transmission    type paint_color  is_4wd date_posted  days_listed  \n",
       "0        automatic     SUV         NaN     1.0  2018-06-23           19  \n",
       "1        automatic  pickup       white     1.0  2018-10-19           50  \n",
       "2        automatic   sedan         red     NaN  2019-02-07           79  \n",
       "3        automatic  pickup         NaN     NaN  2019-03-22            9  \n",
       "4        automatic   sedan       black     NaN  2019-04-02           28  \n",
       "...            ...     ...         ...     ...         ...          ...  \n",
       "51520    automatic   sedan       black     NaN  2018-10-03           37  \n",
       "51521    automatic   sedan       white     NaN  2018-11-14           22  \n",
       "51522    automatic   sedan        blue     NaN  2018-11-15           32  \n",
       "51523    automatic   sedan       black     NaN  2018-07-02           71  \n",
       "51524    automatic   sedan         NaN     NaN  2018-06-05           10  \n",
       "\n",
       "[51525 rows x 13 columns]>"
      ]
     },
     "execution_count": 5,
     "metadata": {},
     "output_type": "execute_result"
    }
   ],
   "source": [
    "us_car.convert_dtypes"
   ]
  },
  {
   "cell_type": "code",
   "execution_count": 6,
   "metadata": {},
   "outputs": [
    {
     "name": "stdout",
     "output_type": "stream",
     "text": [
      "white     10029\n",
      "NaN        9267\n",
      "black      7692\n",
      "silver     6244\n",
      "grey       5037\n",
      "blue       4475\n",
      "red        4421\n",
      "green      1396\n",
      "brown      1223\n",
      "custom     1153\n",
      "yellow      255\n",
      "orange      231\n",
      "purple      102\n",
      "Name: paint_color, dtype: int64\n",
      "NaN       3619\n",
      "2013.0    3549\n",
      "2012.0    3468\n",
      "2014.0    3448\n",
      "2011.0    3375\n",
      "          ... \n",
      "1948.0       1\n",
      "1949.0       1\n",
      "1954.0       1\n",
      "1936.0       1\n",
      "1961.0       1\n",
      "Name: model_year, Length: 69, dtype: int64\n"
     ]
    }
   ],
   "source": [
    "#Vamos analisar detalhadamente as colunas mencionadas acima:\n",
    "print(us_car['paint_color'].value_counts(dropna=False))\n",
    "\n",
    "print(us_car['model_year'].value_counts(dropna=False))"
   ]
  },
  {
   "cell_type": "code",
   "execution_count": 7,
   "metadata": {},
   "outputs": [
    {
     "name": "stdout",
     "output_type": "stream",
     "text": [
      "       price  model_year           model  condition  cylinders fuel  odometer  \\\n",
      "0       9400      2011.0          bmw x5       good        6.0  gas  145000.0   \n",
      "1      25500         NaN      ford f-150       good        6.0  gas   88705.0   \n",
      "2       5500      2013.0  hyundai sonata   like new        4.0  gas  110000.0   \n",
      "3       1500      2003.0      ford f-150       fair        8.0  gas       NaN   \n",
      "4      14900      2017.0    chrysler 200  excellent        4.0  gas   80903.0   \n",
      "...      ...         ...             ...        ...        ...  ...       ...   \n",
      "51520   9249      2013.0   nissan maxima   like new        6.0  gas   88136.0   \n",
      "51521   2700      2002.0     honda civic    salvage        4.0  gas  181500.0   \n",
      "51522   3950      2009.0  hyundai sonata  excellent        4.0  gas  128000.0   \n",
      "51523   7455      2013.0  toyota corolla       good        4.0  gas  139573.0   \n",
      "51524   6300      2014.0   nissan altima       good        4.0  gas       NaN   \n",
      "\n",
      "      transmission    type paint_color  is_4wd date_posted  days_listed  \n",
      "0        automatic     SUV         NaN     1.0  2018-06-23           19  \n",
      "1        automatic  pickup       white     1.0  2018-10-19           50  \n",
      "2        automatic   sedan         red     NaN  2019-02-07           79  \n",
      "3        automatic  pickup         NaN     NaN  2019-03-22            9  \n",
      "4        automatic   sedan       black     NaN  2019-04-02           28  \n",
      "...            ...     ...         ...     ...         ...          ...  \n",
      "51520    automatic   sedan       black     NaN  2018-10-03           37  \n",
      "51521    automatic   sedan       white     NaN  2018-11-14           22  \n",
      "51522    automatic   sedan        blue     NaN  2018-11-15           32  \n",
      "51523    automatic   sedan       black     NaN  2018-07-02           71  \n",
      "51524    automatic   sedan         NaN     NaN  2018-06-05           10  \n",
      "\n",
      "[51525 rows x 13 columns]\n"
     ]
    }
   ],
   "source": [
    "df = pd.DataFrame(us_car)\n",
    "print(df.dropna(axis=0, how='all'))"
   ]
  },
  {
   "cell_type": "code",
   "execution_count": 8,
   "metadata": {
    "scrolled": true
   },
   "outputs": [
    {
     "name": "stdout",
     "output_type": "stream",
     "text": [
      "white     10029\n",
      "Unknow     9267\n",
      "black      7692\n",
      "silver     6244\n",
      "grey       5037\n",
      "blue       4475\n",
      "red        4421\n",
      "green      1396\n",
      "brown      1223\n",
      "custom     1153\n",
      "yellow      255\n",
      "orange      231\n",
      "purple      102\n",
      "Name: paint_color, dtype: int64\n"
     ]
    }
   ],
   "source": [
    "## PAINT_COLOR\n",
    "us_car['paint_color'] = us_car['paint_color'].fillna('Unknow')\n",
    "\n",
    "print(us_car['paint_color'].value_counts(dropna=False))"
   ]
  },
  {
   "cell_type": "code",
   "execution_count": 9,
   "metadata": {},
   "outputs": [
    {
     "name": "stdout",
     "output_type": "stream",
     "text": [
      "8.0     15844\n",
      "6.0     15700\n",
      "4.0     13864\n",
      "NaN      5260\n",
      "10.0      549\n",
      "5.0       272\n",
      "3.0        34\n",
      "12.0        2\n",
      "Name: cylinders, dtype: int64\n",
      "NaN         7892\n",
      "0.0          185\n",
      "140000.0     183\n",
      "120000.0     179\n",
      "130000.0     178\n",
      "            ... \n",
      "280499.0       1\n",
      "49814.0        1\n",
      "194920.0       1\n",
      "140800.0       1\n",
      "269527.0       1\n",
      "Name: odometer, Length: 17763, dtype: int64\n",
      "NaN    25953\n",
      "1.0    25572\n",
      "Name: is_4wd, dtype: int64\n"
     ]
    }
   ],
   "source": [
    "\n",
    "print(us_car['cylinders'].value_counts(dropna=False))\n",
    "\n",
    "print(us_car['odometer'].value_counts(dropna=False))\n",
    "\n",
    "print(us_car['is_4wd'].value_counts(dropna=False))"
   ]
  },
  {
   "cell_type": "markdown",
   "metadata": {},
   "source": [
    "## Corrija os tipos de dados"
   ]
  },
  {
   "cell_type": "markdown",
   "metadata": {},
   "source": [
    "[Como os dados estão mais ou menos completos agora, corrija os tipos de dados se necessário.]"
   ]
  },
  {
   "cell_type": "code",
   "execution_count": 10,
   "metadata": {
    "scrolled": true
   },
   "outputs": [
    {
     "name": "stdout",
     "output_type": "stream",
     "text": [
      "nao    25953\n",
      "sim    25572\n",
      "Name: is_4wd, dtype: int64\n"
     ]
    }
   ],
   "source": [
    "## Nesta sessao utilizaremos o entendimento de que para 1= a sim , 0=nao\n",
    "\n",
    "us_car['is_4wd'] = us_car['is_4wd'].fillna('nao')\n",
    "\n",
    "us_car['is_4wd'] = us_car['is_4wd'].replace(1,\"sim\")\n",
    "\n",
    "print(us_car['is_4wd'].value_counts(dropna=False))"
   ]
  },
  {
   "cell_type": "code",
   "execution_count": 11,
   "metadata": {
    "scrolled": false
   },
   "outputs": [
    {
     "name": "stdout",
     "output_type": "stream",
     "text": [
      "0        sim\n",
      "1        sim\n",
      "2        nao\n",
      "3        nao\n",
      "4        nao\n",
      "        ... \n",
      "51520    nao\n",
      "51521    nao\n",
      "51522    nao\n",
      "51523    nao\n",
      "51524    nao\n",
      "Name: is_4wd, Length: 51525, dtype: object\n"
     ]
    }
   ],
   "source": [
    "us_car['is_4wd'] = us_car['is_4wd'].astype(str)\n",
    "print(us_car['is_4wd'])"
   ]
  },
  {
   "cell_type": "markdown",
   "metadata": {},
   "source": [
    "## Enriqueça os dados"
   ]
  },
  {
   "cell_type": "code",
   "execution_count": 12,
   "metadata": {},
   "outputs": [
    {
     "name": "stdout",
     "output_type": "stream",
     "text": [
      "0       2018-06-23\n",
      "1       2018-10-19\n",
      "2       2019-02-07\n",
      "3       2019-03-22\n",
      "4       2019-04-02\n",
      "           ...    \n",
      "51520   2018-10-03\n",
      "51521   2018-11-14\n",
      "51522   2018-11-15\n",
      "51523   2018-07-02\n",
      "51524   2018-06-05\n",
      "Name: date_posted, Length: 51525, dtype: datetime64[ns]\n"
     ]
    }
   ],
   "source": [
    "# Adicione valores data/hora para quando a propaganda estiver colocada\n",
    "us_car['date_posted'] = pd.to_datetime(us_car['date_posted'], format = \"%Y-%m-%d\")\n",
    "\n",
    "print(us_car['date_posted'])"
   ]
  },
  {
   "cell_type": "code",
   "execution_count": 13,
   "metadata": {},
   "outputs": [
    {
     "name": "stdout",
     "output_type": "stream",
     "text": [
      "0        2018\n",
      "1        2018\n",
      "2        2019\n",
      "3        2019\n",
      "4        2019\n",
      "         ... \n",
      "51520    2018\n",
      "51521    2018\n",
      "51522    2018\n",
      "51523    2018\n",
      "51524    2018\n",
      "Name: year_posted, Length: 51525, dtype: int64\n"
     ]
    }
   ],
   "source": [
    "#Recuperar o ano para incluirmos na nossa coluna recem criada.\n",
    "us_car['year_posted'] = us_car['date_posted'].dt.year\n",
    "print(us_car['year_posted'])"
   ]
  },
  {
   "cell_type": "code",
   "execution_count": 14,
   "metadata": {},
   "outputs": [
    {
     "name": "stdout",
     "output_type": "stream",
     "text": [
      "0         7.0\n",
      "1         NaN\n",
      "2         6.0\n",
      "3        16.0\n",
      "4         2.0\n",
      "         ... \n",
      "51520     5.0\n",
      "51521    16.0\n",
      "51522     9.0\n",
      "51523     5.0\n",
      "51524     4.0\n",
      "Name: total_year_car, Length: 51525, dtype: float64\n"
     ]
    }
   ],
   "source": [
    "# Adicione a idade do veículo quando a propaganda for colocada\n",
    "\n",
    "us_car['total_year_car'] = (us_car['year_posted'] - us_car['model_year'])\n",
    "\n",
    "print(us_car['total_year_car'])\n"
   ]
  },
  {
   "cell_type": "code",
   "execution_count": 15,
   "metadata": {},
   "outputs": [
    {
     "name": "stdout",
     "output_type": "stream",
     "text": [
      "5.0     3524\n",
      "7.0     3467\n",
      "4.0     3456\n",
      "6.0     3440\n",
      "3.0     3169\n",
      "        ... \n",
      "63.0       1\n",
      "89.0       1\n",
      "43.0       1\n",
      "59.0       1\n",
      "65.0       1\n",
      "Name: total_year_car, Length: 68, dtype: int64\n"
     ]
    }
   ],
   "source": [
    "print(us_car['total_year_car'].value_counts())"
   ]
  },
  {
   "cell_type": "code",
   "execution_count": 16,
   "metadata": {},
   "outputs": [
    {
     "name": "stdout",
     "output_type": "stream",
     "text": [
      "0        20714.0\n",
      "1            NaN\n",
      "2        18333.0\n",
      "3            NaN\n",
      "4        40452.0\n",
      "          ...   \n",
      "51520    17627.0\n",
      "51521    11344.0\n",
      "51522    14222.0\n",
      "51523    27915.0\n",
      "51524        NaN\n",
      "Name: mean_km_year, Length: 51525, dtype: float64\n"
     ]
    }
   ],
   "source": [
    "# Adicione a quilometragem média por ano\n",
    "# Vamos utilizar o total_year_car calculado acima e dividir pelo odometer para obtermos a media por ano\n",
    "# Para calcular o odometer\n",
    "# arredondar utilizando around\n",
    "\n",
    "us_car['mean_km_year'] = (us_car['odometer'] / us_car['total_year_car']).round(0)\n",
    "\n",
    "print(us_car['mean_km_year'])\n"
   ]
  },
  {
   "cell_type": "markdown",
   "metadata": {},
   "source": [
    "## Verifique os dados limpos"
   ]
  },
  {
   "cell_type": "code",
   "execution_count": 17,
   "metadata": {
    "scrolled": false
   },
   "outputs": [
    {
     "name": "stdout",
     "output_type": "stream",
     "text": [
      "<class 'pandas.core.frame.DataFrame'>\n",
      "RangeIndex: 51525 entries, 0 to 51524\n",
      "Data columns (total 16 columns):\n",
      " #   Column          Non-Null Count  Dtype         \n",
      "---  ------          --------------  -----         \n",
      " 0   price           51525 non-null  int64         \n",
      " 1   model_year      47906 non-null  float64       \n",
      " 2   model           51525 non-null  object        \n",
      " 3   condition       51525 non-null  object        \n",
      " 4   cylinders       46265 non-null  float64       \n",
      " 5   fuel            51525 non-null  object        \n",
      " 6   odometer        43633 non-null  float64       \n",
      " 7   transmission    51525 non-null  object        \n",
      " 8   type            51525 non-null  object        \n",
      " 9   paint_color     51525 non-null  object        \n",
      " 10  is_4wd          51525 non-null  object        \n",
      " 11  date_posted     51525 non-null  datetime64[ns]\n",
      " 12  days_listed     51525 non-null  int64         \n",
      " 13  year_posted     51525 non-null  int64         \n",
      " 14  total_year_car  47906 non-null  float64       \n",
      " 15  mean_km_year    40561 non-null  float64       \n",
      "dtypes: datetime64[ns](1), float64(5), int64(3), object(7)\n",
      "memory usage: 6.3+ MB\n",
      "None\n"
     ]
    }
   ],
   "source": [
    "# imprima as informações gerais/resumidas sobre o DataFrame\n",
    "\n",
    "print(us_car.info(10))"
   ]
  },
  {
   "cell_type": "code",
   "execution_count": 18,
   "metadata": {},
   "outputs": [
    {
     "name": "stdout",
     "output_type": "stream",
     "text": [
      "              price   model_year     cylinders       odometer  days_listed  \\\n",
      "count   51525.00000  47906.00000  46265.000000   43633.000000  51525.00000   \n",
      "mean    12132.46492   2009.75047      6.125235  115553.461738     39.55476   \n",
      "min         1.00000   1908.00000      3.000000       0.000000      0.00000   \n",
      "25%      5000.00000   2006.00000      4.000000   70000.000000     19.00000   \n",
      "50%      9000.00000   2011.00000      6.000000  113000.000000     33.00000   \n",
      "75%     16839.00000   2014.00000      8.000000  155000.000000     53.00000   \n",
      "max    375000.00000   2019.00000     12.000000  990000.000000    271.00000   \n",
      "\n",
      "        year_posted  total_year_car  mean_km_year  \n",
      "count  51525.000000    47906.000000       40561.0  \n",
      "mean    2018.307462        8.556966           inf  \n",
      "min     2018.000000        0.000000           0.0  \n",
      "25%     2018.000000        4.000000       10797.0  \n",
      "50%     2018.000000        7.000000       15388.0  \n",
      "75%     2019.000000       12.000000       22692.0  \n",
      "max     2019.000000      110.000000           inf  \n"
     ]
    }
   ],
   "source": [
    "# imprima uma amostragem dos dados\n",
    "\n",
    "print(us_car.describe().dropna())"
   ]
  },
  {
   "cell_type": "code",
   "execution_count": 19,
   "metadata": {},
   "outputs": [
    {
     "name": "stdout",
     "output_type": "stream",
     "text": [
      "<class 'pandas.core.frame.DataFrame'>\n",
      "RangeIndex: 51525 entries, 0 to 51524\n",
      "Data columns (total 16 columns):\n",
      " #   Column          Non-Null Count  Dtype         \n",
      "---  ------          --------------  -----         \n",
      " 0   price           51525 non-null  int64         \n",
      " 1   model_year      47906 non-null  float64       \n",
      " 2   model           51525 non-null  object        \n",
      " 3   condition       51525 non-null  object        \n",
      " 4   cylinders       46265 non-null  float64       \n",
      " 5   fuel            51525 non-null  object        \n",
      " 6   odometer        43633 non-null  float64       \n",
      " 7   transmission    51525 non-null  object        \n",
      " 8   type            51525 non-null  object        \n",
      " 9   paint_color     51525 non-null  object        \n",
      " 10  is_4wd          51525 non-null  object        \n",
      " 11  date_posted     51525 non-null  datetime64[ns]\n",
      " 12  days_listed     51525 non-null  int64         \n",
      " 13  year_posted     51525 non-null  int64         \n",
      " 14  total_year_car  47906 non-null  float64       \n",
      " 15  mean_km_year    40561 non-null  float64       \n",
      "dtypes: datetime64[ns](1), float64(5), int64(3), object(7)\n",
      "memory usage: 6.3+ MB\n",
      "None\n"
     ]
    }
   ],
   "source": [
    "print(us_car.info())"
   ]
  },
  {
   "cell_type": "code",
   "execution_count": 20,
   "metadata": {},
   "outputs": [
    {
     "name": "stdout",
     "output_type": "stream",
     "text": [
      "['bmw x5' 'ford f150' 'hyundai sonata' 'chrysler 200' 'chrysler 300'\n",
      " 'toyota camry' 'honda pilot' 'kia sorento' 'chevrolet silverado 1500'\n",
      " 'honda accord' 'ram 1500' 'gmc yukon' 'jeep cherokee'\n",
      " 'chevrolet traverse' 'hyundai elantra' 'chevrolet tahoe' 'toyota rav4'\n",
      " 'jeep wrangler' 'chevrolet malibu' 'ford fusion se' 'chevrolet impala'\n",
      " 'chevrolet corvette' 'jeep liberty' 'nissan altima' 'subaru outback'\n",
      " 'toyota highlander' 'dodge charger' 'toyota tacoma' 'chevrolet equinox'\n",
      " 'nissan rogue' 'mercedes-benz benze sprinter 2500' 'honda cr-v'\n",
      " 'jeep grand cherokee' 'toyota 4runner' 'ford focus' 'honda civic'\n",
      " 'kia soul' 'chevrolet colorado' 'chevrolet camaro lt coupe 2d'\n",
      " 'chevrolet cruze' 'ford mustang' 'chevrolet silverado 3500'\n",
      " 'nissan frontier crew cab sv' 'subaru impreza'\n",
      " 'jeep grand cherokee laredo' 'nissan versa' 'ford f250'\n",
      " 'chevrolet camaro' 'ford mustang gt coupe 2d' 'subaru forester'\n",
      " 'ford explorer' 'ford f350' 'ford edge' 'nissan maxima' 'nissan sentra'\n",
      " 'chevrolet suburban' 'ford expedition' 'dodge grand caravan'\n",
      " 'ford taurus' 'acura tl' 'ford ranger' 'gmc sierra' 'hyundai santa fe'\n",
      " 'ford escape' 'gmc sierra 2500' 'honda civic lx' 'gmc sierra 1500'\n",
      " 'honda odyssey' 'cadillac escalade' 'volkswagen jetta' 'toyota corolla'\n",
      " 'chrysler town & country' 'volkswagen passat' 'toyota prius'\n",
      " 'buick enclave' 'ford fusion' 'toyota tundra' 'ram 3500' 'ram 2500'\n",
      " 'nissan frontier' 'chevrolet silverado 2500' 'jeep wrangler unlimited'\n",
      " 'gmc acadia' 'toyota sienna' 'ford focus se' 'dodge dakota'\n",
      " 'chevrolet trailblazer' 'ford econoline' 'nissan murano']\n"
     ]
    }
   ],
   "source": [
    "us_car['model_rename'] = us_car['model'].replace(\n",
    "   {\n",
    "    'ford f-150':'ford f150',\n",
    "    'toyota camry': 'toyota camry',\n",
    "    'chevrolet silverado': 'chevrolet silverado 1500',\n",
    "    'toyota camry le': 'toyota camry',\n",
    "    'ford f-250 sd': 'ford f250',\n",
    "    'chevrolet silverado 1500 crew' : 'chevrolet silverado 1500',\n",
    "    'ford f250 super duty': 'ford f250',\n",
    "    'ford f150':'ford f150',\n",
    "    'ford f-250' : 'ford f250',\n",
    "    'ford f-350 sd': 'ford f350',\n",
    "    'ford f-250 super duty' :'ford f250',\n",
    "    'gmc sierra 2500hd':'gmc sierra 2500',\n",
    "    'ford f350 super duty': 'ford f350',\n",
    "    'chevrolet silverado 2500':  'chevrolet silverado 2500',\n",
    "    'ford f-250': 'ford f250',\n",
    "    'ford f150 supercrew cab xlt': 'ford f150',\n",
    "    'chevrolet silverado 2500hd':'chevrolet silverado 2500',\n",
    "    'ford f-350':'ford f350',\n",
    "    'chevrolet silverado 3500hd':'chevrolet silverado 3500'\n",
    "       \n",
    "}\n",
    ")\n",
    "print(us_car['model_rename'].unique())"
   ]
  },
  {
   "cell_type": "code",
   "execution_count": 21,
   "metadata": {
    "scrolled": true
   },
   "outputs": [
    {
     "name": "stdout",
     "output_type": "stream",
     "text": [
      "chevrolet silverado 1500       3745\n",
      "ford f150                      3653\n",
      "ford f250                      1798\n",
      "ram 1500                       1750\n",
      "toyota camry                   1306\n",
      "jeep wrangler                  1119\n",
      "ram 2500                       1091\n",
      "honda accord                    964\n",
      "chevrolet silverado 2500        915\n",
      "gmc sierra 1500                 906\n",
      "ford explorer                   847\n",
      "ford escape                     841\n",
      "toyota tacoma                   827\n",
      "honda civic                     815\n",
      "nissan altima                   813\n",
      "jeep grand cherokee             806\n",
      "ford f350                       791\n",
      "ford focus                      754\n",
      "chevrolet tahoe                 713\n",
      "honda cr-v                      685\n",
      "ford mustang                    681\n",
      "chevrolet impala                674\n",
      "toyota corolla                  650\n",
      "chevrolet malibu                617\n",
      "toyota tundra                   603\n",
      "dodge grand caravan             598\n",
      "chevrolet equinox               591\n",
      "chevrolet suburban              562\n",
      "ford fusion                     544\n",
      "subaru outback                  538\n",
      "volkswagen jetta                519\n",
      "chevrolet corvette              499\n",
      "nissan sentra                   497\n",
      "subaru forester                 484\n",
      "toyota prius                    482\n",
      "hyundai sonata                  477\n",
      "ram 3500                        475\n",
      "nissan rogue                    469\n",
      "toyota rav4                     461\n",
      "chevrolet cruze                 457\n",
      "honda odyssey                   457\n",
      "toyota 4runner                  453\n",
      "jeep wrangler unlimited         452\n",
      "gmc sierra 2500                 438\n",
      "hyundai elantra                 423\n",
      "ford ranger                     423\n",
      "dodge charger                   415\n",
      "chevrolet camaro                414\n",
      "gmc sierra                      388\n",
      "ford edge                       383\n",
      "ford focus se                   376\n",
      "ford expedition                 372\n",
      "jeep liberty                    355\n",
      "volkswagen passat               350\n",
      "kia soul                        349\n",
      "nissan frontier crew cab sv     345\n",
      "toyota highlander               334\n",
      "gmc yukon                       331\n",
      "toyota sienna                   329\n",
      "chevrolet traverse              329\n",
      "Name: model_rename, dtype: int64\n"
     ]
    }
   ],
   "source": [
    "us_car['model_rename']\n",
    "\n",
    "print(us_car['model_rename'].value_counts().head(60))"
   ]
  },
  {
   "cell_type": "markdown",
   "metadata": {},
   "source": [
    "## Estude os parâmetros fundamentais\n",
    "\n",
    "Os parâmetros são:\n",
    "\n",
    "- Preço\n",
    "- A idade do veículo quando a propaganda foi colocada\n",
    "- Quilometragem\n",
    "- Número de cilindros\n",
    "- Condição"
   ]
  },
  {
   "cell_type": "code",
   "execution_count": 22,
   "metadata": {},
   "outputs": [],
   "source": [
    "# Lembre-se do objetivo do curso : Entender quais os fatores influenciam o preco do produto.\n"
   ]
  },
  {
   "cell_type": "code",
   "execution_count": 23,
   "metadata": {},
   "outputs": [
    {
     "data": {
      "text/plain": [
       "<AxesSubplot:ylabel='Frequency'>"
      ]
     },
     "execution_count": 23,
     "metadata": {},
     "output_type": "execute_result"
    },
    {
     "data": {
      "image/png": "[encoded data removed]",
      "text/plain": [
       "<Figure size 864x360 with 1 Axes>"
      ]
     },
     "metadata": {
      "needs_background": "light"
     },
     "output_type": "display_data"
    }
   ],
   "source": [
    "# Price\n",
    "(us_car\n",
    "     .pivot_table(index ='model_rename' , values = 'price')\n",
    "     .plot(kind= 'hist', figsize=(12,5))\n",
    "\n",
    ")"
   ]
  },
  {
   "cell_type": "code",
   "execution_count": 24,
   "metadata": {},
   "outputs": [
    {
     "data": {
      "text/plain": [
       "count    47906.000000\n",
       "mean         8.556966\n",
       "std          6.295266\n",
       "min          0.000000\n",
       "25%          4.000000\n",
       "50%          7.000000\n",
       "75%         12.000000\n",
       "max        110.000000\n",
       "Name: total_year_car, dtype: float64"
      ]
     },
     "execution_count": 24,
     "metadata": {},
     "output_type": "execute_result"
    },
    {
     "data": {
      "image/png": "[encoded data removed]",
      "text/plain": [
       "<Figure size 864x360 with 1 Axes>"
      ]
     },
     "metadata": {
      "needs_background": "light"
     },
     "output_type": "display_data"
    }
   ],
   "source": [
    "# total_year_car\n",
    "\n",
    "(us_car\n",
    "     .pivot_table(index ='total_year_car' , values = 'price')\n",
    "     .plot(kind= 'hist', bins =30,  figsize=(12,5))\n",
    ")\n",
    "us_car['total_year_car'].describe()"
   ]
  },
  {
   "cell_type": "code",
   "execution_count": 25,
   "metadata": {
    "scrolled": true
   },
   "outputs": [
    {
     "data": {
      "text/plain": [
       "<AxesSubplot:ylabel='Frequency'>"
      ]
     },
     "execution_count": 25,
     "metadata": {},
     "output_type": "execute_result"
    },
    {
     "data": {
      "image/png": "[encoded data removed]",
      "text/plain": [
       "<Figure size 864x360 with 1 Axes>"
      ]
     },
     "metadata": {
      "needs_background": "light"
     },
     "output_type": "display_data"
    }
   ],
   "source": [
    "(us_car\n",
    "     .query('total_year_car > 0 and total_year_car < 15')\n",
    "     .pivot_table(index ='total_year_car' , values = 'price')\n",
    "     .plot(kind= 'hist',bins=30, figsize=(12,5))\n",
    ")\n"
   ]
  },
  {
   "cell_type": "code",
   "execution_count": 26,
   "metadata": {
    "scrolled": true
   },
   "outputs": [
    {
     "data": {
      "text/plain": [
       "<AxesSubplot:ylabel='Frequency'>"
      ]
     },
     "execution_count": 26,
     "metadata": {},
     "output_type": "execute_result"
    },
    {
     "data": {
      "image/png": "[encoded data removed]",
      "text/plain": [
       "<Figure size 864x360 with 1 Axes>"
      ]
     },
     "metadata": {
      "needs_background": "light"
     },
     "output_type": "display_data"
    }
   ],
   "source": [
    "# odometer\n",
    "(us_car\n",
    "\n",
    "     .pivot_table(columns='type',index='odometer', values = 'price',dropna=True)\n",
    "     .plot(kind= 'hist', figsize=(12,5))\n",
    ")\n"
   ]
  },
  {
   "cell_type": "code",
   "execution_count": 27,
   "metadata": {},
   "outputs": [
    {
     "data": {
      "text/plain": [
       "<AxesSubplot:ylabel='Frequency'>"
      ]
     },
     "execution_count": 27,
     "metadata": {},
     "output_type": "execute_result"
    },
    {
     "data": {
      "image/png": "[encoded data removed]",
      "text/plain": [
       "<Figure size 864x360 with 1 Axes>"
      ]
     },
     "metadata": {
      "needs_background": "light"
     },
     "output_type": "display_data"
    }
   ],
   "source": [
    "# cylinders\n",
    "(us_car\n",
    "     .pivot_table(columns ='cylinders' , values = 'price',dropna=True)\n",
    "     .plot(kind= 'hist', figsize=(12,5))\n",
    ")\n"
   ]
  },
  {
   "cell_type": "code",
   "execution_count": 28,
   "metadata": {},
   "outputs": [
    {
     "data": {
      "text/plain": [
       "<AxesSubplot:ylabel='Frequency'>"
      ]
     },
     "execution_count": 28,
     "metadata": {},
     "output_type": "execute_result"
    },
    {
     "data": {
      "image/png": "[encoded data removed]",
      "text/plain": [
       "<Figure size 864x360 with 1 Axes>"
      ]
     },
     "metadata": {
      "needs_background": "light"
     },
     "output_type": "display_data"
    }
   ],
   "source": [
    "# condition\n",
    "(us_car\n",
    "     .pivot_table(columns ='condition', values = 'price',dropna=True)\n",
    "     .plot(kind= 'hist', bins=15,figsize=(12,5))\n",
    ")                            "
   ]
  },
  {
   "cell_type": "markdown",
   "metadata": {},
   "source": [
    "## Estude e cuide dos valores ausentes\n",
    "\n",
    "[Dado os resultados acima, determine quais colunas devem conter valores atípicos, e crie um DataFrame sem aqueles valores atípicos. Dica: Valores atípicos podem ser identificados se você definir os limites inferior/superior para intervalos normais de valores.]"
   ]
  },
  {
   "cell_type": "code",
   "execution_count": 29,
   "metadata": {},
   "outputs": [
    {
     "data": {
      "text/plain": [
       "<AxesSubplot:ylabel='Frequency'>"
      ]
     },
     "execution_count": 29,
     "metadata": {},
     "output_type": "execute_result"
    },
    {
     "data": {
      "image/png": "[encoded data removed]",
      "text/plain": [
       "<Figure size 864x360 with 1 Axes>"
      ]
     },
     "metadata": {
      "needs_background": "light"
     },
     "output_type": "display_data"
    }
   ],
   "source": [
    "# Determine o limite inferior para valores atípicos\n",
    "# Determine o limite superior para valores atípicos\n",
    "\n",
    "# Price\n",
    "(us_car\n",
    "     #.pivot_table(index ='model_rename' , values = 'price',aggfunc=['mean','median'])\n",
    "     .plot(kind= 'hist',y='price',bins=30,xlim=(0,35000) ,grid = True, figsize=(12,5))\n",
    "\n",
    ")"
   ]
  },
  {
   "cell_type": "code",
   "execution_count": 30,
   "metadata": {
    "scrolled": true
   },
   "outputs": [
    {
     "data": {
      "text/plain": [
       "<AxesSubplot:ylabel='Frequency'>"
      ]
     },
     "execution_count": 30,
     "metadata": {},
     "output_type": "execute_result"
    },
    {
     "data": {
      "image/png": "[encoded data removed]",
      "text/plain": [
       "<Figure size 864x360 with 1 Axes>"
      ]
     },
     "metadata": {
      "needs_background": "light"
     },
     "output_type": "display_data"
    }
   ],
   "source": [
    "(us_car\n",
    "     .pivot_table(index ='model_rename' , values = 'price',aggfunc=['mean','median'])\n",
    "     .plot(kind= 'hist',xlim=(4000,25000), grid = True, figsize=(12,5))\n",
    "\n",
    ")"
   ]
  },
  {
   "cell_type": "markdown",
   "metadata": {},
   "source": [
    "## Estude os parâmetros fundamentais sem valores atípicos"
   ]
  },
  {
   "cell_type": "markdown",
   "metadata": {},
   "source": [
    "## Tempo de vida das propagandas\n",
    "\n",
    "[Estude quantos dias propagandas foram exibidas (`days_listed`). Calcule a média e a mediana. Descreva o tempo de vida útil comum de uma propaganda. Determine quando as propagandas foram removidas rapidamente, e quando elas foram listadas por um tempo anormalmente longo.]"
   ]
  },
  {
   "cell_type": "code",
   "execution_count": 32,
   "metadata": {
    "scrolled": false
   },
   "outputs": [
    {
     "data": {
      "text/plain": [
       "count    51525.00000\n",
       "mean        39.55476\n",
       "std         28.20427\n",
       "min          0.00000\n",
       "25%         19.00000\n",
       "50%         33.00000\n",
       "75%         53.00000\n",
       "max        271.00000\n",
       "Name: days_listed, dtype: float64"
      ]
     },
     "execution_count": 32,
     "metadata": {},
     "output_type": "execute_result"
    }
   ],
   "source": [
    "us_car['days_listed'].describe()\n",
    "\n"
   ]
  },
  {
   "cell_type": "markdown",
   "metadata": {},
   "source": [
    "## Conclusåo:\n",
    "- `Na media os carros ficaram postados por 40 dias, ao se considerar a mediana, encontraremos o total de 28 dias.\n",
    "Isso ocorre pois excluimos os extremos ao realizar o calculo da mediana.`\n"
   ]
  },
  {
   "cell_type": "markdown",
   "metadata": {},
   "source": [
    "## Média de preços por cada tipo de veículo"
   ]
  },
  {
   "cell_type": "markdown",
   "metadata": {},
   "source": [
    "[Analise o número de propagandas e o preço médio para cada tipo de veículo. Construa um gráfico mostrando a dependência do número de propagandas em relação ao tipo de veículo. Selecione os dois tipos com os maiores números de propagandas.]"
   ]
  },
  {
   "cell_type": "code",
   "execution_count": 37,
   "metadata": {
    "scrolled": false
   },
   "outputs": [
    {
     "data": {
      "text/plain": [
       "<AxesSubplot:ylabel='Frequency'>"
      ]
     },
     "execution_count": 37,
     "metadata": {},
     "output_type": "execute_result"
    },
    {
     "data": {
      "image/png": "[encoded data removed]",
      "text/plain": [
       "<Figure size 864x504 with 1 Axes>"
      ]
     },
     "metadata": {
      "needs_background": "light"
     },
     "output_type": "display_data"
    }
   ],
   "source": [
    "(us_car\n",
    "     .pivot_table(values =['days_listed','price'],index ='type', aggfunc=['median','count'])\n",
    "     .round(0)\n",
    "     .sort_values(by='type',ascending=False)\n",
    "     .plot(kind='hist',grid=True, figsize=(12,7))\n",
    ")\n"
   ]
  },
  {
   "cell_type": "code",
   "execution_count": 36,
   "metadata": {
    "scrolled": true
   },
   "outputs": [
    {
     "data": {
      "text/plain": [
       "<AxesSubplot:ylabel='Frequency'>"
      ]
     },
     "execution_count": 36,
     "metadata": {},
     "output_type": "execute_result"
    },
    {
     "data": {
      "image/png": "[encoded data removed]",
      "text/plain": [
       "<Figure size 864x360 with 1 Axes>"
      ]
     },
     "metadata": {
      "needs_background": "light"
     },
     "output_type": "display_data"
    }
   ],
   "source": [
    "(us_car\n",
    "    .query('price > 0')\n",
    "    .plot(kind= 'hist',x = 'model_rename', y = 'days_listed', grid = True, figsize=(12,5))\n",
    ")"
   ]
  },
  {
   "cell_type": "code",
   "execution_count": 34,
   "metadata": {},
   "outputs": [
    {
     "data": {
      "text/html": [
       "<div>\n",
       "<style scoped>\n",
       "    .dataframe tbody tr th:only-of-type {\n",
       "        vertical-align: middle;\n",
       "    }\n",
       "\n",
       "    .dataframe tbody tr th {\n",
       "        vertical-align: top;\n",
       "    }\n",
       "\n",
       "    .dataframe thead tr th {\n",
       "        text-align: left;\n",
       "    }\n",
       "\n",
       "    .dataframe thead tr:last-of-type th {\n",
       "        text-align: right;\n",
       "    }\n",
       "</style>\n",
       "<table border=\"1\" class=\"dataframe\">\n",
       "  <thead>\n",
       "    <tr>\n",
       "      <th></th>\n",
       "      <th colspan=\"2\" halign=\"left\">median</th>\n",
       "      <th colspan=\"2\" halign=\"left\">count</th>\n",
       "    </tr>\n",
       "    <tr>\n",
       "      <th></th>\n",
       "      <th>days_listed</th>\n",
       "      <th>price</th>\n",
       "      <th>days_listed</th>\n",
       "      <th>price</th>\n",
       "    </tr>\n",
       "    <tr>\n",
       "      <th>type</th>\n",
       "      <th></th>\n",
       "      <th></th>\n",
       "      <th></th>\n",
       "      <th></th>\n",
       "    </tr>\n",
       "  </thead>\n",
       "  <tbody>\n",
       "    <tr>\n",
       "      <th>wagon</th>\n",
       "      <td>34.0</td>\n",
       "      <td>7900</td>\n",
       "      <td>1541</td>\n",
       "      <td>1541</td>\n",
       "    </tr>\n",
       "    <tr>\n",
       "      <th>van</th>\n",
       "      <td>33.0</td>\n",
       "      <td>7990</td>\n",
       "      <td>633</td>\n",
       "      <td>633</td>\n",
       "    </tr>\n",
       "    <tr>\n",
       "      <th>truck</th>\n",
       "      <td>33.0</td>\n",
       "      <td>14995</td>\n",
       "      <td>12353</td>\n",
       "      <td>12353</td>\n",
       "    </tr>\n",
       "    <tr>\n",
       "      <th>sedan</th>\n",
       "      <td>33.0</td>\n",
       "      <td>5995</td>\n",
       "      <td>12154</td>\n",
       "      <td>12154</td>\n",
       "    </tr>\n",
       "    <tr>\n",
       "      <th>pickup</th>\n",
       "      <td>33.0</td>\n",
       "      <td>14200</td>\n",
       "      <td>6988</td>\n",
       "      <td>6988</td>\n",
       "    </tr>\n",
       "    <tr>\n",
       "      <th>other</th>\n",
       "      <td>32.0</td>\n",
       "      <td>8995</td>\n",
       "      <td>256</td>\n",
       "      <td>256</td>\n",
       "    </tr>\n",
       "    <tr>\n",
       "      <th>offroad</th>\n",
       "      <td>32.0</td>\n",
       "      <td>11650</td>\n",
       "      <td>214</td>\n",
       "      <td>214</td>\n",
       "    </tr>\n",
       "    <tr>\n",
       "      <th>mini-van</th>\n",
       "      <td>33.0</td>\n",
       "      <td>6495</td>\n",
       "      <td>1161</td>\n",
       "      <td>1161</td>\n",
       "    </tr>\n",
       "    <tr>\n",
       "      <th>hatchback</th>\n",
       "      <td>35.0</td>\n",
       "      <td>5980</td>\n",
       "      <td>1047</td>\n",
       "      <td>1047</td>\n",
       "    </tr>\n",
       "    <tr>\n",
       "      <th>coupe</th>\n",
       "      <td>33.0</td>\n",
       "      <td>12950</td>\n",
       "      <td>2303</td>\n",
       "      <td>2303</td>\n",
       "    </tr>\n",
       "    <tr>\n",
       "      <th>convertible</th>\n",
       "      <td>33.0</td>\n",
       "      <td>12250</td>\n",
       "      <td>446</td>\n",
       "      <td>446</td>\n",
       "    </tr>\n",
       "    <tr>\n",
       "      <th>bus</th>\n",
       "      <td>44.0</td>\n",
       "      <td>10500</td>\n",
       "      <td>24</td>\n",
       "      <td>24</td>\n",
       "    </tr>\n",
       "    <tr>\n",
       "      <th>SUV</th>\n",
       "      <td>33.0</td>\n",
       "      <td>8900</td>\n",
       "      <td>12405</td>\n",
       "      <td>12405</td>\n",
       "    </tr>\n",
       "  </tbody>\n",
       "</table>\n",
       "</div>"
      ],
      "text/plain": [
       "                 median              count       \n",
       "            days_listed  price days_listed  price\n",
       "type                                             \n",
       "wagon              34.0   7900        1541   1541\n",
       "van                33.0   7990         633    633\n",
       "truck              33.0  14995       12353  12353\n",
       "sedan              33.0   5995       12154  12154\n",
       "pickup             33.0  14200        6988   6988\n",
       "other              32.0   8995         256    256\n",
       "offroad            32.0  11650         214    214\n",
       "mini-van           33.0   6495        1161   1161\n",
       "hatchback          35.0   5980        1047   1047\n",
       "coupe              33.0  12950        2303   2303\n",
       "convertible        33.0  12250         446    446\n",
       "bus                44.0  10500          24     24\n",
       "SUV                33.0   8900       12405  12405"
      ]
     },
     "execution_count": 34,
     "metadata": {},
     "output_type": "execute_result"
    }
   ],
   "source": [
    "(us_car\n",
    "     .pivot_table(values =['days_listed','price'],index ='type', aggfunc=['median','count'])\n",
    "     .round(0)\n",
    "     .sort_values(by='type',ascending=False)\n",
    ")\n"
   ]
  },
  {
   "cell_type": "markdown",
   "metadata": {},
   "source": [
    "## Fatores de preço"
   ]
  },
  {
   "cell_type": "markdown",
   "metadata": {},
   "source": [
    "#### O preco depende de quais fatores?\n",
    "- * price x total_year_car - Dispersion grafic\n",
    "- * price x odometer - Dispersion grafic\n",
    "- * price x condition - Dispersion grafic\n",
    "- * price x transmission (Variable_categoric) quartis extrem >=50\n",
    "- * price x color (Variable_categoric)  quartis extrem >=50 \n",
    "\n",
    "- * For grafic matrix use:\n",
    "\n",
    "    `data.plot(x='column_x', y='column_y', kind='scatter');`\n",
    "- * indice corr\n",
    "\n",
    "    `print(us_car.corr())`"
   ]
  },
  {
   "cell_type": "code",
   "execution_count": 39,
   "metadata": {
    "scrolled": false
   },
   "outputs": [
    {
     "name": "stdout",
     "output_type": "stream",
     "text": [
      "       price  total_year_car  condition  odometer\n",
      "0       9400             7.0       good  145000.0\n",
      "2       5500             6.0   like new  110000.0\n",
      "4      14900             2.0  excellent   80903.0\n",
      "5      14990             4.0  excellent   57954.0\n",
      "6      12990             3.0  excellent   79212.0\n",
      "...      ...             ...        ...       ...\n",
      "51518   3750            13.0  excellent  110200.0\n",
      "51520   9249             5.0   like new   88136.0\n",
      "51521   2700            16.0    salvage  181500.0\n",
      "51522   3950             9.0  excellent  128000.0\n",
      "51523   7455             5.0       good  139573.0\n",
      "\n",
      "[40563 rows x 4 columns]\n"
     ]
    }
   ],
   "source": [
    "us_car_corr = (us_car[['price','total_year_car', 'condition','odometer']].dropna())\n",
    "print(us_car_corr)\n"
   ]
  },
  {
   "cell_type": "code",
   "execution_count": 40,
   "metadata": {},
   "outputs": [
    {
     "name": "stdout",
     "output_type": "stream",
     "text": [
      "                   price  total_year_car  odometer\n",
      "price           1.000000       -0.429889 -0.419144\n",
      "total_year_car -0.429889        1.000000  0.472367\n",
      "odometer       -0.419144        0.472367  1.000000\n"
     ]
    },
    {
     "data": {
      "text/plain": [
       "array([[<AxesSubplot:xlabel='price', ylabel='price'>,\n",
       "        <AxesSubplot:xlabel='total_year_car', ylabel='price'>,\n",
       "        <AxesSubplot:xlabel='odometer', ylabel='price'>],\n",
       "       [<AxesSubplot:xlabel='price', ylabel='total_year_car'>,\n",
       "        <AxesSubplot:xlabel='total_year_car', ylabel='total_year_car'>,\n",
       "        <AxesSubplot:xlabel='odometer', ylabel='total_year_car'>],\n",
       "       [<AxesSubplot:xlabel='price', ylabel='odometer'>,\n",
       "        <AxesSubplot:xlabel='total_year_car', ylabel='odometer'>,\n",
       "        <AxesSubplot:xlabel='odometer', ylabel='odometer'>]], dtype=object)"
      ]
     },
     "execution_count": 40,
     "metadata": {},
     "output_type": "execute_result"
    },
    {
     "data": {
      "image/png": "[encoded data removed]",
      "text/plain": [
       "<Figure size 720x720 with 9 Axes>"
      ]
     },
     "metadata": {
      "needs_background": "light"
     },
     "output_type": "display_data"
    }
   ],
   "source": [
    "print(us_car_corr.corr())\n",
    "\n",
    "pd.plotting.scatter_matrix(us_car_corr, figsize=(10,10))"
   ]
  },
  {
   "cell_type": "code",
   "execution_count": 43,
   "metadata": {},
   "outputs": [],
   "source": [
    "us_car_corr2=us_car[['paint_color','transmission','price']].dropna()"
   ]
  },
  {
   "cell_type": "code",
   "execution_count": 44,
   "metadata": {},
   "outputs": [
    {
     "name": "stdout",
     "output_type": "stream",
     "text": [
      "      paint_color transmission  price\n",
      "0          Unknow    automatic   9400\n",
      "1           white    automatic  25500\n",
      "2             red    automatic   5500\n",
      "3          Unknow    automatic   1500\n",
      "4           black    automatic  14900\n",
      "...           ...          ...    ...\n",
      "51520       black    automatic   9249\n",
      "51521       white    automatic   2700\n",
      "51522        blue    automatic   3950\n",
      "51523       black    automatic   7455\n",
      "51524      Unknow    automatic   6300\n",
      "\n",
      "[51525 rows x 3 columns]\n"
     ]
    }
   ],
   "source": [
    "print(us_car_corr2)"
   ]
  },
  {
   "cell_type": "code",
   "execution_count": 45,
   "metadata": {
    "scrolled": true
   },
   "outputs": [
    {
     "data": {
      "text/plain": [
       "<AxesSubplot:>"
      ]
     },
     "execution_count": 45,
     "metadata": {},
     "output_type": "execute_result"
    },
    {
     "data": {
      "image/png": "[encoded data removed]",
      "text/plain": [
       "<Figure size 432x288 with 1 Axes>"
      ]
     },
     "metadata": {
      "needs_background": "light"
     },
     "output_type": "display_data"
    }
   ],
   "source": [
    "(us_car_corr2\n",
    "     .pivot_table(index= ['transmission'], values ='price' ,aggfunc=['mean','median'])\n",
    "     .boxplot(color='green')\n",
    "\n",
    ")\n"
   ]
  },
  {
   "cell_type": "code",
   "execution_count": 46,
   "metadata": {
    "scrolled": true
   },
   "outputs": [
    {
     "data": {
      "text/plain": [
       "<AxesSubplot:>"
      ]
     },
     "execution_count": 46,
     "metadata": {},
     "output_type": "execute_result"
    },
    {
     "data": {
      "image/png": "[encoded data removed]",
      "text/plain": [
       "<Figure size 432x288 with 1 Axes>"
      ]
     },
     "metadata": {
      "needs_background": "light"
     },
     "output_type": "display_data"
    }
   ],
   "source": [
    "(us_car_corr2\n",
    "     .pivot_table(index = ['paint_color'], values ='price' ,aggfunc=['mean','median'])\n",
    "     .boxplot( color='red')\n",
    "\n",
    ")"
   ]
  },
  {
   "cell_type": "markdown",
   "metadata": {},
   "source": [
    "## Conclusão geral"
   ]
  },
  {
   "cell_type": "markdown",
   "metadata": {},
   "source": [
    "- * Podemos verificar que o preco do carro possui pouca correlacao ao total de anos do carro e a quantidade de kilometros rodados.\n",
    "- * Ja quando analisamos a idade do carro, claramente podemos notar a correlacao esperada quanto maior a idade maior sera a quantidade de kilometros rodados\n",
    "\n",
    "- * O fator Transmissão e Cor do carro possuem semelhanças quando avaliamos a media e a mediana dos preços praticados. Porem a transmissao possuem uma variacao de precos maior, devido principalmente ao tipo de carro que possuem transmissoes maiores e precos que acompanham esse fator."
   ]
  }
 ],
 "metadata": {
  "ExecuteTimeLog": [
   {
    "duration": 828,
    "start_time": "2021-11-16T09:21:11.304Z"
   },
   {
    "duration": 893,
    "start_time": "2021-11-16T09:21:17.728Z"
   },
   {
    "duration": 1150,
    "start_time": "2021-11-16T09:21:29.568Z"
   },
   {
    "duration": 3,
    "start_time": "2021-11-16T09:24:14.495Z"
   },
   {
    "duration": 120,
    "start_time": "2021-11-16T09:24:46.630Z"
   },
   {
    "duration": 3,
    "start_time": "2021-11-16T09:28:27.882Z"
   },
   {
    "duration": 4,
    "start_time": "2021-11-16T09:29:54.281Z"
   },
   {
    "duration": 3,
    "start_time": "2021-11-16T09:30:45.936Z"
   },
   {
    "duration": 4,
    "start_time": "2021-11-16T09:31:06.300Z"
   },
   {
    "duration": 113,
    "start_time": "2021-11-16T09:31:37.208Z"
   },
   {
    "duration": 143,
    "start_time": "2021-11-16T09:31:48.656Z"
   },
   {
    "duration": 98,
    "start_time": "2021-11-16T09:31:55.678Z"
   },
   {
    "duration": 3,
    "start_time": "2021-11-16T09:32:08.535Z"
   },
   {
    "duration": 111,
    "start_time": "2021-11-16T09:32:10.120Z"
   },
   {
    "duration": 3,
    "start_time": "2021-11-16T09:32:15.732Z"
   },
   {
    "duration": 4,
    "start_time": "2021-11-16T09:32:29.423Z"
   },
   {
    "duration": 3,
    "start_time": "2021-11-16T10:03:03.074Z"
   },
   {
    "duration": 3,
    "start_time": "2021-11-16T10:10:01.288Z"
   },
   {
    "duration": 3,
    "start_time": "2021-11-16T10:10:46.923Z"
   },
   {
    "duration": 121,
    "start_time": "2021-11-16T10:37:46.494Z"
   },
   {
    "duration": 125,
    "start_time": "2021-11-16T10:38:20.632Z"
   },
   {
    "duration": 112,
    "start_time": "2021-11-16T10:46:53.001Z"
   },
   {
    "duration": 110,
    "start_time": "2021-11-16T10:48:25.775Z"
   },
   {
    "duration": 3,
    "start_time": "2021-11-16T10:50:18.720Z"
   },
   {
    "duration": 4,
    "start_time": "2021-11-16T10:50:37.649Z"
   },
   {
    "duration": 2,
    "start_time": "2021-11-16T10:50:51.884Z"
   },
   {
    "duration": 3,
    "start_time": "2021-11-16T10:51:56.237Z"
   },
   {
    "duration": 101,
    "start_time": "2021-11-16T10:53:13.791Z"
   },
   {
    "duration": 3,
    "start_time": "2021-11-16T10:55:59.186Z"
   },
   {
    "duration": 3,
    "start_time": "2021-11-16T10:56:10.751Z"
   },
   {
    "duration": 3,
    "start_time": "2021-11-16T10:56:49.038Z"
   },
   {
    "duration": 3,
    "start_time": "2021-11-16T10:56:49.174Z"
   },
   {
    "duration": 4,
    "start_time": "2021-11-16T10:56:49.414Z"
   },
   {
    "duration": 3,
    "start_time": "2021-11-16T10:56:49.680Z"
   },
   {
    "duration": 3,
    "start_time": "2021-11-16T10:56:50.370Z"
   },
   {
    "duration": 114,
    "start_time": "2021-11-16T10:59:34.518Z"
   },
   {
    "duration": 3,
    "start_time": "2021-11-16T11:01:41.201Z"
   },
   {
    "duration": 116,
    "start_time": "2021-11-16T11:01:48.754Z"
   },
   {
    "duration": 3,
    "start_time": "2021-11-16T11:02:16.685Z"
   },
   {
    "duration": 3,
    "start_time": "2021-11-16T11:02:19.479Z"
   },
   {
    "duration": 3,
    "start_time": "2021-11-16T11:02:47.067Z"
   },
   {
    "duration": 3,
    "start_time": "2021-11-16T11:02:49.353Z"
   },
   {
    "duration": 3,
    "start_time": "2021-11-16T11:03:07.835Z"
   },
   {
    "duration": 3,
    "start_time": "2021-11-16T11:03:07.953Z"
   },
   {
    "duration": 112,
    "start_time": "2021-11-16T11:07:52.072Z"
   },
   {
    "duration": 187,
    "start_time": "2021-11-16T11:09:23.468Z"
   },
   {
    "duration": 4,
    "start_time": "2021-11-16T11:10:01.455Z"
   },
   {
    "duration": 3,
    "start_time": "2021-11-16T11:10:05.069Z"
   },
   {
    "duration": 4,
    "start_time": "2021-11-16T11:10:13.376Z"
   },
   {
    "duration": 3,
    "start_time": "2021-11-16T11:10:14.434Z"
   },
   {
    "duration": 3,
    "start_time": "2021-11-16T11:10:22.853Z"
   },
   {
    "duration": 4,
    "start_time": "2021-11-16T11:27:29.279Z"
   },
   {
    "duration": 4,
    "start_time": "2021-11-16T11:29:08.919Z"
   },
   {
    "duration": 118,
    "start_time": "2021-11-16T11:29:46.703Z"
   },
   {
    "duration": 437,
    "start_time": "2021-11-16T11:36:02.181Z"
   },
   {
    "duration": 157,
    "start_time": "2021-11-16T11:36:14.388Z"
   },
   {
    "duration": 207,
    "start_time": "2021-11-16T11:47:15.898Z"
   },
   {
    "duration": 3,
    "start_time": "2021-11-16T11:53:52.092Z"
   },
   {
    "duration": 3,
    "start_time": "2021-11-16T11:53:52.236Z"
   },
   {
    "duration": 3,
    "start_time": "2021-11-16T11:59:12.005Z"
   },
   {
    "duration": 112,
    "start_time": "2021-11-16T12:00:33.446Z"
   },
   {
    "duration": 3,
    "start_time": "2021-11-16T12:02:14.453Z"
   },
   {
    "duration": 3,
    "start_time": "2021-11-16T12:02:39.512Z"
   },
   {
    "duration": 106,
    "start_time": "2021-11-16T12:03:03.460Z"
   },
   {
    "duration": 407,
    "start_time": "2022-08-18T22:44:38.972Z"
   },
   {
    "duration": 73,
    "start_time": "2022-08-18T22:56:16.432Z"
   },
   {
    "duration": 3,
    "start_time": "2022-08-18T22:56:19.936Z"
   },
   {
    "duration": 7,
    "start_time": "2022-08-18T22:56:21.753Z"
   },
   {
    "duration": 178,
    "start_time": "2022-08-18T22:56:32.216Z"
   },
   {
    "duration": 117,
    "start_time": "2022-08-18T22:56:55.095Z"
   },
   {
    "duration": 93,
    "start_time": "2022-08-18T22:59:55.325Z"
   },
   {
    "duration": 21,
    "start_time": "2022-08-18T22:59:57.016Z"
   },
   {
    "duration": 10,
    "start_time": "2022-08-18T22:59:58.565Z"
   },
   {
    "duration": 9,
    "start_time": "2022-08-18T23:12:32.399Z"
   },
   {
    "duration": 81,
    "start_time": "2022-08-21T03:18:58.980Z"
   },
   {
    "duration": 44,
    "start_time": "2022-08-21T03:19:05.873Z"
   },
   {
    "duration": 7,
    "start_time": "2022-08-21T03:19:13.311Z"
   },
   {
    "duration": 393,
    "start_time": "2022-08-21T03:19:18.983Z"
   },
   {
    "duration": 170,
    "start_time": "2022-08-21T03:19:19.378Z"
   },
   {
    "duration": 22,
    "start_time": "2022-08-21T03:19:19.549Z"
   },
   {
    "duration": 11,
    "start_time": "2022-08-21T03:19:19.573Z"
   },
   {
    "duration": 80,
    "start_time": "2022-08-21T03:19:19.586Z"
   },
   {
    "duration": 0,
    "start_time": "2022-08-21T03:19:19.669Z"
   },
   {
    "duration": 0,
    "start_time": "2022-08-21T03:19:19.670Z"
   },
   {
    "duration": 0,
    "start_time": "2022-08-21T03:19:19.671Z"
   },
   {
    "duration": 0,
    "start_time": "2022-08-21T03:19:19.673Z"
   },
   {
    "duration": 0,
    "start_time": "2022-08-21T03:19:19.674Z"
   },
   {
    "duration": 0,
    "start_time": "2022-08-21T03:19:19.675Z"
   },
   {
    "duration": 0,
    "start_time": "2022-08-21T03:19:19.676Z"
   },
   {
    "duration": 0,
    "start_time": "2022-08-21T03:19:19.677Z"
   },
   {
    "duration": 0,
    "start_time": "2022-08-21T03:19:19.678Z"
   },
   {
    "duration": 0,
    "start_time": "2022-08-21T03:19:19.679Z"
   },
   {
    "duration": 0,
    "start_time": "2022-08-21T03:19:19.680Z"
   },
   {
    "duration": 0,
    "start_time": "2022-08-21T03:19:19.681Z"
   },
   {
    "duration": 0,
    "start_time": "2022-08-21T03:19:19.682Z"
   },
   {
    "duration": 0,
    "start_time": "2022-08-21T03:19:19.683Z"
   },
   {
    "duration": 0,
    "start_time": "2022-08-21T03:19:19.684Z"
   },
   {
    "duration": 0,
    "start_time": "2022-08-21T03:19:19.685Z"
   },
   {
    "duration": 0,
    "start_time": "2022-08-21T03:19:19.686Z"
   },
   {
    "duration": 0,
    "start_time": "2022-08-21T03:19:19.687Z"
   },
   {
    "duration": 0,
    "start_time": "2022-08-21T03:19:19.688Z"
   },
   {
    "duration": 18,
    "start_time": "2022-08-21T03:19:28.600Z"
   },
   {
    "duration": 17,
    "start_time": "2022-08-21T03:22:29.923Z"
   },
   {
    "duration": 14,
    "start_time": "2022-08-21T03:23:05.010Z"
   },
   {
    "duration": 15,
    "start_time": "2022-08-21T03:23:15.114Z"
   },
   {
    "duration": 87,
    "start_time": "2022-08-21T03:23:48.091Z"
   },
   {
    "duration": 56,
    "start_time": "2022-08-21T03:23:59.466Z"
   },
   {
    "duration": 49,
    "start_time": "2022-08-21T03:24:26.116Z"
   },
   {
    "duration": 11,
    "start_time": "2022-08-21T03:25:00.788Z"
   },
   {
    "duration": 9,
    "start_time": "2022-08-21T03:25:10.039Z"
   },
   {
    "duration": 21,
    "start_time": "2022-08-21T03:25:15.192Z"
   },
   {
    "duration": 5,
    "start_time": "2022-08-21T03:25:25.626Z"
   },
   {
    "duration": 5,
    "start_time": "2022-08-21T03:25:45.236Z"
   },
   {
    "duration": 18,
    "start_time": "2022-08-21T03:25:47.600Z"
   },
   {
    "duration": 4,
    "start_time": "2022-08-21T03:25:51.223Z"
   },
   {
    "duration": 14,
    "start_time": "2022-08-21T03:34:08.465Z"
   },
   {
    "duration": 9,
    "start_time": "2022-08-21T03:34:49.245Z"
   },
   {
    "duration": 6,
    "start_time": "2022-08-21T03:35:28.045Z"
   },
   {
    "duration": 11,
    "start_time": "2022-08-21T03:37:40.803Z"
   },
   {
    "duration": 6,
    "start_time": "2022-08-21T03:38:00.063Z"
   },
   {
    "duration": 366,
    "start_time": "2022-08-21T17:09:21.025Z"
   },
   {
    "duration": 380,
    "start_time": "2022-08-21T17:09:21.392Z"
   },
   {
    "duration": 20,
    "start_time": "2022-08-21T17:09:21.773Z"
   },
   {
    "duration": 18,
    "start_time": "2022-08-21T17:09:21.795Z"
   },
   {
    "duration": 84,
    "start_time": "2022-08-21T17:09:21.814Z"
   },
   {
    "duration": 0,
    "start_time": "2022-08-21T17:09:21.899Z"
   },
   {
    "duration": 0,
    "start_time": "2022-08-21T17:09:21.900Z"
   },
   {
    "duration": 0,
    "start_time": "2022-08-21T17:09:21.901Z"
   },
   {
    "duration": 0,
    "start_time": "2022-08-21T17:09:21.902Z"
   },
   {
    "duration": 0,
    "start_time": "2022-08-21T17:09:21.904Z"
   },
   {
    "duration": 0,
    "start_time": "2022-08-21T17:09:21.904Z"
   },
   {
    "duration": 0,
    "start_time": "2022-08-21T17:09:21.906Z"
   },
   {
    "duration": 0,
    "start_time": "2022-08-21T17:09:21.907Z"
   },
   {
    "duration": 0,
    "start_time": "2022-08-21T17:09:21.908Z"
   },
   {
    "duration": 0,
    "start_time": "2022-08-21T17:09:21.910Z"
   },
   {
    "duration": 0,
    "start_time": "2022-08-21T17:09:21.911Z"
   },
   {
    "duration": 0,
    "start_time": "2022-08-21T17:09:21.913Z"
   },
   {
    "duration": 0,
    "start_time": "2022-08-21T17:09:21.914Z"
   },
   {
    "duration": 0,
    "start_time": "2022-08-21T17:09:21.915Z"
   },
   {
    "duration": 0,
    "start_time": "2022-08-21T17:09:21.916Z"
   },
   {
    "duration": 0,
    "start_time": "2022-08-21T17:09:21.917Z"
   },
   {
    "duration": 0,
    "start_time": "2022-08-21T17:09:21.918Z"
   },
   {
    "duration": 0,
    "start_time": "2022-08-21T17:09:21.919Z"
   },
   {
    "duration": 0,
    "start_time": "2022-08-21T17:09:21.920Z"
   },
   {
    "duration": 0,
    "start_time": "2022-08-21T17:09:21.921Z"
   },
   {
    "duration": 0,
    "start_time": "2022-08-21T17:09:21.922Z"
   },
   {
    "duration": 105,
    "start_time": "2022-08-21T17:09:27.230Z"
   },
   {
    "duration": 14,
    "start_time": "2022-08-21T17:10:07.821Z"
   },
   {
    "duration": 9,
    "start_time": "2022-08-21T17:10:11.730Z"
   },
   {
    "duration": 57,
    "start_time": "2022-08-21T17:21:52.118Z"
   },
   {
    "duration": 8,
    "start_time": "2022-08-21T17:22:04.165Z"
   },
   {
    "duration": 7,
    "start_time": "2022-08-21T17:22:22.766Z"
   },
   {
    "duration": 82,
    "start_time": "2022-08-21T17:22:46.857Z"
   },
   {
    "duration": 1390,
    "start_time": "2022-08-21T17:23:07.664Z"
   },
   {
    "duration": 11,
    "start_time": "2022-08-21T17:23:16.677Z"
   },
   {
    "duration": 87,
    "start_time": "2022-08-21T17:23:32.162Z"
   },
   {
    "duration": 82,
    "start_time": "2022-08-21T17:29:24.381Z"
   },
   {
    "duration": 98,
    "start_time": "2022-08-21T17:30:19.987Z"
   },
   {
    "duration": 11,
    "start_time": "2022-08-21T17:30:52.667Z"
   },
   {
    "duration": 8,
    "start_time": "2022-08-21T17:31:13.645Z"
   },
   {
    "duration": 6,
    "start_time": "2022-08-21T17:31:24.068Z"
   },
   {
    "duration": 8,
    "start_time": "2022-08-21T17:31:37.935Z"
   },
   {
    "duration": 6,
    "start_time": "2022-08-21T17:34:55.932Z"
   },
   {
    "duration": 9,
    "start_time": "2022-08-21T17:35:03.385Z"
   },
   {
    "duration": 6,
    "start_time": "2022-08-21T17:35:09.247Z"
   },
   {
    "duration": 6,
    "start_time": "2022-08-21T17:35:40.637Z"
   },
   {
    "duration": 8,
    "start_time": "2022-08-21T17:35:55.007Z"
   },
   {
    "duration": 11,
    "start_time": "2022-08-21T17:36:01.389Z"
   },
   {
    "duration": 418,
    "start_time": "2022-08-21T17:36:29.793Z"
   },
   {
    "duration": 110,
    "start_time": "2022-08-21T17:36:30.213Z"
   },
   {
    "duration": 25,
    "start_time": "2022-08-21T17:36:30.325Z"
   },
   {
    "duration": 16,
    "start_time": "2022-08-21T17:36:30.352Z"
   },
   {
    "duration": 25,
    "start_time": "2022-08-21T17:36:30.370Z"
   },
   {
    "duration": 29,
    "start_time": "2022-08-21T17:36:30.397Z"
   },
   {
    "duration": 24,
    "start_time": "2022-08-21T17:36:30.427Z"
   },
   {
    "duration": 9,
    "start_time": "2022-08-21T17:36:30.452Z"
   },
   {
    "duration": 10,
    "start_time": "2022-08-21T17:36:30.462Z"
   },
   {
    "duration": 11,
    "start_time": "2022-08-21T17:36:30.475Z"
   },
   {
    "duration": 36,
    "start_time": "2022-08-21T17:36:30.488Z"
   },
   {
    "duration": 13,
    "start_time": "2022-08-21T17:36:30.526Z"
   },
   {
    "duration": 12,
    "start_time": "2022-08-21T17:36:30.541Z"
   },
   {
    "duration": 8,
    "start_time": "2022-08-21T17:36:30.555Z"
   },
   {
    "duration": 13,
    "start_time": "2022-08-21T17:36:30.565Z"
   },
   {
    "duration": 6,
    "start_time": "2022-08-21T17:36:30.580Z"
   },
   {
    "duration": 45,
    "start_time": "2022-08-21T17:36:30.587Z"
   },
   {
    "duration": 6,
    "start_time": "2022-08-21T17:36:30.634Z"
   },
   {
    "duration": 6,
    "start_time": "2022-08-21T17:36:30.641Z"
   },
   {
    "duration": 6,
    "start_time": "2022-08-21T17:36:30.649Z"
   },
   {
    "duration": 10,
    "start_time": "2022-08-21T17:36:30.656Z"
   },
   {
    "duration": 14,
    "start_time": "2022-08-21T17:36:30.668Z"
   },
   {
    "duration": 10,
    "start_time": "2022-08-21T17:47:31.890Z"
   },
   {
    "duration": 14,
    "start_time": "2022-08-21T17:58:11.973Z"
   },
   {
    "duration": 63,
    "start_time": "2022-08-21T17:58:38.229Z"
   },
   {
    "duration": 14,
    "start_time": "2022-08-21T19:08:24.855Z"
   },
   {
    "duration": 15,
    "start_time": "2022-08-21T19:35:36.942Z"
   },
   {
    "duration": 12,
    "start_time": "2022-08-21T19:35:41.218Z"
   },
   {
    "duration": 10,
    "start_time": "2022-08-21T19:35:45.155Z"
   },
   {
    "duration": 122,
    "start_time": "2022-08-21T19:35:58.898Z"
   },
   {
    "duration": 12,
    "start_time": "2022-08-21T19:36:04.573Z"
   },
   {
    "duration": 21,
    "start_time": "2022-08-21T19:36:12.413Z"
   },
   {
    "duration": 8,
    "start_time": "2022-08-21T19:36:26.661Z"
   },
   {
    "duration": 10,
    "start_time": "2022-08-21T19:56:05.192Z"
   },
   {
    "duration": 76,
    "start_time": "2022-08-21T19:56:33.417Z"
   },
   {
    "duration": 12,
    "start_time": "2022-08-21T19:56:36.466Z"
   },
   {
    "duration": 82,
    "start_time": "2022-08-21T19:57:16.841Z"
   },
   {
    "duration": 10,
    "start_time": "2022-08-21T19:57:21.413Z"
   },
   {
    "duration": 10,
    "start_time": "2022-08-21T19:57:28.042Z"
   },
   {
    "duration": 113,
    "start_time": "2022-08-21T19:58:34.085Z"
   },
   {
    "duration": 9,
    "start_time": "2022-08-21T19:58:38.961Z"
   },
   {
    "duration": 93,
    "start_time": "2022-08-21T19:58:46.861Z"
   },
   {
    "duration": 3,
    "start_time": "2022-08-21T20:00:03.722Z"
   },
   {
    "duration": 8,
    "start_time": "2022-08-21T20:00:15.173Z"
   },
   {
    "duration": 8,
    "start_time": "2022-08-21T20:00:25.543Z"
   },
   {
    "duration": 7,
    "start_time": "2022-08-21T22:19:45.718Z"
   },
   {
    "duration": 6,
    "start_time": "2022-08-21T22:20:02.751Z"
   },
   {
    "duration": 6,
    "start_time": "2022-08-21T22:35:00.649Z"
   },
   {
    "duration": 8,
    "start_time": "2022-08-21T22:35:26.088Z"
   },
   {
    "duration": 83,
    "start_time": "2022-08-21T22:35:42.476Z"
   },
   {
    "duration": 7,
    "start_time": "2022-08-21T22:35:51.195Z"
   },
   {
    "duration": 7,
    "start_time": "2022-08-21T22:36:09.476Z"
   },
   {
    "duration": 7,
    "start_time": "2022-08-21T22:39:03.144Z"
   },
   {
    "duration": 1212,
    "start_time": "2022-08-21T22:41:02.527Z"
   },
   {
    "duration": 8,
    "start_time": "2022-08-21T22:42:58.604Z"
   },
   {
    "duration": 6,
    "start_time": "2022-08-21T22:43:36.329Z"
   },
   {
    "duration": 7,
    "start_time": "2022-08-21T22:43:46.662Z"
   },
   {
    "duration": 7,
    "start_time": "2022-08-21T22:43:51.661Z"
   },
   {
    "duration": 14,
    "start_time": "2022-08-21T22:44:03.431Z"
   },
   {
    "duration": 5,
    "start_time": "2022-08-21T22:44:18.518Z"
   },
   {
    "duration": 7,
    "start_time": "2022-08-21T22:58:20.357Z"
   },
   {
    "duration": 7,
    "start_time": "2022-08-21T22:58:30.273Z"
   },
   {
    "duration": 7,
    "start_time": "2022-08-21T22:58:45.789Z"
   },
   {
    "duration": 6,
    "start_time": "2022-08-21T22:59:10.463Z"
   },
   {
    "duration": 9,
    "start_time": "2022-08-21T22:59:46.573Z"
   },
   {
    "duration": 10,
    "start_time": "2022-08-21T22:59:49.444Z"
   },
   {
    "duration": 9,
    "start_time": "2022-08-21T22:59:51.642Z"
   },
   {
    "duration": 7,
    "start_time": "2022-08-21T22:59:54.979Z"
   },
   {
    "duration": 6,
    "start_time": "2022-08-21T23:00:00.312Z"
   },
   {
    "duration": 17,
    "start_time": "2022-08-21T23:30:27.865Z"
   },
   {
    "duration": 13,
    "start_time": "2022-08-22T00:36:40.372Z"
   },
   {
    "duration": 12,
    "start_time": "2022-08-22T00:36:43.287Z"
   },
   {
    "duration": 12,
    "start_time": "2022-08-22T00:36:45.123Z"
   },
   {
    "duration": 11,
    "start_time": "2022-08-22T00:36:47.653Z"
   },
   {
    "duration": 8,
    "start_time": "2022-08-22T00:37:03.863Z"
   },
   {
    "duration": 8,
    "start_time": "2022-08-22T00:37:15.728Z"
   },
   {
    "duration": 7,
    "start_time": "2022-08-22T00:37:38.782Z"
   },
   {
    "duration": 370,
    "start_time": "2022-08-22T00:37:45.302Z"
   },
   {
    "duration": 89,
    "start_time": "2022-08-22T00:37:45.673Z"
   },
   {
    "duration": 20,
    "start_time": "2022-08-22T00:37:45.763Z"
   },
   {
    "duration": 23,
    "start_time": "2022-08-22T00:37:45.784Z"
   },
   {
    "duration": 10,
    "start_time": "2022-08-22T00:37:45.809Z"
   },
   {
    "duration": 10,
    "start_time": "2022-08-22T00:37:45.820Z"
   },
   {
    "duration": 15,
    "start_time": "2022-08-22T00:37:45.831Z"
   },
   {
    "duration": 75,
    "start_time": "2022-08-22T00:37:45.848Z"
   },
   {
    "duration": 0,
    "start_time": "2022-08-22T00:37:45.925Z"
   },
   {
    "duration": 0,
    "start_time": "2022-08-22T00:37:45.927Z"
   },
   {
    "duration": 0,
    "start_time": "2022-08-22T00:37:45.928Z"
   },
   {
    "duration": 0,
    "start_time": "2022-08-22T00:37:45.929Z"
   },
   {
    "duration": 0,
    "start_time": "2022-08-22T00:37:45.930Z"
   },
   {
    "duration": 0,
    "start_time": "2022-08-22T00:37:45.931Z"
   },
   {
    "duration": 0,
    "start_time": "2022-08-22T00:37:45.933Z"
   },
   {
    "duration": 0,
    "start_time": "2022-08-22T00:37:45.934Z"
   },
   {
    "duration": 0,
    "start_time": "2022-08-22T00:37:45.935Z"
   },
   {
    "duration": 0,
    "start_time": "2022-08-22T00:37:45.936Z"
   },
   {
    "duration": 0,
    "start_time": "2022-08-22T00:37:45.937Z"
   },
   {
    "duration": 0,
    "start_time": "2022-08-22T00:37:45.938Z"
   },
   {
    "duration": 0,
    "start_time": "2022-08-22T00:37:45.940Z"
   },
   {
    "duration": 0,
    "start_time": "2022-08-22T00:37:45.941Z"
   },
   {
    "duration": 0,
    "start_time": "2022-08-22T00:37:45.942Z"
   },
   {
    "duration": 3,
    "start_time": "2022-08-22T02:08:15.546Z"
   },
   {
    "duration": 5,
    "start_time": "2022-08-22T02:08:19.102Z"
   },
   {
    "duration": 17,
    "start_time": "2022-08-22T03:07:19.068Z"
   },
   {
    "duration": 9,
    "start_time": "2022-08-22T03:08:32.056Z"
   },
   {
    "duration": 7,
    "start_time": "2022-08-22T03:08:38.340Z"
   },
   {
    "duration": 8,
    "start_time": "2022-08-22T03:08:48.114Z"
   },
   {
    "duration": 7,
    "start_time": "2022-08-22T03:08:50.725Z"
   },
   {
    "duration": 3,
    "start_time": "2022-08-22T03:09:11.845Z"
   },
   {
    "duration": 15,
    "start_time": "2022-08-22T03:09:15.493Z"
   },
   {
    "duration": 7,
    "start_time": "2022-08-22T03:19:12.402Z"
   },
   {
    "duration": 16,
    "start_time": "2022-08-22T03:19:13.766Z"
   },
   {
    "duration": 7,
    "start_time": "2022-08-22T03:19:19.398Z"
   },
   {
    "duration": 589,
    "start_time": "2022-08-22T03:30:08.212Z"
   },
   {
    "duration": 12,
    "start_time": "2022-08-22T03:30:49.382Z"
   },
   {
    "duration": 16,
    "start_time": "2022-08-22T03:30:52.359Z"
   },
   {
    "duration": 461,
    "start_time": "2022-08-22T12:23:38.523Z"
   },
   {
    "duration": 208,
    "start_time": "2022-08-22T12:23:38.987Z"
   },
   {
    "duration": 32,
    "start_time": "2022-08-22T12:23:39.198Z"
   },
   {
    "duration": 13,
    "start_time": "2022-08-22T12:23:39.233Z"
   },
   {
    "duration": 22,
    "start_time": "2022-08-22T12:23:39.248Z"
   },
   {
    "duration": 35,
    "start_time": "2022-08-22T12:23:39.272Z"
   },
   {
    "duration": 21,
    "start_time": "2022-08-22T12:23:39.309Z"
   },
   {
    "duration": 9,
    "start_time": "2022-08-22T12:23:39.332Z"
   },
   {
    "duration": 57,
    "start_time": "2022-08-22T12:23:39.344Z"
   },
   {
    "duration": 0,
    "start_time": "2022-08-22T12:23:39.405Z"
   },
   {
    "duration": 0,
    "start_time": "2022-08-22T12:23:39.406Z"
   },
   {
    "duration": 0,
    "start_time": "2022-08-22T12:23:39.408Z"
   },
   {
    "duration": 0,
    "start_time": "2022-08-22T12:23:39.410Z"
   },
   {
    "duration": 0,
    "start_time": "2022-08-22T12:23:39.411Z"
   },
   {
    "duration": 0,
    "start_time": "2022-08-22T12:23:39.413Z"
   },
   {
    "duration": 0,
    "start_time": "2022-08-22T12:23:39.415Z"
   },
   {
    "duration": 0,
    "start_time": "2022-08-22T12:23:39.417Z"
   },
   {
    "duration": 0,
    "start_time": "2022-08-22T12:23:39.418Z"
   },
   {
    "duration": 0,
    "start_time": "2022-08-22T12:23:39.420Z"
   },
   {
    "duration": 0,
    "start_time": "2022-08-22T12:23:39.422Z"
   },
   {
    "duration": 0,
    "start_time": "2022-08-22T12:23:39.423Z"
   },
   {
    "duration": 0,
    "start_time": "2022-08-22T12:23:39.426Z"
   },
   {
    "duration": 0,
    "start_time": "2022-08-22T12:23:39.427Z"
   },
   {
    "duration": 0,
    "start_time": "2022-08-22T12:23:39.428Z"
   },
   {
    "duration": 22,
    "start_time": "2022-08-22T12:24:53.406Z"
   },
   {
    "duration": 15,
    "start_time": "2022-08-22T12:24:55.280Z"
   },
   {
    "duration": 768,
    "start_time": "2022-08-22T12:28:05.428Z"
   },
   {
    "duration": 11,
    "start_time": "2022-08-22T12:28:09.855Z"
   },
   {
    "duration": 8,
    "start_time": "2022-08-22T12:28:12.009Z"
   },
   {
    "duration": 1012,
    "start_time": "2022-08-22T12:28:15.116Z"
   },
   {
    "duration": 7,
    "start_time": "2022-08-22T12:28:23.088Z"
   },
   {
    "duration": 14,
    "start_time": "2022-08-22T13:38:51.500Z"
   },
   {
    "duration": 65,
    "start_time": "2022-08-22T13:38:55.184Z"
   },
   {
    "duration": 24,
    "start_time": "2022-08-22T13:41:11.906Z"
   },
   {
    "duration": 17,
    "start_time": "2022-08-22T14:28:47.064Z"
   },
   {
    "duration": 439,
    "start_time": "2022-08-22T14:29:02.626Z"
   },
   {
    "duration": 634,
    "start_time": "2022-08-22T14:34:22.717Z"
   },
   {
    "duration": 655,
    "start_time": "2022-08-22T14:35:13.551Z"
   },
   {
    "duration": 1080,
    "start_time": "2022-08-22T14:39:59.933Z"
   },
   {
    "duration": 873,
    "start_time": "2022-08-22T14:46:17.775Z"
   },
   {
    "duration": 1165,
    "start_time": "2022-08-22T14:47:33.702Z"
   },
   {
    "duration": 1144,
    "start_time": "2022-08-22T14:47:49.414Z"
   },
   {
    "duration": 10,
    "start_time": "2022-08-22T14:48:34.488Z"
   },
   {
    "duration": 91,
    "start_time": "2022-08-22T14:49:01.632Z"
   },
   {
    "duration": 86,
    "start_time": "2022-08-22T14:49:15.171Z"
   },
   {
    "duration": 90,
    "start_time": "2022-08-22T14:49:31.445Z"
   },
   {
    "duration": 171,
    "start_time": "2022-08-22T14:51:12.337Z"
   },
   {
    "duration": 88,
    "start_time": "2022-08-22T14:51:28.332Z"
   },
   {
    "duration": 9,
    "start_time": "2022-08-22T16:55:04.084Z"
   },
   {
    "duration": 14,
    "start_time": "2022-08-22T16:55:13.425Z"
   },
   {
    "duration": 12,
    "start_time": "2022-08-22T16:55:45.563Z"
   },
   {
    "duration": 62,
    "start_time": "2022-08-22T16:56:53.357Z"
   },
   {
    "duration": 17,
    "start_time": "2022-08-22T16:56:55.953Z"
   },
   {
    "duration": 8,
    "start_time": "2022-08-22T16:57:56.702Z"
   },
   {
    "duration": 10,
    "start_time": "2022-08-22T17:05:59.116Z"
   },
   {
    "duration": 39,
    "start_time": "2022-08-22T17:09:24.245Z"
   },
   {
    "duration": 114,
    "start_time": "2022-08-22T17:09:56.761Z"
   },
   {
    "duration": 44,
    "start_time": "2022-08-22T17:10:17.068Z"
   },
   {
    "duration": 17,
    "start_time": "2022-08-22T17:11:00.746Z"
   },
   {
    "duration": 13,
    "start_time": "2022-08-22T17:11:39.020Z"
   },
   {
    "duration": 24,
    "start_time": "2022-08-22T17:13:01.031Z"
   },
   {
    "duration": 10,
    "start_time": "2022-08-22T17:14:52.565Z"
   },
   {
    "duration": 7,
    "start_time": "2022-08-22T17:15:06.868Z"
   },
   {
    "duration": 8,
    "start_time": "2022-08-22T17:26:41.363Z"
   },
   {
    "duration": 8,
    "start_time": "2022-08-22T17:26:49.029Z"
   },
   {
    "duration": 26,
    "start_time": "2022-08-22T17:30:31.291Z"
   },
   {
    "duration": 626,
    "start_time": "2022-08-22T17:30:42.328Z"
   },
   {
    "duration": 114,
    "start_time": "2022-08-22T17:30:42.956Z"
   },
   {
    "duration": 32,
    "start_time": "2022-08-22T17:30:43.071Z"
   },
   {
    "duration": 11,
    "start_time": "2022-08-22T17:30:43.105Z"
   },
   {
    "duration": 14,
    "start_time": "2022-08-22T17:30:43.118Z"
   },
   {
    "duration": 18,
    "start_time": "2022-08-22T17:30:43.133Z"
   },
   {
    "duration": 11,
    "start_time": "2022-08-22T17:30:43.153Z"
   },
   {
    "duration": 53,
    "start_time": "2022-08-22T17:30:43.166Z"
   },
   {
    "duration": 6,
    "start_time": "2022-08-22T17:30:43.221Z"
   },
   {
    "duration": 16,
    "start_time": "2022-08-22T17:30:43.230Z"
   },
   {
    "duration": 10,
    "start_time": "2022-08-22T17:30:43.248Z"
   },
   {
    "duration": 8,
    "start_time": "2022-08-22T17:30:43.260Z"
   },
   {
    "duration": 8,
    "start_time": "2022-08-22T17:30:43.302Z"
   },
   {
    "duration": 8,
    "start_time": "2022-08-22T17:30:43.311Z"
   },
   {
    "duration": 15,
    "start_time": "2022-08-22T17:30:43.320Z"
   },
   {
    "duration": 87,
    "start_time": "2022-08-22T17:30:43.337Z"
   },
   {
    "duration": 26,
    "start_time": "2022-08-22T17:30:43.426Z"
   },
   {
    "duration": 161,
    "start_time": "2022-08-22T17:30:43.454Z"
   },
   {
    "duration": 0,
    "start_time": "2022-08-22T17:30:43.617Z"
   },
   {
    "duration": 0,
    "start_time": "2022-08-22T17:30:43.618Z"
   },
   {
    "duration": 0,
    "start_time": "2022-08-22T17:30:43.620Z"
   },
   {
    "duration": 0,
    "start_time": "2022-08-22T17:30:43.621Z"
   },
   {
    "duration": 0,
    "start_time": "2022-08-22T17:30:43.623Z"
   },
   {
    "duration": 0,
    "start_time": "2022-08-22T17:30:43.624Z"
   },
   {
    "duration": 0,
    "start_time": "2022-08-22T17:30:43.625Z"
   },
   {
    "duration": 0,
    "start_time": "2022-08-22T17:30:43.626Z"
   },
   {
    "duration": 18,
    "start_time": "2022-08-22T17:31:06.106Z"
   },
   {
    "duration": 295,
    "start_time": "2022-08-22T17:31:39.361Z"
   },
   {
    "duration": 196,
    "start_time": "2022-08-22T17:31:51.636Z"
   },
   {
    "duration": 256,
    "start_time": "2022-08-22T17:32:12.105Z"
   },
   {
    "duration": 12,
    "start_time": "2022-08-22T17:32:45.646Z"
   },
   {
    "duration": 180,
    "start_time": "2022-08-22T17:34:28.507Z"
   },
   {
    "duration": 13,
    "start_time": "2022-08-22T17:35:08.180Z"
   },
   {
    "duration": 18,
    "start_time": "2022-08-22T17:35:32.722Z"
   },
   {
    "duration": 17,
    "start_time": "2022-08-22T17:37:16.672Z"
   },
   {
    "duration": 6,
    "start_time": "2022-08-22T17:38:01.807Z"
   },
   {
    "duration": 4,
    "start_time": "2022-08-22T17:38:48.886Z"
   },
   {
    "duration": 35,
    "start_time": "2022-08-22T17:38:57.003Z"
   },
   {
    "duration": 691,
    "start_time": "2022-08-22T17:39:08.079Z"
   },
   {
    "duration": 111,
    "start_time": "2022-08-22T17:39:08.772Z"
   },
   {
    "duration": 41,
    "start_time": "2022-08-22T17:39:08.885Z"
   },
   {
    "duration": 20,
    "start_time": "2022-08-22T17:39:08.928Z"
   },
   {
    "duration": 28,
    "start_time": "2022-08-22T17:39:08.951Z"
   },
   {
    "duration": 108,
    "start_time": "2022-08-22T17:39:08.982Z"
   },
   {
    "duration": 0,
    "start_time": "2022-08-22T17:39:09.093Z"
   },
   {
    "duration": 0,
    "start_time": "2022-08-22T17:39:09.095Z"
   },
   {
    "duration": 0,
    "start_time": "2022-08-22T17:39:09.104Z"
   },
   {
    "duration": 0,
    "start_time": "2022-08-22T17:39:09.106Z"
   },
   {
    "duration": 0,
    "start_time": "2022-08-22T17:39:09.107Z"
   },
   {
    "duration": 0,
    "start_time": "2022-08-22T17:39:09.109Z"
   },
   {
    "duration": 0,
    "start_time": "2022-08-22T17:39:09.111Z"
   },
   {
    "duration": 0,
    "start_time": "2022-08-22T17:39:09.113Z"
   },
   {
    "duration": 0,
    "start_time": "2022-08-22T17:39:09.114Z"
   },
   {
    "duration": 0,
    "start_time": "2022-08-22T17:39:09.115Z"
   },
   {
    "duration": 0,
    "start_time": "2022-08-22T17:39:09.117Z"
   },
   {
    "duration": 0,
    "start_time": "2022-08-22T17:39:09.118Z"
   },
   {
    "duration": 0,
    "start_time": "2022-08-22T17:39:09.120Z"
   },
   {
    "duration": 0,
    "start_time": "2022-08-22T17:39:09.121Z"
   },
   {
    "duration": 0,
    "start_time": "2022-08-22T17:39:09.123Z"
   },
   {
    "duration": 0,
    "start_time": "2022-08-22T17:39:09.124Z"
   },
   {
    "duration": 0,
    "start_time": "2022-08-22T17:39:09.126Z"
   },
   {
    "duration": 0,
    "start_time": "2022-08-22T17:39:09.127Z"
   },
   {
    "duration": 0,
    "start_time": "2022-08-22T17:39:09.129Z"
   },
   {
    "duration": 0,
    "start_time": "2022-08-22T17:39:09.130Z"
   },
   {
    "duration": 0,
    "start_time": "2022-08-22T17:39:09.132Z"
   },
   {
    "duration": 10,
    "start_time": "2022-08-22T17:39:37.030Z"
   },
   {
    "duration": 10,
    "start_time": "2022-08-22T17:40:57.416Z"
   },
   {
    "duration": 19,
    "start_time": "2022-08-22T17:41:06.855Z"
   },
   {
    "duration": 22,
    "start_time": "2022-08-22T17:41:22.414Z"
   },
   {
    "duration": 22,
    "start_time": "2022-08-22T17:41:41.380Z"
   },
   {
    "duration": 3,
    "start_time": "2022-08-22T17:44:12.361Z"
   },
   {
    "duration": 15,
    "start_time": "2022-08-22T17:44:22.665Z"
   },
   {
    "duration": 16,
    "start_time": "2022-08-22T17:44:24.418Z"
   },
   {
    "duration": 19,
    "start_time": "2022-08-22T17:49:59.874Z"
   },
   {
    "duration": 14,
    "start_time": "2022-08-22T17:51:19.316Z"
   },
   {
    "duration": 16,
    "start_time": "2022-08-22T17:51:55.142Z"
   },
   {
    "duration": 16,
    "start_time": "2022-08-22T17:52:05.327Z"
   },
   {
    "duration": 17,
    "start_time": "2022-08-22T17:52:10.937Z"
   },
   {
    "duration": 27,
    "start_time": "2022-08-22T17:52:28.649Z"
   },
   {
    "duration": 19,
    "start_time": "2022-08-22T17:53:11.986Z"
   },
   {
    "duration": 51,
    "start_time": "2022-08-22T17:53:20.828Z"
   },
   {
    "duration": 16,
    "start_time": "2022-08-22T17:53:24.578Z"
   },
   {
    "duration": 675,
    "start_time": "2022-08-22T17:53:34.036Z"
   },
   {
    "duration": 109,
    "start_time": "2022-08-22T17:53:34.713Z"
   },
   {
    "duration": 24,
    "start_time": "2022-08-22T17:53:34.824Z"
   },
   {
    "duration": 19,
    "start_time": "2022-08-22T17:53:34.850Z"
   },
   {
    "duration": 19,
    "start_time": "2022-08-22T17:53:34.871Z"
   },
   {
    "duration": 13,
    "start_time": "2022-08-22T17:53:34.891Z"
   },
   {
    "duration": 34,
    "start_time": "2022-08-22T17:53:34.905Z"
   },
   {
    "duration": 17,
    "start_time": "2022-08-22T17:53:34.941Z"
   },
   {
    "duration": 21,
    "start_time": "2022-08-22T17:53:34.960Z"
   },
   {
    "duration": 8,
    "start_time": "2022-08-22T17:53:34.983Z"
   },
   {
    "duration": 17,
    "start_time": "2022-08-22T17:53:35.002Z"
   },
   {
    "duration": 25,
    "start_time": "2022-08-22T17:53:35.021Z"
   },
   {
    "duration": 9,
    "start_time": "2022-08-22T17:53:35.048Z"
   },
   {
    "duration": 16,
    "start_time": "2022-08-22T17:53:35.060Z"
   },
   {
    "duration": 14,
    "start_time": "2022-08-22T17:53:35.078Z"
   },
   {
    "duration": 20,
    "start_time": "2022-08-22T17:53:35.094Z"
   },
   {
    "duration": 83,
    "start_time": "2022-08-22T17:53:35.116Z"
   },
   {
    "duration": 23,
    "start_time": "2022-08-22T17:53:35.200Z"
   },
   {
    "duration": 155,
    "start_time": "2022-08-22T17:53:35.225Z"
   },
   {
    "duration": 0,
    "start_time": "2022-08-22T17:53:35.382Z"
   },
   {
    "duration": 0,
    "start_time": "2022-08-22T17:53:35.383Z"
   },
   {
    "duration": 0,
    "start_time": "2022-08-22T17:53:35.385Z"
   },
   {
    "duration": 0,
    "start_time": "2022-08-22T17:53:35.386Z"
   },
   {
    "duration": 0,
    "start_time": "2022-08-22T17:53:35.387Z"
   },
   {
    "duration": 0,
    "start_time": "2022-08-22T17:53:35.389Z"
   },
   {
    "duration": 0,
    "start_time": "2022-08-22T17:53:35.389Z"
   },
   {
    "duration": 0,
    "start_time": "2022-08-22T17:53:35.391Z"
   },
   {
    "duration": 17,
    "start_time": "2022-08-22T17:53:55.586Z"
   },
   {
    "duration": 251,
    "start_time": "2022-08-22T17:55:10.177Z"
   },
   {
    "duration": 25,
    "start_time": "2022-08-22T18:29:16.652Z"
   },
   {
    "duration": 104,
    "start_time": "2022-08-22T18:29:36.114Z"
   },
   {
    "duration": 31,
    "start_time": "2022-08-22T18:29:39.600Z"
   },
   {
    "duration": 36,
    "start_time": "2022-08-22T18:30:21.165Z"
   },
   {
    "duration": 401,
    "start_time": "2022-08-22T18:31:03.290Z"
   },
   {
    "duration": 49,
    "start_time": "2022-08-22T18:31:41.335Z"
   },
   {
    "duration": 50,
    "start_time": "2022-08-22T18:31:46.797Z"
   },
   {
    "duration": 65,
    "start_time": "2022-08-22T18:31:51.243Z"
   },
   {
    "duration": 285,
    "start_time": "2022-08-22T18:32:06.402Z"
   },
   {
    "duration": 175,
    "start_time": "2022-08-22T18:32:15.141Z"
   },
   {
    "duration": 134,
    "start_time": "2022-08-22T18:32:28.159Z"
   },
   {
    "duration": 92,
    "start_time": "2022-08-22T18:32:33.650Z"
   },
   {
    "duration": 248,
    "start_time": "2022-08-22T18:32:41.678Z"
   },
   {
    "duration": 738,
    "start_time": "2022-08-22T18:32:48.636Z"
   },
   {
    "duration": 106,
    "start_time": "2022-08-22T18:32:49.376Z"
   },
   {
    "duration": 30,
    "start_time": "2022-08-22T18:32:49.484Z"
   },
   {
    "duration": 12,
    "start_time": "2022-08-22T18:32:49.517Z"
   },
   {
    "duration": 11,
    "start_time": "2022-08-22T18:32:49.530Z"
   },
   {
    "duration": 6,
    "start_time": "2022-08-22T18:32:49.543Z"
   },
   {
    "duration": 92,
    "start_time": "2022-08-22T18:32:49.550Z"
   },
   {
    "duration": 12,
    "start_time": "2022-08-22T18:32:49.644Z"
   },
   {
    "duration": 19,
    "start_time": "2022-08-22T18:32:49.657Z"
   },
   {
    "duration": 29,
    "start_time": "2022-08-22T18:32:49.679Z"
   },
   {
    "duration": 20,
    "start_time": "2022-08-22T18:32:49.709Z"
   },
   {
    "duration": 11,
    "start_time": "2022-08-22T18:32:49.731Z"
   },
   {
    "duration": 10,
    "start_time": "2022-08-22T18:32:49.744Z"
   },
   {
    "duration": 16,
    "start_time": "2022-08-22T18:32:49.755Z"
   },
   {
    "duration": 82,
    "start_time": "2022-08-22T18:32:49.802Z"
   },
   {
    "duration": 0,
    "start_time": "2022-08-22T18:32:49.887Z"
   },
   {
    "duration": 0,
    "start_time": "2022-08-22T18:32:49.902Z"
   },
   {
    "duration": 0,
    "start_time": "2022-08-22T18:32:49.903Z"
   },
   {
    "duration": 0,
    "start_time": "2022-08-22T18:32:49.905Z"
   },
   {
    "duration": 0,
    "start_time": "2022-08-22T18:32:49.907Z"
   },
   {
    "duration": 0,
    "start_time": "2022-08-22T18:32:49.909Z"
   },
   {
    "duration": 1,
    "start_time": "2022-08-22T18:32:49.910Z"
   },
   {
    "duration": 0,
    "start_time": "2022-08-22T18:32:49.912Z"
   },
   {
    "duration": 0,
    "start_time": "2022-08-22T18:32:49.914Z"
   },
   {
    "duration": 0,
    "start_time": "2022-08-22T18:32:49.915Z"
   },
   {
    "duration": 0,
    "start_time": "2022-08-22T18:32:49.917Z"
   },
   {
    "duration": 0,
    "start_time": "2022-08-22T18:32:49.918Z"
   },
   {
    "duration": 24,
    "start_time": "2022-08-22T18:33:31.283Z"
   },
   {
    "duration": 682,
    "start_time": "2022-08-22T18:33:37.602Z"
   },
   {
    "duration": 116,
    "start_time": "2022-08-22T18:33:38.287Z"
   },
   {
    "duration": 29,
    "start_time": "2022-08-22T18:33:38.405Z"
   },
   {
    "duration": 14,
    "start_time": "2022-08-22T18:33:38.435Z"
   },
   {
    "duration": 14,
    "start_time": "2022-08-22T18:33:38.452Z"
   },
   {
    "duration": 5,
    "start_time": "2022-08-22T18:33:38.467Z"
   },
   {
    "duration": 41,
    "start_time": "2022-08-22T18:33:38.474Z"
   },
   {
    "duration": 13,
    "start_time": "2022-08-22T18:33:38.517Z"
   },
   {
    "duration": 21,
    "start_time": "2022-08-22T18:33:38.532Z"
   },
   {
    "duration": 6,
    "start_time": "2022-08-22T18:33:38.555Z"
   },
   {
    "duration": 56,
    "start_time": "2022-08-22T18:33:38.563Z"
   },
   {
    "duration": 10,
    "start_time": "2022-08-22T18:33:38.621Z"
   },
   {
    "duration": 9,
    "start_time": "2022-08-22T18:33:38.633Z"
   },
   {
    "duration": 6,
    "start_time": "2022-08-22T18:33:38.645Z"
   },
   {
    "duration": 8,
    "start_time": "2022-08-22T18:33:38.653Z"
   },
   {
    "duration": 47,
    "start_time": "2022-08-22T18:33:38.663Z"
   },
   {
    "duration": 64,
    "start_time": "2022-08-22T18:33:38.712Z"
   },
   {
    "duration": 30,
    "start_time": "2022-08-22T18:33:38.778Z"
   },
   {
    "duration": 201,
    "start_time": "2022-08-22T18:33:38.810Z"
   },
   {
    "duration": 0,
    "start_time": "2022-08-22T18:33:39.013Z"
   },
   {
    "duration": 0,
    "start_time": "2022-08-22T18:33:39.014Z"
   },
   {
    "duration": 0,
    "start_time": "2022-08-22T18:33:39.016Z"
   },
   {
    "duration": 0,
    "start_time": "2022-08-22T18:33:39.017Z"
   },
   {
    "duration": 0,
    "start_time": "2022-08-22T18:33:39.018Z"
   },
   {
    "duration": 0,
    "start_time": "2022-08-22T18:33:39.019Z"
   },
   {
    "duration": 0,
    "start_time": "2022-08-22T18:33:39.021Z"
   },
   {
    "duration": 0,
    "start_time": "2022-08-22T18:33:39.022Z"
   },
   {
    "duration": 23,
    "start_time": "2022-08-22T18:34:36.832Z"
   },
   {
    "duration": 60,
    "start_time": "2022-08-22T18:39:01.820Z"
   },
   {
    "duration": 5,
    "start_time": "2022-08-22T18:39:18.763Z"
   },
   {
    "duration": 247,
    "start_time": "2022-08-22T18:41:43.237Z"
   },
   {
    "duration": 191,
    "start_time": "2022-08-22T18:41:46.821Z"
   },
   {
    "duration": 658,
    "start_time": "2022-08-22T18:41:51.112Z"
   },
   {
    "duration": 107,
    "start_time": "2022-08-22T18:41:51.772Z"
   },
   {
    "duration": 25,
    "start_time": "2022-08-22T18:41:51.880Z"
   },
   {
    "duration": 13,
    "start_time": "2022-08-22T18:41:51.907Z"
   },
   {
    "duration": 14,
    "start_time": "2022-08-22T18:41:51.922Z"
   },
   {
    "duration": 8,
    "start_time": "2022-08-22T18:41:51.937Z"
   },
   {
    "duration": 256,
    "start_time": "2022-08-22T18:41:51.948Z"
   },
   {
    "duration": 8,
    "start_time": "2022-08-22T18:41:52.206Z"
   },
   {
    "duration": 12,
    "start_time": "2022-08-22T18:41:52.215Z"
   },
   {
    "duration": 10,
    "start_time": "2022-08-22T18:41:52.230Z"
   },
   {
    "duration": 9,
    "start_time": "2022-08-22T18:41:52.241Z"
   },
   {
    "duration": 11,
    "start_time": "2022-08-22T18:41:52.252Z"
   },
   {
    "duration": 42,
    "start_time": "2022-08-22T18:41:52.265Z"
   },
   {
    "duration": 8,
    "start_time": "2022-08-22T18:41:52.309Z"
   },
   {
    "duration": 8,
    "start_time": "2022-08-22T18:41:52.319Z"
   },
   {
    "duration": 10,
    "start_time": "2022-08-22T18:41:52.329Z"
   },
   {
    "duration": 21,
    "start_time": "2022-08-22T18:41:52.340Z"
   },
   {
    "duration": 68,
    "start_time": "2022-08-22T18:41:52.363Z"
   },
   {
    "duration": 20,
    "start_time": "2022-08-22T18:41:52.433Z"
   },
   {
    "duration": 395,
    "start_time": "2022-08-22T18:41:52.455Z"
   },
   {
    "duration": 0,
    "start_time": "2022-08-22T18:41:52.853Z"
   },
   {
    "duration": 0,
    "start_time": "2022-08-22T18:41:52.854Z"
   },
   {
    "duration": 0,
    "start_time": "2022-08-22T18:41:52.855Z"
   },
   {
    "duration": 0,
    "start_time": "2022-08-22T18:41:52.857Z"
   },
   {
    "duration": 0,
    "start_time": "2022-08-22T18:41:52.858Z"
   },
   {
    "duration": 1,
    "start_time": "2022-08-22T18:41:52.860Z"
   },
   {
    "duration": 0,
    "start_time": "2022-08-22T18:41:52.862Z"
   },
   {
    "duration": 0,
    "start_time": "2022-08-22T18:41:52.863Z"
   },
   {
    "duration": 709,
    "start_time": "2022-08-22T18:42:18.208Z"
   },
   {
    "duration": 129,
    "start_time": "2022-08-22T18:42:18.920Z"
   },
   {
    "duration": 35,
    "start_time": "2022-08-22T18:42:19.051Z"
   },
   {
    "duration": 29,
    "start_time": "2022-08-22T18:42:19.089Z"
   },
   {
    "duration": 16,
    "start_time": "2022-08-22T18:42:19.121Z"
   },
   {
    "duration": 5,
    "start_time": "2022-08-22T18:42:19.139Z"
   },
   {
    "duration": 246,
    "start_time": "2022-08-22T18:42:19.146Z"
   },
   {
    "duration": 16,
    "start_time": "2022-08-22T18:42:19.394Z"
   },
   {
    "duration": 17,
    "start_time": "2022-08-22T18:42:19.413Z"
   },
   {
    "duration": 11,
    "start_time": "2022-08-22T18:42:19.432Z"
   },
   {
    "duration": 6,
    "start_time": "2022-08-22T18:42:19.445Z"
   },
   {
    "duration": 13,
    "start_time": "2022-08-22T18:42:19.452Z"
   },
   {
    "duration": 36,
    "start_time": "2022-08-22T18:42:19.467Z"
   },
   {
    "duration": 7,
    "start_time": "2022-08-22T18:42:19.507Z"
   },
   {
    "duration": 10,
    "start_time": "2022-08-22T18:42:19.516Z"
   },
   {
    "duration": 18,
    "start_time": "2022-08-22T18:42:19.527Z"
   },
   {
    "duration": 32,
    "start_time": "2022-08-22T18:42:19.547Z"
   },
   {
    "duration": 48,
    "start_time": "2022-08-22T18:42:19.582Z"
   },
   {
    "duration": 19,
    "start_time": "2022-08-22T18:42:19.631Z"
   },
   {
    "duration": 386,
    "start_time": "2022-08-22T18:42:19.652Z"
   },
   {
    "duration": 0,
    "start_time": "2022-08-22T18:42:20.040Z"
   },
   {
    "duration": 0,
    "start_time": "2022-08-22T18:42:20.041Z"
   },
   {
    "duration": 0,
    "start_time": "2022-08-22T18:42:20.042Z"
   },
   {
    "duration": 0,
    "start_time": "2022-08-22T18:42:20.043Z"
   },
   {
    "duration": 0,
    "start_time": "2022-08-22T18:42:20.045Z"
   },
   {
    "duration": 0,
    "start_time": "2022-08-22T18:42:20.046Z"
   },
   {
    "duration": 0,
    "start_time": "2022-08-22T18:42:20.046Z"
   },
   {
    "duration": 0,
    "start_time": "2022-08-22T18:42:20.048Z"
   },
   {
    "duration": 91,
    "start_time": "2022-08-22T18:42:50.857Z"
   },
   {
    "duration": 91,
    "start_time": "2022-08-22T18:42:55.931Z"
   },
   {
    "duration": 85,
    "start_time": "2022-08-22T18:44:10.185Z"
   },
   {
    "duration": 11,
    "start_time": "2022-08-22T18:44:22.434Z"
   },
   {
    "duration": 3,
    "start_time": "2022-08-22T18:44:30.749Z"
   },
   {
    "duration": 730,
    "start_time": "2022-08-22T18:44:37.578Z"
   },
   {
    "duration": 133,
    "start_time": "2022-08-22T18:44:38.310Z"
   },
   {
    "duration": 30,
    "start_time": "2022-08-22T18:44:38.447Z"
   },
   {
    "duration": 22,
    "start_time": "2022-08-22T18:44:38.479Z"
   },
   {
    "duration": 26,
    "start_time": "2022-08-22T18:44:38.503Z"
   },
   {
    "duration": 15,
    "start_time": "2022-08-22T18:44:38.531Z"
   },
   {
    "duration": 14,
    "start_time": "2022-08-22T18:44:38.548Z"
   },
   {
    "duration": 23,
    "start_time": "2022-08-22T18:44:38.564Z"
   },
   {
    "duration": 17,
    "start_time": "2022-08-22T18:44:38.590Z"
   },
   {
    "duration": 18,
    "start_time": "2022-08-22T18:44:38.610Z"
   },
   {
    "duration": 19,
    "start_time": "2022-08-22T18:44:38.630Z"
   },
   {
    "duration": 37,
    "start_time": "2022-08-22T18:44:38.651Z"
   },
   {
    "duration": 20,
    "start_time": "2022-08-22T18:44:38.690Z"
   },
   {
    "duration": 13,
    "start_time": "2022-08-22T18:44:38.712Z"
   },
   {
    "duration": 5,
    "start_time": "2022-08-22T18:44:38.727Z"
   },
   {
    "duration": 10,
    "start_time": "2022-08-22T18:44:38.734Z"
   },
   {
    "duration": 37,
    "start_time": "2022-08-22T18:44:38.745Z"
   },
   {
    "duration": 79,
    "start_time": "2022-08-22T18:44:38.804Z"
   },
   {
    "duration": 50,
    "start_time": "2022-08-22T18:44:38.887Z"
   },
   {
    "duration": 234,
    "start_time": "2022-08-22T18:44:38.939Z"
   },
   {
    "duration": 0,
    "start_time": "2022-08-22T18:44:39.176Z"
   },
   {
    "duration": 0,
    "start_time": "2022-08-22T18:44:39.177Z"
   },
   {
    "duration": 0,
    "start_time": "2022-08-22T18:44:39.178Z"
   },
   {
    "duration": 0,
    "start_time": "2022-08-22T18:44:39.179Z"
   },
   {
    "duration": 0,
    "start_time": "2022-08-22T18:44:39.180Z"
   },
   {
    "duration": 0,
    "start_time": "2022-08-22T18:44:39.182Z"
   },
   {
    "duration": 0,
    "start_time": "2022-08-22T18:44:39.184Z"
   },
   {
    "duration": 0,
    "start_time": "2022-08-22T18:44:39.186Z"
   },
   {
    "duration": 15,
    "start_time": "2022-08-22T18:57:30.518Z"
   },
   {
    "duration": 77,
    "start_time": "2022-08-22T18:57:36.409Z"
   },
   {
    "duration": 13,
    "start_time": "2022-08-22T18:57:40.931Z"
   },
   {
    "duration": 13,
    "start_time": "2022-08-22T18:57:44.283Z"
   },
   {
    "duration": 28,
    "start_time": "2022-08-22T18:58:07.603Z"
   },
   {
    "duration": 191,
    "start_time": "2022-08-22T18:58:20.163Z"
   },
   {
    "duration": 44,
    "start_time": "2022-08-22T18:58:56.827Z"
   },
   {
    "duration": 686,
    "start_time": "2022-08-22T18:59:03.397Z"
   },
   {
    "duration": 108,
    "start_time": "2022-08-22T18:59:04.085Z"
   },
   {
    "duration": 36,
    "start_time": "2022-08-22T18:59:04.195Z"
   },
   {
    "duration": 12,
    "start_time": "2022-08-22T18:59:04.233Z"
   },
   {
    "duration": 21,
    "start_time": "2022-08-22T18:59:04.247Z"
   },
   {
    "duration": 12,
    "start_time": "2022-08-22T18:59:04.270Z"
   },
   {
    "duration": 5,
    "start_time": "2022-08-22T18:59:04.303Z"
   },
   {
    "duration": 29,
    "start_time": "2022-08-22T18:59:04.310Z"
   },
   {
    "duration": 13,
    "start_time": "2022-08-22T18:59:04.341Z"
   },
   {
    "duration": 14,
    "start_time": "2022-08-22T18:59:04.356Z"
   },
   {
    "duration": 23,
    "start_time": "2022-08-22T18:59:04.404Z"
   },
   {
    "duration": 7,
    "start_time": "2022-08-22T18:59:04.429Z"
   },
   {
    "duration": 21,
    "start_time": "2022-08-22T18:59:04.438Z"
   },
   {
    "duration": 13,
    "start_time": "2022-08-22T18:59:04.463Z"
   },
   {
    "duration": 11,
    "start_time": "2022-08-22T18:59:04.504Z"
   },
   {
    "duration": 7,
    "start_time": "2022-08-22T18:59:04.517Z"
   },
   {
    "duration": 8,
    "start_time": "2022-08-22T18:59:04.526Z"
   },
   {
    "duration": 27,
    "start_time": "2022-08-22T18:59:04.536Z"
   },
   {
    "duration": 93,
    "start_time": "2022-08-22T18:59:04.565Z"
   },
   {
    "duration": 25,
    "start_time": "2022-08-22T18:59:04.660Z"
   },
   {
    "duration": 165,
    "start_time": "2022-08-22T18:59:04.703Z"
   },
   {
    "duration": 0,
    "start_time": "2022-08-22T18:59:04.870Z"
   },
   {
    "duration": 0,
    "start_time": "2022-08-22T18:59:04.872Z"
   },
   {
    "duration": 0,
    "start_time": "2022-08-22T18:59:04.873Z"
   },
   {
    "duration": 0,
    "start_time": "2022-08-22T18:59:04.875Z"
   },
   {
    "duration": 0,
    "start_time": "2022-08-22T18:59:04.877Z"
   },
   {
    "duration": 0,
    "start_time": "2022-08-22T18:59:04.879Z"
   },
   {
    "duration": 0,
    "start_time": "2022-08-22T18:59:04.881Z"
   },
   {
    "duration": 0,
    "start_time": "2022-08-22T18:59:04.882Z"
   },
   {
    "duration": 762,
    "start_time": "2022-08-22T18:59:39.945Z"
   },
   {
    "duration": 124,
    "start_time": "2022-08-22T18:59:40.710Z"
   },
   {
    "duration": 27,
    "start_time": "2022-08-22T18:59:40.837Z"
   },
   {
    "duration": 12,
    "start_time": "2022-08-22T18:59:40.867Z"
   },
   {
    "duration": 30,
    "start_time": "2022-08-22T18:59:40.880Z"
   },
   {
    "duration": 13,
    "start_time": "2022-08-22T18:59:40.912Z"
   },
   {
    "duration": 6,
    "start_time": "2022-08-22T18:59:40.927Z"
   },
   {
    "duration": 30,
    "start_time": "2022-08-22T18:59:40.935Z"
   },
   {
    "duration": 16,
    "start_time": "2022-08-22T18:59:40.967Z"
   },
   {
    "duration": 17,
    "start_time": "2022-08-22T18:59:41.006Z"
   },
   {
    "duration": 26,
    "start_time": "2022-08-22T18:59:41.025Z"
   },
   {
    "duration": 9,
    "start_time": "2022-08-22T18:59:41.053Z"
   },
   {
    "duration": 43,
    "start_time": "2022-08-22T18:59:41.064Z"
   },
   {
    "duration": 10,
    "start_time": "2022-08-22T18:59:41.109Z"
   },
   {
    "duration": 8,
    "start_time": "2022-08-22T18:59:41.121Z"
   },
   {
    "duration": 16,
    "start_time": "2022-08-22T18:59:41.131Z"
   },
   {
    "duration": 9,
    "start_time": "2022-08-22T18:59:41.149Z"
   },
   {
    "duration": 56,
    "start_time": "2022-08-22T18:59:41.160Z"
   },
   {
    "duration": 66,
    "start_time": "2022-08-22T18:59:41.218Z"
   },
   {
    "duration": 43,
    "start_time": "2022-08-22T18:59:41.286Z"
   },
   {
    "duration": 174,
    "start_time": "2022-08-22T18:59:41.332Z"
   },
   {
    "duration": 0,
    "start_time": "2022-08-22T18:59:41.508Z"
   },
   {
    "duration": 0,
    "start_time": "2022-08-22T18:59:41.510Z"
   },
   {
    "duration": 0,
    "start_time": "2022-08-22T18:59:41.512Z"
   },
   {
    "duration": 0,
    "start_time": "2022-08-22T18:59:41.513Z"
   },
   {
    "duration": 0,
    "start_time": "2022-08-22T18:59:41.515Z"
   },
   {
    "duration": 0,
    "start_time": "2022-08-22T18:59:41.516Z"
   },
   {
    "duration": 0,
    "start_time": "2022-08-22T18:59:41.518Z"
   },
   {
    "duration": 0,
    "start_time": "2022-08-22T18:59:41.519Z"
   },
   {
    "duration": 16,
    "start_time": "2022-08-22T19:00:02.113Z"
   },
   {
    "duration": 23,
    "start_time": "2022-08-22T19:00:27.724Z"
   },
   {
    "duration": 31,
    "start_time": "2022-08-22T19:00:46.882Z"
   },
   {
    "duration": 46,
    "start_time": "2022-08-22T19:01:33.149Z"
   },
   {
    "duration": 40,
    "start_time": "2022-08-22T19:01:49.349Z"
   },
   {
    "duration": 754,
    "start_time": "2022-08-22T19:01:54.667Z"
   },
   {
    "duration": 132,
    "start_time": "2022-08-22T19:01:55.424Z"
   },
   {
    "duration": 28,
    "start_time": "2022-08-22T19:01:55.558Z"
   },
   {
    "duration": 24,
    "start_time": "2022-08-22T19:01:55.588Z"
   },
   {
    "duration": 25,
    "start_time": "2022-08-22T19:01:55.615Z"
   },
   {
    "duration": 26,
    "start_time": "2022-08-22T19:01:55.643Z"
   },
   {
    "duration": 8,
    "start_time": "2022-08-22T19:01:55.672Z"
   },
   {
    "duration": 55,
    "start_time": "2022-08-22T19:01:55.682Z"
   },
   {
    "duration": 20,
    "start_time": "2022-08-22T19:01:55.740Z"
   },
   {
    "duration": 63,
    "start_time": "2022-08-22T19:01:55.762Z"
   },
   {
    "duration": 27,
    "start_time": "2022-08-22T19:01:55.827Z"
   },
   {
    "duration": 8,
    "start_time": "2022-08-22T19:01:55.856Z"
   },
   {
    "duration": 29,
    "start_time": "2022-08-22T19:01:55.866Z"
   },
   {
    "duration": 12,
    "start_time": "2022-08-22T19:01:55.905Z"
   },
   {
    "duration": 10,
    "start_time": "2022-08-22T19:01:55.920Z"
   },
   {
    "duration": 16,
    "start_time": "2022-08-22T19:01:55.933Z"
   },
   {
    "duration": 17,
    "start_time": "2022-08-22T19:01:55.951Z"
   },
   {
    "duration": 48,
    "start_time": "2022-08-22T19:01:55.970Z"
   },
   {
    "duration": 89,
    "start_time": "2022-08-22T19:01:56.021Z"
   },
   {
    "duration": 32,
    "start_time": "2022-08-22T19:01:56.112Z"
   },
   {
    "duration": 171,
    "start_time": "2022-08-22T19:01:56.146Z"
   },
   {
    "duration": 0,
    "start_time": "2022-08-22T19:01:56.319Z"
   },
   {
    "duration": 0,
    "start_time": "2022-08-22T19:01:56.321Z"
   },
   {
    "duration": 0,
    "start_time": "2022-08-22T19:01:56.322Z"
   },
   {
    "duration": 0,
    "start_time": "2022-08-22T19:01:56.324Z"
   },
   {
    "duration": 0,
    "start_time": "2022-08-22T19:01:56.326Z"
   },
   {
    "duration": 0,
    "start_time": "2022-08-22T19:01:56.328Z"
   },
   {
    "duration": 0,
    "start_time": "2022-08-22T19:01:56.329Z"
   },
   {
    "duration": 0,
    "start_time": "2022-08-22T19:01:56.330Z"
   },
   {
    "duration": 743,
    "start_time": "2022-08-22T19:03:07.722Z"
   },
   {
    "duration": 148,
    "start_time": "2022-08-22T19:03:08.468Z"
   },
   {
    "duration": 26,
    "start_time": "2022-08-22T19:03:08.618Z"
   },
   {
    "duration": 13,
    "start_time": "2022-08-22T19:03:08.646Z"
   },
   {
    "duration": 43,
    "start_time": "2022-08-22T19:03:08.662Z"
   },
   {
    "duration": 19,
    "start_time": "2022-08-22T19:03:08.707Z"
   },
   {
    "duration": 5,
    "start_time": "2022-08-22T19:03:08.729Z"
   },
   {
    "duration": 5,
    "start_time": "2022-08-22T19:03:08.735Z"
   },
   {
    "duration": 19,
    "start_time": "2022-08-22T19:03:08.742Z"
   },
   {
    "duration": 52,
    "start_time": "2022-08-22T19:03:08.763Z"
   },
   {
    "duration": 36,
    "start_time": "2022-08-22T19:03:08.817Z"
   },
   {
    "duration": 10,
    "start_time": "2022-08-22T19:03:08.856Z"
   },
   {
    "duration": 44,
    "start_time": "2022-08-22T19:03:08.869Z"
   },
   {
    "duration": 22,
    "start_time": "2022-08-22T19:03:08.917Z"
   },
   {
    "duration": 35,
    "start_time": "2022-08-22T19:03:08.941Z"
   },
   {
    "duration": 12,
    "start_time": "2022-08-22T19:03:08.979Z"
   },
   {
    "duration": 20,
    "start_time": "2022-08-22T19:03:08.994Z"
   },
   {
    "duration": 51,
    "start_time": "2022-08-22T19:03:09.016Z"
   },
   {
    "duration": 81,
    "start_time": "2022-08-22T19:03:09.070Z"
   },
   {
    "duration": 30,
    "start_time": "2022-08-22T19:03:09.153Z"
   },
   {
    "duration": 174,
    "start_time": "2022-08-22T19:03:09.186Z"
   },
   {
    "duration": 0,
    "start_time": "2022-08-22T19:03:09.361Z"
   },
   {
    "duration": 0,
    "start_time": "2022-08-22T19:03:09.363Z"
   },
   {
    "duration": 0,
    "start_time": "2022-08-22T19:03:09.364Z"
   },
   {
    "duration": 0,
    "start_time": "2022-08-22T19:03:09.365Z"
   },
   {
    "duration": 0,
    "start_time": "2022-08-22T19:03:09.366Z"
   },
   {
    "duration": 0,
    "start_time": "2022-08-22T19:03:09.368Z"
   },
   {
    "duration": 0,
    "start_time": "2022-08-22T19:03:09.369Z"
   },
   {
    "duration": 0,
    "start_time": "2022-08-22T19:03:09.370Z"
   },
   {
    "duration": 31,
    "start_time": "2022-08-22T19:12:11.351Z"
   },
   {
    "duration": 693,
    "start_time": "2022-08-22T19:12:20.087Z"
   },
   {
    "duration": 108,
    "start_time": "2022-08-22T19:12:20.783Z"
   },
   {
    "duration": 26,
    "start_time": "2022-08-22T19:12:20.893Z"
   },
   {
    "duration": 12,
    "start_time": "2022-08-22T19:12:20.921Z"
   },
   {
    "duration": 18,
    "start_time": "2022-08-22T19:12:20.935Z"
   },
   {
    "duration": 13,
    "start_time": "2022-08-22T19:12:20.955Z"
   },
   {
    "duration": 33,
    "start_time": "2022-08-22T19:12:20.970Z"
   },
   {
    "duration": 8,
    "start_time": "2022-08-22T19:12:21.005Z"
   },
   {
    "duration": 15,
    "start_time": "2022-08-22T19:12:21.014Z"
   },
   {
    "duration": 18,
    "start_time": "2022-08-22T19:12:21.032Z"
   },
   {
    "duration": 58,
    "start_time": "2022-08-22T19:12:21.052Z"
   },
   {
    "duration": 7,
    "start_time": "2022-08-22T19:12:21.112Z"
   },
   {
    "duration": 56,
    "start_time": "2022-08-22T19:12:21.122Z"
   },
   {
    "duration": 17,
    "start_time": "2022-08-22T19:12:21.208Z"
   },
   {
    "duration": 12,
    "start_time": "2022-08-22T19:12:21.227Z"
   },
   {
    "duration": 8,
    "start_time": "2022-08-22T19:12:21.241Z"
   },
   {
    "duration": 9,
    "start_time": "2022-08-22T19:12:21.251Z"
   },
   {
    "duration": 19,
    "start_time": "2022-08-22T19:12:21.262Z"
   },
   {
    "duration": 27,
    "start_time": "2022-08-22T19:12:21.303Z"
   },
   {
    "duration": 72,
    "start_time": "2022-08-22T19:12:21.332Z"
   },
   {
    "duration": 26,
    "start_time": "2022-08-22T19:12:21.407Z"
   },
   {
    "duration": 174,
    "start_time": "2022-08-22T19:12:21.436Z"
   },
   {
    "duration": 0,
    "start_time": "2022-08-22T19:12:21.612Z"
   },
   {
    "duration": 0,
    "start_time": "2022-08-22T19:12:21.613Z"
   },
   {
    "duration": 0,
    "start_time": "2022-08-22T19:12:21.615Z"
   },
   {
    "duration": 0,
    "start_time": "2022-08-22T19:12:21.617Z"
   },
   {
    "duration": 0,
    "start_time": "2022-08-22T19:12:21.618Z"
   },
   {
    "duration": 0,
    "start_time": "2022-08-22T19:12:21.620Z"
   },
   {
    "duration": 0,
    "start_time": "2022-08-22T19:12:21.621Z"
   },
   {
    "duration": 0,
    "start_time": "2022-08-22T19:12:21.622Z"
   },
   {
    "duration": 51,
    "start_time": "2022-08-22T19:12:51.219Z"
   },
   {
    "duration": 20,
    "start_time": "2022-08-22T19:13:35.248Z"
   },
   {
    "duration": 42,
    "start_time": "2022-08-22T19:13:42.543Z"
   },
   {
    "duration": 11,
    "start_time": "2022-08-22T19:14:03.508Z"
   },
   {
    "duration": 57,
    "start_time": "2022-08-22T19:14:11.444Z"
   },
   {
    "duration": 19,
    "start_time": "2022-08-22T19:16:35.854Z"
   },
   {
    "duration": 21,
    "start_time": "2022-08-22T19:17:02.847Z"
   },
   {
    "duration": 16,
    "start_time": "2022-08-22T19:18:24.157Z"
   },
   {
    "duration": 11,
    "start_time": "2022-08-22T19:19:13.244Z"
   },
   {
    "duration": 9,
    "start_time": "2022-08-22T19:19:27.206Z"
   },
   {
    "duration": 847,
    "start_time": "2022-08-22T19:19:36.373Z"
   },
   {
    "duration": 20,
    "start_time": "2022-08-22T19:20:10.958Z"
   },
   {
    "duration": 676,
    "start_time": "2022-08-22T19:21:35.814Z"
   },
   {
    "duration": 111,
    "start_time": "2022-08-22T19:21:36.492Z"
   },
   {
    "duration": 25,
    "start_time": "2022-08-22T19:21:36.605Z"
   },
   {
    "duration": 14,
    "start_time": "2022-08-22T19:21:36.633Z"
   },
   {
    "duration": 38,
    "start_time": "2022-08-22T19:21:36.649Z"
   },
   {
    "duration": 24,
    "start_time": "2022-08-22T19:21:36.690Z"
   },
   {
    "duration": 31,
    "start_time": "2022-08-22T19:21:36.716Z"
   },
   {
    "duration": 40,
    "start_time": "2022-08-22T19:21:36.748Z"
   },
   {
    "duration": 19,
    "start_time": "2022-08-22T19:21:36.789Z"
   },
   {
    "duration": 19,
    "start_time": "2022-08-22T19:21:36.811Z"
   },
   {
    "duration": 17,
    "start_time": "2022-08-22T19:21:36.833Z"
   },
   {
    "duration": 39,
    "start_time": "2022-08-22T19:21:36.852Z"
   },
   {
    "duration": 22,
    "start_time": "2022-08-22T19:21:36.893Z"
   },
   {
    "duration": 23,
    "start_time": "2022-08-22T19:21:36.917Z"
   },
   {
    "duration": 25,
    "start_time": "2022-08-22T19:21:36.942Z"
   },
   {
    "duration": 17,
    "start_time": "2022-08-22T19:21:36.969Z"
   },
   {
    "duration": 28,
    "start_time": "2022-08-22T19:21:36.988Z"
   },
   {
    "duration": 56,
    "start_time": "2022-08-22T19:21:37.018Z"
   },
   {
    "duration": 86,
    "start_time": "2022-08-22T19:21:37.076Z"
   },
   {
    "duration": 23,
    "start_time": "2022-08-22T19:21:37.164Z"
   },
   {
    "duration": 261,
    "start_time": "2022-08-22T19:21:37.189Z"
   },
   {
    "duration": 0,
    "start_time": "2022-08-22T19:21:37.452Z"
   },
   {
    "duration": 0,
    "start_time": "2022-08-22T19:21:37.454Z"
   },
   {
    "duration": 0,
    "start_time": "2022-08-22T19:21:37.455Z"
   },
   {
    "duration": 0,
    "start_time": "2022-08-22T19:21:37.456Z"
   },
   {
    "duration": 0,
    "start_time": "2022-08-22T19:21:37.458Z"
   },
   {
    "duration": 0,
    "start_time": "2022-08-22T19:21:37.459Z"
   },
   {
    "duration": 0,
    "start_time": "2022-08-22T19:21:37.461Z"
   },
   {
    "duration": 0,
    "start_time": "2022-08-22T19:21:37.462Z"
   },
   {
    "duration": 29,
    "start_time": "2022-08-22T19:24:33.828Z"
   },
   {
    "duration": 46,
    "start_time": "2022-08-22T19:25:41.374Z"
   },
   {
    "duration": 736,
    "start_time": "2022-08-22T19:25:56.125Z"
   },
   {
    "duration": 116,
    "start_time": "2022-08-22T19:25:56.863Z"
   },
   {
    "duration": 32,
    "start_time": "2022-08-22T19:25:56.981Z"
   },
   {
    "duration": 12,
    "start_time": "2022-08-22T19:25:57.015Z"
   },
   {
    "duration": 15,
    "start_time": "2022-08-22T19:25:57.029Z"
   },
   {
    "duration": 14,
    "start_time": "2022-08-22T19:25:57.046Z"
   },
   {
    "duration": 73,
    "start_time": "2022-08-22T19:25:57.061Z"
   },
   {
    "duration": 11,
    "start_time": "2022-08-22T19:25:57.136Z"
   },
   {
    "duration": 14,
    "start_time": "2022-08-22T19:25:57.149Z"
   },
   {
    "duration": 42,
    "start_time": "2022-08-22T19:25:57.165Z"
   },
   {
    "duration": 7,
    "start_time": "2022-08-22T19:25:57.209Z"
   },
   {
    "duration": 31,
    "start_time": "2022-08-22T19:25:57.218Z"
   },
   {
    "duration": 19,
    "start_time": "2022-08-22T19:25:57.250Z"
   },
   {
    "duration": 35,
    "start_time": "2022-08-22T19:25:57.271Z"
   },
   {
    "duration": 7,
    "start_time": "2022-08-22T19:25:57.307Z"
   },
   {
    "duration": 16,
    "start_time": "2022-08-22T19:25:57.316Z"
   },
   {
    "duration": 14,
    "start_time": "2022-08-22T19:25:57.334Z"
   },
   {
    "duration": 26,
    "start_time": "2022-08-22T19:25:57.350Z"
   },
   {
    "duration": 78,
    "start_time": "2022-08-22T19:25:57.378Z"
   },
   {
    "duration": 23,
    "start_time": "2022-08-22T19:25:57.459Z"
   },
   {
    "duration": 161,
    "start_time": "2022-08-22T19:25:57.502Z"
   },
   {
    "duration": 0,
    "start_time": "2022-08-22T19:25:57.665Z"
   },
   {
    "duration": 0,
    "start_time": "2022-08-22T19:25:57.666Z"
   },
   {
    "duration": 0,
    "start_time": "2022-08-22T19:25:57.668Z"
   },
   {
    "duration": 0,
    "start_time": "2022-08-22T19:25:57.669Z"
   },
   {
    "duration": 0,
    "start_time": "2022-08-22T19:25:57.670Z"
   },
   {
    "duration": 0,
    "start_time": "2022-08-22T19:25:57.671Z"
   },
   {
    "duration": 0,
    "start_time": "2022-08-22T19:25:57.672Z"
   },
   {
    "duration": 0,
    "start_time": "2022-08-22T19:25:57.673Z"
   },
   {
    "duration": 85,
    "start_time": "2022-08-22T19:33:08.439Z"
   },
   {
    "duration": 88,
    "start_time": "2022-08-22T19:33:22.438Z"
   },
   {
    "duration": 90,
    "start_time": "2022-08-22T19:34:41.334Z"
   },
   {
    "duration": 50,
    "start_time": "2022-08-22T19:39:10.520Z"
   },
   {
    "duration": 26,
    "start_time": "2022-08-22T19:39:13.671Z"
   },
   {
    "duration": 55,
    "start_time": "2022-08-22T19:39:36.881Z"
   },
   {
    "duration": 61,
    "start_time": "2022-08-22T19:39:43.866Z"
   },
   {
    "duration": 55,
    "start_time": "2022-08-22T19:39:59.834Z"
   },
   {
    "duration": 48,
    "start_time": "2022-08-22T19:40:06.246Z"
   },
   {
    "duration": 3,
    "start_time": "2022-08-22T19:50:24.457Z"
   },
   {
    "duration": 11,
    "start_time": "2022-08-22T20:00:46.540Z"
   },
   {
    "duration": 11,
    "start_time": "2022-08-22T20:00:55.477Z"
   },
   {
    "duration": 54,
    "start_time": "2022-08-22T21:47:17.536Z"
   },
   {
    "duration": 19,
    "start_time": "2022-08-22T21:47:23.761Z"
   },
   {
    "duration": 34,
    "start_time": "2022-08-22T21:48:20.287Z"
   },
   {
    "duration": 29,
    "start_time": "2022-08-22T21:48:48.181Z"
   },
   {
    "duration": 40,
    "start_time": "2022-08-22T21:49:25.668Z"
   },
   {
    "duration": 30,
    "start_time": "2022-08-22T21:50:26.690Z"
   },
   {
    "duration": 229,
    "start_time": "2022-08-22T21:50:38.880Z"
   },
   {
    "duration": 35,
    "start_time": "2022-08-22T21:51:09.611Z"
   },
   {
    "duration": 18,
    "start_time": "2022-08-22T21:51:15.973Z"
   },
   {
    "duration": 33,
    "start_time": "2022-08-22T21:51:33.763Z"
   },
   {
    "duration": 179,
    "start_time": "2022-08-22T21:51:46.731Z"
   },
   {
    "duration": 21,
    "start_time": "2022-08-22T21:52:05.293Z"
   },
   {
    "duration": 186,
    "start_time": "2022-08-22T21:52:43.325Z"
   },
   {
    "duration": 32,
    "start_time": "2022-08-22T21:53:44.796Z"
   },
   {
    "duration": 7,
    "start_time": "2022-08-22T21:54:25.017Z"
   },
   {
    "duration": 66,
    "start_time": "2022-08-22T21:54:37.252Z"
   },
   {
    "duration": 9,
    "start_time": "2022-08-22T21:54:43.085Z"
   },
   {
    "duration": 7,
    "start_time": "2022-08-22T22:09:36.336Z"
   },
   {
    "duration": 47,
    "start_time": "2022-08-22T22:40:56.845Z"
   },
   {
    "duration": 11,
    "start_time": "2022-08-22T22:44:04.549Z"
   },
   {
    "duration": 10,
    "start_time": "2022-08-22T22:44:11.124Z"
   },
   {
    "duration": 11,
    "start_time": "2022-08-22T22:44:18.665Z"
   },
   {
    "duration": 9,
    "start_time": "2022-08-22T22:44:25.875Z"
   },
   {
    "duration": 54,
    "start_time": "2022-08-22T22:49:40.725Z"
   },
   {
    "duration": 63,
    "start_time": "2022-08-22T22:50:57.313Z"
   },
   {
    "duration": 79,
    "start_time": "2022-08-22T22:51:04.075Z"
   },
   {
    "duration": 874,
    "start_time": "2022-08-22T22:51:21.689Z"
   },
   {
    "duration": 6,
    "start_time": "2022-08-22T22:52:39.994Z"
   },
   {
    "duration": 10,
    "start_time": "2022-08-22T22:52:46.228Z"
   },
   {
    "duration": 8,
    "start_time": "2022-08-22T22:52:54.845Z"
   },
   {
    "duration": 8,
    "start_time": "2022-08-22T22:56:31.818Z"
   },
   {
    "duration": 84,
    "start_time": "2022-08-22T22:58:11.380Z"
   },
   {
    "duration": 89,
    "start_time": "2022-08-22T23:01:50.661Z"
   },
   {
    "duration": 6,
    "start_time": "2022-08-22T23:02:13.524Z"
   },
   {
    "duration": 14,
    "start_time": "2022-08-22T23:06:27.545Z"
   },
   {
    "duration": 30,
    "start_time": "2022-08-22T23:06:56.394Z"
   },
   {
    "duration": 25,
    "start_time": "2022-08-22T23:09:15.080Z"
   },
   {
    "duration": 25,
    "start_time": "2022-08-22T23:11:05.154Z"
   },
   {
    "duration": 60,
    "start_time": "2022-08-22T23:12:11.681Z"
   },
   {
    "duration": 24,
    "start_time": "2022-08-22T23:12:19.077Z"
   },
   {
    "duration": 23,
    "start_time": "2022-08-22T23:12:41.309Z"
   },
   {
    "duration": 23,
    "start_time": "2022-08-22T23:12:49.197Z"
   },
   {
    "duration": 23,
    "start_time": "2022-08-22T23:12:57.535Z"
   },
   {
    "duration": 25,
    "start_time": "2022-08-22T23:13:34.498Z"
   },
   {
    "duration": 85,
    "start_time": "2022-08-22T23:14:16.658Z"
   },
   {
    "duration": 26,
    "start_time": "2022-08-22T23:14:21.945Z"
   },
   {
    "duration": 27,
    "start_time": "2022-08-22T23:14:51.282Z"
   },
   {
    "duration": 26,
    "start_time": "2022-08-22T23:15:09.949Z"
   },
   {
    "duration": 26,
    "start_time": "2022-08-22T23:16:11.091Z"
   },
   {
    "duration": 26,
    "start_time": "2022-08-22T23:16:50.525Z"
   },
   {
    "duration": 25,
    "start_time": "2022-08-22T23:16:55.845Z"
   },
   {
    "duration": 44,
    "start_time": "2022-08-22T23:17:27.627Z"
   },
   {
    "duration": 30,
    "start_time": "2022-08-22T23:17:40.758Z"
   },
   {
    "duration": 26,
    "start_time": "2022-08-22T23:17:46.712Z"
   },
   {
    "duration": 46,
    "start_time": "2022-08-22T23:18:46.240Z"
   },
   {
    "duration": 28,
    "start_time": "2022-08-22T23:18:59.384Z"
   },
   {
    "duration": 27,
    "start_time": "2022-08-22T23:19:43.194Z"
   },
   {
    "duration": 6,
    "start_time": "2022-08-22T23:20:48.625Z"
   },
   {
    "duration": 10,
    "start_time": "2022-08-22T23:20:56.618Z"
   },
   {
    "duration": 9,
    "start_time": "2022-08-22T23:21:11.196Z"
   },
   {
    "duration": 30,
    "start_time": "2022-08-22T23:21:29.711Z"
   },
   {
    "duration": 8,
    "start_time": "2022-08-22T23:21:32.355Z"
   },
   {
    "duration": 8,
    "start_time": "2022-08-22T23:21:48.488Z"
   },
   {
    "duration": 9,
    "start_time": "2022-08-22T23:21:55.093Z"
   },
   {
    "duration": 13,
    "start_time": "2022-08-22T23:22:01.114Z"
   },
   {
    "duration": 12,
    "start_time": "2022-08-22T23:22:02.882Z"
   },
   {
    "duration": 42,
    "start_time": "2022-08-22T23:23:20.496Z"
   },
   {
    "duration": 173,
    "start_time": "2022-08-22T23:23:36.947Z"
   },
   {
    "duration": 187,
    "start_time": "2022-08-22T23:23:40.242Z"
   },
   {
    "duration": 179,
    "start_time": "2022-08-22T23:23:57.850Z"
   },
   {
    "duration": 35,
    "start_time": "2022-08-22T23:24:30.325Z"
   },
   {
    "duration": 19,
    "start_time": "2022-08-22T23:24:52.560Z"
   },
   {
    "duration": 2,
    "start_time": "2022-08-22T23:24:54.711Z"
   },
   {
    "duration": 74,
    "start_time": "2022-08-22T23:29:48.482Z"
   },
   {
    "duration": 49,
    "start_time": "2022-08-22T23:31:38.343Z"
   },
   {
    "duration": 49,
    "start_time": "2022-08-22T23:32:29.856Z"
   },
   {
    "duration": 52,
    "start_time": "2022-08-22T23:32:43.302Z"
   },
   {
    "duration": 169,
    "start_time": "2022-08-22T23:32:47.964Z"
   },
   {
    "duration": 178,
    "start_time": "2022-08-22T23:32:55.926Z"
   },
   {
    "duration": 330,
    "start_time": "2022-08-22T23:36:58.541Z"
   },
   {
    "duration": 347,
    "start_time": "2022-08-22T23:49:51.711Z"
   },
   {
    "duration": 63,
    "start_time": "2022-08-22T23:53:32.345Z"
   },
   {
    "duration": 10,
    "start_time": "2022-08-22T23:53:36.558Z"
   },
   {
    "duration": 469,
    "start_time": "2022-08-22T23:53:44.497Z"
   },
   {
    "duration": 50,
    "start_time": "2022-08-23T14:04:13.584Z"
   },
   {
    "duration": 772,
    "start_time": "2022-08-23T14:04:20.294Z"
   },
   {
    "duration": 175,
    "start_time": "2022-08-23T14:04:21.068Z"
   },
   {
    "duration": 23,
    "start_time": "2022-08-23T14:04:21.245Z"
   },
   {
    "duration": 13,
    "start_time": "2022-08-23T14:04:21.270Z"
   },
   {
    "duration": 16,
    "start_time": "2022-08-23T14:04:21.285Z"
   },
   {
    "duration": 29,
    "start_time": "2022-08-23T14:04:21.302Z"
   },
   {
    "duration": 34,
    "start_time": "2022-08-23T14:04:21.333Z"
   },
   {
    "duration": 11,
    "start_time": "2022-08-23T14:04:21.369Z"
   },
   {
    "duration": 17,
    "start_time": "2022-08-23T14:04:21.382Z"
   },
   {
    "duration": 49,
    "start_time": "2022-08-23T14:04:21.401Z"
   },
   {
    "duration": 6,
    "start_time": "2022-08-23T14:04:21.452Z"
   },
   {
    "duration": 22,
    "start_time": "2022-08-23T14:04:21.460Z"
   },
   {
    "duration": 16,
    "start_time": "2022-08-23T14:04:21.484Z"
   },
   {
    "duration": 9,
    "start_time": "2022-08-23T14:04:21.503Z"
   },
   {
    "duration": 30,
    "start_time": "2022-08-23T14:04:21.515Z"
   },
   {
    "duration": 37,
    "start_time": "2022-08-23T14:04:21.546Z"
   },
   {
    "duration": 36,
    "start_time": "2022-08-23T14:04:21.585Z"
   },
   {
    "duration": 72,
    "start_time": "2022-08-23T14:04:21.623Z"
   },
   {
    "duration": 30,
    "start_time": "2022-08-23T14:04:21.696Z"
   },
   {
    "duration": 927,
    "start_time": "2022-08-23T14:04:21.728Z"
   },
   {
    "duration": 0,
    "start_time": "2022-08-23T14:04:22.657Z"
   },
   {
    "duration": 0,
    "start_time": "2022-08-23T14:04:22.658Z"
   },
   {
    "duration": 0,
    "start_time": "2022-08-23T14:04:22.660Z"
   },
   {
    "duration": 0,
    "start_time": "2022-08-23T14:04:22.661Z"
   },
   {
    "duration": 0,
    "start_time": "2022-08-23T14:04:22.662Z"
   },
   {
    "duration": 0,
    "start_time": "2022-08-23T14:04:22.663Z"
   },
   {
    "duration": 0,
    "start_time": "2022-08-23T14:04:22.665Z"
   },
   {
    "duration": 0,
    "start_time": "2022-08-23T14:04:22.666Z"
   },
   {
    "duration": 0,
    "start_time": "2022-08-23T14:04:22.667Z"
   },
   {
    "duration": 0,
    "start_time": "2022-08-23T14:04:22.668Z"
   },
   {
    "duration": 0,
    "start_time": "2022-08-23T14:04:22.669Z"
   },
   {
    "duration": 13,
    "start_time": "2022-08-23T14:04:51.839Z"
   },
   {
    "duration": 1290,
    "start_time": "2022-08-23T14:05:04.249Z"
   },
   {
    "duration": 1117,
    "start_time": "2022-08-23T14:05:18.536Z"
   },
   {
    "duration": 39,
    "start_time": "2022-08-23T14:05:27.763Z"
   },
   {
    "duration": 21,
    "start_time": "2022-08-23T14:05:45.625Z"
   },
   {
    "duration": 29,
    "start_time": "2022-08-23T14:06:09.278Z"
   },
   {
    "duration": 8,
    "start_time": "2022-08-23T14:06:17.611Z"
   },
   {
    "duration": 176,
    "start_time": "2022-08-23T19:04:12.064Z"
   },
   {
    "duration": 317,
    "start_time": "2022-08-23T19:04:16.992Z"
   },
   {
    "duration": 365,
    "start_time": "2022-08-23T19:08:33.182Z"
   },
   {
    "duration": 155,
    "start_time": "2022-08-23T19:10:04.495Z"
   },
   {
    "duration": 144,
    "start_time": "2022-08-23T19:10:32.117Z"
   },
   {
    "duration": 8,
    "start_time": "2022-08-23T19:10:34.569Z"
   },
   {
    "duration": 55,
    "start_time": "2022-08-23T19:12:05.782Z"
   },
   {
    "duration": 55,
    "start_time": "2022-08-23T19:12:49.227Z"
   },
   {
    "duration": 150,
    "start_time": "2022-08-23T19:12:56.622Z"
   },
   {
    "duration": 149,
    "start_time": "2022-08-23T19:13:21.655Z"
   },
   {
    "duration": 8,
    "start_time": "2022-08-23T19:13:52.031Z"
   },
   {
    "duration": 58,
    "start_time": "2022-08-23T19:14:06.372Z"
   },
   {
    "duration": 35,
    "start_time": "2022-08-23T19:14:10.567Z"
   },
   {
    "duration": 163,
    "start_time": "2022-08-23T19:15:14.386Z"
   },
   {
    "duration": 151,
    "start_time": "2022-08-23T19:15:16.936Z"
   },
   {
    "duration": 151,
    "start_time": "2022-08-23T19:15:20.377Z"
   },
   {
    "duration": 179,
    "start_time": "2022-08-23T19:16:19.785Z"
   },
   {
    "duration": 148,
    "start_time": "2022-08-23T19:22:25.052Z"
   },
   {
    "duration": 174,
    "start_time": "2022-08-23T19:32:10.313Z"
   },
   {
    "duration": 215,
    "start_time": "2022-08-23T19:32:38.402Z"
   },
   {
    "duration": 168,
    "start_time": "2022-08-23T19:32:49.669Z"
   },
   {
    "duration": 47,
    "start_time": "2022-08-23T19:33:46.024Z"
   },
   {
    "duration": 26,
    "start_time": "2022-08-23T19:33:54.569Z"
   },
   {
    "duration": 21,
    "start_time": "2022-08-23T19:34:08.009Z"
   },
   {
    "duration": 144,
    "start_time": "2022-08-23T19:35:10.653Z"
   },
   {
    "duration": 142,
    "start_time": "2022-08-23T19:35:18.338Z"
   },
   {
    "duration": 146,
    "start_time": "2022-08-23T19:35:29.414Z"
   },
   {
    "duration": 147,
    "start_time": "2022-08-23T19:35:37.866Z"
   },
   {
    "duration": 140,
    "start_time": "2022-08-23T19:35:46.298Z"
   },
   {
    "duration": 160,
    "start_time": "2022-08-23T19:36:02.630Z"
   },
   {
    "duration": 140,
    "start_time": "2022-08-23T19:36:30.164Z"
   },
   {
    "duration": 156,
    "start_time": "2022-08-23T19:36:54.428Z"
   },
   {
    "duration": 18,
    "start_time": "2022-08-23T19:39:09.446Z"
   },
   {
    "duration": 19,
    "start_time": "2022-08-23T19:39:18.639Z"
   },
   {
    "duration": 159,
    "start_time": "2022-08-23T19:39:31.541Z"
   },
   {
    "duration": 255,
    "start_time": "2022-08-23T19:43:34.964Z"
   },
   {
    "duration": 176,
    "start_time": "2022-08-23T19:43:51.170Z"
   },
   {
    "duration": 207,
    "start_time": "2022-08-23T19:44:13.450Z"
   },
   {
    "duration": 194,
    "start_time": "2022-08-23T19:44:52.875Z"
   },
   {
    "duration": 18,
    "start_time": "2022-08-23T19:53:23.450Z"
   },
   {
    "duration": 149,
    "start_time": "2022-08-23T19:53:37.979Z"
   },
   {
    "duration": 154,
    "start_time": "2022-08-23T19:53:49.037Z"
   },
   {
    "duration": 177,
    "start_time": "2022-08-23T19:54:18.445Z"
   },
   {
    "duration": 185,
    "start_time": "2022-08-23T19:54:50.428Z"
   },
   {
    "duration": 419,
    "start_time": "2022-08-23T19:54:58.820Z"
   },
   {
    "duration": 186,
    "start_time": "2022-08-23T20:25:03.625Z"
   },
   {
    "duration": 62,
    "start_time": "2022-08-23T20:25:58.906Z"
   },
   {
    "duration": 275,
    "start_time": "2022-08-23T20:26:04.298Z"
   },
   {
    "duration": 218,
    "start_time": "2022-08-23T20:44:06.623Z"
   },
   {
    "duration": 193,
    "start_time": "2022-08-23T20:44:10.379Z"
   },
   {
    "duration": 172,
    "start_time": "2022-08-23T21:07:32.950Z"
   },
   {
    "duration": 210,
    "start_time": "2022-08-23T23:09:42.842Z"
   },
   {
    "duration": 183,
    "start_time": "2022-08-23T23:11:52.070Z"
   },
   {
    "duration": 10,
    "start_time": "2022-08-23T23:12:49.970Z"
   },
   {
    "duration": 8,
    "start_time": "2022-08-23T23:12:59.560Z"
   },
   {
    "duration": 12,
    "start_time": "2022-08-23T23:13:25.889Z"
   },
   {
    "duration": 190,
    "start_time": "2022-08-23T23:16:38.860Z"
   },
   {
    "duration": 182,
    "start_time": "2022-08-23T23:17:43.717Z"
   },
   {
    "duration": 192,
    "start_time": "2022-08-23T23:17:51.751Z"
   },
   {
    "duration": 43,
    "start_time": "2022-08-23T23:58:33.155Z"
   },
   {
    "duration": 8,
    "start_time": "2022-08-24T00:41:18.355Z"
   },
   {
    "duration": 194,
    "start_time": "2022-08-24T00:41:52.819Z"
   },
   {
    "duration": 185,
    "start_time": "2022-08-24T01:13:26.239Z"
   },
   {
    "duration": 309,
    "start_time": "2022-08-24T01:15:13.185Z"
   },
   {
    "duration": 10,
    "start_time": "2022-08-24T01:21:29.329Z"
   },
   {
    "duration": 8,
    "start_time": "2022-08-24T01:21:32.469Z"
   },
   {
    "duration": 8,
    "start_time": "2022-08-24T01:21:40.051Z"
   },
   {
    "duration": 25,
    "start_time": "2022-08-24T01:21:47.544Z"
   },
   {
    "duration": 197,
    "start_time": "2022-08-24T01:31:54.654Z"
   },
   {
    "duration": 48,
    "start_time": "2022-08-24T01:32:42.707Z"
   },
   {
    "duration": 185,
    "start_time": "2022-08-24T01:32:57.154Z"
   },
   {
    "duration": 183,
    "start_time": "2022-08-24T01:33:26.780Z"
   },
   {
    "duration": 184,
    "start_time": "2022-08-24T01:33:33.124Z"
   },
   {
    "duration": 179,
    "start_time": "2022-08-24T01:33:40.777Z"
   },
   {
    "duration": 2,
    "start_time": "2022-08-24T01:52:37.451Z"
   },
   {
    "duration": 45,
    "start_time": "2022-08-24T01:54:23.840Z"
   },
   {
    "duration": 48,
    "start_time": "2022-08-24T01:54:36.835Z"
   },
   {
    "duration": 57,
    "start_time": "2022-08-24T01:55:36.632Z"
   },
   {
    "duration": 51,
    "start_time": "2022-08-24T01:55:58.136Z"
   },
   {
    "duration": 189,
    "start_time": "2022-08-24T01:57:05.410Z"
   },
   {
    "duration": 30,
    "start_time": "2022-08-24T01:58:45.733Z"
   },
   {
    "duration": 61,
    "start_time": "2022-08-24T02:05:00.299Z"
   },
   {
    "duration": 17,
    "start_time": "2022-08-24T02:05:05.206Z"
   },
   {
    "duration": 18,
    "start_time": "2022-08-24T02:06:01.278Z"
   },
   {
    "duration": 20,
    "start_time": "2022-08-24T02:06:05.958Z"
   },
   {
    "duration": 16,
    "start_time": "2022-08-24T02:06:17.691Z"
   },
   {
    "duration": 59,
    "start_time": "2022-08-24T02:06:41.742Z"
   },
   {
    "duration": 46,
    "start_time": "2022-08-24T02:06:47.592Z"
   },
   {
    "duration": 49,
    "start_time": "2022-08-24T02:06:54.348Z"
   },
   {
    "duration": 94,
    "start_time": "2022-08-24T02:06:58.730Z"
   },
   {
    "duration": 17,
    "start_time": "2022-08-24T02:08:11.077Z"
   },
   {
    "duration": 18,
    "start_time": "2022-08-24T02:08:18.255Z"
   },
   {
    "duration": 18,
    "start_time": "2022-08-24T02:08:37.663Z"
   },
   {
    "duration": 17,
    "start_time": "2022-08-24T02:09:17.146Z"
   },
   {
    "duration": 18,
    "start_time": "2022-08-24T02:09:26.521Z"
   },
   {
    "duration": 82,
    "start_time": "2022-08-24T02:11:31.824Z"
   },
   {
    "duration": 55,
    "start_time": "2022-08-24T02:11:45.648Z"
   },
   {
    "duration": 25,
    "start_time": "2022-08-24T02:12:29.152Z"
   },
   {
    "duration": 24,
    "start_time": "2022-08-24T02:13:09.113Z"
   },
   {
    "duration": 20,
    "start_time": "2022-08-24T02:19:32.090Z"
   },
   {
    "duration": 25,
    "start_time": "2022-08-24T02:20:14.912Z"
   },
   {
    "duration": 26,
    "start_time": "2022-08-24T02:20:26.712Z"
   },
   {
    "duration": 22,
    "start_time": "2022-08-24T02:50:00.320Z"
   },
   {
    "duration": 26,
    "start_time": "2022-08-24T02:55:51.540Z"
   },
   {
    "duration": 17,
    "start_time": "2022-08-24T02:56:24.222Z"
   },
   {
    "duration": 19,
    "start_time": "2022-08-24T02:57:09.687Z"
   },
   {
    "duration": 46,
    "start_time": "2022-08-24T02:58:07.056Z"
   },
   {
    "duration": 50,
    "start_time": "2022-08-24T02:58:32.538Z"
   },
   {
    "duration": 30,
    "start_time": "2022-08-24T03:00:39.790Z"
   },
   {
    "duration": 30,
    "start_time": "2022-08-24T03:01:17.601Z"
   },
   {
    "duration": 26,
    "start_time": "2022-08-24T03:01:35.767Z"
   },
   {
    "duration": 30,
    "start_time": "2022-08-24T03:03:50.313Z"
   },
   {
    "duration": 25,
    "start_time": "2022-08-24T03:04:11.516Z"
   },
   {
    "duration": 29,
    "start_time": "2022-08-24T03:04:21.176Z"
   },
   {
    "duration": 25,
    "start_time": "2022-08-24T03:04:37.699Z"
   },
   {
    "duration": 28,
    "start_time": "2022-08-24T03:05:32.327Z"
   },
   {
    "duration": 28,
    "start_time": "2022-08-24T03:06:57.067Z"
   },
   {
    "duration": 19,
    "start_time": "2022-08-24T03:08:03.234Z"
   },
   {
    "duration": 18,
    "start_time": "2022-08-24T03:08:38.829Z"
   },
   {
    "duration": 19,
    "start_time": "2022-08-24T03:08:53.998Z"
   },
   {
    "duration": 20,
    "start_time": "2022-08-24T03:09:30.886Z"
   },
   {
    "duration": 19,
    "start_time": "2022-08-24T03:09:57.315Z"
   },
   {
    "duration": 19,
    "start_time": "2022-08-24T03:10:13.609Z"
   },
   {
    "duration": 19,
    "start_time": "2022-08-24T03:11:27.776Z"
   },
   {
    "duration": 21,
    "start_time": "2022-08-24T03:14:08.793Z"
   },
   {
    "duration": 20,
    "start_time": "2022-08-24T03:14:36.287Z"
   },
   {
    "duration": 19,
    "start_time": "2022-08-24T03:14:50.853Z"
   },
   {
    "duration": 20,
    "start_time": "2022-08-24T03:15:09.353Z"
   },
   {
    "duration": 19,
    "start_time": "2022-08-24T03:15:21.295Z"
   },
   {
    "duration": 7,
    "start_time": "2022-08-24T03:15:43.140Z"
   },
   {
    "duration": 19,
    "start_time": "2022-08-24T03:16:15.765Z"
   },
   {
    "duration": 7,
    "start_time": "2022-08-24T03:16:26.836Z"
   },
   {
    "duration": 18,
    "start_time": "2022-08-24T03:17:32.760Z"
   },
   {
    "duration": 18,
    "start_time": "2022-08-24T03:17:46.898Z"
   },
   {
    "duration": 19,
    "start_time": "2022-08-24T03:19:24.302Z"
   },
   {
    "duration": 20,
    "start_time": "2022-08-24T03:20:02.655Z"
   },
   {
    "duration": 19,
    "start_time": "2022-08-24T03:20:11.061Z"
   },
   {
    "duration": 18,
    "start_time": "2022-08-24T03:20:42.804Z"
   },
   {
    "duration": 20,
    "start_time": "2022-08-24T03:20:55.289Z"
   },
   {
    "duration": 19,
    "start_time": "2022-08-24T03:50:33.235Z"
   },
   {
    "duration": 20,
    "start_time": "2022-08-24T03:51:14.686Z"
   },
   {
    "duration": 25,
    "start_time": "2022-08-24T03:51:58.402Z"
   },
   {
    "duration": 19,
    "start_time": "2022-08-24T04:06:17.435Z"
   },
   {
    "duration": 11,
    "start_time": "2022-08-24T04:06:45.904Z"
   },
   {
    "duration": 10,
    "start_time": "2022-08-24T04:07:00.294Z"
   },
   {
    "duration": 21,
    "start_time": "2022-08-24T04:07:35.609Z"
   },
   {
    "duration": 16,
    "start_time": "2022-08-24T04:07:39.772Z"
   },
   {
    "duration": 11,
    "start_time": "2022-08-24T04:08:09.713Z"
   },
   {
    "duration": 11,
    "start_time": "2022-08-24T04:08:18.445Z"
   },
   {
    "duration": 20,
    "start_time": "2022-08-24T04:08:29.740Z"
   },
   {
    "duration": 10,
    "start_time": "2022-08-24T04:08:32.088Z"
   },
   {
    "duration": 48,
    "start_time": "2022-08-24T04:08:55.643Z"
   },
   {
    "duration": 10,
    "start_time": "2022-08-24T04:09:01.504Z"
   },
   {
    "duration": 10,
    "start_time": "2022-08-24T04:09:26.369Z"
   },
   {
    "duration": 10,
    "start_time": "2022-08-24T04:10:16.805Z"
   },
   {
    "duration": 49,
    "start_time": "2022-08-24T04:10:32.352Z"
   },
   {
    "duration": 11,
    "start_time": "2022-08-24T04:10:36.259Z"
   },
   {
    "duration": 10,
    "start_time": "2022-08-24T04:10:56.523Z"
   },
   {
    "duration": 50,
    "start_time": "2022-08-24T04:11:24.840Z"
   },
   {
    "duration": 10,
    "start_time": "2022-08-24T04:11:37.911Z"
   },
   {
    "duration": 12,
    "start_time": "2022-08-24T04:12:08.728Z"
   },
   {
    "duration": 27,
    "start_time": "2022-08-24T04:12:22.345Z"
   },
   {
    "duration": 29,
    "start_time": "2022-08-24T04:12:55.690Z"
   },
   {
    "duration": 22,
    "start_time": "2022-08-24T04:13:48.351Z"
   },
   {
    "duration": 23,
    "start_time": "2022-08-24T04:14:02.182Z"
   },
   {
    "duration": 287,
    "start_time": "2022-08-24T04:15:39.922Z"
   },
   {
    "duration": 163,
    "start_time": "2022-08-24T04:15:48.539Z"
   },
   {
    "duration": 293,
    "start_time": "2022-08-24T04:16:12.542Z"
   },
   {
    "duration": 404,
    "start_time": "2022-08-24T04:17:14.066Z"
   },
   {
    "duration": 275,
    "start_time": "2022-08-24T04:17:39.049Z"
   },
   {
    "duration": 48,
    "start_time": "2022-08-24T04:17:54.127Z"
   },
   {
    "duration": 294,
    "start_time": "2022-08-24T04:18:52.169Z"
   },
   {
    "duration": 629,
    "start_time": "2022-08-24T04:22:48.482Z"
   },
   {
    "duration": 103,
    "start_time": "2022-08-24T04:22:49.113Z"
   },
   {
    "duration": 25,
    "start_time": "2022-08-24T04:22:49.217Z"
   },
   {
    "duration": 11,
    "start_time": "2022-08-24T04:22:49.245Z"
   },
   {
    "duration": 20,
    "start_time": "2022-08-24T04:22:49.257Z"
   },
   {
    "duration": 14,
    "start_time": "2022-08-24T04:22:49.278Z"
   },
   {
    "duration": 34,
    "start_time": "2022-08-24T04:22:49.308Z"
   },
   {
    "duration": 11,
    "start_time": "2022-08-24T04:22:49.343Z"
   },
   {
    "duration": 16,
    "start_time": "2022-08-24T04:22:49.355Z"
   },
   {
    "duration": 16,
    "start_time": "2022-08-24T04:22:49.374Z"
   },
   {
    "duration": 6,
    "start_time": "2022-08-24T04:22:49.409Z"
   },
   {
    "duration": 19,
    "start_time": "2022-08-24T04:22:49.416Z"
   },
   {
    "duration": 10,
    "start_time": "2022-08-24T04:22:49.437Z"
   },
   {
    "duration": 16,
    "start_time": "2022-08-24T04:22:49.449Z"
   },
   {
    "duration": 8,
    "start_time": "2022-08-24T04:22:49.467Z"
   },
   {
    "duration": 12,
    "start_time": "2022-08-24T04:22:49.476Z"
   },
   {
    "duration": 34,
    "start_time": "2022-08-24T04:22:49.489Z"
   },
   {
    "duration": 53,
    "start_time": "2022-08-24T04:22:49.524Z"
   },
   {
    "duration": 34,
    "start_time": "2022-08-24T04:22:49.579Z"
   },
   {
    "duration": 28,
    "start_time": "2022-08-24T04:22:49.615Z"
   },
   {
    "duration": 8,
    "start_time": "2022-08-24T04:22:49.645Z"
   },
   {
    "duration": 9,
    "start_time": "2022-08-24T04:22:49.654Z"
   },
   {
    "duration": 198,
    "start_time": "2022-08-24T04:22:49.665Z"
   },
   {
    "duration": 193,
    "start_time": "2022-08-24T04:22:49.864Z"
   },
   {
    "duration": 203,
    "start_time": "2022-08-24T04:22:50.059Z"
   },
   {
    "duration": 343,
    "start_time": "2022-08-24T04:22:50.263Z"
   },
   {
    "duration": 286,
    "start_time": "2022-08-24T04:22:50.609Z"
   },
   {
    "duration": 310,
    "start_time": "2022-08-24T04:22:50.898Z"
   },
   {
    "duration": 193,
    "start_time": "2022-08-24T04:22:51.209Z"
   },
   {
    "duration": 208,
    "start_time": "2022-08-24T04:22:51.404Z"
   },
   {
    "duration": 2,
    "start_time": "2022-08-24T04:22:51.614Z"
   },
   {
    "duration": 14,
    "start_time": "2022-08-24T04:22:51.618Z"
   },
   {
    "duration": 208,
    "start_time": "2022-08-24T04:22:51.634Z"
   },
   {
    "duration": 48,
    "start_time": "2022-08-24T04:22:51.843Z"
   },
   {
    "duration": 0,
    "start_time": "2022-08-24T04:22:51.893Z"
   },
   {
    "duration": 0,
    "start_time": "2022-08-24T04:22:51.894Z"
   },
   {
    "duration": 0,
    "start_time": "2022-08-24T04:22:51.895Z"
   },
   {
    "duration": 195,
    "start_time": "2022-08-24T04:27:43.977Z"
   },
   {
    "duration": 405,
    "start_time": "2022-08-24T04:28:25.363Z"
   },
   {
    "duration": 550,
    "start_time": "2022-08-24T04:28:47.778Z"
   },
   {
    "duration": 423,
    "start_time": "2022-08-24T04:29:02.380Z"
   },
   {
    "duration": 25,
    "start_time": "2022-08-24T04:30:07.459Z"
   },
   {
    "duration": 84,
    "start_time": "2022-08-24T04:30:10.346Z"
   },
   {
    "duration": 193,
    "start_time": "2022-08-24T04:30:20.473Z"
   },
   {
    "duration": 884,
    "start_time": "2022-08-24T14:23:16.383Z"
   },
   {
    "duration": 153,
    "start_time": "2022-08-24T14:23:17.269Z"
   },
   {
    "duration": 25,
    "start_time": "2022-08-24T14:23:17.424Z"
   },
   {
    "duration": 10,
    "start_time": "2022-08-24T14:23:17.452Z"
   },
   {
    "duration": 24,
    "start_time": "2022-08-24T14:23:17.463Z"
   },
   {
    "duration": 10,
    "start_time": "2022-08-24T14:23:17.488Z"
   },
   {
    "duration": 42,
    "start_time": "2022-08-24T14:23:17.499Z"
   },
   {
    "duration": 11,
    "start_time": "2022-08-24T14:23:17.543Z"
   },
   {
    "duration": 13,
    "start_time": "2022-08-24T14:23:17.555Z"
   },
   {
    "duration": 17,
    "start_time": "2022-08-24T14:23:17.570Z"
   },
   {
    "duration": 26,
    "start_time": "2022-08-24T14:23:17.588Z"
   },
   {
    "duration": 18,
    "start_time": "2022-08-24T14:23:17.616Z"
   },
   {
    "duration": 6,
    "start_time": "2022-08-24T14:23:17.636Z"
   },
   {
    "duration": 6,
    "start_time": "2022-08-24T14:23:17.644Z"
   },
   {
    "duration": 5,
    "start_time": "2022-08-24T14:23:17.651Z"
   },
   {
    "duration": 6,
    "start_time": "2022-08-24T14:23:17.657Z"
   },
   {
    "duration": 53,
    "start_time": "2022-08-24T14:23:17.664Z"
   },
   {
    "duration": 54,
    "start_time": "2022-08-24T14:23:17.718Z"
   },
   {
    "duration": 21,
    "start_time": "2022-08-24T14:23:17.773Z"
   },
   {
    "duration": 28,
    "start_time": "2022-08-24T14:23:17.811Z"
   },
   {
    "duration": 8,
    "start_time": "2022-08-24T14:23:17.840Z"
   },
   {
    "duration": 12,
    "start_time": "2022-08-24T14:23:17.849Z"
   },
   {
    "duration": 209,
    "start_time": "2022-08-24T14:23:17.862Z"
   },
   {
    "duration": 191,
    "start_time": "2022-08-24T14:23:18.073Z"
   },
   {
    "duration": 203,
    "start_time": "2022-08-24T14:23:18.266Z"
   },
   {
    "duration": 449,
    "start_time": "2022-08-24T14:23:18.470Z"
   },
   {
    "duration": 272,
    "start_time": "2022-08-24T14:23:18.921Z"
   },
   {
    "duration": 297,
    "start_time": "2022-08-24T14:23:19.196Z"
   },
   {
    "duration": 188,
    "start_time": "2022-08-24T14:23:19.495Z"
   },
   {
    "duration": 206,
    "start_time": "2022-08-24T14:23:19.685Z"
   },
   {
    "duration": 2,
    "start_time": "2022-08-24T14:23:19.893Z"
   },
   {
    "duration": 20,
    "start_time": "2022-08-24T14:23:19.896Z"
   },
   {
    "duration": 186,
    "start_time": "2022-08-24T14:23:19.917Z"
   },
   {
    "duration": 28,
    "start_time": "2022-08-24T14:23:20.105Z"
   },
   {
    "duration": 108,
    "start_time": "2022-08-24T14:23:20.135Z"
   },
   {
    "duration": 0,
    "start_time": "2022-08-24T14:23:20.245Z"
   },
   {
    "duration": 27,
    "start_time": "2022-08-24T14:23:26.156Z"
   },
   {
    "duration": 28,
    "start_time": "2022-08-24T14:23:28.431Z"
   },
   {
    "duration": 27,
    "start_time": "2022-08-24T14:31:23.139Z"
   },
   {
    "duration": 34,
    "start_time": "2022-08-24T15:26:19.808Z"
   },
   {
    "duration": 138,
    "start_time": "2022-08-24T15:41:31.973Z"
   },
   {
    "duration": 35,
    "start_time": "2022-08-24T15:41:45.147Z"
   },
   {
    "duration": 37,
    "start_time": "2022-08-24T15:42:42.313Z"
   },
   {
    "duration": 30,
    "start_time": "2022-08-24T15:43:03.828Z"
   },
   {
    "duration": 32,
    "start_time": "2022-08-24T15:43:04.826Z"
   },
   {
    "duration": 32,
    "start_time": "2022-08-24T15:44:47.173Z"
   },
   {
    "duration": 31,
    "start_time": "2022-08-24T15:45:09.206Z"
   },
   {
    "duration": 32,
    "start_time": "2022-08-24T15:45:18.526Z"
   },
   {
    "duration": 31,
    "start_time": "2022-08-24T15:46:43.975Z"
   },
   {
    "duration": 33,
    "start_time": "2022-08-24T15:46:50.286Z"
   },
   {
    "duration": 31,
    "start_time": "2022-08-24T15:47:01.725Z"
   },
   {
    "duration": 33,
    "start_time": "2022-08-24T15:47:06.918Z"
   },
   {
    "duration": 151,
    "start_time": "2022-08-24T15:47:59.911Z"
   },
   {
    "duration": 248,
    "start_time": "2022-08-24T15:48:29.847Z"
   },
   {
    "duration": 326,
    "start_time": "2022-08-24T15:48:42.207Z"
   },
   {
    "duration": 238,
    "start_time": "2022-08-24T15:48:46.669Z"
   },
   {
    "duration": 183,
    "start_time": "2022-08-24T15:51:51.467Z"
   },
   {
    "duration": 36,
    "start_time": "2022-08-24T15:53:08.668Z"
   },
   {
    "duration": 3708,
    "start_time": "2022-08-24T15:59:51.179Z"
   },
   {
    "duration": 19,
    "start_time": "2022-08-24T16:00:01.840Z"
   },
   {
    "duration": 3741,
    "start_time": "2022-08-24T16:02:02.231Z"
   },
   {
    "duration": 3,
    "start_time": "2022-08-24T16:02:48.583Z"
   },
   {
    "duration": 3,
    "start_time": "2022-08-24T16:03:50.315Z"
   },
   {
    "duration": 3455,
    "start_time": "2022-08-24T16:03:56.923Z"
   },
   {
    "duration": 3490,
    "start_time": "2022-08-24T16:04:27.208Z"
   },
   {
    "duration": 38,
    "start_time": "2022-08-24T16:04:52.912Z"
   },
   {
    "duration": 3387,
    "start_time": "2022-08-24T16:04:58.845Z"
   },
   {
    "duration": 14,
    "start_time": "2022-08-24T16:06:01.666Z"
   },
   {
    "duration": 3521,
    "start_time": "2022-08-24T16:07:19.839Z"
   },
   {
    "duration": 3193,
    "start_time": "2022-08-24T16:17:09.942Z"
   },
   {
    "duration": 185,
    "start_time": "2022-08-24T16:17:52.685Z"
   },
   {
    "duration": 78,
    "start_time": "2022-08-24T16:17:55.880Z"
   },
   {
    "duration": 1306,
    "start_time": "2022-08-24T16:20:40.465Z"
   },
   {
    "duration": 5,
    "start_time": "2022-08-24T16:20:47.100Z"
   },
   {
    "duration": 10,
    "start_time": "2022-08-24T16:20:55.322Z"
   },
   {
    "duration": 7,
    "start_time": "2022-08-24T16:21:16.636Z"
   },
   {
    "duration": 3,
    "start_time": "2022-08-24T16:21:26.183Z"
   },
   {
    "duration": 8,
    "start_time": "2022-08-24T16:21:27.867Z"
   },
   {
    "duration": 19,
    "start_time": "2022-08-24T16:21:43.144Z"
   },
   {
    "duration": 16,
    "start_time": "2022-08-24T16:22:04.127Z"
   },
   {
    "duration": 25,
    "start_time": "2022-08-24T16:22:18.143Z"
   },
   {
    "duration": 7,
    "start_time": "2022-08-24T16:23:01.495Z"
   },
   {
    "duration": 11,
    "start_time": "2022-08-24T16:25:52.279Z"
   },
   {
    "duration": 8,
    "start_time": "2022-08-24T16:25:54.888Z"
   },
   {
    "duration": 19,
    "start_time": "2022-08-24T16:26:08.911Z"
   },
   {
    "duration": 7,
    "start_time": "2022-08-24T16:26:19.219Z"
   },
   {
    "duration": 1136,
    "start_time": "2022-08-24T16:29:55.914Z"
   },
   {
    "duration": 1285,
    "start_time": "2022-08-24T16:30:16.118Z"
   },
   {
    "duration": 1311,
    "start_time": "2022-08-24T16:30:53.245Z"
   },
   {
    "duration": 10,
    "start_time": "2022-08-24T19:00:59.370Z"
   },
   {
    "duration": 85,
    "start_time": "2022-08-24T19:01:06.432Z"
   },
   {
    "duration": 11,
    "start_time": "2022-08-24T19:01:10.230Z"
   },
   {
    "duration": 5,
    "start_time": "2022-08-24T19:03:50.802Z"
   },
   {
    "duration": 5,
    "start_time": "2022-08-24T19:04:00.023Z"
   },
   {
    "duration": 83,
    "start_time": "2022-08-24T19:33:21.221Z"
   },
   {
    "duration": 80,
    "start_time": "2022-08-24T19:33:37.879Z"
   },
   {
    "duration": 11,
    "start_time": "2022-08-24T19:36:12.897Z"
   },
   {
    "duration": 5,
    "start_time": "2022-08-24T19:36:19.753Z"
   },
   {
    "duration": 48,
    "start_time": "2022-08-24T19:36:29.204Z"
   },
   {
    "duration": 125,
    "start_time": "2022-08-24T19:36:35.496Z"
   },
   {
    "duration": 142,
    "start_time": "2022-08-24T19:37:02.293Z"
   },
   {
    "duration": 107,
    "start_time": "2022-08-24T19:37:29.571Z"
   },
   {
    "duration": 841,
    "start_time": "2022-08-24T19:42:16.174Z"
   },
   {
    "duration": 19,
    "start_time": "2022-08-24T19:46:09.739Z"
   },
   {
    "duration": 22,
    "start_time": "2022-08-24T19:46:12.742Z"
   },
   {
    "duration": 46,
    "start_time": "2022-08-24T19:46:22.192Z"
   },
   {
    "duration": 96,
    "start_time": "2022-08-24T19:46:26.488Z"
   },
   {
    "duration": 108,
    "start_time": "2022-08-24T19:46:46.524Z"
   },
   {
    "duration": 94,
    "start_time": "2022-08-24T19:46:57.105Z"
   },
   {
    "duration": 15,
    "start_time": "2022-08-24T19:47:31.178Z"
   },
   {
    "duration": 92,
    "start_time": "2022-08-24T19:47:39.926Z"
   },
   {
    "duration": 51,
    "start_time": "2022-08-24T19:51:59.665Z"
   },
   {
    "duration": 135,
    "start_time": "2022-08-24T19:53:09.045Z"
   },
   {
    "duration": 133,
    "start_time": "2022-08-24T19:53:20.359Z"
   },
   {
    "duration": 129,
    "start_time": "2022-08-24T19:53:37.142Z"
   },
   {
    "duration": 126,
    "start_time": "2022-08-24T19:53:55.119Z"
   },
   {
    "duration": 158,
    "start_time": "2022-08-24T19:54:02.663Z"
   },
   {
    "duration": 45,
    "start_time": "2022-08-24T19:54:08.822Z"
   },
   {
    "duration": 90,
    "start_time": "2022-08-24T19:54:17.118Z"
   },
   {
    "duration": 100,
    "start_time": "2022-08-24T19:54:43.392Z"
   },
   {
    "duration": 91,
    "start_time": "2022-08-24T19:54:50.077Z"
   },
   {
    "duration": 112,
    "start_time": "2022-08-24T19:54:54.007Z"
   },
   {
    "duration": 142,
    "start_time": "2022-08-24T19:55:10.198Z"
   },
   {
    "duration": 117,
    "start_time": "2022-08-24T19:56:16.459Z"
   },
   {
    "duration": 128,
    "start_time": "2022-08-24T19:56:29.756Z"
   },
   {
    "duration": 117,
    "start_time": "2022-08-24T19:56:48.017Z"
   },
   {
    "duration": 113,
    "start_time": "2022-08-24T19:57:09.812Z"
   },
   {
    "duration": 102,
    "start_time": "2022-08-24T19:57:19.760Z"
   },
   {
    "duration": 116,
    "start_time": "2022-08-24T19:57:45.745Z"
   },
   {
    "duration": 8,
    "start_time": "2022-08-24T19:58:58.481Z"
   },
   {
    "duration": 126,
    "start_time": "2022-08-24T19:59:11.339Z"
   },
   {
    "duration": 123,
    "start_time": "2022-08-24T19:59:19.827Z"
   },
   {
    "duration": 110,
    "start_time": "2022-08-24T19:59:39.679Z"
   },
   {
    "duration": 224,
    "start_time": "2022-08-24T19:59:44.615Z"
   },
   {
    "duration": 326,
    "start_time": "2022-08-24T19:59:55.420Z"
   },
   {
    "duration": 164,
    "start_time": "2022-08-24T20:00:16.393Z"
   },
   {
    "duration": 142,
    "start_time": "2022-08-24T20:00:22.624Z"
   },
   {
    "duration": 125,
    "start_time": "2022-08-24T20:00:37.951Z"
   },
   {
    "duration": 125,
    "start_time": "2022-08-24T20:00:44.917Z"
   },
   {
    "duration": 110,
    "start_time": "2022-08-24T20:00:56.488Z"
   },
   {
    "duration": 113,
    "start_time": "2022-08-24T20:00:59.654Z"
   },
   {
    "duration": 120,
    "start_time": "2022-08-24T20:01:14.836Z"
   },
   {
    "duration": 89,
    "start_time": "2022-08-24T20:02:00.798Z"
   },
   {
    "duration": 139,
    "start_time": "2022-08-24T20:07:40.286Z"
   },
   {
    "duration": 118,
    "start_time": "2022-08-24T20:07:44.258Z"
   },
   {
    "duration": 591,
    "start_time": "2022-08-24T20:10:53.731Z"
   },
   {
    "duration": 100,
    "start_time": "2022-08-24T20:10:54.323Z"
   },
   {
    "duration": 21,
    "start_time": "2022-08-24T20:10:54.424Z"
   },
   {
    "duration": 10,
    "start_time": "2022-08-24T20:10:54.447Z"
   },
   {
    "duration": 16,
    "start_time": "2022-08-24T20:10:54.458Z"
   },
   {
    "duration": 9,
    "start_time": "2022-08-24T20:10:54.475Z"
   },
   {
    "duration": 50,
    "start_time": "2022-08-24T20:10:54.486Z"
   },
   {
    "duration": 10,
    "start_time": "2022-08-24T20:10:54.537Z"
   },
   {
    "duration": 17,
    "start_time": "2022-08-24T20:10:54.549Z"
   },
   {
    "duration": 16,
    "start_time": "2022-08-24T20:10:54.569Z"
   },
   {
    "duration": 27,
    "start_time": "2022-08-24T20:10:54.586Z"
   },
   {
    "duration": 28,
    "start_time": "2022-08-24T20:10:54.614Z"
   },
   {
    "duration": 7,
    "start_time": "2022-08-24T20:10:54.643Z"
   },
   {
    "duration": 7,
    "start_time": "2022-08-24T20:10:54.651Z"
   },
   {
    "duration": 9,
    "start_time": "2022-08-24T20:10:54.659Z"
   },
   {
    "duration": 4,
    "start_time": "2022-08-24T20:10:54.670Z"
   },
   {
    "duration": 21,
    "start_time": "2022-08-24T20:10:54.676Z"
   },
   {
    "duration": 65,
    "start_time": "2022-08-24T20:10:54.698Z"
   },
   {
    "duration": 21,
    "start_time": "2022-08-24T20:10:54.764Z"
   },
   {
    "duration": 47,
    "start_time": "2022-08-24T20:10:54.787Z"
   },
   {
    "duration": 7,
    "start_time": "2022-08-24T20:10:54.835Z"
   },
   {
    "duration": 4,
    "start_time": "2022-08-24T20:10:54.843Z"
   },
   {
    "duration": 192,
    "start_time": "2022-08-24T20:10:54.848Z"
   },
   {
    "duration": 189,
    "start_time": "2022-08-24T20:10:55.041Z"
   },
   {
    "duration": 196,
    "start_time": "2022-08-24T20:10:55.231Z"
   },
   {
    "duration": 456,
    "start_time": "2022-08-24T20:10:55.429Z"
   },
   {
    "duration": 277,
    "start_time": "2022-08-24T20:10:55.887Z"
   },
   {
    "duration": 297,
    "start_time": "2022-08-24T20:10:56.167Z"
   },
   {
    "duration": 200,
    "start_time": "2022-08-24T20:10:56.466Z"
   },
   {
    "duration": 213,
    "start_time": "2022-08-24T20:10:56.668Z"
   },
   {
    "duration": 2,
    "start_time": "2022-08-24T20:10:56.883Z"
   },
   {
    "duration": 11,
    "start_time": "2022-08-24T20:10:56.886Z"
   },
   {
    "duration": 84,
    "start_time": "2022-08-24T20:10:56.898Z"
   },
   {
    "duration": 0,
    "start_time": "2022-08-24T20:10:56.984Z"
   },
   {
    "duration": 0,
    "start_time": "2022-08-24T20:10:56.985Z"
   },
   {
    "duration": 0,
    "start_time": "2022-08-24T20:10:56.986Z"
   },
   {
    "duration": 0,
    "start_time": "2022-08-24T20:10:56.987Z"
   },
   {
    "duration": 0,
    "start_time": "2022-08-24T20:10:56.988Z"
   },
   {
    "duration": 0,
    "start_time": "2022-08-24T20:10:56.989Z"
   },
   {
    "duration": 0,
    "start_time": "2022-08-24T20:10:56.990Z"
   },
   {
    "duration": 0,
    "start_time": "2022-08-24T20:10:56.991Z"
   },
   {
    "duration": 0,
    "start_time": "2022-08-24T20:10:56.992Z"
   },
   {
    "duration": 0,
    "start_time": "2022-08-24T20:10:57.011Z"
   },
   {
    "duration": 0,
    "start_time": "2022-08-24T20:10:57.012Z"
   },
   {
    "duration": 34,
    "start_time": "2022-08-24T20:14:44.054Z"
   },
   {
    "duration": 28,
    "start_time": "2022-08-24T20:14:46.141Z"
   },
   {
    "duration": 184,
    "start_time": "2022-08-24T20:14:49.822Z"
   },
   {
    "duration": 244,
    "start_time": "2022-08-24T20:14:52.783Z"
   },
   {
    "duration": 28,
    "start_time": "2022-08-24T20:15:01.523Z"
   },
   {
    "duration": 16,
    "start_time": "2022-08-24T20:15:42.883Z"
   },
   {
    "duration": 1379,
    "start_time": "2022-08-24T20:15:43.436Z"
   },
   {
    "duration": 10,
    "start_time": "2022-08-24T20:15:44.817Z"
   },
   {
    "duration": 10,
    "start_time": "2022-08-24T20:15:44.829Z"
   },
   {
    "duration": 12,
    "start_time": "2022-08-24T20:15:49.424Z"
   },
   {
    "duration": 6,
    "start_time": "2022-08-24T20:15:50.077Z"
   },
   {
    "duration": 117,
    "start_time": "2022-08-24T20:15:51.723Z"
   },
   {
    "duration": 119,
    "start_time": "2022-08-24T20:15:54.434Z"
   },
   {
    "duration": 44,
    "start_time": "2022-08-24T20:15:58.351Z"
   }
  ],
  "celltoolbar": "Raw Cell Format",
  "kernelspec": {
   "display_name": "Python 3 (ipykernel)",
   "language": "python",
   "name": "python3"
  },
  "language_info": {
   "codemirror_mode": {
    "name": "ipython",
    "version": 3
   },
   "file_extension": ".py",
   "mimetype": "text/x-python",
   "name": "python",
   "nbconvert_exporter": "python",
   "pygments_lexer": "ipython3",
   "version": "3.9.5"
  },
  "toc": {
   "base_numbering": 1,
   "nav_menu": {
    "height": "206px",
    "width": "160px"
   },
   "number_sections": true,
   "sideBar": true,
   "skip_h1_title": false,
   "title_cell": "Table of Contents",
   "title_sidebar": "Contents",
   "toc_cell": false,
   "toc_position": {
    "height": "calc(100% - 180px)",
    "left": "10px",
    "top": "150px",
    "width": "165px"
   },
   "toc_section_display": true,
   "toc_window_display": false
  }
 },
 "nbformat": 4,
 "nbformat_minor": 2
}
