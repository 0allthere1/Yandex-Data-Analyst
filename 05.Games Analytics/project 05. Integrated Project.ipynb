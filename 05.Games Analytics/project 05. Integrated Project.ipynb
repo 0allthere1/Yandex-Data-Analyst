{
 "cells": [
  {
   "cell_type": "markdown",
   "metadata": {},
   "source": [
    "<div style=\"border:solid green 2px; padding: 20px\">\n",
    "<b>Hello, Anton!</b>\n",
    "\n",
    "My name is Grigoriy and I'm going to review your project.\n",
    "\n",
    "My main goal is not to show that any mistakes have been made somewhere, but to share my experience that will help you in your further work. Further in the file you can see my comments, try to take them into account when performing the next tasks. **Please, don't delete them.**\n",
    "\n",
    "\n",
    "You can find my comments in <font color='green'>green</font>, <font color='blue'>blue</font> or <font color='orange'>orange</font> boxes like this:\n",
    "\n",
    "<div class=\"alert alert-success\">\n",
    "<b>Reviewer's comment:</b> if everything is done succesfully\n",
    "</div>\n",
    "\n",
    "<div class=\"alert alert-warning\">\n",
    "<b>Reviewer's comment: </b> if I can give some recommendations\n",
    "</div>\n",
    "\n",
    "<div class=\"alert alert-danger\">\n",
    "<b>Reviewer's comment:</b> if the block requires some corrections. Work can't be accepted with the red comments.\n",
    "</div>\n",
    "\n",
    "    \n",
    "Let's work on the project in dialogue: if you change something in the project or respond to my comments, write about it. It will be easier for me to track the changes if you highlight your comments:\n",
    "    \n",
    "<div class=\"alert alert-info\"> <b>Student's comment:</b> For example like this.</div>"
   ]
  },
  {
   "cell_type": "markdown",
   "metadata": {},
   "source": [
    "\n",
    "### <font color='orange'>General feedback</font>\n",
    "Thank you for sending your project. I am really impressed with your job! I especially liked the code formatting and plots.  I've left some comments which could help you to improve your project and further develop your skills. <br>\n",
    "During the review I have found two \"red\" issues, but they concern the absence of two sub-conclusions under the diagrams.  In my opinion, this is too weak a reason for the second iteration, but pay attention to the number of your conclusions in your next sprints. <br>\n",
    "Your project has passed code-review. Congratulations! Keep up the good work, and good luck on the next sprint!\n",
    "\n"
   ]
  },
  {
   "cell_type": "markdown",
   "metadata": {},
   "source": [
    "## Research of the computer games market."
   ]
  },
  {
   "cell_type": "markdown",
   "metadata": {},
   "source": [
    "##### Table of contents\n",
    "\n",
    "0. [Introduction](#introduction)\n",
    "1. [Opening data files and examining general information.](#opening_data)\n",
    "2. [Data preprocessing](#data_preprocessing)\n",
    "3. [Data analysis](#data_analysis)\n",
    "4. [User profile for each region](#user_profile)\n",
    "5. [Hypothesis testing](#hypotheses)\n",
    "6. [Overall conclusion](#overall_conclusion)"
   ]
  },
  {
   "cell_type": "markdown",
   "metadata": {},
   "source": [
    "### Introduction<a name=\"introduction\"></a>\n",
    "Task:\n",
    "\n",
    "I work as an analyst at the online store Ice, which sells video games all over the world. I need to identify patterns that determine whether a game succeeds or not. This will allow will me to spot potential big winners and plan advertising campaigns.\n",
    "\n",
    "I am going to analyze sales of games in different regions. Identify the most popular gaming platforms and genres. Determine the average life span of a gaming platform. It is also planned to determine whether feedback from specialists and users affects sales."
   ]
  },
  {
   "cell_type": "markdown",
   "metadata": {},
   "source": [
    "<div class=\"alert alert-success\">\n",
    "<b>Reviewer's comment: </b> Great start! It's a very good practice to provide a short intro and an intercative table of contents.\n",
    "</div>"
   ]
  },
  {
   "cell_type": "markdown",
   "metadata": {},
   "source": [
    "### Step 1. Open the data file and study the general information<a name=\"opening_data\"></a>"
   ]
  },
  {
   "cell_type": "code",
   "execution_count": 1,
   "metadata": {},
   "outputs": [
    {
     "name": "stdout",
     "output_type": "stream",
     "text": [
      "<class 'pandas.core.frame.DataFrame'>\n",
      "RangeIndex: 16715 entries, 0 to 16714\n",
      "Data columns (total 11 columns):\n",
      " #   Column           Non-Null Count  Dtype  \n",
      "---  ------           --------------  -----  \n",
      " 0   Name             16713 non-null  object \n",
      " 1   Platform         16715 non-null  object \n",
      " 2   Year_of_Release  16446 non-null  float64\n",
      " 3   Genre            16713 non-null  object \n",
      " 4   NA_sales         16715 non-null  float64\n",
      " 5   EU_sales         16715 non-null  float64\n",
      " 6   JP_sales         16715 non-null  float64\n",
      " 7   Other_sales      16715 non-null  float64\n",
      " 8   Critic_Score     8137 non-null   float64\n",
      " 9   User_Score       10014 non-null  object \n",
      " 10  Rating           9949 non-null   object \n",
      "dtypes: float64(6), object(5)\n",
      "memory usage: 1.4+ MB\n"
     ]
    }
   ],
   "source": [
    "import pandas   as pd\n",
    "import math\n",
    "from datetime import datetime\n",
    "import numpy    as np\n",
    "from scipy import stats as st\n",
    "import numpy as np\n",
    "import warnings\n",
    "import matplotlib.pyplot as plt\n",
    "import seaborn as sns\n",
    "# import plotly.express as px\n",
    "\n",
    "pd.options.display.float_format = \"{:.2f}\".format\n",
    "\n",
    "# games   = pd.read_csv('games.csv')\n",
    "games   = pd.read_csv('https://code.s3.yandex.net/datasets/games.csv')\n",
    "#analyze the data structure\n",
    "games.info()\n"
   ]
  },
  {
   "cell_type": "markdown",
   "metadata": {},
   "source": [
    "<div class=\"alert alert-warning\">\n",
    "<b>Reviewer's comment:</b> This trick let you run code in both cases: <br>\n",
    "<code>\n",
    "    LOCAL_PATH = 'your_local_path'\n",
    "    PLATFORM_PATH = 'platform_path'\n",
    "    try:\n",
    "        data = pd.read_csv(LOCAL_PATH)\n",
    "    except:\n",
    "        data = pd.read_csv(PLATFORM_PATH) \n",
    "</code>\n",
    "</div>"
   ]
  },
  {
   "cell_type": "markdown",
   "metadata": {},
   "source": [
    "Let's study the values in columns in order to understand what values are in our table.<br />\n",
    "Let's print the unique values and their shares in the tables:\n",
    "- Rating\n",
    "- Genre\n",
    "- Year_of_Release\n",
    "- Platform\n"
   ]
  },
  {
   "cell_type": "code",
   "execution_count": 2,
   "metadata": {},
   "outputs": [
    {
     "data": {
      "text/plain": [
       "E      0.40\n",
       "T      0.30\n",
       "M      0.16\n",
       "E10+   0.14\n",
       "EC     0.00\n",
       "K-A    0.00\n",
       "RP     0.00\n",
       "AO     0.00\n",
       "Name: Rating, dtype: float64"
      ]
     },
     "execution_count": 2,
     "metadata": {},
     "output_type": "execute_result"
    }
   ],
   "source": [
    "games['Rating'].value_counts()/games['Rating'].notna().sum()"
   ]
  },
  {
   "cell_type": "code",
   "execution_count": 3,
   "metadata": {},
   "outputs": [
    {
     "data": {
      "text/plain": [
       "Action         0.20\n",
       "Sports         0.14\n",
       "Misc           0.10\n",
       "Role-Playing   0.09\n",
       "Shooter        0.08\n",
       "Adventure      0.08\n",
       "Racing         0.07\n",
       "Platform       0.05\n",
       "Simulation     0.05\n",
       "Fighting       0.05\n",
       "Strategy       0.04\n",
       "Puzzle         0.03\n",
       "Name: Genre, dtype: float64"
      ]
     },
     "execution_count": 3,
     "metadata": {},
     "output_type": "execute_result"
    }
   ],
   "source": [
    "games['Genre'].value_counts()/games['Genre'].notna().sum()"
   ]
  },
  {
   "cell_type": "code",
   "execution_count": 4,
   "metadata": {},
   "outputs": [
    {
     "data": {
      "text/plain": [
       "2008.00   0.09\n",
       "2009.00   0.09\n",
       "2010.00   0.08\n",
       "2007.00   0.07\n",
       "2011.00   0.07\n",
       "2006.00   0.06\n",
       "2005.00   0.06\n",
       "2002.00   0.05\n",
       "2003.00   0.05\n",
       "2004.00   0.05\n",
       "2012.00   0.04\n",
       "2015.00   0.04\n",
       "2014.00   0.04\n",
       "2013.00   0.03\n",
       "2016.00   0.03\n",
       "2001.00   0.03\n",
       "1998.00   0.02\n",
       "2000.00   0.02\n",
       "1999.00   0.02\n",
       "1997.00   0.02\n",
       "1996.00   0.02\n",
       "1995.00   0.01\n",
       "1994.00   0.01\n",
       "1993.00   0.00\n",
       "1981.00   0.00\n",
       "1992.00   0.00\n",
       "1991.00   0.00\n",
       "1982.00   0.00\n",
       "1986.00   0.00\n",
       "1989.00   0.00\n",
       "1983.00   0.00\n",
       "1987.00   0.00\n",
       "1990.00   0.00\n",
       "1988.00   0.00\n",
       "1984.00   0.00\n",
       "1985.00   0.00\n",
       "1980.00   0.00\n",
       "Name: Year_of_Release, dtype: float64"
      ]
     },
     "execution_count": 4,
     "metadata": {},
     "output_type": "execute_result"
    }
   ],
   "source": [
    "games['Year_of_Release'].value_counts()/games['Year_of_Release'].notna().sum()"
   ]
  },
  {
   "cell_type": "code",
   "execution_count": 5,
   "metadata": {},
   "outputs": [
    {
     "data": {
      "text/plain": [
       "PS2    0.13\n",
       "DS     0.13\n",
       "PS3    0.08\n",
       "Wii    0.08\n",
       "X360   0.08\n",
       "PSP    0.07\n",
       "PS     0.07\n",
       "PC     0.06\n",
       "XB     0.05\n",
       "GBA    0.05\n",
       "GC     0.03\n",
       "3DS    0.03\n",
       "PSV    0.03\n",
       "PS4    0.02\n",
       "N64    0.02\n",
       "XOne   0.01\n",
       "SNES   0.01\n",
       "SAT    0.01\n",
       "WiiU   0.01\n",
       "2600   0.01\n",
       "GB     0.01\n",
       "NES    0.01\n",
       "DC     0.00\n",
       "GEN    0.00\n",
       "NG     0.00\n",
       "WS     0.00\n",
       "SCD    0.00\n",
       "3DO    0.00\n",
       "TG16   0.00\n",
       "PCFX   0.00\n",
       "GG     0.00\n",
       "Name: Platform, dtype: float64"
      ]
     },
     "execution_count": 5,
     "metadata": {},
     "output_type": "execute_result"
    }
   ],
   "source": [
    "games['Platform'].value_counts()/games['Platform'].notna().sum()"
   ]
  },
  {
   "cell_type": "markdown",
   "metadata": {},
   "source": [
    "<div class=\"alert alert-warning\">\n",
    "<b>Reviewer's comment: </b> Small hint: you can format ratio values as actual percentages: <a>https://stackoverflow.com/a/36175424/11664121</a>. In this case you will alter only a dataframe formatting rules, but not data.\n",
    "</div>"
   ]
  },
  {
   "cell_type": "markdown",
   "metadata": {},
   "source": [
    "We have a table with **16715** records. There are missing values in the **[Name, Year_of_Release, Genre, Critic_Score, User_Score, Rating]** columns. In the next section, we will try to recover the missing data and understand the reason why the data is incomplete."
   ]
  },
  {
   "cell_type": "markdown",
   "metadata": {},
   "source": [
    "<div class=\"alert alert-success\">\n",
    "<b>Reviewer's comment: </b> Good job!\n",
    "</div>"
   ]
  },
  {
   "cell_type": "markdown",
   "metadata": {},
   "source": [
    "### Step 2. Data preprocessing<a name=\"data_preprocessing\"></a>"
   ]
  },
  {
   "cell_type": "markdown",
   "metadata": {},
   "source": [
    "#### Converting column names to uppercase"
   ]
  },
  {
   "cell_type": "code",
   "execution_count": 6,
   "metadata": {},
   "outputs": [],
   "source": [
    "games = games.rename(str.lower, axis='columns')"
   ]
  },
  {
   "cell_type": "markdown",
   "metadata": {},
   "source": [
    "#### Recovering missing values:"
   ]
  },
  {
   "cell_type": "markdown",
   "metadata": {},
   "source": [
    "Data is missing in the following columns:<br />\n",
    "- **Name**  - 2 records<br />\n",
    "- **Year_of_Release** - 272 records<br />\n",
    "- **Critic_Score** - 8578 records<br />\n",
    "- **User_Score** - 6701 records NaN + 2424 records = 'tbd'<br />\n",
    "- **Rating** - 6766 records<br />\n",
    "\n",
    "Let's try to recover blank data using a similar game name, but on a different platform. If it is not possible to restore, then we will not delete these records, since the data from other columns will be useful for analysis.<br /><br />\n",
    "If the game rating is not specified for any platform, then it is not possible to recover the data.\n"
   ]
  },
  {
   "cell_type": "markdown",
   "metadata": {},
   "source": [
    "**Name**<br />\n",
    "There are 2 records that have a NaN value. Let's delete them."
   ]
  },
  {
   "cell_type": "code",
   "execution_count": 7,
   "metadata": {},
   "outputs": [],
   "source": [
    "games = games[~games['name'].isna()]"
   ]
  },
  {
   "cell_type": "markdown",
   "metadata": {},
   "source": [
    "**Rating**<br />\n",
    "More than 40% of records are not filled.<br />\n",
    "Firstly, this is due to the fact that the games in our database since 1980, and this rating was introduced in 1994. Also, some manufacturers are lazy to get ratings for their games.<br />\n",
    "Let's convert data from \"String\" type to \"Int\" type. It is easier to use data of int type later in the analysis.<br />\n",
    "Let's restore the data based on the rating of the same game, but on different platforms."
   ]
  },
  {
   "cell_type": "code",
   "execution_count": 8,
   "metadata": {},
   "outputs": [],
   "source": [
    "rating_dict = {'E': 1, 'T':2,'M':3,'E10+':4,'EC':5,'RP':6,'K-A':7,'AO':8}\n",
    "games['rating_digital'] = games['rating'].replace(rating_dict)  \n"
   ]
  },
  {
   "cell_type": "markdown",
   "metadata": {},
   "source": [
    "<div class=\"alert alert-warning\">\n",
    "<b>Reviewer's comment: </b> Well done! In case of dictionaries map function would be faster: <a>https://pandas.pydata.org/pandas-docs/stable/reference/api/pandas.Series.map.html</a>\n",
    "</div>"
   ]
  },
  {
   "cell_type": "code",
   "execution_count": 9,
   "metadata": {},
   "outputs": [
    {
     "name": "stdout",
     "output_type": "stream",
     "text": [
      "<class 'pandas.core.frame.DataFrame'>\n",
      "Int64Index: 16713 entries, 0 to 16714\n",
      "Data columns (total 12 columns):\n",
      " #   Column           Non-Null Count  Dtype  \n",
      "---  ------           --------------  -----  \n",
      " 0   name             16713 non-null  object \n",
      " 1   platform         16713 non-null  object \n",
      " 2   year_of_release  16444 non-null  float64\n",
      " 3   genre            16713 non-null  object \n",
      " 4   na_sales         16713 non-null  float64\n",
      " 5   eu_sales         16713 non-null  float64\n",
      " 6   jp_sales         16713 non-null  float64\n",
      " 7   other_sales      16713 non-null  float64\n",
      " 8   critic_score     8137 non-null   float64\n",
      " 9   user_score       10014 non-null  object \n",
      " 10  rating           9949 non-null   object \n",
      " 11  rating_digital   10386 non-null  float64\n",
      "dtypes: float64(7), object(5)\n",
      "memory usage: 1.7+ MB\n"
     ]
    }
   ],
   "source": [
    "def fill_nan_max(selection):    \n",
    "    \n",
    "    # I expect to see RuntimeWarnings in this block\n",
    "    with warnings.catch_warnings():\n",
    "        warnings.simplefilter(\"ignore\", category=RuntimeWarning)\n",
    "        if len(selection) == 0:\n",
    "            return np.nan        \n",
    "        else :\n",
    "            return selection.max()\n",
    "        \n",
    "games['rating_digital'] = (\n",
    "    games['rating_digital'].\n",
    "    fillna(games.groupby(['name'])['rating_digital'].transform(fill_nan_max))\n",
    ")\n",
    "games.info()"
   ]
  },
  {
   "cell_type": "markdown",
   "metadata": {},
   "source": [
    "**Year of release**<br />\n",
    "Only 1.5% of records are not filled. I think this is a human factor.<br />\n",
    "Let's restore the data based on the year the same game was released, but on other platforms. <br />The values that cannot be restored will not be filled with any values (mean or median), since it is not possible to do this with high precision."
   ]
  },
  {
   "cell_type": "code",
   "execution_count": 10,
   "metadata": {},
   "outputs": [
    {
     "name": "stdout",
     "output_type": "stream",
     "text": [
      "<class 'pandas.core.frame.DataFrame'>\n",
      "Int64Index: 16713 entries, 0 to 16714\n",
      "Data columns (total 12 columns):\n",
      " #   Column           Non-Null Count  Dtype  \n",
      "---  ------           --------------  -----  \n",
      " 0   name             16713 non-null  object \n",
      " 1   platform         16713 non-null  object \n",
      " 2   year_of_release  16567 non-null  float64\n",
      " 3   genre            16713 non-null  object \n",
      " 4   na_sales         16713 non-null  float64\n",
      " 5   eu_sales         16713 non-null  float64\n",
      " 6   jp_sales         16713 non-null  float64\n",
      " 7   other_sales      16713 non-null  float64\n",
      " 8   critic_score     8137 non-null   float64\n",
      " 9   user_score       10014 non-null  object \n",
      " 10  rating           9949 non-null   object \n",
      " 11  rating_digital   10386 non-null  float64\n",
      "dtypes: float64(7), object(5)\n",
      "memory usage: 1.7+ MB\n"
     ]
    }
   ],
   "source": [
    "games['year_of_release'] = (\n",
    "    games['year_of_release'].\n",
    "    fillna(games.groupby(['name'])['year_of_release'].transform(fill_nan_max))\n",
    ")\n",
    "games.info()"
   ]
  },
  {
   "cell_type": "markdown",
   "metadata": {},
   "source": [
    "**Сritic score**<br />\n",
    "More than 51% of records are not filled.<br /> Perhaps a lot of games are released and critics do not have time to make an assessment of all the games being released.<br />\n",
    "Let's recover the data, based on the assessment of the experts of the same game, but on other platforms. <br />\n",
    "The values that cannot be restored will not be filled with any values (mean or median), since it is not possible to do this with high precision."
   ]
  },
  {
   "cell_type": "code",
   "execution_count": 11,
   "metadata": {},
   "outputs": [
    {
     "name": "stdout",
     "output_type": "stream",
     "text": [
      "<class 'pandas.core.frame.DataFrame'>\n",
      "Int64Index: 16713 entries, 0 to 16714\n",
      "Data columns (total 12 columns):\n",
      " #   Column           Non-Null Count  Dtype  \n",
      "---  ------           --------------  -----  \n",
      " 0   name             16713 non-null  object \n",
      " 1   platform         16713 non-null  object \n",
      " 2   year_of_release  16567 non-null  float64\n",
      " 3   genre            16713 non-null  object \n",
      " 4   na_sales         16713 non-null  float64\n",
      " 5   eu_sales         16713 non-null  float64\n",
      " 6   jp_sales         16713 non-null  float64\n",
      " 7   other_sales      16713 non-null  float64\n",
      " 8   critic_score     9098 non-null   float64\n",
      " 9   user_score       10014 non-null  object \n",
      " 10  rating           9949 non-null   object \n",
      " 11  rating_digital   10386 non-null  float64\n",
      "dtypes: float64(7), object(5)\n",
      "memory usage: 1.7+ MB\n"
     ]
    }
   ],
   "source": [
    "#critic_score\n",
    "def fill_nan(selection):        \n",
    "    # I expect to see RuntimeWarnings in this block\n",
    "    with warnings.catch_warnings():\n",
    "        warnings.simplefilter(\"ignore\", category=RuntimeWarning)\n",
    "        if len(selection) == 0:\n",
    "            return np.nan        \n",
    "        else :\n",
    "            return selection.median()\n",
    "        \n",
    "games['critic_score'] = games['critic_score'].fillna(\n",
    "    games.groupby(['name'])['critic_score'].transform(fill_nan)\n",
    ")\n",
    "games.info()"
   ]
  },
  {
   "cell_type": "markdown",
   "metadata": {},
   "source": [
    "**User score**   <br />\n",
    "More than 55% of records are not filled. <br />\n",
    "Including 15% of records have the value \"tbd\". In our case, this is equivalent to the fact that there is no data. <br />\n",
    "Let's restore the data based on the scores of the players of the same game, but on different platforms. <br />\n",
    "The values that cannot be restored will not be filled with any values (mean or median), since it is not possible to do this with high precision."
   ]
  },
  {
   "cell_type": "code",
   "execution_count": 12,
   "metadata": {},
   "outputs": [
    {
     "name": "stdout",
     "output_type": "stream",
     "text": [
      "<class 'pandas.core.frame.DataFrame'>\n",
      "Int64Index: 16713 entries, 0 to 16714\n",
      "Data columns (total 12 columns):\n",
      " #   Column           Non-Null Count  Dtype  \n",
      "---  ------           --------------  -----  \n",
      " 0   name             16713 non-null  object \n",
      " 1   platform         16713 non-null  object \n",
      " 2   year_of_release  16567 non-null  float64\n",
      " 3   genre            16713 non-null  object \n",
      " 4   na_sales         16713 non-null  float64\n",
      " 5   eu_sales         16713 non-null  float64\n",
      " 6   jp_sales         16713 non-null  float64\n",
      " 7   other_sales      16713 non-null  float64\n",
      " 8   critic_score     9098 non-null   float64\n",
      " 9   user_score       8689 non-null   object \n",
      " 10  rating           9949 non-null   object \n",
      " 11  rating_digital   10386 non-null  float64\n",
      "dtypes: float64(7), object(5)\n",
      "memory usage: 1.7+ MB\n"
     ]
    }
   ],
   "source": [
    "games['user_score'] = games['user_score'].replace('tbd',np.nan)\n",
    "games['user_score'] = games['user_score'].fillna(\n",
    "    games.groupby(['name'])['user_score'].transform(fill_nan)\n",
    ")\n",
    "games.info()"
   ]
  },
  {
   "cell_type": "markdown",
   "metadata": {},
   "source": [
    "I managed to restore:\n",
    "- Name - 0 records\n",
    "- Year_of_Release - 124 records\n",
    "- Critic_Score - 961 records\n",
    "- User_Score - 1101 records\n",
    "- Rating - 439 records\n",
    "\n",
    "Also many records have 0 values in columns [na_sales, eu_sales, jp_sales, other_sales]. This tells us that these games were not in demand by the players, and sales were very low.\n",
    "\n",
    "<br />\n"
   ]
  },
  {
   "cell_type": "markdown",
   "metadata": {},
   "source": [
    "<div class=\"alert alert-success\">\n",
    "<b>Reviewer's comment: </b> Excellent job! It's great that you are so conscious about the engineering of Nan values and carefully choose the best way.\n",
    "</div>"
   ]
  },
  {
   "cell_type": "markdown",
   "metadata": {},
   "source": [
    "Let's find out if there is duplicate data?"
   ]
  },
  {
   "cell_type": "code",
   "execution_count": 13,
   "metadata": {},
   "outputs": [
    {
     "data": {
      "text/html": [
       "<div>\n",
       "<style scoped>\n",
       "    .dataframe tbody tr th:only-of-type {\n",
       "        vertical-align: middle;\n",
       "    }\n",
       "\n",
       "    .dataframe tbody tr th {\n",
       "        vertical-align: top;\n",
       "    }\n",
       "\n",
       "    .dataframe thead th {\n",
       "        text-align: right;\n",
       "    }\n",
       "</style>\n",
       "<table border=\"1\" class=\"dataframe\">\n",
       "  <thead>\n",
       "    <tr style=\"text-align: right;\">\n",
       "      <th></th>\n",
       "      <th>name</th>\n",
       "      <th>platform</th>\n",
       "      <th>year_of_release</th>\n",
       "      <th>genre</th>\n",
       "      <th>na_sales</th>\n",
       "      <th>eu_sales</th>\n",
       "      <th>jp_sales</th>\n",
       "      <th>other_sales</th>\n",
       "      <th>critic_score</th>\n",
       "      <th>user_score</th>\n",
       "      <th>rating</th>\n",
       "      <th>rating_digital</th>\n",
       "    </tr>\n",
       "  </thead>\n",
       "  <tbody>\n",
       "    <tr>\n",
       "      <th>604</th>\n",
       "      <td>Madden NFL 13</td>\n",
       "      <td>PS3</td>\n",
       "      <td>2012.00</td>\n",
       "      <td>Sports</td>\n",
       "      <td>2.11</td>\n",
       "      <td>0.22</td>\n",
       "      <td>0.00</td>\n",
       "      <td>0.23</td>\n",
       "      <td>83.00</td>\n",
       "      <td>5.5</td>\n",
       "      <td>E</td>\n",
       "      <td>1.00</td>\n",
       "    </tr>\n",
       "    <tr>\n",
       "      <th>1190</th>\n",
       "      <td>Need for Speed: Most Wanted</td>\n",
       "      <td>X360</td>\n",
       "      <td>2012.00</td>\n",
       "      <td>Racing</td>\n",
       "      <td>0.62</td>\n",
       "      <td>0.78</td>\n",
       "      <td>0.01</td>\n",
       "      <td>0.15</td>\n",
       "      <td>83.00</td>\n",
       "      <td>8.5</td>\n",
       "      <td>T</td>\n",
       "      <td>2.00</td>\n",
       "    </tr>\n",
       "    <tr>\n",
       "      <th>1591</th>\n",
       "      <td>Need for Speed: Most Wanted</td>\n",
       "      <td>X360</td>\n",
       "      <td>2005.00</td>\n",
       "      <td>Racing</td>\n",
       "      <td>1.00</td>\n",
       "      <td>0.13</td>\n",
       "      <td>0.02</td>\n",
       "      <td>0.10</td>\n",
       "      <td>83.00</td>\n",
       "      <td>8.5</td>\n",
       "      <td>T</td>\n",
       "      <td>2.00</td>\n",
       "    </tr>\n",
       "    <tr>\n",
       "      <th>1745</th>\n",
       "      <td>Sonic the Hedgehog</td>\n",
       "      <td>PS3</td>\n",
       "      <td>2006.00</td>\n",
       "      <td>Platform</td>\n",
       "      <td>0.41</td>\n",
       "      <td>0.06</td>\n",
       "      <td>0.04</td>\n",
       "      <td>0.66</td>\n",
       "      <td>43.00</td>\n",
       "      <td>4.1</td>\n",
       "      <td>E10+</td>\n",
       "      <td>4.00</td>\n",
       "    </tr>\n",
       "    <tr>\n",
       "      <th>4127</th>\n",
       "      <td>Sonic the Hedgehog</td>\n",
       "      <td>PS3</td>\n",
       "      <td>2006.00</td>\n",
       "      <td>Platform</td>\n",
       "      <td>0.00</td>\n",
       "      <td>0.48</td>\n",
       "      <td>0.00</td>\n",
       "      <td>0.00</td>\n",
       "      <td>43.00</td>\n",
       "      <td>4.1</td>\n",
       "      <td>E10+</td>\n",
       "      <td>4.00</td>\n",
       "    </tr>\n",
       "    <tr>\n",
       "      <th>5972</th>\n",
       "      <td>Need for Speed: Most Wanted</td>\n",
       "      <td>PC</td>\n",
       "      <td>2005.00</td>\n",
       "      <td>Racing</td>\n",
       "      <td>0.02</td>\n",
       "      <td>0.23</td>\n",
       "      <td>0.00</td>\n",
       "      <td>0.04</td>\n",
       "      <td>82.00</td>\n",
       "      <td>8.5</td>\n",
       "      <td>T</td>\n",
       "      <td>2.00</td>\n",
       "    </tr>\n",
       "    <tr>\n",
       "      <th>11715</th>\n",
       "      <td>Need for Speed: Most Wanted</td>\n",
       "      <td>PC</td>\n",
       "      <td>2012.00</td>\n",
       "      <td>Racing</td>\n",
       "      <td>0.00</td>\n",
       "      <td>0.06</td>\n",
       "      <td>0.00</td>\n",
       "      <td>0.02</td>\n",
       "      <td>82.00</td>\n",
       "      <td>8.5</td>\n",
       "      <td>T</td>\n",
       "      <td>2.00</td>\n",
       "    </tr>\n",
       "    <tr>\n",
       "      <th>16230</th>\n",
       "      <td>Madden NFL 13</td>\n",
       "      <td>PS3</td>\n",
       "      <td>2012.00</td>\n",
       "      <td>Sports</td>\n",
       "      <td>0.00</td>\n",
       "      <td>0.01</td>\n",
       "      <td>0.00</td>\n",
       "      <td>0.00</td>\n",
       "      <td>83.00</td>\n",
       "      <td>5.5</td>\n",
       "      <td>E</td>\n",
       "      <td>1.00</td>\n",
       "    </tr>\n",
       "  </tbody>\n",
       "</table>\n",
       "</div>"
      ],
      "text/plain": [
       "                              name platform  year_of_release     genre  \\\n",
       "604                  Madden NFL 13      PS3          2012.00    Sports   \n",
       "1190   Need for Speed: Most Wanted     X360          2012.00    Racing   \n",
       "1591   Need for Speed: Most Wanted     X360          2005.00    Racing   \n",
       "1745            Sonic the Hedgehog      PS3          2006.00  Platform   \n",
       "4127            Sonic the Hedgehog      PS3          2006.00  Platform   \n",
       "5972   Need for Speed: Most Wanted       PC          2005.00    Racing   \n",
       "11715  Need for Speed: Most Wanted       PC          2012.00    Racing   \n",
       "16230                Madden NFL 13      PS3          2012.00    Sports   \n",
       "\n",
       "       na_sales  eu_sales  jp_sales  other_sales  critic_score user_score  \\\n",
       "604        2.11      0.22      0.00         0.23         83.00        5.5   \n",
       "1190       0.62      0.78      0.01         0.15         83.00        8.5   \n",
       "1591       1.00      0.13      0.02         0.10         83.00        8.5   \n",
       "1745       0.41      0.06      0.04         0.66         43.00        4.1   \n",
       "4127       0.00      0.48      0.00         0.00         43.00        4.1   \n",
       "5972       0.02      0.23      0.00         0.04         82.00        8.5   \n",
       "11715      0.00      0.06      0.00         0.02         82.00        8.5   \n",
       "16230      0.00      0.01      0.00         0.00         83.00        5.5   \n",
       "\n",
       "      rating  rating_digital  \n",
       "604        E            1.00  \n",
       "1190       T            2.00  \n",
       "1591       T            2.00  \n",
       "1745    E10+            4.00  \n",
       "4127    E10+            4.00  \n",
       "5972       T            2.00  \n",
       "11715      T            2.00  \n",
       "16230      E            1.00  "
      ]
     },
     "execution_count": 13,
     "metadata": {},
     "output_type": "execute_result"
    }
   ],
   "source": [
    "games[games.duplicated(subset=['name','platform'], keep=False)]"
   ]
  },
  {
   "cell_type": "markdown",
   "metadata": {},
   "source": [
    "As we can see 8 records are duplicates.<br /> Let's combine takes."
   ]
  },
  {
   "cell_type": "code",
   "execution_count": 14,
   "metadata": {},
   "outputs": [
    {
     "name": "stdout",
     "output_type": "stream",
     "text": [
      "\n",
      " 0 duplicates in the table\n"
     ]
    }
   ],
   "source": [
    "games = games.groupby(['name','platform']).agg({'year_of_release':'max', \n",
    "                                                'genre':'first', \n",
    "                                                'na_sales':'max', \n",
    "                                                'eu_sales':'max', \n",
    "                                                'jp_sales':'max', \n",
    "                                                'other_sales':'max', \n",
    "                                                'critic_score':'max', \n",
    "                                                'user_score':'max', \n",
    "                                                'rating':'max', \n",
    "                                                'rating_digital':'max'}\n",
    "                                              ).reset_index()\n",
    "print('\\n {:} duplicates in the table'.format(len(games[games.duplicated(subset=['name','platform'], keep=False)])))"
   ]
  },
  {
   "cell_type": "markdown",
   "metadata": {},
   "source": [
    "Let's calculate the total sales for each game and place these values in a separate column."
   ]
  },
  {
   "cell_type": "code",
   "execution_count": 15,
   "metadata": {},
   "outputs": [],
   "source": [
    "games['profit'] = (games['na_sales']\n",
    "                   + games['eu_sales']\n",
    "                   +  games['jp_sales']\n",
    "                   + games['other_sales'])"
   ]
  },
  {
   "cell_type": "markdown",
   "metadata": {},
   "source": [
    "#### Let's convert the data to the required types."
   ]
  },
  {
   "cell_type": "code",
   "execution_count": 16,
   "metadata": {},
   "outputs": [
    {
     "name": "stdout",
     "output_type": "stream",
     "text": [
      "<class 'pandas.core.frame.DataFrame'>\n",
      "RangeIndex: 16709 entries, 0 to 16708\n",
      "Data columns (total 13 columns):\n",
      " #   Column           Non-Null Count  Dtype  \n",
      "---  ------           --------------  -----  \n",
      " 0   name             16709 non-null  object \n",
      " 1   platform         16709 non-null  object \n",
      " 2   year_of_release  16709 non-null  int64  \n",
      " 3   genre            16709 non-null  object \n",
      " 4   na_sales         16709 non-null  float64\n",
      " 5   eu_sales         16709 non-null  float64\n",
      " 6   jp_sales         16709 non-null  float64\n",
      " 7   other_sales      16709 non-null  float64\n",
      " 8   critic_score     16709 non-null  int64  \n",
      " 9   user_score       8685 non-null   float64\n",
      " 10  rating           9945 non-null   object \n",
      " 11  rating_digital   16709 non-null  int64  \n",
      " 12  profit           16709 non-null  float64\n",
      "dtypes: float64(6), int64(3), object(4)\n",
      "memory usage: 1.7+ MB\n"
     ]
    }
   ],
   "source": [
    "games['year_of_release'].fillna(0, inplace=True)\n",
    "games['rating_digital'].fillna(0, inplace=True)\n",
    "games['critic_score'].fillna(0, inplace=True)\n",
    "games['user_score'] = pd.to_numeric(games['user_score'],errors='coerce')\n",
    "try: \n",
    "    games['year_of_release']   = games['year_of_release'].astype('int')\n",
    "    games['critic_score']   = games['critic_score'].astype('int')\n",
    "    games['rating_digital']   = games['rating_digital'].astype('int')    \n",
    "except: \n",
    "    print('Data conversion failed ((')\n",
    "games.info()"
   ]
  },
  {
   "cell_type": "markdown",
   "metadata": {},
   "source": [
    "The data type has been changed in the following columns:\n",
    "1. year_of_release ==> Int (Since the year is always an integer)\n",
    "2. critic_score ==> int (Since the score is an integer from 0 to 100)\n",
    "3. user_score ==> float64 (Since the user's rating is in the range from 0 to 10, and may be not integer)"
   ]
  },
  {
   "cell_type": "markdown",
   "metadata": {},
   "source": [
    "<div class=\"alert alert-warning\">\n",
    "<b>Reviewer's comment: </b> Small hint: you can specify bit depth of your int or float numbers. For example it could be int8 ot float32. Check these links for the examples:<br>\n",
    "<a>https://pandas.pydata.org/pandas-docs/stable/reference/api/pandas.DataFrame.astype.html</a> <br>\n",
    "<a>https://pbpython.com/pandas_dtypes.html</a>    \n",
    "</div>"
   ]
  },
  {
   "cell_type": "markdown",
   "metadata": {},
   "source": [
    "### Step 3. Data analysis.<a name=\"data_analysis\"></a>"
   ]
  },
  {
   "cell_type": "markdown",
   "metadata": {},
   "source": [
    "##### 3.1 Number of games per year"
   ]
  },
  {
   "cell_type": "code",
   "execution_count": 17,
   "metadata": {},
   "outputs": [
    {
     "data": {
      "image/png": "[encoded data removed]",
      "text/plain": [
       "<Figure size 1080x1080 with 1 Axes>"
      ]
     },
     "metadata": {},
     "output_type": "display_data"
    }
   ],
   "source": [
    "years = games.query('year_of_release != 0').pivot_table(index='year_of_release',values='profit', aggfunc='count')\n",
    "years_dict = list(years.index.values.tolist()) \n",
    "\n",
    "y_pos = np.arange(len(years_dict))\n",
    "fig, ax = plt.subplots(figsize=(15, 15))\n",
    "fig.patch.set_facecolor('xkcd:mint green')\n",
    "plt.barh(y_pos, years['profit'], align='center', alpha=0.8, color='cornflowerblue' )\n",
    "plt.yticks(y_pos, years_dict)\n",
    "plt.xlabel('Number of games released')\n",
    "plt.title('Number of games per year')\n",
    "\n",
    "plt.show()"
   ]
  },
  {
   "cell_type": "markdown",
   "metadata": {},
   "source": [
    "<div class=\"alert alert-warning\">\n",
    "<b>Reviewer's comment: </b> Nice plot! Small hint: you can improve your barplot with values adding. Check this link:<a>https://robertmitchellv.com/blog-bar-chart-annotations-pandas-mpl.html</a>\n",
    "</div>"
   ]
  },
  {
   "cell_type": "markdown",
   "metadata": {},
   "source": [
    "We see the number of games released each year. Until 1994, a small number of games were released. It can also be seen that the number of games released has sharply decreased over the past 5 years (since 2012). I think this is due to the fact that since 2012 there has been an active development of mobile phones and many people began to play games on their phones or spend time communicating on social networks."
   ]
  },
  {
   "cell_type": "markdown",
   "metadata": {},
   "source": [
    "##### 3.2 Analysis of sales on different platforms."
   ]
  },
  {
   "cell_type": "code",
   "execution_count": 18,
   "metadata": {},
   "outputs": [
    {
     "data": {
      "image/png": "[encoded data removed]",
      "text/plain": [
       "<Figure size 1080x1080 with 1 Axes>"
      ]
     },
     "metadata": {},
     "output_type": "display_data"
    }
   ],
   "source": [
    "sales_per_platforms = games.pivot_table(index='platform', values='profit', aggfunc='sum')\n",
    "sales_per_platforms.sort_values(by = 'profit', ascending = True, inplace = True)  \n",
    "sales_per_platforms_dict = list(sales_per_platforms.index.values.tolist()) \n",
    "\n",
    "y_pos = np.arange(len(sales_per_platforms_dict))\n",
    "fig, ax = plt.subplots(figsize=(15, 15))\n",
    "fig.patch.set_facecolor('xkcd:mint green')\n",
    "plt.barh(y_pos, sales_per_platforms['profit'], align='center', alpha=0.8, color='cornflowerblue' )\n",
    "plt.yticks(y_pos, sales_per_platforms_dict)\n",
    "plt.xlabel('Profit')\n",
    "plt.title('Profit distribution by platforms')\n",
    "\n",
    "plt.show()"
   ]
  },
  {
   "cell_type": "markdown",
   "metadata": {},
   "source": [
    "<div class=\"alert alert-danger\">\n",
    "<b>Reviewer's comment: </b> Please, add some conclusions.\n",
    "</div>"
   ]
  },
  {
   "cell_type": "markdown",
   "metadata": {},
   "source": [
    "##### 3.2.1   Top-6 platforms by sales volume    "
   ]
  },
  {
   "cell_type": "markdown",
   "metadata": {},
   "source": [
    "<h4>Largest sales:</h4>\n",
    "\n",
    "<table style=\"width:30%\">\n",
    "  <tr>\n",
    "    <th>Platform</th>\n",
    "    <th>Profit</th> \n",
    "  </tr>\n",
    "  <tr>\n",
    "    <td>PS2</td>\n",
    "    <td>1255</td>\n",
    "  </tr>\n",
    "  <tr>\n",
    "    <td>X360</td>\n",
    "    <td>971</td>\n",
    "  </tr>\n",
    "  <tr>\n",
    "    <td>PS3</td>\n",
    "    <td>939</td>\n",
    "  </tr>\n",
    "  <tr>\n",
    "    <td>Wii</td>\n",
    "    <td>907</td>\n",
    "  </tr>\n",
    "  <tr>\n",
    "    <td>DS</td>\n",
    "    <td>806</td>\n",
    "  </tr>\n",
    "  <tr>\n",
    "    <td>PS</td>\n",
    "    <td>731</td>\n",
    "  </tr>\n",
    "\n",
    "</table>\n",
    "\n",
    "</body>\n",
    "</html>"
   ]
  },
  {
   "cell_type": "markdown",
   "metadata": {},
   "source": [
    "<div class=\"alert alert-warning\">\n",
    "<b>Reviewer's comment: </b> Great table, but pay attnetion that it consists from hardcoded constants. You can achive the same result with panads dataframe. How to center it (works with plots as well): <a>https://moonbooks.org/Articles/How-to-center-a-matplotlib-figure-in-a-Jupyter-notebook-/</a>\n",
    "</div>"
   ]
  },
  {
   "cell_type": "code",
   "execution_count": 19,
   "metadata": {},
   "outputs": [
    {
     "data": {
      "text/plain": [
       "['PS', 'DS', 'Wii', 'PS3', 'X360', 'PS2']"
      ]
     },
     "execution_count": 19,
     "metadata": {},
     "output_type": "execute_result"
    }
   ],
   "source": [
    "top6_platforms_dict = list(sales_per_platforms.tail(6).index.values.tolist()) \n",
    "top6_platforms_dict"
   ]
  },
  {
   "cell_type": "code",
   "execution_count": 20,
   "metadata": {},
   "outputs": [],
   "source": [
    "# function of creating a table of profit distribution by years for a specific platform\n",
    "def create_df_profit_platform(type_platform):\n",
    "    item = (\n",
    "    games.query('platform == @type_platform & year_of_release != 0')\n",
    "    .pivot_table(index = 'year_of_release',\n",
    "                 values ='profit',\n",
    "                 aggfunc ='sum')\n",
    "               )\n",
    "    return item"
   ]
  },
  {
   "cell_type": "code",
   "execution_count": 21,
   "metadata": {},
   "outputs": [],
   "source": [
    "# function for defining outlier boundaries\n",
    "def outliers_lower_upper(name_df,column):\n",
    "    q1 = name_df[column].quantile(0.25)\n",
    "    q3 = name_df[column].quantile(0.75)\n",
    "    iqr = q3 - q1\n",
    "    if q1 - iqr*1.5 < 0:\n",
    "        return (0, q3 + iqr*1.5)\n",
    "    else:\n",
    "        return (q1 - iqr*1.5, q3 + iqr*1.5)        \n"
   ]
  },
  {
   "cell_type": "code",
   "execution_count": 22,
   "metadata": {},
   "outputs": [],
   "source": [
    "# function to create a table and remove outliers\n",
    "def create_df_for_plot(item):\n",
    "    # create data for the selected platform\n",
    "    df_platform  = create_df_profit_platform(item)\n",
    "    # determining emissions\n",
    "    df_platform  = df_platform.reset_index(drop=False)\n",
    "    outliers     = outliers_lower_upper(df_platform,'year_of_release')\n",
    "    # removing emissions\n",
    "    df_platform = df_platform[\n",
    "        (df_platform['year_of_release'] > outliers[0])\n",
    "        &\n",
    "        (df_platform['year_of_release'] < outliers[1])   \n",
    "    ]\n",
    "    df_platform = df_platform.pivot_table(index = 'year_of_release')\n",
    "    return df_platform"
   ]
  },
  {
   "cell_type": "code",
   "execution_count": 23,
   "metadata": {},
   "outputs": [
    {
     "data": {
      "image/png": "[encoded data removed]",
      "text/plain": [
       "<Figure size 1080x432 with 1 Axes>"
      ]
     },
     "metadata": {},
     "output_type": "display_data"
    }
   ],
   "source": [
    "# Let's build graphs\n",
    "fig, ax = plt.subplots(figsize=(15, 6))\n",
    "fig.subplots_adjust(bottom=0.15, left=0.2)\n",
    "for item in top6_platforms_dict:\n",
    "    ax.plot(create_df_for_plot(item))\n",
    "\n",
    "ax.set_xlabel('Year')\n",
    "ax.set_ylabel('Profit')\n",
    "plt.legend([\"PS2\", \"x360\",'PS3','Wii','DS','PS'])\n",
    "ax.set_title('Top 6 platforms dynamics by revenue')\n",
    "fig.patch.set_facecolor('xkcd:mint green')\n",
    "\n",
    "plt.show()"
   ]
  },
  {
   "cell_type": "markdown",
   "metadata": {},
   "source": [
    "<div class=\"alert alert-danger\">\n",
    "<b>Reviewer's comment:</b> Please, add some conclusions here as well.\n",
    "</div>"
   ]
  },
  {
   "cell_type": "markdown",
   "metadata": {},
   "source": [
    "<div class=\"alert alert-warning\">\n",
    "<b>Reviewer's comment: </b> Good! You can skip the loop and plot all lines with one line of code with pandas line plot:<br> <a>https://stackoverflow.com/a/51006642/11664121</a> <br>\n",
    "Also, area plot could be useful here:<a>https://pandas.pydata.org/pandas-docs/stable/reference/api/pandas.DataFrame.plot.area.html</a>\n",
    "</div>"
   ]
  },
  {
   "cell_type": "markdown",
   "metadata": {},
   "source": [
    "##### 3.2.2. Previously popular platforms\n",
    "<br />\n",
    "Let's define the platforms for which the games were released in the last 2 years.\n"
   ]
  },
  {
   "cell_type": "code",
   "execution_count": 24,
   "metadata": {},
   "outputs": [
    {
     "data": {
      "text/html": [
       "<div>\n",
       "<style scoped>\n",
       "    .dataframe tbody tr th:only-of-type {\n",
       "        vertical-align: middle;\n",
       "    }\n",
       "\n",
       "    .dataframe tbody tr th {\n",
       "        vertical-align: top;\n",
       "    }\n",
       "\n",
       "    .dataframe thead th {\n",
       "        text-align: right;\n",
       "    }\n",
       "</style>\n",
       "<table border=\"1\" class=\"dataframe\">\n",
       "  <thead>\n",
       "    <tr style=\"text-align: right;\">\n",
       "      <th></th>\n",
       "      <th>profit</th>\n",
       "    </tr>\n",
       "    <tr>\n",
       "      <th>platform</th>\n",
       "      <th></th>\n",
       "    </tr>\n",
       "  </thead>\n",
       "  <tbody>\n",
       "    <tr>\n",
       "      <th>3DS</th>\n",
       "      <td>42.92</td>\n",
       "    </tr>\n",
       "    <tr>\n",
       "      <th>PC</th>\n",
       "      <td>13.77</td>\n",
       "    </tr>\n",
       "    <tr>\n",
       "      <th>PS3</th>\n",
       "      <td>20.42</td>\n",
       "    </tr>\n",
       "    <tr>\n",
       "      <th>PS4</th>\n",
       "      <td>188.15</td>\n",
       "    </tr>\n",
       "    <tr>\n",
       "      <th>PSP</th>\n",
       "      <td>0.12</td>\n",
       "    </tr>\n",
       "    <tr>\n",
       "      <th>PSV</th>\n",
       "      <td>10.50</td>\n",
       "    </tr>\n",
       "    <tr>\n",
       "      <th>Wii</th>\n",
       "      <td>1.32</td>\n",
       "    </tr>\n",
       "    <tr>\n",
       "      <th>WiiU</th>\n",
       "      <td>20.95</td>\n",
       "    </tr>\n",
       "    <tr>\n",
       "      <th>X360</th>\n",
       "      <td>13.48</td>\n",
       "    </tr>\n",
       "    <tr>\n",
       "      <th>XOne</th>\n",
       "      <td>86.29</td>\n",
       "    </tr>\n",
       "  </tbody>\n",
       "</table>\n",
       "</div>"
      ],
      "text/plain": [
       "          profit\n",
       "platform        \n",
       "3DS        42.92\n",
       "PC         13.77\n",
       "PS3        20.42\n",
       "PS4       188.15\n",
       "PSP         0.12\n",
       "PSV        10.50\n",
       "Wii         1.32\n",
       "WiiU       20.95\n",
       "X360       13.48\n",
       "XOne       86.29"
      ]
     },
     "execution_count": 24,
     "metadata": {},
     "output_type": "execute_result"
    }
   ],
   "source": [
    "sales_in_last_years = ( \n",
    "    games.query('year_of_release >= 2015')\n",
    "    .pivot_table(index = 'platform',\n",
    "                 values = 'profit',\n",
    "                 aggfunc='sum')\n",
    ")\n",
    "sales_in_last_years"
   ]
  },
  {
   "cell_type": "markdown",
   "metadata": {},
   "source": [
    "Let's define platforms for which no games have been released in the last 2 years."
   ]
  },
  {
   "cell_type": "code",
   "execution_count": 25,
   "metadata": {},
   "outputs": [
    {
     "data": {
      "image/png": "[encoded data removed]",
      "text/plain": [
       "<Figure size 1080x1080 with 1 Axes>"
      ]
     },
     "metadata": {},
     "output_type": "display_data"
    }
   ],
   "source": [
    "top10_old_popular_platforms = sales_per_platforms.query('index not in @sales_in_last_years.index')\n",
    "top10_old_popular_platforms = top10_old_popular_platforms.sort_values(by = 'profit', ascending = False)\n",
    "top10_old_popular_platforms = top10_old_popular_platforms.head(10)\n",
    "top10_old_popular_platforms_dict = list(top10_old_popular_platforms.index.values.tolist()) \n",
    "\n",
    "y_pos = np.arange(len(top10_old_popular_platforms_dict))\n",
    "fig, ax = plt.subplots(figsize=(15, 15))\n",
    "fig.patch.set_facecolor('xkcd:mint green')\n",
    "plt.barh(y_pos, top10_old_popular_platforms['profit'], align='center', alpha=0.8, color='cornflowerblue' )\n",
    "plt.yticks(y_pos, top10_old_popular_platforms_dict)\n",
    "plt.xlabel('Profit')\n",
    "plt.title('TOP 10. Previously popular platforms')\n",
    "\n",
    "plt.show()"
   ]
  },
  {
   "cell_type": "markdown",
   "metadata": {},
   "source": [
    "<div class=\"alert alert-danger\">\n",
    "<b>Reviewer's comment:</b> Conclusions? :)\n",
    "</div>"
   ]
  },
  {
   "cell_type": "markdown",
   "metadata": {},
   "source": [
    "##### 3.2.3. Determine the average lifespan of a gaming platform.\n",
    "<br />\n",
    "Let's add a column with the platform activity period"
   ]
  },
  {
   "cell_type": "code",
   "execution_count": 26,
   "metadata": {},
   "outputs": [
    {
     "name": "stdout",
     "output_type": "stream",
     "text": [
      "The 10 most popular platforms have a median lifespan of 9 years\n"
     ]
    }
   ],
   "source": [
    "games['years_active'] = (\n",
    "    games.query('year_of_release != 0')\n",
    "    .groupby(['platform'])['year_of_release']\n",
    "    .transform(lambda x: x.max() - x.min())\n",
    ")\n",
    "# let's filter out inactive platforms, knowing the period of activity and profit\n",
    "term_life_platforms = games.query('platform not in @sales_in_last_years.index').pivot_table(index = 'platform', \n",
    "                      values = ['profit','years_active'], aggfunc = ['sum','median'])\n",
    "term_life_platforms.columns = ['profit','sum_years','median_profit','years_active']\n",
    "term_life_platforms.drop(['sum_years','median_profit'], axis='columns', inplace=True)\n",
    "\n",
    "# let's calculate the average lifespan of the platform for the 10 most popular\n",
    "active_years_median = (\n",
    "    term_life_platforms.\n",
    "    sort_values(by = 'profit', ascending = False)\n",
    "    .head(10)['years_active']\n",
    "    .median()\n",
    ")\n",
    "print('The 10 most popular platforms have a median lifespan of {:0.0f} years'.format(active_years_median))"
   ]
  },
  {
   "cell_type": "markdown",
   "metadata": {},
   "source": [
    "After analyzing the 10 most profitable platforms, I found that the average duration of their use is 9 years. Then game makers stop making games for those platforms and consider them obsolete.\n"
   ]
  },
  {
   "cell_type": "markdown",
   "metadata": {},
   "source": [
    "##### 3.3 Defining the boundaries of the analyzed data to create a forecast for 2017.\n",
    "<br />Since the average lifespan of a platform is 9 years, for the forecast for 2017, I will use data from 2009"
   ]
  },
  {
   "cell_type": "markdown",
   "metadata": {},
   "source": [
    "##### 3.4 Let's find out which modern platforms are leading in sales?"
   ]
  },
  {
   "cell_type": "code",
   "execution_count": 27,
   "metadata": {},
   "outputs": [
    {
     "data": {
      "text/html": [
       "<div>\n",
       "<style scoped>\n",
       "    .dataframe tbody tr th:only-of-type {\n",
       "        vertical-align: middle;\n",
       "    }\n",
       "\n",
       "    .dataframe tbody tr th {\n",
       "        vertical-align: top;\n",
       "    }\n",
       "\n",
       "    .dataframe thead th {\n",
       "        text-align: right;\n",
       "    }\n",
       "</style>\n",
       "<table border=\"1\" class=\"dataframe\">\n",
       "  <thead>\n",
       "    <tr style=\"text-align: right;\">\n",
       "      <th></th>\n",
       "      <th>profit</th>\n",
       "    </tr>\n",
       "    <tr>\n",
       "      <th>platform</th>\n",
       "      <th></th>\n",
       "    </tr>\n",
       "  </thead>\n",
       "  <tbody>\n",
       "    <tr>\n",
       "      <th>PS3</th>\n",
       "      <td>721.57</td>\n",
       "    </tr>\n",
       "    <tr>\n",
       "      <th>X360</th>\n",
       "      <td>674.51</td>\n",
       "    </tr>\n",
       "    <tr>\n",
       "      <th>Wii</th>\n",
       "      <td>432.03</td>\n",
       "    </tr>\n",
       "    <tr>\n",
       "      <th>PS4</th>\n",
       "      <td>314.14</td>\n",
       "    </tr>\n",
       "    <tr>\n",
       "      <th>3DS</th>\n",
       "      <td>258.53</td>\n",
       "    </tr>\n",
       "    <tr>\n",
       "      <th>XOne</th>\n",
       "      <td>159.32</td>\n",
       "    </tr>\n",
       "    <tr>\n",
       "      <th>PC</th>\n",
       "      <td>142.08</td>\n",
       "    </tr>\n",
       "    <tr>\n",
       "      <th>PSP</th>\n",
       "      <td>103.13</td>\n",
       "    </tr>\n",
       "    <tr>\n",
       "      <th>WiiU</th>\n",
       "      <td>82.19</td>\n",
       "    </tr>\n",
       "    <tr>\n",
       "      <th>PSV</th>\n",
       "      <td>53.81</td>\n",
       "    </tr>\n",
       "  </tbody>\n",
       "</table>\n",
       "</div>"
      ],
      "text/plain": [
       "          profit\n",
       "platform        \n",
       "PS3       721.57\n",
       "X360      674.51\n",
       "Wii       432.03\n",
       "PS4       314.14\n",
       "3DS       258.53\n",
       "XOne      159.32\n",
       "PC        142.08\n",
       "PSP       103.13\n",
       "WiiU       82.19\n",
       "PSV        53.81"
      ]
     },
     "execution_count": 27,
     "metadata": {},
     "output_type": "execute_result"
    }
   ],
   "source": [
    "# sales_in_last_years\n",
    "modern_games = games.query('(platform in @sales_in_last_years.index) & (year_of_release >= 2009)')\n",
    "profit_modern_games = modern_games.pivot_table(index = 'platform', values = 'profit', aggfunc = 'sum')\n",
    "profit_modern_games.sort_values(by = 'profit', ascending = False)"
   ]
  },
  {
   "cell_type": "markdown",
   "metadata": {},
   "source": [
    "We have identified the platforms for which games are released in 2016.<br />\n",
    "Let's define platforms for which the release of games is growing and for which it is decreasing."
   ]
  },
  {
   "cell_type": "code",
   "execution_count": 28,
   "metadata": {},
   "outputs": [
    {
     "data": {
      "image/png": "[encoded data removed]",
      "text/plain": [
       "<Figure size 1080x432 with 1 Axes>"
      ]
     },
     "metadata": {},
     "output_type": "display_data"
    }
   ],
   "source": [
    "profit_modern_games_dict = list(profit_modern_games.index.values.tolist()) \n",
    "profit_modern_games_dict\n",
    "\n",
    "fig, ax = plt.subplots(figsize=(15, 6))\n",
    "fig.subplots_adjust(bottom=0.15, left=0.2)\n",
    "\n",
    "for item in profit_modern_games_dict:\n",
    "    ax.plot(create_df_for_plot(item))\n",
    "    \n",
    "ax.set_xlabel('Year')\n",
    "ax.set_ylabel('Profit')\n",
    "ax.set_title('Dynamics of revenue by platform')\n",
    "ax.set_xlim(2005, 2018)\n",
    "plt.legend(profit_modern_games_dict)\n",
    "fig.patch.set_facecolor('xkcd:mint green')\n",
    "\n",
    "plt.show()"
   ]
  },
  {
   "cell_type": "markdown",
   "metadata": {},
   "source": [
    "The graph shows that the market leaders are **[PS4, XOne, 3DS]**<br />\n",
    "As we can see, the charts of all platforms have a downtrend. Although in 2015, two platforms **[PS4, XOne]** had growth. I think this is due to the fact that the data for 2016 is not fully entered. <br />\n",
    "Thus, potentially profitable platforms are **[PS4, XOne]**"
   ]
  },
  {
   "cell_type": "markdown",
   "metadata": {},
   "source": [
    "<div class=\"alert alert-success\">\n",
    "<b>Reviewer's comment: </b> Good point!\n",
    "</div>"
   ]
  },
  {
   "cell_type": "markdown",
   "metadata": {},
   "source": [
    "##### 3.5 We will build a box plot for the global sales of all games, broken down by platform."
   ]
  },
  {
   "cell_type": "code",
   "execution_count": 29,
   "metadata": {},
   "outputs": [
    {
     "data": {
      "text/plain": [
       "Text(0.5, 1.0, 'Selling games by platform')"
      ]
     },
     "execution_count": 29,
     "metadata": {},
     "output_type": "execute_result"
    },
    {
     "data": {
      "image/png": "[encoded data removed]",
      "text/plain": [
       "<Figure size 1080x648 with 1 Axes>"
      ]
     },
     "metadata": {
      "needs_background": "light"
     },
     "output_type": "display_data"
    }
   ],
   "source": [
    "plt.figure(figsize = (15,9))\n",
    "plt.ylim([0,2])\n",
    "sns.set_style(\"white\")\n",
    "sns.boxplot(\n",
    "    x = \"platform\"\n",
    "    , y = \"profit\"\n",
    "    , data = modern_games\n",
    ").set_title('Selling games by platform')\n"
   ]
  },
  {
   "cell_type": "markdown",
   "metadata": {},
   "source": [
    "Build box_plot shows that Top4 **[X360, PS3, PS4, XOne]** has no significant sales differences.\n",
    "The maximum is **750,000**, the average revenue is about **250,000**. However, the outsiders **[PC, PSP, PSV]** have much worse sales. The maximum is up to **180,000**, and the average is **50,000**."
   ]
  },
  {
   "cell_type": "markdown",
   "metadata": {},
   "source": [
    "##### 3.6 We will study how user and critic reviews affect sales.\n",
    "\n",
    "For the analysis, I chose the **PS3** platform."
   ]
  },
  {
   "cell_type": "code",
   "execution_count": 30,
   "metadata": {},
   "outputs": [
    {
     "name": "stdout",
     "output_type": "stream",
     "text": [
      "Correlation coefficients: (influence on profit)\n"
     ]
    },
    {
     "data": {
      "text/plain": [
       "critic_score   0.39\n",
       "user_score     0.09\n",
       "Name: profit, dtype: float64"
      ]
     },
     "execution_count": 30,
     "metadata": {},
     "output_type": "execute_result"
    }
   ],
   "source": [
    "correlation_dict = modern_games.query('platform == \"PS3\" & critic_score != 0').corr()['profit']\n",
    "correlation_dict = correlation_dict[['critic_score','user_score']]\n",
    "print('Correlation coefficients: (influence on profit)')\n",
    "correlation_dict"
   ]
  },
  {
   "cell_type": "markdown",
   "metadata": {},
   "source": [
    "Let's build scatter diagrams of the impact of reviews on sales."
   ]
  },
  {
   "cell_type": "code",
   "execution_count": 31,
   "metadata": {},
   "outputs": [
    {
     "data": {
      "text/plain": [
       "<AxesSubplot:xlabel='user_score', ylabel='profit'>"
      ]
     },
     "execution_count": 31,
     "metadata": {},
     "output_type": "execute_result"
    },
    {
     "data": {
      "image/png": "[encoded data removed]",
      "text/plain": [
       "<Figure size 432x432 with 1 Axes>"
      ]
     },
     "metadata": {},
     "output_type": "display_data"
    },
    {
     "data": {
      "image/png": "[encoded data removed]",
      "text/plain": [
       "<Figure size 432x432 with 1 Axes>"
      ]
     },
     "metadata": {},
     "output_type": "display_data"
    }
   ],
   "source": [
    "# let's build scatter plot\n",
    "( modern_games.query('platform == \"PS3\" & critic_score != 0').\n",
    " plot(x = 'critic_score', \n",
    "      y = 'profit', \n",
    "      kind='scatter',\n",
    "      figsize=(6, 6),\n",
    "      color='dodgerblue', \n",
    "      label=\"'Impact of critics' scores on sales\", \n",
    "      alpha = 0.3)\n",
    ")\n",
    "\n",
    "( modern_games.query('platform == \"PS3\"').\n",
    " plot(x = 'user_score', \n",
    "      y = 'profit', \n",
    "      kind='scatter',\n",
    "      figsize=(6, 6),\n",
    "      color='forestgreen', \n",
    "      label=\"'Impact of users' scores on sales\", \n",
    "      alpha = 0.3)\n",
    ")"
   ]
  },
  {
   "cell_type": "markdown",
   "metadata": {},
   "source": [
    "After analyzing the impact of professional and user reviews on sales, I came to the following conclusion:\n",
    "    1. User reviews do not affect sales\n",
    "    2. Critic reviews have a very weak impact on sales."
   ]
  },
  {
   "cell_type": "markdown",
   "metadata": {},
   "source": [
    "<div class=\"alert alert-warning\">\n",
    "<b>Reviewer's comment: </b> Please, pay attention to the correlation calculation method you have chosen. By default, pandas uses the Pearson's correlation. However, it is very unstable to outliers, which are quite a lot judging by the scatter plot. In your case, Spearman's correlation is more suitable, it uses ratings instead of actual values. Check this link:<a>https://cmdlinetips.com/2019/08/how-to-compute-pearson-and-spearman-correlation-in-python/</a>\n",
    "</div>"
   ]
  },
  {
   "cell_type": "markdown",
   "metadata": {},
   "source": [
    "##### 3.7 Correlation across all modern platforms"
   ]
  },
  {
   "cell_type": "code",
   "execution_count": 32,
   "metadata": {},
   "outputs": [
    {
     "data": {
      "text/html": [
       "<div>\n",
       "<style scoped>\n",
       "    .dataframe tbody tr th:only-of-type {\n",
       "        vertical-align: middle;\n",
       "    }\n",
       "\n",
       "    .dataframe tbody tr th {\n",
       "        vertical-align: top;\n",
       "    }\n",
       "\n",
       "    .dataframe thead th {\n",
       "        text-align: right;\n",
       "    }\n",
       "</style>\n",
       "<table border=\"1\" class=\"dataframe\">\n",
       "  <thead>\n",
       "    <tr style=\"text-align: right;\">\n",
       "      <th></th>\n",
       "      <th>platform</th>\n",
       "      <th>corr_critic_score</th>\n",
       "      <th>corr_user_score</th>\n",
       "    </tr>\n",
       "  </thead>\n",
       "  <tbody>\n",
       "    <tr>\n",
       "      <th>0</th>\n",
       "      <td>3DS</td>\n",
       "      <td>0.32</td>\n",
       "      <td>0.23</td>\n",
       "    </tr>\n",
       "    <tr>\n",
       "      <th>1</th>\n",
       "      <td>PC</td>\n",
       "      <td>0.29</td>\n",
       "      <td>-0.01</td>\n",
       "    </tr>\n",
       "    <tr>\n",
       "      <th>2</th>\n",
       "      <td>PS3</td>\n",
       "      <td>0.39</td>\n",
       "      <td>0.09</td>\n",
       "    </tr>\n",
       "    <tr>\n",
       "      <th>3</th>\n",
       "      <td>PS4</td>\n",
       "      <td>0.39</td>\n",
       "      <td>-0.03</td>\n",
       "    </tr>\n",
       "    <tr>\n",
       "      <th>4</th>\n",
       "      <td>PSP</td>\n",
       "      <td>0.32</td>\n",
       "      <td>0.17</td>\n",
       "    </tr>\n",
       "    <tr>\n",
       "      <th>5</th>\n",
       "      <td>PSV</td>\n",
       "      <td>0.17</td>\n",
       "      <td>0.05</td>\n",
       "    </tr>\n",
       "    <tr>\n",
       "      <th>6</th>\n",
       "      <td>Wii</td>\n",
       "      <td>0.20</td>\n",
       "      <td>0.13</td>\n",
       "    </tr>\n",
       "    <tr>\n",
       "      <th>7</th>\n",
       "      <td>WiiU</td>\n",
       "      <td>0.32</td>\n",
       "      <td>0.36</td>\n",
       "    </tr>\n",
       "    <tr>\n",
       "      <th>8</th>\n",
       "      <td>X360</td>\n",
       "      <td>0.34</td>\n",
       "      <td>0.07</td>\n",
       "    </tr>\n",
       "    <tr>\n",
       "      <th>9</th>\n",
       "      <td>XOne</td>\n",
       "      <td>0.38</td>\n",
       "      <td>-0.09</td>\n",
       "    </tr>\n",
       "  </tbody>\n",
       "</table>\n",
       "</div>"
      ],
      "text/plain": [
       "  platform  corr_critic_score  corr_user_score\n",
       "0      3DS               0.32             0.23\n",
       "1       PC               0.29            -0.01\n",
       "2      PS3               0.39             0.09\n",
       "3      PS4               0.39            -0.03\n",
       "4      PSP               0.32             0.17\n",
       "5      PSV               0.17             0.05\n",
       "6      Wii               0.20             0.13\n",
       "7     WiiU               0.32             0.36\n",
       "8     X360               0.34             0.07\n",
       "9     XOne               0.38            -0.09"
      ]
     },
     "execution_count": 32,
     "metadata": {},
     "output_type": "execute_result"
    }
   ],
   "source": [
    "def calculate_correlation(type_platform):\n",
    "    corr_temp = modern_games.query('platform == @type_platform & critic_score != 0').corr()['profit']\n",
    "    corr_temp = corr_temp[['critic_score','user_score']]\n",
    "    correlation_dict.append([i,corr_temp[0],corr_temp[1]])\n",
    "\n",
    "all_platforms_dict = list(profit_modern_games.index.values.tolist()) \n",
    "\n",
    "#create and fill in the correlation table for all platforms\n",
    "correlation_dict = []\n",
    "for i in all_platforms_dict:\n",
    "    calculate_correlation(i)\n",
    "    \n",
    "correlation_dict = pd.DataFrame(correlation_dict, columns=['platform',\n",
    "                                                           'corr_critic_score',\n",
    "                                                           'corr_user_score']) \n",
    "correlation_dict"
   ]
  },
  {
   "cell_type": "markdown",
   "metadata": {},
   "source": [
    "On other platforms the situation is similar, but there are exceptions. For example, on the **WiiU** platform, user reviews affect sales. There are also platforms **[PSV, Wii]** where expert reviews have practically no effect on sales."
   ]
  },
  {
   "cell_type": "markdown",
   "metadata": {},
   "source": [
    "##### 3.7 Analysis of games by genre\n",
    "\n"
   ]
  },
  {
   "cell_type": "code",
   "execution_count": 33,
   "metadata": {},
   "outputs": [
    {
     "data": {
      "text/html": [
       "<div>\n",
       "<style scoped>\n",
       "    .dataframe tbody tr th:only-of-type {\n",
       "        vertical-align: middle;\n",
       "    }\n",
       "\n",
       "    .dataframe tbody tr th {\n",
       "        vertical-align: top;\n",
       "    }\n",
       "\n",
       "    .dataframe thead th {\n",
       "        text-align: right;\n",
       "    }\n",
       "</style>\n",
       "<table border=\"1\" class=\"dataframe\">\n",
       "  <thead>\n",
       "    <tr style=\"text-align: right;\">\n",
       "      <th></th>\n",
       "      <th>count</th>\n",
       "    </tr>\n",
       "    <tr>\n",
       "      <th>genre</th>\n",
       "      <th></th>\n",
       "    </tr>\n",
       "  </thead>\n",
       "  <tbody>\n",
       "    <tr>\n",
       "      <th>Action</th>\n",
       "      <td>1598</td>\n",
       "    </tr>\n",
       "    <tr>\n",
       "      <th>Sports</th>\n",
       "      <td>676</td>\n",
       "    </tr>\n",
       "    <tr>\n",
       "      <th>Misc</th>\n",
       "      <td>599</td>\n",
       "    </tr>\n",
       "    <tr>\n",
       "      <th>Role-Playing</th>\n",
       "      <td>598</td>\n",
       "    </tr>\n",
       "    <tr>\n",
       "      <th>Adventure</th>\n",
       "      <td>561</td>\n",
       "    </tr>\n",
       "    <tr>\n",
       "      <th>Shooter</th>\n",
       "      <td>490</td>\n",
       "    </tr>\n",
       "    <tr>\n",
       "      <th>Racing</th>\n",
       "      <td>290</td>\n",
       "    </tr>\n",
       "    <tr>\n",
       "      <th>Fighting</th>\n",
       "      <td>232</td>\n",
       "    </tr>\n",
       "    <tr>\n",
       "      <th>Simulation</th>\n",
       "      <td>212</td>\n",
       "    </tr>\n",
       "    <tr>\n",
       "      <th>Strategy</th>\n",
       "      <td>204</td>\n",
       "    </tr>\n",
       "    <tr>\n",
       "      <th>Platform</th>\n",
       "      <td>154</td>\n",
       "    </tr>\n",
       "    <tr>\n",
       "      <th>Puzzle</th>\n",
       "      <td>82</td>\n",
       "    </tr>\n",
       "  </tbody>\n",
       "</table>\n",
       "</div>"
      ],
      "text/plain": [
       "              count\n",
       "genre              \n",
       "Action         1598\n",
       "Sports          676\n",
       "Misc            599\n",
       "Role-Playing    598\n",
       "Adventure       561\n",
       "Shooter         490\n",
       "Racing          290\n",
       "Fighting        232\n",
       "Simulation      212\n",
       "Strategy        204\n",
       "Platform        154\n",
       "Puzzle           82"
      ]
     },
     "execution_count": 33,
     "metadata": {},
     "output_type": "execute_result"
    }
   ],
   "source": [
    "genre_count = modern_games.pivot_table(index = 'genre', values = 'name', aggfunc = 'count')\n",
    "genre_count.columns = ['count']\n",
    "genre_count.sort_values(by = 'count', ascending = False)\n"
   ]
  },
  {
   "cell_type": "markdown",
   "metadata": {},
   "source": [
    "Let's build a graph of the distribution of games by genre."
   ]
  },
  {
   "cell_type": "code",
   "execution_count": 34,
   "metadata": {},
   "outputs": [
    {
     "data": {
      "image/png": "[encoded data removed]",
      "text/plain": [
       "<Figure size 1080x1080 with 1 Axes>"
      ]
     },
     "metadata": {},
     "output_type": "display_data"
    }
   ],
   "source": [
    "\n",
    "genre_count = genre_count.sort_values(by = 'count', ascending = False)\n",
    "genre_count_dict = list(genre_count.index.values.tolist()) \n",
    "\n",
    "y_pos = np.arange(len(genre_count_dict))\n",
    "fig, ax = plt.subplots(figsize=(15, 15))\n",
    "fig.patch.set_facecolor('xkcd:mint green')\n",
    "plt.barh(y_pos, genre_count['count'], align='center', alpha=0.8, color='cornflowerblue' )\n",
    "plt.yticks(y_pos, genre_count_dict)\n",
    "plt.xlabel('Number of games')\n",
    "plt.title('Number of games released in each genre')\n",
    "\n",
    "plt.show()"
   ]
  },
  {
   "cell_type": "markdown",
   "metadata": {},
   "source": [
    "As we can see, the majority of games are in the **Action** and **Sports** genres. Least of all **Platform** and **Puzzle** games are released."
   ]
  },
  {
   "cell_type": "markdown",
   "metadata": {},
   "source": [
    "<div class=\"alert alert-success\">\n",
    "<b>Reviewer's comment: </b> Yes, you are right. Very good that you feel what kind of plot your should use for different cases.\n",
    "</div>"
   ]
  },
  {
   "cell_type": "markdown",
   "metadata": {},
   "source": [
    "Let's calculate the profit for each genre."
   ]
  },
  {
   "cell_type": "code",
   "execution_count": 35,
   "metadata": {},
   "outputs": [
    {
     "data": {
      "text/html": [
       "<div>\n",
       "<style scoped>\n",
       "    .dataframe tbody tr th:only-of-type {\n",
       "        vertical-align: middle;\n",
       "    }\n",
       "\n",
       "    .dataframe tbody tr th {\n",
       "        vertical-align: top;\n",
       "    }\n",
       "\n",
       "    .dataframe thead th {\n",
       "        text-align: right;\n",
       "    }\n",
       "</style>\n",
       "<table border=\"1\" class=\"dataframe\">\n",
       "  <thead>\n",
       "    <tr style=\"text-align: right;\">\n",
       "      <th></th>\n",
       "      <th>profit</th>\n",
       "    </tr>\n",
       "    <tr>\n",
       "      <th>genre</th>\n",
       "      <th></th>\n",
       "    </tr>\n",
       "  </thead>\n",
       "  <tbody>\n",
       "    <tr>\n",
       "      <th>Action</th>\n",
       "      <td>756.42</td>\n",
       "    </tr>\n",
       "    <tr>\n",
       "      <th>Shooter</th>\n",
       "      <td>548.69</td>\n",
       "    </tr>\n",
       "    <tr>\n",
       "      <th>Sports</th>\n",
       "      <td>447.17</td>\n",
       "    </tr>\n",
       "    <tr>\n",
       "      <th>Role-Playing</th>\n",
       "      <td>307.26</td>\n",
       "    </tr>\n",
       "    <tr>\n",
       "      <th>Misc</th>\n",
       "      <td>273.51</td>\n",
       "    </tr>\n",
       "    <tr>\n",
       "      <th>Platform</th>\n",
       "      <td>150.67</td>\n",
       "    </tr>\n",
       "    <tr>\n",
       "      <th>Racing</th>\n",
       "      <td>149.50</td>\n",
       "    </tr>\n",
       "    <tr>\n",
       "      <th>Fighting</th>\n",
       "      <td>109.13</td>\n",
       "    </tr>\n",
       "    <tr>\n",
       "      <th>Simulation</th>\n",
       "      <td>80.40</td>\n",
       "    </tr>\n",
       "    <tr>\n",
       "      <th>Adventure</th>\n",
       "      <td>61.77</td>\n",
       "    </tr>\n",
       "    <tr>\n",
       "      <th>Strategy</th>\n",
       "      <td>41.22</td>\n",
       "    </tr>\n",
       "    <tr>\n",
       "      <th>Puzzle</th>\n",
       "      <td>15.57</td>\n",
       "    </tr>\n",
       "  </tbody>\n",
       "</table>\n",
       "</div>"
      ],
      "text/plain": [
       "              profit\n",
       "genre               \n",
       "Action        756.42\n",
       "Shooter       548.69\n",
       "Sports        447.17\n",
       "Role-Playing  307.26\n",
       "Misc          273.51\n",
       "Platform      150.67\n",
       "Racing        149.50\n",
       "Fighting      109.13\n",
       "Simulation     80.40\n",
       "Adventure      61.77\n",
       "Strategy       41.22\n",
       "Puzzle         15.57"
      ]
     },
     "execution_count": 35,
     "metadata": {},
     "output_type": "execute_result"
    }
   ],
   "source": [
    "#genre / profit\n",
    "genre_profit = modern_games.pivot_table(index = 'genre', values = 'profit', aggfunc = 'sum')\n",
    "genre_profit.sort_values(by = 'profit', ascending = False)"
   ]
  },
  {
   "cell_type": "code",
   "execution_count": 36,
   "metadata": {},
   "outputs": [
    {
     "data": {
      "text/html": [
       "<div>\n",
       "<style scoped>\n",
       "    .dataframe tbody tr th:only-of-type {\n",
       "        vertical-align: middle;\n",
       "    }\n",
       "\n",
       "    .dataframe tbody tr th {\n",
       "        vertical-align: top;\n",
       "    }\n",
       "\n",
       "    .dataframe thead th {\n",
       "        text-align: right;\n",
       "    }\n",
       "</style>\n",
       "<table border=\"1\" class=\"dataframe\">\n",
       "  <thead>\n",
       "    <tr style=\"text-align: right;\">\n",
       "      <th></th>\n",
       "      <th>count</th>\n",
       "      <th>profit</th>\n",
       "    </tr>\n",
       "    <tr>\n",
       "      <th>genre</th>\n",
       "      <th></th>\n",
       "      <th></th>\n",
       "    </tr>\n",
       "  </thead>\n",
       "  <tbody>\n",
       "    <tr>\n",
       "      <th>Action</th>\n",
       "      <td>1598</td>\n",
       "      <td>756.42</td>\n",
       "    </tr>\n",
       "    <tr>\n",
       "      <th>Sports</th>\n",
       "      <td>676</td>\n",
       "      <td>447.17</td>\n",
       "    </tr>\n",
       "    <tr>\n",
       "      <th>Misc</th>\n",
       "      <td>599</td>\n",
       "      <td>273.51</td>\n",
       "    </tr>\n",
       "    <tr>\n",
       "      <th>Role-Playing</th>\n",
       "      <td>598</td>\n",
       "      <td>307.26</td>\n",
       "    </tr>\n",
       "    <tr>\n",
       "      <th>Adventure</th>\n",
       "      <td>561</td>\n",
       "      <td>61.77</td>\n",
       "    </tr>\n",
       "    <tr>\n",
       "      <th>Shooter</th>\n",
       "      <td>490</td>\n",
       "      <td>548.69</td>\n",
       "    </tr>\n",
       "    <tr>\n",
       "      <th>Racing</th>\n",
       "      <td>290</td>\n",
       "      <td>149.50</td>\n",
       "    </tr>\n",
       "    <tr>\n",
       "      <th>Fighting</th>\n",
       "      <td>232</td>\n",
       "      <td>109.13</td>\n",
       "    </tr>\n",
       "    <tr>\n",
       "      <th>Simulation</th>\n",
       "      <td>212</td>\n",
       "      <td>80.40</td>\n",
       "    </tr>\n",
       "    <tr>\n",
       "      <th>Strategy</th>\n",
       "      <td>204</td>\n",
       "      <td>41.22</td>\n",
       "    </tr>\n",
       "    <tr>\n",
       "      <th>Platform</th>\n",
       "      <td>154</td>\n",
       "      <td>150.67</td>\n",
       "    </tr>\n",
       "    <tr>\n",
       "      <th>Puzzle</th>\n",
       "      <td>82</td>\n",
       "      <td>15.57</td>\n",
       "    </tr>\n",
       "  </tbody>\n",
       "</table>\n",
       "</div>"
      ],
      "text/plain": [
       "              count  profit\n",
       "genre                      \n",
       "Action         1598  756.42\n",
       "Sports          676  447.17\n",
       "Misc            599  273.51\n",
       "Role-Playing    598  307.26\n",
       "Adventure       561   61.77\n",
       "Shooter         490  548.69\n",
       "Racing          290  149.50\n",
       "Fighting        232  109.13\n",
       "Simulation      212   80.40\n",
       "Strategy        204   41.22\n",
       "Platform        154  150.67\n",
       "Puzzle           82   15.57"
      ]
     },
     "execution_count": 36,
     "metadata": {},
     "output_type": "execute_result"
    }
   ],
   "source": [
    "genre_count['profit'] = genre_profit['profit']\n",
    "genre_count.sort_values(by = 'count', ascending = False, inplace = True)\n",
    "genre_count"
   ]
  },
  {
   "cell_type": "code",
   "execution_count": 37,
   "metadata": {},
   "outputs": [
    {
     "data": {
      "image/png": "[encoded data removed]",
      "text/plain": [
       "<Figure size 1080x432 with 1 Axes>"
      ]
     },
     "metadata": {},
     "output_type": "display_data"
    }
   ],
   "source": [
    "# one chart with two columns per genre / quantity + profit\n",
    "all_platforms_dict = list(genre_count.index.values.tolist()) \n",
    "n_groups = len(all_platforms_dict)\n",
    "\n",
    "# create plot\n",
    "fig, ax = plt.subplots(figsize=(15, 6))\n",
    "fig.patch.set_facecolor('xkcd:mint green')\n",
    "index = np.arange(n_groups)\n",
    "bar_width = 0.45\n",
    "opacity = 0.8\n",
    "rects1 = plt.bar(index, genre_count['count'], bar_width,\n",
    "                 alpha=opacity,\n",
    "                 color='orange',\n",
    "                 label='Number of games')\n",
    "\n",
    "rects2 = plt.bar(index + bar_width, genre_count['profit'], bar_width,\n",
    "                 alpha=opacity,\n",
    "                 color='cornflowerblue',\n",
    "                 label='Profit')\n",
    "\n",
    "plt.xlabel('Jenre')\n",
    "plt.ylabel('Number')\n",
    "plt.title('Distribution of games by genre')\n",
    "\n",
    "plt.xticks(index + bar_width-0.2, all_platforms_dict)\n",
    "plt.legend()\n",
    "\n",
    "plt.tight_layout()\n",
    "plt.show()"
   ]
  },
  {
   "cell_type": "markdown",
   "metadata": {},
   "source": [
    "The TOP 3 genres with the highest profit include: **[Action, Shooter, Sports]**<br />\n",
    "The lowest profits are from the **[Puzzle, Strategy, Adventure]** genres. <br />The **Adventure** genre looks strange. A large number of games are created, and the profit from them is the smallest."
   ]
  },
  {
   "cell_type": "markdown",
   "metadata": {},
   "source": [
    "<div class=\"alert alert-success\">\n",
    "<b>Reviewer's comment: </b> 👍\n",
    "</div>"
   ]
  },
  {
   "cell_type": "markdown",
   "metadata": {},
   "source": [
    "### Step 4. User profiles from different regions<a name=\"user_profile\"></a>\n",
    "<br />\n",
    "Let's create a user profile for each region. <br />\n",
    "Let's define TOP 5 sales platforms. <br />\n",
    "Let's define TOP 5 genres according to the best sales. <br />\n",
    "Let's examin the impact of ESRB ratings on sales in selected regions?"
   ]
  },
  {
   "cell_type": "markdown",
   "metadata": {},
   "source": [
    "#### 4.1 North America"
   ]
  },
  {
   "cell_type": "code",
   "execution_count": 38,
   "metadata": {},
   "outputs": [
    {
     "data": {
      "text/html": [
       "<div>\n",
       "<style scoped>\n",
       "    .dataframe tbody tr th:only-of-type {\n",
       "        vertical-align: middle;\n",
       "    }\n",
       "\n",
       "    .dataframe tbody tr th {\n",
       "        vertical-align: top;\n",
       "    }\n",
       "\n",
       "    .dataframe thead th {\n",
       "        text-align: right;\n",
       "    }\n",
       "</style>\n",
       "<table border=\"1\" class=\"dataframe\">\n",
       "  <thead>\n",
       "    <tr style=\"text-align: right;\">\n",
       "      <th></th>\n",
       "      <th>profit</th>\n",
       "      <th>share_profit</th>\n",
       "    </tr>\n",
       "    <tr>\n",
       "      <th>platform</th>\n",
       "      <th></th>\n",
       "      <th></th>\n",
       "    </tr>\n",
       "  </thead>\n",
       "  <tbody>\n",
       "    <tr>\n",
       "      <th>PS3</th>\n",
       "      <td>694.25</td>\n",
       "      <td>25.13</td>\n",
       "    </tr>\n",
       "    <tr>\n",
       "      <th>X360</th>\n",
       "      <td>670.99</td>\n",
       "      <td>24.29</td>\n",
       "    </tr>\n",
       "    <tr>\n",
       "      <th>Wii</th>\n",
       "      <td>415.72</td>\n",
       "      <td>15.05</td>\n",
       "    </tr>\n",
       "    <tr>\n",
       "      <th>PS4</th>\n",
       "      <td>307.48</td>\n",
       "      <td>11.13</td>\n",
       "    </tr>\n",
       "    <tr>\n",
       "      <th>3DS</th>\n",
       "      <td>218.93</td>\n",
       "      <td>7.92</td>\n",
       "    </tr>\n",
       "  </tbody>\n",
       "</table>\n",
       "</div>"
      ],
      "text/plain": [
       "          profit  share_profit\n",
       "platform                      \n",
       "PS3       694.25         25.13\n",
       "X360      670.99         24.29\n",
       "Wii       415.72         15.05\n",
       "PS4       307.48         11.13\n",
       "3DS       218.93          7.92"
      ]
     },
     "execution_count": 38,
     "metadata": {},
     "output_type": "execute_result"
    }
   ],
   "source": [
    "#platforms\n",
    "modern_games_na = modern_games.query('na_sales != 0')\n",
    "modern_games_na_platforms = ( modern_games_na.\n",
    "                             pivot_table(index = 'platform', \n",
    "                                         values = 'profit', \n",
    "                                         aggfunc = 'sum' )\n",
    "                             .sort_values(by = 'profit', \n",
    "                                          ascending = False)                                \n",
    "                            )\n",
    "total_profit_na = modern_games_na_platforms['profit'].sum()\n",
    "modern_games_na_platforms['share_profit'] = modern_games_na_platforms['profit'] / total_profit_na * 100\n",
    "modern_games_na_platforms.head(5)\n"
   ]
  },
  {
   "cell_type": "code",
   "execution_count": 39,
   "metadata": {},
   "outputs": [
    {
     "data": {
      "text/html": [
       "<div>\n",
       "<style scoped>\n",
       "    .dataframe tbody tr th:only-of-type {\n",
       "        vertical-align: middle;\n",
       "    }\n",
       "\n",
       "    .dataframe tbody tr th {\n",
       "        vertical-align: top;\n",
       "    }\n",
       "\n",
       "    .dataframe thead th {\n",
       "        text-align: right;\n",
       "    }\n",
       "</style>\n",
       "<table border=\"1\" class=\"dataframe\">\n",
       "  <thead>\n",
       "    <tr style=\"text-align: right;\">\n",
       "      <th></th>\n",
       "      <th>profit</th>\n",
       "      <th>share_profit</th>\n",
       "    </tr>\n",
       "    <tr>\n",
       "      <th>genre</th>\n",
       "      <th></th>\n",
       "      <th></th>\n",
       "    </tr>\n",
       "  </thead>\n",
       "  <tbody>\n",
       "    <tr>\n",
       "      <th>Action</th>\n",
       "      <td>712.63</td>\n",
       "      <td>25.80</td>\n",
       "    </tr>\n",
       "    <tr>\n",
       "      <th>Shooter</th>\n",
       "      <td>545.03</td>\n",
       "      <td>19.73</td>\n",
       "    </tr>\n",
       "    <tr>\n",
       "      <th>Sports</th>\n",
       "      <td>428.12</td>\n",
       "      <td>15.50</td>\n",
       "    </tr>\n",
       "    <tr>\n",
       "      <th>Role-Playing</th>\n",
       "      <td>263.77</td>\n",
       "      <td>9.55</td>\n",
       "    </tr>\n",
       "    <tr>\n",
       "      <th>Misc</th>\n",
       "      <td>250.71</td>\n",
       "      <td>9.08</td>\n",
       "    </tr>\n",
       "  </tbody>\n",
       "</table>\n",
       "</div>"
      ],
      "text/plain": [
       "              profit  share_profit\n",
       "genre                             \n",
       "Action        712.63         25.80\n",
       "Shooter       545.03         19.73\n",
       "Sports        428.12         15.50\n",
       "Role-Playing  263.77          9.55\n",
       "Misc          250.71          9.08"
      ]
     },
     "execution_count": 39,
     "metadata": {},
     "output_type": "execute_result"
    }
   ],
   "source": [
    "#genre\n",
    "modern_games_na_genre = ( modern_games_na.\n",
    "                         pivot_table(index = 'genre', \n",
    "                                     values = 'profit', \n",
    "                                     aggfunc = 'sum' )\n",
    "                         .sort_values(by = 'profit', \n",
    "                                      ascending = False)                                \n",
    "                        )\n",
    "\n",
    "modern_games_na_genre['share_profit'] = modern_games_na_genre['profit'] / total_profit_na * 100\n",
    "modern_games_na_genre.head(5)"
   ]
  },
  {
   "cell_type": "markdown",
   "metadata": {},
   "source": [
    "#### 4.2 Europe"
   ]
  },
  {
   "cell_type": "code",
   "execution_count": 40,
   "metadata": {},
   "outputs": [
    {
     "data": {
      "text/html": [
       "<div>\n",
       "<style scoped>\n",
       "    .dataframe tbody tr th:only-of-type {\n",
       "        vertical-align: middle;\n",
       "    }\n",
       "\n",
       "    .dataframe tbody tr th {\n",
       "        vertical-align: top;\n",
       "    }\n",
       "\n",
       "    .dataframe thead th {\n",
       "        text-align: right;\n",
       "    }\n",
       "</style>\n",
       "<table border=\"1\" class=\"dataframe\">\n",
       "  <thead>\n",
       "    <tr style=\"text-align: right;\">\n",
       "      <th></th>\n",
       "      <th>profit</th>\n",
       "      <th>share_profit</th>\n",
       "    </tr>\n",
       "    <tr>\n",
       "      <th>platform</th>\n",
       "      <th></th>\n",
       "      <th></th>\n",
       "    </tr>\n",
       "  </thead>\n",
       "  <tbody>\n",
       "    <tr>\n",
       "      <th>PS3</th>\n",
       "      <td>682.73</td>\n",
       "      <td>25.20</td>\n",
       "    </tr>\n",
       "    <tr>\n",
       "      <th>X360</th>\n",
       "      <td>653.89</td>\n",
       "      <td>24.13</td>\n",
       "    </tr>\n",
       "    <tr>\n",
       "      <th>Wii</th>\n",
       "      <td>379.15</td>\n",
       "      <td>13.99</td>\n",
       "    </tr>\n",
       "    <tr>\n",
       "      <th>PS4</th>\n",
       "      <td>306.41</td>\n",
       "      <td>11.31</td>\n",
       "    </tr>\n",
       "    <tr>\n",
       "      <th>3DS</th>\n",
       "      <td>214.64</td>\n",
       "      <td>7.92</td>\n",
       "    </tr>\n",
       "  </tbody>\n",
       "</table>\n",
       "</div>"
      ],
      "text/plain": [
       "          profit  share_profit\n",
       "platform                      \n",
       "PS3       682.73         25.20\n",
       "X360      653.89         24.13\n",
       "Wii       379.15         13.99\n",
       "PS4       306.41         11.31\n",
       "3DS       214.64          7.92"
      ]
     },
     "execution_count": 40,
     "metadata": {},
     "output_type": "execute_result"
    }
   ],
   "source": [
    "#platforms\n",
    "modern_games_eu = modern_games.query('eu_sales != 0')\n",
    "modern_games_eu_platforms = ( modern_games_eu.\n",
    "                             pivot_table(index = 'platform', \n",
    "                                         values = 'profit', \n",
    "                                         aggfunc = 'sum' )\n",
    "                             .sort_values(by = 'profit', \n",
    "                                          ascending = False)                                \n",
    "                            )\n",
    "total_profit_eu = modern_games_eu_platforms['profit'].sum()\n",
    "modern_games_eu_platforms['share_profit'] = modern_games_eu_platforms['profit'] / total_profit_eu * 100\n",
    "modern_games_eu_platforms.head(5)"
   ]
  },
  {
   "cell_type": "code",
   "execution_count": 41,
   "metadata": {},
   "outputs": [
    {
     "data": {
      "text/html": [
       "<div>\n",
       "<style scoped>\n",
       "    .dataframe tbody tr th:only-of-type {\n",
       "        vertical-align: middle;\n",
       "    }\n",
       "\n",
       "    .dataframe tbody tr th {\n",
       "        vertical-align: top;\n",
       "    }\n",
       "\n",
       "    .dataframe thead th {\n",
       "        text-align: right;\n",
       "    }\n",
       "</style>\n",
       "<table border=\"1\" class=\"dataframe\">\n",
       "  <thead>\n",
       "    <tr style=\"text-align: right;\">\n",
       "      <th></th>\n",
       "      <th>profit</th>\n",
       "      <th>share_profit</th>\n",
       "    </tr>\n",
       "    <tr>\n",
       "      <th>genre</th>\n",
       "      <th></th>\n",
       "      <th></th>\n",
       "    </tr>\n",
       "  </thead>\n",
       "  <tbody>\n",
       "    <tr>\n",
       "      <th>Action</th>\n",
       "      <td>707.07</td>\n",
       "      <td>26.10</td>\n",
       "    </tr>\n",
       "    <tr>\n",
       "      <th>Shooter</th>\n",
       "      <td>543.46</td>\n",
       "      <td>20.06</td>\n",
       "    </tr>\n",
       "    <tr>\n",
       "      <th>Sports</th>\n",
       "      <td>401.11</td>\n",
       "      <td>14.80</td>\n",
       "    </tr>\n",
       "    <tr>\n",
       "      <th>Role-Playing</th>\n",
       "      <td>257.74</td>\n",
       "      <td>9.51</td>\n",
       "    </tr>\n",
       "    <tr>\n",
       "      <th>Misc</th>\n",
       "      <td>238.74</td>\n",
       "      <td>8.81</td>\n",
       "    </tr>\n",
       "  </tbody>\n",
       "</table>\n",
       "</div>"
      ],
      "text/plain": [
       "              profit  share_profit\n",
       "genre                             \n",
       "Action        707.07         26.10\n",
       "Shooter       543.46         20.06\n",
       "Sports        401.11         14.80\n",
       "Role-Playing  257.74          9.51\n",
       "Misc          238.74          8.81"
      ]
     },
     "execution_count": 41,
     "metadata": {},
     "output_type": "execute_result"
    }
   ],
   "source": [
    "#genre\n",
    "modern_games_eu_genre = ( modern_games_eu.\n",
    "                         pivot_table(index = 'genre', \n",
    "                                     values = 'profit', \n",
    "                                     aggfunc = 'sum' )\n",
    "                         .sort_values(by = 'profit', \n",
    "                                      ascending = False)                                \n",
    "                        )\n",
    "\n",
    "modern_games_eu_genre['share_profit'] = modern_games_eu_genre['profit'] / total_profit_eu * 100\n",
    "modern_games_eu_genre.head(5)"
   ]
  },
  {
   "cell_type": "markdown",
   "metadata": {},
   "source": [
    "##### 4.3 Japan"
   ]
  },
  {
   "cell_type": "code",
   "execution_count": 42,
   "metadata": {},
   "outputs": [
    {
     "data": {
      "text/html": [
       "<div>\n",
       "<style scoped>\n",
       "    .dataframe tbody tr th:only-of-type {\n",
       "        vertical-align: middle;\n",
       "    }\n",
       "\n",
       "    .dataframe tbody tr th {\n",
       "        vertical-align: top;\n",
       "    }\n",
       "\n",
       "    .dataframe thead th {\n",
       "        text-align: right;\n",
       "    }\n",
       "</style>\n",
       "<table border=\"1\" class=\"dataframe\">\n",
       "  <thead>\n",
       "    <tr style=\"text-align: right;\">\n",
       "      <th></th>\n",
       "      <th>profit</th>\n",
       "      <th>share_profit</th>\n",
       "    </tr>\n",
       "    <tr>\n",
       "      <th>platform</th>\n",
       "      <th></th>\n",
       "      <th></th>\n",
       "    </tr>\n",
       "  </thead>\n",
       "  <tbody>\n",
       "    <tr>\n",
       "      <th>PS3</th>\n",
       "      <td>547.52</td>\n",
       "      <td>28.94</td>\n",
       "    </tr>\n",
       "    <tr>\n",
       "      <th>X360</th>\n",
       "      <td>416.54</td>\n",
       "      <td>22.02</td>\n",
       "    </tr>\n",
       "    <tr>\n",
       "      <th>PS4</th>\n",
       "      <td>264.86</td>\n",
       "      <td>14.00</td>\n",
       "    </tr>\n",
       "    <tr>\n",
       "      <th>3DS</th>\n",
       "      <td>234.61</td>\n",
       "      <td>12.40</td>\n",
       "    </tr>\n",
       "    <tr>\n",
       "      <th>Wii</th>\n",
       "      <td>192.54</td>\n",
       "      <td>10.18</td>\n",
       "    </tr>\n",
       "  </tbody>\n",
       "</table>\n",
       "</div>"
      ],
      "text/plain": [
       "          profit  share_profit\n",
       "platform                      \n",
       "PS3       547.52         28.94\n",
       "X360      416.54         22.02\n",
       "PS4       264.86         14.00\n",
       "3DS       234.61         12.40\n",
       "Wii       192.54         10.18"
      ]
     },
     "execution_count": 42,
     "metadata": {},
     "output_type": "execute_result"
    }
   ],
   "source": [
    "#platforms\n",
    "modern_games_jp = modern_games.query('jp_sales != 0')\n",
    "modern_games_jp_platforms = ( modern_games_jp.\n",
    "                             pivot_table(index = 'platform', \n",
    "                                         values = 'profit', \n",
    "                                         aggfunc = 'sum' )\n",
    "                             .sort_values(by = 'profit', \n",
    "                                          ascending = False)                                \n",
    "                            )\n",
    "total_profit_jp = modern_games_jp_platforms['profit'].sum()\n",
    "modern_games_jp_platforms['share_profit'] = modern_games_jp_platforms['profit'] / total_profit_jp * 100\n",
    "modern_games_jp_platforms.head(5)"
   ]
  },
  {
   "cell_type": "code",
   "execution_count": 43,
   "metadata": {},
   "outputs": [
    {
     "data": {
      "text/html": [
       "<div>\n",
       "<style scoped>\n",
       "    .dataframe tbody tr th:only-of-type {\n",
       "        vertical-align: middle;\n",
       "    }\n",
       "\n",
       "    .dataframe tbody tr th {\n",
       "        vertical-align: top;\n",
       "    }\n",
       "\n",
       "    .dataframe thead th {\n",
       "        text-align: right;\n",
       "    }\n",
       "</style>\n",
       "<table border=\"1\" class=\"dataframe\">\n",
       "  <thead>\n",
       "    <tr style=\"text-align: right;\">\n",
       "      <th></th>\n",
       "      <th>profit</th>\n",
       "      <th>share_profit</th>\n",
       "    </tr>\n",
       "    <tr>\n",
       "      <th>genre</th>\n",
       "      <th></th>\n",
       "      <th></th>\n",
       "    </tr>\n",
       "  </thead>\n",
       "  <tbody>\n",
       "    <tr>\n",
       "      <th>Action</th>\n",
       "      <td>489.70</td>\n",
       "      <td>25.88</td>\n",
       "    </tr>\n",
       "    <tr>\n",
       "      <th>Shooter</th>\n",
       "      <td>428.05</td>\n",
       "      <td>22.62</td>\n",
       "    </tr>\n",
       "    <tr>\n",
       "      <th>Role-Playing</th>\n",
       "      <td>255.69</td>\n",
       "      <td>13.51</td>\n",
       "    </tr>\n",
       "    <tr>\n",
       "      <th>Sports</th>\n",
       "      <td>222.99</td>\n",
       "      <td>11.79</td>\n",
       "    </tr>\n",
       "    <tr>\n",
       "      <th>Platform</th>\n",
       "      <td>125.36</td>\n",
       "      <td>6.63</td>\n",
       "    </tr>\n",
       "  </tbody>\n",
       "</table>\n",
       "</div>"
      ],
      "text/plain": [
       "              profit  share_profit\n",
       "genre                             \n",
       "Action        489.70         25.88\n",
       "Shooter       428.05         22.62\n",
       "Role-Playing  255.69         13.51\n",
       "Sports        222.99         11.79\n",
       "Platform      125.36          6.63"
      ]
     },
     "execution_count": 43,
     "metadata": {},
     "output_type": "execute_result"
    }
   ],
   "source": [
    "#genre\n",
    "modern_games_jp_genre = ( modern_games_jp.\n",
    "                         pivot_table(index = 'genre', \n",
    "                                     values = 'profit', \n",
    "                                     aggfunc = 'sum' )\n",
    "                         .sort_values(by = 'profit', \n",
    "                                      ascending = False)                                \n",
    "                        )\n",
    "modern_games_jp_genre['share_profit'] = modern_games_jp_genre['profit'] / total_profit_jp * 100\n",
    "modern_games_jp_genre.head(5)"
   ]
  },
  {
   "cell_type": "markdown",
   "metadata": {},
   "source": [
    "Conclusion:<br /> The most popular platforms are the same in all regions. In North America and Europe, even the shares are almost the same. The only difference in Japan is the low popularity of the Wii platform, it is in the last, fifth place, while in Europe it is in third.<br />\n",
    "As for genres, in Europe and North America, the same genres are popular, and with about the same proportion. In Japan, the Platform genre is in the top 5."
   ]
  },
  {
   "cell_type": "markdown",
   "metadata": {},
   "source": [
    "Let's build a graph of the distribution of games by ESRB rating in different regions."
   ]
  },
  {
   "cell_type": "code",
   "execution_count": 44,
   "metadata": {},
   "outputs": [
    {
     "data": {
      "image/png": "[encoded data removed]",
      "text/plain": [
       "<Figure size 1080x432 with 1 Axes>"
      ]
     },
     "metadata": {},
     "output_type": "display_data"
    }
   ],
   "source": [
    "rating_esrb_na = modern_games_na.pivot_table(index = 'rating', \n",
    "                                             values = 'name', \n",
    "                                             aggfunc = 'count').sort_values(by = 'name',\n",
    "                                                                            ascending = False)\n",
    "rating_esrb_eu = modern_games_eu.pivot_table(index = 'rating', \n",
    "                                             values = 'name', \n",
    "                                             aggfunc = 'count')\n",
    "\n",
    "rating_esrb_jp = modern_games_jp.pivot_table(index = 'rating', \n",
    "                                             values = 'name', \n",
    "                                             aggfunc = 'count')\n",
    "rating_esrb = rating_esrb_na\n",
    "rating_esrb['eu'] = rating_esrb_eu['name']\n",
    "rating_esrb['jp'] = rating_esrb_jp['name']\n",
    "rating_esrb.columns = ['na','eu','jp']\n",
    "\n",
    "count_esrb_na = rating_esrb['na'].sum()\n",
    "count_esrb_eu = rating_esrb['eu'].sum()\n",
    "count_esrb_jp = rating_esrb['jp'].sum()\n",
    "\n",
    "rating_esrb['na_per'] = rating_esrb['na']/count_esrb_na * 100\n",
    "rating_esrb['eu_per'] = rating_esrb['eu']/count_esrb_eu * 100\n",
    "rating_esrb['jp_per'] = rating_esrb['jp']/count_esrb_jp * 100\n",
    "\n",
    "raiting_dict = ['> 13 y.o.','Everyone','> 17 y.o.','> 10 y.o.','Preschool']\n",
    "n = len(raiting_dict)\n",
    "\n",
    "ind = np.arange(n) \n",
    "width = 0.2    \n",
    "fig, ax = plt.subplots(figsize=(15, 6))\n",
    "plt.bar(ind, rating_esrb['na_per'], width, label='North America')\n",
    "plt.bar(ind - width, rating_esrb['eu_per'], width, label='Europe')\n",
    "plt.bar(ind + width, rating_esrb['jp_per'], width, label='Japan')\n",
    "\n",
    "plt.ylabel('Count')\n",
    "plt.title('Distribution of games according to rating')\n",
    "\n",
    "plt.xticks(ind, raiting_dict)\n",
    "plt.legend(loc='upper right')\n",
    "plt.show()\n"
   ]
  },
  {
   "cell_type": "markdown",
   "metadata": {},
   "source": [
    "We see that in different regions, age groups differ. As you can see from the histogram, in Japan games with a rating **\"> 13 y.o.\"** take more than 38%, while in Europe and the USA only 28%, and games with a rating **\"> 10 y.o\"** are also not very popular in Japan. Other types of ratings have approximately the same share in different regions.\n"
   ]
  },
  {
   "cell_type": "markdown",
   "metadata": {},
   "source": [
    "<div class=\"alert alert-success\">\n",
    "<b>Reviewer's comment: </b> Excellent plot!\n",
    "</div>"
   ]
  },
  {
   "cell_type": "markdown",
   "metadata": {},
   "source": [
    "### Step 5.<a name=\"hypotheses\"></a>"
   ]
  },
  {
   "cell_type": "markdown",
   "metadata": {},
   "source": [
    "Consider 2 hypotheses:\n",
    "\n",
    "Average user ratings of the Xbox One and PC platforms are the same.<br />\n",
    "Average user ratings for the Action and Sports genres are different."
   ]
  },
  {
   "cell_type": "markdown",
   "metadata": {},
   "source": [
    "##### 5.1 Average user ratings of the Xbox One and PC platforms are the same.\n",
    "**Hypothese Null:** Average user ratings of the Xbox One and PC platforms are the same. <br />**Hypothese alternative:** Average user ratings of the Xbox One and PC platforms are different.\n",
    "\n",
    "In this case: Hypothesis on the Equality of Two Population Means.\n",
    "\n",
    "Each sample has more than 50 records, which means the samples are large enough to test hypotheses.\n",
    "\n",
    "Let's find out the variance for each samples.<br />\n",
    "Set **alpha** = 0.05, since we are evaluating a hypothesis for a business problem."
   ]
  },
  {
   "cell_type": "code",
   "execution_count": 45,
   "metadata": {},
   "outputs": [
    {
     "name": "stdout",
     "output_type": "stream",
     "text": [
      "The variance \"Xbox One\" is 1.88\n",
      "The variance \"PC\" is 2.40\n"
     ]
    }
   ],
   "source": [
    "user_score_df = modern_games[modern_games.user_score.notnull()].reset_index(drop=True)\n",
    "platform_xone_user_score = user_score_df[user_score_df.platform == \"XOne\"].user_score.reset_index(drop=True)\n",
    "platform_pc_user_score = user_score_df[user_score_df.platform == \"PC\"].user_score.reset_index(drop=True)\n",
    "\n",
    "print('The variance \"Xbox One\" is {:.02f}'.format(np.var(platform_xone_user_score)))\n",
    "print('The variance \"PC\" is {:.02f}'.format(np.var(platform_pc_user_score)))"
   ]
  },
  {
   "cell_type": "markdown",
   "metadata": {},
   "source": [
    "<div class=\"alert alert-success\">\n",
    "<b>Reviewer's comment: </b> Good, that you paided attention to the variance check!\n",
    "</div>"
   ]
  },
  {
   "cell_type": "markdown",
   "metadata": {},
   "source": [
    "To test the hypothesis, we will use T-test.\n",
    "Let's build graphs."
   ]
  },
  {
   "cell_type": "code",
   "execution_count": 46,
   "metadata": {},
   "outputs": [
    {
     "data": {
      "text/plain": [
       "Text(0.5, 1.0, 'QQ plots. Xbox One Platform User Ratings')"
      ]
     },
     "execution_count": 46,
     "metadata": {},
     "output_type": "execute_result"
    },
    {
     "data": {
      "image/png": "[encoded data removed]",
      "text/plain": [
       "<Figure size 432x288 with 1 Axes>"
      ]
     },
     "metadata": {},
     "output_type": "display_data"
    }
   ],
   "source": [
    "st.probplot(platform_xone_user_score, dist=\"norm\", plot= plt)\n",
    "plt.title(\"QQ plots. Xbox One Platform User Ratings\")"
   ]
  },
  {
   "cell_type": "markdown",
   "metadata": {},
   "source": [
    "The plotted graph, we inform us that the data has a distribution of the **\"Skew Left\"** type"
   ]
  },
  {
   "cell_type": "code",
   "execution_count": 47,
   "metadata": {},
   "outputs": [
    {
     "data": {
      "text/plain": [
       "Text(0.5, 1.0, 'QQ plots. PC Platform User Ratings')"
      ]
     },
     "execution_count": 47,
     "metadata": {},
     "output_type": "execute_result"
    },
    {
     "data": {
      "image/png": "[encoded data removed]",
      "text/plain": [
       "<Figure size 432x288 with 1 Axes>"
      ]
     },
     "metadata": {},
     "output_type": "display_data"
    }
   ],
   "source": [
    "st.probplot(platform_pc_user_score, dist=\"norm\", plot= plt)\n",
    "plt.title(\"QQ plots. PC Platform User Ratings\")\n"
   ]
  },
  {
   "cell_type": "markdown",
   "metadata": {},
   "source": [
    "<div class=\"alert alert-warning\">\n",
    "<b>Reviewer's comment: </b> Good! You can check normality more formal with the Shapiro-Wilk test:<br> <a>https://docs.scipy.org/doc/scipy/reference/generated/scipy.stats.shapiro.html</a>\n",
    "</div>"
   ]
  },
  {
   "cell_type": "code",
   "execution_count": 48,
   "metadata": {},
   "outputs": [
    {
     "name": "stdout",
     "output_type": "stream",
     "text": [
      "0.7481656021153811\n",
      "We can't reject the null hypothesis\n"
     ]
    }
   ],
   "source": [
    "alpha = 0.05 #business case \n",
    "# Let's check our hypothesis\n",
    "result = st.stats.ttest_ind(\n",
    "    platform_xone_user_score,\n",
    "    platform_pc_user_score,\n",
    "    equal_var = False)\n",
    "print(result.pvalue)\n",
    "\n",
    "if (result.pvalue < alpha):\n",
    "        print(\"We reject the null hypothesis\")\n",
    "else:\n",
    "        print(\"We can't reject the null hypothesis\") "
   ]
  },
  {
   "cell_type": "markdown",
   "metadata": {},
   "source": [
    "Conclusion:\n",
    "\n",
    "The empirically obtained data does not disprove the null hypothesis, and we have no reason to argue that the average user ratings of the **Xbox One** and **PC** platforms are different."
   ]
  },
  {
   "cell_type": "markdown",
   "metadata": {},
   "source": [
    "##### 5.2 Average user ratings for the Action and Sports genres are different.\n",
    "\n",
    "**Hypothese Null:** Average user ratings for the Action and Sports genres are the same.<br />\n",
    "**Hypothese alternative:** Average user ratings for the Action and Sports genres are different.\n",
    "\n",
    "In this case: Hypothesis on the Equality of Two Population Means.\n",
    "\n",
    "Each sample has more than 50 records, which means the samples are large enough to test hypotheses.\n",
    "\n",
    "Let's find out the variance for each samples.\n",
    "Set alpha = 0.05, since we are evaluating a hypothesis for a business problem."
   ]
  },
  {
   "cell_type": "markdown",
   "metadata": {},
   "source": [
    "<div class=\"alert alert-success\">\n",
    "<b>Reviewer's comment: </b> Great that you paided so much attention to the hypotheses formulation!\n",
    "</div>"
   ]
  },
  {
   "cell_type": "code",
   "execution_count": 49,
   "metadata": {},
   "outputs": [
    {
     "name": "stdout",
     "output_type": "stream",
     "text": [
      "The variance \"Action\" is 1.80\n",
      "The variance \"Sports\" is 2.84\n"
     ]
    }
   ],
   "source": [
    "genre_action_user_score = user_score_df[user_score_df.genre == \"Action\"].user_score.reset_index(drop=True)\n",
    "genre_sports_user_score = user_score_df[user_score_df.genre == \"Sports\"].user_score.reset_index(drop=True)\n",
    "\n",
    "print('The variance \"Action\" is {:.02f}'.format(np.var(genre_action_user_score)))\n",
    "print('The variance \"Sports\" is {:.02f}'.format(np.var(genre_sports_user_score)))"
   ]
  },
  {
   "cell_type": "markdown",
   "metadata": {},
   "source": [
    "To test the hypothesis, we will use T-test. Let's build graphs."
   ]
  },
  {
   "cell_type": "code",
   "execution_count": 50,
   "metadata": {},
   "outputs": [
    {
     "data": {
      "text/plain": [
       "Text(0.5, 1.0, 'QQ plots. User ratings of the genre Action')"
      ]
     },
     "execution_count": 50,
     "metadata": {},
     "output_type": "execute_result"
    },
    {
     "data": {
      "image/png": "[encoded data removed]",
      "text/plain": [
       "<Figure size 432x288 with 1 Axes>"
      ]
     },
     "metadata": {},
     "output_type": "display_data"
    }
   ],
   "source": [
    "st.probplot(genre_action_user_score, dist=\"norm\", plot= plt)\n",
    "plt.title(\"QQ plots. User ratings of the genre Action\")"
   ]
  },
  {
   "cell_type": "code",
   "execution_count": 51,
   "metadata": {},
   "outputs": [
    {
     "data": {
      "text/plain": [
       "Text(0.5, 1.0, 'QQ plots. User ratings of the genre Sports')"
      ]
     },
     "execution_count": 51,
     "metadata": {},
     "output_type": "execute_result"
    },
    {
     "data": {
      "image/png": "[encoded data removed]",
      "text/plain": [
       "<Figure size 432x288 with 1 Axes>"
      ]
     },
     "metadata": {},
     "output_type": "display_data"
    }
   ],
   "source": [
    "st.probplot(genre_sports_user_score, dist=\"norm\", plot= plt)\n",
    "plt.title(\"QQ plots. User ratings of the genre Sports\")"
   ]
  },
  {
   "cell_type": "markdown",
   "metadata": {},
   "source": [
    "<div class=\"alert alert-warning\">\n",
    "<b>Reviewer's comment: </b> Small tip: You can align these plot side by side with plt.subplots: <a>https://pythonspot.com/matplotlib-subplot/</a>\n",
    "</div>"
   ]
  },
  {
   "cell_type": "code",
   "execution_count": 52,
   "metadata": {},
   "outputs": [
    {
     "name": "stdout",
     "output_type": "stream",
     "text": [
      "1.73766222215759e-17\n",
      "We reject the null hypothesis\n"
     ]
    }
   ],
   "source": [
    "alpha = 0.05 #business case \n",
    "# Let's check our hypothesis\n",
    "result = st.stats.ttest_ind(\n",
    "    genre_action_user_score,\n",
    "    genre_sports_user_score,\n",
    "    equal_var = False)\n",
    "print(result.pvalue)\n",
    "\n",
    "if (result.pvalue < alpha):\n",
    "        print(\"We reject the null hypothesis\")\n",
    "else:\n",
    "        print(\"We can't reject the null hypothesis\") "
   ]
  },
  {
   "cell_type": "markdown",
   "metadata": {},
   "source": [
    "Conclusion:<br />\n",
    "The hypothesis that the average user ratings for the **Action** and **Sports** genres are the same has not been confirmed.\n",
    "\n",
    "An interesting fact was also noticed that if we test hypotheses not on actual data since 2009, but for the full period of data collection, then the answer will be the opposite (We will discard the null hypothesis in the first case, and we will not have justification to discard the null hypothesis in second case). But since we are making a forecast for 2017, it is correct to use actual data to test the hypothesis.\n"
   ]
  },
  {
   "cell_type": "markdown",
   "metadata": {},
   "source": [
    "<div class=\"alert alert-success\">\n",
    "<b>Reviewer's comment: </b> That's it, all tests are right!\n",
    "</div>"
   ]
  },
  {
   "cell_type": "markdown",
   "metadata": {},
   "source": [
    "### Step 6. Overall conclusion <a name=\"overall_conclusion\"></a>"
   ]
  },
  {
   "cell_type": "markdown",
   "metadata": {},
   "source": [
    "After analyzing the received data, I filled in the missing values, removed duplicates, and identified outliers and anomalies.<br />\n",
    "\n",
    "After analyzing the data, I came to the conclusion that user ratings do not affect sales, while critical ratings do, but not much. The most popular genres are Action, Shooter and Sports. The most promising platforms are PS4 and XOne. They have recently entered the market and have the highest sales volumes and growing sales dynamics. Presumably, these platforms will be popular until 2021.<br />\n",
    "\n",
    "Also, 2 hypotheses were tested. The hypothesis that the average estimates of users of the Xbox One and PC platforms are the same has not been refuted. The hypothesis that the average user ratings of the Action and Sports genres differ has not been confirmed. "
   ]
  },
  {
   "cell_type": "markdown",
   "metadata": {},
   "source": [
    "<div class=\"alert alert-success\">\n",
    "<b>Reviewer's comment: </b> Good point! Thank you for the reserach!\n",
    "</div>"
   ]
  },
  {
   "cell_type": "code",
   "execution_count": null,
   "metadata": {},
   "outputs": [],
   "source": []
  },
  {
   "cell_type": "code",
   "execution_count": null,
   "metadata": {},
   "outputs": [],
   "source": []
  },
  {
   "cell_type": "code",
   "execution_count": null,
   "metadata": {},
   "outputs": [],
   "source": []
  },
  {
   "cell_type": "code",
   "execution_count": null,
   "metadata": {},
   "outputs": [],
   "source": []
  },
  {
   "cell_type": "code",
   "execution_count": null,
   "metadata": {},
   "outputs": [],
   "source": [
    "\n"
   ]
  },
  {
   "cell_type": "markdown",
   "metadata": {},
   "source": [
    "\n"
   ]
  },
  {
   "cell_type": "markdown",
   "metadata": {},
   "source": []
  },
  {
   "cell_type": "code",
   "execution_count": null,
   "metadata": {},
   "outputs": [],
   "source": []
  },
  {
   "cell_type": "code",
   "execution_count": null,
   "metadata": {},
   "outputs": [],
   "source": []
  },
  {
   "cell_type": "code",
   "execution_count": null,
   "metadata": {},
   "outputs": [],
   "source": [
    "\n"
   ]
  },
  {
   "cell_type": "code",
   "execution_count": null,
   "metadata": {},
   "outputs": [],
   "source": []
  },
  {
   "cell_type": "markdown",
   "metadata": {},
   "source": []
  },
  {
   "cell_type": "code",
   "execution_count": null,
   "metadata": {},
   "outputs": [],
   "source": []
  },
  {
   "cell_type": "code",
   "execution_count": null,
   "metadata": {},
   "outputs": [],
   "source": []
  },
  {
   "cell_type": "code",
   "execution_count": null,
   "metadata": {},
   "outputs": [],
   "source": []
  },
  {
   "cell_type": "code",
   "execution_count": null,
   "metadata": {},
   "outputs": [],
   "source": []
  },
  {
   "cell_type": "code",
   "execution_count": null,
   "metadata": {},
   "outputs": [],
   "source": []
  },
  {
   "cell_type": "code",
   "execution_count": null,
   "metadata": {},
   "outputs": [],
   "source": []
  },
  {
   "cell_type": "code",
   "execution_count": null,
   "metadata": {},
   "outputs": [],
   "source": []
  }
 ],
 "metadata": {
  "kernelspec": {
   "display_name": "Python 3",
   "language": "python",
   "name": "python3"
  },
  "language_info": {
   "codemirror_mode": {
    "name": "ipython",
    "version": 3
   },
   "file_extension": ".py",
   "mimetype": "text/x-python",
   "name": "python",
   "nbconvert_exporter": "python",
   "pygments_lexer": "ipython3",
   "version": "3.7.9"
  },
  "toc": {
   "base_numbering": 1,
   "nav_menu": {},
   "number_sections": true,
   "sideBar": true,
   "skip_h1_title": true,
   "title_cell": "Table of Contents",
   "title_sidebar": "Contents",
   "toc_cell": false,
   "toc_position": {},
   "toc_section_display": true,
   "toc_window_display": false
  }
 },
 "nbformat": 4,
 "nbformat_minor": 4
}
