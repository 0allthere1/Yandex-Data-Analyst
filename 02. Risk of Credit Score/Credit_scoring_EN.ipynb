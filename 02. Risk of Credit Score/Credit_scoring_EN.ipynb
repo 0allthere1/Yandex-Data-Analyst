{
 "cells": [
  {
   "cell_type": "markdown",
   "metadata": {},
   "source": [
    "<div class=\"alert alert-block alert-success\">\n",
    "<b>Comentário geral do corretor</b> <a class=\"tocSkip\"></a>\n",
    "\n",
    "Pablo, primeiramente muito obrigado por enviar o seu projeto! Está claro para mim seu empenho em fazê-lo.\n",
    "    \n",
    "<br />\n",
    "    \n",
    "Seu projeto está bem feito no que diz respeito ao conteúdo, os códigos e as conclusões que você chegou. Parabéns!! No entanto, peço que nos próximos projetos você dê uma atenção especial à apresentação do seu trabalho. Estude maneiras de estruturar seu código e seu notebook de maneira que os resultados que você chegou e os meios que você utilizou para isso estejam claros. Comente seu código, deixe ele organizado e apresentável, e faça uso das células em **markdown** para escrever textos explicando seu raciocínio e conclusões. Isso será muito importante no decorrer de sua carreira.\n",
    "    \n",
    "<br />\n",
    "    \n",
    "Espero que você consiga manter esse ritmo nos próximos módulos e que o seu aprendizado continue sendo frutífero. Não hesite em contatar nossos **tutores** em caso de dúvidas. Um abraço!    \n",
    "    \n",
    "</div>"
   ]
  },
  {
   "cell_type": "markdown",
   "metadata": {},
   "source": [
    "# Análise do risco de inadimplência dos mutuários\n",
    "\n",
    "Seu projeto é preparar um relatório para a divisão de empréstimos de um banco. Você precisará descobrir se o estado civil de um cliente e o número de filhos têm impacto sobre se ele deixará de pagar um empréstimo. O banco já tem alguns dados sobre a capacidade de crédito dos clientes.\n",
    "\n",
    "Seu relatório será considerado ao criar uma **pontuação de crédito** de um cliente em potencial. A **contagem de crédito** é usada para avaliar a capacidade de um devedor em potencial de pagar seu empréstimo.\n",
    "\n",
    "[Neste caderno, você recebe dicas e instruções breves e sugestões de raciocínio. Não os ignore, pois eles são projetados para te equipar com a estrutura do projeto e o ajudarão a analisar o que você está fazendo em um nível mais profundo. Antes de enviar seu projeto, certifique-se de remover todas as dicas e descrições fornecidas a você. Em vez disso, faça com que este relatório pareça que você está enviando para seus colegas de equipe para demonstrar suas descobertas - eles não devem saber que você teve qualquer ajuda externa nossa! Para ajudá-lo, colocamos as dicas que você deve remover entre colchetes.]\n",
    "\n",
    "[Antes de mergulhar na análise de seus dados, explique os propósitos do projeto e as hipóteses que você testará.]"
   ]
  },
  {
   "cell_type": "markdown",
   "metadata": {},
   "source": [
    "## Abra o arquivo de dados e veja as informações gerais.\n",
    "\n",
    "[Comece importando as bibliotecas e carregando os dados. Você pode perceber que precisa de bibliotecas adicionais à medida que avança, o que é totalmente bom - apenas certifique-se de atualizar esta seção quando o fizer.]"
   ]
  },
  {
   "cell_type": "code",
   "execution_count": 1,
   "metadata": {},
   "outputs": [],
   "source": [
    "# Carregando todas as bibliotecas\n",
    "import pandas as pd\n",
    "import numpy as np\n",
    "\n",
    "# Carregue os dados\n",
    "data_scoring = pd.read_csv('/datasets/credit_scoring_eng.csv')"
   ]
  },
  {
   "cell_type": "markdown",
   "metadata": {},
   "source": [
    "## Tarefa 1. Exploração de dados\n",
    "\n",
    "**Descrição dos dados**\n",
    "- `children` - o número de crianças na família\n",
    "- `days_employed` - experiência de trabalho em dias\n",
    "- `dob_years` - idade do cliente em anos\n",
    "- `education` - educação do cliente\n",
    "- `education_id` - identificador de educação\n",
    "- `family_status` - estado civil do cliente\n",
    "- `family_status_id` - identificador de estado civil\n",
    "- `gender` - gênero do cliente\n",
    "- `income_type` - tipo de emprego\n",
    "- `debt` - havia alguma dívida no pagamento do empréstimo\n",
    "- `total_income` - renda mensal\n",
    "- `purpose` - o objetivo de obter um empréstimo\n",
    "\n",
    "[Agora vamos explorar nossos dados. Você vai querer ver quantas colunas e linhas ele tem, veja algumas linhas para verificar possíveis problemas com os dados.]"
   ]
  },
  {
   "cell_type": "code",
   "execution_count": 2,
   "metadata": {},
   "outputs": [
    {
     "data": {
      "text/plain": [
       "<bound method DataFrame.info of        children  days_employed  dob_years            education  education_id  \\\n",
       "0             1   -8437.673028         42    bachelor's degree             0   \n",
       "1             1   -4024.803754         36  secondary education             1   \n",
       "2             0   -5623.422610         33  Secondary Education             1   \n",
       "3             3   -4124.747207         32  secondary education             1   \n",
       "4             0  340266.072047         53  secondary education             1   \n",
       "...         ...            ...        ...                  ...           ...   \n",
       "21520         1   -4529.316663         43  secondary education             1   \n",
       "21521         0  343937.404131         67  secondary education             1   \n",
       "21522         1   -2113.346888         38  secondary education             1   \n",
       "21523         3   -3112.481705         38  secondary education             1   \n",
       "21524         2   -1984.507589         40  secondary education             1   \n",
       "\n",
       "           family_status  family_status_id gender income_type  debt  \\\n",
       "0                married                 0      F    employee     0   \n",
       "1                married                 0      F    employee     0   \n",
       "2                married                 0      M    employee     0   \n",
       "3                married                 0      M    employee     0   \n",
       "4      civil partnership                 1      F     retiree     0   \n",
       "...                  ...               ...    ...         ...   ...   \n",
       "21520  civil partnership                 1      F    business     0   \n",
       "21521            married                 0      F     retiree     0   \n",
       "21522  civil partnership                 1      M    employee     1   \n",
       "21523            married                 0      M    employee     1   \n",
       "21524            married                 0      F    employee     0   \n",
       "\n",
       "       total_income                  purpose  \n",
       "0         40620.102    purchase of the house  \n",
       "1         17932.802             car purchase  \n",
       "2         23341.752    purchase of the house  \n",
       "3         42820.568  supplementary education  \n",
       "4         25378.572        to have a wedding  \n",
       "...             ...                      ...  \n",
       "21520     35966.698     housing transactions  \n",
       "21521     24959.969        purchase of a car  \n",
       "21522     14347.610                 property  \n",
       "21523     39054.888        buying my own car  \n",
       "21524     13127.587             to buy a car  \n",
       "\n",
       "[21525 rows x 12 columns]>"
      ]
     },
     "execution_count": 2,
     "metadata": {},
     "output_type": "execute_result"
    }
   ],
   "source": [
    "# Vamos ver quantas linhas e colunas nosso conjunto de dados tem\n",
    "data_scoring.info\n"
   ]
  },
  {
   "cell_type": "code",
   "execution_count": 3,
   "metadata": {
    "scrolled": true
   },
   "outputs": [
    {
     "data": {
      "text/html": [
       "<div>\n",
       "<style scoped>\n",
       "    .dataframe tbody tr th:only-of-type {\n",
       "        vertical-align: middle;\n",
       "    }\n",
       "\n",
       "    .dataframe tbody tr th {\n",
       "        vertical-align: top;\n",
       "    }\n",
       "\n",
       "    .dataframe thead th {\n",
       "        text-align: right;\n",
       "    }\n",
       "</style>\n",
       "<table border=\"1\" class=\"dataframe\">\n",
       "  <thead>\n",
       "    <tr style=\"text-align: right;\">\n",
       "      <th></th>\n",
       "      <th>children</th>\n",
       "      <th>days_employed</th>\n",
       "      <th>dob_years</th>\n",
       "      <th>education</th>\n",
       "      <th>education_id</th>\n",
       "      <th>family_status</th>\n",
       "      <th>family_status_id</th>\n",
       "      <th>gender</th>\n",
       "      <th>income_type</th>\n",
       "      <th>debt</th>\n",
       "      <th>total_income</th>\n",
       "      <th>purpose</th>\n",
       "    </tr>\n",
       "  </thead>\n",
       "  <tbody>\n",
       "    <tr>\n",
       "      <th>0</th>\n",
       "      <td>1</td>\n",
       "      <td>-8437.673028</td>\n",
       "      <td>42</td>\n",
       "      <td>bachelor's degree</td>\n",
       "      <td>0</td>\n",
       "      <td>married</td>\n",
       "      <td>0</td>\n",
       "      <td>F</td>\n",
       "      <td>employee</td>\n",
       "      <td>0</td>\n",
       "      <td>40620.102</td>\n",
       "      <td>purchase of the house</td>\n",
       "    </tr>\n",
       "    <tr>\n",
       "      <th>1</th>\n",
       "      <td>1</td>\n",
       "      <td>-4024.803754</td>\n",
       "      <td>36</td>\n",
       "      <td>secondary education</td>\n",
       "      <td>1</td>\n",
       "      <td>married</td>\n",
       "      <td>0</td>\n",
       "      <td>F</td>\n",
       "      <td>employee</td>\n",
       "      <td>0</td>\n",
       "      <td>17932.802</td>\n",
       "      <td>car purchase</td>\n",
       "    </tr>\n",
       "    <tr>\n",
       "      <th>2</th>\n",
       "      <td>0</td>\n",
       "      <td>-5623.422610</td>\n",
       "      <td>33</td>\n",
       "      <td>Secondary Education</td>\n",
       "      <td>1</td>\n",
       "      <td>married</td>\n",
       "      <td>0</td>\n",
       "      <td>M</td>\n",
       "      <td>employee</td>\n",
       "      <td>0</td>\n",
       "      <td>23341.752</td>\n",
       "      <td>purchase of the house</td>\n",
       "    </tr>\n",
       "    <tr>\n",
       "      <th>3</th>\n",
       "      <td>3</td>\n",
       "      <td>-4124.747207</td>\n",
       "      <td>32</td>\n",
       "      <td>secondary education</td>\n",
       "      <td>1</td>\n",
       "      <td>married</td>\n",
       "      <td>0</td>\n",
       "      <td>M</td>\n",
       "      <td>employee</td>\n",
       "      <td>0</td>\n",
       "      <td>42820.568</td>\n",
       "      <td>supplementary education</td>\n",
       "    </tr>\n",
       "    <tr>\n",
       "      <th>4</th>\n",
       "      <td>0</td>\n",
       "      <td>340266.072047</td>\n",
       "      <td>53</td>\n",
       "      <td>secondary education</td>\n",
       "      <td>1</td>\n",
       "      <td>civil partnership</td>\n",
       "      <td>1</td>\n",
       "      <td>F</td>\n",
       "      <td>retiree</td>\n",
       "      <td>0</td>\n",
       "      <td>25378.572</td>\n",
       "      <td>to have a wedding</td>\n",
       "    </tr>\n",
       "    <tr>\n",
       "      <th>5</th>\n",
       "      <td>0</td>\n",
       "      <td>-926.185831</td>\n",
       "      <td>27</td>\n",
       "      <td>bachelor's degree</td>\n",
       "      <td>0</td>\n",
       "      <td>civil partnership</td>\n",
       "      <td>1</td>\n",
       "      <td>M</td>\n",
       "      <td>business</td>\n",
       "      <td>0</td>\n",
       "      <td>40922.170</td>\n",
       "      <td>purchase of the house</td>\n",
       "    </tr>\n",
       "    <tr>\n",
       "      <th>6</th>\n",
       "      <td>0</td>\n",
       "      <td>-2879.202052</td>\n",
       "      <td>43</td>\n",
       "      <td>bachelor's degree</td>\n",
       "      <td>0</td>\n",
       "      <td>married</td>\n",
       "      <td>0</td>\n",
       "      <td>F</td>\n",
       "      <td>business</td>\n",
       "      <td>0</td>\n",
       "      <td>38484.156</td>\n",
       "      <td>housing transactions</td>\n",
       "    </tr>\n",
       "    <tr>\n",
       "      <th>7</th>\n",
       "      <td>0</td>\n",
       "      <td>-152.779569</td>\n",
       "      <td>50</td>\n",
       "      <td>SECONDARY EDUCATION</td>\n",
       "      <td>1</td>\n",
       "      <td>married</td>\n",
       "      <td>0</td>\n",
       "      <td>M</td>\n",
       "      <td>employee</td>\n",
       "      <td>0</td>\n",
       "      <td>21731.829</td>\n",
       "      <td>education</td>\n",
       "    </tr>\n",
       "    <tr>\n",
       "      <th>8</th>\n",
       "      <td>2</td>\n",
       "      <td>-6929.865299</td>\n",
       "      <td>35</td>\n",
       "      <td>BACHELOR'S DEGREE</td>\n",
       "      <td>0</td>\n",
       "      <td>civil partnership</td>\n",
       "      <td>1</td>\n",
       "      <td>F</td>\n",
       "      <td>employee</td>\n",
       "      <td>0</td>\n",
       "      <td>15337.093</td>\n",
       "      <td>having a wedding</td>\n",
       "    </tr>\n",
       "    <tr>\n",
       "      <th>9</th>\n",
       "      <td>0</td>\n",
       "      <td>-2188.756445</td>\n",
       "      <td>41</td>\n",
       "      <td>secondary education</td>\n",
       "      <td>1</td>\n",
       "      <td>married</td>\n",
       "      <td>0</td>\n",
       "      <td>M</td>\n",
       "      <td>employee</td>\n",
       "      <td>0</td>\n",
       "      <td>23108.150</td>\n",
       "      <td>purchase of the house for my family</td>\n",
       "    </tr>\n",
       "    <tr>\n",
       "      <th>10</th>\n",
       "      <td>2</td>\n",
       "      <td>-4171.483647</td>\n",
       "      <td>36</td>\n",
       "      <td>bachelor's degree</td>\n",
       "      <td>0</td>\n",
       "      <td>married</td>\n",
       "      <td>0</td>\n",
       "      <td>M</td>\n",
       "      <td>business</td>\n",
       "      <td>0</td>\n",
       "      <td>18230.959</td>\n",
       "      <td>buy real estate</td>\n",
       "    </tr>\n",
       "    <tr>\n",
       "      <th>11</th>\n",
       "      <td>0</td>\n",
       "      <td>-792.701887</td>\n",
       "      <td>40</td>\n",
       "      <td>secondary education</td>\n",
       "      <td>1</td>\n",
       "      <td>married</td>\n",
       "      <td>0</td>\n",
       "      <td>F</td>\n",
       "      <td>employee</td>\n",
       "      <td>0</td>\n",
       "      <td>12331.077</td>\n",
       "      <td>buy commercial real estate</td>\n",
       "    </tr>\n",
       "    <tr>\n",
       "      <th>12</th>\n",
       "      <td>0</td>\n",
       "      <td>NaN</td>\n",
       "      <td>65</td>\n",
       "      <td>secondary education</td>\n",
       "      <td>1</td>\n",
       "      <td>civil partnership</td>\n",
       "      <td>1</td>\n",
       "      <td>M</td>\n",
       "      <td>retiree</td>\n",
       "      <td>0</td>\n",
       "      <td>NaN</td>\n",
       "      <td>to have a wedding</td>\n",
       "    </tr>\n",
       "    <tr>\n",
       "      <th>13</th>\n",
       "      <td>0</td>\n",
       "      <td>-1846.641941</td>\n",
       "      <td>54</td>\n",
       "      <td>some college</td>\n",
       "      <td>2</td>\n",
       "      <td>married</td>\n",
       "      <td>0</td>\n",
       "      <td>F</td>\n",
       "      <td>employee</td>\n",
       "      <td>0</td>\n",
       "      <td>20873.317</td>\n",
       "      <td>car purchase</td>\n",
       "    </tr>\n",
       "    <tr>\n",
       "      <th>14</th>\n",
       "      <td>0</td>\n",
       "      <td>-1844.956182</td>\n",
       "      <td>56</td>\n",
       "      <td>bachelor's degree</td>\n",
       "      <td>0</td>\n",
       "      <td>civil partnership</td>\n",
       "      <td>1</td>\n",
       "      <td>F</td>\n",
       "      <td>business</td>\n",
       "      <td>1</td>\n",
       "      <td>26420.466</td>\n",
       "      <td>buy residential real estate</td>\n",
       "    </tr>\n",
       "    <tr>\n",
       "      <th>15</th>\n",
       "      <td>1</td>\n",
       "      <td>-972.364419</td>\n",
       "      <td>26</td>\n",
       "      <td>secondary education</td>\n",
       "      <td>1</td>\n",
       "      <td>married</td>\n",
       "      <td>0</td>\n",
       "      <td>F</td>\n",
       "      <td>employee</td>\n",
       "      <td>0</td>\n",
       "      <td>18691.345</td>\n",
       "      <td>construction of own property</td>\n",
       "    </tr>\n",
       "    <tr>\n",
       "      <th>16</th>\n",
       "      <td>0</td>\n",
       "      <td>-1719.934226</td>\n",
       "      <td>35</td>\n",
       "      <td>secondary education</td>\n",
       "      <td>1</td>\n",
       "      <td>married</td>\n",
       "      <td>0</td>\n",
       "      <td>F</td>\n",
       "      <td>employee</td>\n",
       "      <td>0</td>\n",
       "      <td>46272.433</td>\n",
       "      <td>property</td>\n",
       "    </tr>\n",
       "    <tr>\n",
       "      <th>17</th>\n",
       "      <td>0</td>\n",
       "      <td>-2369.999720</td>\n",
       "      <td>33</td>\n",
       "      <td>bachelor's degree</td>\n",
       "      <td>0</td>\n",
       "      <td>civil partnership</td>\n",
       "      <td>1</td>\n",
       "      <td>M</td>\n",
       "      <td>employee</td>\n",
       "      <td>0</td>\n",
       "      <td>14465.694</td>\n",
       "      <td>building a property</td>\n",
       "    </tr>\n",
       "    <tr>\n",
       "      <th>18</th>\n",
       "      <td>0</td>\n",
       "      <td>400281.136913</td>\n",
       "      <td>53</td>\n",
       "      <td>secondary education</td>\n",
       "      <td>1</td>\n",
       "      <td>widow / widower</td>\n",
       "      <td>2</td>\n",
       "      <td>F</td>\n",
       "      <td>retiree</td>\n",
       "      <td>0</td>\n",
       "      <td>9091.804</td>\n",
       "      <td>buying a second-hand car</td>\n",
       "    </tr>\n",
       "    <tr>\n",
       "      <th>19</th>\n",
       "      <td>0</td>\n",
       "      <td>-10038.818549</td>\n",
       "      <td>48</td>\n",
       "      <td>SECONDARY EDUCATION</td>\n",
       "      <td>1</td>\n",
       "      <td>divorced</td>\n",
       "      <td>3</td>\n",
       "      <td>F</td>\n",
       "      <td>employee</td>\n",
       "      <td>0</td>\n",
       "      <td>38852.977</td>\n",
       "      <td>buying my own car</td>\n",
       "    </tr>\n",
       "    <tr>\n",
       "      <th>20</th>\n",
       "      <td>1</td>\n",
       "      <td>-1311.604166</td>\n",
       "      <td>36</td>\n",
       "      <td>secondary education</td>\n",
       "      <td>1</td>\n",
       "      <td>married</td>\n",
       "      <td>0</td>\n",
       "      <td>M</td>\n",
       "      <td>employee</td>\n",
       "      <td>0</td>\n",
       "      <td>33528.423</td>\n",
       "      <td>property</td>\n",
       "    </tr>\n",
       "    <tr>\n",
       "      <th>21</th>\n",
       "      <td>1</td>\n",
       "      <td>-253.685166</td>\n",
       "      <td>33</td>\n",
       "      <td>secondary education</td>\n",
       "      <td>1</td>\n",
       "      <td>civil partnership</td>\n",
       "      <td>1</td>\n",
       "      <td>F</td>\n",
       "      <td>employee</td>\n",
       "      <td>0</td>\n",
       "      <td>21089.953</td>\n",
       "      <td>car purchase</td>\n",
       "    </tr>\n",
       "    <tr>\n",
       "      <th>22</th>\n",
       "      <td>1</td>\n",
       "      <td>-1766.644138</td>\n",
       "      <td>24</td>\n",
       "      <td>secondary education</td>\n",
       "      <td>1</td>\n",
       "      <td>civil partnership</td>\n",
       "      <td>1</td>\n",
       "      <td>F</td>\n",
       "      <td>employee</td>\n",
       "      <td>0</td>\n",
       "      <td>23948.983</td>\n",
       "      <td>buying a second-hand car</td>\n",
       "    </tr>\n",
       "    <tr>\n",
       "      <th>23</th>\n",
       "      <td>0</td>\n",
       "      <td>-272.981385</td>\n",
       "      <td>21</td>\n",
       "      <td>bachelor's degree</td>\n",
       "      <td>0</td>\n",
       "      <td>civil partnership</td>\n",
       "      <td>1</td>\n",
       "      <td>M</td>\n",
       "      <td>employee</td>\n",
       "      <td>0</td>\n",
       "      <td>20522.515</td>\n",
       "      <td>to have a wedding</td>\n",
       "    </tr>\n",
       "    <tr>\n",
       "      <th>24</th>\n",
       "      <td>1</td>\n",
       "      <td>338551.952911</td>\n",
       "      <td>57</td>\n",
       "      <td>secondary education</td>\n",
       "      <td>1</td>\n",
       "      <td>unmarried</td>\n",
       "      <td>4</td>\n",
       "      <td>F</td>\n",
       "      <td>retiree</td>\n",
       "      <td>0</td>\n",
       "      <td>46487.558</td>\n",
       "      <td>transactions with commercial real estate</td>\n",
       "    </tr>\n",
       "    <tr>\n",
       "      <th>25</th>\n",
       "      <td>0</td>\n",
       "      <td>363548.489348</td>\n",
       "      <td>67</td>\n",
       "      <td>secondary education</td>\n",
       "      <td>1</td>\n",
       "      <td>married</td>\n",
       "      <td>0</td>\n",
       "      <td>M</td>\n",
       "      <td>retiree</td>\n",
       "      <td>0</td>\n",
       "      <td>8818.041</td>\n",
       "      <td>buy real estate</td>\n",
       "    </tr>\n",
       "    <tr>\n",
       "      <th>26</th>\n",
       "      <td>0</td>\n",
       "      <td>NaN</td>\n",
       "      <td>41</td>\n",
       "      <td>secondary education</td>\n",
       "      <td>1</td>\n",
       "      <td>married</td>\n",
       "      <td>0</td>\n",
       "      <td>M</td>\n",
       "      <td>civil servant</td>\n",
       "      <td>0</td>\n",
       "      <td>NaN</td>\n",
       "      <td>education</td>\n",
       "    </tr>\n",
       "    <tr>\n",
       "      <th>27</th>\n",
       "      <td>0</td>\n",
       "      <td>-529.191635</td>\n",
       "      <td>28</td>\n",
       "      <td>bachelor's degree</td>\n",
       "      <td>0</td>\n",
       "      <td>married</td>\n",
       "      <td>0</td>\n",
       "      <td>M</td>\n",
       "      <td>employee</td>\n",
       "      <td>0</td>\n",
       "      <td>49415.837</td>\n",
       "      <td>construction of own property</td>\n",
       "    </tr>\n",
       "    <tr>\n",
       "      <th>28</th>\n",
       "      <td>1</td>\n",
       "      <td>-717.274324</td>\n",
       "      <td>26</td>\n",
       "      <td>bachelor's degree</td>\n",
       "      <td>0</td>\n",
       "      <td>married</td>\n",
       "      <td>0</td>\n",
       "      <td>F</td>\n",
       "      <td>employee</td>\n",
       "      <td>0</td>\n",
       "      <td>30058.118</td>\n",
       "      <td>construction of own property</td>\n",
       "    </tr>\n",
       "    <tr>\n",
       "      <th>29</th>\n",
       "      <td>0</td>\n",
       "      <td>NaN</td>\n",
       "      <td>63</td>\n",
       "      <td>secondary education</td>\n",
       "      <td>1</td>\n",
       "      <td>unmarried</td>\n",
       "      <td>4</td>\n",
       "      <td>F</td>\n",
       "      <td>retiree</td>\n",
       "      <td>0</td>\n",
       "      <td>NaN</td>\n",
       "      <td>building a real estate</td>\n",
       "    </tr>\n",
       "  </tbody>\n",
       "</table>\n",
       "</div>"
      ],
      "text/plain": [
       "    children  days_employed  dob_years            education  education_id  \\\n",
       "0          1   -8437.673028         42    bachelor's degree             0   \n",
       "1          1   -4024.803754         36  secondary education             1   \n",
       "2          0   -5623.422610         33  Secondary Education             1   \n",
       "3          3   -4124.747207         32  secondary education             1   \n",
       "4          0  340266.072047         53  secondary education             1   \n",
       "5          0    -926.185831         27    bachelor's degree             0   \n",
       "6          0   -2879.202052         43    bachelor's degree             0   \n",
       "7          0    -152.779569         50  SECONDARY EDUCATION             1   \n",
       "8          2   -6929.865299         35    BACHELOR'S DEGREE             0   \n",
       "9          0   -2188.756445         41  secondary education             1   \n",
       "10         2   -4171.483647         36    bachelor's degree             0   \n",
       "11         0    -792.701887         40  secondary education             1   \n",
       "12         0            NaN         65  secondary education             1   \n",
       "13         0   -1846.641941         54         some college             2   \n",
       "14         0   -1844.956182         56    bachelor's degree             0   \n",
       "15         1    -972.364419         26  secondary education             1   \n",
       "16         0   -1719.934226         35  secondary education             1   \n",
       "17         0   -2369.999720         33    bachelor's degree             0   \n",
       "18         0  400281.136913         53  secondary education             1   \n",
       "19         0  -10038.818549         48  SECONDARY EDUCATION             1   \n",
       "20         1   -1311.604166         36  secondary education             1   \n",
       "21         1    -253.685166         33  secondary education             1   \n",
       "22         1   -1766.644138         24  secondary education             1   \n",
       "23         0    -272.981385         21    bachelor's degree             0   \n",
       "24         1  338551.952911         57  secondary education             1   \n",
       "25         0  363548.489348         67  secondary education             1   \n",
       "26         0            NaN         41  secondary education             1   \n",
       "27         0    -529.191635         28    bachelor's degree             0   \n",
       "28         1    -717.274324         26    bachelor's degree             0   \n",
       "29         0            NaN         63  secondary education             1   \n",
       "\n",
       "        family_status  family_status_id gender    income_type  debt  \\\n",
       "0             married                 0      F       employee     0   \n",
       "1             married                 0      F       employee     0   \n",
       "2             married                 0      M       employee     0   \n",
       "3             married                 0      M       employee     0   \n",
       "4   civil partnership                 1      F        retiree     0   \n",
       "5   civil partnership                 1      M       business     0   \n",
       "6             married                 0      F       business     0   \n",
       "7             married                 0      M       employee     0   \n",
       "8   civil partnership                 1      F       employee     0   \n",
       "9             married                 0      M       employee     0   \n",
       "10            married                 0      M       business     0   \n",
       "11            married                 0      F       employee     0   \n",
       "12  civil partnership                 1      M        retiree     0   \n",
       "13            married                 0      F       employee     0   \n",
       "14  civil partnership                 1      F       business     1   \n",
       "15            married                 0      F       employee     0   \n",
       "16            married                 0      F       employee     0   \n",
       "17  civil partnership                 1      M       employee     0   \n",
       "18    widow / widower                 2      F        retiree     0   \n",
       "19           divorced                 3      F       employee     0   \n",
       "20            married                 0      M       employee     0   \n",
       "21  civil partnership                 1      F       employee     0   \n",
       "22  civil partnership                 1      F       employee     0   \n",
       "23  civil partnership                 1      M       employee     0   \n",
       "24          unmarried                 4      F        retiree     0   \n",
       "25            married                 0      M        retiree     0   \n",
       "26            married                 0      M  civil servant     0   \n",
       "27            married                 0      M       employee     0   \n",
       "28            married                 0      F       employee     0   \n",
       "29          unmarried                 4      F        retiree     0   \n",
       "\n",
       "    total_income                                   purpose  \n",
       "0      40620.102                     purchase of the house  \n",
       "1      17932.802                              car purchase  \n",
       "2      23341.752                     purchase of the house  \n",
       "3      42820.568                   supplementary education  \n",
       "4      25378.572                         to have a wedding  \n",
       "5      40922.170                     purchase of the house  \n",
       "6      38484.156                      housing transactions  \n",
       "7      21731.829                                 education  \n",
       "8      15337.093                          having a wedding  \n",
       "9      23108.150       purchase of the house for my family  \n",
       "10     18230.959                           buy real estate  \n",
       "11     12331.077                buy commercial real estate  \n",
       "12           NaN                         to have a wedding  \n",
       "13     20873.317                              car purchase  \n",
       "14     26420.466               buy residential real estate  \n",
       "15     18691.345              construction of own property  \n",
       "16     46272.433                                  property  \n",
       "17     14465.694                       building a property  \n",
       "18      9091.804                  buying a second-hand car  \n",
       "19     38852.977                         buying my own car  \n",
       "20     33528.423                                  property  \n",
       "21     21089.953                              car purchase  \n",
       "22     23948.983                  buying a second-hand car  \n",
       "23     20522.515                         to have a wedding  \n",
       "24     46487.558  transactions with commercial real estate  \n",
       "25      8818.041                           buy real estate  \n",
       "26           NaN                                 education  \n",
       "27     49415.837              construction of own property  \n",
       "28     30058.118              construction of own property  \n",
       "29           NaN                    building a real estate  "
      ]
     },
     "execution_count": 3,
     "metadata": {},
     "output_type": "execute_result"
    }
   ],
   "source": [
    "# vamos exibir as primeiras 5 linhas\n",
    "data_scoring.head(30)\n"
   ]
  },
  {
   "cell_type": "markdown",
   "metadata": {},
   "source": [
    "[Descreva o que você vê e observa em sua amostra de dados exibida. Há algum problema que possa precisar de mais investigação e alterações?]\n",
    "\n",
    "Obter informações sobre dados\n",
    "- Dias de trabalho negativo\n",
    "- Dias de trabalho parciais\n",
    "- Eduacation:  Maisc/Min\n",
    "- Total Income: NaN"
   ]
  },
  {
   "cell_type": "markdown",
   "metadata": {},
   "source": [
    "[Existem valores ausentes em todas as colunas ou apenas em algumas? Descreva brevemente o que você vê em 1-2 frases.]\n",
    "\n",
    "Apenas algumas colunas possuem valores ausentes com NaN"
   ]
  },
  {
   "cell_type": "code",
   "execution_count": 4,
   "metadata": {},
   "outputs": [
    {
     "name": "stdout",
     "output_type": "stream",
     "text": [
      "<class 'pandas.core.frame.DataFrame'>\n",
      "RangeIndex: 21525 entries, 0 to 21524\n",
      "Data columns (total 12 columns):\n",
      " #   Column            Non-Null Count  Dtype  \n",
      "---  ------            --------------  -----  \n",
      " 0   children          21525 non-null  Int64  \n",
      " 1   days_employed     19351 non-null  Float64\n",
      " 2   dob_years         21525 non-null  Int64  \n",
      " 3   education         21525 non-null  string \n",
      " 4   education_id      21525 non-null  Int64  \n",
      " 5   family_status     21525 non-null  string \n",
      " 6   family_status_id  21525 non-null  Int64  \n",
      " 7   gender            21525 non-null  string \n",
      " 8   income_type       21525 non-null  string \n",
      " 9   debt              21525 non-null  Int64  \n",
      " 10  total_income      19351 non-null  Float64\n",
      " 11  purpose           21525 non-null  string \n",
      "dtypes: Float64(2), Int64(5), string(5)\n",
      "memory usage: 2.1 MB\n"
     ]
    }
   ],
   "source": [
    "data_scoring = data_scoring.convert_dtypes()\n",
    "\n",
    "data_scoring.info()"
   ]
  },
  {
   "cell_type": "code",
   "execution_count": 5,
   "metadata": {
    "scrolled": true
   },
   "outputs": [
    {
     "data": {
      "text/plain": [
       " 0     14149\n",
       " 1      4818\n",
       " 2      2055\n",
       " 3       330\n",
       " 20       76\n",
       "-1        47\n",
       " 4        41\n",
       " 5         9\n",
       "Name: children, dtype: Int64"
      ]
     },
     "execution_count": 5,
     "metadata": {},
     "output_type": "execute_result"
    }
   ],
   "source": [
    "# Vejamos a tabela filtrada com valores ausentes na primeira coluna com dados ausentes\n",
    "data_scoring['children'].value_counts()"
   ]
  },
  {
   "cell_type": "code",
   "execution_count": 6,
   "metadata": {
    "scrolled": true
   },
   "outputs": [
    {
     "data": {
      "text/plain": [
       "children            21525\n",
       "days_employed       21525\n",
       "dob_years           21525\n",
       "education           21525\n",
       "education_id        21525\n",
       "family_status       21525\n",
       "family_status_id    21525\n",
       "gender              21525\n",
       "income_type         21525\n",
       "debt                21525\n",
       "total_income        21525\n",
       "purpose             21525\n",
       "dtype: int64"
      ]
     },
     "execution_count": 6,
     "metadata": {},
     "output_type": "execute_result"
    }
   ],
   "source": [
    "data_scoring.isnull().count()"
   ]
  },
  {
   "cell_type": "markdown",
   "metadata": {},
   "source": [
    "[Os valores ausentes parecem simétricos? Podemos ter certeza desta suposição? Explique brevemente seus pensamentos nesta seção. Você provavelmente pode querer realizar investigações adicionais e contar os valores ausentes em todas as linhas com valores ausentes para confirmar que as amostras ausentes são do mesmo tamanho.]\n",
    "\n",
    "\n",
    "Os valores de todas as colunas parecem estarem sendo contabilizados da mesma forma\n"
   ]
  },
  {
   "cell_type": "code",
   "execution_count": 7,
   "metadata": {},
   "outputs": [
    {
     "data": {
      "text/plain": [
       "children            21525\n",
       "days_employed       19351\n",
       "dob_years           21525\n",
       "education           21525\n",
       "education_id        21525\n",
       "family_status       21525\n",
       "family_status_id    21525\n",
       "gender              21525\n",
       "income_type         21525\n",
       "debt                21525\n",
       "total_income        19351\n",
       "purpose             21525\n",
       "dtype: int64"
      ]
     },
     "execution_count": 7,
     "metadata": {},
     "output_type": "execute_result"
    }
   ],
   "source": [
    "# Vamos aplicar várias condições para filtrar dados e observar o número de linhas na tabela filtrada.\n",
    "data_scoring.count()\n"
   ]
  },
  {
   "cell_type": "markdown",
   "metadata": {},
   "source": [
    "\n",
    "**Conclusão intermediária**\n",
    "\n",
    "[O número de linhas na tabela filtrada corresponde ao número de valores ausentes? Que conclusão podemos tirar disso?]\n",
    "\n",
    "[Calcule a porcentagem dos valores ausentes em comparação com todo o conjunto de dados. É um pedaço de dados consideravelmente grande? Nesse caso, você pode querer preencher os valores ausentes. Para fazer isso, primeiro devemos considerar se os dados ausentes podem ser devidos à característica específica do cliente, como tipo de emprego ou outra coisa. Você precisará decidir qual característica você acha que pode ser o motivo. Em segundo lugar, devemos verificar se há alguma dependência de valores ausentes em relação ao valor de outros indicadores com as colunas com características identificadas específicas do cliente.]\n",
    "\n",
    "[Explique seus próximos passos e como eles se correlacionam com as conclusões que você fez até agora.]\n",
    "\n",
    "1.Varios dados ausentes \n",
    "2.identificar se os erros foram gerados intencionalmente ao preencher a tabela\n",
    "3.o quanto esta ausencia irà influncia na analise.\n",
    "4.investigaremos um conjunto de variareis nas colunas\n"
   ]
  },
  {
   "cell_type": "code",
   "execution_count": 8,
   "metadata": {
    "slideshow": {
     "slide_type": "-"
    }
   },
   "outputs": [
    {
     "data": {
      "text/plain": [
       "children  days_employed  dob_years  education  education_id  family_status  family_status_id  gender  income_type  debt   total_income  purpose\n",
       "False     False          False      False      False         False          False             False   False        False  False         False      19351\n",
       "          True           False      False      False         False          False             False   False        False  True          False       2174\n",
       "dtype: int64"
      ]
     },
     "execution_count": 8,
     "metadata": {},
     "output_type": "execute_result"
    }
   ],
   "source": [
    "# Vamos investigar clientes que não possuem dados sobre as características identificadas e a coluna com os valores ausentes\n",
    "data_scoring.isnull().value_counts()"
   ]
  },
  {
   "cell_type": "code",
   "execution_count": 9,
   "metadata": {},
   "outputs": [
    {
     "data": {
      "text/html": [
       "<div>\n",
       "<style scoped>\n",
       "    .dataframe tbody tr th:only-of-type {\n",
       "        vertical-align: middle;\n",
       "    }\n",
       "\n",
       "    .dataframe tbody tr th {\n",
       "        vertical-align: top;\n",
       "    }\n",
       "\n",
       "    .dataframe thead th {\n",
       "        text-align: right;\n",
       "    }\n",
       "</style>\n",
       "<table border=\"1\" class=\"dataframe\">\n",
       "  <thead>\n",
       "    <tr style=\"text-align: right;\">\n",
       "      <th></th>\n",
       "      <th>children</th>\n",
       "      <th>days_employed</th>\n",
       "      <th>dob_years</th>\n",
       "      <th>education</th>\n",
       "      <th>education_id</th>\n",
       "      <th>family_status</th>\n",
       "      <th>family_status_id</th>\n",
       "      <th>gender</th>\n",
       "      <th>income_type</th>\n",
       "      <th>debt</th>\n",
       "      <th>total_income</th>\n",
       "      <th>purpose</th>\n",
       "    </tr>\n",
       "  </thead>\n",
       "  <tbody>\n",
       "    <tr>\n",
       "      <th>count</th>\n",
       "      <td>21525.00</td>\n",
       "      <td>19351.00</td>\n",
       "      <td>21525.00</td>\n",
       "      <td>21525</td>\n",
       "      <td>21525.00</td>\n",
       "      <td>21525</td>\n",
       "      <td>21525.00</td>\n",
       "      <td>21525</td>\n",
       "      <td>21525</td>\n",
       "      <td>21525.00</td>\n",
       "      <td>19351.00</td>\n",
       "      <td>21525</td>\n",
       "    </tr>\n",
       "    <tr>\n",
       "      <th>unique</th>\n",
       "      <td>NaN</td>\n",
       "      <td>NaN</td>\n",
       "      <td>NaN</td>\n",
       "      <td>15</td>\n",
       "      <td>NaN</td>\n",
       "      <td>5</td>\n",
       "      <td>NaN</td>\n",
       "      <td>3</td>\n",
       "      <td>8</td>\n",
       "      <td>NaN</td>\n",
       "      <td>NaN</td>\n",
       "      <td>38</td>\n",
       "    </tr>\n",
       "    <tr>\n",
       "      <th>top</th>\n",
       "      <td>NaN</td>\n",
       "      <td>NaN</td>\n",
       "      <td>NaN</td>\n",
       "      <td>secondary education</td>\n",
       "      <td>NaN</td>\n",
       "      <td>married</td>\n",
       "      <td>NaN</td>\n",
       "      <td>F</td>\n",
       "      <td>employee</td>\n",
       "      <td>NaN</td>\n",
       "      <td>NaN</td>\n",
       "      <td>wedding ceremony</td>\n",
       "    </tr>\n",
       "    <tr>\n",
       "      <th>freq</th>\n",
       "      <td>NaN</td>\n",
       "      <td>NaN</td>\n",
       "      <td>NaN</td>\n",
       "      <td>13750</td>\n",
       "      <td>NaN</td>\n",
       "      <td>12380</td>\n",
       "      <td>NaN</td>\n",
       "      <td>14236</td>\n",
       "      <td>11119</td>\n",
       "      <td>NaN</td>\n",
       "      <td>NaN</td>\n",
       "      <td>797</td>\n",
       "    </tr>\n",
       "    <tr>\n",
       "      <th>mean</th>\n",
       "      <td>0.54</td>\n",
       "      <td>63046.50</td>\n",
       "      <td>43.29</td>\n",
       "      <td>NaN</td>\n",
       "      <td>0.82</td>\n",
       "      <td>NaN</td>\n",
       "      <td>0.97</td>\n",
       "      <td>NaN</td>\n",
       "      <td>NaN</td>\n",
       "      <td>0.08</td>\n",
       "      <td>26787.57</td>\n",
       "      <td>NaN</td>\n",
       "    </tr>\n",
       "    <tr>\n",
       "      <th>std</th>\n",
       "      <td>1.38</td>\n",
       "      <td>140827.31</td>\n",
       "      <td>12.57</td>\n",
       "      <td>NaN</td>\n",
       "      <td>0.55</td>\n",
       "      <td>NaN</td>\n",
       "      <td>1.42</td>\n",
       "      <td>NaN</td>\n",
       "      <td>NaN</td>\n",
       "      <td>0.27</td>\n",
       "      <td>16475.45</td>\n",
       "      <td>NaN</td>\n",
       "    </tr>\n",
       "    <tr>\n",
       "      <th>min</th>\n",
       "      <td>-1.00</td>\n",
       "      <td>-18388.95</td>\n",
       "      <td>0.00</td>\n",
       "      <td>NaN</td>\n",
       "      <td>0.00</td>\n",
       "      <td>NaN</td>\n",
       "      <td>0.00</td>\n",
       "      <td>NaN</td>\n",
       "      <td>NaN</td>\n",
       "      <td>0.00</td>\n",
       "      <td>3306.76</td>\n",
       "      <td>NaN</td>\n",
       "    </tr>\n",
       "    <tr>\n",
       "      <th>25%</th>\n",
       "      <td>0.00</td>\n",
       "      <td>-2747.42</td>\n",
       "      <td>33.00</td>\n",
       "      <td>NaN</td>\n",
       "      <td>1.00</td>\n",
       "      <td>NaN</td>\n",
       "      <td>0.00</td>\n",
       "      <td>NaN</td>\n",
       "      <td>NaN</td>\n",
       "      <td>0.00</td>\n",
       "      <td>16488.50</td>\n",
       "      <td>NaN</td>\n",
       "    </tr>\n",
       "    <tr>\n",
       "      <th>50%</th>\n",
       "      <td>0.00</td>\n",
       "      <td>-1203.37</td>\n",
       "      <td>42.00</td>\n",
       "      <td>NaN</td>\n",
       "      <td>1.00</td>\n",
       "      <td>NaN</td>\n",
       "      <td>0.00</td>\n",
       "      <td>NaN</td>\n",
       "      <td>NaN</td>\n",
       "      <td>0.00</td>\n",
       "      <td>23202.87</td>\n",
       "      <td>NaN</td>\n",
       "    </tr>\n",
       "    <tr>\n",
       "      <th>75%</th>\n",
       "      <td>1.00</td>\n",
       "      <td>-291.10</td>\n",
       "      <td>53.00</td>\n",
       "      <td>NaN</td>\n",
       "      <td>1.00</td>\n",
       "      <td>NaN</td>\n",
       "      <td>1.00</td>\n",
       "      <td>NaN</td>\n",
       "      <td>NaN</td>\n",
       "      <td>0.00</td>\n",
       "      <td>32549.61</td>\n",
       "      <td>NaN</td>\n",
       "    </tr>\n",
       "    <tr>\n",
       "      <th>max</th>\n",
       "      <td>20.00</td>\n",
       "      <td>401755.40</td>\n",
       "      <td>75.00</td>\n",
       "      <td>NaN</td>\n",
       "      <td>4.00</td>\n",
       "      <td>NaN</td>\n",
       "      <td>4.00</td>\n",
       "      <td>NaN</td>\n",
       "      <td>NaN</td>\n",
       "      <td>1.00</td>\n",
       "      <td>362496.64</td>\n",
       "      <td>NaN</td>\n",
       "    </tr>\n",
       "  </tbody>\n",
       "</table>\n",
       "</div>"
      ],
      "text/plain": [
       "        children  days_employed  dob_years            education  education_id  \\\n",
       "count   21525.00       19351.00   21525.00                21525      21525.00   \n",
       "unique       NaN            NaN        NaN                   15           NaN   \n",
       "top          NaN            NaN        NaN  secondary education           NaN   \n",
       "freq         NaN            NaN        NaN                13750           NaN   \n",
       "mean        0.54       63046.50      43.29                  NaN          0.82   \n",
       "std         1.38      140827.31      12.57                  NaN          0.55   \n",
       "min        -1.00      -18388.95       0.00                  NaN          0.00   \n",
       "25%         0.00       -2747.42      33.00                  NaN          1.00   \n",
       "50%         0.00       -1203.37      42.00                  NaN          1.00   \n",
       "75%         1.00        -291.10      53.00                  NaN          1.00   \n",
       "max        20.00      401755.40      75.00                  NaN          4.00   \n",
       "\n",
       "       family_status  family_status_id gender income_type      debt  \\\n",
       "count          21525          21525.00  21525       21525  21525.00   \n",
       "unique             5               NaN      3           8       NaN   \n",
       "top          married               NaN      F    employee       NaN   \n",
       "freq           12380               NaN  14236       11119       NaN   \n",
       "mean             NaN              0.97    NaN         NaN      0.08   \n",
       "std              NaN              1.42    NaN         NaN      0.27   \n",
       "min              NaN              0.00    NaN         NaN      0.00   \n",
       "25%              NaN              0.00    NaN         NaN      0.00   \n",
       "50%              NaN              0.00    NaN         NaN      0.00   \n",
       "75%              NaN              1.00    NaN         NaN      0.00   \n",
       "max              NaN              4.00    NaN         NaN      1.00   \n",
       "\n",
       "        total_income           purpose  \n",
       "count       19351.00             21525  \n",
       "unique           NaN                38  \n",
       "top              NaN  wedding ceremony  \n",
       "freq             NaN               797  \n",
       "mean        26787.57               NaN  \n",
       "std         16475.45               NaN  \n",
       "min          3306.76               NaN  \n",
       "25%         16488.50               NaN  \n",
       "50%         23202.87               NaN  \n",
       "75%         32549.61               NaN  \n",
       "max        362496.64               NaN  "
      ]
     },
     "execution_count": 9,
     "metadata": {},
     "output_type": "execute_result"
    }
   ],
   "source": [
    "# Verificar a distribuição\n",
    "\n",
    "data_scoring.describe(include = 'all').round(2)"
   ]
  },
  {
   "cell_type": "code",
   "execution_count": 10,
   "metadata": {},
   "outputs": [],
   "source": [
    "# Verificar a distribuição em todo o conjunto de dados"
   ]
  },
  {
   "cell_type": "markdown",
   "metadata": {},
   "source": [
    "[Descreva suas descobertas aqui.]\n",
    "\n",
    "**Possíveis motivos para valores ausentes nos dados**\n",
    "\n",
    "[Proponha suas ideias sobre por que você acha que os valores podem estar ausentes. Você acha que eles estão ausentes aleatoriamente ou há algum padrão?]\n",
    "\n",
    "[Vamos começar a verificar se os valores ausentes são aleatórios.]\n",
    "\n",
    "\n",
    "\n",
    "1.O principal motivo foi a falta de inclusao das informacoes inputadas no sistema\n",
    "\n",
    "2.A solucao sera ignorar os erros, utlizar a mediana.\n"
   ]
  },
  {
   "cell_type": "markdown",
   "metadata": {},
   "source": [
    "**Conclusão intermediária**\n",
    "\n",
    "[A distribuição no conjunto de dados original é semelhante à distribuição da tabela filtrada? O que isso significa para nós?]\n",
    "\n",
    "[Se você acha que ainda não podemos tirar conclusões, vamos investigar melhor nosso conjunto de dados. Vamos pensar em outros motivos que podem levar à ausência de dados e verificar se podemos encontrar algum padrão que possa nos levar a pensar que os valores ausentes não são aleatórios. Como este é o seu trabalho, esta seção é opcional.]"
   ]
  },
  {
   "cell_type": "code",
   "execution_count": 11,
   "metadata": {},
   "outputs": [],
   "source": [
    "# Verifique outros motivos e padrões que possam levar a valores ausentes"
   ]
  },
  {
   "cell_type": "markdown",
   "metadata": {},
   "source": [
    "**Conclusão intermediária**\n",
    "\n",
    "[Podemos finalmente confirmar que os valores ausentes são acidentais? Verifique se há qualquer outra coisa que você acha que pode ser importante aqui.]\n",
    "\n",
    "1. Os valores identificados foram criados de forma acidental.\n"
   ]
  },
  {
   "cell_type": "code",
   "execution_count": 12,
   "metadata": {
    "scrolled": false
   },
   "outputs": [
    {
     "name": "stdout",
     "output_type": "stream",
     "text": [
      "       children  days_employed  dob_years  education  education_id  \\\n",
      "0         False          False      False      False         False   \n",
      "1         False          False      False      False         False   \n",
      "2         False          False      False      False         False   \n",
      "3         False          False      False      False         False   \n",
      "4         False          False      False      False         False   \n",
      "...         ...            ...        ...        ...           ...   \n",
      "21520     False          False      False      False         False   \n",
      "21521     False          False      False      False         False   \n",
      "21522     False          False      False      False         False   \n",
      "21523     False          False      False      False         False   \n",
      "21524     False          False      False      False         False   \n",
      "\n",
      "       family_status  family_status_id  gender  income_type   debt  \\\n",
      "0              False             False   False        False  False   \n",
      "1              False             False   False        False  False   \n",
      "2              False             False   False        False  False   \n",
      "3              False             False   False        False  False   \n",
      "4              False             False   False        False  False   \n",
      "...              ...               ...     ...          ...    ...   \n",
      "21520          False             False   False        False  False   \n",
      "21521          False             False   False        False  False   \n",
      "21522          False             False   False        False  False   \n",
      "21523          False             False   False        False  False   \n",
      "21524          False             False   False        False  False   \n",
      "\n",
      "       total_income  purpose  \n",
      "0             False    False  \n",
      "1             False    False  \n",
      "2             False    False  \n",
      "3             False    False  \n",
      "4             False    False  \n",
      "...             ...      ...  \n",
      "21520         False    False  \n",
      "21521         False    False  \n",
      "21522         False    False  \n",
      "21523         False    False  \n",
      "21524         False    False  \n",
      "\n",
      "[21525 rows x 12 columns]\n"
     ]
    }
   ],
   "source": [
    "# Verificando outros padrões - explique quais\n",
    "print(data_scoring.isna())"
   ]
  },
  {
   "cell_type": "markdown",
   "metadata": {},
   "source": [
    "**Conclusões**\n",
    "\n",
    "[Você encontrou algum padrão? Como você chegou a essa conclusão?]\n",
    "\n",
    "[Explique como você abordará os valores ausentes. Considere as categorias em que os valores estão ausentes.]\n",
    "\n",
    "[Planeje brevemente suas próximas etapas para transformar dados. Você provavelmente precisará abordar diferentes tipos de problemas: duplicatas, registros diferentes, artefatos incorretos e valores ausentes.]\n"
   ]
  },
  {
   "cell_type": "markdown",
   "metadata": {},
   "source": [
    "## Transformação de dados\n",
    "\n",
    "[Vamos examinar cada coluna para ver quais problemas podemos ter nelas.]\n",
    "\n",
    "[Comece removendo duplicatas e corrigindo informações educacionais, se necessário.]"
   ]
  },
  {
   "cell_type": "code",
   "execution_count": 13,
   "metadata": {},
   "outputs": [
    {
     "name": "stdout",
     "output_type": "stream",
     "text": [
      "<StringArray>\n",
      "[  \"bachelor's degree\", 'secondary education', 'Secondary Education',\n",
      " 'SECONDARY EDUCATION',   \"BACHELOR'S DEGREE\",        'some college',\n",
      "   'primary education',   \"Bachelor's Degree\",        'SOME COLLEGE',\n",
      "        'Some College',   'PRIMARY EDUCATION',   'Primary Education',\n",
      "     'Graduate Degree',     'GRADUATE DEGREE',     'graduate degree']\n",
      "Length: 15, dtype: string\n"
     ]
    }
   ],
   "source": [
    "# Vamos ver todos os valores na coluna de educação para verificar se e quais grafias precisarão ser corrigidas\n",
    "\n",
    "print(data_scoring['education'].unique())"
   ]
  },
  {
   "cell_type": "code",
   "execution_count": 14,
   "metadata": {
    "scrolled": false
   },
   "outputs": [
    {
     "name": "stdout",
     "output_type": "stream",
     "text": [
      "0          bachelor's degree\n",
      "1        secondary education\n",
      "2        secondary education\n",
      "3        secondary education\n",
      "4        secondary education\n",
      "                ...         \n",
      "21520    secondary education\n",
      "21521    secondary education\n",
      "21522    secondary education\n",
      "21523    secondary education\n",
      "21524    secondary education\n",
      "Name: education, Length: 21525, dtype: string\n"
     ]
    }
   ],
   "source": [
    "# Corrija os registros, se necessário\n",
    "data_scoring['education'] = data_scoring['education'].str.lower()\n",
    "print(data_scoring[\"education\"])"
   ]
  },
  {
   "cell_type": "code",
   "execution_count": 15,
   "metadata": {
    "scrolled": true
   },
   "outputs": [
    {
     "name": "stdout",
     "output_type": "stream",
     "text": [
      "<StringArray>\n",
      "[  \"bachelor's degree\", 'secondary education',        'some college',\n",
      "   'primary education',     'graduate degree']\n",
      "Length: 5, dtype: string\n"
     ]
    }
   ],
   "source": [
    "# Verificando todos os valores na coluna para ter certeza de que os corrigimos\n",
    "\n",
    "print(data_scoring['education'].unique())"
   ]
  },
  {
   "cell_type": "markdown",
   "metadata": {},
   "source": [
    "[Verifique os dados na coluna `children`]"
   ]
  },
  {
   "cell_type": "code",
   "execution_count": 16,
   "metadata": {},
   "outputs": [
    {
     "name": "stdout",
     "output_type": "stream",
     "text": [
      "0    1\n",
      "1    1\n",
      "2    0\n",
      "3    3\n",
      "4    0\n",
      "5    0\n",
      "6    0\n",
      "7    0\n",
      "8    2\n",
      "9    0\n",
      "Name: children, dtype: Int64\n"
     ]
    },
    {
     "data": {
      "text/plain": [
       " 0     14149\n",
       " 1      4818\n",
       " 2      2055\n",
       " 3       330\n",
       " 20       76\n",
       "-1        47\n",
       " 4        41\n",
       " 5         9\n",
       "Name: children, dtype: Int64"
      ]
     },
     "execution_count": 16,
     "metadata": {},
     "output_type": "execute_result"
    }
   ],
   "source": [
    "# Vamos ver a distribuição de valores na coluna `children`\n",
    "print(data_scoring['children'].head(10))\n",
    "\n",
    "data_scoring['children'].value_counts()"
   ]
  },
  {
   "cell_type": "code",
   "execution_count": 17,
   "metadata": {},
   "outputs": [
    {
     "data": {
      "text/plain": [
       "count    21525.00\n",
       "mean         0.54\n",
       "std          1.38\n",
       "min         -1.00\n",
       "25%          0.00\n",
       "50%          0.00\n",
       "75%          1.00\n",
       "max         20.00\n",
       "Name: children, dtype: float64"
      ]
     },
     "execution_count": 17,
     "metadata": {},
     "output_type": "execute_result"
    }
   ],
   "source": [
    "data_scoring['children'].describe(include = 'all').round(2)\n"
   ]
  },
  {
   "cell_type": "markdown",
   "metadata": {},
   "source": [
    "[Há alguma coisa estranha na coluna? Se sim, qual é a porcentagem de dados problemáticos? Como elas podem ter ocorrido? Tome uma decisão sobre o que você fará com esses dados e explique seu raciocínio.]\n",
    "\n",
    "1. Precisamos desconsiderar os casos em que os participantes possuem 'children' negativos e com 20 filhos.\n",
    "2. por ser casos extremos de discreprancia e valores poucos significativos na amostra geral, devemos retirar da analise por acabar contaminando as demais informaçoes.\n",
    "     20       76\n",
    "    -1         47\n",
    "3. 'Remove row contained children == 20 and -1'\n",
    "\n"
   ]
  },
  {
   "cell_type": "code",
   "execution_count": 18,
   "metadata": {},
   "outputs": [
    {
     "data": {
      "text/plain": [
       "<IntegerArray>\n",
       "[1, 0, 3, 2, 4, 5]\n",
       "Length: 6, dtype: Int64"
      ]
     },
     "execution_count": 18,
     "metadata": {},
     "output_type": "execute_result"
    }
   ],
   "source": [
    "data_scoring['children'] = data_scoring['children'].replace(-1,1).reset_index(drop = True)\n",
    "\n",
    "data_scoring['children'] = data_scoring['children'].replace(20,2).reset_index(drop = True)\n",
    "\n",
    "\n",
    "data_scoring['children'].unique()"
   ]
  },
  {
   "cell_type": "code",
   "execution_count": 19,
   "metadata": {},
   "outputs": [
    {
     "data": {
      "text/plain": [
       "count    21525.00\n",
       "mean         0.48\n",
       "std          0.76\n",
       "min          0.00\n",
       "25%          0.00\n",
       "50%          0.00\n",
       "75%          1.00\n",
       "max          5.00\n",
       "Name: children, dtype: float64"
      ]
     },
     "execution_count": 19,
     "metadata": {},
     "output_type": "execute_result"
    }
   ],
   "source": [
    "data_scoring['children'].describe(include = 'all').round(2)"
   ]
  },
  {
   "cell_type": "code",
   "execution_count": 20,
   "metadata": {},
   "outputs": [],
   "source": [
    "# data_scoring_filter = data_scoring.drop(index=(!= 20,['children']].drop()\n",
    "# print(data_scoring_filter)"
   ]
  },
  {
   "cell_type": "code",
   "execution_count": 21,
   "metadata": {
    "scrolled": true
   },
   "outputs": [
    {
     "data": {
      "text/plain": [
       "0    14149\n",
       "1     4865\n",
       "2     2131\n",
       "3      330\n",
       "4       41\n",
       "5        9\n",
       "Name: children, dtype: Int64"
      ]
     },
     "execution_count": 21,
     "metadata": {},
     "output_type": "execute_result"
    }
   ],
   "source": [
    "# Verificar a coluna `children` novamente para ter certeza de que está tudo corrigido\n",
    "\n",
    "data_scoring['children'].value_counts()"
   ]
  },
  {
   "cell_type": "markdown",
   "metadata": {},
   "source": [
    "[Verifique os dados na coluna `days_employed`. Em primeiro lugar, pense sobre que tipo de problemas pode haver, o que você pode querer verificar e como você fará isso.] \n",
    "\n",
    "1. erros similares aos anteriores como NaN, Ausentes, numeros negativos, valores nao inteiros\n"
   ]
  },
  {
   "cell_type": "code",
   "execution_count": 22,
   "metadata": {
    "scrolled": false
   },
   "outputs": [
    {
     "data": {
      "text/plain": [
       "count     19351.0\n",
       "mean      63046.0\n",
       "std      140827.0\n",
       "min      -18389.0\n",
       "25%       -2747.0\n",
       "50%       -1203.0\n",
       "75%        -291.0\n",
       "max      401755.0\n",
       "Name: days_employed, dtype: float64"
      ]
     },
     "execution_count": 22,
     "metadata": {},
     "output_type": "execute_result"
    }
   ],
   "source": [
    "# Verificaremos principais informacoes da coluna\n",
    "\n",
    "data_scoring['days_employed'].describe(include = 'all').round(0)"
   ]
  },
  {
   "cell_type": "code",
   "execution_count": 23,
   "metadata": {
    "scrolled": true
   },
   "outputs": [
    {
     "name": "stdout",
     "output_type": "stream",
     "text": [
      "children               0\n",
      "days_employed       2174\n",
      "dob_years              0\n",
      "education              0\n",
      "education_id           0\n",
      "family_status          0\n",
      "family_status_id       0\n",
      "gender                 0\n",
      "income_type            0\n",
      "debt                   0\n",
      "total_income        2174\n",
      "purpose                0\n",
      "dtype: int64\n"
     ]
    }
   ],
   "source": [
    "# Verifica a quantidade de valores NAN \n",
    "print(data_scoring.isna().sum())\n",
    " #A Coluna possui 2174 linhas Ausentes\n"
   ]
  },
  {
   "cell_type": "code",
   "execution_count": 24,
   "metadata": {},
   "outputs": [
    {
     "name": "stdout",
     "output_type": "stream",
     "text": [
      "-327.685916       0.005168\n",
      " 383542.505472    0.005168\n",
      "-263.131415       0.005168\n",
      "-12747.577578     0.005168\n",
      "-1333.589790      0.005168\n",
      "                    ...   \n",
      "-1865.637838      0.005168\n",
      " 370431.581292    0.005168\n",
      "-6319.064573      0.005168\n",
      "-4994.763109      0.005168\n",
      "-3382.113891      0.005168\n",
      "Name: days_employed, Length: 19351, dtype: Float64\n"
     ]
    }
   ],
   "source": [
    "data_scoring_percentagem = (data_scoring['days_employed'].value_counts() / data_scoring['days_employed'].value_counts().sum())*100\n",
    "\n",
    "print(data_scoring_percentagem)"
   ]
  },
  {
   "cell_type": "markdown",
   "metadata": {},
   "source": [
    "[Se a quantidade de dados problemáticos for alta, pode ser devido a alguns problemas técnicos. Provavelmente, podemos querer propor a razão mais óbvia pela qual isso poderia ter acontecido e quais poderiam ter sido os dados corretos, pois não podemos descartar essas linhas problemáticas.]"
   ]
  },
  {
   "cell_type": "code",
   "execution_count": 25,
   "metadata": {},
   "outputs": [],
   "source": [
    "# Aborde os valores problemáticos, se existirem"
   ]
  },
  {
   "cell_type": "code",
   "execution_count": 26,
   "metadata": {
    "scrolled": false
   },
   "outputs": [
    {
     "name": "stdout",
     "output_type": "stream",
     "text": [
      "142.276217       1\n",
      "2292.550500      1\n",
      "1523.728350      1\n",
      "2899.241661      1\n",
      "382.621465       1\n",
      "                ..\n",
      "3626.795535      1\n",
      "370431.581292    1\n",
      "805.249179       1\n",
      "4665.860899      1\n",
      "1636.419775      1\n",
      "Name: days_employed, Length: 19351, dtype: Int64\n"
     ]
    }
   ],
   "source": [
    "#transformar valores negativos em positivos utilizando o metodo.abs()\n",
    "data_scoring['days_employed'] = data_scoring[\"days_employed\"].abs()\n",
    "\n",
    "print(data_scoring['days_employed'].value_counts())"
   ]
  },
  {
   "cell_type": "code",
   "execution_count": 27,
   "metadata": {
    "scrolled": true
   },
   "outputs": [
    {
     "data": {
      "text/plain": [
       "count     19351.00\n",
       "mean      66914.73\n",
       "std      139030.88\n",
       "min          24.14\n",
       "25%         927.01\n",
       "50%        2194.22\n",
       "75%        5537.88\n",
       "max      401755.40\n",
       "Name: days_employed, dtype: float64"
      ]
     },
     "execution_count": 27,
     "metadata": {},
     "output_type": "execute_result"
    }
   ],
   "source": [
    "data_scoring['days_employed'].describe(include = 'all').round(2)"
   ]
  },
  {
   "cell_type": "code",
   "execution_count": 28,
   "metadata": {
    "scrolled": true
   },
   "outputs": [
    {
     "name": "stdout",
     "output_type": "stream",
     "text": [
      "children               0\n",
      "days_employed       2174\n",
      "dob_years              0\n",
      "education              0\n",
      "education_id           0\n",
      "family_status          0\n",
      "family_status_id       0\n",
      "gender                 0\n",
      "income_type            0\n",
      "debt                   0\n",
      "total_income        2174\n",
      "purpose                0\n",
      "dtype: int64\n"
     ]
    }
   ],
   "source": [
    "# Verifique o resultado - certifique-se de que está corrigido\n",
    "\n",
    "# confirmando que nao possuimos mais valores NAN\n",
    "\n",
    "print(data_scoring.isna().sum())"
   ]
  },
  {
   "cell_type": "markdown",
   "metadata": {},
   "source": [
    "[Vamos agora olhar para a idade do cliente e se há algum problema aí. Novamente, pense em quais dados podem ser estranhos nesta coluna, ou seja, quais não podem ser a idade de alguém.]\n",
    "\n",
    "1. Idade negativa\n",
    "2. Idade 0\n",
    "3. Idade muito acima da expectativa"
   ]
  },
  {
   "cell_type": "code",
   "execution_count": 29,
   "metadata": {
    "scrolled": false
   },
   "outputs": [
    {
     "data": {
      "text/plain": [
       "<IntegerArray>\n",
       "[42, 36, 33, 32, 53, 27, 43, 50, 35, 41, 40, 65, 54, 56, 26, 48, 24, 21, 57,\n",
       " 67, 28, 63, 62, 47, 34, 68, 25, 31, 30, 20, 49, 37, 45, 61, 64, 44, 52, 46,\n",
       " 23, 38, 39, 51,  0, 59, 29, 60, 55, 58, 71, 22, 73, 66, 69, 19, 72, 70, 74,\n",
       " 75]\n",
       "Length: 58, dtype: Int64"
      ]
     },
     "execution_count": 29,
     "metadata": {},
     "output_type": "execute_result"
    }
   ],
   "source": [
    "# Verifique o `dob_years` para valores suspeitos e conte a porcentagem\n",
    "data_scoring['dob_years'].unique()"
   ]
  },
  {
   "cell_type": "code",
   "execution_count": 30,
   "metadata": {
    "scrolled": false
   },
   "outputs": [
    {
     "data": {
      "text/plain": [
       "count    21525.0\n",
       "mean        43.0\n",
       "std         13.0\n",
       "min          0.0\n",
       "25%         33.0\n",
       "50%         42.0\n",
       "75%         53.0\n",
       "max         75.0\n",
       "Name: dob_years, dtype: float64"
      ]
     },
     "execution_count": 30,
     "metadata": {},
     "output_type": "execute_result"
    }
   ],
   "source": [
    "data_scoring['dob_years'].describe(include = 'all').round(0)"
   ]
  },
  {
   "cell_type": "code",
   "execution_count": 31,
   "metadata": {},
   "outputs": [
    {
     "name": "stdout",
     "output_type": "stream",
     "text": [
      "35    2.866434\n",
      "40    2.829268\n",
      "41    2.819977\n",
      "34    2.801394\n",
      "38    2.778165\n",
      "42    2.773519\n",
      "33    2.699187\n",
      "39    2.662021\n",
      "31    2.601626\n",
      "36    2.578397\n",
      "44    2.541231\n",
      "29     2.53194\n",
      "30    2.508711\n",
      "48    2.499419\n",
      "37    2.494774\n",
      "50    2.387921\n",
      "43    2.383275\n",
      "32    2.369338\n",
      "49    2.360046\n",
      "28    2.336818\n",
      "45    2.308943\n",
      "27     2.29036\n",
      "56    2.262485\n",
      "52    2.248548\n",
      "47    2.229965\n",
      "54    2.225319\n",
      "46    2.206736\n",
      "58    2.141696\n",
      "57     2.13705\n",
      "53    2.132404\n",
      "51    2.081301\n",
      "59    2.062718\n",
      "55    2.058072\n",
      "26     1.89547\n",
      "60    1.751452\n",
      "25    1.658537\n",
      "61    1.649245\n",
      "62    1.635308\n",
      "63     1.24971\n",
      "64    1.231127\n",
      "24    1.226481\n",
      "23    1.180023\n",
      "65    0.901278\n",
      "22    0.850174\n",
      "66    0.850174\n",
      "67    0.775842\n",
      "21    0.515679\n",
      "0     0.469222\n",
      "68     0.45993\n",
      "69     0.39489\n",
      "70    0.301974\n",
      "71    0.269454\n",
      "20    0.236934\n",
      "72     0.15331\n",
      "19    0.065041\n",
      "73    0.037166\n",
      "74    0.027875\n",
      "75    0.004646\n",
      "Name: dob_years, dtype: Float64\n"
     ]
    }
   ],
   "source": [
    "# Encontrar a porcetagem\n",
    "# as Idade 0 possuem uma representatividade de apenas 0,5% do total \n",
    "\n",
    "data_scoring_percentagem = (data_scoring['dob_years'].value_counts() / data_scoring['dob_years'].value_counts().sum())*100\n",
    "\n",
    "print(data_scoring_percentagem)"
   ]
  },
  {
   "cell_type": "markdown",
   "metadata": {},
   "source": [
    "[Decida o que você fará com os valores problemáticos e explique por quê.]\n",
    "Realizar a substituiçāo dos valores idade 0 pelo valor da média pois os valores atipicos nāo sāo significativos\n"
   ]
  },
  {
   "cell_type": "code",
   "execution_count": 32,
   "metadata": {},
   "outputs": [
    {
     "name": "stdout",
     "output_type": "stream",
     "text": [
      "0        42\n",
      "1        36\n",
      "2        33\n",
      "3        32\n",
      "4        53\n",
      "         ..\n",
      "21520    43\n",
      "21521    67\n",
      "21522    38\n",
      "21523    38\n",
      "21524    40\n",
      "Name: dob_years, Length: 21525, dtype: Int64\n"
     ]
    }
   ],
   "source": [
    "dob_years_mean = data_scoring['dob_years'].mean().round(0)\n",
    "\n",
    "data_scoring['dob_years'] = data_scoring['dob_years'].replace(0,dob_years_mean) #.loc[0].\n",
    "\n",
    "print(data_scoring['dob_years'])"
   ]
  },
  {
   "cell_type": "code",
   "execution_count": 33,
   "metadata": {},
   "outputs": [
    {
     "data": {
      "text/plain": [
       "count    21525.0\n",
       "mean        43.0\n",
       "std         12.0\n",
       "min         19.0\n",
       "25%         34.0\n",
       "50%         43.0\n",
       "75%         53.0\n",
       "max         75.0\n",
       "Name: dob_years, dtype: float64"
      ]
     },
     "execution_count": 33,
     "metadata": {},
     "output_type": "execute_result"
    }
   ],
   "source": [
    "# Verifique o resultado - certifique-se de que está corrigido\n",
    "data_scoring['dob_years'].describe(include = 'all').round(0)"
   ]
  },
  {
   "cell_type": "markdown",
   "metadata": {},
   "source": [
    "[Agora vamos verificar a coluna `family_status`. Veja que tipo de valores existem e quais problemas você pode precisar resolver.]"
   ]
  },
  {
   "cell_type": "code",
   "execution_count": 34,
   "metadata": {},
   "outputs": [
    {
     "data": {
      "text/plain": [
       "<StringArray>\n",
       "['married', 'civil partnership', 'widow / widower', 'divorced', 'unmarried']\n",
       "Length: 5, dtype: string"
      ]
     },
     "execution_count": 34,
     "metadata": {},
     "output_type": "execute_result"
    }
   ],
   "source": [
    "# Vamos ver os valores da coluna\n",
    "\n",
    "data_scoring['family_status'].unique()"
   ]
  },
  {
   "cell_type": "code",
   "execution_count": 35,
   "metadata": {},
   "outputs": [
    {
     "data": {
      "text/plain": [
       "count       21525\n",
       "unique          5\n",
       "top       married\n",
       "freq        12380\n",
       "Name: family_status, dtype: object"
      ]
     },
     "execution_count": 35,
     "metadata": {},
     "output_type": "execute_result"
    }
   ],
   "source": [
    "data_scoring['family_status'].describe(include = 'all')"
   ]
  },
  {
   "cell_type": "code",
   "execution_count": 36,
   "metadata": {},
   "outputs": [
    {
     "name": "stdout",
     "output_type": "stream",
     "text": [
      "family_status\n",
      "married              12380\n",
      "civil partnership     4177\n",
      "unmarried             2813\n",
      "divorced              1195\n",
      "widow / widower        960\n",
      "dtype: int64\n"
     ]
    }
   ],
   "source": [
    "print(data_scoring.value_counts('family_status'))"
   ]
  },
  {
   "cell_type": "code",
   "execution_count": 37,
   "metadata": {},
   "outputs": [
    {
     "name": "stdout",
     "output_type": "stream",
     "text": [
      "21525\n"
     ]
    }
   ],
   "source": [
    "print(data_scoring['family_status'].isnull().count())\n"
   ]
  },
  {
   "cell_type": "code",
   "execution_count": 38,
   "metadata": {},
   "outputs": [],
   "source": [
    "# Aborde os valores problemáticos em `family_status`, se eles existirem"
   ]
  },
  {
   "cell_type": "code",
   "execution_count": 39,
   "metadata": {},
   "outputs": [],
   "source": [
    "# Verifique o resultado - certifique-se de que está corrigido\n",
    "# Nao foi encontrado valores divergentes na analise"
   ]
  },
  {
   "cell_type": "markdown",
   "metadata": {},
   "source": [
    "[Agora vamos verificar a coluna `gender`. Veja que tipo de valores existem e quais problemas você pode precisar resolver]"
   ]
  },
  {
   "cell_type": "code",
   "execution_count": 40,
   "metadata": {},
   "outputs": [
    {
     "name": "stdout",
     "output_type": "stream",
     "text": [
      "gender\n",
      "F      14236\n",
      "M       7288\n",
      "XNA        1\n",
      "dtype: int64\n"
     ]
    }
   ],
   "source": [
    "print(data_scoring.value_counts('gender'))"
   ]
  },
  {
   "cell_type": "code",
   "execution_count": 41,
   "metadata": {},
   "outputs": [
    {
     "data": {
      "text/plain": [
       "<StringArray>\n",
       "['F', 'M', 'XNA']\n",
       "Length: 3, dtype: string"
      ]
     },
     "execution_count": 41,
     "metadata": {},
     "output_type": "execute_result"
    }
   ],
   "source": [
    "data_scoring['gender'].unique()"
   ]
  },
  {
   "cell_type": "code",
   "execution_count": 42,
   "metadata": {},
   "outputs": [
    {
     "data": {
      "text/plain": [
       "children               0\n",
       "days_employed       2174\n",
       "dob_years              0\n",
       "education              0\n",
       "education_id           0\n",
       "family_status          0\n",
       "family_status_id       0\n",
       "gender                 0\n",
       "income_type            0\n",
       "debt                   0\n",
       "total_income        2174\n",
       "purpose                0\n",
       "dtype: int64"
      ]
     },
     "execution_count": 42,
     "metadata": {},
     "output_type": "execute_result"
    }
   ],
   "source": [
    "# data_scoring.isnull().count()\n",
    "\n",
    "data_scoring.isna().sum()"
   ]
  },
  {
   "cell_type": "code",
   "execution_count": 43,
   "metadata": {},
   "outputs": [],
   "source": [
    "# Aborde os valores problemáticos, se existirem"
   ]
  },
  {
   "cell_type": "code",
   "execution_count": 44,
   "metadata": {},
   "outputs": [],
   "source": [
    "# Verifique o resultado - certifique-se de que está corrigido"
   ]
  },
  {
   "cell_type": "markdown",
   "metadata": {},
   "source": [
    "[Agora vamos verificar a coluna `income_type`. Veja que tipo de valores existem e quais problemas você pode precisar resolver]"
   ]
  },
  {
   "cell_type": "code",
   "execution_count": 45,
   "metadata": {},
   "outputs": [
    {
     "data": {
      "text/plain": [
       "<StringArray>\n",
       "[                   'employee',                     'retiree',\n",
       "                    'business',               'civil servant',\n",
       "                  'unemployed',                'entrepreneur',\n",
       "                     'student', 'paternity / maternity leave']\n",
       "Length: 8, dtype: string"
      ]
     },
     "execution_count": 45,
     "metadata": {},
     "output_type": "execute_result"
    }
   ],
   "source": [
    "# Vamos ver os valores na coluna\n",
    "data_scoring['income_type'].unique()"
   ]
  },
  {
   "cell_type": "code",
   "execution_count": 46,
   "metadata": {},
   "outputs": [
    {
     "name": "stdout",
     "output_type": "stream",
     "text": [
      "employee                       11119\n",
      "business                        5085\n",
      "retiree                         3856\n",
      "civil servant                   1459\n",
      "entrepreneur                       2\n",
      "unemployed                         2\n",
      "paternity / maternity leave        1\n",
      "student                            1\n",
      "Name: income_type, dtype: Int64\n"
     ]
    }
   ],
   "source": [
    "print(data_scoring['income_type'].value_counts())"
   ]
  },
  {
   "cell_type": "code",
   "execution_count": 47,
   "metadata": {},
   "outputs": [
    {
     "data": {
      "text/plain": [
       "children               0\n",
       "days_employed       2174\n",
       "dob_years              0\n",
       "education              0\n",
       "education_id           0\n",
       "family_status          0\n",
       "family_status_id       0\n",
       "gender                 0\n",
       "income_type            0\n",
       "debt                   0\n",
       "total_income        2174\n",
       "purpose                0\n",
       "dtype: int64"
      ]
     },
     "execution_count": 47,
     "metadata": {},
     "output_type": "execute_result"
    }
   ],
   "source": [
    "# Aborde os valores problemáticos, se existirem\n",
    "data_scoring.isna().sum()"
   ]
  },
  {
   "cell_type": "code",
   "execution_count": 48,
   "metadata": {},
   "outputs": [],
   "source": [
    "# Verifique o resultado - certifique-se de que está corrigido"
   ]
  },
  {
   "cell_type": "markdown",
   "metadata": {},
   "source": [
    "[Agora vamos ver se temos duplicatas em nossos dados. Se o fizermos, você precisará decidir o que fará com eles e explicar o porquê.]"
   ]
  },
  {
   "cell_type": "code",
   "execution_count": 49,
   "metadata": {},
   "outputs": [
    {
     "name": "stdout",
     "output_type": "stream",
     "text": [
      "children  days_employed  dob_years  education            education_id  family_status      family_status_id  gender  income_type  debt  total_income  purpose                                 \n",
      "0         24.240695      32         bachelor's degree    0             unmarried          4                 M       employee     0     19858.460     to get a supplementary education            1\n",
      "1         189.440304     43         secondary education  1             unmarried          4                 F       business     1     29765.801     cars                                        1\n",
      "          188.799657     27         bachelor's degree    0             civil partnership  1                 F       business     0     23685.322     wedding ceremony                            1\n",
      "          188.732581     50         secondary education  1             civil partnership  1                 F       business     0     12174.445     to have a wedding                           1\n",
      "          188.674638     26         some college         2             married            0                 F       business     0     14173.552     getting an education                        1\n",
      "                                                                                                                                                                                                ..\n",
      "0         2702.370785    30         secondary education  1             married            0                 F       employee     0     25962.221     transactions with commercial real estate    1\n",
      "          2701.985633    31         bachelor's degree    0             married            0                 F       employee     0     44431.162     real estate transactions                    1\n",
      "          2701.759524    35         secondary education  1             married            0                 M       business     0     15762.305     car                                         1\n",
      "          2701.498047    43         secondary education  1             unmarried          4                 F       employee     0     69900.169     purchase of the house                       1\n",
      "5         3248.839837    36         secondary education  1             married            0                 F       business     0     26953.748     real estate transactions                    1\n",
      "Length: 19351, dtype: int64\n"
     ]
    }
   ],
   "source": [
    "# Verificar duplicatas\n",
    "\n",
    "print(data_scoring.value_counts())"
   ]
  },
  {
   "cell_type": "code",
   "execution_count": 50,
   "metadata": {},
   "outputs": [
    {
     "name": "stdout",
     "output_type": "stream",
     "text": [
      "71\n"
     ]
    }
   ],
   "source": [
    "# Aborde as duplicatas, se existirem\n",
    "print(data_scoring.duplicated().sum())"
   ]
  },
  {
   "cell_type": "code",
   "execution_count": 51,
   "metadata": {},
   "outputs": [],
   "source": [
    "# Última verificação se temos duplicatas\n"
   ]
  },
  {
   "cell_type": "code",
   "execution_count": 52,
   "metadata": {},
   "outputs": [
    {
     "name": "stdout",
     "output_type": "stream",
     "text": [
      "<class 'pandas.core.frame.DataFrame'>\n",
      "RangeIndex: 21525 entries, 0 to 21524\n",
      "Data columns (total 12 columns):\n",
      " #   Column            Non-Null Count  Dtype  \n",
      "---  ------            --------------  -----  \n",
      " 0   children          21525 non-null  Int64  \n",
      " 1   days_employed     19351 non-null  Float64\n",
      " 2   dob_years         21525 non-null  Int64  \n",
      " 3   education         21525 non-null  string \n",
      " 4   education_id      21525 non-null  Int64  \n",
      " 5   family_status     21525 non-null  string \n",
      " 6   family_status_id  21525 non-null  Int64  \n",
      " 7   gender            21525 non-null  string \n",
      " 8   income_type       21525 non-null  string \n",
      " 9   debt              21525 non-null  Int64  \n",
      " 10  total_income      19351 non-null  Float64\n",
      " 11  purpose           21525 non-null  string \n",
      "dtypes: Float64(2), Int64(5), string(5)\n",
      "memory usage: 2.1 MB\n"
     ]
    }
   ],
   "source": [
    "#Verifique o tamanho do conjunto de dados que você tem agora após suas primeiras manipulações com ele\n",
    "data_scoring.info()"
   ]
  },
  {
   "cell_type": "markdown",
   "metadata": {},
   "source": [
    "[Descreva seu novo conjunto de dados: diga brevemente o que mudou e qual é a porcentagem das alterações, se houver.]\n"
   ]
  },
  {
   "cell_type": "markdown",
   "metadata": {},
   "source": [
    "# Trabalhando com valores ausentes"
   ]
  },
  {
   "cell_type": "markdown",
   "metadata": {},
   "source": [
    "[Para acelerar o trabalho com alguns dados, você pode querer trabalhar com dicionários para alguns valores, onde os IDs são fornecidos. Explique por quê e com quais dicionários você trabalhará.]\n",
    "\n",
    "1. Iremos trabalhar utilizando alguns tipos de dados para facilitar as informações:\n",
    "    * family_status\n",
    "    * children\n",
    "2. Precisamos descobrir se o estado civil e n de filhos tem impacto na analise."
   ]
  },
  {
   "cell_type": "code",
   "execution_count": 53,
   "metadata": {},
   "outputs": [
    {
     "name": "stdout",
     "output_type": "stream",
     "text": [
      "   children  days_employed  dob_years            education  education_id  \\\n",
      "0         1    8437.673028         42    bachelor's degree             0   \n",
      "1         1    4024.803754         36  secondary education             1   \n",
      "2         0     5623.42261         33  secondary education             1   \n",
      "3         3    4124.747207         32  secondary education             1   \n",
      "4         0  340266.072047         53  secondary education             1   \n",
      "5         0     926.185831         27    bachelor's degree             0   \n",
      "6         0    2879.202052         43    bachelor's degree             0   \n",
      "7         0     152.779569         50  secondary education             1   \n",
      "8         2    6929.865299         35    bachelor's degree             0   \n",
      "9         0    2188.756445         41  secondary education             1   \n",
      "\n",
      "       family_status  family_status_id gender income_type  debt  total_income  \\\n",
      "0            married                 0      F    employee     0     40620.102   \n",
      "1            married                 0      F    employee     0     17932.802   \n",
      "2            married                 0      M    employee     0     23341.752   \n",
      "3            married                 0      M    employee     0     42820.568   \n",
      "4  civil partnership                 1      F     retiree     0     25378.572   \n",
      "5  civil partnership                 1      M    business     0      40922.17   \n",
      "6            married                 0      F    business     0     38484.156   \n",
      "7            married                 0      M    employee     0     21731.829   \n",
      "8  civil partnership                 1      F    employee     0     15337.093   \n",
      "9            married                 0      M    employee     0      23108.15   \n",
      "\n",
      "                               purpose  \n",
      "0                purchase of the house  \n",
      "1                         car purchase  \n",
      "2                purchase of the house  \n",
      "3              supplementary education  \n",
      "4                    to have a wedding  \n",
      "5                purchase of the house  \n",
      "6                 housing transactions  \n",
      "7                            education  \n",
      "8                     having a wedding  \n",
      "9  purchase of the house for my family  \n"
     ]
    }
   ],
   "source": [
    "# Encontre os dicionários\n",
    "print(data_scoring.head(10))"
   ]
  },
  {
   "cell_type": "code",
   "execution_count": 54,
   "metadata": {
    "scrolled": false
   },
   "outputs": [
    {
     "name": "stdout",
     "output_type": "stream",
     "text": [
      "          days_employed  dob_years  education  education_id  family_status  \\\n",
      "children                                                                     \n",
      "0                 12710      14149      14149         14149          14149   \n",
      "1                  4387       4865       4865          4865           4865   \n",
      "2                  1918       2131       2131          2131           2131   \n",
      "3                   294        330        330           330            330   \n",
      "4                    34         41         41            41             41   \n",
      "5                     8          9          9             9              9   \n",
      "\n",
      "          family_status_id  gender  income_type   debt  total_income  purpose  \n",
      "children                                                                       \n",
      "0                    14149   14149        14149  14149         12710    14149  \n",
      "1                     4865    4865         4865   4865          4387     4865  \n",
      "2                     2131    2131         2131   2131          1918     2131  \n",
      "3                      330     330          330    330           294      330  \n",
      "4                       41      41           41     41            34       41  \n",
      "5                        9       9            9      9             8        9  \n"
     ]
    }
   ],
   "source": [
    "data_children_status = data_scoring[['family_status', 'children']]\n",
    "data_children_status = data_scoring.groupby('children').count()\n",
    "print(data_children_status)"
   ]
  },
  {
   "cell_type": "markdown",
   "metadata": {},
   "source": [
    "### Restaurar valores ausentes em `total_income`"
   ]
  },
  {
   "cell_type": "markdown",
   "metadata": {},
   "source": [
    "[Informe brevemente quais colunas têm valores ausentes que você precisa resolver. Explique como você irá corrigi-los.]\n",
    "\n",
    "1. AS COLUNAS QUE POSSUEM VALORES AUSENTES SĀO:\n",
    "    * TOTAL_INCOME\n",
    "    * DAYS_EMPLOYED\n",
    "    \n",
    "\n",
    "[Comece abordando os valores ausentes da receita total. Criar e categoria de idade para os clientes. Crie uma nova coluna com a categoria de idade. Essa estratégia pode ajudar no cálculo de valores para a renda total..]\n"
   ]
  },
  {
   "cell_type": "code",
   "execution_count": 55,
   "metadata": {},
   "outputs": [
    {
     "name": "stdout",
     "output_type": "stream",
     "text": [
      "0    12380\n",
      "1     4177\n",
      "2      960\n",
      "3     1195\n",
      "4     2813\n",
      "Name: family_status_id, dtype: Int64\n",
      "0     5260\n",
      "1    15233\n",
      "2      744\n",
      "3      282\n",
      "4        6\n",
      "Name: education_id, dtype: Int64\n",
      "business                        5085\n",
      "civil servant                   1459\n",
      "employee                       11119\n",
      "entrepreneur                       2\n",
      "paternity / maternity leave        1\n",
      "retiree                         3856\n",
      "student                            1\n",
      "unemployed                         2\n",
      "Name: income_type, dtype: Int64\n"
     ]
    }
   ],
   "source": [
    "print(data_scoring['family_status_id'].value_counts().sort_index())\n",
    "\n",
    "print(data_scoring['education_id'].value_counts().sort_index())\n",
    "\n",
    "print(data_scoring['income_type'].value_counts().sort_index())\n"
   ]
  },
  {
   "cell_type": "code",
   "execution_count": 56,
   "metadata": {
    "scrolled": true
   },
   "outputs": [
    {
     "name": "stdout",
     "output_type": "stream",
     "text": [
      "<IntegerArray>\n",
      "[42, 36, 33, 32, 53, 27, 43, 50, 35, 41, 40, 65, 54, 56, 26, 48, 24, 21, 57,\n",
      " 67, 28, 63, 62, 47, 34, 68, 25, 31, 30, 20, 49, 37, 45, 61, 64, 44, 52, 46,\n",
      " 23, 38, 39, 51, 59, 29, 60, 55, 58, 71, 22, 73, 66, 69, 19, 72, 70, 74, 75]\n",
      "Length: 57, dtype: Int64\n",
      "19     14\n",
      "20     51\n",
      "21    111\n",
      "22    183\n",
      "23    254\n",
      "24    264\n",
      "25    357\n",
      "26    408\n",
      "27    493\n",
      "28    503\n",
      "29    545\n",
      "30    540\n",
      "31    560\n",
      "32    510\n",
      "33    581\n",
      "34    603\n",
      "35    617\n",
      "36    555\n",
      "37    537\n",
      "38    598\n",
      "39    573\n",
      "40    609\n",
      "41    607\n",
      "42    597\n",
      "43    614\n",
      "44    547\n",
      "45    497\n",
      "46    475\n",
      "47    480\n",
      "48    538\n",
      "49    508\n",
      "50    514\n",
      "51    448\n",
      "52    484\n",
      "53    459\n",
      "54    479\n",
      "55    443\n",
      "56    487\n",
      "57    460\n",
      "58    461\n",
      "59    444\n",
      "60    377\n",
      "61    355\n",
      "62    352\n",
      "63    269\n",
      "64    265\n",
      "65    194\n",
      "66    183\n",
      "67    167\n",
      "68     99\n",
      "69     85\n",
      "70     65\n",
      "71     58\n",
      "72     33\n",
      "73      8\n",
      "74      6\n",
      "75      1\n",
      "Name: dob_years, dtype: Int64\n"
     ]
    }
   ],
   "source": [
    "\n",
    "# Vamos escrever uma função que calcule a categoria de idade\n",
    "\n",
    "\n",
    "print(data_scoring[\"dob_years\"].unique())\n",
    "\n",
    "\n",
    "print(data_scoring['dob_years'].value_counts().sort_index())\n",
    "\n"
   ]
  },
  {
   "cell_type": "code",
   "execution_count": 57,
   "metadata": {
    "scrolled": false
   },
   "outputs": [
    {
     "name": "stdout",
     "output_type": "stream",
     "text": [
      "1\n",
      "378.0\n",
      "617\n"
     ]
    }
   ],
   "source": [
    "# Para criarmos nossa funçāo com base na quantidade de dados por idade,\n",
    "# usaremos a funcao describre para capturar os dados MAX MIN e MEAN.\n",
    "\n",
    "print(data_scoring['dob_years'].value_counts().min().round(0))\n",
    "print(data_scoring['dob_years'].value_counts().mean().round(0))\n",
    "print(data_scoring['dob_years'].value_counts().max().round(0))\n",
    "                                                                                                                      "
   ]
  },
  {
   "cell_type": "code",
   "execution_count": 58,
   "metadata": {},
   "outputs": [
    {
     "name": "stdout",
     "output_type": "stream",
     "text": [
      "     dob_years  children\n",
      "64          60         0\n",
      "38          61         0\n",
      "39          64         0\n",
      "40          44         0\n",
      "81          57         0\n",
      "..         ...       ...\n",
      "214         59         5\n",
      "174         36         5\n",
      "173         42         5\n",
      "213         38         5\n",
      "205         37         5\n",
      "\n",
      "[216 rows x 2 columns]\n"
     ]
    }
   ],
   "source": [
    "age_ref = data_scoring[[\"dob_years\",\"children\"]]\n",
    "age_ref = age_ref.drop_duplicates().reset_index(drop = True)\n",
    "print(age_ref.sort_values(\"children\", ascending = True))"
   ]
  },
  {
   "cell_type": "code",
   "execution_count": 59,
   "metadata": {},
   "outputs": [],
   "source": [
    "# As idades dos clientes variam entre 19 e 75 anos:\n",
    "# As categorias seråo:\n",
    "    # Adulto_18_30\n",
    "    # Adulto_31_40\n",
    "    # Adulto_41_50\n",
    "    # Adulto_51_60\n",
    "    # Idoso_61+\n",
    "    \n",
    "\n",
    "# data_scoring_grouped =  data_scoring.groupby('dob_years').count()\n",
    "\n",
    "def age_group(age):\n",
    "    if age <= 30:\n",
    "        return \"Adulto_18_30\"\n",
    "    if age <= 40:\n",
    "        return \"Adulto_31_40\"\n",
    "    if age <= 50:\n",
    "        return \"Adulto_41_50\"\n",
    "    if age <= 60:\n",
    "        return \"Adulto_51_60\"\n",
    "    if age <= 75:\n",
    "        return \"Adulto_75\"\n",
    "    return 'none'\n",
    "    "
   ]
  },
  {
   "cell_type": "code",
   "execution_count": 60,
   "metadata": {
    "scrolled": true
   },
   "outputs": [
    {
     "name": "stdout",
     "output_type": "stream",
     "text": [
      "Adulto_18_30\n",
      "Adulto_31_40\n",
      "Adulto_41_50\n",
      "Adulto_51_60\n",
      "Adulto_75\n",
      "none\n"
     ]
    }
   ],
   "source": [
    "# Teste se a função funciona\n",
    "print(age_group(19))\n",
    "print(age_group(32))\n",
    "print(age_group(42))\n",
    "print(age_group(55))\n",
    "print(age_group(75))\n",
    "print(age_group(80))"
   ]
  },
  {
   "cell_type": "code",
   "execution_count": 194,
   "metadata": {
    "scrolled": false
   },
   "outputs": [
    {
     "name": "stdout",
     "output_type": "stream",
     "text": [
      "0        Adulto_41_50\n",
      "1        Adulto_31_40\n",
      "2        Adulto_31_40\n",
      "3        Adulto_31_40\n",
      "4        Adulto_51_60\n",
      "             ...     \n",
      "21520    Adulto_41_50\n",
      "21521       Adulto_75\n",
      "21522    Adulto_31_40\n",
      "21523    Adulto_31_40\n",
      "21524    Adulto_31_40\n",
      "Name: age_grouped, Length: 21525, dtype: object\n"
     ]
    }
   ],
   "source": [
    "# Criar coluna nova com base na função\n",
    "\n",
    "data_scoring['age_grouped'] = data_scoring['dob_years'].apply(age_group)\n",
    "\n",
    "print(data_scoring['age_grouped']) #.value_counts())"
   ]
  },
  {
   "cell_type": "code",
   "execution_count": 62,
   "metadata": {
    "scrolled": true
   },
   "outputs": [
    {
     "name": "stdout",
     "output_type": "stream",
     "text": [
      "0        42\n",
      "1        36\n",
      "2        33\n",
      "3        32\n",
      "4        53\n",
      "         ..\n",
      "21520    43\n",
      "21521    67\n",
      "21522    38\n",
      "21523    38\n",
      "21524    40\n",
      "Name: dob_years, Length: 21525, dtype: Int64\n"
     ]
    }
   ],
   "source": [
    "# Verificar como os valores na nova coluna\n",
    "print(data_scoring[\"dob_years\"])\n"
   ]
  },
  {
   "cell_type": "code",
   "execution_count": 63,
   "metadata": {},
   "outputs": [
    {
     "name": "stdout",
     "output_type": "stream",
     "text": [
      "Adulto_31_40    5743\n",
      "Adulto_41_50    5377\n",
      "Adulto_51_60    4542\n",
      "Adulto_18_30    3723\n",
      "Adulto_75       2140\n",
      "Name: age_grouped, dtype: int64\n"
     ]
    }
   ],
   "source": [
    "print(data_scoring['age_grouped'].value_counts())"
   ]
  },
  {
   "cell_type": "markdown",
   "metadata": {},
   "source": [
    "[Pense nos fatores dos quais a renda geralmente depende. Eventualmente, você desejará descobrir se deve usar valores médios ou medianos para substituir valores ausentes. Para tomar essa decisão, você provavelmente vai querer olhar para a distribuição dos fatores que você identificou como tendo impacto na renda de alguém.]\n",
    "\n",
    "* Principais fatores que influenciam na renda:\n",
    "    * income_type\n",
    "    * education\n",
    "    * dob_years (Idade)"
   ]
  },
  {
   "cell_type": "markdown",
   "metadata": {},
   "source": [
    "[Crie uma tabela que tenha apenas dados sem valores ausentes. Esses dados serão usados para restaurar os valores ausentes.]"
   ]
  },
  {
   "cell_type": "code",
   "execution_count": 64,
   "metadata": {
    "scrolled": true
   },
   "outputs": [
    {
     "name": "stdout",
     "output_type": "stream",
     "text": [
      "       children  days_employed  dob_years            education  education_id  \\\n",
      "0             1    8437.673028         42    bachelor's degree             0   \n",
      "1             1    4024.803754         36  secondary education             1   \n",
      "2             0     5623.42261         33  secondary education             1   \n",
      "3             3    4124.747207         32  secondary education             1   \n",
      "4             0  340266.072047         53  secondary education             1   \n",
      "...         ...            ...        ...                  ...           ...   \n",
      "21520         1    4529.316663         43  secondary education             1   \n",
      "21521         0  343937.404131         67  secondary education             1   \n",
      "21522         1    2113.346888         38  secondary education             1   \n",
      "21523         3    3112.481705         38  secondary education             1   \n",
      "21524         2    1984.507589         40  secondary education             1   \n",
      "\n",
      "           family_status  family_status_id gender income_type  debt  \\\n",
      "0                married                 0      F    employee     0   \n",
      "1                married                 0      F    employee     0   \n",
      "2                married                 0      M    employee     0   \n",
      "3                married                 0      M    employee     0   \n",
      "4      civil partnership                 1      F     retiree     0   \n",
      "...                  ...               ...    ...         ...   ...   \n",
      "21520  civil partnership                 1      F    business     0   \n",
      "21521            married                 0      F     retiree     0   \n",
      "21522  civil partnership                 1      M    employee     1   \n",
      "21523            married                 0      M    employee     1   \n",
      "21524            married                 0      F    employee     0   \n",
      "\n",
      "       total_income                  purpose   age_grouped  \n",
      "0         40620.102    purchase of the house  Adulto_41_50  \n",
      "1         17932.802             car purchase  Adulto_31_40  \n",
      "2         23341.752    purchase of the house  Adulto_31_40  \n",
      "3         42820.568  supplementary education  Adulto_31_40  \n",
      "4         25378.572        to have a wedding  Adulto_51_60  \n",
      "...             ...                      ...           ...  \n",
      "21520     35966.698     housing transactions  Adulto_41_50  \n",
      "21521     24959.969        purchase of a car     Adulto_75  \n",
      "21522      14347.61                 property  Adulto_31_40  \n",
      "21523     39054.888        buying my own car  Adulto_31_40  \n",
      "21524     13127.587             to buy a car  Adulto_31_40  \n",
      "\n",
      "[19351 rows x 13 columns]\n"
     ]
    }
   ],
   "source": [
    "# Crie uma tabela sem valores ausentes e exiba algumas de suas linhas para garantir que ela fique boa\n",
    "\n",
    "data_scoring_filtre = data_scoring.loc[(data_scoring['total_income'] != '') & (data_scoring['days_employed'] != '') ] \n",
    "\n",
    "print(data_scoring_filtre)"
   ]
  },
  {
   "cell_type": "code",
   "execution_count": 65,
   "metadata": {
    "scrolled": true
   },
   "outputs": [
    {
     "name": "stdout",
     "output_type": "stream",
     "text": [
      "education\n",
      "bachelor's degree      33142.802434\n",
      "some college           29045.443644\n",
      "graduate degree        27960.024667\n",
      "secondary education    24594.503037\n",
      "primary education      21144.882211\n",
      "Name: total_income, dtype: Float64\n",
      "income_type\n",
      "entrepreneur                      79866.103\n",
      "business                       32386.793835\n",
      "civil servant                  27343.729582\n",
      "employee                       25820.841683\n",
      "retiree                        21940.394503\n",
      "unemployed                       21014.3605\n",
      "student                            15712.26\n",
      "paternity / maternity leave        8612.661\n",
      "Name: total_income, dtype: Float64\n",
      "dob_years\n",
      "46    29840.888162\n",
      "42    29553.753673\n",
      "39    29480.114443\n",
      "37     29333.58245\n",
      "36    29188.621323\n",
      "33    29056.748851\n",
      "43    28865.951464\n",
      "34    28494.735794\n",
      "35    28466.247208\n",
      "44    28450.777831\n",
      "41    28392.780697\n",
      "48    28356.987124\n",
      "27      28337.6784\n",
      "40    28216.595871\n",
      "49    28175.576526\n",
      "31    27821.969285\n",
      "45    27776.057729\n",
      "30    27515.250983\n",
      "51    27235.088231\n",
      "47    27085.061746\n",
      "29    27079.430236\n",
      "38     26911.50852\n",
      "52    26885.204232\n",
      "53    26806.469492\n",
      "32    26785.196366\n",
      "50    26503.901125\n",
      "28     26349.61137\n",
      "64    25884.393232\n",
      "56    25864.341051\n",
      "26    25272.935834\n",
      "25    25211.566611\n",
      "58    25184.870919\n",
      "54    24994.539358\n",
      "57    24857.686252\n",
      "55    24839.611838\n",
      "59    24798.136002\n",
      "75       24525.224\n",
      "61    24307.529019\n",
      "65    24274.798201\n",
      "24    24071.376136\n",
      "62    23814.644334\n",
      "21     22980.76314\n",
      "63    22895.602629\n",
      "60    22816.682873\n",
      "22    22374.508572\n",
      "23    22154.104601\n",
      "67    22069.313391\n",
      "66    21075.015963\n",
      "70    20995.335629\n",
      "71    20669.747736\n",
      "20    20318.927348\n",
      "68    20242.143478\n",
      "69    19856.012638\n",
      "72     19011.40729\n",
      "73    18397.396429\n",
      "19    16993.942462\n",
      "74    13372.878167\n",
      "Name: total_income, dtype: Float64\n"
     ]
    }
   ],
   "source": [
    "# Veja os valores médios de renda com base em seus fatores identificados\n",
    "\n",
    "print(data_scoring_filtre['total_income'].groupby(data_scoring_filtre['education']).mean().sort_values(ascending = False))\n",
    "print(data_scoring_filtre['total_income'].groupby(data_scoring_filtre['income_type']).mean().sort_values(ascending = False))\n",
    "print(data_scoring_filtre['total_income'].groupby(data_scoring_filtre['dob_years']).mean().sort_values(ascending = False))\n",
    "\n",
    "\n"
   ]
  },
  {
   "cell_type": "code",
   "execution_count": 66,
   "metadata": {
    "scrolled": false
   },
   "outputs": [
    {
     "name": "stdout",
     "output_type": "stream",
     "text": [
      "education\n",
      "bachelor's degree       28054.531\n",
      "graduate degree        25161.5835\n",
      "primary education       18741.976\n",
      "secondary education     21836.583\n",
      "some college            25618.464\n",
      "Name: total_income, dtype: Float64\n",
      "income_type\n",
      "business                        27577.272\n",
      "civil servant                  24071.6695\n",
      "employee                       22815.1035\n",
      "entrepreneur                    79866.103\n",
      "paternity / maternity leave      8612.661\n",
      "retiree                         18962.318\n",
      "student                          15712.26\n",
      "unemployed                     21014.3605\n",
      "Name: total_income, dtype: Float64\n",
      "dob_years\n",
      "19     14934.901\n",
      "20     17520.329\n",
      "21     20522.515\n",
      "22     19839.341\n",
      "23    19706.0455\n",
      "24     22464.403\n",
      "25     22899.099\n",
      "26     23273.136\n",
      "27     24708.679\n",
      "28     23946.094\n",
      "29     23458.823\n",
      "30     23511.147\n",
      "31     23796.603\n",
      "32     24200.625\n",
      "33     25046.216\n",
      "34     24857.434\n",
      "35      24983.26\n",
      "36     25389.037\n",
      "37    25669.4635\n",
      "38    24234.6725\n",
      "39    23908.6645\n",
      "40     25336.012\n",
      "41     23770.114\n",
      "42     25466.879\n",
      "43    24335.4465\n",
      "44     24368.464\n",
      "45     24663.622\n",
      "46     25189.772\n",
      "47     24495.671\n",
      "48    25438.2915\n",
      "49    24589.9565\n",
      "50     22740.069\n",
      "51     23221.177\n",
      "52     22728.756\n",
      "53      22559.85\n",
      "54    21907.7055\n",
      "55     21299.657\n",
      "56     22259.153\n",
      "57     22096.588\n",
      "58      21466.11\n",
      "59    21896.7745\n",
      "60     20185.763\n",
      "61     20629.841\n",
      "62     21181.266\n",
      "63     19832.373\n",
      "64    21372.1895\n",
      "65     19669.465\n",
      "66     17867.755\n",
      "67     18024.968\n",
      "68     18113.342\n",
      "69    16690.0775\n",
      "70     18889.972\n",
      "71     19669.487\n",
      "72     17757.684\n",
      "73     19070.478\n",
      "74     12296.052\n",
      "75     24525.224\n",
      "Name: total_income, dtype: Float64\n"
     ]
    }
   ],
   "source": [
    "# Veja os valores medianos de renda com base em seus fatores identificados\n",
    "#Podemos identificar uma diferenca entre os valores medinos e medios como esperado.\n",
    "\n",
    "\n",
    "print(data_scoring_filtre['total_income'].groupby(data_scoring_filtre['education']).median())\n",
    "\n",
    "print(data_scoring_filtre['total_income'].groupby(data_scoring_filtre['income_type']).median())\n",
    "\n",
    "print(data_scoring_filtre['total_income'].groupby(data_scoring_filtre['dob_years']).median())\n"
   ]
  },
  {
   "cell_type": "markdown",
   "metadata": {},
   "source": [
    "[Repita essas comparações para vários fatores. Certifique-se de considerar diferentes aspectos e explicar seu processo de pensamento.]"
   ]
  },
  {
   "cell_type": "markdown",
   "metadata": {},
   "source": [
    "[Tome uma decisão sobre quais características definem mais a renda e se você usará uma mediana ou uma média. Explique por que você tomou essa decisão]\n",
    "\n",
    "* Se seus dados tiverem valores atípicos significativos, calcule a mediana de seus dados — aplique o método median() à coluna ou a todo o conjunto de dados.\n",
    "\n",
    "* Se não houver valores atípicos significativos, calcule a média de seus dados — aplique o método mean() à coluna ou a todo o conjunto de dados."
   ]
  },
  {
   "cell_type": "code",
   "execution_count": 67,
   "metadata": {},
   "outputs": [
    {
     "data": {
      "text/plain": [
       "26787.568354658673"
      ]
     },
     "execution_count": 67,
     "metadata": {},
     "output_type": "execute_result"
    }
   ],
   "source": [
    "data_scoring_filtre['total_income'].mean()"
   ]
  },
  {
   "cell_type": "code",
   "execution_count": 68,
   "metadata": {},
   "outputs": [
    {
     "name": "stdout",
     "output_type": "stream",
     "text": [
      "0          8437.673028\n",
      "1          4024.803754\n",
      "2           5623.42261\n",
      "3          4124.747207\n",
      "4        340266.072047\n",
      "             ...      \n",
      "21520      4529.316663\n",
      "21521    343937.404131\n",
      "21522      2113.346888\n",
      "21523      3112.481705\n",
      "21524      1984.507589\n",
      "Name: days_employed, Length: 21525, dtype: Float64\n",
      "0        40620.102\n",
      "1        17932.802\n",
      "2        23341.752\n",
      "3        42820.568\n",
      "4        25378.572\n",
      "           ...    \n",
      "21520    35966.698\n",
      "21521    24959.969\n",
      "21522     14347.61\n",
      "21523    39054.888\n",
      "21524    13127.587\n",
      "Name: total_income, Length: 21525, dtype: Float64\n"
     ]
    }
   ],
   "source": [
    "#  Escreva uma função que usaremos para preencher os valores ausentes\n",
    "# Utilizamos a tecnica de fillna para substituir todos os valores NAN em uma unica a formula.\n",
    "# tanto para TOTAL_INCOME | DAYS_EMPLOYED\n",
    "\n",
    "data_fill_na = {\"total_income\": data_scoring_filtre['total_income'].mean(), \"days_employed\" :  data_scoring_filtre['days_employed'].mean()}\n",
    "\n",
    "data_scoring = data_scoring.fillna(value = data_fill_na)\n",
    "\n",
    "print(data_scoring['days_employed'])\n",
    "print(data_scoring['total_income'])"
   ]
  },
  {
   "cell_type": "code",
   "execution_count": 69,
   "metadata": {
    "scrolled": false
   },
   "outputs": [
    {
     "name": "stdout",
     "output_type": "stream",
     "text": [
      "       children  days_employed  dob_years            education  education_id  \\\n",
      "0             1    8437.673028         42    bachelor's degree             0   \n",
      "1             1    4024.803754         36  secondary education             1   \n",
      "2             0     5623.42261         33  secondary education             1   \n",
      "3             3    4124.747207         32  secondary education             1   \n",
      "4             0  340266.072047         53  secondary education             1   \n",
      "...         ...            ...        ...                  ...           ...   \n",
      "21520         1    4529.316663         43  secondary education             1   \n",
      "21521         0  343937.404131         67  secondary education             1   \n",
      "21522         1    2113.346888         38  secondary education             1   \n",
      "21523         3    3112.481705         38  secondary education             1   \n",
      "21524         2    1984.507589         40  secondary education             1   \n",
      "\n",
      "           family_status  family_status_id gender income_type  debt  \\\n",
      "0                married                 0      F    employee     0   \n",
      "1                married                 0      F    employee     0   \n",
      "2                married                 0      M    employee     0   \n",
      "3                married                 0      M    employee     0   \n",
      "4      civil partnership                 1      F     retiree     0   \n",
      "...                  ...               ...    ...         ...   ...   \n",
      "21520  civil partnership                 1      F    business     0   \n",
      "21521            married                 0      F     retiree     0   \n",
      "21522  civil partnership                 1      M    employee     1   \n",
      "21523            married                 0      M    employee     1   \n",
      "21524            married                 0      F    employee     0   \n",
      "\n",
      "       total_income                  purpose   age_grouped  \n",
      "0         40620.102    purchase of the house  Adulto_41_50  \n",
      "1         17932.802             car purchase  Adulto_31_40  \n",
      "2         23341.752    purchase of the house  Adulto_31_40  \n",
      "3         42820.568  supplementary education  Adulto_31_40  \n",
      "4         25378.572        to have a wedding  Adulto_51_60  \n",
      "...             ...                      ...           ...  \n",
      "21520     35966.698     housing transactions  Adulto_41_50  \n",
      "21521     24959.969        purchase of a car     Adulto_75  \n",
      "21522      14347.61                 property  Adulto_31_40  \n",
      "21523     39054.888        buying my own car  Adulto_31_40  \n",
      "21524     13127.587             to buy a car  Adulto_31_40  \n",
      "\n",
      "[21525 rows x 13 columns]\n"
     ]
    }
   ],
   "source": [
    "# Aplique em todas as linhas\n",
    "data_scoring = data_scoring.loc[(data_scoring['total_income'] != '') & (data_scoring['days_employed'] != '') ] \n",
    "print(data_scoring)"
   ]
  },
  {
   "cell_type": "markdown",
   "metadata": {},
   "source": [
    "[Se você encontrou erros ao preparar os valores para dados ausentes, provavelmente significa que há algo especial nos dados da categoria. Pense um pouco - você pode querer corrigir algumas coisas manualmente, se houver dados suficientes para encontrar medianos/médios.]\n",
    "\n",
    "* O numero de dados ainda continua o mesmo, o que significa que os valores nao foram substituidos, conforme criamos na nossa formula.\n"
   ]
  },
  {
   "cell_type": "code",
   "execution_count": 70,
   "metadata": {},
   "outputs": [],
   "source": [
    "# Substituir valores ausentes se houver algum erro\n"
   ]
  },
  {
   "cell_type": "markdown",
   "metadata": {},
   "source": [
    "[Quando você achar que terminou com `total_income`, verifique se o número total de valores nesta coluna corresponde ao número de valores em outras.]"
   ]
  },
  {
   "cell_type": "code",
   "execution_count": 71,
   "metadata": {},
   "outputs": [],
   "source": [
    "# Verificar o número de entradas nas colunas\n",
    "\n"
   ]
  },
  {
   "cell_type": "markdown",
   "metadata": {},
   "source": [
    "###  Restaurar valores em `days_employed`"
   ]
  },
  {
   "cell_type": "markdown",
   "metadata": {},
   "source": [
    "[Pense nos parâmetros que podem ajudá-lo a restaurar os valores ausentes nesta coluna. Eventualmente, você desejará descobrir se deve usar valores médios ou medianos para substituir valores ausentes. Você provavelmente fará uma pesquisa semelhante à que fez ao restaurar dados em uma coluna anterior.]"
   ]
  },
  {
   "cell_type": "code",
   "execution_count": 72,
   "metadata": {
    "pycharm": {
     "name": "#%%\n"
    }
   },
   "outputs": [
    {
     "name": "stdout",
     "output_type": "stream",
     "text": [
      "2194.220566878695\n",
      "2609.841014878458\n",
      "66914.72890682236\n",
      "66914.72890682236\n"
     ]
    },
    {
     "data": {
      "text/plain": [
       "count     21525.0\n",
       "mean      66915.0\n",
       "std      131823.0\n",
       "min          24.0\n",
       "25%        1026.0\n",
       "50%        2610.0\n",
       "75%       66915.0\n",
       "max      401755.0\n",
       "Name: days_employed, dtype: float64"
      ]
     },
     "execution_count": 72,
     "metadata": {},
     "output_type": "execute_result"
    }
   ],
   "source": [
    "# Distribuição de `days_employed` medianos com base em seus parâmetros identificados\n",
    "\n",
    "\n",
    "print(data_scoring_filtre['days_employed'].median()) # .groupby(data_scoring_filtre['education']).median())\n",
    "print(data_scoring['days_employed'].median())\n",
    "\n",
    "print(data_scoring_filtre['days_employed'].mean()) # .groupby(data_scoring_filtre['income_type']).median())\n",
    "print(data_scoring['days_employed'].mean())\n",
    "\n",
    "#print(data_scoring_filtre['days_employed']) # .groupby(data_scoring_filtre['dob_years']).median())\n",
    "\n",
    "data_scoring['days_employed'].describe(include = 'all').round(0)\n"
   ]
  },
  {
   "cell_type": "code",
   "execution_count": 73,
   "metadata": {
    "scrolled": false
   },
   "outputs": [
    {
     "data": {
      "text/plain": [
       "count     21525.0\n",
       "mean      66915.0\n",
       "std      131823.0\n",
       "min          24.0\n",
       "25%        1026.0\n",
       "50%        2610.0\n",
       "75%       66915.0\n",
       "max      401755.0\n",
       "Name: days_employed, dtype: float64"
      ]
     },
     "execution_count": 73,
     "metadata": {},
     "output_type": "execute_result"
    }
   ],
   "source": [
    "data_scoring['days_employed'].describe(include = 'all').round(0)"
   ]
  },
  {
   "cell_type": "code",
   "execution_count": 74,
   "metadata": {},
   "outputs": [],
   "source": [
    "# Distribuição de `days_employed` médios com base em seus parâmetros identificados\n",
    "#print(data_scoring_filtre['days_employed']).groupby(data_scoring_filtre['dob_years']).median())"
   ]
  },
  {
   "cell_type": "markdown",
   "metadata": {},
   "source": [
    "[Decida o que você usará: médias ou medianas. Explique por quê.]"
   ]
  },
  {
   "cell_type": "code",
   "execution_count": 75,
   "metadata": {},
   "outputs": [],
   "source": [
    "# Vamos escrever uma função que calcule médias ou medianas (dependendo da sua decisão) com base no seu parâmetro identificado\n"
   ]
  },
  {
   "cell_type": "code",
   "execution_count": 76,
   "metadata": {},
   "outputs": [],
   "source": [
    "# Verifique se a função funciona\n",
    "\n"
   ]
  },
  {
   "cell_type": "code",
   "execution_count": 77,
   "metadata": {},
   "outputs": [],
   "source": [
    "# Aplicar função ao income_type\n",
    "\n"
   ]
  },
  {
   "cell_type": "code",
   "execution_count": 78,
   "metadata": {},
   "outputs": [],
   "source": [
    "# Verifique se a função funcionou\n",
    "\n"
   ]
  },
  {
   "cell_type": "code",
   "execution_count": 79,
   "metadata": {},
   "outputs": [],
   "source": [
    "# Substituir valores ausentes\n",
    "\n"
   ]
  },
  {
   "cell_type": "markdown",
   "metadata": {},
   "source": [
    "[Quando você achar que terminou com `total_income`, verifique se o número total de valores nesta coluna corresponde ao número de valores em outras.]"
   ]
  },
  {
   "cell_type": "code",
   "execution_count": 80,
   "metadata": {},
   "outputs": [],
   "source": [
    "# Verifique as entradas em todas as colunas - certifique-se de corrigir todos os valores ausentes"
   ]
  },
  {
   "cell_type": "markdown",
   "metadata": {},
   "source": [
    "## Categorização de dados\n",
    "\n",
    "[Para responder às perguntas e testar as hipóteses, você vai querer trabalhar com dados categorizados. Veja as perguntas que lhe foram colocadas e que você deve responder. Pense em quais dados precisarão ser categorizados para responder a essas perguntas. Abaixo, você encontrará um modelo por meio do qual poderá trabalhar à sua maneira ao categorizar os dados. O primeiro processamento passo a passo abrange os dados de texto; o segundo aborda os dados numéricos que precisam ser categorizados. Você pode usar ambas ou nenhuma das instruções sugeridas - você decide.]\n",
    "\n",
    "[Independente de como você decidir abordar a categorização, certifique-se de fornecer uma explicação clara do por quê você tomou sua decisão. Lembre-se: este é o seu trabalho e você toma todas as decisões nele.]\n"
   ]
  },
  {
   "cell_type": "markdown",
   "metadata": {},
   "source": [
    "* Existe alguma relação entre ter filhos e pagar um empréstimo em dia?\n",
    "* Existe alguma relação entre o estado civil e o pagamento de um empréstimo no prazo estipulado?\n",
    "* Existe uma relação entre o nível de renda e o pagamento de um empréstimo no prazo?\n",
    "* Como as diferentes finalidades do empréstimo afetam o pagamento pontual do emprestimo?\n",
    "\n",
    "Descrição de dados\n",
    "children : o número de crianças na família\n",
    "days_employed : quanto tempo o cliente trabalhou\n",
    "dob_years : a idade do cliente\n",
    "education : o nível de educação do cliente\n",
    "education_id : identificador da educação do cliente\n",
    "family_status : estado civil do cliente\n",
    "family_status_id : identificador do estado civil do cliente\n",
    "gender : o sexo do cliente\n",
    "income_type : o tipo de renda do cliente\n",
    "debt : se o cliente já deixou de pagar um empréstimo\n",
    "total_income : renda mensal\n",
    "purpose : motivo para fazer um empréstimo"
   ]
  },
  {
   "cell_type": "code",
   "execution_count": 81,
   "metadata": {},
   "outputs": [],
   "source": [
    "## 1 CATEGORIZACAO POR TEXTOS"
   ]
  },
  {
   "cell_type": "markdown",
   "metadata": {
    "scrolled": true
   },
   "source": [
    "    # Exiba os valores dos dados selecionados para categorização\n",
    "\n",
    "    # Para cada pergunta abaixo vamos utilizar um conjunto de dados para agrupamento.\n",
    "\n",
    "\n",
    "* Existe alguma relação entre ter filhos e pagar um empréstimo em dia?\n",
    "\n",
    "    * 'Children'\n",
    "    * 'Debt'\n",
    "\n",
    "\n",
    "* Existe alguma relação entre o estado civil e o pagamento de um empréstimo no prazo estipulado?\n",
    "\n",
    "    * 'family_status'\n",
    "    \n",
    "    * 'debt'\n",
    "\n",
    "* Existe uma relação entre o nível de renda e o pagamento de um empréstimo no prazo?\n",
    "\n",
    "    * income_type\n",
    "    \n",
    "    * 'debt'\n",
    "    \n",
    "* Como as diferentes finalidades daao empréstimo afetam o pagamento pontual do emprestimo?\n",
    "\n",
    "    * 'purpose'\n",
    "    \n",
    "    * 'debt'\n"
   ]
  },
  {
   "cell_type": "code",
   "execution_count": 82,
   "metadata": {
    "scrolled": false
   },
   "outputs": [
    {
     "name": "stdout",
     "output_type": "stream",
     "text": [
      "<StringArray>\n",
      "['married', 'civil partnership', 'widow / widower', 'divorced', 'unmarried']\n",
      "Length: 5, dtype: string\n",
      "<StringArray>\n",
      "[                   'employee',                     'retiree',\n",
      "                    'business',               'civil servant',\n",
      "                  'unemployed',                'entrepreneur',\n",
      "                     'student', 'paternity / maternity leave']\n",
      "Length: 8, dtype: string\n"
     ]
    }
   ],
   "source": [
    "# Verifique os valores exclusivos\n",
    "\n",
    "print(data_scoring['family_status'].unique())\n",
    "\n",
    "print(data_scoring['income_type'].unique())\n"
   ]
  },
  {
   "cell_type": "markdown",
   "metadata": {},
   "source": [
    "[Vamos verificar valores exclusivos]"
   ]
  },
  {
   "cell_type": "code",
   "execution_count": 83,
   "metadata": {},
   "outputs": [
    {
     "name": "stdout",
     "output_type": "stream",
     "text": [
      "house purchase         6379\n",
      "car purchase           4315\n",
      "education              4022\n",
      "building               2493\n",
      "wedding                2348\n",
      "commercial purchase    1968\n",
      "Name: purpose_category, dtype: int64\n"
     ]
    }
   ],
   "source": [
    "#Como podemos verificar a coluna purpose, possui varias informacoes com conteudo similar.\n",
    "# Precisaremos limpar os dados desta coluna utilizando o replace.\n",
    "#* 'house purchase'\n",
    "#* 'commercial purchase'\n",
    "#* 'building'\n",
    "#* 'car purchase'\n",
    "#* 'wedding'\n",
    "#* 'education'\n",
    "\n",
    "#Como podemos verificar a coluna purpose, possui varias informacoes com conteudo similar.\n",
    "# Precisaremos limpar os dados desta coluna utilizando o replace.\n",
    "# 1° criaremos um dicionarios para incluir todas as strings a serem alteradas.\n",
    "# 2° incluires dentro de replace\n",
    "# house purchase         6379\n",
    "# car purchase           4315\n",
    "# education              4022\n",
    "# building               2493\n",
    "# wedding                2348\n",
    "# commercial purchase    1968\n",
    "\n",
    "# data_scoring['purpose_category'] = data_scoring['purpose']\n",
    "\n",
    "data_scoring_to_replace = {\"purchase of the house\":\"house purchase\",\"supplementary education\" : \"education\", \"to have a wedding\": \"wedding\", \"housing transactions\": \"house purchase\", \"having a wedding\": \"wedding\",\"purchase of the house for my family\": \"house purchase\", \"buy real estate\": \"house purchase\", \"buy commercial real estate\": \"commercial purchase\", \"buy residential real estate\": \"house purchase\", \"construction of own property\": \"building\", \"property\": \"house purchase\", \"building a property\": \"building\", \"buying a second-hand car\": \"car purchase\", \"buying my own car\": \"car purchase\", \"transactions with commercial real estate\": \"commercial purchase\", \"building a real estate\": \"building\", \"housing\": \"house purchase\", \"transactions with my real estate\": \"house purchase\", \"cars\": \"car purchase\", \"to become educated\": \"education\",\"second-hand car purchase\": \"car purchase\",\"getting an education\": \"education\",\"car\": \"car purchase\",\"wedding ceremony\": \"wedding\",\"to get a supplementary education\": \"education\",\"purchase of my own house\": \"house purchase\",\"real estate transactions\": \"house purchase\",\"getting higher education\": \"education\",\"to own a car\": \"car purchase\",\"purchase of a car\": \"car purchase\",\"profile education\": \"education\", \"university education\": \"education\",\"buying property for renting out\": \"commercial purchase\",\"to buy a car\": \"car purchase\", \"housing renovation\": \"building\",\"going to university\": \"education\"}\n",
    "\n",
    "for key, value in data_scoring_to_replace.items():\n",
    "    data_scoring[\"purpose_category\"] = data_scoring['purpose'].replace(data_scoring_to_replace)\n",
    "    \n",
    "print(data_scoring[\"purpose_category\"].value_counts())    \n"
   ]
  },
  {
   "cell_type": "code",
   "execution_count": 84,
   "metadata": {
    "scrolled": false
   },
   "outputs": [
    {
     "name": "stdout",
     "output_type": "stream",
     "text": [
      "                    income_type     purpose_category\n",
      "27                   unemployed             building\n",
      "26                      student             building\n",
      "12                      retiree             building\n",
      "23                civil servant             building\n",
      "22                     business             building\n",
      "7                      employee             building\n",
      "29  paternity / maternity leave         car purchase\n",
      "13                     business         car purchase\n",
      "8                       retiree         car purchase\n",
      "1                      employee         car purchase\n",
      "15                civil servant         car purchase\n",
      "9                       retiree  commercial purchase\n",
      "6                      employee  commercial purchase\n",
      "19                civil servant  commercial purchase\n",
      "24                   unemployed  commercial purchase\n",
      "18                     business  commercial purchase\n",
      "17                      retiree            education\n",
      "14                     business            education\n",
      "11                civil servant            education\n",
      "2                      employee            education\n",
      "20                civil servant       house purchase\n",
      "10                      retiree       house purchase\n",
      "4                      business       house purchase\n",
      "25                 entrepreneur       house purchase\n",
      "0                      employee       house purchase\n",
      "28                 entrepreneur              wedding\n",
      "21                     business              wedding\n",
      "5                      employee              wedding\n",
      "3                       retiree              wedding\n",
      "16                civil servant              wedding\n"
     ]
    }
   ],
   "source": [
    "#Entre as principais perguntas que estamos tentanto validar é saber se algum dos fatores:\n",
    "\n",
    "\n",
    "data_scoring_type_category = data_scoring[['income_type','purpose_category']]\n",
    "\n",
    "data_scoring_type_category = data_scoring_type_category.drop_duplicates().reset_index(drop=True)\n",
    "\n",
    "print(data_scoring_type_category.sort_values('purpose_category', ascending = True))\n",
    "\n"
   ]
  },
  {
   "cell_type": "markdown",
   "metadata": {},
   "source": [
    "[Quais grupos principais você pode identificar com base nos valores exclusivos?]\n",
    "\n",
    "'family_status'\n",
    "'income_type'\n",
    "'purpose'\n",
    "\n",
    "\n",
    "[Com base nesses temas, provavelmente desejaremos categorizar nossos dados.]\n",
    "\n"
   ]
  },
  {
   "cell_type": "code",
   "execution_count": 85,
   "metadata": {},
   "outputs": [
    {
     "name": "stdout",
     "output_type": "stream",
     "text": [
      "Adulto_18_30\n",
      "Adulto_31_40\n",
      "Adulto_41_50\n",
      "Adulto_51_60\n",
      "Adulto_75\n",
      "none\n"
     ]
    }
   ],
   "source": [
    "# Vamos escrever uma função para categorizar os dados com base em tópicos comuns\n",
    "\n",
    "# data_scoring_grouped =  data_scoring.groupby('dob_years').count()\n",
    "\n"
   ]
  },
  {
   "cell_type": "code",
   "execution_count": 86,
   "metadata": {},
   "outputs": [
    {
     "name": "stdout",
     "output_type": "stream",
     "text": [
      "Adulto_31_40    5743\n",
      "Adulto_41_50    5377\n",
      "Adulto_51_60    4542\n",
      "Adulto_18_30    3723\n",
      "Adulto_75       2140\n",
      "Name: age_grouped, dtype: int64\n"
     ]
    }
   ],
   "source": [
    "# Crie uma coluna com as categorias e conte os valores para elas\n"
   ]
  },
  {
   "cell_type": "markdown",
   "metadata": {},
   "source": [
    "[Se você decidir categorizar os dados numéricos, também precisará criar as categorias para isso.]"
   ]
  },
  {
   "cell_type": "code",
   "execution_count": 87,
   "metadata": {},
   "outputs": [],
   "source": [
    "# Examinar todos os dados numéricos em sua coluna selecionada para categorização\n",
    "\n"
   ]
  },
  {
   "cell_type": "code",
   "execution_count": 88,
   "metadata": {},
   "outputs": [],
   "source": [
    "# Obter estatísticas resumidas para a coluna\n",
    "\n"
   ]
  },
  {
   "cell_type": "markdown",
   "metadata": {},
   "source": [
    "[Decida quais intervalos você usará para agrupar e explique por quê.]"
   ]
  },
  {
   "cell_type": "code",
   "execution_count": 89,
   "metadata": {},
   "outputs": [],
   "source": [
    "# Criar função para categorização em diferentes grupos numéricos com base em intervalos\n",
    "\n"
   ]
  },
  {
   "cell_type": "code",
   "execution_count": 90,
   "metadata": {},
   "outputs": [],
   "source": [
    "# Criar coluna com categorias\n"
   ]
  },
  {
   "cell_type": "code",
   "execution_count": 91,
   "metadata": {
    "scrolled": true
   },
   "outputs": [],
   "source": [
    "# Conte os valores de cada categoria para ver a distribuição\n"
   ]
  },
  {
   "cell_type": "markdown",
   "metadata": {},
   "source": [
    "## Verificar as Hipóteses\n"
   ]
  },
  {
   "cell_type": "markdown",
   "metadata": {},
   "source": [
    "**Existe uma correlação entre o a quantidade de filhos e do pagamento em dia?**"
   ]
  },
  {
   "cell_type": "code",
   "execution_count": 92,
   "metadata": {},
   "outputs": [],
   "source": [
    "# Verifique os dados das crianças e do pagamento em dia\n",
    "\n",
    "\n",
    "# Calcular a taxa de inadimplência com base no número de filhos\n",
    "\n"
   ]
  },
  {
   "cell_type": "code",
   "execution_count": 93,
   "metadata": {},
   "outputs": [],
   "source": [
    "value = (data_scoring['family_status'].count())"
   ]
  },
  {
   "cell_type": "code",
   "execution_count": 105,
   "metadata": {},
   "outputs": [
    {
     "name": "stdout",
     "output_type": "stream",
     "text": [
      "nao    66.0\n",
      "sim    34.0\n",
      "Name: children_q, dtype: float64\n",
      "adimplente s/ filho      61.0\n",
      "adimplente c/ filho      31.0\n",
      "inadimplente s/ filho     5.0\n",
      "inadimplente c/ filho     3.0\n",
      "Name: children_status, dtype: float64\n"
     ]
    }
   ],
   "source": [
    "## CATEGORIZACAO POR DADOS NUMERICOS\n",
    "    # Precisamos saber se possuimos alguma relacao entre ter filhos e pagamento em dia.\n",
    "    # criar funcao que diz se ter filhos é sim ou nao.\n",
    "    \n",
    "def children_q(qty):\n",
    "    if qty == 0 :\n",
    "        return 'nao'\n",
    "    return 'sim'\n",
    "\n",
    "data_scoring['children_q'] = data_scoring['children'].apply(children_q)\n",
    "\n",
    "\n",
    "# print(data_scoring['children_q'].value_counts())\n",
    "\n",
    "\n",
    "porcentagem_data_scoring_total = ((data_scoring['children_q'].value_counts()) / (value) * 100)\n",
    "\n",
    "print(porcentagem_data_scoring_total.round(0))\n",
    "\n",
    "\n",
    "\n",
    "##\n",
    "## a logica sera utilizada será:\n",
    "\n",
    "# children   # debt\n",
    "# 0            0      'adimplente s/ filho'\n",
    "# 1            0      'adimplente c/ filho'\n",
    "# 0            1      'inadimplente s/ filho'\n",
    "# 1            1      'inadimplente c/ filho'\n",
    "\n",
    "def children_debt(row):\n",
    "    children = row['children']\n",
    "    debt = row['debt']\n",
    "    \n",
    "    if children == 0 :\n",
    "        if debt == 0 :\n",
    "            return 'adimplente s/ filho'\n",
    "    if children != 0 :\n",
    "        if debt == 0 :\n",
    "            return 'adimplente c/ filho'\n",
    "    if children == 0 :\n",
    "        if debt == 1 :\n",
    "            return 'inadimplente s/ filho'\n",
    "    return 'inadimplente c/ filho'\n",
    "\n",
    "data_scoring['children_status'] = data_scoring.apply(children_debt, axis = 1)\n",
    "\n",
    "porcentagem_data_scoring = ((data_scoring['children_status'].value_counts()) / (value) * 100)\n",
    "\n",
    "print(porcentagem_data_scoring.round(0))"
   ]
  },
  {
   "cell_type": "code",
   "execution_count": 124,
   "metadata": {},
   "outputs": [
    {
     "name": "stdout",
     "output_type": "stream",
     "text": [
      "adimplente s/ filho        60.79\n",
      "adimplente c/ filho        31.12\n",
      "inadimplente s/ filho       4.94\n",
      "inadimplente c/ 1 filho     2.07\n",
      "inadimplente c/ 2 filho     0.94\n",
      "inadimplente c/ 3 filho     0.13\n",
      "inadimplente c/ 4 filho     0.02\n",
      "Name: debt_children_status, dtype: float64\n"
     ]
    }
   ],
   "source": [
    "## A quantidade de crianças influencia o pagamento?\n",
    "# data_scoring_table = pd.pivot_table(data_scoring, )\n",
    "\n",
    "def children_debt(row):\n",
    "    children = row['children']\n",
    "    debt = row['debt']\n",
    "    \n",
    "    if children == 0 :\n",
    "        if debt == 0 :\n",
    "            return 'adimplente s/ filho'\n",
    "    if children != 0 :\n",
    "        if debt == 0 :\n",
    "            return 'adimplente c/ filho'\n",
    "    if children == 0 :\n",
    "        if debt == 1 :\n",
    "            return 'inadimplente s/ filho'\n",
    "    if children == 1 :\n",
    "        if debt == 1 :\n",
    "            return 'inadimplente c/ 1 filho'\n",
    "    if children == 2 :\n",
    "        if debt == 1 :\n",
    "            return 'inadimplente c/ 2 filho'\n",
    "    if children == 3 :\n",
    "        if debt == 1 :\n",
    "            return 'inadimplente c/ 3 filho'\n",
    "    if children == 4 :\n",
    "        if debt == 1 :\n",
    "            return 'inadimplente c/ 4 filho'\n",
    "    if children >=5 :\n",
    "        if debt == 1 :\n",
    "            return 'inadimplente c/ 5 filho'\n",
    "        \n",
    "    return 'error'\n",
    "\n",
    "data_scoring['debt_children_status'] = data_scoring.apply(children_debt, axis = 1)\n",
    "\n",
    "porcentagem_data_scoring = ((data_scoring['debt_children_status'].value_counts()) / (value) * 100)\n",
    "\n",
    "print(porcentagem_data_scoring.round(2))"
   ]
  },
  {
   "cell_type": "markdown",
   "metadata": {},
   "source": [
    "\n",
    "**Conclusão**\n",
    "\n",
    "Nossa carteira de clientes é predominantemente composta por clientes que nāo possuem filhos, sendo 65% contra 35% que possuem.\n",
    "\n",
    "As primeiras conclusões que podemos ter é que 92% dos clientes sao adimplentes e quem nao possui filhos representa 61% do total.\n",
    "\n",
    "Podemos entender que possuimos uma relacao de maior probabilidade de clientes que nao possuem filhos realizar o pagamento em dia do que aqueles que possuem.\n",
    "\n",
    "Também podemos observar que a proporçāo incial da base com e sem fillhos se mantem também quando verificamos apenas os inadimplentes. \n",
    "\n",
    "clientes sem filhos representam 5% dos inadimplentes, sendo assim, gerando 2x mais riscos de nao realizem o pagamento.\n"
   ]
  },
  {
   "cell_type": "markdown",
   "metadata": {},
   "source": [
    "**Existe uma correlação entre o status familiar e o pagamento em dia?**"
   ]
  },
  {
   "cell_type": "code",
   "execution_count": 104,
   "metadata": {},
   "outputs": [
    {
     "name": "stdout",
     "output_type": "stream",
     "text": [
      "       family_status  debt     0\n",
      "0            married     0  53.0\n",
      "1  civil partnership     0  18.0\n",
      "2          unmarried     0  12.0\n",
      "3           divorced     0   5.0\n",
      "4            married     1   4.0\n",
      "5    widow / widower     0   4.0\n",
      "6  civil partnership     1   2.0\n",
      "7          unmarried     1   1.0\n",
      "8           divorced     1   0.0\n",
      "9    widow / widower     1   0.0\n"
     ]
    }
   ],
   "source": [
    "# Verifique os dados de status da família e do pagamento em dia\n",
    "\n",
    "# Calcular a taxa padrão com base no status da família\n",
    "\n",
    "\n",
    "\n",
    "data_scoring_fstatus  = ((data_scoring[['family_status','debt']].value_counts()) / (value) * 100)\n",
    "\n",
    "data_scoring_fstatus = data_scoring_fstatus.drop_duplicates().reset_index(drop = False)\n",
    "\n",
    "# print(data_scoring_fstatus.sort_values('family_status',ascending = False))\n",
    "\n",
    "#print(data_scoring_fstatus.sort_values('debt', ascending = False))\n",
    "\n",
    "print(data_scoring_fstatus.round(0))\n"
   ]
  },
  {
   "cell_type": "markdown",
   "metadata": {},
   "source": [
    "**Conclusão**\n",
    "\n",
    "\n",
    "Com base na analise podemos identificar os clientes que possuem algum tipo de relacao estável \n",
    "\n",
    "possuem maior comprometimento com o pagamento, sendo, responsavel por 70% do indice. \n",
    "\n",
    "\n",
    "[Escreva suas conclusões com base em suas manipulações e observações.]\n"
   ]
  },
  {
   "cell_type": "markdown",
   "metadata": {},
   "source": [
    "**Existe uma correlação entre o nivel de renda e o pagamento em dia?**"
   ]
  },
  {
   "cell_type": "code",
   "execution_count": 206,
   "metadata": {},
   "outputs": [
    {
     "name": "stdout",
     "output_type": "stream",
     "text": [
      "          level_income  total_income\n",
      "0       acima da média     40620.102\n",
      "1      abaixo da média     17932.802\n",
      "2      abaixo da média     23341.752\n",
      "3       acima da média     42820.568\n",
      "4      abaixo da média     25378.572\n",
      "...                ...           ...\n",
      "21520   acima da média     35966.698\n",
      "21521  abaixo da média     24959.969\n",
      "21522  abaixo da média      14347.61\n",
      "21523   acima da média     39054.888\n",
      "21524  abaixo da média     13127.587\n",
      "\n",
      "[21525 rows x 2 columns]\n"
     ]
    }
   ],
   "source": [
    "data_scoring_filtre['total_income'].groupby(data_scoring_filtre['debt']).mean().sort_values(ascending = False)\n",
    "\n",
    "def level_income(ti):\n",
    "    #total_income = row['total_income']\n",
    "    #debt = row['debt']\n",
    "    \n",
    "    if ti <= data_scoring_filtre['total_income'].mean() :\n",
    "        return 'abaixo da média'\n",
    "    if ti >= data_scoring_filtre['total_income'].mean() : \n",
    "        return 'acima da média'\n",
    "    return 'error'\n",
    "\n",
    "data_scoring['level_income'] = data_scoring['total_income'].apply(level_income)\n",
    "\n",
    "print(data_scoring[['level_income','total_income']])"
   ]
  },
  {
   "cell_type": "code",
   "execution_count": 207,
   "metadata": {},
   "outputs": [
    {
     "name": "stdout",
     "output_type": "stream",
     "text": [
      "level_income     debt\n",
      "abaixo da média  0       60.0\n",
      "acima da média   0       32.0\n",
      "abaixo da média  1        5.0\n",
      "acima da média   1        3.0\n",
      "dtype: float64\n"
     ]
    }
   ],
   "source": [
    "# Verifique os dados do nível de renda e do pagamento em dia\n",
    "# Calcular a taxa de inadimplência com base no nível de renda\n",
    "\n",
    "\n",
    "print((((data_scoring[[\"level_income\", 'debt']].value_counts()) / (value)).round(2)) * 100)\n"
   ]
  },
  {
   "cell_type": "markdown",
   "metadata": {},
   "source": [
    "**Conclusão**\n",
    "Quando comparamos a renda clientes pela media, aponta que, 60% da base que realiza os pagamento em dia possui renda inferior a media sendo 2x acima dos clientes que possuem renda acima da media.\n",
    "\n",
    "Esse dados nos chama atencao pois indicaria que estamos com uma carteira de clientes com renda abaixo da media e geraria um risco de inadimplencia, porem, quando analisamos apenas os dados dos clientes inadimplentes, este dado pode nao indicar uma relacao pois 3% tem problemas com pagamento e mesmo recebendo acima da media. \n",
    "\n"
   ]
  },
  {
   "cell_type": "markdown",
   "metadata": {},
   "source": [
    "**Como a finalidade do crédito afeta a taxa de inadimplência?**"
   ]
  },
  {
   "cell_type": "code",
   "execution_count": 101,
   "metadata": {},
   "outputs": [
    {
     "name": "stdout",
     "output_type": "stream",
     "text": [
      "purpose_category     debt\n",
      "house purchase       0       28.0\n",
      "car purchase         0       18.0\n",
      "education            0       17.0\n",
      "building             0       11.0\n",
      "wedding              0       10.0\n",
      "commercial purchase  0        8.0\n",
      "house purchase       1        2.0\n",
      "car purchase         1        2.0\n",
      "education            1        2.0\n",
      "wedding              1        1.0\n",
      "building             1        1.0\n",
      "commercial purchase  1        1.0\n",
      "dtype: float64\n"
     ]
    }
   ],
   "source": [
    "# Confira os percentuais de inadimplência para cada finalidade de crédito e analise-os\n",
    "\n",
    "\n",
    "print((((data_scoring[[\"purpose_category\", 'debt']].value_counts()) / (value)).round(2)) * 100)\n",
    "\n"
   ]
  },
  {
   "cell_type": "markdown",
   "metadata": {},
   "source": [
    "**Conclusão**\n",
    "Ao categorizar as principais categorias, pudemos ter mais clareza a respeito das taxas de inadimplencia.\n",
    "Apesar das taxas de inandimplencia serem relativamente baixas, elas, precisam ser destacadas e levadas em condireçāo, já que representam 6% da base total.\n",
    "\n",
    "\n",
    "Principais finalidades com inadimplencia:\n",
    "* house purchase       2 %\n",
    "* car purchase         2 %\n",
    "* education            2 %\n",
    "\n",
    "\n",
    "\n",
    "\n"
   ]
  },
  {
   "cell_type": "markdown",
   "metadata": {},
   "source": [
    "# Conclusão Geral \n",
    "\n",
    "[Liste suas conclusões nesta seção final. Certifique-se de incluir todas as suas conclusões importantes que o levaram à maneira como você processou e analisou os dados. Cubra os valores ausentes, duplicatas e possíveis razões e soluções para artefatos problemáticos que você teve que resolver.]\n",
    "\n",
    "[Liste suas conclusões sobre as perguntas feitas aqui também.]\n",
    "\n",
    "\n",
    "alguns pontos principais a respeito da analise são:\n",
    "\n",
    "** Civil partnership podem ser incluidos como um grupo de bons pagadores\n",
    "** Base predominantemente de clientes que possuem renda abaixo da media geral\n",
    "** O perfil dos clientes que realizam o pagamento em dia e os que não o realizam são semelhantes\n",
    "** Precisariamos de analises anteriores para entender se a taxa de inadimplencia deve ser considerada preocupante com relacao a cada indicador analisado.\n",
    "** Fato dos clientes ter filhos não deve ser considerado um problema."
   ]
  },
  {
   "cell_type": "markdown",
   "metadata": {},
   "source": [
    "* Como você descreve os problemas identificados nos dados?\n",
    "* Que métodos você usa para substituir tipos de dados e para processar valores ausentes e dados duplicados?\n",
    "* Você categorizou os dados? Por que você fez do jeito que fez?\n",
    "* Você exportou os dados finais para tabelas dinâmicas?\n",
    "* você usou as cláusulas try–except em seu código para lidar com erros inesperados?\n",
    "* Você seguiu a estrutura correta do projeto e escreveu um código limpo?\n",
    "* Você tirou conclusões precisas e úteis?\n",
    "* Você deixou comentários sobre cada passo que deu?"
   ]
  }
 ],
 "metadata": {
  "ExecuteTimeLog": [
   {
    "duration": 2741,
    "start_time": "2021-10-21T01:08:49.480Z"
   },
   {
    "duration": 52,
    "start_time": "2021-10-21T01:08:53.315Z"
   },
   {
    "duration": 49,
    "start_time": "2021-10-21T01:08:57.432Z"
   },
   {
    "duration": 70,
    "start_time": "2021-10-21T01:09:07.706Z"
   },
   {
    "duration": 449,
    "start_time": "2022-05-10T20:46:54.059Z"
   },
   {
    "duration": 40,
    "start_time": "2022-05-10T20:47:02.686Z"
   },
   {
    "duration": 1738,
    "start_time": "2022-05-10T20:47:04.167Z"
   },
   {
    "duration": 54,
    "start_time": "2022-05-10T20:47:08.039Z"
   },
   {
    "duration": 53,
    "start_time": "2022-05-10T20:47:48.769Z"
   },
   {
    "duration": 89,
    "start_time": "2022-05-10T20:49:49.165Z"
   },
   {
    "duration": 8,
    "start_time": "2022-05-10T20:50:05.025Z"
   },
   {
    "duration": 56,
    "start_time": "2022-05-10T20:50:11.119Z"
   },
   {
    "duration": 40,
    "start_time": "2022-05-10T20:50:12.865Z"
   },
   {
    "duration": 12,
    "start_time": "2022-05-10T20:50:14.513Z"
   },
   {
    "duration": 26,
    "start_time": "2022-05-10T20:50:19.948Z"
   },
   {
    "duration": 12,
    "start_time": "2022-05-10T20:50:44.760Z"
   },
   {
    "duration": 8,
    "start_time": "2022-05-10T20:50:51.338Z"
   },
   {
    "duration": 12,
    "start_time": "2022-05-10T20:50:57.934Z"
   },
   {
    "duration": 12,
    "start_time": "2022-05-10T20:51:02.190Z"
   },
   {
    "duration": 7,
    "start_time": "2022-05-10T20:59:07.487Z"
   },
   {
    "duration": 7,
    "start_time": "2022-05-10T21:00:04.893Z"
   },
   {
    "duration": 11,
    "start_time": "2022-05-10T21:00:28.448Z"
   },
   {
    "duration": 18,
    "start_time": "2022-05-10T21:08:27.121Z"
   },
   {
    "duration": 11,
    "start_time": "2022-05-10T21:09:47.797Z"
   },
   {
    "duration": 13,
    "start_time": "2022-05-10T21:10:07.962Z"
   },
   {
    "duration": 17,
    "start_time": "2022-05-10T21:15:33.557Z"
   },
   {
    "duration": 7,
    "start_time": "2022-05-10T21:17:23.569Z"
   },
   {
    "duration": 24,
    "start_time": "2022-05-10T21:17:31.822Z"
   },
   {
    "duration": 99,
    "start_time": "2022-05-10T21:18:11.279Z"
   },
   {
    "duration": 4,
    "start_time": "2022-05-10T21:18:23.056Z"
   },
   {
    "duration": 4,
    "start_time": "2022-05-10T21:18:26.712Z"
   },
   {
    "duration": 4,
    "start_time": "2022-05-10T21:18:29.909Z"
   },
   {
    "duration": 100,
    "start_time": "2022-05-10T21:19:44.139Z"
   },
   {
    "duration": 8,
    "start_time": "2022-05-10T21:31:06.092Z"
   },
   {
    "duration": 9,
    "start_time": "2022-05-10T21:31:19.679Z"
   },
   {
    "duration": 16,
    "start_time": "2022-05-10T21:31:25.005Z"
   },
   {
    "duration": 8,
    "start_time": "2022-05-10T21:31:28.705Z"
   },
   {
    "duration": 1818,
    "start_time": "2022-05-10T21:31:53.624Z"
   },
   {
    "duration": 8,
    "start_time": "2022-05-10T21:31:59.037Z"
   },
   {
    "duration": 9,
    "start_time": "2022-05-10T21:32:06.465Z"
   },
   {
    "duration": 421,
    "start_time": "2022-05-10T21:32:19.699Z"
   },
   {
    "duration": 16,
    "start_time": "2022-05-10T21:32:20.122Z"
   },
   {
    "duration": 20,
    "start_time": "2022-05-10T21:32:20.140Z"
   },
   {
    "duration": 61,
    "start_time": "2022-05-10T21:32:20.162Z"
   },
   {
    "duration": 0,
    "start_time": "2022-05-10T21:32:20.227Z"
   },
   {
    "duration": 0,
    "start_time": "2022-05-10T21:32:20.228Z"
   },
   {
    "duration": 0,
    "start_time": "2022-05-10T21:32:20.229Z"
   },
   {
    "duration": 0,
    "start_time": "2022-05-10T21:32:20.230Z"
   },
   {
    "duration": 0,
    "start_time": "2022-05-10T21:32:20.231Z"
   },
   {
    "duration": 0,
    "start_time": "2022-05-10T21:32:20.247Z"
   },
   {
    "duration": 0,
    "start_time": "2022-05-10T21:32:20.249Z"
   },
   {
    "duration": 0,
    "start_time": "2022-05-10T21:32:20.250Z"
   },
   {
    "duration": 0,
    "start_time": "2022-05-10T21:32:20.251Z"
   },
   {
    "duration": 0,
    "start_time": "2022-05-10T21:32:20.252Z"
   },
   {
    "duration": 0,
    "start_time": "2022-05-10T21:32:20.253Z"
   },
   {
    "duration": 0,
    "start_time": "2022-05-10T21:32:20.254Z"
   },
   {
    "duration": 0,
    "start_time": "2022-05-10T21:32:20.255Z"
   },
   {
    "duration": 0,
    "start_time": "2022-05-10T21:32:20.255Z"
   },
   {
    "duration": 0,
    "start_time": "2022-05-10T21:32:20.256Z"
   },
   {
    "duration": 0,
    "start_time": "2022-05-10T21:32:20.257Z"
   },
   {
    "duration": 0,
    "start_time": "2022-05-10T21:32:20.258Z"
   },
   {
    "duration": 0,
    "start_time": "2022-05-10T21:32:20.259Z"
   },
   {
    "duration": 0,
    "start_time": "2022-05-10T21:32:20.260Z"
   },
   {
    "duration": 0,
    "start_time": "2022-05-10T21:32:20.261Z"
   },
   {
    "duration": 0,
    "start_time": "2022-05-10T21:32:20.262Z"
   },
   {
    "duration": 0,
    "start_time": "2022-05-10T21:32:20.262Z"
   },
   {
    "duration": 0,
    "start_time": "2022-05-10T21:32:20.263Z"
   },
   {
    "duration": 0,
    "start_time": "2022-05-10T21:32:20.264Z"
   },
   {
    "duration": 0,
    "start_time": "2022-05-10T21:32:20.265Z"
   },
   {
    "duration": 0,
    "start_time": "2022-05-10T21:32:20.266Z"
   },
   {
    "duration": 0,
    "start_time": "2022-05-10T21:32:20.267Z"
   },
   {
    "duration": 0,
    "start_time": "2022-05-10T21:32:20.268Z"
   },
   {
    "duration": 0,
    "start_time": "2022-05-10T21:32:20.269Z"
   },
   {
    "duration": 0,
    "start_time": "2022-05-10T21:32:20.270Z"
   },
   {
    "duration": 0,
    "start_time": "2022-05-10T21:32:20.271Z"
   },
   {
    "duration": 0,
    "start_time": "2022-05-10T21:32:20.272Z"
   },
   {
    "duration": 0,
    "start_time": "2022-05-10T21:32:20.273Z"
   },
   {
    "duration": 0,
    "start_time": "2022-05-10T21:32:20.274Z"
   },
   {
    "duration": 0,
    "start_time": "2022-05-10T21:32:20.275Z"
   },
   {
    "duration": 0,
    "start_time": "2022-05-10T21:32:20.276Z"
   },
   {
    "duration": 0,
    "start_time": "2022-05-10T21:32:20.277Z"
   },
   {
    "duration": 0,
    "start_time": "2022-05-10T21:32:20.278Z"
   },
   {
    "duration": 0,
    "start_time": "2022-05-10T21:32:20.279Z"
   },
   {
    "duration": 0,
    "start_time": "2022-05-10T21:32:20.280Z"
   },
   {
    "duration": 0,
    "start_time": "2022-05-10T21:32:20.281Z"
   },
   {
    "duration": 0,
    "start_time": "2022-05-10T21:32:20.282Z"
   },
   {
    "duration": 0,
    "start_time": "2022-05-10T21:32:20.283Z"
   },
   {
    "duration": 0,
    "start_time": "2022-05-10T21:32:20.284Z"
   },
   {
    "duration": 0,
    "start_time": "2022-05-10T21:32:20.285Z"
   },
   {
    "duration": 0,
    "start_time": "2022-05-10T21:32:20.347Z"
   },
   {
    "duration": 0,
    "start_time": "2022-05-10T21:32:20.348Z"
   },
   {
    "duration": 0,
    "start_time": "2022-05-10T21:32:20.349Z"
   },
   {
    "duration": 0,
    "start_time": "2022-05-10T21:32:20.350Z"
   },
   {
    "duration": 0,
    "start_time": "2022-05-10T21:32:20.351Z"
   },
   {
    "duration": 0,
    "start_time": "2022-05-10T21:32:20.351Z"
   },
   {
    "duration": 0,
    "start_time": "2022-05-10T21:32:20.352Z"
   },
   {
    "duration": 0,
    "start_time": "2022-05-10T21:32:20.353Z"
   },
   {
    "duration": 0,
    "start_time": "2022-05-10T21:32:20.354Z"
   },
   {
    "duration": 0,
    "start_time": "2022-05-10T21:32:20.356Z"
   },
   {
    "duration": 0,
    "start_time": "2022-05-10T21:32:20.356Z"
   },
   {
    "duration": 0,
    "start_time": "2022-05-10T21:32:20.357Z"
   },
   {
    "duration": 0,
    "start_time": "2022-05-10T21:32:20.358Z"
   },
   {
    "duration": 0,
    "start_time": "2022-05-10T21:32:20.359Z"
   },
   {
    "duration": 0,
    "start_time": "2022-05-10T21:32:20.361Z"
   },
   {
    "duration": 0,
    "start_time": "2022-05-10T21:32:20.361Z"
   },
   {
    "duration": 0,
    "start_time": "2022-05-10T21:32:20.362Z"
   },
   {
    "duration": 0,
    "start_time": "2022-05-10T21:32:20.363Z"
   },
   {
    "duration": 0,
    "start_time": "2022-05-10T21:32:20.364Z"
   },
   {
    "duration": 0,
    "start_time": "2022-05-10T21:32:20.365Z"
   },
   {
    "duration": 0,
    "start_time": "2022-05-10T21:32:20.366Z"
   },
   {
    "duration": 8,
    "start_time": "2022-05-10T21:34:37.052Z"
   },
   {
    "duration": 5,
    "start_time": "2022-05-10T21:35:00.275Z"
   },
   {
    "duration": 4,
    "start_time": "2022-05-10T21:36:53.203Z"
   },
   {
    "duration": 98,
    "start_time": "2022-05-10T21:38:13.909Z"
   },
   {
    "duration": 6,
    "start_time": "2022-05-10T21:38:21.821Z"
   },
   {
    "duration": 8,
    "start_time": "2022-05-10T21:38:37.374Z"
   },
   {
    "duration": 3,
    "start_time": "2022-05-10T21:40:26.914Z"
   },
   {
    "duration": 2,
    "start_time": "2022-05-10T21:40:29.732Z"
   },
   {
    "duration": 2,
    "start_time": "2022-05-10T21:40:31.499Z"
   },
   {
    "duration": 8,
    "start_time": "2022-05-10T21:41:09.235Z"
   },
   {
    "duration": 18,
    "start_time": "2022-05-10T21:41:14.541Z"
   },
   {
    "duration": 8,
    "start_time": "2022-05-10T21:41:17.161Z"
   },
   {
    "duration": 104,
    "start_time": "2022-05-10T21:41:29.757Z"
   },
   {
    "duration": 7,
    "start_time": "2022-05-10T21:41:49.635Z"
   },
   {
    "duration": 7,
    "start_time": "2022-05-10T21:42:06.052Z"
   },
   {
    "duration": 7,
    "start_time": "2022-05-10T21:42:14.797Z"
   },
   {
    "duration": 6,
    "start_time": "2022-05-10T21:42:50.891Z"
   },
   {
    "duration": 6,
    "start_time": "2022-05-10T21:43:04.171Z"
   },
   {
    "duration": 7,
    "start_time": "2022-05-10T21:43:19.686Z"
   },
   {
    "duration": 37,
    "start_time": "2022-05-10T21:43:30.481Z"
   },
   {
    "duration": 6,
    "start_time": "2022-05-10T21:44:28.539Z"
   },
   {
    "duration": 7,
    "start_time": "2022-05-10T21:44:38.261Z"
   },
   {
    "duration": 18,
    "start_time": "2022-05-10T21:44:45.195Z"
   },
   {
    "duration": 17,
    "start_time": "2022-05-10T21:48:41.659Z"
   },
   {
    "duration": 99,
    "start_time": "2022-05-10T21:48:50.009Z"
   },
   {
    "duration": 17,
    "start_time": "2022-05-10T21:48:57.730Z"
   },
   {
    "duration": 17,
    "start_time": "2022-05-10T21:49:03.641Z"
   },
   {
    "duration": 16,
    "start_time": "2022-05-10T21:49:15.937Z"
   },
   {
    "duration": 17,
    "start_time": "2022-05-10T21:49:29.175Z"
   },
   {
    "duration": 11,
    "start_time": "2022-05-10T21:54:11.931Z"
   },
   {
    "duration": 11,
    "start_time": "2022-05-10T21:55:21.518Z"
   },
   {
    "duration": 15,
    "start_time": "2022-05-10T21:55:35.151Z"
   },
   {
    "duration": 17,
    "start_time": "2022-05-10T21:55:38.983Z"
   },
   {
    "duration": 96,
    "start_time": "2022-05-10T21:56:13.477Z"
   },
   {
    "duration": 5,
    "start_time": "2022-05-10T21:56:20.679Z"
   },
   {
    "duration": 36,
    "start_time": "2022-05-10T21:57:03.019Z"
   },
   {
    "duration": 93,
    "start_time": "2022-05-10T21:57:19.248Z"
   },
   {
    "duration": 37,
    "start_time": "2022-05-10T21:57:24.272Z"
   },
   {
    "duration": 38,
    "start_time": "2022-05-10T23:00:49.992Z"
   },
   {
    "duration": 6,
    "start_time": "2022-05-10T23:01:07.173Z"
   },
   {
    "duration": 6,
    "start_time": "2022-05-10T23:01:11.764Z"
   },
   {
    "duration": 13,
    "start_time": "2022-05-10T23:01:17.740Z"
   },
   {
    "duration": 45,
    "start_time": "2022-06-29T19:11:00.796Z"
   },
   {
    "duration": 489,
    "start_time": "2022-06-29T19:11:06.101Z"
   },
   {
    "duration": 20,
    "start_time": "2022-06-29T19:11:27.511Z"
   },
   {
    "duration": 29,
    "start_time": "2022-06-29T19:11:32.077Z"
   },
   {
    "duration": 6,
    "start_time": "2022-06-29T19:11:37.627Z"
   },
   {
    "duration": 59,
    "start_time": "2022-06-29T19:15:23.081Z"
   },
   {
    "duration": 447,
    "start_time": "2022-06-29T19:15:42.124Z"
   },
   {
    "duration": 442,
    "start_time": "2022-06-29T19:15:51.459Z"
   },
   {
    "duration": 18,
    "start_time": "2022-06-29T19:15:51.903Z"
   },
   {
    "duration": 18,
    "start_time": "2022-06-29T19:15:51.923Z"
   },
   {
    "duration": 19,
    "start_time": "2022-06-29T19:15:51.942Z"
   },
   {
    "duration": 20,
    "start_time": "2022-06-29T19:15:51.963Z"
   },
   {
    "duration": 18,
    "start_time": "2022-06-29T19:15:51.984Z"
   },
   {
    "duration": 2,
    "start_time": "2022-06-29T19:15:52.003Z"
   },
   {
    "duration": 5,
    "start_time": "2022-06-29T19:15:52.007Z"
   },
   {
    "duration": 5,
    "start_time": "2022-06-29T19:15:52.013Z"
   },
   {
    "duration": 6,
    "start_time": "2022-06-29T19:15:52.020Z"
   },
   {
    "duration": 4,
    "start_time": "2022-06-29T19:15:52.028Z"
   },
   {
    "duration": 6,
    "start_time": "2022-06-29T19:15:52.034Z"
   },
   {
    "duration": 27,
    "start_time": "2022-06-29T19:15:52.041Z"
   },
   {
    "duration": 8,
    "start_time": "2022-06-29T19:15:52.074Z"
   },
   {
    "duration": 6,
    "start_time": "2022-06-29T19:15:52.083Z"
   },
   {
    "duration": 13,
    "start_time": "2022-06-29T19:15:52.091Z"
   },
   {
    "duration": 6,
    "start_time": "2022-06-29T19:15:52.105Z"
   },
   {
    "duration": 8,
    "start_time": "2022-06-29T19:15:52.112Z"
   },
   {
    "duration": 9,
    "start_time": "2022-06-29T19:15:52.121Z"
   },
   {
    "duration": 8,
    "start_time": "2022-06-29T19:15:52.132Z"
   },
   {
    "duration": 28,
    "start_time": "2022-06-29T19:15:52.142Z"
   },
   {
    "duration": 4,
    "start_time": "2022-06-29T19:15:52.172Z"
   },
   {
    "duration": 7,
    "start_time": "2022-06-29T19:15:52.178Z"
   },
   {
    "duration": 5,
    "start_time": "2022-06-29T19:15:52.186Z"
   },
   {
    "duration": 5,
    "start_time": "2022-06-29T19:15:52.192Z"
   },
   {
    "duration": 7,
    "start_time": "2022-06-29T19:15:52.198Z"
   },
   {
    "duration": 6,
    "start_time": "2022-06-29T19:15:52.206Z"
   },
   {
    "duration": 8,
    "start_time": "2022-06-29T19:15:52.213Z"
   },
   {
    "duration": 6,
    "start_time": "2022-06-29T19:15:52.222Z"
   },
   {
    "duration": 7,
    "start_time": "2022-06-29T19:15:52.229Z"
   },
   {
    "duration": 9,
    "start_time": "2022-06-29T19:15:52.237Z"
   },
   {
    "duration": 24,
    "start_time": "2022-06-29T19:15:52.247Z"
   },
   {
    "duration": 7,
    "start_time": "2022-06-29T19:15:52.273Z"
   },
   {
    "duration": 9,
    "start_time": "2022-06-29T19:15:52.281Z"
   },
   {
    "duration": 9,
    "start_time": "2022-06-29T19:15:52.292Z"
   },
   {
    "duration": 9,
    "start_time": "2022-06-29T19:15:52.303Z"
   },
   {
    "duration": 8,
    "start_time": "2022-06-29T19:15:52.314Z"
   },
   {
    "duration": 8,
    "start_time": "2022-06-29T19:15:52.323Z"
   },
   {
    "duration": 5,
    "start_time": "2022-06-29T19:15:52.333Z"
   },
   {
    "duration": 5,
    "start_time": "2022-06-29T19:15:52.340Z"
   },
   {
    "duration": 22,
    "start_time": "2022-06-29T19:15:52.349Z"
   },
   {
    "duration": 5,
    "start_time": "2022-06-29T19:15:52.372Z"
   },
   {
    "duration": 5,
    "start_time": "2022-06-29T19:15:52.378Z"
   },
   {
    "duration": 6,
    "start_time": "2022-06-29T19:15:52.385Z"
   },
   {
    "duration": 6,
    "start_time": "2022-06-29T19:15:52.393Z"
   },
   {
    "duration": 5,
    "start_time": "2022-06-29T19:15:52.401Z"
   },
   {
    "duration": 9,
    "start_time": "2022-06-29T19:15:52.408Z"
   },
   {
    "duration": 7,
    "start_time": "2022-06-29T19:15:52.418Z"
   },
   {
    "duration": 8,
    "start_time": "2022-06-29T19:15:52.426Z"
   },
   {
    "duration": 8,
    "start_time": "2022-06-29T19:15:52.435Z"
   },
   {
    "duration": 5,
    "start_time": "2022-06-29T19:15:52.444Z"
   },
   {
    "duration": 24,
    "start_time": "2022-06-29T19:15:52.450Z"
   },
   {
    "duration": 7,
    "start_time": "2022-06-29T19:15:52.475Z"
   },
   {
    "duration": 9,
    "start_time": "2022-06-29T19:15:52.483Z"
   },
   {
    "duration": 10,
    "start_time": "2022-06-29T19:15:52.493Z"
   },
   {
    "duration": 6,
    "start_time": "2022-06-29T19:15:52.505Z"
   },
   {
    "duration": 6,
    "start_time": "2022-06-29T19:15:52.512Z"
   },
   {
    "duration": 7,
    "start_time": "2022-06-29T19:15:52.519Z"
   },
   {
    "duration": 9,
    "start_time": "2022-06-29T19:15:52.527Z"
   },
   {
    "duration": 11,
    "start_time": "2022-06-29T19:15:52.537Z"
   },
   {
    "duration": 33,
    "start_time": "2022-06-29T19:15:52.549Z"
   },
   {
    "duration": 10,
    "start_time": "2022-06-29T19:15:52.584Z"
   },
   {
    "duration": 8,
    "start_time": "2022-06-29T19:15:52.596Z"
   },
   {
    "duration": 7,
    "start_time": "2022-06-29T19:15:52.607Z"
   },
   {
    "duration": 6,
    "start_time": "2022-06-29T19:15:52.615Z"
   },
   {
    "duration": 7,
    "start_time": "2022-06-29T19:15:52.622Z"
   },
   {
    "duration": 6,
    "start_time": "2022-06-29T19:15:52.630Z"
   },
   {
    "duration": 10,
    "start_time": "2022-06-29T19:15:52.637Z"
   },
   {
    "duration": 23,
    "start_time": "2022-06-29T19:15:52.649Z"
   },
   {
    "duration": 5,
    "start_time": "2022-06-29T19:15:52.674Z"
   },
   {
    "duration": 8,
    "start_time": "2022-06-29T19:15:52.681Z"
   },
   {
    "duration": 5,
    "start_time": "2022-06-29T19:15:52.690Z"
   },
   {
    "duration": 10,
    "start_time": "2022-06-29T20:35:22.185Z"
   },
   {
    "duration": 96,
    "start_time": "2022-06-30T15:00:09.618Z"
   },
   {
    "duration": 4,
    "start_time": "2022-06-30T15:00:29.413Z"
   },
   {
    "duration": 613,
    "start_time": "2022-06-30T15:00:36.658Z"
   },
   {
    "duration": 25,
    "start_time": "2022-06-30T15:00:37.273Z"
   },
   {
    "duration": 34,
    "start_time": "2022-06-30T15:00:37.300Z"
   },
   {
    "duration": 18,
    "start_time": "2022-06-30T15:00:37.337Z"
   },
   {
    "duration": 20,
    "start_time": "2022-06-30T15:00:37.361Z"
   },
   {
    "duration": 26,
    "start_time": "2022-06-30T15:00:37.383Z"
   },
   {
    "duration": 28,
    "start_time": "2022-06-30T15:00:37.411Z"
   },
   {
    "duration": 10,
    "start_time": "2022-06-30T15:00:37.441Z"
   },
   {
    "duration": 19,
    "start_time": "2022-06-30T15:00:37.455Z"
   },
   {
    "duration": 5,
    "start_time": "2022-06-30T15:00:37.477Z"
   },
   {
    "duration": 12,
    "start_time": "2022-06-30T15:00:37.485Z"
   },
   {
    "duration": 13,
    "start_time": "2022-06-30T15:00:37.499Z"
   },
   {
    "duration": 32,
    "start_time": "2022-06-30T15:00:37.514Z"
   },
   {
    "duration": 15,
    "start_time": "2022-06-30T15:00:37.550Z"
   },
   {
    "duration": 7,
    "start_time": "2022-06-30T15:00:37.567Z"
   },
   {
    "duration": 15,
    "start_time": "2022-06-30T15:00:37.577Z"
   },
   {
    "duration": 7,
    "start_time": "2022-06-30T15:00:37.595Z"
   },
   {
    "duration": 8,
    "start_time": "2022-06-30T15:00:37.604Z"
   },
   {
    "duration": 6,
    "start_time": "2022-06-30T15:00:37.615Z"
   },
   {
    "duration": 31,
    "start_time": "2022-06-30T15:00:37.624Z"
   },
   {
    "duration": 12,
    "start_time": "2022-06-30T15:00:37.658Z"
   },
   {
    "duration": 10,
    "start_time": "2022-06-30T15:00:37.672Z"
   },
   {
    "duration": 11,
    "start_time": "2022-06-30T15:00:37.684Z"
   },
   {
    "duration": 5,
    "start_time": "2022-06-30T15:00:37.699Z"
   },
   {
    "duration": 10,
    "start_time": "2022-06-30T15:00:37.705Z"
   },
   {
    "duration": 8,
    "start_time": "2022-06-30T15:00:37.717Z"
   },
   {
    "duration": 24,
    "start_time": "2022-06-30T15:00:37.729Z"
   },
   {
    "duration": 21,
    "start_time": "2022-06-30T15:00:37.763Z"
   },
   {
    "duration": 21,
    "start_time": "2022-06-30T15:00:37.786Z"
   },
   {
    "duration": 9,
    "start_time": "2022-06-30T15:00:37.809Z"
   },
   {
    "duration": 37,
    "start_time": "2022-06-30T15:00:37.821Z"
   },
   {
    "duration": 52,
    "start_time": "2022-06-30T15:00:37.860Z"
   },
   {
    "duration": 11,
    "start_time": "2022-06-30T15:00:37.914Z"
   },
   {
    "duration": 28,
    "start_time": "2022-06-30T15:00:37.929Z"
   },
   {
    "duration": 6,
    "start_time": "2022-06-30T15:00:37.959Z"
   },
   {
    "duration": 6,
    "start_time": "2022-06-30T15:00:37.967Z"
   },
   {
    "duration": 6,
    "start_time": "2022-06-30T15:00:37.975Z"
   },
   {
    "duration": 6,
    "start_time": "2022-06-30T15:00:37.982Z"
   },
   {
    "duration": 6,
    "start_time": "2022-06-30T15:00:37.990Z"
   },
   {
    "duration": 8,
    "start_time": "2022-06-30T15:00:37.998Z"
   },
   {
    "duration": 5,
    "start_time": "2022-06-30T15:00:38.008Z"
   },
   {
    "duration": 5,
    "start_time": "2022-06-30T15:00:38.015Z"
   },
   {
    "duration": 15,
    "start_time": "2022-06-30T15:00:38.022Z"
   },
   {
    "duration": 9,
    "start_time": "2022-06-30T15:00:38.045Z"
   },
   {
    "duration": 5,
    "start_time": "2022-06-30T15:00:38.056Z"
   },
   {
    "duration": 7,
    "start_time": "2022-06-30T15:00:38.063Z"
   },
   {
    "duration": 10,
    "start_time": "2022-06-30T15:00:38.072Z"
   },
   {
    "duration": 9,
    "start_time": "2022-06-30T15:00:38.083Z"
   },
   {
    "duration": 5,
    "start_time": "2022-06-30T15:00:38.094Z"
   },
   {
    "duration": 6,
    "start_time": "2022-06-30T15:00:38.101Z"
   },
   {
    "duration": 9,
    "start_time": "2022-06-30T15:00:38.109Z"
   },
   {
    "duration": 8,
    "start_time": "2022-06-30T15:00:38.120Z"
   },
   {
    "duration": 25,
    "start_time": "2022-06-30T15:00:38.129Z"
   },
   {
    "duration": 8,
    "start_time": "2022-06-30T15:00:38.156Z"
   },
   {
    "duration": 14,
    "start_time": "2022-06-30T15:00:38.166Z"
   },
   {
    "duration": 8,
    "start_time": "2022-06-30T15:00:38.182Z"
   },
   {
    "duration": 6,
    "start_time": "2022-06-30T15:00:38.193Z"
   },
   {
    "duration": 8,
    "start_time": "2022-06-30T15:00:38.201Z"
   },
   {
    "duration": 6,
    "start_time": "2022-06-30T15:00:38.211Z"
   },
   {
    "duration": 10,
    "start_time": "2022-06-30T15:00:38.218Z"
   },
   {
    "duration": 24,
    "start_time": "2022-06-30T15:00:38.232Z"
   },
   {
    "duration": 8,
    "start_time": "2022-06-30T15:00:38.257Z"
   },
   {
    "duration": 5,
    "start_time": "2022-06-30T15:00:38.267Z"
   },
   {
    "duration": 6,
    "start_time": "2022-06-30T15:00:38.273Z"
   },
   {
    "duration": 6,
    "start_time": "2022-06-30T15:00:38.281Z"
   },
   {
    "duration": 6,
    "start_time": "2022-06-30T15:00:38.289Z"
   },
   {
    "duration": 7,
    "start_time": "2022-06-30T15:00:38.296Z"
   },
   {
    "duration": 14,
    "start_time": "2022-06-30T15:00:38.304Z"
   },
   {
    "duration": 32,
    "start_time": "2022-06-30T15:00:38.320Z"
   },
   {
    "duration": 13,
    "start_time": "2022-06-30T15:00:38.353Z"
   },
   {
    "duration": 11,
    "start_time": "2022-06-30T15:00:38.368Z"
   },
   {
    "duration": 7,
    "start_time": "2022-06-30T15:00:38.381Z"
   },
   {
    "duration": 33,
    "start_time": "2022-06-30T15:01:26.249Z"
   },
   {
    "duration": 32,
    "start_time": "2022-06-30T15:02:00.748Z"
   },
   {
    "duration": 30,
    "start_time": "2022-06-30T15:02:08.812Z"
   },
   {
    "duration": 28,
    "start_time": "2022-06-30T15:02:12.161Z"
   },
   {
    "duration": 29,
    "start_time": "2022-06-30T15:02:15.767Z"
   },
   {
    "duration": 32,
    "start_time": "2022-06-30T15:02:25.587Z"
   },
   {
    "duration": 32,
    "start_time": "2022-06-30T15:03:10.178Z"
   },
   {
    "duration": 22,
    "start_time": "2022-06-30T15:11:35.847Z"
   },
   {
    "duration": 1095,
    "start_time": "2022-06-30T15:15:20.238Z"
   },
   {
    "duration": 1040,
    "start_time": "2022-06-30T15:15:56.358Z"
   },
   {
    "duration": 59,
    "start_time": "2022-06-30T15:16:18.758Z"
   },
   {
    "duration": 118,
    "start_time": "2022-06-30T15:16:31.484Z"
   },
   {
    "duration": 26,
    "start_time": "2022-06-30T15:17:44.714Z"
   },
   {
    "duration": 33,
    "start_time": "2022-06-30T15:19:30.711Z"
   },
   {
    "duration": 25,
    "start_time": "2022-06-30T15:29:54.025Z"
   },
   {
    "duration": 25,
    "start_time": "2022-06-30T15:30:16.594Z"
   },
   {
    "duration": 49,
    "start_time": "2022-06-30T15:30:53.563Z"
   },
   {
    "duration": 69,
    "start_time": "2022-06-30T15:31:00.818Z"
   },
   {
    "duration": 9,
    "start_time": "2022-06-30T15:32:38.383Z"
   },
   {
    "duration": 4,
    "start_time": "2022-06-30T15:32:40.529Z"
   },
   {
    "duration": 17,
    "start_time": "2022-06-30T15:38:43.274Z"
   },
   {
    "duration": 74,
    "start_time": "2022-06-30T15:52:17.809Z"
   },
   {
    "duration": 86,
    "start_time": "2022-06-30T15:52:39.617Z"
   },
   {
    "duration": 65,
    "start_time": "2022-06-30T15:52:47.529Z"
   },
   {
    "duration": 85,
    "start_time": "2022-06-30T15:52:58.351Z"
   },
   {
    "duration": 89,
    "start_time": "2022-06-30T15:53:05.696Z"
   },
   {
    "duration": 69,
    "start_time": "2022-06-30T15:53:22.591Z"
   },
   {
    "duration": 54,
    "start_time": "2022-06-30T15:53:29.755Z"
   },
   {
    "duration": 55,
    "start_time": "2022-06-30T15:53:43.432Z"
   },
   {
    "duration": 82,
    "start_time": "2022-06-30T15:59:33.736Z"
   },
   {
    "duration": 74,
    "start_time": "2022-06-30T18:35:38.699Z"
   },
   {
    "duration": 69,
    "start_time": "2022-06-30T18:35:58.395Z"
   },
   {
    "duration": 47,
    "start_time": "2022-06-30T18:36:10.058Z"
   },
   {
    "duration": 14,
    "start_time": "2022-06-30T18:52:34.446Z"
   },
   {
    "duration": 23,
    "start_time": "2022-06-30T18:53:14.922Z"
   },
   {
    "duration": 6,
    "start_time": "2022-06-30T20:16:52.981Z"
   },
   {
    "duration": 7,
    "start_time": "2022-06-30T20:17:26.016Z"
   },
   {
    "duration": 7,
    "start_time": "2022-06-30T20:17:44.063Z"
   },
   {
    "duration": 435,
    "start_time": "2022-06-30T20:17:54.766Z"
   },
   {
    "duration": 18,
    "start_time": "2022-06-30T20:17:55.203Z"
   },
   {
    "duration": 21,
    "start_time": "2022-06-30T20:17:55.222Z"
   },
   {
    "duration": 5,
    "start_time": "2022-06-30T20:17:55.245Z"
   },
   {
    "duration": 12,
    "start_time": "2022-06-30T20:17:55.252Z"
   },
   {
    "duration": 10,
    "start_time": "2022-06-30T20:17:55.266Z"
   },
   {
    "duration": 52,
    "start_time": "2022-06-30T20:17:55.278Z"
   },
   {
    "duration": 58,
    "start_time": "2022-06-30T20:17:55.332Z"
   },
   {
    "duration": 3,
    "start_time": "2022-06-30T20:17:55.391Z"
   },
   {
    "duration": 9,
    "start_time": "2022-06-30T20:17:55.396Z"
   },
   {
    "duration": 31,
    "start_time": "2022-06-30T20:17:55.407Z"
   },
   {
    "duration": 64,
    "start_time": "2022-06-30T20:17:55.440Z"
   },
   {
    "duration": 0,
    "start_time": "2022-06-30T20:17:55.507Z"
   },
   {
    "duration": 0,
    "start_time": "2022-06-30T20:17:55.508Z"
   },
   {
    "duration": 0,
    "start_time": "2022-06-30T20:17:55.509Z"
   },
   {
    "duration": 0,
    "start_time": "2022-06-30T20:17:55.510Z"
   },
   {
    "duration": 0,
    "start_time": "2022-06-30T20:17:55.511Z"
   },
   {
    "duration": 0,
    "start_time": "2022-06-30T20:17:55.527Z"
   },
   {
    "duration": 0,
    "start_time": "2022-06-30T20:17:55.528Z"
   },
   {
    "duration": 0,
    "start_time": "2022-06-30T20:17:55.529Z"
   },
   {
    "duration": 0,
    "start_time": "2022-06-30T20:17:55.530Z"
   },
   {
    "duration": 0,
    "start_time": "2022-06-30T20:17:55.531Z"
   },
   {
    "duration": 0,
    "start_time": "2022-06-30T20:17:55.532Z"
   },
   {
    "duration": 0,
    "start_time": "2022-06-30T20:17:55.533Z"
   },
   {
    "duration": 0,
    "start_time": "2022-06-30T20:17:55.534Z"
   },
   {
    "duration": 0,
    "start_time": "2022-06-30T20:17:55.536Z"
   },
   {
    "duration": 0,
    "start_time": "2022-06-30T20:17:55.537Z"
   },
   {
    "duration": 0,
    "start_time": "2022-06-30T20:17:55.538Z"
   },
   {
    "duration": 1,
    "start_time": "2022-06-30T20:17:55.539Z"
   },
   {
    "duration": 0,
    "start_time": "2022-06-30T20:17:55.540Z"
   },
   {
    "duration": 0,
    "start_time": "2022-06-30T20:17:55.542Z"
   },
   {
    "duration": 0,
    "start_time": "2022-06-30T20:17:55.543Z"
   },
   {
    "duration": 0,
    "start_time": "2022-06-30T20:17:55.544Z"
   },
   {
    "duration": 0,
    "start_time": "2022-06-30T20:17:55.546Z"
   },
   {
    "duration": 0,
    "start_time": "2022-06-30T20:17:55.547Z"
   },
   {
    "duration": 0,
    "start_time": "2022-06-30T20:17:55.548Z"
   },
   {
    "duration": 0,
    "start_time": "2022-06-30T20:17:55.552Z"
   },
   {
    "duration": 0,
    "start_time": "2022-06-30T20:17:55.553Z"
   },
   {
    "duration": 0,
    "start_time": "2022-06-30T20:17:55.554Z"
   },
   {
    "duration": 0,
    "start_time": "2022-06-30T20:17:55.556Z"
   },
   {
    "duration": 0,
    "start_time": "2022-06-30T20:17:55.557Z"
   },
   {
    "duration": 0,
    "start_time": "2022-06-30T20:17:55.558Z"
   },
   {
    "duration": 0,
    "start_time": "2022-06-30T20:17:55.560Z"
   },
   {
    "duration": 0,
    "start_time": "2022-06-30T20:17:55.561Z"
   },
   {
    "duration": 0,
    "start_time": "2022-06-30T20:17:55.563Z"
   },
   {
    "duration": 0,
    "start_time": "2022-06-30T20:17:55.564Z"
   },
   {
    "duration": 0,
    "start_time": "2022-06-30T20:17:55.565Z"
   },
   {
    "duration": 0,
    "start_time": "2022-06-30T20:17:55.566Z"
   },
   {
    "duration": 0,
    "start_time": "2022-06-30T20:17:55.626Z"
   },
   {
    "duration": 0,
    "start_time": "2022-06-30T20:17:55.628Z"
   },
   {
    "duration": 0,
    "start_time": "2022-06-30T20:17:55.629Z"
   },
   {
    "duration": 0,
    "start_time": "2022-06-30T20:17:55.630Z"
   },
   {
    "duration": 0,
    "start_time": "2022-06-30T20:17:55.632Z"
   },
   {
    "duration": 0,
    "start_time": "2022-06-30T20:17:55.633Z"
   },
   {
    "duration": 0,
    "start_time": "2022-06-30T20:17:55.635Z"
   },
   {
    "duration": 0,
    "start_time": "2022-06-30T20:17:55.637Z"
   },
   {
    "duration": 0,
    "start_time": "2022-06-30T20:17:55.638Z"
   },
   {
    "duration": 0,
    "start_time": "2022-06-30T20:17:55.640Z"
   },
   {
    "duration": 0,
    "start_time": "2022-06-30T20:17:55.642Z"
   },
   {
    "duration": 0,
    "start_time": "2022-06-30T20:17:55.644Z"
   },
   {
    "duration": 0,
    "start_time": "2022-06-30T20:17:55.645Z"
   },
   {
    "duration": 0,
    "start_time": "2022-06-30T20:17:55.646Z"
   },
   {
    "duration": 0,
    "start_time": "2022-06-30T20:17:55.648Z"
   },
   {
    "duration": 0,
    "start_time": "2022-06-30T20:17:55.650Z"
   },
   {
    "duration": 0,
    "start_time": "2022-06-30T20:17:55.650Z"
   },
   {
    "duration": 0,
    "start_time": "2022-06-30T20:17:55.651Z"
   },
   {
    "duration": 0,
    "start_time": "2022-06-30T20:17:55.653Z"
   },
   {
    "duration": 0,
    "start_time": "2022-06-30T20:17:55.654Z"
   },
   {
    "duration": 0,
    "start_time": "2022-06-30T20:17:55.655Z"
   },
   {
    "duration": 0,
    "start_time": "2022-06-30T20:17:55.661Z"
   },
   {
    "duration": 0,
    "start_time": "2022-06-30T20:17:55.662Z"
   },
   {
    "duration": 5,
    "start_time": "2022-06-30T20:18:38.879Z"
   },
   {
    "duration": 5,
    "start_time": "2022-06-30T20:18:40.583Z"
   },
   {
    "duration": 5,
    "start_time": "2022-06-30T20:18:56.828Z"
   },
   {
    "duration": 6,
    "start_time": "2022-06-30T20:19:02.471Z"
   },
   {
    "duration": 5,
    "start_time": "2022-06-30T20:19:09.607Z"
   },
   {
    "duration": 5,
    "start_time": "2022-06-30T20:19:27.821Z"
   },
   {
    "duration": 6,
    "start_time": "2022-06-30T20:38:41.499Z"
   },
   {
    "duration": 4,
    "start_time": "2022-06-30T20:38:42.999Z"
   },
   {
    "duration": 2,
    "start_time": "2022-06-30T20:38:58.200Z"
   },
   {
    "duration": 3,
    "start_time": "2022-06-30T20:39:00.322Z"
   },
   {
    "duration": 5,
    "start_time": "2022-06-30T20:39:02.793Z"
   },
   {
    "duration": 17,
    "start_time": "2022-06-30T20:40:02.143Z"
   },
   {
    "duration": 18,
    "start_time": "2022-06-30T20:40:13.442Z"
   },
   {
    "duration": 15,
    "start_time": "2022-06-30T20:40:17.172Z"
   },
   {
    "duration": 4,
    "start_time": "2022-06-30T20:40:36.871Z"
   },
   {
    "duration": 7,
    "start_time": "2022-06-30T20:40:41.419Z"
   },
   {
    "duration": 76,
    "start_time": "2022-06-30T20:40:52.215Z"
   },
   {
    "duration": 47,
    "start_time": "2022-06-30T20:42:55.104Z"
   },
   {
    "duration": 8,
    "start_time": "2022-06-30T20:43:08.625Z"
   },
   {
    "duration": 9,
    "start_time": "2022-06-30T20:52:12.139Z"
   },
   {
    "duration": 26,
    "start_time": "2022-06-30T20:52:54.680Z"
   },
   {
    "duration": 76,
    "start_time": "2022-06-30T20:53:10.971Z"
   },
   {
    "duration": 48,
    "start_time": "2022-06-30T20:53:12.630Z"
   },
   {
    "duration": 50,
    "start_time": "2022-06-30T20:53:49.670Z"
   },
   {
    "duration": 10,
    "start_time": "2022-06-30T20:55:13.235Z"
   },
   {
    "duration": 13,
    "start_time": "2022-06-30T20:55:31.273Z"
   },
   {
    "duration": 87,
    "start_time": "2022-06-30T20:56:00.142Z"
   },
   {
    "duration": 51,
    "start_time": "2022-06-30T20:56:09.222Z"
   },
   {
    "duration": 45,
    "start_time": "2022-06-30T20:57:14.540Z"
   },
   {
    "duration": 72,
    "start_time": "2022-06-30T20:57:27.677Z"
   },
   {
    "duration": 51,
    "start_time": "2022-06-30T20:57:44.528Z"
   },
   {
    "duration": 67,
    "start_time": "2022-06-30T20:57:51.624Z"
   },
   {
    "duration": 89,
    "start_time": "2022-06-30T20:58:01.513Z"
   },
   {
    "duration": 6,
    "start_time": "2022-06-30T20:58:17.027Z"
   },
   {
    "duration": 9,
    "start_time": "2022-06-30T20:58:32.227Z"
   },
   {
    "duration": 12,
    "start_time": "2022-06-30T20:58:55.726Z"
   },
   {
    "duration": 11,
    "start_time": "2022-06-30T21:00:43.806Z"
   },
   {
    "duration": 12,
    "start_time": "2022-06-30T21:00:55.632Z"
   },
   {
    "duration": 8,
    "start_time": "2022-06-30T21:01:40.218Z"
   },
   {
    "duration": 14,
    "start_time": "2022-06-30T21:36:00.083Z"
   },
   {
    "duration": 11,
    "start_time": "2022-06-30T21:36:10.382Z"
   },
   {
    "duration": 11,
    "start_time": "2022-06-30T21:36:19.922Z"
   },
   {
    "duration": 90,
    "start_time": "2022-06-30T21:36:28.745Z"
   },
   {
    "duration": 77,
    "start_time": "2022-06-30T21:36:34.574Z"
   },
   {
    "duration": 11,
    "start_time": "2022-06-30T21:36:38.650Z"
   },
   {
    "duration": 11,
    "start_time": "2022-06-30T21:36:51.660Z"
   },
   {
    "duration": 9,
    "start_time": "2022-06-30T21:37:06.107Z"
   },
   {
    "duration": 13,
    "start_time": "2022-06-30T21:38:41.645Z"
   },
   {
    "duration": 9,
    "start_time": "2022-06-30T21:39:23.027Z"
   },
   {
    "duration": 8,
    "start_time": "2022-06-30T21:39:56.607Z"
   },
   {
    "duration": 11,
    "start_time": "2022-06-30T21:40:34.870Z"
   },
   {
    "duration": 11,
    "start_time": "2022-06-30T23:24:00.235Z"
   },
   {
    "duration": 8,
    "start_time": "2022-06-30T23:25:02.461Z"
   },
   {
    "duration": 6,
    "start_time": "2022-06-30T23:25:17.631Z"
   },
   {
    "duration": 6,
    "start_time": "2022-06-30T23:25:34.492Z"
   },
   {
    "duration": 10,
    "start_time": "2022-06-30T23:25:49.795Z"
   },
   {
    "duration": 7,
    "start_time": "2022-06-30T23:26:28.541Z"
   },
   {
    "duration": 8,
    "start_time": "2022-06-30T23:26:47.399Z"
   },
   {
    "duration": 8,
    "start_time": "2022-06-30T23:26:59.976Z"
   },
   {
    "duration": 8,
    "start_time": "2022-06-30T23:27:08.839Z"
   },
   {
    "duration": 8,
    "start_time": "2022-06-30T23:27:28.235Z"
   },
   {
    "duration": 8,
    "start_time": "2022-06-30T23:27:29.394Z"
   },
   {
    "duration": 8,
    "start_time": "2022-06-30T23:27:44.910Z"
   },
   {
    "duration": 7,
    "start_time": "2022-06-30T23:31:05.540Z"
   },
   {
    "duration": 8,
    "start_time": "2022-06-30T23:32:06.706Z"
   },
   {
    "duration": 5,
    "start_time": "2022-06-30T23:32:24.792Z"
   },
   {
    "duration": 8,
    "start_time": "2022-06-30T23:32:55.675Z"
   },
   {
    "duration": 8,
    "start_time": "2022-06-30T23:33:42.259Z"
   },
   {
    "duration": 469,
    "start_time": "2022-06-30T23:33:55.017Z"
   },
   {
    "duration": 21,
    "start_time": "2022-06-30T23:33:55.488Z"
   },
   {
    "duration": 23,
    "start_time": "2022-06-30T23:33:55.512Z"
   },
   {
    "duration": 15,
    "start_time": "2022-06-30T23:33:55.537Z"
   },
   {
    "duration": 13,
    "start_time": "2022-06-30T23:33:55.554Z"
   },
   {
    "duration": 12,
    "start_time": "2022-06-30T23:33:55.568Z"
   },
   {
    "duration": 25,
    "start_time": "2022-06-30T23:33:55.582Z"
   },
   {
    "duration": 84,
    "start_time": "2022-06-30T23:33:55.609Z"
   },
   {
    "duration": 3,
    "start_time": "2022-06-30T23:33:55.695Z"
   },
   {
    "duration": 12,
    "start_time": "2022-06-30T23:33:55.700Z"
   },
   {
    "duration": 30,
    "start_time": "2022-06-30T23:33:55.713Z"
   },
   {
    "duration": 21,
    "start_time": "2022-06-30T23:33:55.746Z"
   },
   {
    "duration": 69,
    "start_time": "2022-06-30T23:33:55.769Z"
   },
   {
    "duration": 0,
    "start_time": "2022-06-30T23:33:55.842Z"
   },
   {
    "duration": 0,
    "start_time": "2022-06-30T23:33:55.843Z"
   },
   {
    "duration": 0,
    "start_time": "2022-06-30T23:33:55.844Z"
   },
   {
    "duration": 0,
    "start_time": "2022-06-30T23:33:55.845Z"
   },
   {
    "duration": 0,
    "start_time": "2022-06-30T23:33:55.846Z"
   },
   {
    "duration": 0,
    "start_time": "2022-06-30T23:33:55.847Z"
   },
   {
    "duration": 0,
    "start_time": "2022-06-30T23:33:55.848Z"
   },
   {
    "duration": 0,
    "start_time": "2022-06-30T23:33:55.849Z"
   },
   {
    "duration": 0,
    "start_time": "2022-06-30T23:33:55.850Z"
   },
   {
    "duration": 0,
    "start_time": "2022-06-30T23:33:55.851Z"
   },
   {
    "duration": 0,
    "start_time": "2022-06-30T23:33:55.852Z"
   },
   {
    "duration": 0,
    "start_time": "2022-06-30T23:33:55.853Z"
   },
   {
    "duration": 0,
    "start_time": "2022-06-30T23:33:55.854Z"
   },
   {
    "duration": 0,
    "start_time": "2022-06-30T23:33:55.854Z"
   },
   {
    "duration": 0,
    "start_time": "2022-06-30T23:33:55.855Z"
   },
   {
    "duration": 0,
    "start_time": "2022-06-30T23:33:55.856Z"
   },
   {
    "duration": 0,
    "start_time": "2022-06-30T23:33:55.857Z"
   },
   {
    "duration": 0,
    "start_time": "2022-06-30T23:33:55.858Z"
   },
   {
    "duration": 0,
    "start_time": "2022-06-30T23:33:55.859Z"
   },
   {
    "duration": 0,
    "start_time": "2022-06-30T23:33:55.860Z"
   },
   {
    "duration": 0,
    "start_time": "2022-06-30T23:33:55.861Z"
   },
   {
    "duration": 0,
    "start_time": "2022-06-30T23:33:55.862Z"
   },
   {
    "duration": 0,
    "start_time": "2022-06-30T23:33:55.863Z"
   },
   {
    "duration": 0,
    "start_time": "2022-06-30T23:33:55.864Z"
   },
   {
    "duration": 0,
    "start_time": "2022-06-30T23:33:55.865Z"
   },
   {
    "duration": 0,
    "start_time": "2022-06-30T23:33:55.866Z"
   },
   {
    "duration": 0,
    "start_time": "2022-06-30T23:33:55.868Z"
   },
   {
    "duration": 0,
    "start_time": "2022-06-30T23:33:55.868Z"
   },
   {
    "duration": 0,
    "start_time": "2022-06-30T23:33:55.869Z"
   },
   {
    "duration": 0,
    "start_time": "2022-06-30T23:33:55.870Z"
   },
   {
    "duration": 0,
    "start_time": "2022-06-30T23:33:55.871Z"
   },
   {
    "duration": 0,
    "start_time": "2022-06-30T23:33:55.872Z"
   },
   {
    "duration": 0,
    "start_time": "2022-06-30T23:33:55.873Z"
   },
   {
    "duration": 0,
    "start_time": "2022-06-30T23:33:55.874Z"
   },
   {
    "duration": 0,
    "start_time": "2022-06-30T23:33:55.875Z"
   },
   {
    "duration": 0,
    "start_time": "2022-06-30T23:33:55.876Z"
   },
   {
    "duration": 0,
    "start_time": "2022-06-30T23:33:55.928Z"
   },
   {
    "duration": 0,
    "start_time": "2022-06-30T23:33:55.929Z"
   },
   {
    "duration": 0,
    "start_time": "2022-06-30T23:33:55.930Z"
   },
   {
    "duration": 0,
    "start_time": "2022-06-30T23:33:55.931Z"
   },
   {
    "duration": 0,
    "start_time": "2022-06-30T23:33:55.932Z"
   },
   {
    "duration": 0,
    "start_time": "2022-06-30T23:33:55.933Z"
   },
   {
    "duration": 0,
    "start_time": "2022-06-30T23:33:55.933Z"
   },
   {
    "duration": 0,
    "start_time": "2022-06-30T23:33:55.934Z"
   },
   {
    "duration": 0,
    "start_time": "2022-06-30T23:33:55.935Z"
   },
   {
    "duration": 0,
    "start_time": "2022-06-30T23:33:55.936Z"
   },
   {
    "duration": 0,
    "start_time": "2022-06-30T23:33:55.936Z"
   },
   {
    "duration": 0,
    "start_time": "2022-06-30T23:33:55.937Z"
   },
   {
    "duration": 0,
    "start_time": "2022-06-30T23:33:55.938Z"
   },
   {
    "duration": 1,
    "start_time": "2022-06-30T23:33:55.938Z"
   },
   {
    "duration": 0,
    "start_time": "2022-06-30T23:33:55.939Z"
   },
   {
    "duration": 0,
    "start_time": "2022-06-30T23:33:55.940Z"
   },
   {
    "duration": 0,
    "start_time": "2022-06-30T23:33:55.941Z"
   },
   {
    "duration": 0,
    "start_time": "2022-06-30T23:33:55.942Z"
   },
   {
    "duration": 0,
    "start_time": "2022-06-30T23:33:55.943Z"
   },
   {
    "duration": 0,
    "start_time": "2022-06-30T23:33:55.944Z"
   },
   {
    "duration": 0,
    "start_time": "2022-06-30T23:33:55.946Z"
   },
   {
    "duration": 0,
    "start_time": "2022-06-30T23:33:55.947Z"
   },
   {
    "duration": 0,
    "start_time": "2022-06-30T23:33:55.948Z"
   },
   {
    "duration": 99,
    "start_time": "2022-06-30T23:34:50.085Z"
   },
   {
    "duration": 8,
    "start_time": "2022-06-30T23:35:19.881Z"
   },
   {
    "duration": 4,
    "start_time": "2022-06-30T23:37:01.842Z"
   },
   {
    "duration": 7,
    "start_time": "2022-06-30T23:38:14.940Z"
   },
   {
    "duration": 5,
    "start_time": "2022-06-30T23:39:35.063Z"
   },
   {
    "duration": 6,
    "start_time": "2022-06-30T23:39:37.571Z"
   },
   {
    "duration": 5,
    "start_time": "2022-06-30T23:45:01.817Z"
   },
   {
    "duration": 8,
    "start_time": "2022-06-30T23:46:19.018Z"
   },
   {
    "duration": 9,
    "start_time": "2022-06-30T23:46:29.939Z"
   },
   {
    "duration": 8,
    "start_time": "2022-06-30T23:49:30.374Z"
   },
   {
    "duration": 11,
    "start_time": "2022-06-30T23:49:31.549Z"
   },
   {
    "duration": 7,
    "start_time": "2022-06-30T23:49:44.207Z"
   },
   {
    "duration": 77,
    "start_time": "2022-07-01T17:21:04.494Z"
   },
   {
    "duration": 57,
    "start_time": "2022-07-01T17:21:10.223Z"
   },
   {
    "duration": 54,
    "start_time": "2022-07-01T17:21:22.681Z"
   },
   {
    "duration": 54,
    "start_time": "2022-07-01T17:28:54.348Z"
   },
   {
    "duration": 68,
    "start_time": "2022-07-01T17:33:01.938Z"
   },
   {
    "duration": 47,
    "start_time": "2022-07-01T17:33:06.553Z"
   },
   {
    "duration": 6,
    "start_time": "2022-07-01T17:34:55.609Z"
   },
   {
    "duration": 6,
    "start_time": "2022-07-01T17:35:57.523Z"
   },
   {
    "duration": 5,
    "start_time": "2022-07-01T17:37:44.917Z"
   },
   {
    "duration": 7,
    "start_time": "2022-07-01T17:44:34.308Z"
   },
   {
    "duration": 749,
    "start_time": "2022-07-01T17:44:53.051Z"
   },
   {
    "duration": 20,
    "start_time": "2022-07-01T17:44:53.802Z"
   },
   {
    "duration": 33,
    "start_time": "2022-07-01T17:44:53.824Z"
   },
   {
    "duration": 6,
    "start_time": "2022-07-01T17:44:53.859Z"
   },
   {
    "duration": 15,
    "start_time": "2022-07-01T17:44:53.867Z"
   },
   {
    "duration": 10,
    "start_time": "2022-07-01T17:44:53.884Z"
   },
   {
    "duration": 40,
    "start_time": "2022-07-01T17:44:53.896Z"
   },
   {
    "duration": 60,
    "start_time": "2022-07-01T17:44:53.938Z"
   },
   {
    "duration": 2,
    "start_time": "2022-07-01T17:44:54.000Z"
   },
   {
    "duration": 22,
    "start_time": "2022-07-01T17:44:54.006Z"
   },
   {
    "duration": 40,
    "start_time": "2022-07-01T17:44:54.030Z"
   },
   {
    "duration": 13,
    "start_time": "2022-07-01T17:44:54.072Z"
   },
   {
    "duration": 97,
    "start_time": "2022-07-01T17:44:54.087Z"
   },
   {
    "duration": 0,
    "start_time": "2022-07-01T17:44:54.187Z"
   },
   {
    "duration": 0,
    "start_time": "2022-07-01T17:44:54.188Z"
   },
   {
    "duration": 0,
    "start_time": "2022-07-01T17:44:54.190Z"
   },
   {
    "duration": 1,
    "start_time": "2022-07-01T17:44:54.191Z"
   },
   {
    "duration": 0,
    "start_time": "2022-07-01T17:44:54.193Z"
   },
   {
    "duration": 0,
    "start_time": "2022-07-01T17:44:54.194Z"
   },
   {
    "duration": 0,
    "start_time": "2022-07-01T17:44:54.196Z"
   },
   {
    "duration": 0,
    "start_time": "2022-07-01T17:44:54.197Z"
   },
   {
    "duration": 0,
    "start_time": "2022-07-01T17:44:54.198Z"
   },
   {
    "duration": 0,
    "start_time": "2022-07-01T17:44:54.199Z"
   },
   {
    "duration": 0,
    "start_time": "2022-07-01T17:44:54.201Z"
   },
   {
    "duration": 0,
    "start_time": "2022-07-01T17:44:54.202Z"
   },
   {
    "duration": 0,
    "start_time": "2022-07-01T17:44:54.226Z"
   },
   {
    "duration": 0,
    "start_time": "2022-07-01T17:44:54.228Z"
   },
   {
    "duration": 0,
    "start_time": "2022-07-01T17:44:54.229Z"
   },
   {
    "duration": 0,
    "start_time": "2022-07-01T17:44:54.230Z"
   },
   {
    "duration": 0,
    "start_time": "2022-07-01T17:44:54.232Z"
   },
   {
    "duration": 0,
    "start_time": "2022-07-01T17:44:54.233Z"
   },
   {
    "duration": 0,
    "start_time": "2022-07-01T17:44:54.234Z"
   },
   {
    "duration": 0,
    "start_time": "2022-07-01T17:44:54.236Z"
   },
   {
    "duration": 0,
    "start_time": "2022-07-01T17:44:54.237Z"
   },
   {
    "duration": 0,
    "start_time": "2022-07-01T17:44:54.238Z"
   },
   {
    "duration": 0,
    "start_time": "2022-07-01T17:44:54.239Z"
   },
   {
    "duration": 0,
    "start_time": "2022-07-01T17:44:54.240Z"
   },
   {
    "duration": 0,
    "start_time": "2022-07-01T17:44:54.243Z"
   },
   {
    "duration": 0,
    "start_time": "2022-07-01T17:44:54.245Z"
   },
   {
    "duration": 0,
    "start_time": "2022-07-01T17:44:54.246Z"
   },
   {
    "duration": 0,
    "start_time": "2022-07-01T17:44:54.247Z"
   },
   {
    "duration": 0,
    "start_time": "2022-07-01T17:44:54.249Z"
   },
   {
    "duration": 0,
    "start_time": "2022-07-01T17:44:54.250Z"
   },
   {
    "duration": 0,
    "start_time": "2022-07-01T17:44:54.251Z"
   },
   {
    "duration": 0,
    "start_time": "2022-07-01T17:44:54.253Z"
   },
   {
    "duration": 0,
    "start_time": "2022-07-01T17:44:54.254Z"
   },
   {
    "duration": 0,
    "start_time": "2022-07-01T17:44:54.256Z"
   },
   {
    "duration": 0,
    "start_time": "2022-07-01T17:44:54.258Z"
   },
   {
    "duration": 0,
    "start_time": "2022-07-01T17:44:54.259Z"
   },
   {
    "duration": 0,
    "start_time": "2022-07-01T17:44:54.260Z"
   },
   {
    "duration": 0,
    "start_time": "2022-07-01T17:44:54.261Z"
   },
   {
    "duration": 0,
    "start_time": "2022-07-01T17:44:54.263Z"
   },
   {
    "duration": 0,
    "start_time": "2022-07-01T17:44:54.326Z"
   },
   {
    "duration": 0,
    "start_time": "2022-07-01T17:44:54.328Z"
   },
   {
    "duration": 0,
    "start_time": "2022-07-01T17:44:54.329Z"
   },
   {
    "duration": 0,
    "start_time": "2022-07-01T17:44:54.331Z"
   },
   {
    "duration": 0,
    "start_time": "2022-07-01T17:44:54.332Z"
   },
   {
    "duration": 0,
    "start_time": "2022-07-01T17:44:54.333Z"
   },
   {
    "duration": 0,
    "start_time": "2022-07-01T17:44:54.335Z"
   },
   {
    "duration": 0,
    "start_time": "2022-07-01T17:44:54.336Z"
   },
   {
    "duration": 0,
    "start_time": "2022-07-01T17:44:54.337Z"
   },
   {
    "duration": 0,
    "start_time": "2022-07-01T17:44:54.339Z"
   },
   {
    "duration": 0,
    "start_time": "2022-07-01T17:44:54.340Z"
   },
   {
    "duration": 0,
    "start_time": "2022-07-01T17:44:54.342Z"
   },
   {
    "duration": 0,
    "start_time": "2022-07-01T17:44:54.343Z"
   },
   {
    "duration": 0,
    "start_time": "2022-07-01T17:44:54.344Z"
   },
   {
    "duration": 0,
    "start_time": "2022-07-01T17:44:54.346Z"
   },
   {
    "duration": 0,
    "start_time": "2022-07-01T17:44:54.347Z"
   },
   {
    "duration": 0,
    "start_time": "2022-07-01T17:44:54.352Z"
   },
   {
    "duration": 1,
    "start_time": "2022-07-01T17:44:54.353Z"
   },
   {
    "duration": 0,
    "start_time": "2022-07-01T17:44:54.355Z"
   },
   {
    "duration": 0,
    "start_time": "2022-07-01T17:44:54.360Z"
   },
   {
    "duration": 8,
    "start_time": "2022-07-01T17:47:07.784Z"
   },
   {
    "duration": 10,
    "start_time": "2022-07-01T17:47:23.826Z"
   },
   {
    "duration": 9,
    "start_time": "2022-07-01T17:48:39.126Z"
   },
   {
    "duration": 5,
    "start_time": "2022-07-01T17:49:00.708Z"
   },
   {
    "duration": 2,
    "start_time": "2022-07-01T17:49:03.550Z"
   },
   {
    "duration": 5,
    "start_time": "2022-07-01T17:49:05.250Z"
   },
   {
    "duration": 5,
    "start_time": "2022-07-01T17:49:18.986Z"
   },
   {
    "duration": 5,
    "start_time": "2022-07-01T17:49:21.506Z"
   },
   {
    "duration": 6,
    "start_time": "2022-07-01T17:49:24.472Z"
   },
   {
    "duration": 9,
    "start_time": "2022-07-01T17:58:37.449Z"
   },
   {
    "duration": 8,
    "start_time": "2022-07-01T18:01:29.315Z"
   },
   {
    "duration": 7,
    "start_time": "2022-07-01T18:01:44.138Z"
   },
   {
    "duration": 8,
    "start_time": "2022-07-01T18:03:33.868Z"
   },
   {
    "duration": 14,
    "start_time": "2022-07-01T18:05:10.414Z"
   },
   {
    "duration": 10,
    "start_time": "2022-07-01T18:06:21.390Z"
   },
   {
    "duration": 13,
    "start_time": "2022-07-01T18:06:52.306Z"
   },
   {
    "duration": 12,
    "start_time": "2022-07-01T18:09:13.104Z"
   },
   {
    "duration": 18,
    "start_time": "2022-07-01T18:10:24.314Z"
   },
   {
    "duration": 7,
    "start_time": "2022-07-01T18:10:43.610Z"
   },
   {
    "duration": 7,
    "start_time": "2022-07-01T18:10:59.603Z"
   },
   {
    "duration": 6,
    "start_time": "2022-07-01T18:11:12.147Z"
   },
   {
    "duration": 6,
    "start_time": "2022-07-01T18:11:51.394Z"
   },
   {
    "duration": 4,
    "start_time": "2022-07-01T18:12:15.468Z"
   },
   {
    "duration": 17,
    "start_time": "2022-07-01T18:13:10.717Z"
   },
   {
    "duration": 4,
    "start_time": "2022-07-01T18:13:18.010Z"
   },
   {
    "duration": 17,
    "start_time": "2022-07-01T18:14:40.866Z"
   },
   {
    "duration": 4,
    "start_time": "2022-07-01T18:14:47.954Z"
   },
   {
    "duration": 6,
    "start_time": "2022-07-01T18:14:54.447Z"
   },
   {
    "duration": 10,
    "start_time": "2022-07-01T19:01:51.710Z"
   },
   {
    "duration": 12,
    "start_time": "2022-07-01T19:02:44.622Z"
   },
   {
    "duration": 11,
    "start_time": "2022-07-01T19:03:43.016Z"
   },
   {
    "duration": 14,
    "start_time": "2022-07-01T19:03:50.040Z"
   },
   {
    "duration": 47,
    "start_time": "2022-07-01T19:11:36.692Z"
   },
   {
    "duration": 6,
    "start_time": "2022-07-01T19:11:46.418Z"
   },
   {
    "duration": 5,
    "start_time": "2022-07-01T19:11:52.213Z"
   },
   {
    "duration": 6,
    "start_time": "2022-07-01T19:13:29.002Z"
   },
   {
    "duration": 6,
    "start_time": "2022-07-01T19:13:37.359Z"
   },
   {
    "duration": 2,
    "start_time": "2022-07-01T19:16:57.994Z"
   },
   {
    "duration": 5,
    "start_time": "2022-07-01T19:17:18.274Z"
   },
   {
    "duration": 4,
    "start_time": "2022-07-01T19:17:26.740Z"
   },
   {
    "duration": 5,
    "start_time": "2022-07-01T19:18:13.990Z"
   },
   {
    "duration": 6,
    "start_time": "2022-07-01T19:18:17.666Z"
   },
   {
    "duration": 3,
    "start_time": "2022-07-01T19:18:29.084Z"
   },
   {
    "duration": 455,
    "start_time": "2022-07-01T19:18:37.244Z"
   },
   {
    "duration": 18,
    "start_time": "2022-07-01T19:18:37.701Z"
   },
   {
    "duration": 19,
    "start_time": "2022-07-01T19:18:37.721Z"
   },
   {
    "duration": 9,
    "start_time": "2022-07-01T19:18:37.742Z"
   },
   {
    "duration": 13,
    "start_time": "2022-07-01T19:18:37.753Z"
   },
   {
    "duration": 10,
    "start_time": "2022-07-01T19:18:37.768Z"
   },
   {
    "duration": 21,
    "start_time": "2022-07-01T19:18:37.779Z"
   },
   {
    "duration": 76,
    "start_time": "2022-07-01T19:18:37.801Z"
   },
   {
    "duration": 3,
    "start_time": "2022-07-01T19:18:37.878Z"
   },
   {
    "duration": 6,
    "start_time": "2022-07-01T19:18:37.882Z"
   },
   {
    "duration": 21,
    "start_time": "2022-07-01T19:18:37.889Z"
   },
   {
    "duration": 7,
    "start_time": "2022-07-01T19:18:37.912Z"
   },
   {
    "duration": 11,
    "start_time": "2022-07-01T19:18:37.926Z"
   },
   {
    "duration": 8,
    "start_time": "2022-07-01T19:18:37.939Z"
   },
   {
    "duration": 6,
    "start_time": "2022-07-01T19:18:37.949Z"
   },
   {
    "duration": 5,
    "start_time": "2022-07-01T19:18:37.956Z"
   },
   {
    "duration": 5,
    "start_time": "2022-07-01T19:18:37.962Z"
   },
   {
    "duration": 9,
    "start_time": "2022-07-01T19:18:37.968Z"
   },
   {
    "duration": 7,
    "start_time": "2022-07-01T19:18:37.978Z"
   },
   {
    "duration": 10,
    "start_time": "2022-07-01T19:18:37.986Z"
   },
   {
    "duration": 6,
    "start_time": "2022-07-01T19:18:37.997Z"
   },
   {
    "duration": 5,
    "start_time": "2022-07-01T19:18:38.005Z"
   },
   {
    "duration": 5,
    "start_time": "2022-07-01T19:18:38.012Z"
   },
   {
    "duration": 11,
    "start_time": "2022-07-01T19:18:38.018Z"
   },
   {
    "duration": 10,
    "start_time": "2022-07-01T19:18:38.030Z"
   },
   {
    "duration": 6,
    "start_time": "2022-07-01T19:18:38.042Z"
   },
   {
    "duration": 11,
    "start_time": "2022-07-01T19:18:38.049Z"
   },
   {
    "duration": 7,
    "start_time": "2022-07-01T19:18:38.061Z"
   },
   {
    "duration": 7,
    "start_time": "2022-07-01T19:18:38.070Z"
   },
   {
    "duration": 7,
    "start_time": "2022-07-01T19:18:38.078Z"
   },
   {
    "duration": 10,
    "start_time": "2022-07-01T19:18:38.087Z"
   },
   {
    "duration": 8,
    "start_time": "2022-07-01T19:18:38.099Z"
   },
   {
    "duration": 9,
    "start_time": "2022-07-01T19:18:38.109Z"
   },
   {
    "duration": 6,
    "start_time": "2022-07-01T19:18:38.119Z"
   },
   {
    "duration": 9,
    "start_time": "2022-07-01T19:18:38.127Z"
   },
   {
    "duration": 9,
    "start_time": "2022-07-01T19:18:38.138Z"
   },
   {
    "duration": 6,
    "start_time": "2022-07-01T19:18:38.149Z"
   },
   {
    "duration": 8,
    "start_time": "2022-07-01T19:18:38.157Z"
   },
   {
    "duration": 19,
    "start_time": "2022-07-01T19:18:38.166Z"
   },
   {
    "duration": 8,
    "start_time": "2022-07-01T19:18:38.186Z"
   },
   {
    "duration": 4,
    "start_time": "2022-07-01T19:18:38.198Z"
   },
   {
    "duration": 5,
    "start_time": "2022-07-01T19:18:38.203Z"
   },
   {
    "duration": 6,
    "start_time": "2022-07-01T19:18:38.209Z"
   },
   {
    "duration": 5,
    "start_time": "2022-07-01T19:18:38.216Z"
   },
   {
    "duration": 5,
    "start_time": "2022-07-01T19:18:38.222Z"
   },
   {
    "duration": 5,
    "start_time": "2022-07-01T19:18:38.228Z"
   },
   {
    "duration": 6,
    "start_time": "2022-07-01T19:18:38.234Z"
   },
   {
    "duration": 4,
    "start_time": "2022-07-01T19:18:38.241Z"
   },
   {
    "duration": 5,
    "start_time": "2022-07-01T19:18:38.247Z"
   },
   {
    "duration": 5,
    "start_time": "2022-07-01T19:18:38.253Z"
   },
   {
    "duration": 9,
    "start_time": "2022-07-01T19:18:38.259Z"
   },
   {
    "duration": 5,
    "start_time": "2022-07-01T19:18:38.270Z"
   },
   {
    "duration": 6,
    "start_time": "2022-07-01T19:18:38.277Z"
   },
   {
    "duration": 6,
    "start_time": "2022-07-01T19:18:38.284Z"
   },
   {
    "duration": 6,
    "start_time": "2022-07-01T19:18:38.292Z"
   },
   {
    "duration": 11,
    "start_time": "2022-07-01T19:18:38.300Z"
   },
   {
    "duration": 7,
    "start_time": "2022-07-01T19:18:38.312Z"
   },
   {
    "duration": 5,
    "start_time": "2022-07-01T19:18:38.320Z"
   },
   {
    "duration": 5,
    "start_time": "2022-07-01T19:18:38.327Z"
   },
   {
    "duration": 7,
    "start_time": "2022-07-01T19:18:38.333Z"
   },
   {
    "duration": 6,
    "start_time": "2022-07-01T19:18:38.342Z"
   },
   {
    "duration": 5,
    "start_time": "2022-07-01T19:18:38.349Z"
   },
   {
    "duration": 5,
    "start_time": "2022-07-01T19:18:38.356Z"
   },
   {
    "duration": 6,
    "start_time": "2022-07-01T19:18:38.362Z"
   },
   {
    "duration": 13,
    "start_time": "2022-07-01T19:18:38.369Z"
   },
   {
    "duration": 7,
    "start_time": "2022-07-01T19:18:38.384Z"
   },
   {
    "duration": 6,
    "start_time": "2022-07-01T19:18:38.392Z"
   },
   {
    "duration": 10,
    "start_time": "2022-07-01T19:18:38.399Z"
   },
   {
    "duration": 5,
    "start_time": "2022-07-01T19:18:38.411Z"
   },
   {
    "duration": 13,
    "start_time": "2022-07-01T19:18:38.417Z"
   },
   {
    "duration": 4,
    "start_time": "2022-07-01T19:18:38.432Z"
   },
   {
    "duration": 5,
    "start_time": "2022-07-01T19:18:38.438Z"
   },
   {
    "duration": 62,
    "start_time": "2022-07-01T19:18:52.308Z"
   },
   {
    "duration": 5,
    "start_time": "2022-07-01T19:19:04.684Z"
   },
   {
    "duration": 6,
    "start_time": "2022-07-01T19:22:29.966Z"
   },
   {
    "duration": 48,
    "start_time": "2022-07-02T21:17:58.793Z"
   },
   {
    "duration": 564,
    "start_time": "2022-07-02T21:18:07.082Z"
   },
   {
    "duration": 28,
    "start_time": "2022-07-02T21:18:07.650Z"
   },
   {
    "duration": 20,
    "start_time": "2022-07-02T21:18:07.680Z"
   },
   {
    "duration": 26,
    "start_time": "2022-07-02T21:18:07.703Z"
   },
   {
    "duration": 16,
    "start_time": "2022-07-02T21:18:07.731Z"
   },
   {
    "duration": 12,
    "start_time": "2022-07-02T21:18:07.749Z"
   },
   {
    "duration": 22,
    "start_time": "2022-07-02T21:18:07.763Z"
   },
   {
    "duration": 108,
    "start_time": "2022-07-02T21:18:07.787Z"
   },
   {
    "duration": 3,
    "start_time": "2022-07-02T21:18:07.897Z"
   },
   {
    "duration": 10,
    "start_time": "2022-07-02T21:18:07.903Z"
   },
   {
    "duration": 36,
    "start_time": "2022-07-02T21:18:07.915Z"
   },
   {
    "duration": 7,
    "start_time": "2022-07-02T21:18:07.953Z"
   },
   {
    "duration": 13,
    "start_time": "2022-07-02T21:18:07.962Z"
   },
   {
    "duration": 8,
    "start_time": "2022-07-02T21:18:07.977Z"
   },
   {
    "duration": 5,
    "start_time": "2022-07-02T21:18:07.987Z"
   },
   {
    "duration": 9,
    "start_time": "2022-07-02T21:18:07.993Z"
   },
   {
    "duration": 6,
    "start_time": "2022-07-02T21:18:08.004Z"
   },
   {
    "duration": 3,
    "start_time": "2022-07-02T21:18:08.028Z"
   },
   {
    "duration": 13,
    "start_time": "2022-07-02T21:18:08.032Z"
   },
   {
    "duration": 6,
    "start_time": "2022-07-02T21:18:08.046Z"
   },
   {
    "duration": 7,
    "start_time": "2022-07-02T21:18:08.054Z"
   },
   {
    "duration": 7,
    "start_time": "2022-07-02T21:18:08.063Z"
   },
   {
    "duration": 10,
    "start_time": "2022-07-02T21:18:08.072Z"
   },
   {
    "duration": 8,
    "start_time": "2022-07-02T21:18:08.084Z"
   },
   {
    "duration": 7,
    "start_time": "2022-07-02T21:18:08.094Z"
   },
   {
    "duration": 7,
    "start_time": "2022-07-02T21:18:08.103Z"
   },
   {
    "duration": 5,
    "start_time": "2022-07-02T21:18:08.113Z"
   },
   {
    "duration": 6,
    "start_time": "2022-07-02T21:18:08.122Z"
   },
   {
    "duration": 7,
    "start_time": "2022-07-02T21:18:08.130Z"
   },
   {
    "duration": 9,
    "start_time": "2022-07-02T21:18:08.138Z"
   },
   {
    "duration": 5,
    "start_time": "2022-07-02T21:18:08.149Z"
   },
   {
    "duration": 8,
    "start_time": "2022-07-02T21:18:08.155Z"
   },
   {
    "duration": 5,
    "start_time": "2022-07-02T21:18:08.164Z"
   },
   {
    "duration": 5,
    "start_time": "2022-07-02T21:18:08.171Z"
   },
   {
    "duration": 6,
    "start_time": "2022-07-02T21:18:08.177Z"
   },
   {
    "duration": 9,
    "start_time": "2022-07-02T21:18:08.187Z"
   },
   {
    "duration": 15,
    "start_time": "2022-07-02T21:18:08.197Z"
   },
   {
    "duration": 15,
    "start_time": "2022-07-02T21:18:08.214Z"
   },
   {
    "duration": 15,
    "start_time": "2022-07-02T21:18:08.231Z"
   },
   {
    "duration": 19,
    "start_time": "2022-07-02T21:18:08.248Z"
   },
   {
    "duration": 17,
    "start_time": "2022-07-02T21:18:08.269Z"
   },
   {
    "duration": 16,
    "start_time": "2022-07-02T21:18:08.288Z"
   },
   {
    "duration": 5,
    "start_time": "2022-07-02T21:18:08.307Z"
   },
   {
    "duration": 7,
    "start_time": "2022-07-02T21:18:08.314Z"
   },
   {
    "duration": 6,
    "start_time": "2022-07-02T21:18:08.323Z"
   },
   {
    "duration": 9,
    "start_time": "2022-07-02T21:18:08.331Z"
   },
   {
    "duration": 8,
    "start_time": "2022-07-02T21:18:08.342Z"
   },
   {
    "duration": 5,
    "start_time": "2022-07-02T21:18:08.353Z"
   },
   {
    "duration": 9,
    "start_time": "2022-07-02T21:18:08.360Z"
   },
   {
    "duration": 6,
    "start_time": "2022-07-02T21:18:08.371Z"
   },
   {
    "duration": 7,
    "start_time": "2022-07-02T21:18:08.378Z"
   },
   {
    "duration": 6,
    "start_time": "2022-07-02T21:18:08.387Z"
   },
   {
    "duration": 33,
    "start_time": "2022-07-02T21:18:08.394Z"
   },
   {
    "duration": 9,
    "start_time": "2022-07-02T21:18:08.429Z"
   },
   {
    "duration": 13,
    "start_time": "2022-07-02T21:18:08.439Z"
   },
   {
    "duration": 11,
    "start_time": "2022-07-02T21:18:08.454Z"
   },
   {
    "duration": 6,
    "start_time": "2022-07-02T21:18:08.467Z"
   },
   {
    "duration": 5,
    "start_time": "2022-07-02T21:18:08.475Z"
   },
   {
    "duration": 6,
    "start_time": "2022-07-02T21:18:08.483Z"
   },
   {
    "duration": 10,
    "start_time": "2022-07-02T21:18:08.491Z"
   },
   {
    "duration": 6,
    "start_time": "2022-07-02T21:18:08.504Z"
   },
   {
    "duration": 16,
    "start_time": "2022-07-02T21:18:08.511Z"
   },
   {
    "duration": 9,
    "start_time": "2022-07-02T21:18:08.530Z"
   },
   {
    "duration": 7,
    "start_time": "2022-07-02T21:18:08.542Z"
   },
   {
    "duration": 8,
    "start_time": "2022-07-02T21:18:08.551Z"
   },
   {
    "duration": 14,
    "start_time": "2022-07-02T21:18:08.561Z"
   },
   {
    "duration": 8,
    "start_time": "2022-07-02T21:18:08.578Z"
   },
   {
    "duration": 9,
    "start_time": "2022-07-02T21:18:08.588Z"
   },
   {
    "duration": 9,
    "start_time": "2022-07-02T21:18:08.600Z"
   },
   {
    "duration": 8,
    "start_time": "2022-07-02T21:18:08.611Z"
   },
   {
    "duration": 6,
    "start_time": "2022-07-02T21:18:08.625Z"
   },
   {
    "duration": 79,
    "start_time": "2022-07-02T21:19:35.078Z"
   },
   {
    "duration": 48,
    "start_time": "2022-07-02T21:23:59.253Z"
   },
   {
    "duration": 97,
    "start_time": "2022-07-02T21:24:39.721Z"
   },
   {
    "duration": 58,
    "start_time": "2022-07-02T21:25:05.219Z"
   },
   {
    "duration": 16,
    "start_time": "2022-07-02T21:25:54.515Z"
   },
   {
    "duration": 10,
    "start_time": "2022-07-02T21:26:12.179Z"
   },
   {
    "duration": 12,
    "start_time": "2022-07-02T21:27:01.016Z"
   },
   {
    "duration": 5,
    "start_time": "2022-07-02T21:27:26.386Z"
   },
   {
    "duration": 9,
    "start_time": "2022-07-02T21:27:30.752Z"
   },
   {
    "duration": 11,
    "start_time": "2022-07-02T21:28:49.676Z"
   },
   {
    "duration": 504,
    "start_time": "2022-07-02T21:30:02.672Z"
   },
   {
    "duration": 0,
    "start_time": "2022-07-02T21:30:03.181Z"
   },
   {
    "duration": 0,
    "start_time": "2022-07-02T21:30:03.182Z"
   },
   {
    "duration": 0,
    "start_time": "2022-07-02T21:30:03.183Z"
   },
   {
    "duration": 0,
    "start_time": "2022-07-02T21:30:03.184Z"
   },
   {
    "duration": 0,
    "start_time": "2022-07-02T21:30:03.185Z"
   },
   {
    "duration": 0,
    "start_time": "2022-07-02T21:30:03.188Z"
   },
   {
    "duration": 0,
    "start_time": "2022-07-02T21:30:03.190Z"
   },
   {
    "duration": 0,
    "start_time": "2022-07-02T21:30:03.191Z"
   },
   {
    "duration": 0,
    "start_time": "2022-07-02T21:30:03.193Z"
   },
   {
    "duration": 0,
    "start_time": "2022-07-02T21:30:03.195Z"
   },
   {
    "duration": 0,
    "start_time": "2022-07-02T21:30:03.196Z"
   },
   {
    "duration": 0,
    "start_time": "2022-07-02T21:30:03.199Z"
   },
   {
    "duration": 0,
    "start_time": "2022-07-02T21:30:03.200Z"
   },
   {
    "duration": 1,
    "start_time": "2022-07-02T21:30:03.226Z"
   },
   {
    "duration": 0,
    "start_time": "2022-07-02T21:30:03.228Z"
   },
   {
    "duration": 0,
    "start_time": "2022-07-02T21:30:03.230Z"
   },
   {
    "duration": 0,
    "start_time": "2022-07-02T21:30:03.232Z"
   },
   {
    "duration": 0,
    "start_time": "2022-07-02T21:30:03.233Z"
   },
   {
    "duration": 0,
    "start_time": "2022-07-02T21:30:03.235Z"
   },
   {
    "duration": 0,
    "start_time": "2022-07-02T21:30:03.237Z"
   },
   {
    "duration": 0,
    "start_time": "2022-07-02T21:30:03.238Z"
   },
   {
    "duration": 0,
    "start_time": "2022-07-02T21:30:03.239Z"
   },
   {
    "duration": 0,
    "start_time": "2022-07-02T21:30:03.241Z"
   },
   {
    "duration": 0,
    "start_time": "2022-07-02T21:30:03.242Z"
   },
   {
    "duration": 0,
    "start_time": "2022-07-02T21:30:03.244Z"
   },
   {
    "duration": 0,
    "start_time": "2022-07-02T21:30:03.245Z"
   },
   {
    "duration": 0,
    "start_time": "2022-07-02T21:30:03.246Z"
   },
   {
    "duration": 0,
    "start_time": "2022-07-02T21:30:03.247Z"
   },
   {
    "duration": 0,
    "start_time": "2022-07-02T21:30:03.248Z"
   },
   {
    "duration": 0,
    "start_time": "2022-07-02T21:30:03.253Z"
   },
   {
    "duration": 0,
    "start_time": "2022-07-02T21:30:03.254Z"
   },
   {
    "duration": 0,
    "start_time": "2022-07-02T21:30:03.256Z"
   },
   {
    "duration": 0,
    "start_time": "2022-07-02T21:30:03.256Z"
   },
   {
    "duration": 1,
    "start_time": "2022-07-02T21:30:03.257Z"
   },
   {
    "duration": 0,
    "start_time": "2022-07-02T21:30:03.259Z"
   },
   {
    "duration": 0,
    "start_time": "2022-07-02T21:30:03.261Z"
   },
   {
    "duration": 0,
    "start_time": "2022-07-02T21:30:03.265Z"
   },
   {
    "duration": 0,
    "start_time": "2022-07-02T21:30:03.267Z"
   },
   {
    "duration": 0,
    "start_time": "2022-07-02T21:30:03.268Z"
   },
   {
    "duration": 0,
    "start_time": "2022-07-02T21:30:03.327Z"
   },
   {
    "duration": 0,
    "start_time": "2022-07-02T21:30:03.328Z"
   },
   {
    "duration": 0,
    "start_time": "2022-07-02T21:30:03.330Z"
   },
   {
    "duration": 0,
    "start_time": "2022-07-02T21:30:03.331Z"
   },
   {
    "duration": 0,
    "start_time": "2022-07-02T21:30:03.333Z"
   },
   {
    "duration": 0,
    "start_time": "2022-07-02T21:30:03.335Z"
   },
   {
    "duration": 0,
    "start_time": "2022-07-02T21:30:03.336Z"
   },
   {
    "duration": 0,
    "start_time": "2022-07-02T21:30:03.338Z"
   },
   {
    "duration": 0,
    "start_time": "2022-07-02T21:30:03.339Z"
   },
   {
    "duration": 0,
    "start_time": "2022-07-02T21:30:03.341Z"
   },
   {
    "duration": 0,
    "start_time": "2022-07-02T21:30:03.342Z"
   },
   {
    "duration": 0,
    "start_time": "2022-07-02T21:30:03.344Z"
   },
   {
    "duration": 0,
    "start_time": "2022-07-02T21:30:03.345Z"
   },
   {
    "duration": 0,
    "start_time": "2022-07-02T21:30:03.347Z"
   },
   {
    "duration": 0,
    "start_time": "2022-07-02T21:30:03.348Z"
   },
   {
    "duration": 0,
    "start_time": "2022-07-02T21:30:03.350Z"
   },
   {
    "duration": 0,
    "start_time": "2022-07-02T21:30:03.353Z"
   },
   {
    "duration": 0,
    "start_time": "2022-07-02T21:30:03.355Z"
   },
   {
    "duration": 0,
    "start_time": "2022-07-02T21:30:03.356Z"
   },
   {
    "duration": 0,
    "start_time": "2022-07-02T21:30:03.358Z"
   },
   {
    "duration": 66,
    "start_time": "2022-07-02T21:30:03.363Z"
   },
   {
    "duration": 11,
    "start_time": "2022-07-02T21:30:03.430Z"
   },
   {
    "duration": 6,
    "start_time": "2022-07-02T21:30:03.444Z"
   },
   {
    "duration": 17,
    "start_time": "2022-07-02T21:30:03.452Z"
   },
   {
    "duration": 7,
    "start_time": "2022-07-02T21:30:03.472Z"
   },
   {
    "duration": 45,
    "start_time": "2022-07-02T21:30:03.481Z"
   },
   {
    "duration": 9,
    "start_time": "2022-07-02T21:30:03.529Z"
   },
   {
    "duration": 19,
    "start_time": "2022-07-02T21:30:03.540Z"
   },
   {
    "duration": 9,
    "start_time": "2022-07-02T21:30:03.561Z"
   },
   {
    "duration": 6,
    "start_time": "2022-07-02T21:30:03.572Z"
   },
   {
    "duration": 8,
    "start_time": "2022-07-02T21:30:03.579Z"
   },
   {
    "duration": 48,
    "start_time": "2022-07-02T21:30:17.990Z"
   },
   {
    "duration": 11,
    "start_time": "2022-07-02T21:30:31.313Z"
   },
   {
    "duration": 13,
    "start_time": "2022-07-02T21:30:36.637Z"
   },
   {
    "duration": 610,
    "start_time": "2022-07-02T21:30:53.606Z"
   },
   {
    "duration": 0,
    "start_time": "2022-07-02T21:30:54.221Z"
   },
   {
    "duration": 0,
    "start_time": "2022-07-02T21:30:54.226Z"
   },
   {
    "duration": 0,
    "start_time": "2022-07-02T21:30:54.227Z"
   },
   {
    "duration": 0,
    "start_time": "2022-07-02T21:30:54.229Z"
   },
   {
    "duration": 0,
    "start_time": "2022-07-02T21:30:54.231Z"
   },
   {
    "duration": 0,
    "start_time": "2022-07-02T21:30:54.232Z"
   },
   {
    "duration": 0,
    "start_time": "2022-07-02T21:30:54.234Z"
   },
   {
    "duration": 0,
    "start_time": "2022-07-02T21:30:54.235Z"
   },
   {
    "duration": 0,
    "start_time": "2022-07-02T21:30:54.237Z"
   },
   {
    "duration": 0,
    "start_time": "2022-07-02T21:30:54.238Z"
   },
   {
    "duration": 0,
    "start_time": "2022-07-02T21:30:54.239Z"
   },
   {
    "duration": 0,
    "start_time": "2022-07-02T21:30:54.241Z"
   },
   {
    "duration": 0,
    "start_time": "2022-07-02T21:30:54.242Z"
   },
   {
    "duration": 0,
    "start_time": "2022-07-02T21:30:54.243Z"
   },
   {
    "duration": 0,
    "start_time": "2022-07-02T21:30:54.245Z"
   },
   {
    "duration": 0,
    "start_time": "2022-07-02T21:30:54.246Z"
   },
   {
    "duration": 0,
    "start_time": "2022-07-02T21:30:54.248Z"
   },
   {
    "duration": 0,
    "start_time": "2022-07-02T21:30:54.250Z"
   },
   {
    "duration": 0,
    "start_time": "2022-07-02T21:30:54.251Z"
   },
   {
    "duration": 0,
    "start_time": "2022-07-02T21:30:54.252Z"
   },
   {
    "duration": 0,
    "start_time": "2022-07-02T21:30:54.254Z"
   },
   {
    "duration": 0,
    "start_time": "2022-07-02T21:30:54.255Z"
   },
   {
    "duration": 0,
    "start_time": "2022-07-02T21:30:54.256Z"
   },
   {
    "duration": 0,
    "start_time": "2022-07-02T21:30:54.257Z"
   },
   {
    "duration": 0,
    "start_time": "2022-07-02T21:30:54.259Z"
   },
   {
    "duration": 0,
    "start_time": "2022-07-02T21:30:54.260Z"
   },
   {
    "duration": 0,
    "start_time": "2022-07-02T21:30:54.265Z"
   },
   {
    "duration": 0,
    "start_time": "2022-07-02T21:30:54.267Z"
   },
   {
    "duration": 0,
    "start_time": "2022-07-02T21:30:54.268Z"
   },
   {
    "duration": 0,
    "start_time": "2022-07-02T21:30:54.269Z"
   },
   {
    "duration": 0,
    "start_time": "2022-07-02T21:30:54.326Z"
   },
   {
    "duration": 0,
    "start_time": "2022-07-02T21:30:54.328Z"
   },
   {
    "duration": 0,
    "start_time": "2022-07-02T21:30:54.330Z"
   },
   {
    "duration": 0,
    "start_time": "2022-07-02T21:30:54.331Z"
   },
   {
    "duration": 0,
    "start_time": "2022-07-02T21:30:54.332Z"
   },
   {
    "duration": 0,
    "start_time": "2022-07-02T21:30:54.334Z"
   },
   {
    "duration": 0,
    "start_time": "2022-07-02T21:30:54.335Z"
   },
   {
    "duration": 0,
    "start_time": "2022-07-02T21:30:54.337Z"
   },
   {
    "duration": 0,
    "start_time": "2022-07-02T21:30:54.338Z"
   },
   {
    "duration": 0,
    "start_time": "2022-07-02T21:30:54.340Z"
   },
   {
    "duration": 0,
    "start_time": "2022-07-02T21:30:54.341Z"
   },
   {
    "duration": 0,
    "start_time": "2022-07-02T21:30:54.343Z"
   },
   {
    "duration": 0,
    "start_time": "2022-07-02T21:30:54.344Z"
   },
   {
    "duration": 0,
    "start_time": "2022-07-02T21:30:54.345Z"
   },
   {
    "duration": 0,
    "start_time": "2022-07-02T21:30:54.346Z"
   },
   {
    "duration": 0,
    "start_time": "2022-07-02T21:30:54.347Z"
   },
   {
    "duration": 0,
    "start_time": "2022-07-02T21:30:54.348Z"
   },
   {
    "duration": 0,
    "start_time": "2022-07-02T21:30:54.350Z"
   },
   {
    "duration": 0,
    "start_time": "2022-07-02T21:30:54.351Z"
   },
   {
    "duration": 0,
    "start_time": "2022-07-02T21:30:54.353Z"
   },
   {
    "duration": 0,
    "start_time": "2022-07-02T21:30:54.354Z"
   },
   {
    "duration": 0,
    "start_time": "2022-07-02T21:30:54.356Z"
   },
   {
    "duration": 0,
    "start_time": "2022-07-02T21:30:54.357Z"
   },
   {
    "duration": 0,
    "start_time": "2022-07-02T21:30:54.358Z"
   },
   {
    "duration": 0,
    "start_time": "2022-07-02T21:30:54.359Z"
   },
   {
    "duration": 0,
    "start_time": "2022-07-02T21:30:54.361Z"
   },
   {
    "duration": 0,
    "start_time": "2022-07-02T21:30:54.362Z"
   },
   {
    "duration": 0,
    "start_time": "2022-07-02T21:30:54.363Z"
   },
   {
    "duration": 0,
    "start_time": "2022-07-02T21:30:54.364Z"
   },
   {
    "duration": 0,
    "start_time": "2022-07-02T21:30:54.429Z"
   },
   {
    "duration": 0,
    "start_time": "2022-07-02T21:30:54.431Z"
   },
   {
    "duration": 0,
    "start_time": "2022-07-02T21:30:54.432Z"
   },
   {
    "duration": 0,
    "start_time": "2022-07-02T21:30:54.433Z"
   },
   {
    "duration": 0,
    "start_time": "2022-07-02T21:30:54.434Z"
   },
   {
    "duration": 0,
    "start_time": "2022-07-02T21:30:54.434Z"
   },
   {
    "duration": 0,
    "start_time": "2022-07-02T21:30:54.435Z"
   },
   {
    "duration": 0,
    "start_time": "2022-07-02T21:30:54.436Z"
   },
   {
    "duration": 0,
    "start_time": "2022-07-02T21:30:54.436Z"
   },
   {
    "duration": 0,
    "start_time": "2022-07-02T21:30:54.437Z"
   },
   {
    "duration": 0,
    "start_time": "2022-07-02T21:30:54.437Z"
   },
   {
    "duration": 11,
    "start_time": "2022-07-02T21:30:59.141Z"
   },
   {
    "duration": 63,
    "start_time": "2022-07-02T21:31:37.435Z"
   },
   {
    "duration": 60,
    "start_time": "2022-07-02T21:31:39.656Z"
   },
   {
    "duration": 529,
    "start_time": "2022-07-02T21:31:47.120Z"
   },
   {
    "duration": 22,
    "start_time": "2022-07-02T21:31:47.651Z"
   },
   {
    "duration": 50,
    "start_time": "2022-07-02T21:31:47.676Z"
   },
   {
    "duration": 8,
    "start_time": "2022-07-02T21:31:47.729Z"
   },
   {
    "duration": 22,
    "start_time": "2022-07-02T21:31:47.740Z"
   },
   {
    "duration": 14,
    "start_time": "2022-07-02T21:31:47.765Z"
   },
   {
    "duration": 71,
    "start_time": "2022-07-02T21:31:47.781Z"
   },
   {
    "duration": 82,
    "start_time": "2022-07-02T21:31:47.855Z"
   },
   {
    "duration": 2,
    "start_time": "2022-07-02T21:31:47.939Z"
   },
   {
    "duration": 8,
    "start_time": "2022-07-02T21:31:47.943Z"
   },
   {
    "duration": 24,
    "start_time": "2022-07-02T21:31:47.954Z"
   },
   {
    "duration": 95,
    "start_time": "2022-07-02T21:31:47.980Z"
   },
   {
    "duration": 0,
    "start_time": "2022-07-02T21:31:48.078Z"
   },
   {
    "duration": 0,
    "start_time": "2022-07-02T21:31:48.080Z"
   },
   {
    "duration": 0,
    "start_time": "2022-07-02T21:31:48.081Z"
   },
   {
    "duration": 0,
    "start_time": "2022-07-02T21:31:48.082Z"
   },
   {
    "duration": 0,
    "start_time": "2022-07-02T21:31:48.084Z"
   },
   {
    "duration": 0,
    "start_time": "2022-07-02T21:31:48.085Z"
   },
   {
    "duration": 0,
    "start_time": "2022-07-02T21:31:48.087Z"
   },
   {
    "duration": 0,
    "start_time": "2022-07-02T21:31:48.089Z"
   },
   {
    "duration": 0,
    "start_time": "2022-07-02T21:31:48.090Z"
   },
   {
    "duration": 0,
    "start_time": "2022-07-02T21:31:48.092Z"
   },
   {
    "duration": 0,
    "start_time": "2022-07-02T21:31:48.094Z"
   },
   {
    "duration": 0,
    "start_time": "2022-07-02T21:31:48.095Z"
   },
   {
    "duration": 0,
    "start_time": "2022-07-02T21:31:48.097Z"
   },
   {
    "duration": 0,
    "start_time": "2022-07-02T21:31:48.125Z"
   },
   {
    "duration": 0,
    "start_time": "2022-07-02T21:31:48.126Z"
   },
   {
    "duration": 0,
    "start_time": "2022-07-02T21:31:48.128Z"
   },
   {
    "duration": 0,
    "start_time": "2022-07-02T21:31:48.130Z"
   },
   {
    "duration": 0,
    "start_time": "2022-07-02T21:31:48.131Z"
   },
   {
    "duration": 0,
    "start_time": "2022-07-02T21:31:48.132Z"
   },
   {
    "duration": 0,
    "start_time": "2022-07-02T21:31:48.133Z"
   },
   {
    "duration": 0,
    "start_time": "2022-07-02T21:31:48.135Z"
   },
   {
    "duration": 0,
    "start_time": "2022-07-02T21:31:48.136Z"
   },
   {
    "duration": 0,
    "start_time": "2022-07-02T21:31:48.137Z"
   },
   {
    "duration": 0,
    "start_time": "2022-07-02T21:31:48.138Z"
   },
   {
    "duration": 0,
    "start_time": "2022-07-02T21:31:48.139Z"
   },
   {
    "duration": 0,
    "start_time": "2022-07-02T21:31:48.141Z"
   },
   {
    "duration": 0,
    "start_time": "2022-07-02T21:31:48.142Z"
   },
   {
    "duration": 0,
    "start_time": "2022-07-02T21:31:48.143Z"
   },
   {
    "duration": 0,
    "start_time": "2022-07-02T21:31:48.144Z"
   },
   {
    "duration": 0,
    "start_time": "2022-07-02T21:31:48.145Z"
   },
   {
    "duration": 0,
    "start_time": "2022-07-02T21:31:48.146Z"
   },
   {
    "duration": 0,
    "start_time": "2022-07-02T21:31:48.147Z"
   },
   {
    "duration": 0,
    "start_time": "2022-07-02T21:31:48.148Z"
   },
   {
    "duration": 0,
    "start_time": "2022-07-02T21:31:48.149Z"
   },
   {
    "duration": 0,
    "start_time": "2022-07-02T21:31:48.150Z"
   },
   {
    "duration": 0,
    "start_time": "2022-07-02T21:31:48.151Z"
   },
   {
    "duration": 0,
    "start_time": "2022-07-02T21:31:48.152Z"
   },
   {
    "duration": 0,
    "start_time": "2022-07-02T21:31:48.153Z"
   },
   {
    "duration": 0,
    "start_time": "2022-07-02T21:31:48.154Z"
   },
   {
    "duration": 0,
    "start_time": "2022-07-02T21:31:48.155Z"
   },
   {
    "duration": 0,
    "start_time": "2022-07-02T21:31:48.156Z"
   },
   {
    "duration": 0,
    "start_time": "2022-07-02T21:31:48.157Z"
   },
   {
    "duration": 0,
    "start_time": "2022-07-02T21:31:48.158Z"
   },
   {
    "duration": 0,
    "start_time": "2022-07-02T21:31:48.159Z"
   },
   {
    "duration": 0,
    "start_time": "2022-07-02T21:31:48.160Z"
   },
   {
    "duration": 0,
    "start_time": "2022-07-02T21:31:48.161Z"
   },
   {
    "duration": 0,
    "start_time": "2022-07-02T21:31:48.162Z"
   },
   {
    "duration": 0,
    "start_time": "2022-07-02T21:31:48.163Z"
   },
   {
    "duration": 0,
    "start_time": "2022-07-02T21:31:48.164Z"
   },
   {
    "duration": 0,
    "start_time": "2022-07-02T21:31:48.165Z"
   },
   {
    "duration": 0,
    "start_time": "2022-07-02T21:31:48.226Z"
   },
   {
    "duration": 0,
    "start_time": "2022-07-02T21:31:48.227Z"
   },
   {
    "duration": 0,
    "start_time": "2022-07-02T21:31:48.229Z"
   },
   {
    "duration": 0,
    "start_time": "2022-07-02T21:31:48.230Z"
   },
   {
    "duration": 0,
    "start_time": "2022-07-02T21:31:48.232Z"
   },
   {
    "duration": 0,
    "start_time": "2022-07-02T21:31:48.233Z"
   },
   {
    "duration": 0,
    "start_time": "2022-07-02T21:31:48.233Z"
   },
   {
    "duration": 0,
    "start_time": "2022-07-02T21:31:48.234Z"
   },
   {
    "duration": 0,
    "start_time": "2022-07-02T21:31:48.235Z"
   },
   {
    "duration": 11,
    "start_time": "2022-07-02T21:32:00.692Z"
   },
   {
    "duration": 5,
    "start_time": "2022-07-02T21:32:15.768Z"
   },
   {
    "duration": 12,
    "start_time": "2022-07-02T21:32:19.987Z"
   },
   {
    "duration": 8,
    "start_time": "2022-07-02T21:32:39.820Z"
   },
   {
    "duration": 6,
    "start_time": "2022-07-02T21:32:50.090Z"
   },
   {
    "duration": 7,
    "start_time": "2022-07-02T21:36:38.279Z"
   },
   {
    "duration": 54,
    "start_time": "2022-07-02T21:38:44.304Z"
   },
   {
    "duration": 14,
    "start_time": "2022-07-02T21:38:51.977Z"
   },
   {
    "duration": 13,
    "start_time": "2022-07-02T21:39:12.957Z"
   },
   {
    "duration": 9,
    "start_time": "2022-07-02T21:39:25.775Z"
   },
   {
    "duration": 10,
    "start_time": "2022-07-02T21:40:16.345Z"
   },
   {
    "duration": 1068,
    "start_time": "2022-07-02T21:40:32.477Z"
   },
   {
    "duration": 10,
    "start_time": "2022-07-02T21:40:40.659Z"
   },
   {
    "duration": 11,
    "start_time": "2022-07-02T21:40:52.279Z"
   },
   {
    "duration": 10,
    "start_time": "2022-07-02T21:41:00.232Z"
   },
   {
    "duration": 8,
    "start_time": "2022-07-02T21:41:49.186Z"
   },
   {
    "duration": 77,
    "start_time": "2022-07-02T21:42:03.286Z"
   },
   {
    "duration": 9,
    "start_time": "2022-07-02T21:42:06.186Z"
   },
   {
    "duration": 14,
    "start_time": "2022-07-02T21:42:29.797Z"
   },
   {
    "duration": 10,
    "start_time": "2022-07-02T21:42:34.660Z"
   },
   {
    "duration": 5,
    "start_time": "2022-07-02T21:42:36.964Z"
   },
   {
    "duration": 4,
    "start_time": "2022-07-02T21:42:40.576Z"
   },
   {
    "duration": 8,
    "start_time": "2022-07-02T21:44:17.381Z"
   },
   {
    "duration": 11,
    "start_time": "2022-07-02T21:46:04.822Z"
   },
   {
    "duration": 8,
    "start_time": "2022-07-02T21:56:03.455Z"
   },
   {
    "duration": 8,
    "start_time": "2022-07-02T21:56:23.676Z"
   },
   {
    "duration": 8,
    "start_time": "2022-07-02T21:56:42.679Z"
   },
   {
    "duration": 10,
    "start_time": "2022-07-02T21:56:43.540Z"
   },
   {
    "duration": 8,
    "start_time": "2022-07-02T21:56:43.838Z"
   },
   {
    "duration": 12,
    "start_time": "2022-07-02T21:56:55.908Z"
   },
   {
    "duration": 5,
    "start_time": "2022-07-02T21:57:01.454Z"
   },
   {
    "duration": 4,
    "start_time": "2022-07-02T22:50:30.401Z"
   },
   {
    "duration": 12,
    "start_time": "2022-07-02T22:50:32.722Z"
   },
   {
    "duration": 4,
    "start_time": "2022-07-02T22:50:35.103Z"
   },
   {
    "duration": 6,
    "start_time": "2022-07-02T22:55:58.464Z"
   },
   {
    "duration": 8,
    "start_time": "2022-07-02T22:56:08.376Z"
   },
   {
    "duration": 4,
    "start_time": "2022-07-02T22:56:24.517Z"
   },
   {
    "duration": 4,
    "start_time": "2022-07-02T22:56:33.259Z"
   },
   {
    "duration": 4,
    "start_time": "2022-07-02T22:57:07.643Z"
   },
   {
    "duration": 7,
    "start_time": "2022-07-02T23:02:50.067Z"
   },
   {
    "duration": 61,
    "start_time": "2022-07-03T17:19:05.483Z"
   },
   {
    "duration": 585,
    "start_time": "2022-07-03T17:19:12.161Z"
   },
   {
    "duration": 20,
    "start_time": "2022-07-03T17:19:12.747Z"
   },
   {
    "duration": 24,
    "start_time": "2022-07-03T17:19:12.771Z"
   },
   {
    "duration": 5,
    "start_time": "2022-07-03T17:19:12.797Z"
   },
   {
    "duration": 16,
    "start_time": "2022-07-03T17:19:12.804Z"
   },
   {
    "duration": 11,
    "start_time": "2022-07-03T17:19:12.822Z"
   },
   {
    "duration": 51,
    "start_time": "2022-07-03T17:19:12.835Z"
   },
   {
    "duration": 60,
    "start_time": "2022-07-03T17:19:12.888Z"
   },
   {
    "duration": 3,
    "start_time": "2022-07-03T17:19:12.949Z"
   },
   {
    "duration": 7,
    "start_time": "2022-07-03T17:19:12.969Z"
   },
   {
    "duration": 16,
    "start_time": "2022-07-03T17:19:12.977Z"
   },
   {
    "duration": 8,
    "start_time": "2022-07-03T17:19:12.995Z"
   },
   {
    "duration": 17,
    "start_time": "2022-07-03T17:19:13.004Z"
   },
   {
    "duration": 4,
    "start_time": "2022-07-03T17:19:13.023Z"
   },
   {
    "duration": 10,
    "start_time": "2022-07-03T17:19:13.029Z"
   },
   {
    "duration": 13,
    "start_time": "2022-07-03T17:19:13.068Z"
   },
   {
    "duration": 9,
    "start_time": "2022-07-03T17:19:13.083Z"
   },
   {
    "duration": 5,
    "start_time": "2022-07-03T17:19:13.094Z"
   },
   {
    "duration": 7,
    "start_time": "2022-07-03T17:19:13.101Z"
   },
   {
    "duration": 4,
    "start_time": "2022-07-03T17:19:13.110Z"
   },
   {
    "duration": 5,
    "start_time": "2022-07-03T17:19:13.116Z"
   },
   {
    "duration": 5,
    "start_time": "2022-07-03T17:19:13.122Z"
   },
   {
    "duration": 8,
    "start_time": "2022-07-03T17:19:13.129Z"
   },
   {
    "duration": 5,
    "start_time": "2022-07-03T17:19:13.138Z"
   },
   {
    "duration": 5,
    "start_time": "2022-07-03T17:19:13.144Z"
   },
   {
    "duration": 22,
    "start_time": "2022-07-03T17:19:13.150Z"
   },
   {
    "duration": 14,
    "start_time": "2022-07-03T17:19:13.176Z"
   },
   {
    "duration": 5,
    "start_time": "2022-07-03T17:19:13.196Z"
   },
   {
    "duration": 10,
    "start_time": "2022-07-03T17:19:13.203Z"
   },
   {
    "duration": 19,
    "start_time": "2022-07-03T17:19:13.216Z"
   },
   {
    "duration": 7,
    "start_time": "2022-07-03T17:19:13.236Z"
   },
   {
    "duration": 5,
    "start_time": "2022-07-03T17:19:13.245Z"
   },
   {
    "duration": 5,
    "start_time": "2022-07-03T17:19:13.251Z"
   },
   {
    "duration": 5,
    "start_time": "2022-07-03T17:19:13.257Z"
   },
   {
    "duration": 19,
    "start_time": "2022-07-03T17:19:13.264Z"
   },
   {
    "duration": 4,
    "start_time": "2022-07-03T17:19:13.287Z"
   },
   {
    "duration": 5,
    "start_time": "2022-07-03T17:19:13.293Z"
   },
   {
    "duration": 5,
    "start_time": "2022-07-03T17:19:13.299Z"
   },
   {
    "duration": 4,
    "start_time": "2022-07-03T17:19:13.306Z"
   },
   {
    "duration": 6,
    "start_time": "2022-07-03T17:19:13.312Z"
   },
   {
    "duration": 9,
    "start_time": "2022-07-03T17:19:13.320Z"
   },
   {
    "duration": 9,
    "start_time": "2022-07-03T17:19:13.331Z"
   },
   {
    "duration": 5,
    "start_time": "2022-07-03T17:19:13.342Z"
   },
   {
    "duration": 7,
    "start_time": "2022-07-03T17:19:13.349Z"
   },
   {
    "duration": 16,
    "start_time": "2022-07-03T17:19:13.358Z"
   },
   {
    "duration": 4,
    "start_time": "2022-07-03T17:19:13.376Z"
   },
   {
    "duration": 9,
    "start_time": "2022-07-03T17:19:13.381Z"
   },
   {
    "duration": 5,
    "start_time": "2022-07-03T17:19:13.391Z"
   },
   {
    "duration": 7,
    "start_time": "2022-07-03T17:19:13.398Z"
   },
   {
    "duration": 6,
    "start_time": "2022-07-03T17:19:13.407Z"
   },
   {
    "duration": 5,
    "start_time": "2022-07-03T17:19:13.415Z"
   },
   {
    "duration": 7,
    "start_time": "2022-07-03T17:19:13.422Z"
   },
   {
    "duration": 5,
    "start_time": "2022-07-03T17:19:13.431Z"
   },
   {
    "duration": 5,
    "start_time": "2022-07-03T17:19:13.438Z"
   },
   {
    "duration": 5,
    "start_time": "2022-07-03T17:19:13.445Z"
   },
   {
    "duration": 19,
    "start_time": "2022-07-03T17:19:13.451Z"
   },
   {
    "duration": 17,
    "start_time": "2022-07-03T17:19:13.472Z"
   },
   {
    "duration": 4,
    "start_time": "2022-07-03T17:19:13.490Z"
   },
   {
    "duration": 5,
    "start_time": "2022-07-03T17:19:13.496Z"
   },
   {
    "duration": 4,
    "start_time": "2022-07-03T17:19:13.503Z"
   },
   {
    "duration": 5,
    "start_time": "2022-07-03T17:19:13.509Z"
   },
   {
    "duration": 4,
    "start_time": "2022-07-03T17:19:13.516Z"
   },
   {
    "duration": 6,
    "start_time": "2022-07-03T17:19:13.522Z"
   },
   {
    "duration": 9,
    "start_time": "2022-07-03T17:19:13.529Z"
   },
   {
    "duration": 8,
    "start_time": "2022-07-03T17:19:13.539Z"
   },
   {
    "duration": 24,
    "start_time": "2022-07-03T17:19:13.548Z"
   },
   {
    "duration": 29,
    "start_time": "2022-07-03T17:19:13.574Z"
   },
   {
    "duration": 14,
    "start_time": "2022-07-03T17:19:13.605Z"
   },
   {
    "duration": 8,
    "start_time": "2022-07-03T17:19:13.621Z"
   },
   {
    "duration": 6,
    "start_time": "2022-07-03T17:19:13.630Z"
   },
   {
    "duration": 6,
    "start_time": "2022-07-03T17:19:13.638Z"
   },
   {
    "duration": 13,
    "start_time": "2022-07-03T17:39:37.390Z"
   },
   {
    "duration": 11,
    "start_time": "2022-07-03T17:41:21.087Z"
   },
   {
    "duration": 10,
    "start_time": "2022-07-03T17:41:40.397Z"
   },
   {
    "duration": 12,
    "start_time": "2022-07-03T17:55:37.694Z"
   },
   {
    "duration": 11,
    "start_time": "2022-07-03T17:55:46.525Z"
   },
   {
    "duration": 7,
    "start_time": "2022-07-03T18:06:12.208Z"
   },
   {
    "duration": 8,
    "start_time": "2022-07-03T18:12:02.973Z"
   },
   {
    "duration": 5,
    "start_time": "2022-07-03T18:12:23.400Z"
   },
   {
    "duration": 10,
    "start_time": "2022-07-03T18:12:51.111Z"
   },
   {
    "duration": 11,
    "start_time": "2022-07-03T18:13:08.234Z"
   },
   {
    "duration": 5,
    "start_time": "2022-07-03T18:13:55.493Z"
   },
   {
    "duration": 10,
    "start_time": "2022-07-03T18:14:13.155Z"
   },
   {
    "duration": 7,
    "start_time": "2022-07-03T18:14:28.110Z"
   },
   {
    "duration": 8,
    "start_time": "2022-07-03T18:14:31.729Z"
   },
   {
    "duration": 11,
    "start_time": "2022-07-03T18:14:49.367Z"
   },
   {
    "duration": 9,
    "start_time": "2022-07-03T18:14:57.940Z"
   },
   {
    "duration": 7,
    "start_time": "2022-07-03T18:15:02.857Z"
   },
   {
    "duration": 7,
    "start_time": "2022-07-03T18:23:06.004Z"
   },
   {
    "duration": 36,
    "start_time": "2022-07-04T16:12:05.852Z"
   },
   {
    "duration": 6,
    "start_time": "2022-07-04T16:12:20.059Z"
   },
   {
    "duration": 9,
    "start_time": "2022-07-04T16:14:49.917Z"
   },
   {
    "duration": 9,
    "start_time": "2022-07-04T16:15:08.051Z"
   },
   {
    "duration": 386,
    "start_time": "2022-07-04T16:16:50.432Z"
   },
   {
    "duration": 430,
    "start_time": "2022-07-04T16:16:59.702Z"
   },
   {
    "duration": 374,
    "start_time": "2022-07-04T16:17:16.009Z"
   },
   {
    "duration": 6,
    "start_time": "2022-07-04T16:17:25.101Z"
   },
   {
    "duration": 449,
    "start_time": "2022-07-04T16:17:43.353Z"
   },
   {
    "duration": 549,
    "start_time": "2022-07-04T16:17:44.894Z"
   },
   {
    "duration": 17,
    "start_time": "2022-07-04T16:18:10.072Z"
   },
   {
    "duration": 6,
    "start_time": "2022-07-04T16:18:14.788Z"
   },
   {
    "duration": 15,
    "start_time": "2022-07-04T16:20:06.283Z"
   },
   {
    "duration": 13,
    "start_time": "2022-07-04T16:20:20.065Z"
   },
   {
    "duration": 439,
    "start_time": "2022-07-04T16:24:20.261Z"
   },
   {
    "duration": 72,
    "start_time": "2022-07-04T16:24:34.833Z"
   },
   {
    "duration": 405,
    "start_time": "2022-07-04T16:24:55.754Z"
   },
   {
    "duration": 13,
    "start_time": "2022-07-04T16:25:26.456Z"
   },
   {
    "duration": 80,
    "start_time": "2022-07-04T16:30:42.894Z"
   },
   {
    "duration": 51,
    "start_time": "2022-07-04T16:30:50.684Z"
   },
   {
    "duration": 4,
    "start_time": "2022-07-04T16:30:54.271Z"
   },
   {
    "duration": 13,
    "start_time": "2022-07-04T16:30:58.926Z"
   },
   {
    "duration": 11,
    "start_time": "2022-07-04T16:35:20.163Z"
   },
   {
    "duration": 11,
    "start_time": "2022-07-04T16:35:27.807Z"
   },
   {
    "duration": 24,
    "start_time": "2022-07-04T16:35:32.635Z"
   },
   {
    "duration": 7,
    "start_time": "2022-07-04T16:35:37.458Z"
   },
   {
    "duration": 37,
    "start_time": "2022-07-04T16:35:44.948Z"
   },
   {
    "duration": 7,
    "start_time": "2022-07-04T16:35:55.209Z"
   },
   {
    "duration": 6,
    "start_time": "2022-07-04T16:36:03.893Z"
   },
   {
    "duration": 8,
    "start_time": "2022-07-04T16:37:19.346Z"
   },
   {
    "duration": 5,
    "start_time": "2022-07-04T16:37:25.735Z"
   },
   {
    "duration": 62,
    "start_time": "2022-07-04T16:38:28.148Z"
   },
   {
    "duration": 51,
    "start_time": "2022-07-04T16:38:51.264Z"
   },
   {
    "duration": 100,
    "start_time": "2022-07-04T16:38:59.758Z"
   },
   {
    "duration": 13,
    "start_time": "2022-07-04T16:39:04.335Z"
   },
   {
    "duration": 13,
    "start_time": "2022-07-04T16:39:10.495Z"
   },
   {
    "duration": 12,
    "start_time": "2022-07-04T16:46:26.704Z"
   },
   {
    "duration": 15,
    "start_time": "2022-07-04T16:47:04.904Z"
   },
   {
    "duration": 45,
    "start_time": "2022-07-04T16:47:37.948Z"
   },
   {
    "duration": 47,
    "start_time": "2022-07-04T16:47:57.301Z"
   },
   {
    "duration": 51,
    "start_time": "2022-07-04T16:48:07.295Z"
   },
   {
    "duration": 68,
    "start_time": "2022-07-04T16:48:12.344Z"
   },
   {
    "duration": 191,
    "start_time": "2022-07-04T16:48:18.542Z"
   },
   {
    "duration": 6,
    "start_time": "2022-07-04T16:48:31.673Z"
   },
   {
    "duration": 6,
    "start_time": "2022-07-04T16:48:47.306Z"
   },
   {
    "duration": 438,
    "start_time": "2022-07-04T16:48:54.863Z"
   },
   {
    "duration": 30,
    "start_time": "2022-07-04T16:48:55.304Z"
   },
   {
    "duration": 35,
    "start_time": "2022-07-04T16:48:55.336Z"
   },
   {
    "duration": 5,
    "start_time": "2022-07-04T16:48:55.373Z"
   },
   {
    "duration": 27,
    "start_time": "2022-07-04T16:48:55.380Z"
   },
   {
    "duration": 14,
    "start_time": "2022-07-04T16:48:55.409Z"
   },
   {
    "duration": 18,
    "start_time": "2022-07-04T16:48:55.425Z"
   },
   {
    "duration": 64,
    "start_time": "2022-07-04T16:48:55.444Z"
   },
   {
    "duration": 3,
    "start_time": "2022-07-04T16:48:55.509Z"
   },
   {
    "duration": 6,
    "start_time": "2022-07-04T16:48:55.516Z"
   },
   {
    "duration": 14,
    "start_time": "2022-07-04T16:48:55.524Z"
   },
   {
    "duration": 5,
    "start_time": "2022-07-04T16:48:55.540Z"
   },
   {
    "duration": 11,
    "start_time": "2022-07-04T16:48:55.547Z"
   },
   {
    "duration": 5,
    "start_time": "2022-07-04T16:48:55.560Z"
   },
   {
    "duration": 34,
    "start_time": "2022-07-04T16:48:55.567Z"
   },
   {
    "duration": 9,
    "start_time": "2022-07-04T16:48:55.603Z"
   },
   {
    "duration": 74,
    "start_time": "2022-07-04T16:48:55.613Z"
   },
   {
    "duration": 0,
    "start_time": "2022-07-04T16:48:55.690Z"
   },
   {
    "duration": 0,
    "start_time": "2022-07-04T16:48:55.691Z"
   },
   {
    "duration": 0,
    "start_time": "2022-07-04T16:48:55.692Z"
   },
   {
    "duration": 0,
    "start_time": "2022-07-04T16:48:55.693Z"
   },
   {
    "duration": 0,
    "start_time": "2022-07-04T16:48:55.694Z"
   },
   {
    "duration": 0,
    "start_time": "2022-07-04T16:48:55.695Z"
   },
   {
    "duration": 0,
    "start_time": "2022-07-04T16:48:55.696Z"
   },
   {
    "duration": 0,
    "start_time": "2022-07-04T16:48:55.697Z"
   },
   {
    "duration": 0,
    "start_time": "2022-07-04T16:48:55.698Z"
   },
   {
    "duration": 0,
    "start_time": "2022-07-04T16:48:55.699Z"
   },
   {
    "duration": 0,
    "start_time": "2022-07-04T16:48:55.700Z"
   },
   {
    "duration": 0,
    "start_time": "2022-07-04T16:48:55.701Z"
   },
   {
    "duration": 0,
    "start_time": "2022-07-04T16:48:55.702Z"
   },
   {
    "duration": 0,
    "start_time": "2022-07-04T16:48:55.703Z"
   },
   {
    "duration": 0,
    "start_time": "2022-07-04T16:48:55.704Z"
   },
   {
    "duration": 0,
    "start_time": "2022-07-04T16:48:55.706Z"
   },
   {
    "duration": 0,
    "start_time": "2022-07-04T16:48:55.707Z"
   },
   {
    "duration": 0,
    "start_time": "2022-07-04T16:48:55.708Z"
   },
   {
    "duration": 0,
    "start_time": "2022-07-04T16:48:55.709Z"
   },
   {
    "duration": 0,
    "start_time": "2022-07-04T16:48:55.710Z"
   },
   {
    "duration": 0,
    "start_time": "2022-07-04T16:48:55.711Z"
   },
   {
    "duration": 0,
    "start_time": "2022-07-04T16:48:55.712Z"
   },
   {
    "duration": 0,
    "start_time": "2022-07-04T16:48:55.713Z"
   },
   {
    "duration": 0,
    "start_time": "2022-07-04T16:48:55.714Z"
   },
   {
    "duration": 0,
    "start_time": "2022-07-04T16:48:55.714Z"
   },
   {
    "duration": 0,
    "start_time": "2022-07-04T16:48:55.715Z"
   },
   {
    "duration": 0,
    "start_time": "2022-07-04T16:48:55.716Z"
   },
   {
    "duration": 0,
    "start_time": "2022-07-04T16:48:55.717Z"
   },
   {
    "duration": 0,
    "start_time": "2022-07-04T16:48:55.718Z"
   },
   {
    "duration": 0,
    "start_time": "2022-07-04T16:48:55.719Z"
   },
   {
    "duration": 0,
    "start_time": "2022-07-04T16:48:55.720Z"
   },
   {
    "duration": 0,
    "start_time": "2022-07-04T16:48:55.721Z"
   },
   {
    "duration": 0,
    "start_time": "2022-07-04T16:48:55.721Z"
   },
   {
    "duration": 0,
    "start_time": "2022-07-04T16:48:55.722Z"
   },
   {
    "duration": 0,
    "start_time": "2022-07-04T16:48:55.723Z"
   },
   {
    "duration": 0,
    "start_time": "2022-07-04T16:48:55.725Z"
   },
   {
    "duration": 0,
    "start_time": "2022-07-04T16:48:55.726Z"
   },
   {
    "duration": 0,
    "start_time": "2022-07-04T16:48:55.726Z"
   },
   {
    "duration": 0,
    "start_time": "2022-07-04T16:48:55.728Z"
   },
   {
    "duration": 0,
    "start_time": "2022-07-04T16:48:55.729Z"
   },
   {
    "duration": 0,
    "start_time": "2022-07-04T16:48:55.729Z"
   },
   {
    "duration": 0,
    "start_time": "2022-07-04T16:48:55.730Z"
   },
   {
    "duration": 0,
    "start_time": "2022-07-04T16:48:55.731Z"
   },
   {
    "duration": 0,
    "start_time": "2022-07-04T16:48:55.732Z"
   },
   {
    "duration": 0,
    "start_time": "2022-07-04T16:48:55.733Z"
   },
   {
    "duration": 0,
    "start_time": "2022-07-04T16:48:55.734Z"
   },
   {
    "duration": 0,
    "start_time": "2022-07-04T16:48:55.735Z"
   },
   {
    "duration": 0,
    "start_time": "2022-07-04T16:48:55.736Z"
   },
   {
    "duration": 0,
    "start_time": "2022-07-04T16:48:55.737Z"
   },
   {
    "duration": 0,
    "start_time": "2022-07-04T16:48:55.800Z"
   },
   {
    "duration": 0,
    "start_time": "2022-07-04T16:48:55.802Z"
   },
   {
    "duration": 0,
    "start_time": "2022-07-04T16:48:55.803Z"
   },
   {
    "duration": 0,
    "start_time": "2022-07-04T16:48:55.804Z"
   },
   {
    "duration": 0,
    "start_time": "2022-07-04T16:48:55.805Z"
   },
   {
    "duration": 0,
    "start_time": "2022-07-04T16:48:55.806Z"
   },
   {
    "duration": 5,
    "start_time": "2022-07-04T16:49:12.019Z"
   },
   {
    "duration": 47,
    "start_time": "2022-07-04T16:49:27.760Z"
   },
   {
    "duration": 47,
    "start_time": "2022-07-04T16:52:36.117Z"
   },
   {
    "duration": 63,
    "start_time": "2022-07-04T16:52:51.181Z"
   },
   {
    "duration": 79,
    "start_time": "2022-07-04T16:53:28.152Z"
   },
   {
    "duration": 436,
    "start_time": "2022-07-04T16:53:34.504Z"
   },
   {
    "duration": 477,
    "start_time": "2022-07-04T16:53:39.467Z"
   },
   {
    "duration": 405,
    "start_time": "2022-07-04T16:54:01.726Z"
   },
   {
    "duration": 237,
    "start_time": "2022-07-04T16:54:24.048Z"
   },
   {
    "duration": 8,
    "start_time": "2022-07-04T16:59:26.846Z"
   },
   {
    "duration": 52,
    "start_time": "2022-07-04T16:59:59.385Z"
   },
   {
    "duration": 55,
    "start_time": "2022-07-04T17:00:07.199Z"
   },
   {
    "duration": 80,
    "start_time": "2022-07-04T17:00:17.722Z"
   },
   {
    "duration": 16,
    "start_time": "2022-07-04T17:00:26.216Z"
   },
   {
    "duration": 4,
    "start_time": "2022-07-04T17:02:49.189Z"
   },
   {
    "duration": 14,
    "start_time": "2022-07-04T17:02:55.560Z"
   },
   {
    "duration": 13,
    "start_time": "2022-07-04T17:03:23.345Z"
   },
   {
    "duration": 59,
    "start_time": "2022-07-04T19:03:06.291Z"
   },
   {
    "duration": 7,
    "start_time": "2022-07-04T20:24:56.016Z"
   },
   {
    "duration": 89,
    "start_time": "2022-07-04T20:37:04.695Z"
   },
   {
    "duration": 88,
    "start_time": "2022-07-04T20:37:22.356Z"
   },
   {
    "duration": 10,
    "start_time": "2022-07-04T20:37:39.657Z"
   },
   {
    "duration": 45,
    "start_time": "2022-07-04T20:37:42.275Z"
   },
   {
    "duration": 6,
    "start_time": "2022-07-04T20:37:44.773Z"
   },
   {
    "duration": 49,
    "start_time": "2022-07-04T20:37:48.531Z"
   },
   {
    "duration": 71,
    "start_time": "2022-07-04T23:51:03.284Z"
   },
   {
    "duration": 62,
    "start_time": "2022-07-04T23:51:22.456Z"
   },
   {
    "duration": 6,
    "start_time": "2022-07-04T23:55:13.690Z"
   },
   {
    "duration": 7,
    "start_time": "2022-07-04T23:55:22.391Z"
   },
   {
    "duration": 7,
    "start_time": "2022-07-04T23:55:43.941Z"
   },
   {
    "duration": 7,
    "start_time": "2022-07-04T23:56:45.153Z"
   },
   {
    "duration": 669,
    "start_time": "2022-07-04T23:56:51.438Z"
   },
   {
    "duration": 27,
    "start_time": "2022-07-04T23:56:52.109Z"
   },
   {
    "duration": 27,
    "start_time": "2022-07-04T23:56:52.137Z"
   },
   {
    "duration": 5,
    "start_time": "2022-07-04T23:56:52.167Z"
   },
   {
    "duration": 15,
    "start_time": "2022-07-04T23:56:52.174Z"
   },
   {
    "duration": 26,
    "start_time": "2022-07-04T23:56:52.190Z"
   },
   {
    "duration": 40,
    "start_time": "2022-07-04T23:56:52.218Z"
   },
   {
    "duration": 80,
    "start_time": "2022-07-04T23:56:52.260Z"
   },
   {
    "duration": 3,
    "start_time": "2022-07-04T23:56:52.342Z"
   },
   {
    "duration": 4,
    "start_time": "2022-07-04T23:56:52.348Z"
   },
   {
    "duration": 13,
    "start_time": "2022-07-04T23:56:52.354Z"
   },
   {
    "duration": 9,
    "start_time": "2022-07-04T23:56:52.369Z"
   },
   {
    "duration": 28,
    "start_time": "2022-07-04T23:56:52.379Z"
   },
   {
    "duration": 6,
    "start_time": "2022-07-04T23:56:52.409Z"
   },
   {
    "duration": 26,
    "start_time": "2022-07-04T23:56:52.416Z"
   },
   {
    "duration": 13,
    "start_time": "2022-07-04T23:56:52.444Z"
   },
   {
    "duration": 92,
    "start_time": "2022-07-04T23:56:52.458Z"
   },
   {
    "duration": 0,
    "start_time": "2022-07-04T23:56:52.552Z"
   },
   {
    "duration": 0,
    "start_time": "2022-07-04T23:56:52.554Z"
   },
   {
    "duration": 0,
    "start_time": "2022-07-04T23:56:52.555Z"
   },
   {
    "duration": 0,
    "start_time": "2022-07-04T23:56:52.556Z"
   },
   {
    "duration": 0,
    "start_time": "2022-07-04T23:56:52.557Z"
   },
   {
    "duration": 0,
    "start_time": "2022-07-04T23:56:52.558Z"
   },
   {
    "duration": 0,
    "start_time": "2022-07-04T23:56:52.559Z"
   },
   {
    "duration": 0,
    "start_time": "2022-07-04T23:56:52.560Z"
   },
   {
    "duration": 0,
    "start_time": "2022-07-04T23:56:52.561Z"
   },
   {
    "duration": 0,
    "start_time": "2022-07-04T23:56:52.562Z"
   },
   {
    "duration": 0,
    "start_time": "2022-07-04T23:56:52.563Z"
   },
   {
    "duration": 0,
    "start_time": "2022-07-04T23:56:52.564Z"
   },
   {
    "duration": 0,
    "start_time": "2022-07-04T23:56:52.565Z"
   },
   {
    "duration": 0,
    "start_time": "2022-07-04T23:56:52.566Z"
   },
   {
    "duration": 0,
    "start_time": "2022-07-04T23:56:52.567Z"
   },
   {
    "duration": 0,
    "start_time": "2022-07-04T23:56:52.601Z"
   },
   {
    "duration": 0,
    "start_time": "2022-07-04T23:56:52.602Z"
   },
   {
    "duration": 0,
    "start_time": "2022-07-04T23:56:52.603Z"
   },
   {
    "duration": 0,
    "start_time": "2022-07-04T23:56:52.604Z"
   },
   {
    "duration": 0,
    "start_time": "2022-07-04T23:56:52.605Z"
   },
   {
    "duration": 0,
    "start_time": "2022-07-04T23:56:52.606Z"
   },
   {
    "duration": 0,
    "start_time": "2022-07-04T23:56:52.607Z"
   },
   {
    "duration": 0,
    "start_time": "2022-07-04T23:56:52.608Z"
   },
   {
    "duration": 0,
    "start_time": "2022-07-04T23:56:52.609Z"
   },
   {
    "duration": 0,
    "start_time": "2022-07-04T23:56:52.609Z"
   },
   {
    "duration": 0,
    "start_time": "2022-07-04T23:56:52.610Z"
   },
   {
    "duration": 0,
    "start_time": "2022-07-04T23:56:52.611Z"
   },
   {
    "duration": 0,
    "start_time": "2022-07-04T23:56:52.611Z"
   },
   {
    "duration": 0,
    "start_time": "2022-07-04T23:56:52.612Z"
   },
   {
    "duration": 0,
    "start_time": "2022-07-04T23:56:52.614Z"
   },
   {
    "duration": 0,
    "start_time": "2022-07-04T23:56:52.615Z"
   },
   {
    "duration": 0,
    "start_time": "2022-07-04T23:56:52.615Z"
   },
   {
    "duration": 0,
    "start_time": "2022-07-04T23:56:52.616Z"
   },
   {
    "duration": 0,
    "start_time": "2022-07-04T23:56:52.617Z"
   },
   {
    "duration": 0,
    "start_time": "2022-07-04T23:56:52.618Z"
   },
   {
    "duration": 0,
    "start_time": "2022-07-04T23:56:52.619Z"
   },
   {
    "duration": 0,
    "start_time": "2022-07-04T23:56:52.620Z"
   },
   {
    "duration": 0,
    "start_time": "2022-07-04T23:56:52.621Z"
   },
   {
    "duration": 0,
    "start_time": "2022-07-04T23:56:52.622Z"
   },
   {
    "duration": 0,
    "start_time": "2022-07-04T23:56:52.623Z"
   },
   {
    "duration": 0,
    "start_time": "2022-07-04T23:56:52.624Z"
   },
   {
    "duration": 0,
    "start_time": "2022-07-04T23:56:52.625Z"
   },
   {
    "duration": 0,
    "start_time": "2022-07-04T23:56:52.626Z"
   },
   {
    "duration": 0,
    "start_time": "2022-07-04T23:56:52.626Z"
   },
   {
    "duration": 0,
    "start_time": "2022-07-04T23:56:52.627Z"
   },
   {
    "duration": 0,
    "start_time": "2022-07-04T23:56:52.628Z"
   },
   {
    "duration": 0,
    "start_time": "2022-07-04T23:56:52.629Z"
   },
   {
    "duration": 0,
    "start_time": "2022-07-04T23:56:52.630Z"
   },
   {
    "duration": 0,
    "start_time": "2022-07-04T23:56:52.631Z"
   },
   {
    "duration": 0,
    "start_time": "2022-07-04T23:56:52.632Z"
   },
   {
    "duration": 0,
    "start_time": "2022-07-04T23:56:52.633Z"
   },
   {
    "duration": 0,
    "start_time": "2022-07-04T23:56:52.634Z"
   },
   {
    "duration": 0,
    "start_time": "2022-07-04T23:56:52.634Z"
   },
   {
    "duration": 0,
    "start_time": "2022-07-04T23:56:52.635Z"
   },
   {
    "duration": 0,
    "start_time": "2022-07-04T23:56:52.637Z"
   },
   {
    "duration": 3,
    "start_time": "2022-07-04T23:57:15.832Z"
   },
   {
    "duration": 7,
    "start_time": "2022-07-04T23:57:19.865Z"
   },
   {
    "duration": 8,
    "start_time": "2022-07-04T23:57:33.461Z"
   },
   {
    "duration": 10,
    "start_time": "2022-07-04T23:57:58.346Z"
   },
   {
    "duration": 9,
    "start_time": "2022-07-04T23:58:08.604Z"
   },
   {
    "duration": 7,
    "start_time": "2022-07-04T23:58:31.746Z"
   },
   {
    "duration": 9,
    "start_time": "2022-07-04T23:58:33.819Z"
   },
   {
    "duration": 7,
    "start_time": "2022-07-04T23:59:18.317Z"
   },
   {
    "duration": 7,
    "start_time": "2022-07-04T23:59:33.961Z"
   },
   {
    "duration": 14,
    "start_time": "2022-07-05T00:00:19.499Z"
   },
   {
    "duration": 8,
    "start_time": "2022-07-05T00:00:44.387Z"
   },
   {
    "duration": 8,
    "start_time": "2022-07-05T00:01:08.374Z"
   },
   {
    "duration": 9,
    "start_time": "2022-07-05T00:01:24.339Z"
   },
   {
    "duration": 10,
    "start_time": "2022-07-05T00:02:55.405Z"
   },
   {
    "duration": 10,
    "start_time": "2022-07-05T00:03:03.868Z"
   },
   {
    "duration": 9,
    "start_time": "2022-07-05T00:04:34.543Z"
   },
   {
    "duration": 7,
    "start_time": "2022-07-05T00:05:22.432Z"
   },
   {
    "duration": 67,
    "start_time": "2022-07-05T00:05:30.981Z"
   },
   {
    "duration": 7,
    "start_time": "2022-07-05T00:06:46.292Z"
   },
   {
    "duration": 7,
    "start_time": "2022-07-05T00:07:39.378Z"
   },
   {
    "duration": 7,
    "start_time": "2022-07-05T00:07:46.955Z"
   },
   {
    "duration": 7,
    "start_time": "2022-07-05T00:08:04.419Z"
   },
   {
    "duration": 8,
    "start_time": "2022-07-05T00:08:24.518Z"
   },
   {
    "duration": 8,
    "start_time": "2022-07-05T00:09:42.458Z"
   },
   {
    "duration": 9,
    "start_time": "2022-07-05T00:09:48.764Z"
   },
   {
    "duration": 13,
    "start_time": "2022-07-05T00:10:01.001Z"
   },
   {
    "duration": 8,
    "start_time": "2022-07-05T00:10:15.537Z"
   },
   {
    "duration": 7,
    "start_time": "2022-07-05T00:10:20.392Z"
   },
   {
    "duration": 9,
    "start_time": "2022-07-05T00:10:28.645Z"
   },
   {
    "duration": 7,
    "start_time": "2022-07-05T00:11:26.874Z"
   },
   {
    "duration": 57,
    "start_time": "2022-07-05T00:21:06.540Z"
   },
   {
    "duration": 9,
    "start_time": "2022-07-05T00:21:10.336Z"
   },
   {
    "duration": 8,
    "start_time": "2022-07-05T00:21:39.974Z"
   },
   {
    "duration": 490,
    "start_time": "2022-07-05T00:22:01.709Z"
   },
   {
    "duration": 22,
    "start_time": "2022-07-05T00:22:02.201Z"
   },
   {
    "duration": 28,
    "start_time": "2022-07-05T00:22:02.225Z"
   },
   {
    "duration": 10,
    "start_time": "2022-07-05T00:22:02.256Z"
   },
   {
    "duration": 15,
    "start_time": "2022-07-05T00:22:02.268Z"
   },
   {
    "duration": 14,
    "start_time": "2022-07-05T00:22:02.302Z"
   },
   {
    "duration": 29,
    "start_time": "2022-07-05T00:22:02.318Z"
   },
   {
    "duration": 61,
    "start_time": "2022-07-05T00:22:02.348Z"
   },
   {
    "duration": 3,
    "start_time": "2022-07-05T00:22:02.410Z"
   },
   {
    "duration": 26,
    "start_time": "2022-07-05T00:22:02.421Z"
   },
   {
    "duration": 18,
    "start_time": "2022-07-05T00:22:02.448Z"
   },
   {
    "duration": 9,
    "start_time": "2022-07-05T00:22:02.467Z"
   },
   {
    "duration": 16,
    "start_time": "2022-07-05T00:22:02.477Z"
   },
   {
    "duration": 17,
    "start_time": "2022-07-05T00:22:02.495Z"
   },
   {
    "duration": 18,
    "start_time": "2022-07-05T00:22:02.513Z"
   },
   {
    "duration": 10,
    "start_time": "2022-07-05T00:22:02.533Z"
   },
   {
    "duration": 78,
    "start_time": "2022-07-05T00:22:02.545Z"
   },
   {
    "duration": 0,
    "start_time": "2022-07-05T00:22:02.627Z"
   },
   {
    "duration": 0,
    "start_time": "2022-07-05T00:22:02.628Z"
   },
   {
    "duration": 0,
    "start_time": "2022-07-05T00:22:02.630Z"
   },
   {
    "duration": 0,
    "start_time": "2022-07-05T00:22:02.631Z"
   },
   {
    "duration": 0,
    "start_time": "2022-07-05T00:22:02.632Z"
   },
   {
    "duration": 0,
    "start_time": "2022-07-05T00:22:02.634Z"
   },
   {
    "duration": 0,
    "start_time": "2022-07-05T00:22:02.635Z"
   },
   {
    "duration": 0,
    "start_time": "2022-07-05T00:22:02.636Z"
   },
   {
    "duration": 0,
    "start_time": "2022-07-05T00:22:02.637Z"
   },
   {
    "duration": 0,
    "start_time": "2022-07-05T00:22:02.638Z"
   },
   {
    "duration": 0,
    "start_time": "2022-07-05T00:22:02.639Z"
   },
   {
    "duration": 0,
    "start_time": "2022-07-05T00:22:02.640Z"
   },
   {
    "duration": 0,
    "start_time": "2022-07-05T00:22:02.642Z"
   },
   {
    "duration": 0,
    "start_time": "2022-07-05T00:22:02.643Z"
   },
   {
    "duration": 0,
    "start_time": "2022-07-05T00:22:02.644Z"
   },
   {
    "duration": 0,
    "start_time": "2022-07-05T00:22:02.645Z"
   },
   {
    "duration": 0,
    "start_time": "2022-07-05T00:22:02.647Z"
   },
   {
    "duration": 0,
    "start_time": "2022-07-05T00:22:02.649Z"
   },
   {
    "duration": 0,
    "start_time": "2022-07-05T00:22:02.650Z"
   },
   {
    "duration": 0,
    "start_time": "2022-07-05T00:22:02.651Z"
   },
   {
    "duration": 0,
    "start_time": "2022-07-05T00:22:02.653Z"
   },
   {
    "duration": 0,
    "start_time": "2022-07-05T00:22:02.654Z"
   },
   {
    "duration": 0,
    "start_time": "2022-07-05T00:22:02.655Z"
   },
   {
    "duration": 0,
    "start_time": "2022-07-05T00:22:02.657Z"
   },
   {
    "duration": 0,
    "start_time": "2022-07-05T00:22:02.657Z"
   },
   {
    "duration": 0,
    "start_time": "2022-07-05T00:22:02.658Z"
   },
   {
    "duration": 0,
    "start_time": "2022-07-05T00:22:02.660Z"
   },
   {
    "duration": 0,
    "start_time": "2022-07-05T00:22:02.661Z"
   },
   {
    "duration": 0,
    "start_time": "2022-07-05T00:22:02.662Z"
   },
   {
    "duration": 0,
    "start_time": "2022-07-05T00:22:02.701Z"
   },
   {
    "duration": 0,
    "start_time": "2022-07-05T00:22:02.704Z"
   },
   {
    "duration": 0,
    "start_time": "2022-07-05T00:22:02.706Z"
   },
   {
    "duration": 0,
    "start_time": "2022-07-05T00:22:02.706Z"
   },
   {
    "duration": 0,
    "start_time": "2022-07-05T00:22:02.709Z"
   },
   {
    "duration": 0,
    "start_time": "2022-07-05T00:22:02.710Z"
   },
   {
    "duration": 0,
    "start_time": "2022-07-05T00:22:02.710Z"
   },
   {
    "duration": 0,
    "start_time": "2022-07-05T00:22:02.711Z"
   },
   {
    "duration": 0,
    "start_time": "2022-07-05T00:22:02.715Z"
   },
   {
    "duration": 0,
    "start_time": "2022-07-05T00:22:02.716Z"
   },
   {
    "duration": 0,
    "start_time": "2022-07-05T00:22:02.717Z"
   },
   {
    "duration": 0,
    "start_time": "2022-07-05T00:22:02.718Z"
   },
   {
    "duration": 0,
    "start_time": "2022-07-05T00:22:02.719Z"
   },
   {
    "duration": 0,
    "start_time": "2022-07-05T00:22:02.721Z"
   },
   {
    "duration": 0,
    "start_time": "2022-07-05T00:22:02.721Z"
   },
   {
    "duration": 0,
    "start_time": "2022-07-05T00:22:02.722Z"
   },
   {
    "duration": 0,
    "start_time": "2022-07-05T00:22:02.724Z"
   },
   {
    "duration": 0,
    "start_time": "2022-07-05T00:22:02.725Z"
   },
   {
    "duration": 0,
    "start_time": "2022-07-05T00:22:02.726Z"
   },
   {
    "duration": 0,
    "start_time": "2022-07-05T00:22:02.727Z"
   },
   {
    "duration": 0,
    "start_time": "2022-07-05T00:22:02.729Z"
   },
   {
    "duration": 0,
    "start_time": "2022-07-05T00:22:02.730Z"
   },
   {
    "duration": 0,
    "start_time": "2022-07-05T00:22:02.731Z"
   },
   {
    "duration": 0,
    "start_time": "2022-07-05T00:22:02.733Z"
   },
   {
    "duration": 0,
    "start_time": "2022-07-05T00:22:02.734Z"
   },
   {
    "duration": 0,
    "start_time": "2022-07-05T00:22:02.736Z"
   },
   {
    "duration": 11,
    "start_time": "2022-07-05T00:22:32.166Z"
   },
   {
    "duration": 10,
    "start_time": "2022-07-05T00:22:56.259Z"
   },
   {
    "duration": 60,
    "start_time": "2022-07-05T00:23:46.534Z"
   },
   {
    "duration": 57,
    "start_time": "2022-07-05T00:24:00.703Z"
   },
   {
    "duration": 47,
    "start_time": "2022-07-05T00:24:12.144Z"
   },
   {
    "duration": 59,
    "start_time": "2022-07-05T00:24:26.387Z"
   },
   {
    "duration": 151,
    "start_time": "2022-07-05T00:24:32.081Z"
   },
   {
    "duration": 47,
    "start_time": "2022-07-05T00:24:42.119Z"
   },
   {
    "duration": 18,
    "start_time": "2022-07-05T00:24:55.592Z"
   },
   {
    "duration": 85,
    "start_time": "2022-07-05T00:25:23.913Z"
   },
   {
    "duration": 64,
    "start_time": "2022-07-05T00:25:28.903Z"
   },
   {
    "duration": 11,
    "start_time": "2022-07-05T00:25:35.086Z"
   },
   {
    "duration": 17,
    "start_time": "2022-07-05T00:25:43.697Z"
   },
   {
    "duration": 8,
    "start_time": "2022-07-05T00:25:54.757Z"
   },
   {
    "duration": 9,
    "start_time": "2022-07-05T00:25:56.181Z"
   },
   {
    "duration": 9,
    "start_time": "2022-07-05T00:25:56.917Z"
   },
   {
    "duration": 8,
    "start_time": "2022-07-05T00:25:57.644Z"
   },
   {
    "duration": 8,
    "start_time": "2022-07-05T00:26:09.064Z"
   },
   {
    "duration": 8,
    "start_time": "2022-07-05T00:26:12.549Z"
   },
   {
    "duration": 8,
    "start_time": "2022-07-05T00:26:14.544Z"
   },
   {
    "duration": 414,
    "start_time": "2022-07-05T00:26:18.758Z"
   },
   {
    "duration": 17,
    "start_time": "2022-07-05T00:26:19.174Z"
   },
   {
    "duration": 28,
    "start_time": "2022-07-05T00:26:19.192Z"
   },
   {
    "duration": 8,
    "start_time": "2022-07-05T00:26:19.221Z"
   },
   {
    "duration": 11,
    "start_time": "2022-07-05T00:26:19.231Z"
   },
   {
    "duration": 9,
    "start_time": "2022-07-05T00:26:19.243Z"
   },
   {
    "duration": 20,
    "start_time": "2022-07-05T00:26:19.254Z"
   },
   {
    "duration": 78,
    "start_time": "2022-07-05T00:26:19.276Z"
   },
   {
    "duration": 2,
    "start_time": "2022-07-05T00:26:19.355Z"
   },
   {
    "duration": 9,
    "start_time": "2022-07-05T00:26:19.358Z"
   },
   {
    "duration": 14,
    "start_time": "2022-07-05T00:26:19.369Z"
   },
   {
    "duration": 7,
    "start_time": "2022-07-05T00:26:19.400Z"
   },
   {
    "duration": 19,
    "start_time": "2022-07-05T00:26:19.415Z"
   },
   {
    "duration": 8,
    "start_time": "2022-07-05T00:26:19.437Z"
   },
   {
    "duration": 11,
    "start_time": "2022-07-05T00:26:19.447Z"
   },
   {
    "duration": 11,
    "start_time": "2022-07-05T00:26:19.460Z"
   },
   {
    "duration": 70,
    "start_time": "2022-07-05T00:26:19.472Z"
   },
   {
    "duration": 0,
    "start_time": "2022-07-05T00:26:19.545Z"
   },
   {
    "duration": 0,
    "start_time": "2022-07-05T00:26:19.546Z"
   },
   {
    "duration": 0,
    "start_time": "2022-07-05T00:26:19.547Z"
   },
   {
    "duration": 0,
    "start_time": "2022-07-05T00:26:19.548Z"
   },
   {
    "duration": 0,
    "start_time": "2022-07-05T00:26:19.549Z"
   },
   {
    "duration": 0,
    "start_time": "2022-07-05T00:26:19.550Z"
   },
   {
    "duration": 0,
    "start_time": "2022-07-05T00:26:19.551Z"
   },
   {
    "duration": 0,
    "start_time": "2022-07-05T00:26:19.551Z"
   },
   {
    "duration": 0,
    "start_time": "2022-07-05T00:26:19.553Z"
   },
   {
    "duration": 0,
    "start_time": "2022-07-05T00:26:19.553Z"
   },
   {
    "duration": 0,
    "start_time": "2022-07-05T00:26:19.554Z"
   },
   {
    "duration": 0,
    "start_time": "2022-07-05T00:26:19.555Z"
   },
   {
    "duration": 0,
    "start_time": "2022-07-05T00:26:19.556Z"
   },
   {
    "duration": 0,
    "start_time": "2022-07-05T00:26:19.557Z"
   },
   {
    "duration": 0,
    "start_time": "2022-07-05T00:26:19.558Z"
   },
   {
    "duration": 0,
    "start_time": "2022-07-05T00:26:19.559Z"
   },
   {
    "duration": 0,
    "start_time": "2022-07-05T00:26:19.560Z"
   },
   {
    "duration": 0,
    "start_time": "2022-07-05T00:26:19.561Z"
   },
   {
    "duration": 0,
    "start_time": "2022-07-05T00:26:19.562Z"
   },
   {
    "duration": 0,
    "start_time": "2022-07-05T00:26:19.563Z"
   },
   {
    "duration": 0,
    "start_time": "2022-07-05T00:26:19.600Z"
   },
   {
    "duration": 0,
    "start_time": "2022-07-05T00:26:19.601Z"
   },
   {
    "duration": 0,
    "start_time": "2022-07-05T00:26:19.602Z"
   },
   {
    "duration": 0,
    "start_time": "2022-07-05T00:26:19.603Z"
   },
   {
    "duration": 0,
    "start_time": "2022-07-05T00:26:19.604Z"
   },
   {
    "duration": 0,
    "start_time": "2022-07-05T00:26:19.605Z"
   },
   {
    "duration": 0,
    "start_time": "2022-07-05T00:26:19.607Z"
   },
   {
    "duration": 0,
    "start_time": "2022-07-05T00:26:19.608Z"
   },
   {
    "duration": 0,
    "start_time": "2022-07-05T00:26:19.609Z"
   },
   {
    "duration": 0,
    "start_time": "2022-07-05T00:26:19.610Z"
   },
   {
    "duration": 0,
    "start_time": "2022-07-05T00:26:19.610Z"
   },
   {
    "duration": 0,
    "start_time": "2022-07-05T00:26:19.611Z"
   },
   {
    "duration": 0,
    "start_time": "2022-07-05T00:26:19.612Z"
   },
   {
    "duration": 0,
    "start_time": "2022-07-05T00:26:19.612Z"
   },
   {
    "duration": 0,
    "start_time": "2022-07-05T00:26:19.613Z"
   },
   {
    "duration": 0,
    "start_time": "2022-07-05T00:26:19.614Z"
   },
   {
    "duration": 0,
    "start_time": "2022-07-05T00:26:19.614Z"
   },
   {
    "duration": 0,
    "start_time": "2022-07-05T00:26:19.615Z"
   },
   {
    "duration": 0,
    "start_time": "2022-07-05T00:26:19.616Z"
   },
   {
    "duration": 0,
    "start_time": "2022-07-05T00:26:19.617Z"
   },
   {
    "duration": 0,
    "start_time": "2022-07-05T00:26:19.617Z"
   },
   {
    "duration": 0,
    "start_time": "2022-07-05T00:26:19.620Z"
   },
   {
    "duration": 0,
    "start_time": "2022-07-05T00:26:19.621Z"
   },
   {
    "duration": 0,
    "start_time": "2022-07-05T00:26:19.622Z"
   },
   {
    "duration": 0,
    "start_time": "2022-07-05T00:26:19.623Z"
   },
   {
    "duration": 0,
    "start_time": "2022-07-05T00:26:19.624Z"
   },
   {
    "duration": 0,
    "start_time": "2022-07-05T00:26:19.625Z"
   },
   {
    "duration": 0,
    "start_time": "2022-07-05T00:26:19.626Z"
   },
   {
    "duration": 0,
    "start_time": "2022-07-05T00:26:19.627Z"
   },
   {
    "duration": 0,
    "start_time": "2022-07-05T00:26:19.628Z"
   },
   {
    "duration": 0,
    "start_time": "2022-07-05T00:26:19.629Z"
   },
   {
    "duration": 0,
    "start_time": "2022-07-05T00:26:19.630Z"
   },
   {
    "duration": 0,
    "start_time": "2022-07-05T00:26:19.631Z"
   },
   {
    "duration": 0,
    "start_time": "2022-07-05T00:26:19.632Z"
   },
   {
    "duration": 0,
    "start_time": "2022-07-05T00:26:19.633Z"
   },
   {
    "duration": 9,
    "start_time": "2022-07-05T00:26:27.446Z"
   },
   {
    "duration": 10,
    "start_time": "2022-07-05T00:26:35.821Z"
   },
   {
    "duration": 8,
    "start_time": "2022-07-05T00:26:42.924Z"
   },
   {
    "duration": 79,
    "start_time": "2022-07-05T00:26:52.443Z"
   },
   {
    "duration": 7,
    "start_time": "2022-07-05T00:27:48.730Z"
   },
   {
    "duration": 18,
    "start_time": "2022-07-05T00:28:21.481Z"
   },
   {
    "duration": 22,
    "start_time": "2022-07-05T00:28:26.396Z"
   },
   {
    "duration": 11,
    "start_time": "2022-07-05T00:28:32.228Z"
   },
   {
    "duration": 10,
    "start_time": "2022-07-05T00:28:55.123Z"
   },
   {
    "duration": 8,
    "start_time": "2022-07-05T00:28:56.966Z"
   },
   {
    "duration": 6,
    "start_time": "2022-07-05T00:28:59.914Z"
   },
   {
    "duration": 9,
    "start_time": "2022-07-05T00:29:03.037Z"
   },
   {
    "duration": 8,
    "start_time": "2022-07-05T00:29:21.391Z"
   },
   {
    "duration": 13,
    "start_time": "2022-07-05T00:29:32.414Z"
   },
   {
    "duration": 9,
    "start_time": "2022-07-05T00:29:38.829Z"
   },
   {
    "duration": 14,
    "start_time": "2022-07-05T00:29:43.914Z"
   },
   {
    "duration": 7,
    "start_time": "2022-07-05T00:29:57.681Z"
   },
   {
    "duration": 8,
    "start_time": "2022-07-05T00:30:05.644Z"
   },
   {
    "duration": 17,
    "start_time": "2022-07-05T00:30:55.704Z"
   },
   {
    "duration": 497,
    "start_time": "2022-07-07T02:20:02.748Z"
   },
   {
    "duration": 20,
    "start_time": "2022-07-07T02:20:03.248Z"
   },
   {
    "duration": 17,
    "start_time": "2022-07-07T02:20:03.270Z"
   },
   {
    "duration": 6,
    "start_time": "2022-07-07T02:20:03.289Z"
   },
   {
    "duration": 13,
    "start_time": "2022-07-07T02:20:03.301Z"
   },
   {
    "duration": 19,
    "start_time": "2022-07-07T02:20:03.316Z"
   },
   {
    "duration": 20,
    "start_time": "2022-07-07T02:20:03.337Z"
   },
   {
    "duration": 82,
    "start_time": "2022-07-07T02:20:03.359Z"
   },
   {
    "duration": 2,
    "start_time": "2022-07-07T02:20:03.443Z"
   },
   {
    "duration": 4,
    "start_time": "2022-07-07T02:20:03.448Z"
   },
   {
    "duration": 15,
    "start_time": "2022-07-07T02:20:03.454Z"
   },
   {
    "duration": 30,
    "start_time": "2022-07-07T02:20:03.471Z"
   },
   {
    "duration": 28,
    "start_time": "2022-07-07T02:20:03.503Z"
   },
   {
    "duration": 6,
    "start_time": "2022-07-07T02:20:03.533Z"
   },
   {
    "duration": 8,
    "start_time": "2022-07-07T02:20:03.540Z"
   },
   {
    "duration": 8,
    "start_time": "2022-07-07T02:20:03.549Z"
   },
   {
    "duration": 92,
    "start_time": "2022-07-07T02:20:03.559Z"
   },
   {
    "duration": 0,
    "start_time": "2022-07-07T02:20:03.654Z"
   },
   {
    "duration": 0,
    "start_time": "2022-07-07T02:20:03.655Z"
   },
   {
    "duration": 0,
    "start_time": "2022-07-07T02:20:03.656Z"
   },
   {
    "duration": 0,
    "start_time": "2022-07-07T02:20:03.657Z"
   },
   {
    "duration": 0,
    "start_time": "2022-07-07T02:20:03.658Z"
   },
   {
    "duration": 0,
    "start_time": "2022-07-07T02:20:03.659Z"
   },
   {
    "duration": 0,
    "start_time": "2022-07-07T02:20:03.660Z"
   },
   {
    "duration": 0,
    "start_time": "2022-07-07T02:20:03.660Z"
   },
   {
    "duration": 0,
    "start_time": "2022-07-07T02:20:03.661Z"
   },
   {
    "duration": 0,
    "start_time": "2022-07-07T02:20:03.663Z"
   },
   {
    "duration": 0,
    "start_time": "2022-07-07T02:20:03.664Z"
   },
   {
    "duration": 0,
    "start_time": "2022-07-07T02:20:03.665Z"
   },
   {
    "duration": 0,
    "start_time": "2022-07-07T02:20:03.665Z"
   },
   {
    "duration": 0,
    "start_time": "2022-07-07T02:20:03.666Z"
   },
   {
    "duration": 0,
    "start_time": "2022-07-07T02:20:03.667Z"
   },
   {
    "duration": 0,
    "start_time": "2022-07-07T02:20:03.668Z"
   },
   {
    "duration": 0,
    "start_time": "2022-07-07T02:20:03.669Z"
   },
   {
    "duration": 0,
    "start_time": "2022-07-07T02:20:03.701Z"
   },
   {
    "duration": 0,
    "start_time": "2022-07-07T02:20:03.702Z"
   },
   {
    "duration": 0,
    "start_time": "2022-07-07T02:20:03.703Z"
   },
   {
    "duration": 0,
    "start_time": "2022-07-07T02:20:03.704Z"
   },
   {
    "duration": 0,
    "start_time": "2022-07-07T02:20:03.705Z"
   },
   {
    "duration": 0,
    "start_time": "2022-07-07T02:20:03.706Z"
   },
   {
    "duration": 0,
    "start_time": "2022-07-07T02:20:03.707Z"
   },
   {
    "duration": 0,
    "start_time": "2022-07-07T02:20:03.708Z"
   },
   {
    "duration": 0,
    "start_time": "2022-07-07T02:20:03.710Z"
   },
   {
    "duration": 0,
    "start_time": "2022-07-07T02:20:03.711Z"
   },
   {
    "duration": 0,
    "start_time": "2022-07-07T02:20:03.712Z"
   },
   {
    "duration": 0,
    "start_time": "2022-07-07T02:20:03.713Z"
   },
   {
    "duration": 0,
    "start_time": "2022-07-07T02:20:03.714Z"
   },
   {
    "duration": 0,
    "start_time": "2022-07-07T02:20:03.715Z"
   },
   {
    "duration": 0,
    "start_time": "2022-07-07T02:20:03.716Z"
   },
   {
    "duration": 0,
    "start_time": "2022-07-07T02:20:03.717Z"
   },
   {
    "duration": 0,
    "start_time": "2022-07-07T02:20:03.718Z"
   },
   {
    "duration": 0,
    "start_time": "2022-07-07T02:20:03.719Z"
   },
   {
    "duration": 0,
    "start_time": "2022-07-07T02:20:03.720Z"
   },
   {
    "duration": 0,
    "start_time": "2022-07-07T02:20:03.721Z"
   },
   {
    "duration": 0,
    "start_time": "2022-07-07T02:20:03.722Z"
   },
   {
    "duration": 0,
    "start_time": "2022-07-07T02:20:03.723Z"
   },
   {
    "duration": 1,
    "start_time": "2022-07-07T02:20:03.724Z"
   },
   {
    "duration": 0,
    "start_time": "2022-07-07T02:20:03.725Z"
   },
   {
    "duration": 0,
    "start_time": "2022-07-07T02:20:03.726Z"
   },
   {
    "duration": 0,
    "start_time": "2022-07-07T02:20:03.727Z"
   },
   {
    "duration": 0,
    "start_time": "2022-07-07T02:20:03.728Z"
   },
   {
    "duration": 0,
    "start_time": "2022-07-07T02:20:03.729Z"
   },
   {
    "duration": 0,
    "start_time": "2022-07-07T02:20:03.730Z"
   },
   {
    "duration": 0,
    "start_time": "2022-07-07T02:20:03.730Z"
   },
   {
    "duration": 0,
    "start_time": "2022-07-07T02:20:03.731Z"
   },
   {
    "duration": 0,
    "start_time": "2022-07-07T02:20:03.733Z"
   },
   {
    "duration": 0,
    "start_time": "2022-07-07T02:20:03.734Z"
   },
   {
    "duration": 0,
    "start_time": "2022-07-07T02:20:03.734Z"
   },
   {
    "duration": 0,
    "start_time": "2022-07-07T02:20:03.735Z"
   },
   {
    "duration": 0,
    "start_time": "2022-07-07T02:20:03.736Z"
   },
   {
    "duration": 0,
    "start_time": "2022-07-07T02:20:03.737Z"
   },
   {
    "duration": 0,
    "start_time": "2022-07-07T02:20:03.738Z"
   },
   {
    "duration": 0,
    "start_time": "2022-07-07T02:20:03.739Z"
   },
   {
    "duration": 41,
    "start_time": "2022-07-07T02:42:56.701Z"
   },
   {
    "duration": 494,
    "start_time": "2022-07-07T02:43:01.997Z"
   },
   {
    "duration": 19,
    "start_time": "2022-07-07T02:43:02.494Z"
   },
   {
    "duration": 34,
    "start_time": "2022-07-07T02:43:02.514Z"
   },
   {
    "duration": 41,
    "start_time": "2022-07-07T02:43:02.550Z"
   },
   {
    "duration": 14,
    "start_time": "2022-07-07T02:43:02.594Z"
   },
   {
    "duration": 15,
    "start_time": "2022-07-07T02:43:02.610Z"
   },
   {
    "duration": 25,
    "start_time": "2022-07-07T02:43:02.627Z"
   },
   {
    "duration": 100,
    "start_time": "2022-07-07T02:43:02.656Z"
   },
   {
    "duration": 2,
    "start_time": "2022-07-07T02:43:02.758Z"
   },
   {
    "duration": 38,
    "start_time": "2022-07-07T02:43:02.763Z"
   },
   {
    "duration": 23,
    "start_time": "2022-07-07T02:43:02.803Z"
   },
   {
    "duration": 5,
    "start_time": "2022-07-07T02:43:02.828Z"
   },
   {
    "duration": 25,
    "start_time": "2022-07-07T02:43:02.835Z"
   },
   {
    "duration": 5,
    "start_time": "2022-07-07T02:43:02.864Z"
   },
   {
    "duration": 35,
    "start_time": "2022-07-07T02:43:02.871Z"
   },
   {
    "duration": 13,
    "start_time": "2022-07-07T02:43:02.908Z"
   },
   {
    "duration": 82,
    "start_time": "2022-07-07T02:43:02.923Z"
   },
   {
    "duration": 0,
    "start_time": "2022-07-07T02:43:03.008Z"
   },
   {
    "duration": 0,
    "start_time": "2022-07-07T02:43:03.009Z"
   },
   {
    "duration": 0,
    "start_time": "2022-07-07T02:43:03.010Z"
   },
   {
    "duration": 0,
    "start_time": "2022-07-07T02:43:03.011Z"
   },
   {
    "duration": 0,
    "start_time": "2022-07-07T02:43:03.012Z"
   },
   {
    "duration": 0,
    "start_time": "2022-07-07T02:43:03.014Z"
   },
   {
    "duration": 0,
    "start_time": "2022-07-07T02:43:03.015Z"
   },
   {
    "duration": 0,
    "start_time": "2022-07-07T02:43:03.016Z"
   },
   {
    "duration": 0,
    "start_time": "2022-07-07T02:43:03.017Z"
   },
   {
    "duration": 0,
    "start_time": "2022-07-07T02:43:03.018Z"
   },
   {
    "duration": 0,
    "start_time": "2022-07-07T02:43:03.019Z"
   },
   {
    "duration": 0,
    "start_time": "2022-07-07T02:43:03.020Z"
   },
   {
    "duration": 0,
    "start_time": "2022-07-07T02:43:03.021Z"
   },
   {
    "duration": 0,
    "start_time": "2022-07-07T02:43:03.022Z"
   },
   {
    "duration": 0,
    "start_time": "2022-07-07T02:43:03.023Z"
   },
   {
    "duration": 0,
    "start_time": "2022-07-07T02:43:03.025Z"
   },
   {
    "duration": 0,
    "start_time": "2022-07-07T02:43:03.026Z"
   },
   {
    "duration": 0,
    "start_time": "2022-07-07T02:43:03.027Z"
   },
   {
    "duration": 0,
    "start_time": "2022-07-07T02:43:03.029Z"
   },
   {
    "duration": 0,
    "start_time": "2022-07-07T02:43:03.030Z"
   },
   {
    "duration": 0,
    "start_time": "2022-07-07T02:43:03.031Z"
   },
   {
    "duration": 0,
    "start_time": "2022-07-07T02:43:03.032Z"
   },
   {
    "duration": 0,
    "start_time": "2022-07-07T02:43:03.033Z"
   },
   {
    "duration": 0,
    "start_time": "2022-07-07T02:43:03.034Z"
   },
   {
    "duration": 0,
    "start_time": "2022-07-07T02:43:03.035Z"
   },
   {
    "duration": 0,
    "start_time": "2022-07-07T02:43:03.036Z"
   },
   {
    "duration": 0,
    "start_time": "2022-07-07T02:43:03.037Z"
   },
   {
    "duration": 0,
    "start_time": "2022-07-07T02:43:03.038Z"
   },
   {
    "duration": 0,
    "start_time": "2022-07-07T02:43:03.039Z"
   },
   {
    "duration": 0,
    "start_time": "2022-07-07T02:43:03.040Z"
   },
   {
    "duration": 0,
    "start_time": "2022-07-07T02:43:03.041Z"
   },
   {
    "duration": 0,
    "start_time": "2022-07-07T02:43:03.042Z"
   },
   {
    "duration": 0,
    "start_time": "2022-07-07T02:43:03.043Z"
   },
   {
    "duration": 0,
    "start_time": "2022-07-07T02:43:03.045Z"
   },
   {
    "duration": 0,
    "start_time": "2022-07-07T02:43:03.101Z"
   },
   {
    "duration": 0,
    "start_time": "2022-07-07T02:43:03.103Z"
   },
   {
    "duration": 0,
    "start_time": "2022-07-07T02:43:03.105Z"
   },
   {
    "duration": 0,
    "start_time": "2022-07-07T02:43:03.107Z"
   },
   {
    "duration": 0,
    "start_time": "2022-07-07T02:43:03.108Z"
   },
   {
    "duration": 0,
    "start_time": "2022-07-07T02:43:03.110Z"
   },
   {
    "duration": 0,
    "start_time": "2022-07-07T02:43:03.111Z"
   },
   {
    "duration": 0,
    "start_time": "2022-07-07T02:43:03.113Z"
   },
   {
    "duration": 0,
    "start_time": "2022-07-07T02:43:03.115Z"
   },
   {
    "duration": 0,
    "start_time": "2022-07-07T02:43:03.116Z"
   },
   {
    "duration": 0,
    "start_time": "2022-07-07T02:43:03.117Z"
   },
   {
    "duration": 0,
    "start_time": "2022-07-07T02:43:03.119Z"
   },
   {
    "duration": 0,
    "start_time": "2022-07-07T02:43:03.120Z"
   },
   {
    "duration": 0,
    "start_time": "2022-07-07T02:43:03.121Z"
   },
   {
    "duration": 0,
    "start_time": "2022-07-07T02:43:03.123Z"
   },
   {
    "duration": 0,
    "start_time": "2022-07-07T02:43:03.124Z"
   },
   {
    "duration": 0,
    "start_time": "2022-07-07T02:43:03.126Z"
   },
   {
    "duration": 0,
    "start_time": "2022-07-07T02:43:03.128Z"
   },
   {
    "duration": 0,
    "start_time": "2022-07-07T02:43:03.129Z"
   },
   {
    "duration": 0,
    "start_time": "2022-07-07T02:43:03.131Z"
   },
   {
    "duration": 0,
    "start_time": "2022-07-07T02:43:03.132Z"
   },
   {
    "duration": 0,
    "start_time": "2022-07-07T02:43:03.133Z"
   },
   {
    "duration": 4,
    "start_time": "2022-07-07T02:43:25.321Z"
   },
   {
    "duration": 5,
    "start_time": "2022-07-07T02:43:29.561Z"
   },
   {
    "duration": 5,
    "start_time": "2022-07-07T02:44:36.940Z"
   },
   {
    "duration": 52,
    "start_time": "2022-07-07T13:33:42.325Z"
   },
   {
    "duration": 7,
    "start_time": "2022-07-07T13:34:00.775Z"
   },
   {
    "duration": 585,
    "start_time": "2022-07-07T13:34:06.397Z"
   },
   {
    "duration": 21,
    "start_time": "2022-07-07T13:34:06.984Z"
   },
   {
    "duration": 22,
    "start_time": "2022-07-07T13:34:07.007Z"
   },
   {
    "duration": 10,
    "start_time": "2022-07-07T13:34:07.032Z"
   },
   {
    "duration": 33,
    "start_time": "2022-07-07T13:34:07.044Z"
   },
   {
    "duration": 14,
    "start_time": "2022-07-07T13:34:07.079Z"
   },
   {
    "duration": 20,
    "start_time": "2022-07-07T13:34:07.095Z"
   },
   {
    "duration": 77,
    "start_time": "2022-07-07T13:34:07.117Z"
   },
   {
    "duration": 3,
    "start_time": "2022-07-07T13:34:07.195Z"
   },
   {
    "duration": 5,
    "start_time": "2022-07-07T13:34:07.201Z"
   },
   {
    "duration": 24,
    "start_time": "2022-07-07T13:34:07.209Z"
   },
   {
    "duration": 6,
    "start_time": "2022-07-07T13:34:07.235Z"
   },
   {
    "duration": 32,
    "start_time": "2022-07-07T13:34:07.243Z"
   },
   {
    "duration": 15,
    "start_time": "2022-07-07T13:34:07.277Z"
   },
   {
    "duration": 9,
    "start_time": "2022-07-07T13:34:07.293Z"
   },
   {
    "duration": 10,
    "start_time": "2022-07-07T13:34:07.304Z"
   },
   {
    "duration": 91,
    "start_time": "2022-07-07T13:34:07.316Z"
   },
   {
    "duration": 1,
    "start_time": "2022-07-07T13:34:07.409Z"
   },
   {
    "duration": 0,
    "start_time": "2022-07-07T13:34:07.411Z"
   },
   {
    "duration": 0,
    "start_time": "2022-07-07T13:34:07.412Z"
   },
   {
    "duration": 0,
    "start_time": "2022-07-07T13:34:07.413Z"
   },
   {
    "duration": 0,
    "start_time": "2022-07-07T13:34:07.414Z"
   },
   {
    "duration": 0,
    "start_time": "2022-07-07T13:34:07.415Z"
   },
   {
    "duration": 0,
    "start_time": "2022-07-07T13:34:07.416Z"
   },
   {
    "duration": 0,
    "start_time": "2022-07-07T13:34:07.417Z"
   },
   {
    "duration": 0,
    "start_time": "2022-07-07T13:34:07.418Z"
   },
   {
    "duration": 0,
    "start_time": "2022-07-07T13:34:07.419Z"
   },
   {
    "duration": 0,
    "start_time": "2022-07-07T13:34:07.420Z"
   },
   {
    "duration": 0,
    "start_time": "2022-07-07T13:34:07.422Z"
   },
   {
    "duration": 0,
    "start_time": "2022-07-07T13:34:07.425Z"
   },
   {
    "duration": 0,
    "start_time": "2022-07-07T13:34:07.427Z"
   },
   {
    "duration": 0,
    "start_time": "2022-07-07T13:34:07.428Z"
   },
   {
    "duration": 0,
    "start_time": "2022-07-07T13:34:07.430Z"
   },
   {
    "duration": 1,
    "start_time": "2022-07-07T13:34:07.462Z"
   },
   {
    "duration": 0,
    "start_time": "2022-07-07T13:34:07.463Z"
   },
   {
    "duration": 0,
    "start_time": "2022-07-07T13:34:07.464Z"
   },
   {
    "duration": 0,
    "start_time": "2022-07-07T13:34:07.465Z"
   },
   {
    "duration": 0,
    "start_time": "2022-07-07T13:34:07.465Z"
   },
   {
    "duration": 0,
    "start_time": "2022-07-07T13:34:07.466Z"
   },
   {
    "duration": 0,
    "start_time": "2022-07-07T13:34:07.468Z"
   },
   {
    "duration": 0,
    "start_time": "2022-07-07T13:34:07.468Z"
   },
   {
    "duration": 0,
    "start_time": "2022-07-07T13:34:07.471Z"
   },
   {
    "duration": 1,
    "start_time": "2022-07-07T13:34:07.471Z"
   },
   {
    "duration": 0,
    "start_time": "2022-07-07T13:34:07.472Z"
   },
   {
    "duration": 0,
    "start_time": "2022-07-07T13:34:07.473Z"
   },
   {
    "duration": 0,
    "start_time": "2022-07-07T13:34:07.475Z"
   },
   {
    "duration": 0,
    "start_time": "2022-07-07T13:34:07.478Z"
   },
   {
    "duration": 0,
    "start_time": "2022-07-07T13:34:07.483Z"
   },
   {
    "duration": 0,
    "start_time": "2022-07-07T13:34:07.484Z"
   },
   {
    "duration": 1,
    "start_time": "2022-07-07T13:34:07.485Z"
   },
   {
    "duration": 0,
    "start_time": "2022-07-07T13:34:07.488Z"
   },
   {
    "duration": 0,
    "start_time": "2022-07-07T13:34:07.489Z"
   },
   {
    "duration": 0,
    "start_time": "2022-07-07T13:34:07.490Z"
   },
   {
    "duration": 0,
    "start_time": "2022-07-07T13:34:07.491Z"
   },
   {
    "duration": 0,
    "start_time": "2022-07-07T13:34:07.492Z"
   },
   {
    "duration": 0,
    "start_time": "2022-07-07T13:34:07.493Z"
   },
   {
    "duration": 1,
    "start_time": "2022-07-07T13:34:07.494Z"
   },
   {
    "duration": 0,
    "start_time": "2022-07-07T13:34:07.496Z"
   },
   {
    "duration": 0,
    "start_time": "2022-07-07T13:34:07.497Z"
   },
   {
    "duration": 0,
    "start_time": "2022-07-07T13:34:07.498Z"
   },
   {
    "duration": 0,
    "start_time": "2022-07-07T13:34:07.499Z"
   },
   {
    "duration": 0,
    "start_time": "2022-07-07T13:34:07.501Z"
   },
   {
    "duration": 0,
    "start_time": "2022-07-07T13:34:07.502Z"
   },
   {
    "duration": 0,
    "start_time": "2022-07-07T13:34:07.504Z"
   },
   {
    "duration": 0,
    "start_time": "2022-07-07T13:34:07.505Z"
   },
   {
    "duration": 0,
    "start_time": "2022-07-07T13:34:07.507Z"
   },
   {
    "duration": 0,
    "start_time": "2022-07-07T13:34:07.560Z"
   },
   {
    "duration": 0,
    "start_time": "2022-07-07T13:34:07.561Z"
   },
   {
    "duration": 0,
    "start_time": "2022-07-07T13:34:07.562Z"
   },
   {
    "duration": 0,
    "start_time": "2022-07-07T13:34:07.563Z"
   },
   {
    "duration": 0,
    "start_time": "2022-07-07T13:34:07.564Z"
   },
   {
    "duration": 0,
    "start_time": "2022-07-07T13:34:07.565Z"
   },
   {
    "duration": 1,
    "start_time": "2022-07-07T13:34:07.565Z"
   },
   {
    "duration": 48,
    "start_time": "2022-07-07T13:34:30.878Z"
   },
   {
    "duration": 13,
    "start_time": "2022-07-07T13:34:31.640Z"
   },
   {
    "duration": 19,
    "start_time": "2022-07-07T13:34:31.804Z"
   },
   {
    "duration": 486,
    "start_time": "2022-07-07T13:34:37.446Z"
   },
   {
    "duration": 18,
    "start_time": "2022-07-07T13:34:37.933Z"
   },
   {
    "duration": 21,
    "start_time": "2022-07-07T13:34:37.953Z"
   },
   {
    "duration": 6,
    "start_time": "2022-07-07T13:34:37.976Z"
   },
   {
    "duration": 11,
    "start_time": "2022-07-07T13:34:37.984Z"
   },
   {
    "duration": 10,
    "start_time": "2022-07-07T13:34:37.996Z"
   },
   {
    "duration": 19,
    "start_time": "2022-07-07T13:34:38.008Z"
   },
   {
    "duration": 62,
    "start_time": "2022-07-07T13:34:38.061Z"
   },
   {
    "duration": 2,
    "start_time": "2022-07-07T13:34:38.124Z"
   },
   {
    "duration": 11,
    "start_time": "2022-07-07T13:34:38.127Z"
   },
   {
    "duration": 35,
    "start_time": "2022-07-07T13:34:38.139Z"
   },
   {
    "duration": 8,
    "start_time": "2022-07-07T13:34:38.179Z"
   },
   {
    "duration": 11,
    "start_time": "2022-07-07T13:34:38.189Z"
   },
   {
    "duration": 4,
    "start_time": "2022-07-07T13:34:38.203Z"
   },
   {
    "duration": 12,
    "start_time": "2022-07-07T13:34:38.208Z"
   },
   {
    "duration": 10,
    "start_time": "2022-07-07T13:34:38.222Z"
   },
   {
    "duration": 91,
    "start_time": "2022-07-07T13:34:38.234Z"
   },
   {
    "duration": 0,
    "start_time": "2022-07-07T13:34:38.328Z"
   },
   {
    "duration": 0,
    "start_time": "2022-07-07T13:34:38.329Z"
   },
   {
    "duration": 0,
    "start_time": "2022-07-07T13:34:38.330Z"
   },
   {
    "duration": 0,
    "start_time": "2022-07-07T13:34:38.332Z"
   },
   {
    "duration": 0,
    "start_time": "2022-07-07T13:34:38.333Z"
   },
   {
    "duration": 0,
    "start_time": "2022-07-07T13:34:38.335Z"
   },
   {
    "duration": 0,
    "start_time": "2022-07-07T13:34:38.336Z"
   },
   {
    "duration": 0,
    "start_time": "2022-07-07T13:34:38.337Z"
   },
   {
    "duration": 0,
    "start_time": "2022-07-07T13:34:38.338Z"
   },
   {
    "duration": 0,
    "start_time": "2022-07-07T13:34:38.362Z"
   },
   {
    "duration": 0,
    "start_time": "2022-07-07T13:34:38.363Z"
   },
   {
    "duration": 0,
    "start_time": "2022-07-07T13:34:38.364Z"
   },
   {
    "duration": 0,
    "start_time": "2022-07-07T13:34:38.366Z"
   },
   {
    "duration": 0,
    "start_time": "2022-07-07T13:34:38.367Z"
   },
   {
    "duration": 0,
    "start_time": "2022-07-07T13:34:38.367Z"
   },
   {
    "duration": 0,
    "start_time": "2022-07-07T13:34:38.368Z"
   },
   {
    "duration": 0,
    "start_time": "2022-07-07T13:34:38.369Z"
   },
   {
    "duration": 0,
    "start_time": "2022-07-07T13:34:38.370Z"
   },
   {
    "duration": 0,
    "start_time": "2022-07-07T13:34:38.370Z"
   },
   {
    "duration": 0,
    "start_time": "2022-07-07T13:34:38.371Z"
   },
   {
    "duration": 0,
    "start_time": "2022-07-07T13:34:38.373Z"
   },
   {
    "duration": 0,
    "start_time": "2022-07-07T13:34:38.374Z"
   },
   {
    "duration": 0,
    "start_time": "2022-07-07T13:34:38.375Z"
   },
   {
    "duration": 0,
    "start_time": "2022-07-07T13:34:38.376Z"
   },
   {
    "duration": 0,
    "start_time": "2022-07-07T13:34:38.377Z"
   },
   {
    "duration": 0,
    "start_time": "2022-07-07T13:34:38.378Z"
   },
   {
    "duration": 0,
    "start_time": "2022-07-07T13:34:38.379Z"
   },
   {
    "duration": 0,
    "start_time": "2022-07-07T13:34:38.380Z"
   },
   {
    "duration": 0,
    "start_time": "2022-07-07T13:34:38.380Z"
   },
   {
    "duration": 0,
    "start_time": "2022-07-07T13:34:38.382Z"
   },
   {
    "duration": 0,
    "start_time": "2022-07-07T13:34:38.383Z"
   },
   {
    "duration": 0,
    "start_time": "2022-07-07T13:34:38.384Z"
   },
   {
    "duration": 0,
    "start_time": "2022-07-07T13:34:38.385Z"
   },
   {
    "duration": 0,
    "start_time": "2022-07-07T13:34:38.387Z"
   },
   {
    "duration": 0,
    "start_time": "2022-07-07T13:34:38.387Z"
   },
   {
    "duration": 0,
    "start_time": "2022-07-07T13:34:38.389Z"
   },
   {
    "duration": 0,
    "start_time": "2022-07-07T13:34:38.389Z"
   },
   {
    "duration": 0,
    "start_time": "2022-07-07T13:34:38.391Z"
   },
   {
    "duration": 0,
    "start_time": "2022-07-07T13:34:38.392Z"
   },
   {
    "duration": 0,
    "start_time": "2022-07-07T13:34:38.393Z"
   },
   {
    "duration": 0,
    "start_time": "2022-07-07T13:34:38.394Z"
   },
   {
    "duration": 0,
    "start_time": "2022-07-07T13:34:38.395Z"
   },
   {
    "duration": 0,
    "start_time": "2022-07-07T13:34:38.396Z"
   },
   {
    "duration": 0,
    "start_time": "2022-07-07T13:34:38.397Z"
   },
   {
    "duration": 0,
    "start_time": "2022-07-07T13:34:38.398Z"
   },
   {
    "duration": 0,
    "start_time": "2022-07-07T13:34:38.399Z"
   },
   {
    "duration": 0,
    "start_time": "2022-07-07T13:34:38.400Z"
   },
   {
    "duration": 0,
    "start_time": "2022-07-07T13:34:38.401Z"
   },
   {
    "duration": 0,
    "start_time": "2022-07-07T13:34:38.403Z"
   },
   {
    "duration": 0,
    "start_time": "2022-07-07T13:34:38.404Z"
   },
   {
    "duration": 0,
    "start_time": "2022-07-07T13:34:38.405Z"
   },
   {
    "duration": 0,
    "start_time": "2022-07-07T13:34:38.405Z"
   },
   {
    "duration": 0,
    "start_time": "2022-07-07T13:34:38.406Z"
   },
   {
    "duration": 0,
    "start_time": "2022-07-07T13:34:38.460Z"
   },
   {
    "duration": 0,
    "start_time": "2022-07-07T13:34:38.464Z"
   },
   {
    "duration": 0,
    "start_time": "2022-07-07T13:34:38.465Z"
   },
   {
    "duration": 5,
    "start_time": "2022-07-07T13:35:05.120Z"
   },
   {
    "duration": 10,
    "start_time": "2022-07-07T13:35:08.337Z"
   },
   {
    "duration": 12,
    "start_time": "2022-07-07T13:35:28.204Z"
   },
   {
    "duration": 17,
    "start_time": "2022-07-07T13:38:23.650Z"
   },
   {
    "duration": 14,
    "start_time": "2022-07-07T13:38:25.688Z"
   },
   {
    "duration": 11,
    "start_time": "2022-07-07T13:38:26.897Z"
   },
   {
    "duration": 19,
    "start_time": "2022-07-07T13:38:57.553Z"
   },
   {
    "duration": 10,
    "start_time": "2022-07-07T13:39:09.675Z"
   },
   {
    "duration": 11,
    "start_time": "2022-07-07T13:40:17.453Z"
   },
   {
    "duration": 12,
    "start_time": "2022-07-07T13:41:07.396Z"
   },
   {
    "duration": 23,
    "start_time": "2022-07-07T13:41:52.258Z"
   },
   {
    "duration": 23,
    "start_time": "2022-07-07T13:42:11.186Z"
   },
   {
    "duration": 22,
    "start_time": "2022-07-07T13:58:00.424Z"
   },
   {
    "duration": 16,
    "start_time": "2022-07-07T14:00:30.558Z"
   },
   {
    "duration": 16,
    "start_time": "2022-07-07T14:01:33.279Z"
   },
   {
    "duration": 6,
    "start_time": "2022-07-07T14:26:12.005Z"
   },
   {
    "duration": 7,
    "start_time": "2022-07-07T14:26:49.591Z"
   },
   {
    "duration": 16,
    "start_time": "2022-07-07T14:27:03.211Z"
   },
   {
    "duration": 23,
    "start_time": "2022-07-07T14:34:46.581Z"
   },
   {
    "duration": 9,
    "start_time": "2022-07-07T14:35:16.441Z"
   },
   {
    "duration": 9,
    "start_time": "2022-07-07T14:35:23.481Z"
   },
   {
    "duration": 9,
    "start_time": "2022-07-07T14:35:25.847Z"
   },
   {
    "duration": 11,
    "start_time": "2022-07-07T14:37:47.352Z"
   },
   {
    "duration": 10,
    "start_time": "2022-07-07T14:38:48.904Z"
   },
   {
    "duration": 10,
    "start_time": "2022-07-07T14:39:04.707Z"
   },
   {
    "duration": 14,
    "start_time": "2022-07-07T14:46:44.705Z"
   },
   {
    "duration": 11,
    "start_time": "2022-07-07T14:46:51.895Z"
   },
   {
    "duration": 13,
    "start_time": "2022-07-07T14:46:58.228Z"
   },
   {
    "duration": 5,
    "start_time": "2022-07-07T14:47:33.108Z"
   },
   {
    "duration": 23,
    "start_time": "2022-07-07T14:47:34.964Z"
   },
   {
    "duration": 8,
    "start_time": "2022-07-07T14:48:20.498Z"
   },
   {
    "duration": 8,
    "start_time": "2022-07-07T14:48:30.510Z"
   },
   {
    "duration": 7,
    "start_time": "2022-07-07T14:48:43.915Z"
   },
   {
    "duration": 7,
    "start_time": "2022-07-07T14:48:48.492Z"
   },
   {
    "duration": 4,
    "start_time": "2022-07-07T14:50:38.451Z"
   },
   {
    "duration": 10,
    "start_time": "2022-07-07T14:50:42.094Z"
   },
   {
    "duration": 4,
    "start_time": "2022-07-07T14:51:13.181Z"
   },
   {
    "duration": 11,
    "start_time": "2022-07-07T14:51:21.982Z"
   },
   {
    "duration": 5,
    "start_time": "2022-07-07T14:51:36.872Z"
   },
   {
    "duration": 4,
    "start_time": "2022-07-07T14:51:39.950Z"
   },
   {
    "duration": 453,
    "start_time": "2022-07-07T14:51:45.299Z"
   },
   {
    "duration": 23,
    "start_time": "2022-07-07T14:51:45.754Z"
   },
   {
    "duration": 19,
    "start_time": "2022-07-07T14:51:45.778Z"
   },
   {
    "duration": 8,
    "start_time": "2022-07-07T14:51:45.799Z"
   },
   {
    "duration": 18,
    "start_time": "2022-07-07T14:51:45.810Z"
   },
   {
    "duration": 59,
    "start_time": "2022-07-07T14:51:45.830Z"
   },
   {
    "duration": 19,
    "start_time": "2022-07-07T14:51:45.891Z"
   },
   {
    "duration": 68,
    "start_time": "2022-07-07T14:51:45.911Z"
   },
   {
    "duration": 2,
    "start_time": "2022-07-07T14:51:45.981Z"
   },
   {
    "duration": 6,
    "start_time": "2022-07-07T14:51:45.985Z"
   },
   {
    "duration": 16,
    "start_time": "2022-07-07T14:51:45.992Z"
   },
   {
    "duration": 5,
    "start_time": "2022-07-07T14:51:46.010Z"
   },
   {
    "duration": 14,
    "start_time": "2022-07-07T14:51:46.017Z"
   },
   {
    "duration": 32,
    "start_time": "2022-07-07T14:51:46.035Z"
   },
   {
    "duration": 18,
    "start_time": "2022-07-07T14:51:46.069Z"
   },
   {
    "duration": 9,
    "start_time": "2022-07-07T14:51:46.088Z"
   },
   {
    "duration": 73,
    "start_time": "2022-07-07T14:51:46.099Z"
   },
   {
    "duration": 0,
    "start_time": "2022-07-07T14:51:46.175Z"
   },
   {
    "duration": 0,
    "start_time": "2022-07-07T14:51:46.177Z"
   },
   {
    "duration": 0,
    "start_time": "2022-07-07T14:51:46.178Z"
   },
   {
    "duration": 0,
    "start_time": "2022-07-07T14:51:46.179Z"
   },
   {
    "duration": 0,
    "start_time": "2022-07-07T14:51:46.180Z"
   },
   {
    "duration": 0,
    "start_time": "2022-07-07T14:51:46.185Z"
   },
   {
    "duration": 0,
    "start_time": "2022-07-07T14:51:46.187Z"
   },
   {
    "duration": 0,
    "start_time": "2022-07-07T14:51:46.189Z"
   },
   {
    "duration": 0,
    "start_time": "2022-07-07T14:51:46.190Z"
   },
   {
    "duration": 0,
    "start_time": "2022-07-07T14:51:46.199Z"
   },
   {
    "duration": 0,
    "start_time": "2022-07-07T14:51:46.203Z"
   },
   {
    "duration": 0,
    "start_time": "2022-07-07T14:51:46.204Z"
   },
   {
    "duration": 0,
    "start_time": "2022-07-07T14:51:46.205Z"
   },
   {
    "duration": 0,
    "start_time": "2022-07-07T14:51:46.207Z"
   },
   {
    "duration": 0,
    "start_time": "2022-07-07T14:51:46.208Z"
   },
   {
    "duration": 0,
    "start_time": "2022-07-07T14:51:46.209Z"
   },
   {
    "duration": 0,
    "start_time": "2022-07-07T14:51:46.211Z"
   },
   {
    "duration": 0,
    "start_time": "2022-07-07T14:51:46.213Z"
   },
   {
    "duration": 0,
    "start_time": "2022-07-07T14:51:46.219Z"
   },
   {
    "duration": 0,
    "start_time": "2022-07-07T14:51:46.220Z"
   },
   {
    "duration": 0,
    "start_time": "2022-07-07T14:51:46.222Z"
   },
   {
    "duration": 0,
    "start_time": "2022-07-07T14:51:46.224Z"
   },
   {
    "duration": 0,
    "start_time": "2022-07-07T14:51:46.225Z"
   },
   {
    "duration": 0,
    "start_time": "2022-07-07T14:51:46.226Z"
   },
   {
    "duration": 0,
    "start_time": "2022-07-07T14:51:46.228Z"
   },
   {
    "duration": 0,
    "start_time": "2022-07-07T14:51:46.263Z"
   },
   {
    "duration": 0,
    "start_time": "2022-07-07T14:51:46.263Z"
   },
   {
    "duration": 0,
    "start_time": "2022-07-07T14:51:46.264Z"
   },
   {
    "duration": 0,
    "start_time": "2022-07-07T14:51:46.265Z"
   },
   {
    "duration": 0,
    "start_time": "2022-07-07T14:51:46.266Z"
   },
   {
    "duration": 0,
    "start_time": "2022-07-07T14:51:46.267Z"
   },
   {
    "duration": 0,
    "start_time": "2022-07-07T14:51:46.267Z"
   },
   {
    "duration": 0,
    "start_time": "2022-07-07T14:51:46.268Z"
   },
   {
    "duration": 0,
    "start_time": "2022-07-07T14:51:46.271Z"
   },
   {
    "duration": 0,
    "start_time": "2022-07-07T14:51:46.272Z"
   },
   {
    "duration": 0,
    "start_time": "2022-07-07T14:51:46.273Z"
   },
   {
    "duration": 0,
    "start_time": "2022-07-07T14:51:46.274Z"
   },
   {
    "duration": 0,
    "start_time": "2022-07-07T14:51:46.276Z"
   },
   {
    "duration": 0,
    "start_time": "2022-07-07T14:51:46.277Z"
   },
   {
    "duration": 0,
    "start_time": "2022-07-07T14:51:46.279Z"
   },
   {
    "duration": 0,
    "start_time": "2022-07-07T14:51:46.280Z"
   },
   {
    "duration": 0,
    "start_time": "2022-07-07T14:51:46.281Z"
   },
   {
    "duration": 0,
    "start_time": "2022-07-07T14:51:46.282Z"
   },
   {
    "duration": 0,
    "start_time": "2022-07-07T14:51:46.283Z"
   },
   {
    "duration": 0,
    "start_time": "2022-07-07T14:51:46.284Z"
   },
   {
    "duration": 0,
    "start_time": "2022-07-07T14:51:46.285Z"
   },
   {
    "duration": 1,
    "start_time": "2022-07-07T14:51:46.287Z"
   },
   {
    "duration": 0,
    "start_time": "2022-07-07T14:51:46.289Z"
   },
   {
    "duration": 0,
    "start_time": "2022-07-07T14:51:46.291Z"
   },
   {
    "duration": 0,
    "start_time": "2022-07-07T14:51:46.292Z"
   },
   {
    "duration": 0,
    "start_time": "2022-07-07T14:51:46.293Z"
   },
   {
    "duration": 0,
    "start_time": "2022-07-07T14:51:46.295Z"
   },
   {
    "duration": 0,
    "start_time": "2022-07-07T14:51:46.297Z"
   },
   {
    "duration": 0,
    "start_time": "2022-07-07T14:51:46.299Z"
   },
   {
    "duration": 0,
    "start_time": "2022-07-07T14:51:46.300Z"
   },
   {
    "duration": 0,
    "start_time": "2022-07-07T14:51:46.303Z"
   },
   {
    "duration": 0,
    "start_time": "2022-07-07T14:51:46.304Z"
   },
   {
    "duration": 0,
    "start_time": "2022-07-07T14:51:46.305Z"
   },
   {
    "duration": 0,
    "start_time": "2022-07-07T14:51:46.308Z"
   },
   {
    "duration": 0,
    "start_time": "2022-07-07T14:51:46.361Z"
   },
   {
    "duration": 0,
    "start_time": "2022-07-07T14:51:46.363Z"
   },
   {
    "duration": 11,
    "start_time": "2022-07-07T14:52:59.978Z"
   },
   {
    "duration": 498,
    "start_time": "2022-07-07T14:53:19.362Z"
   },
   {
    "duration": 26,
    "start_time": "2022-07-07T14:53:19.864Z"
   },
   {
    "duration": 20,
    "start_time": "2022-07-07T14:53:19.892Z"
   },
   {
    "duration": 8,
    "start_time": "2022-07-07T14:53:19.914Z"
   },
   {
    "duration": 15,
    "start_time": "2022-07-07T14:53:19.924Z"
   },
   {
    "duration": 30,
    "start_time": "2022-07-07T14:53:19.940Z"
   },
   {
    "duration": 22,
    "start_time": "2022-07-07T14:53:19.972Z"
   },
   {
    "duration": 70,
    "start_time": "2022-07-07T14:53:19.996Z"
   },
   {
    "duration": 5,
    "start_time": "2022-07-07T14:53:20.068Z"
   },
   {
    "duration": 25,
    "start_time": "2022-07-07T14:53:20.075Z"
   },
   {
    "duration": 20,
    "start_time": "2022-07-07T14:53:20.102Z"
   },
   {
    "duration": 17,
    "start_time": "2022-07-07T14:53:20.124Z"
   },
   {
    "duration": 42,
    "start_time": "2022-07-07T14:53:20.143Z"
   },
   {
    "duration": 21,
    "start_time": "2022-07-07T14:53:20.188Z"
   },
   {
    "duration": 30,
    "start_time": "2022-07-07T14:53:20.210Z"
   },
   {
    "duration": 37,
    "start_time": "2022-07-07T14:53:20.242Z"
   },
   {
    "duration": 97,
    "start_time": "2022-07-07T14:53:20.280Z"
   },
   {
    "duration": 0,
    "start_time": "2022-07-07T14:53:20.380Z"
   },
   {
    "duration": 0,
    "start_time": "2022-07-07T14:53:20.382Z"
   },
   {
    "duration": 1,
    "start_time": "2022-07-07T14:53:20.382Z"
   },
   {
    "duration": 0,
    "start_time": "2022-07-07T14:53:20.384Z"
   },
   {
    "duration": 0,
    "start_time": "2022-07-07T14:53:20.385Z"
   },
   {
    "duration": 0,
    "start_time": "2022-07-07T14:53:20.386Z"
   },
   {
    "duration": 0,
    "start_time": "2022-07-07T14:53:20.387Z"
   },
   {
    "duration": 0,
    "start_time": "2022-07-07T14:53:20.388Z"
   },
   {
    "duration": 0,
    "start_time": "2022-07-07T14:53:20.390Z"
   },
   {
    "duration": 0,
    "start_time": "2022-07-07T14:53:20.391Z"
   },
   {
    "duration": 0,
    "start_time": "2022-07-07T14:53:20.392Z"
   },
   {
    "duration": 0,
    "start_time": "2022-07-07T14:53:20.393Z"
   },
   {
    "duration": 0,
    "start_time": "2022-07-07T14:53:20.394Z"
   },
   {
    "duration": 0,
    "start_time": "2022-07-07T14:53:20.396Z"
   },
   {
    "duration": 0,
    "start_time": "2022-07-07T14:53:20.397Z"
   },
   {
    "duration": 0,
    "start_time": "2022-07-07T14:53:20.398Z"
   },
   {
    "duration": 0,
    "start_time": "2022-07-07T14:53:20.399Z"
   },
   {
    "duration": 0,
    "start_time": "2022-07-07T14:53:20.399Z"
   },
   {
    "duration": 0,
    "start_time": "2022-07-07T14:53:20.400Z"
   },
   {
    "duration": 0,
    "start_time": "2022-07-07T14:53:20.401Z"
   },
   {
    "duration": 0,
    "start_time": "2022-07-07T14:53:20.402Z"
   },
   {
    "duration": 0,
    "start_time": "2022-07-07T14:53:20.403Z"
   },
   {
    "duration": 0,
    "start_time": "2022-07-07T14:53:20.404Z"
   },
   {
    "duration": 0,
    "start_time": "2022-07-07T14:53:20.405Z"
   },
   {
    "duration": 0,
    "start_time": "2022-07-07T14:53:20.406Z"
   },
   {
    "duration": 0,
    "start_time": "2022-07-07T14:53:20.407Z"
   },
   {
    "duration": 0,
    "start_time": "2022-07-07T14:53:20.408Z"
   },
   {
    "duration": 0,
    "start_time": "2022-07-07T14:53:20.409Z"
   },
   {
    "duration": 0,
    "start_time": "2022-07-07T14:53:20.410Z"
   },
   {
    "duration": 0,
    "start_time": "2022-07-07T14:53:20.412Z"
   },
   {
    "duration": 0,
    "start_time": "2022-07-07T14:53:20.413Z"
   },
   {
    "duration": 0,
    "start_time": "2022-07-07T14:53:20.414Z"
   },
   {
    "duration": 0,
    "start_time": "2022-07-07T14:53:20.414Z"
   },
   {
    "duration": 0,
    "start_time": "2022-07-07T14:53:20.463Z"
   },
   {
    "duration": 0,
    "start_time": "2022-07-07T14:53:20.466Z"
   },
   {
    "duration": 0,
    "start_time": "2022-07-07T14:53:20.467Z"
   },
   {
    "duration": 0,
    "start_time": "2022-07-07T14:53:20.470Z"
   },
   {
    "duration": 0,
    "start_time": "2022-07-07T14:53:20.471Z"
   },
   {
    "duration": 0,
    "start_time": "2022-07-07T14:53:20.471Z"
   },
   {
    "duration": 0,
    "start_time": "2022-07-07T14:53:20.475Z"
   },
   {
    "duration": 0,
    "start_time": "2022-07-07T14:53:20.476Z"
   },
   {
    "duration": 0,
    "start_time": "2022-07-07T14:53:20.476Z"
   },
   {
    "duration": 0,
    "start_time": "2022-07-07T14:53:20.477Z"
   },
   {
    "duration": 0,
    "start_time": "2022-07-07T14:53:20.477Z"
   },
   {
    "duration": 0,
    "start_time": "2022-07-07T14:53:20.480Z"
   },
   {
    "duration": 0,
    "start_time": "2022-07-07T14:53:20.481Z"
   },
   {
    "duration": 0,
    "start_time": "2022-07-07T14:53:20.482Z"
   },
   {
    "duration": 0,
    "start_time": "2022-07-07T14:53:20.483Z"
   },
   {
    "duration": 0,
    "start_time": "2022-07-07T14:53:20.485Z"
   },
   {
    "duration": 0,
    "start_time": "2022-07-07T14:53:20.486Z"
   },
   {
    "duration": 0,
    "start_time": "2022-07-07T14:53:20.487Z"
   },
   {
    "duration": 0,
    "start_time": "2022-07-07T14:53:20.488Z"
   },
   {
    "duration": 1,
    "start_time": "2022-07-07T14:53:20.488Z"
   },
   {
    "duration": 0,
    "start_time": "2022-07-07T14:53:20.489Z"
   },
   {
    "duration": 0,
    "start_time": "2022-07-07T14:53:20.491Z"
   },
   {
    "duration": 0,
    "start_time": "2022-07-07T14:53:20.492Z"
   },
   {
    "duration": 0,
    "start_time": "2022-07-07T14:53:20.493Z"
   },
   {
    "duration": 0,
    "start_time": "2022-07-07T14:53:20.494Z"
   },
   {
    "duration": 0,
    "start_time": "2022-07-07T14:53:20.495Z"
   },
   {
    "duration": 0,
    "start_time": "2022-07-07T14:53:20.496Z"
   },
   {
    "duration": 0,
    "start_time": "2022-07-07T14:53:20.497Z"
   },
   {
    "duration": 0,
    "start_time": "2022-07-07T14:53:20.498Z"
   },
   {
    "duration": 3,
    "start_time": "2022-07-07T14:53:35.440Z"
   },
   {
    "duration": 9,
    "start_time": "2022-07-07T14:54:01.147Z"
   },
   {
    "duration": 6,
    "start_time": "2022-07-07T14:54:03.096Z"
   },
   {
    "duration": 10,
    "start_time": "2022-07-07T14:54:05.314Z"
   },
   {
    "duration": 10,
    "start_time": "2022-07-07T14:54:09.773Z"
   },
   {
    "duration": 9,
    "start_time": "2022-07-07T14:54:15.677Z"
   },
   {
    "duration": 10,
    "start_time": "2022-07-07T14:54:23.680Z"
   },
   {
    "duration": 3,
    "start_time": "2022-07-07T14:54:29.677Z"
   },
   {
    "duration": 4,
    "start_time": "2022-07-07T14:54:31.900Z"
   },
   {
    "duration": 3,
    "start_time": "2022-07-07T14:54:51.820Z"
   },
   {
    "duration": 4,
    "start_time": "2022-07-07T14:55:07.556Z"
   },
   {
    "duration": 12,
    "start_time": "2022-07-07T14:56:36.340Z"
   },
   {
    "duration": 7,
    "start_time": "2022-07-07T15:11:14.221Z"
   },
   {
    "duration": 8,
    "start_time": "2022-07-07T15:21:58.716Z"
   },
   {
    "duration": 78,
    "start_time": "2022-07-07T15:22:10.143Z"
   },
   {
    "duration": 8,
    "start_time": "2022-07-07T15:22:18.853Z"
   },
   {
    "duration": 10,
    "start_time": "2022-07-07T15:22:38.585Z"
   },
   {
    "duration": 6,
    "start_time": "2022-07-07T15:22:45.613Z"
   },
   {
    "duration": 10,
    "start_time": "2022-07-07T15:23:12.285Z"
   },
   {
    "duration": 10,
    "start_time": "2022-07-07T15:23:47.492Z"
   },
   {
    "duration": 11,
    "start_time": "2022-07-07T15:23:49.016Z"
   },
   {
    "duration": 9,
    "start_time": "2022-07-07T15:23:49.511Z"
   },
   {
    "duration": 10,
    "start_time": "2022-07-07T15:23:49.942Z"
   },
   {
    "duration": 11,
    "start_time": "2022-07-07T15:23:50.696Z"
   },
   {
    "duration": 12,
    "start_time": "2022-07-07T15:23:50.946Z"
   },
   {
    "duration": 9,
    "start_time": "2022-07-07T15:23:51.443Z"
   },
   {
    "duration": 6,
    "start_time": "2022-07-07T15:23:55.540Z"
   },
   {
    "duration": 52,
    "start_time": "2022-07-07T15:24:02.688Z"
   },
   {
    "duration": 10,
    "start_time": "2022-07-07T15:24:07.289Z"
   },
   {
    "duration": 3,
    "start_time": "2022-07-07T15:24:19.191Z"
   },
   {
    "duration": 6,
    "start_time": "2022-07-07T15:24:22.189Z"
   },
   {
    "duration": 14,
    "start_time": "2022-07-07T15:24:30.203Z"
   },
   {
    "duration": 495,
    "start_time": "2022-07-07T15:24:39.487Z"
   },
   {
    "duration": 20,
    "start_time": "2022-07-07T15:24:39.987Z"
   },
   {
    "duration": 19,
    "start_time": "2022-07-07T15:24:40.009Z"
   },
   {
    "duration": 8,
    "start_time": "2022-07-07T15:24:40.030Z"
   },
   {
    "duration": 52,
    "start_time": "2022-07-07T15:24:40.041Z"
   },
   {
    "duration": 22,
    "start_time": "2022-07-07T15:24:40.095Z"
   },
   {
    "duration": 24,
    "start_time": "2022-07-07T15:24:40.120Z"
   },
   {
    "duration": 74,
    "start_time": "2022-07-07T15:24:40.146Z"
   },
   {
    "duration": 2,
    "start_time": "2022-07-07T15:24:40.222Z"
   },
   {
    "duration": 10,
    "start_time": "2022-07-07T15:24:40.226Z"
   },
   {
    "duration": 19,
    "start_time": "2022-07-07T15:24:40.238Z"
   },
   {
    "duration": 21,
    "start_time": "2022-07-07T15:24:40.259Z"
   },
   {
    "duration": 21,
    "start_time": "2022-07-07T15:24:40.292Z"
   },
   {
    "duration": 10,
    "start_time": "2022-07-07T15:24:40.316Z"
   },
   {
    "duration": 9,
    "start_time": "2022-07-07T15:24:40.327Z"
   },
   {
    "duration": 13,
    "start_time": "2022-07-07T15:24:40.338Z"
   },
   {
    "duration": 6,
    "start_time": "2022-07-07T15:24:40.353Z"
   },
   {
    "duration": 79,
    "start_time": "2022-07-07T15:24:40.361Z"
   },
   {
    "duration": 0,
    "start_time": "2022-07-07T15:24:40.443Z"
   },
   {
    "duration": 0,
    "start_time": "2022-07-07T15:24:40.445Z"
   },
   {
    "duration": 0,
    "start_time": "2022-07-07T15:24:40.446Z"
   },
   {
    "duration": 0,
    "start_time": "2022-07-07T15:24:40.447Z"
   },
   {
    "duration": 0,
    "start_time": "2022-07-07T15:24:40.448Z"
   },
   {
    "duration": 0,
    "start_time": "2022-07-07T15:24:40.449Z"
   },
   {
    "duration": 0,
    "start_time": "2022-07-07T15:24:40.451Z"
   },
   {
    "duration": 0,
    "start_time": "2022-07-07T15:24:40.452Z"
   },
   {
    "duration": 0,
    "start_time": "2022-07-07T15:24:40.454Z"
   },
   {
    "duration": 0,
    "start_time": "2022-07-07T15:24:40.455Z"
   },
   {
    "duration": 0,
    "start_time": "2022-07-07T15:24:40.457Z"
   },
   {
    "duration": 0,
    "start_time": "2022-07-07T15:24:40.458Z"
   },
   {
    "duration": 0,
    "start_time": "2022-07-07T15:24:40.462Z"
   },
   {
    "duration": 0,
    "start_time": "2022-07-07T15:24:40.464Z"
   },
   {
    "duration": 1,
    "start_time": "2022-07-07T15:24:40.464Z"
   },
   {
    "duration": 0,
    "start_time": "2022-07-07T15:24:40.465Z"
   },
   {
    "duration": 0,
    "start_time": "2022-07-07T15:24:40.466Z"
   },
   {
    "duration": 0,
    "start_time": "2022-07-07T15:24:40.467Z"
   },
   {
    "duration": 0,
    "start_time": "2022-07-07T15:24:40.468Z"
   },
   {
    "duration": 0,
    "start_time": "2022-07-07T15:24:40.472Z"
   },
   {
    "duration": 0,
    "start_time": "2022-07-07T15:24:40.473Z"
   },
   {
    "duration": 0,
    "start_time": "2022-07-07T15:24:40.475Z"
   },
   {
    "duration": 0,
    "start_time": "2022-07-07T15:24:40.475Z"
   },
   {
    "duration": 0,
    "start_time": "2022-07-07T15:24:40.476Z"
   },
   {
    "duration": 0,
    "start_time": "2022-07-07T15:24:40.477Z"
   },
   {
    "duration": 0,
    "start_time": "2022-07-07T15:24:40.478Z"
   },
   {
    "duration": 0,
    "start_time": "2022-07-07T15:24:40.482Z"
   },
   {
    "duration": 0,
    "start_time": "2022-07-07T15:24:40.483Z"
   },
   {
    "duration": 0,
    "start_time": "2022-07-07T15:24:40.496Z"
   },
   {
    "duration": 0,
    "start_time": "2022-07-07T15:24:40.497Z"
   },
   {
    "duration": 1,
    "start_time": "2022-07-07T15:24:40.497Z"
   },
   {
    "duration": 0,
    "start_time": "2022-07-07T15:24:40.498Z"
   },
   {
    "duration": 0,
    "start_time": "2022-07-07T15:24:40.499Z"
   },
   {
    "duration": 0,
    "start_time": "2022-07-07T15:24:40.500Z"
   },
   {
    "duration": 0,
    "start_time": "2022-07-07T15:24:40.501Z"
   },
   {
    "duration": 0,
    "start_time": "2022-07-07T15:24:40.502Z"
   },
   {
    "duration": 0,
    "start_time": "2022-07-07T15:24:40.502Z"
   },
   {
    "duration": 0,
    "start_time": "2022-07-07T15:24:40.512Z"
   },
   {
    "duration": 0,
    "start_time": "2022-07-07T15:24:40.513Z"
   },
   {
    "duration": 0,
    "start_time": "2022-07-07T15:24:40.514Z"
   },
   {
    "duration": 0,
    "start_time": "2022-07-07T15:24:40.516Z"
   },
   {
    "duration": 0,
    "start_time": "2022-07-07T15:24:40.517Z"
   },
   {
    "duration": 0,
    "start_time": "2022-07-07T15:24:40.518Z"
   },
   {
    "duration": 0,
    "start_time": "2022-07-07T15:24:40.519Z"
   },
   {
    "duration": 0,
    "start_time": "2022-07-07T15:24:40.521Z"
   },
   {
    "duration": 0,
    "start_time": "2022-07-07T15:24:40.522Z"
   },
   {
    "duration": 0,
    "start_time": "2022-07-07T15:24:40.523Z"
   },
   {
    "duration": 0,
    "start_time": "2022-07-07T15:24:40.527Z"
   },
   {
    "duration": 0,
    "start_time": "2022-07-07T15:24:40.562Z"
   },
   {
    "duration": 0,
    "start_time": "2022-07-07T15:24:40.567Z"
   },
   {
    "duration": 0,
    "start_time": "2022-07-07T15:24:40.568Z"
   },
   {
    "duration": 0,
    "start_time": "2022-07-07T15:24:40.568Z"
   },
   {
    "duration": 0,
    "start_time": "2022-07-07T15:24:40.569Z"
   },
   {
    "duration": 0,
    "start_time": "2022-07-07T15:24:40.569Z"
   },
   {
    "duration": 0,
    "start_time": "2022-07-07T15:24:40.570Z"
   },
   {
    "duration": 0,
    "start_time": "2022-07-07T15:24:40.575Z"
   },
   {
    "duration": 0,
    "start_time": "2022-07-07T15:24:40.576Z"
   },
   {
    "duration": 0,
    "start_time": "2022-07-07T15:24:40.577Z"
   },
   {
    "duration": 0,
    "start_time": "2022-07-07T15:24:40.578Z"
   },
   {
    "duration": 0,
    "start_time": "2022-07-07T15:24:40.579Z"
   },
   {
    "duration": 0,
    "start_time": "2022-07-07T15:24:40.583Z"
   },
   {
    "duration": 0,
    "start_time": "2022-07-07T15:24:40.584Z"
   },
   {
    "duration": 12,
    "start_time": "2022-07-07T15:25:08.733Z"
   },
   {
    "duration": 7,
    "start_time": "2022-07-07T15:25:11.596Z"
   },
   {
    "duration": 6,
    "start_time": "2022-07-07T15:25:15.003Z"
   },
   {
    "duration": 3,
    "start_time": "2022-07-07T15:25:18.654Z"
   },
   {
    "duration": 3,
    "start_time": "2022-07-07T15:25:21.418Z"
   },
   {
    "duration": 4,
    "start_time": "2022-07-07T15:25:24.542Z"
   },
   {
    "duration": 11,
    "start_time": "2022-07-07T15:25:44.279Z"
   },
   {
    "duration": 10,
    "start_time": "2022-07-07T15:25:53.514Z"
   },
   {
    "duration": 7,
    "start_time": "2022-07-07T15:25:58.795Z"
   },
   {
    "duration": 7,
    "start_time": "2022-07-07T15:26:05.196Z"
   },
   {
    "duration": 16,
    "start_time": "2022-07-07T15:26:10.952Z"
   },
   {
    "duration": 10,
    "start_time": "2022-07-07T15:26:18.341Z"
   },
   {
    "duration": 10,
    "start_time": "2022-07-07T16:53:07.724Z"
   },
   {
    "duration": 10,
    "start_time": "2022-07-07T16:53:11.380Z"
   },
   {
    "duration": 3,
    "start_time": "2022-07-07T16:53:32.286Z"
   },
   {
    "duration": 95,
    "start_time": "2022-07-07T17:07:28.614Z"
   },
   {
    "duration": 10,
    "start_time": "2022-07-07T17:07:48.630Z"
   },
   {
    "duration": 8,
    "start_time": "2022-07-07T17:08:04.885Z"
   },
   {
    "duration": 12,
    "start_time": "2022-07-07T17:08:23.849Z"
   },
   {
    "duration": 7,
    "start_time": "2022-07-07T17:08:27.607Z"
   },
   {
    "duration": 13,
    "start_time": "2022-07-07T17:08:36.768Z"
   },
   {
    "duration": 7,
    "start_time": "2022-07-07T17:08:50.354Z"
   },
   {
    "duration": 11,
    "start_time": "2022-07-07T17:08:58.515Z"
   },
   {
    "duration": 10,
    "start_time": "2022-07-07T17:09:16.944Z"
   },
   {
    "duration": 6,
    "start_time": "2022-07-07T17:09:30.434Z"
   },
   {
    "duration": 5,
    "start_time": "2022-07-07T17:09:45.621Z"
   },
   {
    "duration": 14,
    "start_time": "2022-07-07T17:09:52.080Z"
   },
   {
    "duration": 10,
    "start_time": "2022-07-07T17:10:05.984Z"
   },
   {
    "duration": 601,
    "start_time": "2022-07-07T17:10:16.177Z"
   },
   {
    "duration": 27,
    "start_time": "2022-07-07T17:10:16.782Z"
   },
   {
    "duration": 33,
    "start_time": "2022-07-07T17:10:16.810Z"
   },
   {
    "duration": 34,
    "start_time": "2022-07-07T17:10:16.845Z"
   },
   {
    "duration": 44,
    "start_time": "2022-07-07T17:10:16.881Z"
   },
   {
    "duration": 16,
    "start_time": "2022-07-07T17:10:16.927Z"
   },
   {
    "duration": 37,
    "start_time": "2022-07-07T17:10:16.945Z"
   },
   {
    "duration": 72,
    "start_time": "2022-07-07T17:10:16.984Z"
   },
   {
    "duration": 5,
    "start_time": "2022-07-07T17:10:17.062Z"
   },
   {
    "duration": 13,
    "start_time": "2022-07-07T17:10:17.074Z"
   },
   {
    "duration": 21,
    "start_time": "2022-07-07T17:10:17.089Z"
   },
   {
    "duration": 5,
    "start_time": "2022-07-07T17:10:17.113Z"
   },
   {
    "duration": 18,
    "start_time": "2022-07-07T17:10:17.120Z"
   },
   {
    "duration": 7,
    "start_time": "2022-07-07T17:10:17.140Z"
   },
   {
    "duration": 15,
    "start_time": "2022-07-07T17:10:17.149Z"
   },
   {
    "duration": 25,
    "start_time": "2022-07-07T17:10:17.165Z"
   },
   {
    "duration": 3,
    "start_time": "2022-07-07T17:10:17.192Z"
   },
   {
    "duration": 4,
    "start_time": "2022-07-07T17:10:17.197Z"
   },
   {
    "duration": 10,
    "start_time": "2022-07-07T17:10:17.203Z"
   },
   {
    "duration": 12,
    "start_time": "2022-07-07T17:10:17.215Z"
   },
   {
    "duration": 7,
    "start_time": "2022-07-07T17:10:17.228Z"
   },
   {
    "duration": 30,
    "start_time": "2022-07-07T17:10:17.238Z"
   },
   {
    "duration": 3,
    "start_time": "2022-07-07T17:10:17.280Z"
   },
   {
    "duration": 9,
    "start_time": "2022-07-07T17:10:17.285Z"
   },
   {
    "duration": 8,
    "start_time": "2022-07-07T17:10:17.296Z"
   },
   {
    "duration": 79,
    "start_time": "2022-07-07T17:10:17.306Z"
   },
   {
    "duration": 0,
    "start_time": "2022-07-07T17:10:17.388Z"
   },
   {
    "duration": 0,
    "start_time": "2022-07-07T17:10:17.389Z"
   },
   {
    "duration": 0,
    "start_time": "2022-07-07T17:10:17.390Z"
   },
   {
    "duration": 0,
    "start_time": "2022-07-07T17:10:17.391Z"
   },
   {
    "duration": 0,
    "start_time": "2022-07-07T17:10:17.393Z"
   },
   {
    "duration": 0,
    "start_time": "2022-07-07T17:10:17.394Z"
   },
   {
    "duration": 0,
    "start_time": "2022-07-07T17:10:17.395Z"
   },
   {
    "duration": 0,
    "start_time": "2022-07-07T17:10:17.397Z"
   },
   {
    "duration": 0,
    "start_time": "2022-07-07T17:10:17.398Z"
   },
   {
    "duration": 0,
    "start_time": "2022-07-07T17:10:17.400Z"
   },
   {
    "duration": 0,
    "start_time": "2022-07-07T17:10:17.401Z"
   },
   {
    "duration": 0,
    "start_time": "2022-07-07T17:10:17.402Z"
   },
   {
    "duration": 0,
    "start_time": "2022-07-07T17:10:17.404Z"
   },
   {
    "duration": 0,
    "start_time": "2022-07-07T17:10:17.406Z"
   },
   {
    "duration": 0,
    "start_time": "2022-07-07T17:10:17.407Z"
   },
   {
    "duration": 0,
    "start_time": "2022-07-07T17:10:17.408Z"
   },
   {
    "duration": 0,
    "start_time": "2022-07-07T17:10:17.410Z"
   },
   {
    "duration": 0,
    "start_time": "2022-07-07T17:10:17.411Z"
   },
   {
    "duration": 0,
    "start_time": "2022-07-07T17:10:17.412Z"
   },
   {
    "duration": 0,
    "start_time": "2022-07-07T17:10:17.413Z"
   },
   {
    "duration": 0,
    "start_time": "2022-07-07T17:10:17.415Z"
   },
   {
    "duration": 0,
    "start_time": "2022-07-07T17:10:17.416Z"
   },
   {
    "duration": 0,
    "start_time": "2022-07-07T17:10:17.416Z"
   },
   {
    "duration": 0,
    "start_time": "2022-07-07T17:10:17.417Z"
   },
   {
    "duration": 0,
    "start_time": "2022-07-07T17:10:17.418Z"
   },
   {
    "duration": 0,
    "start_time": "2022-07-07T17:10:17.460Z"
   },
   {
    "duration": 0,
    "start_time": "2022-07-07T17:10:17.461Z"
   },
   {
    "duration": 0,
    "start_time": "2022-07-07T17:10:17.464Z"
   },
   {
    "duration": 0,
    "start_time": "2022-07-07T17:10:17.465Z"
   },
   {
    "duration": 0,
    "start_time": "2022-07-07T17:10:17.466Z"
   },
   {
    "duration": 0,
    "start_time": "2022-07-07T17:10:17.468Z"
   },
   {
    "duration": 0,
    "start_time": "2022-07-07T17:10:17.469Z"
   },
   {
    "duration": 0,
    "start_time": "2022-07-07T17:10:17.470Z"
   },
   {
    "duration": 0,
    "start_time": "2022-07-07T17:10:17.471Z"
   },
   {
    "duration": 0,
    "start_time": "2022-07-07T17:10:17.471Z"
   },
   {
    "duration": 0,
    "start_time": "2022-07-07T17:10:17.472Z"
   },
   {
    "duration": 0,
    "start_time": "2022-07-07T17:10:17.473Z"
   },
   {
    "duration": 0,
    "start_time": "2022-07-07T17:10:17.474Z"
   },
   {
    "duration": 0,
    "start_time": "2022-07-07T17:10:17.475Z"
   },
   {
    "duration": 0,
    "start_time": "2022-07-07T17:10:17.476Z"
   },
   {
    "duration": 0,
    "start_time": "2022-07-07T17:10:17.476Z"
   },
   {
    "duration": 0,
    "start_time": "2022-07-07T17:10:17.477Z"
   },
   {
    "duration": 0,
    "start_time": "2022-07-07T17:10:17.478Z"
   },
   {
    "duration": 0,
    "start_time": "2022-07-07T17:10:17.479Z"
   },
   {
    "duration": 0,
    "start_time": "2022-07-07T17:10:17.480Z"
   },
   {
    "duration": 0,
    "start_time": "2022-07-07T17:10:17.480Z"
   },
   {
    "duration": 0,
    "start_time": "2022-07-07T17:10:17.481Z"
   },
   {
    "duration": 0,
    "start_time": "2022-07-07T17:10:17.482Z"
   },
   {
    "duration": 0,
    "start_time": "2022-07-07T17:10:17.485Z"
   },
   {
    "duration": 0,
    "start_time": "2022-07-07T17:10:17.486Z"
   },
   {
    "duration": 0,
    "start_time": "2022-07-07T17:10:17.488Z"
   },
   {
    "duration": 0,
    "start_time": "2022-07-07T17:10:17.489Z"
   },
   {
    "duration": 0,
    "start_time": "2022-07-07T17:10:17.491Z"
   },
   {
    "duration": 10,
    "start_time": "2022-07-07T17:11:33.314Z"
   },
   {
    "duration": 10,
    "start_time": "2022-07-07T17:12:13.044Z"
   },
   {
    "duration": 12,
    "start_time": "2022-07-07T17:12:16.609Z"
   },
   {
    "duration": 3,
    "start_time": "2022-07-07T17:12:50.444Z"
   },
   {
    "duration": 7,
    "start_time": "2022-07-07T17:12:52.724Z"
   },
   {
    "duration": 11,
    "start_time": "2022-07-07T17:15:32.727Z"
   },
   {
    "duration": 11,
    "start_time": "2022-07-07T17:15:36.526Z"
   },
   {
    "duration": 9,
    "start_time": "2022-07-07T17:15:45.923Z"
   },
   {
    "duration": 6,
    "start_time": "2022-07-07T17:15:50.116Z"
   },
   {
    "duration": 4,
    "start_time": "2022-07-07T17:15:58.289Z"
   },
   {
    "duration": 13,
    "start_time": "2022-07-07T17:16:00.058Z"
   },
   {
    "duration": 10,
    "start_time": "2022-07-07T17:16:02.677Z"
   },
   {
    "duration": 10,
    "start_time": "2022-07-07T17:16:34.383Z"
   },
   {
    "duration": 8,
    "start_time": "2022-07-07T17:17:26.196Z"
   },
   {
    "duration": 12,
    "start_time": "2022-07-07T17:17:40.677Z"
   },
   {
    "duration": 9,
    "start_time": "2022-07-07T17:17:58.811Z"
   },
   {
    "duration": 11,
    "start_time": "2022-07-07T17:18:02.434Z"
   },
   {
    "duration": 51,
    "start_time": "2022-07-07T17:18:12.746Z"
   },
   {
    "duration": 472,
    "start_time": "2022-07-07T17:18:21.873Z"
   },
   {
    "duration": 27,
    "start_time": "2022-07-07T17:18:22.347Z"
   },
   {
    "duration": 19,
    "start_time": "2022-07-07T17:18:22.376Z"
   },
   {
    "duration": 8,
    "start_time": "2022-07-07T17:18:22.398Z"
   },
   {
    "duration": 14,
    "start_time": "2022-07-07T17:18:22.407Z"
   },
   {
    "duration": 11,
    "start_time": "2022-07-07T17:18:22.423Z"
   },
   {
    "duration": 36,
    "start_time": "2022-07-07T17:18:22.435Z"
   },
   {
    "duration": 63,
    "start_time": "2022-07-07T17:18:22.472Z"
   },
   {
    "duration": 2,
    "start_time": "2022-07-07T17:18:22.537Z"
   },
   {
    "duration": 37,
    "start_time": "2022-07-07T17:18:22.543Z"
   },
   {
    "duration": 24,
    "start_time": "2022-07-07T17:18:22.583Z"
   },
   {
    "duration": 5,
    "start_time": "2022-07-07T17:18:22.609Z"
   },
   {
    "duration": 15,
    "start_time": "2022-07-07T17:18:22.616Z"
   },
   {
    "duration": 3,
    "start_time": "2022-07-07T17:18:22.633Z"
   },
   {
    "duration": 14,
    "start_time": "2022-07-07T17:18:22.638Z"
   },
   {
    "duration": 21,
    "start_time": "2022-07-07T17:18:22.653Z"
   },
   {
    "duration": 8,
    "start_time": "2022-07-07T17:18:22.677Z"
   },
   {
    "duration": 13,
    "start_time": "2022-07-07T17:18:22.687Z"
   },
   {
    "duration": 25,
    "start_time": "2022-07-07T17:18:22.701Z"
   },
   {
    "duration": 16,
    "start_time": "2022-07-07T17:18:22.729Z"
   },
   {
    "duration": 21,
    "start_time": "2022-07-07T17:18:22.747Z"
   },
   {
    "duration": 11,
    "start_time": "2022-07-07T17:18:22.770Z"
   },
   {
    "duration": 10,
    "start_time": "2022-07-07T17:18:22.783Z"
   },
   {
    "duration": 9,
    "start_time": "2022-07-07T17:18:22.795Z"
   },
   {
    "duration": 7,
    "start_time": "2022-07-07T17:18:22.805Z"
   },
   {
    "duration": 14,
    "start_time": "2022-07-07T17:18:22.814Z"
   },
   {
    "duration": 2,
    "start_time": "2022-07-07T17:18:22.830Z"
   },
   {
    "duration": 6,
    "start_time": "2022-07-07T17:18:22.838Z"
   },
   {
    "duration": 15,
    "start_time": "2022-07-07T17:18:22.845Z"
   },
   {
    "duration": 3,
    "start_time": "2022-07-07T17:18:22.863Z"
   },
   {
    "duration": 13,
    "start_time": "2022-07-07T17:18:22.871Z"
   },
   {
    "duration": 6,
    "start_time": "2022-07-07T17:18:22.886Z"
   },
   {
    "duration": 6,
    "start_time": "2022-07-07T17:18:22.893Z"
   },
   {
    "duration": 5,
    "start_time": "2022-07-07T17:18:22.900Z"
   },
   {
    "duration": 4,
    "start_time": "2022-07-07T17:18:22.907Z"
   },
   {
    "duration": 7,
    "start_time": "2022-07-07T17:18:22.913Z"
   },
   {
    "duration": 5,
    "start_time": "2022-07-07T17:18:22.921Z"
   },
   {
    "duration": 4,
    "start_time": "2022-07-07T17:18:22.928Z"
   },
   {
    "duration": 5,
    "start_time": "2022-07-07T17:18:22.934Z"
   },
   {
    "duration": 5,
    "start_time": "2022-07-07T17:18:22.940Z"
   },
   {
    "duration": 7,
    "start_time": "2022-07-07T17:18:22.946Z"
   },
   {
    "duration": 19,
    "start_time": "2022-07-07T17:18:22.955Z"
   },
   {
    "duration": 8,
    "start_time": "2022-07-07T17:18:22.976Z"
   },
   {
    "duration": 5,
    "start_time": "2022-07-07T17:18:22.985Z"
   },
   {
    "duration": 5,
    "start_time": "2022-07-07T17:18:22.992Z"
   },
   {
    "duration": 5,
    "start_time": "2022-07-07T17:18:22.999Z"
   },
   {
    "duration": 5,
    "start_time": "2022-07-07T17:18:23.005Z"
   },
   {
    "duration": 4,
    "start_time": "2022-07-07T17:18:23.012Z"
   },
   {
    "duration": 5,
    "start_time": "2022-07-07T17:18:23.018Z"
   },
   {
    "duration": 4,
    "start_time": "2022-07-07T17:18:23.025Z"
   },
   {
    "duration": 5,
    "start_time": "2022-07-07T17:18:23.031Z"
   },
   {
    "duration": 10,
    "start_time": "2022-07-07T17:18:23.037Z"
   },
   {
    "duration": 19,
    "start_time": "2022-07-07T17:18:23.049Z"
   },
   {
    "duration": 7,
    "start_time": "2022-07-07T17:18:23.070Z"
   },
   {
    "duration": 8,
    "start_time": "2022-07-07T17:18:23.078Z"
   },
   {
    "duration": 5,
    "start_time": "2022-07-07T17:18:23.087Z"
   },
   {
    "duration": 4,
    "start_time": "2022-07-07T17:18:23.094Z"
   },
   {
    "duration": 5,
    "start_time": "2022-07-07T17:18:23.100Z"
   },
   {
    "duration": 6,
    "start_time": "2022-07-07T17:18:23.106Z"
   },
   {
    "duration": 7,
    "start_time": "2022-07-07T17:18:23.113Z"
   },
   {
    "duration": 5,
    "start_time": "2022-07-07T17:18:23.122Z"
   },
   {
    "duration": 7,
    "start_time": "2022-07-07T17:18:23.129Z"
   },
   {
    "duration": 9,
    "start_time": "2022-07-07T17:18:23.137Z"
   },
   {
    "duration": 9,
    "start_time": "2022-07-07T17:18:23.148Z"
   },
   {
    "duration": 28,
    "start_time": "2022-07-07T17:18:23.158Z"
   },
   {
    "duration": 6,
    "start_time": "2022-07-07T17:18:23.188Z"
   },
   {
    "duration": 6,
    "start_time": "2022-07-07T17:18:23.196Z"
   },
   {
    "duration": 5,
    "start_time": "2022-07-07T17:18:23.204Z"
   },
   {
    "duration": 5,
    "start_time": "2022-07-07T17:18:23.212Z"
   },
   {
    "duration": 8,
    "start_time": "2022-07-07T17:18:23.219Z"
   },
   {
    "duration": 8,
    "start_time": "2022-07-07T17:18:23.228Z"
   },
   {
    "duration": 7,
    "start_time": "2022-07-07T17:18:23.238Z"
   },
   {
    "duration": 6,
    "start_time": "2022-07-07T17:18:23.247Z"
   },
   {
    "duration": 5,
    "start_time": "2022-07-07T17:18:23.255Z"
   },
   {
    "duration": 20,
    "start_time": "2022-07-07T17:18:23.261Z"
   },
   {
    "duration": 7,
    "start_time": "2022-07-07T17:18:23.282Z"
   },
   {
    "duration": 10,
    "start_time": "2022-07-07T17:18:23.291Z"
   },
   {
    "duration": 5,
    "start_time": "2022-07-07T17:18:23.302Z"
   },
   {
    "duration": 4,
    "start_time": "2022-07-07T17:18:23.308Z"
   },
   {
    "duration": 7,
    "start_time": "2022-07-07T17:18:23.314Z"
   },
   {
    "duration": 62,
    "start_time": "2022-07-07T17:18:43.397Z"
   },
   {
    "duration": 9,
    "start_time": "2022-07-07T17:19:01.611Z"
   },
   {
    "duration": 4,
    "start_time": "2022-07-07T17:19:17.397Z"
   },
   {
    "duration": 6,
    "start_time": "2022-07-07T17:19:21.719Z"
   },
   {
    "duration": 10,
    "start_time": "2022-07-07T17:19:40.180Z"
   },
   {
    "duration": 14,
    "start_time": "2022-07-07T17:19:50.820Z"
   },
   {
    "duration": 3,
    "start_time": "2022-07-07T17:20:28.089Z"
   },
   {
    "duration": 9,
    "start_time": "2022-07-07T17:20:58.423Z"
   },
   {
    "duration": 47,
    "start_time": "2022-07-07T17:22:10.179Z"
   },
   {
    "duration": 10,
    "start_time": "2022-07-07T17:22:19.686Z"
   },
   {
    "duration": 18,
    "start_time": "2022-07-07T17:23:20.447Z"
   },
   {
    "duration": 24,
    "start_time": "2022-07-07T17:23:26.351Z"
   },
   {
    "duration": 6,
    "start_time": "2022-07-07T17:23:37.704Z"
   },
   {
    "duration": 13,
    "start_time": "2022-07-07T17:23:54.459Z"
   },
   {
    "duration": 5,
    "start_time": "2022-07-07T17:25:18.253Z"
   },
   {
    "duration": 11,
    "start_time": "2022-07-07T17:27:02.176Z"
   },
   {
    "duration": 20,
    "start_time": "2022-07-07T17:27:13.951Z"
   },
   {
    "duration": 462,
    "start_time": "2022-07-07T17:27:22.397Z"
   },
   {
    "duration": 23,
    "start_time": "2022-07-07T17:27:22.868Z"
   },
   {
    "duration": 27,
    "start_time": "2022-07-07T17:27:22.892Z"
   },
   {
    "duration": 5,
    "start_time": "2022-07-07T17:27:22.921Z"
   },
   {
    "duration": 15,
    "start_time": "2022-07-07T17:27:22.927Z"
   },
   {
    "duration": 34,
    "start_time": "2022-07-07T17:27:22.943Z"
   },
   {
    "duration": 19,
    "start_time": "2022-07-07T17:27:22.979Z"
   },
   {
    "duration": 80,
    "start_time": "2022-07-07T17:27:23.000Z"
   },
   {
    "duration": 2,
    "start_time": "2022-07-07T17:27:23.081Z"
   },
   {
    "duration": 7,
    "start_time": "2022-07-07T17:27:23.085Z"
   },
   {
    "duration": 18,
    "start_time": "2022-07-07T17:27:23.094Z"
   },
   {
    "duration": 4,
    "start_time": "2022-07-07T17:27:23.114Z"
   },
   {
    "duration": 12,
    "start_time": "2022-07-07T17:27:23.120Z"
   },
   {
    "duration": 35,
    "start_time": "2022-07-07T17:27:23.134Z"
   },
   {
    "duration": 18,
    "start_time": "2022-07-07T17:27:23.171Z"
   },
   {
    "duration": 9,
    "start_time": "2022-07-07T17:27:23.190Z"
   },
   {
    "duration": 2,
    "start_time": "2022-07-07T17:27:23.200Z"
   },
   {
    "duration": 12,
    "start_time": "2022-07-07T17:27:23.204Z"
   },
   {
    "duration": 7,
    "start_time": "2022-07-07T17:27:23.218Z"
   },
   {
    "duration": 10,
    "start_time": "2022-07-07T17:27:23.227Z"
   },
   {
    "duration": 27,
    "start_time": "2022-07-07T17:27:23.239Z"
   },
   {
    "duration": 10,
    "start_time": "2022-07-07T17:27:23.268Z"
   },
   {
    "duration": 13,
    "start_time": "2022-07-07T17:27:23.281Z"
   },
   {
    "duration": 5,
    "start_time": "2022-07-07T17:27:23.295Z"
   },
   {
    "duration": 7,
    "start_time": "2022-07-07T17:27:23.301Z"
   },
   {
    "duration": 10,
    "start_time": "2022-07-07T17:27:23.310Z"
   },
   {
    "duration": 85,
    "start_time": "2022-07-07T17:27:23.322Z"
   },
   {
    "duration": 0,
    "start_time": "2022-07-07T17:27:23.410Z"
   },
   {
    "duration": 0,
    "start_time": "2022-07-07T17:27:23.411Z"
   },
   {
    "duration": 0,
    "start_time": "2022-07-07T17:27:23.412Z"
   },
   {
    "duration": 0,
    "start_time": "2022-07-07T17:27:23.413Z"
   },
   {
    "duration": 0,
    "start_time": "2022-07-07T17:27:23.415Z"
   },
   {
    "duration": 0,
    "start_time": "2022-07-07T17:27:23.416Z"
   },
   {
    "duration": 0,
    "start_time": "2022-07-07T17:27:23.417Z"
   },
   {
    "duration": 0,
    "start_time": "2022-07-07T17:27:23.419Z"
   },
   {
    "duration": 0,
    "start_time": "2022-07-07T17:27:23.420Z"
   },
   {
    "duration": 0,
    "start_time": "2022-07-07T17:27:23.421Z"
   },
   {
    "duration": 0,
    "start_time": "2022-07-07T17:27:23.422Z"
   },
   {
    "duration": 1,
    "start_time": "2022-07-07T17:27:23.423Z"
   },
   {
    "duration": 0,
    "start_time": "2022-07-07T17:27:23.425Z"
   },
   {
    "duration": 1,
    "start_time": "2022-07-07T17:27:23.426Z"
   },
   {
    "duration": 0,
    "start_time": "2022-07-07T17:27:23.428Z"
   },
   {
    "duration": 0,
    "start_time": "2022-07-07T17:27:23.430Z"
   },
   {
    "duration": 0,
    "start_time": "2022-07-07T17:27:23.464Z"
   },
   {
    "duration": 0,
    "start_time": "2022-07-07T17:27:23.464Z"
   },
   {
    "duration": 0,
    "start_time": "2022-07-07T17:27:23.469Z"
   },
   {
    "duration": 0,
    "start_time": "2022-07-07T17:27:23.470Z"
   },
   {
    "duration": 0,
    "start_time": "2022-07-07T17:27:23.472Z"
   },
   {
    "duration": 0,
    "start_time": "2022-07-07T17:27:23.473Z"
   },
   {
    "duration": 0,
    "start_time": "2022-07-07T17:27:23.475Z"
   },
   {
    "duration": 0,
    "start_time": "2022-07-07T17:27:23.476Z"
   },
   {
    "duration": 0,
    "start_time": "2022-07-07T17:27:23.478Z"
   },
   {
    "duration": 0,
    "start_time": "2022-07-07T17:27:23.479Z"
   },
   {
    "duration": 0,
    "start_time": "2022-07-07T17:27:23.480Z"
   },
   {
    "duration": 0,
    "start_time": "2022-07-07T17:27:23.482Z"
   },
   {
    "duration": 0,
    "start_time": "2022-07-07T17:27:23.483Z"
   },
   {
    "duration": 0,
    "start_time": "2022-07-07T17:27:23.484Z"
   },
   {
    "duration": 0,
    "start_time": "2022-07-07T17:27:23.485Z"
   },
   {
    "duration": 0,
    "start_time": "2022-07-07T17:27:23.486Z"
   },
   {
    "duration": 0,
    "start_time": "2022-07-07T17:27:23.487Z"
   },
   {
    "duration": 0,
    "start_time": "2022-07-07T17:27:23.488Z"
   },
   {
    "duration": 0,
    "start_time": "2022-07-07T17:27:23.489Z"
   },
   {
    "duration": 0,
    "start_time": "2022-07-07T17:27:23.490Z"
   },
   {
    "duration": 0,
    "start_time": "2022-07-07T17:27:23.491Z"
   },
   {
    "duration": 0,
    "start_time": "2022-07-07T17:27:23.492Z"
   },
   {
    "duration": 0,
    "start_time": "2022-07-07T17:27:23.493Z"
   },
   {
    "duration": 0,
    "start_time": "2022-07-07T17:27:23.494Z"
   },
   {
    "duration": 0,
    "start_time": "2022-07-07T17:27:23.496Z"
   },
   {
    "duration": 0,
    "start_time": "2022-07-07T17:27:23.497Z"
   },
   {
    "duration": 0,
    "start_time": "2022-07-07T17:27:23.498Z"
   },
   {
    "duration": 0,
    "start_time": "2022-07-07T17:27:23.499Z"
   },
   {
    "duration": 0,
    "start_time": "2022-07-07T17:27:23.500Z"
   },
   {
    "duration": 0,
    "start_time": "2022-07-07T17:27:23.501Z"
   },
   {
    "duration": 0,
    "start_time": "2022-07-07T17:27:23.502Z"
   },
   {
    "duration": 0,
    "start_time": "2022-07-07T17:27:23.564Z"
   },
   {
    "duration": 0,
    "start_time": "2022-07-07T17:27:23.567Z"
   },
   {
    "duration": 0,
    "start_time": "2022-07-07T17:27:23.573Z"
   },
   {
    "duration": 0,
    "start_time": "2022-07-07T17:27:23.575Z"
   },
   {
    "duration": 0,
    "start_time": "2022-07-07T17:27:23.576Z"
   },
   {
    "duration": 0,
    "start_time": "2022-07-07T17:27:23.576Z"
   },
   {
    "duration": 5,
    "start_time": "2022-07-07T17:28:10.407Z"
   },
   {
    "duration": 12,
    "start_time": "2022-07-07T17:30:45.713Z"
   },
   {
    "duration": 10,
    "start_time": "2022-07-07T17:31:03.079Z"
   },
   {
    "duration": 10,
    "start_time": "2022-07-07T17:31:09.789Z"
   },
   {
    "duration": 441,
    "start_time": "2022-07-07T17:31:19.214Z"
   },
   {
    "duration": 26,
    "start_time": "2022-07-07T17:31:19.657Z"
   },
   {
    "duration": 21,
    "start_time": "2022-07-07T17:31:19.685Z"
   },
   {
    "duration": 12,
    "start_time": "2022-07-07T17:31:19.708Z"
   },
   {
    "duration": 14,
    "start_time": "2022-07-07T17:31:19.721Z"
   },
   {
    "duration": 11,
    "start_time": "2022-07-07T17:31:19.736Z"
   },
   {
    "duration": 41,
    "start_time": "2022-07-07T17:31:19.748Z"
   },
   {
    "duration": 55,
    "start_time": "2022-07-07T17:31:19.791Z"
   },
   {
    "duration": 2,
    "start_time": "2022-07-07T17:31:19.848Z"
   },
   {
    "duration": 12,
    "start_time": "2022-07-07T17:31:19.852Z"
   },
   {
    "duration": 23,
    "start_time": "2022-07-07T17:31:19.869Z"
   },
   {
    "duration": 4,
    "start_time": "2022-07-07T17:31:19.893Z"
   },
   {
    "duration": 17,
    "start_time": "2022-07-07T17:31:19.899Z"
   },
   {
    "duration": 4,
    "start_time": "2022-07-07T17:31:19.918Z"
   },
   {
    "duration": 11,
    "start_time": "2022-07-07T17:31:19.923Z"
   },
   {
    "duration": 10,
    "start_time": "2022-07-07T17:31:19.935Z"
   },
   {
    "duration": 15,
    "start_time": "2022-07-07T17:31:19.962Z"
   },
   {
    "duration": 8,
    "start_time": "2022-07-07T17:31:19.978Z"
   },
   {
    "duration": 12,
    "start_time": "2022-07-07T17:31:19.987Z"
   },
   {
    "duration": 23,
    "start_time": "2022-07-07T17:31:20.000Z"
   },
   {
    "duration": 7,
    "start_time": "2022-07-07T17:31:20.025Z"
   },
   {
    "duration": 12,
    "start_time": "2022-07-07T17:31:20.034Z"
   },
   {
    "duration": 39,
    "start_time": "2022-07-07T17:31:20.048Z"
   },
   {
    "duration": 20,
    "start_time": "2022-07-07T17:31:20.089Z"
   },
   {
    "duration": 35,
    "start_time": "2022-07-07T17:31:20.110Z"
   },
   {
    "duration": 13,
    "start_time": "2022-07-07T17:31:20.147Z"
   },
   {
    "duration": 77,
    "start_time": "2022-07-07T17:31:20.172Z"
   },
   {
    "duration": 0,
    "start_time": "2022-07-07T17:31:20.252Z"
   },
   {
    "duration": 0,
    "start_time": "2022-07-07T17:31:20.254Z"
   },
   {
    "duration": 0,
    "start_time": "2022-07-07T17:31:20.255Z"
   },
   {
    "duration": 0,
    "start_time": "2022-07-07T17:31:20.257Z"
   },
   {
    "duration": 0,
    "start_time": "2022-07-07T17:31:20.258Z"
   },
   {
    "duration": 0,
    "start_time": "2022-07-07T17:31:20.263Z"
   },
   {
    "duration": 0,
    "start_time": "2022-07-07T17:31:20.264Z"
   },
   {
    "duration": 1,
    "start_time": "2022-07-07T17:31:20.264Z"
   },
   {
    "duration": 0,
    "start_time": "2022-07-07T17:31:20.271Z"
   },
   {
    "duration": 0,
    "start_time": "2022-07-07T17:31:20.273Z"
   },
   {
    "duration": 0,
    "start_time": "2022-07-07T17:31:20.276Z"
   },
   {
    "duration": 0,
    "start_time": "2022-07-07T17:31:20.277Z"
   },
   {
    "duration": 0,
    "start_time": "2022-07-07T17:31:20.278Z"
   },
   {
    "duration": 0,
    "start_time": "2022-07-07T17:31:20.279Z"
   },
   {
    "duration": 0,
    "start_time": "2022-07-07T17:31:20.280Z"
   },
   {
    "duration": 0,
    "start_time": "2022-07-07T17:31:20.280Z"
   },
   {
    "duration": 0,
    "start_time": "2022-07-07T17:31:20.281Z"
   },
   {
    "duration": 0,
    "start_time": "2022-07-07T17:31:20.282Z"
   },
   {
    "duration": 0,
    "start_time": "2022-07-07T17:31:20.284Z"
   },
   {
    "duration": 0,
    "start_time": "2022-07-07T17:31:20.285Z"
   },
   {
    "duration": 0,
    "start_time": "2022-07-07T17:31:20.287Z"
   },
   {
    "duration": 0,
    "start_time": "2022-07-07T17:31:20.288Z"
   },
   {
    "duration": 0,
    "start_time": "2022-07-07T17:31:20.290Z"
   },
   {
    "duration": 0,
    "start_time": "2022-07-07T17:31:20.291Z"
   },
   {
    "duration": 0,
    "start_time": "2022-07-07T17:31:20.295Z"
   },
   {
    "duration": 0,
    "start_time": "2022-07-07T17:31:20.296Z"
   },
   {
    "duration": 0,
    "start_time": "2022-07-07T17:31:20.298Z"
   },
   {
    "duration": 0,
    "start_time": "2022-07-07T17:31:20.300Z"
   },
   {
    "duration": 0,
    "start_time": "2022-07-07T17:31:20.302Z"
   },
   {
    "duration": 0,
    "start_time": "2022-07-07T17:31:20.303Z"
   },
   {
    "duration": 0,
    "start_time": "2022-07-07T17:31:20.304Z"
   },
   {
    "duration": 0,
    "start_time": "2022-07-07T17:31:20.305Z"
   },
   {
    "duration": 0,
    "start_time": "2022-07-07T17:31:20.307Z"
   },
   {
    "duration": 0,
    "start_time": "2022-07-07T17:31:20.308Z"
   },
   {
    "duration": 0,
    "start_time": "2022-07-07T17:31:20.309Z"
   },
   {
    "duration": 0,
    "start_time": "2022-07-07T17:31:20.310Z"
   },
   {
    "duration": 0,
    "start_time": "2022-07-07T17:31:20.375Z"
   },
   {
    "duration": 0,
    "start_time": "2022-07-07T17:31:20.376Z"
   },
   {
    "duration": 0,
    "start_time": "2022-07-07T17:31:20.377Z"
   },
   {
    "duration": 0,
    "start_time": "2022-07-07T17:31:20.379Z"
   },
   {
    "duration": 0,
    "start_time": "2022-07-07T17:31:20.380Z"
   },
   {
    "duration": 0,
    "start_time": "2022-07-07T17:31:20.381Z"
   },
   {
    "duration": 0,
    "start_time": "2022-07-07T17:31:20.382Z"
   },
   {
    "duration": 0,
    "start_time": "2022-07-07T17:31:20.383Z"
   },
   {
    "duration": 0,
    "start_time": "2022-07-07T17:31:20.385Z"
   },
   {
    "duration": 0,
    "start_time": "2022-07-07T17:31:20.385Z"
   },
   {
    "duration": 0,
    "start_time": "2022-07-07T17:31:20.386Z"
   },
   {
    "duration": 0,
    "start_time": "2022-07-07T17:31:20.387Z"
   },
   {
    "duration": 0,
    "start_time": "2022-07-07T17:31:20.388Z"
   },
   {
    "duration": 0,
    "start_time": "2022-07-07T17:31:20.389Z"
   },
   {
    "duration": 0,
    "start_time": "2022-07-07T17:31:20.391Z"
   },
   {
    "duration": 0,
    "start_time": "2022-07-07T17:31:20.392Z"
   },
   {
    "duration": 0,
    "start_time": "2022-07-07T17:31:20.393Z"
   },
   {
    "duration": 0,
    "start_time": "2022-07-07T17:31:20.394Z"
   },
   {
    "duration": 2,
    "start_time": "2022-07-07T17:32:09.507Z"
   },
   {
    "duration": 9,
    "start_time": "2022-07-07T17:32:39.776Z"
   },
   {
    "duration": 5,
    "start_time": "2022-07-07T17:33:12.376Z"
   },
   {
    "duration": 10,
    "start_time": "2022-07-07T17:37:44.183Z"
   },
   {
    "duration": 10,
    "start_time": "2022-07-07T17:38:00.078Z"
   },
   {
    "duration": 6,
    "start_time": "2022-07-07T17:38:54.655Z"
   },
   {
    "duration": 13,
    "start_time": "2022-07-07T17:40:08.477Z"
   },
   {
    "duration": 482,
    "start_time": "2022-07-07T17:40:14.855Z"
   },
   {
    "duration": 21,
    "start_time": "2022-07-07T17:40:15.339Z"
   },
   {
    "duration": 37,
    "start_time": "2022-07-07T17:40:15.363Z"
   },
   {
    "duration": 6,
    "start_time": "2022-07-07T17:40:15.403Z"
   },
   {
    "duration": 14,
    "start_time": "2022-07-07T17:40:15.411Z"
   },
   {
    "duration": 13,
    "start_time": "2022-07-07T17:40:15.427Z"
   },
   {
    "duration": 29,
    "start_time": "2022-07-07T17:40:15.441Z"
   },
   {
    "duration": 60,
    "start_time": "2022-07-07T17:40:15.472Z"
   },
   {
    "duration": 3,
    "start_time": "2022-07-07T17:40:15.534Z"
   },
   {
    "duration": 5,
    "start_time": "2022-07-07T17:40:15.539Z"
   },
   {
    "duration": 21,
    "start_time": "2022-07-07T17:40:15.563Z"
   },
   {
    "duration": 5,
    "start_time": "2022-07-07T17:40:15.586Z"
   },
   {
    "duration": 17,
    "start_time": "2022-07-07T17:40:15.593Z"
   },
   {
    "duration": 9,
    "start_time": "2022-07-07T17:40:15.612Z"
   },
   {
    "duration": 11,
    "start_time": "2022-07-07T17:40:15.623Z"
   },
   {
    "duration": 12,
    "start_time": "2022-07-07T17:40:15.635Z"
   },
   {
    "duration": 3,
    "start_time": "2022-07-07T17:40:15.666Z"
   },
   {
    "duration": 18,
    "start_time": "2022-07-07T17:40:15.670Z"
   },
   {
    "duration": 15,
    "start_time": "2022-07-07T17:40:15.690Z"
   },
   {
    "duration": 22,
    "start_time": "2022-07-07T17:40:15.707Z"
   },
   {
    "duration": 11,
    "start_time": "2022-07-07T17:40:15.730Z"
   },
   {
    "duration": 14,
    "start_time": "2022-07-07T17:40:15.743Z"
   },
   {
    "duration": 34,
    "start_time": "2022-07-07T17:40:15.759Z"
   },
   {
    "duration": 6,
    "start_time": "2022-07-07T17:40:15.795Z"
   },
   {
    "duration": 28,
    "start_time": "2022-07-07T17:40:15.802Z"
   },
   {
    "duration": 42,
    "start_time": "2022-07-07T17:40:15.833Z"
   },
   {
    "duration": 2,
    "start_time": "2022-07-07T17:40:15.877Z"
   },
   {
    "duration": 10,
    "start_time": "2022-07-07T17:40:15.884Z"
   },
   {
    "duration": 10,
    "start_time": "2022-07-07T17:40:15.895Z"
   },
   {
    "duration": 9,
    "start_time": "2022-07-07T17:40:15.907Z"
   },
   {
    "duration": 4,
    "start_time": "2022-07-07T17:40:15.917Z"
   },
   {
    "duration": 6,
    "start_time": "2022-07-07T17:40:15.923Z"
   },
   {
    "duration": 32,
    "start_time": "2022-07-07T17:40:15.931Z"
   },
   {
    "duration": 2,
    "start_time": "2022-07-07T17:40:15.972Z"
   },
   {
    "duration": 11,
    "start_time": "2022-07-07T17:40:15.975Z"
   },
   {
    "duration": 5,
    "start_time": "2022-07-07T17:40:15.987Z"
   },
   {
    "duration": 7,
    "start_time": "2022-07-07T17:40:15.993Z"
   },
   {
    "duration": 6,
    "start_time": "2022-07-07T17:40:16.001Z"
   },
   {
    "duration": 6,
    "start_time": "2022-07-07T17:40:16.009Z"
   },
   {
    "duration": 6,
    "start_time": "2022-07-07T17:40:16.017Z"
   },
   {
    "duration": 5,
    "start_time": "2022-07-07T17:40:16.025Z"
   },
   {
    "duration": 6,
    "start_time": "2022-07-07T17:40:16.031Z"
   },
   {
    "duration": 5,
    "start_time": "2022-07-07T17:40:16.038Z"
   },
   {
    "duration": 5,
    "start_time": "2022-07-07T17:40:16.045Z"
   },
   {
    "duration": 19,
    "start_time": "2022-07-07T17:40:16.051Z"
   },
   {
    "duration": 4,
    "start_time": "2022-07-07T17:40:16.072Z"
   },
   {
    "duration": 10,
    "start_time": "2022-07-07T17:40:16.077Z"
   },
   {
    "duration": 4,
    "start_time": "2022-07-07T17:40:16.089Z"
   },
   {
    "duration": 8,
    "start_time": "2022-07-07T17:40:16.094Z"
   },
   {
    "duration": 9,
    "start_time": "2022-07-07T17:40:16.104Z"
   },
   {
    "duration": 9,
    "start_time": "2022-07-07T17:40:16.115Z"
   },
   {
    "duration": 5,
    "start_time": "2022-07-07T17:40:16.125Z"
   },
   {
    "duration": 12,
    "start_time": "2022-07-07T17:40:16.132Z"
   },
   {
    "duration": 7,
    "start_time": "2022-07-07T17:40:16.145Z"
   },
   {
    "duration": 28,
    "start_time": "2022-07-07T17:40:16.154Z"
   },
   {
    "duration": 6,
    "start_time": "2022-07-07T17:40:16.184Z"
   },
   {
    "duration": 5,
    "start_time": "2022-07-07T17:40:16.191Z"
   },
   {
    "duration": 4,
    "start_time": "2022-07-07T17:40:16.198Z"
   },
   {
    "duration": 6,
    "start_time": "2022-07-07T17:40:16.204Z"
   },
   {
    "duration": 23,
    "start_time": "2022-07-07T17:40:16.212Z"
   },
   {
    "duration": 6,
    "start_time": "2022-07-07T17:40:16.237Z"
   },
   {
    "duration": 12,
    "start_time": "2022-07-07T17:40:16.245Z"
   },
   {
    "duration": 24,
    "start_time": "2022-07-07T17:40:16.259Z"
   },
   {
    "duration": 5,
    "start_time": "2022-07-07T17:40:16.285Z"
   },
   {
    "duration": 6,
    "start_time": "2022-07-07T17:40:16.291Z"
   },
   {
    "duration": 5,
    "start_time": "2022-07-07T17:40:16.299Z"
   },
   {
    "duration": 5,
    "start_time": "2022-07-07T17:40:16.306Z"
   },
   {
    "duration": 10,
    "start_time": "2022-07-07T17:40:16.314Z"
   },
   {
    "duration": 32,
    "start_time": "2022-07-07T17:40:16.326Z"
   },
   {
    "duration": 18,
    "start_time": "2022-07-07T17:40:16.360Z"
   },
   {
    "duration": 12,
    "start_time": "2022-07-07T17:40:16.380Z"
   },
   {
    "duration": 38,
    "start_time": "2022-07-07T17:40:16.394Z"
   },
   {
    "duration": 6,
    "start_time": "2022-07-07T17:40:16.434Z"
   },
   {
    "duration": 6,
    "start_time": "2022-07-07T17:40:16.443Z"
   },
   {
    "duration": 9,
    "start_time": "2022-07-07T17:40:16.451Z"
   },
   {
    "duration": 34,
    "start_time": "2022-07-07T17:40:16.462Z"
   },
   {
    "duration": 8,
    "start_time": "2022-07-07T17:40:16.498Z"
   },
   {
    "duration": 10,
    "start_time": "2022-07-07T17:40:16.508Z"
   },
   {
    "duration": 25,
    "start_time": "2022-07-07T17:40:16.520Z"
   },
   {
    "duration": 11,
    "start_time": "2022-07-07T17:40:16.547Z"
   },
   {
    "duration": 25,
    "start_time": "2022-07-07T17:40:16.560Z"
   },
   {
    "duration": 82,
    "start_time": "2022-07-07T17:59:43.007Z"
   },
   {
    "duration": 11,
    "start_time": "2022-07-07T17:59:55.786Z"
   },
   {
    "duration": 17,
    "start_time": "2022-07-07T19:49:50.188Z"
   },
   {
    "duration": 13,
    "start_time": "2022-07-07T19:49:58.310Z"
   },
   {
    "duration": 13,
    "start_time": "2022-07-07T19:50:07.136Z"
   },
   {
    "duration": 14,
    "start_time": "2022-07-07T19:50:13.813Z"
   },
   {
    "duration": 20,
    "start_time": "2022-07-07T19:50:17.425Z"
   },
   {
    "duration": 13,
    "start_time": "2022-07-07T19:50:23.121Z"
   },
   {
    "duration": 41,
    "start_time": "2022-07-07T19:52:21.853Z"
   },
   {
    "duration": 5,
    "start_time": "2022-07-07T19:52:31.137Z"
   },
   {
    "duration": 23,
    "start_time": "2022-07-07T19:52:44.958Z"
   },
   {
    "duration": 30,
    "start_time": "2022-07-07T19:52:57.248Z"
   },
   {
    "duration": 50,
    "start_time": "2022-07-07T19:53:06.561Z"
   },
   {
    "duration": 37,
    "start_time": "2022-07-07T19:53:14.351Z"
   },
   {
    "duration": 42,
    "start_time": "2022-07-07T19:53:20.283Z"
   },
   {
    "duration": 52,
    "start_time": "2022-07-07T19:53:51.182Z"
   },
   {
    "duration": 41,
    "start_time": "2022-07-07T19:54:02.679Z"
   },
   {
    "duration": 31,
    "start_time": "2022-07-07T19:54:06.480Z"
   },
   {
    "duration": 17,
    "start_time": "2022-07-07T19:54:10.030Z"
   },
   {
    "duration": 25,
    "start_time": "2022-07-07T19:54:13.392Z"
   },
   {
    "duration": 197,
    "start_time": "2022-07-07T19:54:37.688Z"
   },
   {
    "duration": 17,
    "start_time": "2022-07-07T19:54:44.232Z"
   },
   {
    "duration": 35,
    "start_time": "2022-07-07T19:55:42.484Z"
   },
   {
    "duration": 21,
    "start_time": "2022-07-07T19:56:45.524Z"
   },
   {
    "duration": 18,
    "start_time": "2022-07-07T19:57:05.992Z"
   },
   {
    "duration": 18,
    "start_time": "2022-07-07T19:57:58.416Z"
   },
   {
    "duration": 14,
    "start_time": "2022-07-07T19:58:32.608Z"
   },
   {
    "duration": 7,
    "start_time": "2022-07-07T20:02:41.429Z"
   },
   {
    "duration": 16,
    "start_time": "2022-07-07T20:04:26.108Z"
   },
   {
    "duration": 21,
    "start_time": "2022-07-07T20:04:36.610Z"
   },
   {
    "duration": 9,
    "start_time": "2022-07-07T20:04:58.214Z"
   },
   {
    "duration": 4,
    "start_time": "2022-07-07T20:05:09.228Z"
   },
   {
    "duration": 16,
    "start_time": "2022-07-07T20:05:28.493Z"
   },
   {
    "duration": 8,
    "start_time": "2022-07-07T20:05:39.454Z"
   },
   {
    "duration": 16,
    "start_time": "2022-07-07T20:05:42.391Z"
   },
   {
    "duration": 5,
    "start_time": "2022-07-07T20:33:10.735Z"
   },
   {
    "duration": 80,
    "start_time": "2022-07-07T20:34:17.940Z"
   },
   {
    "duration": 7,
    "start_time": "2022-07-07T20:34:22.191Z"
   },
   {
    "duration": 29,
    "start_time": "2022-07-07T20:35:06.254Z"
   },
   {
    "duration": 12,
    "start_time": "2022-07-07T20:35:39.973Z"
   },
   {
    "duration": 13,
    "start_time": "2022-07-07T20:36:14.009Z"
   },
   {
    "duration": 12,
    "start_time": "2022-07-07T20:36:42.756Z"
   },
   {
    "duration": 8,
    "start_time": "2022-07-07T20:36:55.505Z"
   },
   {
    "duration": 7,
    "start_time": "2022-07-07T20:37:36.818Z"
   },
   {
    "duration": 119,
    "start_time": "2022-07-07T20:38:29.026Z"
   },
   {
    "duration": 72,
    "start_time": "2022-07-07T20:39:22.527Z"
   },
   {
    "duration": 88,
    "start_time": "2022-07-07T20:39:48.026Z"
   },
   {
    "duration": 69,
    "start_time": "2022-07-07T20:40:21.156Z"
   },
   {
    "duration": 4,
    "start_time": "2022-07-07T20:41:40.429Z"
   },
   {
    "duration": 11,
    "start_time": "2022-07-07T20:41:54.923Z"
   },
   {
    "duration": 10,
    "start_time": "2022-07-07T20:42:39.579Z"
   },
   {
    "duration": 18,
    "start_time": "2022-07-07T20:43:06.558Z"
   },
   {
    "duration": 17,
    "start_time": "2022-07-07T20:43:36.595Z"
   },
   {
    "duration": 10,
    "start_time": "2022-07-07T20:43:51.999Z"
   },
   {
    "duration": 52,
    "start_time": "2022-07-07T20:44:12.599Z"
   },
   {
    "duration": 18,
    "start_time": "2022-07-07T20:44:18.358Z"
   },
   {
    "duration": 16,
    "start_time": "2022-07-07T20:44:28.080Z"
   },
   {
    "duration": 15,
    "start_time": "2022-07-07T20:44:43.089Z"
   },
   {
    "duration": 14,
    "start_time": "2022-07-07T20:44:58.127Z"
   },
   {
    "duration": 11,
    "start_time": "2022-07-07T20:47:30.531Z"
   },
   {
    "duration": 7,
    "start_time": "2022-07-07T21:12:21.294Z"
   },
   {
    "duration": 43,
    "start_time": "2022-07-08T01:40:00.103Z"
   },
   {
    "duration": 6,
    "start_time": "2022-07-08T01:59:06.126Z"
   },
   {
    "duration": 537,
    "start_time": "2022-07-08T01:59:17.247Z"
   },
   {
    "duration": 17,
    "start_time": "2022-07-08T01:59:17.785Z"
   },
   {
    "duration": 19,
    "start_time": "2022-07-08T01:59:17.804Z"
   },
   {
    "duration": 6,
    "start_time": "2022-07-08T01:59:17.827Z"
   },
   {
    "duration": 17,
    "start_time": "2022-07-08T01:59:17.835Z"
   },
   {
    "duration": 13,
    "start_time": "2022-07-08T01:59:17.854Z"
   },
   {
    "duration": 44,
    "start_time": "2022-07-08T01:59:17.869Z"
   },
   {
    "duration": 50,
    "start_time": "2022-07-08T01:59:17.915Z"
   },
   {
    "duration": 2,
    "start_time": "2022-07-08T01:59:17.967Z"
   },
   {
    "duration": 8,
    "start_time": "2022-07-08T01:59:17.972Z"
   },
   {
    "duration": 27,
    "start_time": "2022-07-08T01:59:17.982Z"
   },
   {
    "duration": 5,
    "start_time": "2022-07-08T01:59:18.011Z"
   },
   {
    "duration": 16,
    "start_time": "2022-07-08T01:59:18.018Z"
   },
   {
    "duration": 9,
    "start_time": "2022-07-08T01:59:18.036Z"
   },
   {
    "duration": 9,
    "start_time": "2022-07-08T01:59:18.046Z"
   },
   {
    "duration": 16,
    "start_time": "2022-07-08T01:59:18.057Z"
   },
   {
    "duration": 27,
    "start_time": "2022-07-08T01:59:18.075Z"
   },
   {
    "duration": 9,
    "start_time": "2022-07-08T01:59:18.104Z"
   },
   {
    "duration": 8,
    "start_time": "2022-07-08T01:59:18.115Z"
   },
   {
    "duration": 13,
    "start_time": "2022-07-08T01:59:18.125Z"
   },
   {
    "duration": 7,
    "start_time": "2022-07-08T01:59:18.139Z"
   },
   {
    "duration": 8,
    "start_time": "2022-07-08T01:59:18.148Z"
   },
   {
    "duration": 8,
    "start_time": "2022-07-08T01:59:18.158Z"
   },
   {
    "duration": 8,
    "start_time": "2022-07-08T01:59:18.168Z"
   },
   {
    "duration": 32,
    "start_time": "2022-07-08T01:59:18.177Z"
   },
   {
    "duration": 9,
    "start_time": "2022-07-08T01:59:18.210Z"
   },
   {
    "duration": 10,
    "start_time": "2022-07-08T01:59:18.221Z"
   },
   {
    "duration": 8,
    "start_time": "2022-07-08T01:59:18.235Z"
   },
   {
    "duration": 7,
    "start_time": "2022-07-08T01:59:18.244Z"
   },
   {
    "duration": 12,
    "start_time": "2022-07-08T01:59:18.253Z"
   },
   {
    "duration": 8,
    "start_time": "2022-07-08T01:59:18.266Z"
   },
   {
    "duration": 6,
    "start_time": "2022-07-08T01:59:18.301Z"
   },
   {
    "duration": 61,
    "start_time": "2022-07-08T01:59:18.309Z"
   },
   {
    "duration": 0,
    "start_time": "2022-07-08T01:59:18.372Z"
   },
   {
    "duration": 0,
    "start_time": "2022-07-08T01:59:18.373Z"
   },
   {
    "duration": 0,
    "start_time": "2022-07-08T01:59:18.374Z"
   },
   {
    "duration": 0,
    "start_time": "2022-07-08T01:59:18.375Z"
   },
   {
    "duration": 0,
    "start_time": "2022-07-08T01:59:18.376Z"
   },
   {
    "duration": 0,
    "start_time": "2022-07-08T01:59:18.377Z"
   },
   {
    "duration": 0,
    "start_time": "2022-07-08T01:59:18.378Z"
   },
   {
    "duration": 0,
    "start_time": "2022-07-08T01:59:18.379Z"
   },
   {
    "duration": 0,
    "start_time": "2022-07-08T01:59:18.400Z"
   },
   {
    "duration": 0,
    "start_time": "2022-07-08T01:59:18.401Z"
   },
   {
    "duration": 0,
    "start_time": "2022-07-08T01:59:18.402Z"
   },
   {
    "duration": 0,
    "start_time": "2022-07-08T01:59:18.403Z"
   },
   {
    "duration": 0,
    "start_time": "2022-07-08T01:59:18.404Z"
   },
   {
    "duration": 0,
    "start_time": "2022-07-08T01:59:18.405Z"
   },
   {
    "duration": 0,
    "start_time": "2022-07-08T01:59:18.406Z"
   },
   {
    "duration": 0,
    "start_time": "2022-07-08T01:59:18.407Z"
   },
   {
    "duration": 0,
    "start_time": "2022-07-08T01:59:18.408Z"
   },
   {
    "duration": 0,
    "start_time": "2022-07-08T01:59:18.409Z"
   },
   {
    "duration": 0,
    "start_time": "2022-07-08T01:59:18.411Z"
   },
   {
    "duration": 0,
    "start_time": "2022-07-08T01:59:18.412Z"
   },
   {
    "duration": 0,
    "start_time": "2022-07-08T01:59:18.413Z"
   },
   {
    "duration": 0,
    "start_time": "2022-07-08T01:59:18.414Z"
   },
   {
    "duration": 0,
    "start_time": "2022-07-08T01:59:18.415Z"
   },
   {
    "duration": 0,
    "start_time": "2022-07-08T01:59:18.416Z"
   },
   {
    "duration": 0,
    "start_time": "2022-07-08T01:59:18.418Z"
   },
   {
    "duration": 0,
    "start_time": "2022-07-08T01:59:18.419Z"
   },
   {
    "duration": 0,
    "start_time": "2022-07-08T01:59:18.420Z"
   },
   {
    "duration": 0,
    "start_time": "2022-07-08T01:59:18.422Z"
   },
   {
    "duration": 0,
    "start_time": "2022-07-08T01:59:18.423Z"
   },
   {
    "duration": 0,
    "start_time": "2022-07-08T01:59:18.425Z"
   },
   {
    "duration": 0,
    "start_time": "2022-07-08T01:59:18.427Z"
   },
   {
    "duration": 0,
    "start_time": "2022-07-08T01:59:18.428Z"
   },
   {
    "duration": 0,
    "start_time": "2022-07-08T01:59:18.429Z"
   },
   {
    "duration": 0,
    "start_time": "2022-07-08T01:59:18.430Z"
   },
   {
    "duration": 0,
    "start_time": "2022-07-08T01:59:18.431Z"
   },
   {
    "duration": 0,
    "start_time": "2022-07-08T01:59:18.433Z"
   },
   {
    "duration": 0,
    "start_time": "2022-07-08T01:59:18.434Z"
   },
   {
    "duration": 0,
    "start_time": "2022-07-08T01:59:18.436Z"
   },
   {
    "duration": 0,
    "start_time": "2022-07-08T01:59:18.437Z"
   },
   {
    "duration": 0,
    "start_time": "2022-07-08T01:59:18.438Z"
   },
   {
    "duration": 0,
    "start_time": "2022-07-08T01:59:18.501Z"
   },
   {
    "duration": 0,
    "start_time": "2022-07-08T01:59:18.502Z"
   },
   {
    "duration": 0,
    "start_time": "2022-07-08T01:59:18.504Z"
   },
   {
    "duration": 0,
    "start_time": "2022-07-08T01:59:18.506Z"
   },
   {
    "duration": 0,
    "start_time": "2022-07-08T01:59:18.507Z"
   },
   {
    "duration": 0,
    "start_time": "2022-07-08T01:59:18.509Z"
   },
   {
    "duration": 0,
    "start_time": "2022-07-08T01:59:18.511Z"
   },
   {
    "duration": 0,
    "start_time": "2022-07-08T01:59:18.512Z"
   },
   {
    "duration": 0,
    "start_time": "2022-07-08T01:59:18.513Z"
   },
   {
    "duration": 4,
    "start_time": "2022-07-08T01:59:41.370Z"
   },
   {
    "duration": 4,
    "start_time": "2022-07-08T02:00:31.728Z"
   },
   {
    "duration": 5,
    "start_time": "2022-07-08T02:00:49.789Z"
   },
   {
    "duration": 54,
    "start_time": "2022-07-08T02:01:44.568Z"
   },
   {
    "duration": 4,
    "start_time": "2022-07-08T02:01:53.939Z"
   },
   {
    "duration": 8,
    "start_time": "2022-07-08T02:02:16.770Z"
   },
   {
    "duration": 9,
    "start_time": "2022-07-08T02:02:33.189Z"
   },
   {
    "duration": 16,
    "start_time": "2022-07-08T02:03:03.436Z"
   },
   {
    "duration": 17,
    "start_time": "2022-07-08T02:03:20.365Z"
   },
   {
    "duration": 3,
    "start_time": "2022-07-08T02:03:49.626Z"
   },
   {
    "duration": 12,
    "start_time": "2022-07-08T02:03:54.081Z"
   },
   {
    "duration": 54,
    "start_time": "2022-07-08T02:04:03.067Z"
   },
   {
    "duration": 15,
    "start_time": "2022-07-08T02:04:17.835Z"
   },
   {
    "duration": 16,
    "start_time": "2022-07-08T02:05:02.954Z"
   },
   {
    "duration": 7,
    "start_time": "2022-07-08T02:05:26.940Z"
   },
   {
    "duration": 7,
    "start_time": "2022-07-08T15:09:05.566Z"
   },
   {
    "duration": 617,
    "start_time": "2022-07-08T15:09:27.191Z"
   },
   {
    "duration": 30,
    "start_time": "2022-07-08T15:09:27.810Z"
   },
   {
    "duration": 26,
    "start_time": "2022-07-08T15:09:27.844Z"
   },
   {
    "duration": 6,
    "start_time": "2022-07-08T15:09:27.872Z"
   },
   {
    "duration": 12,
    "start_time": "2022-07-08T15:09:27.880Z"
   },
   {
    "duration": 10,
    "start_time": "2022-07-08T15:09:27.893Z"
   },
   {
    "duration": 32,
    "start_time": "2022-07-08T15:09:27.923Z"
   },
   {
    "duration": 75,
    "start_time": "2022-07-08T15:09:27.957Z"
   },
   {
    "duration": 10,
    "start_time": "2022-07-08T15:09:28.033Z"
   },
   {
    "duration": 14,
    "start_time": "2022-07-08T15:09:28.046Z"
   },
   {
    "duration": 14,
    "start_time": "2022-07-08T15:09:28.062Z"
   },
   {
    "duration": 4,
    "start_time": "2022-07-08T15:09:28.078Z"
   },
   {
    "duration": 16,
    "start_time": "2022-07-08T15:09:28.084Z"
   },
   {
    "duration": 7,
    "start_time": "2022-07-08T15:09:28.102Z"
   },
   {
    "duration": 13,
    "start_time": "2022-07-08T15:09:28.111Z"
   },
   {
    "duration": 24,
    "start_time": "2022-07-08T15:09:28.129Z"
   },
   {
    "duration": 7,
    "start_time": "2022-07-08T15:09:28.155Z"
   },
   {
    "duration": 7,
    "start_time": "2022-07-08T15:09:28.163Z"
   },
   {
    "duration": 7,
    "start_time": "2022-07-08T15:09:28.172Z"
   },
   {
    "duration": 13,
    "start_time": "2022-07-08T15:09:28.181Z"
   },
   {
    "duration": 8,
    "start_time": "2022-07-08T15:09:28.196Z"
   },
   {
    "duration": 31,
    "start_time": "2022-07-08T15:09:28.205Z"
   },
   {
    "duration": 21,
    "start_time": "2022-07-08T15:09:28.238Z"
   },
   {
    "duration": 11,
    "start_time": "2022-07-08T15:09:28.270Z"
   },
   {
    "duration": 9,
    "start_time": "2022-07-08T15:09:28.283Z"
   },
   {
    "duration": 11,
    "start_time": "2022-07-08T15:09:28.294Z"
   },
   {
    "duration": 12,
    "start_time": "2022-07-08T15:09:28.307Z"
   },
   {
    "duration": 28,
    "start_time": "2022-07-08T15:09:28.324Z"
   },
   {
    "duration": 9,
    "start_time": "2022-07-08T15:09:28.354Z"
   },
   {
    "duration": 22,
    "start_time": "2022-07-08T15:09:28.364Z"
   },
   {
    "duration": 7,
    "start_time": "2022-07-08T15:09:28.388Z"
   },
   {
    "duration": 76,
    "start_time": "2022-07-08T15:09:28.397Z"
   },
   {
    "duration": 0,
    "start_time": "2022-07-08T15:09:28.474Z"
   },
   {
    "duration": 0,
    "start_time": "2022-07-08T15:09:28.476Z"
   },
   {
    "duration": 0,
    "start_time": "2022-07-08T15:09:28.477Z"
   },
   {
    "duration": 0,
    "start_time": "2022-07-08T15:09:28.478Z"
   },
   {
    "duration": 0,
    "start_time": "2022-07-08T15:09:28.479Z"
   },
   {
    "duration": 0,
    "start_time": "2022-07-08T15:09:28.480Z"
   },
   {
    "duration": 0,
    "start_time": "2022-07-08T15:09:28.482Z"
   },
   {
    "duration": 0,
    "start_time": "2022-07-08T15:09:28.483Z"
   },
   {
    "duration": 0,
    "start_time": "2022-07-08T15:09:28.484Z"
   },
   {
    "duration": 0,
    "start_time": "2022-07-08T15:09:28.485Z"
   },
   {
    "duration": 0,
    "start_time": "2022-07-08T15:09:28.486Z"
   },
   {
    "duration": 0,
    "start_time": "2022-07-08T15:09:28.487Z"
   },
   {
    "duration": 0,
    "start_time": "2022-07-08T15:09:28.488Z"
   },
   {
    "duration": 0,
    "start_time": "2022-07-08T15:09:28.489Z"
   },
   {
    "duration": 0,
    "start_time": "2022-07-08T15:09:28.490Z"
   },
   {
    "duration": 0,
    "start_time": "2022-07-08T15:09:28.491Z"
   },
   {
    "duration": 0,
    "start_time": "2022-07-08T15:09:28.492Z"
   },
   {
    "duration": 0,
    "start_time": "2022-07-08T15:09:28.523Z"
   },
   {
    "duration": 0,
    "start_time": "2022-07-08T15:09:28.524Z"
   },
   {
    "duration": 0,
    "start_time": "2022-07-08T15:09:28.525Z"
   },
   {
    "duration": 0,
    "start_time": "2022-07-08T15:09:28.525Z"
   },
   {
    "duration": 0,
    "start_time": "2022-07-08T15:09:28.526Z"
   },
   {
    "duration": 0,
    "start_time": "2022-07-08T15:09:28.535Z"
   },
   {
    "duration": 0,
    "start_time": "2022-07-08T15:09:28.535Z"
   },
   {
    "duration": 0,
    "start_time": "2022-07-08T15:09:28.536Z"
   },
   {
    "duration": 0,
    "start_time": "2022-07-08T15:09:28.537Z"
   },
   {
    "duration": 0,
    "start_time": "2022-07-08T15:09:28.538Z"
   },
   {
    "duration": 0,
    "start_time": "2022-07-08T15:09:28.538Z"
   },
   {
    "duration": 0,
    "start_time": "2022-07-08T15:09:28.539Z"
   },
   {
    "duration": 0,
    "start_time": "2022-07-08T15:09:28.539Z"
   },
   {
    "duration": 0,
    "start_time": "2022-07-08T15:09:28.540Z"
   },
   {
    "duration": 0,
    "start_time": "2022-07-08T15:09:28.541Z"
   },
   {
    "duration": 0,
    "start_time": "2022-07-08T15:09:28.542Z"
   },
   {
    "duration": 0,
    "start_time": "2022-07-08T15:09:28.543Z"
   },
   {
    "duration": 0,
    "start_time": "2022-07-08T15:09:28.543Z"
   },
   {
    "duration": 0,
    "start_time": "2022-07-08T15:09:28.544Z"
   },
   {
    "duration": 0,
    "start_time": "2022-07-08T15:09:28.545Z"
   },
   {
    "duration": 0,
    "start_time": "2022-07-08T15:09:28.546Z"
   },
   {
    "duration": 0,
    "start_time": "2022-07-08T15:09:28.547Z"
   },
   {
    "duration": 0,
    "start_time": "2022-07-08T15:09:28.548Z"
   },
   {
    "duration": 0,
    "start_time": "2022-07-08T15:09:28.549Z"
   },
   {
    "duration": 0,
    "start_time": "2022-07-08T15:09:28.549Z"
   },
   {
    "duration": 0,
    "start_time": "2022-07-08T15:09:28.550Z"
   },
   {
    "duration": 0,
    "start_time": "2022-07-08T15:09:28.551Z"
   },
   {
    "duration": 0,
    "start_time": "2022-07-08T15:09:28.551Z"
   },
   {
    "duration": 0,
    "start_time": "2022-07-08T15:09:28.553Z"
   },
   {
    "duration": 0,
    "start_time": "2022-07-08T15:09:28.555Z"
   },
   {
    "duration": 0,
    "start_time": "2022-07-08T15:09:28.557Z"
   },
   {
    "duration": 0,
    "start_time": "2022-07-08T15:09:28.558Z"
   },
   {
    "duration": 0,
    "start_time": "2022-07-08T15:09:28.559Z"
   },
   {
    "duration": 12,
    "start_time": "2022-07-08T15:09:39.423Z"
   },
   {
    "duration": 14,
    "start_time": "2022-07-08T15:09:56.305Z"
   },
   {
    "duration": 4,
    "start_time": "2022-07-08T15:10:42.966Z"
   },
   {
    "duration": 13,
    "start_time": "2022-07-08T15:11:01.103Z"
   },
   {
    "duration": 10,
    "start_time": "2022-07-08T15:11:08.103Z"
   },
   {
    "duration": 11,
    "start_time": "2022-07-08T15:17:07.058Z"
   },
   {
    "duration": 10,
    "start_time": "2022-07-08T15:17:47.053Z"
   },
   {
    "duration": 15,
    "start_time": "2022-07-08T15:19:08.610Z"
   },
   {
    "duration": 21,
    "start_time": "2022-07-08T15:19:30.896Z"
   },
   {
    "duration": 9,
    "start_time": "2022-07-08T15:19:59.313Z"
   },
   {
    "duration": 9,
    "start_time": "2022-07-08T15:44:56.905Z"
   },
   {
    "duration": 7,
    "start_time": "2022-07-08T15:45:47.261Z"
   },
   {
    "duration": 51,
    "start_time": "2022-07-08T15:45:57.358Z"
   },
   {
    "duration": 102,
    "start_time": "2022-07-08T15:46:00.868Z"
   },
   {
    "duration": 70,
    "start_time": "2022-07-08T15:46:09.033Z"
   },
   {
    "duration": 63,
    "start_time": "2022-07-08T15:46:22.076Z"
   },
   {
    "duration": 6,
    "start_time": "2022-07-08T15:46:26.945Z"
   },
   {
    "duration": 9,
    "start_time": "2022-07-08T15:50:09.476Z"
   },
   {
    "duration": 6,
    "start_time": "2022-07-08T16:01:52.290Z"
   },
   {
    "duration": 74,
    "start_time": "2022-07-08T16:03:15.873Z"
   },
   {
    "duration": 3,
    "start_time": "2022-07-08T16:03:20.151Z"
   },
   {
    "duration": 7,
    "start_time": "2022-07-08T16:03:35.018Z"
   },
   {
    "duration": 66,
    "start_time": "2022-07-08T16:03:55.413Z"
   },
   {
    "duration": 25,
    "start_time": "2022-07-08T16:04:02.158Z"
   },
   {
    "duration": 7,
    "start_time": "2022-07-08T16:04:39.071Z"
   },
   {
    "duration": 6,
    "start_time": "2022-07-08T16:06:23.155Z"
   },
   {
    "duration": 6,
    "start_time": "2022-07-08T16:08:16.140Z"
   },
   {
    "duration": 6,
    "start_time": "2022-07-08T16:08:17.301Z"
   },
   {
    "duration": 17,
    "start_time": "2022-07-08T16:09:20.427Z"
   },
   {
    "duration": 20,
    "start_time": "2022-07-08T16:10:18.899Z"
   },
   {
    "duration": 18,
    "start_time": "2022-07-08T16:10:26.150Z"
   },
   {
    "duration": 17,
    "start_time": "2022-07-08T16:10:32.152Z"
   },
   {
    "duration": 16,
    "start_time": "2022-07-08T16:10:38.036Z"
   },
   {
    "duration": 11,
    "start_time": "2022-07-08T16:10:47.310Z"
   },
   {
    "duration": 10,
    "start_time": "2022-07-08T16:11:57.455Z"
   },
   {
    "duration": 13,
    "start_time": "2022-07-08T16:12:11.687Z"
   },
   {
    "duration": 9,
    "start_time": "2022-07-08T16:12:17.752Z"
   },
   {
    "duration": 12,
    "start_time": "2022-07-08T16:15:13.296Z"
   },
   {
    "duration": 6,
    "start_time": "2022-07-08T16:17:07.878Z"
   },
   {
    "duration": 5,
    "start_time": "2022-07-08T16:17:22.015Z"
   },
   {
    "duration": 46,
    "start_time": "2022-07-08T19:30:05.065Z"
   },
   {
    "duration": 625,
    "start_time": "2022-07-08T19:30:13.754Z"
   },
   {
    "duration": 19,
    "start_time": "2022-07-08T19:30:14.381Z"
   },
   {
    "duration": 18,
    "start_time": "2022-07-08T19:30:14.402Z"
   },
   {
    "duration": 6,
    "start_time": "2022-07-08T19:30:14.421Z"
   },
   {
    "duration": 40,
    "start_time": "2022-07-08T19:30:14.428Z"
   },
   {
    "duration": 10,
    "start_time": "2022-07-08T19:30:14.470Z"
   },
   {
    "duration": 21,
    "start_time": "2022-07-08T19:30:14.482Z"
   },
   {
    "duration": 85,
    "start_time": "2022-07-08T19:30:14.505Z"
   },
   {
    "duration": 2,
    "start_time": "2022-07-08T19:30:14.592Z"
   },
   {
    "duration": 8,
    "start_time": "2022-07-08T19:30:14.596Z"
   },
   {
    "duration": 18,
    "start_time": "2022-07-08T19:30:14.606Z"
   },
   {
    "duration": 8,
    "start_time": "2022-07-08T19:30:14.626Z"
   },
   {
    "duration": 34,
    "start_time": "2022-07-08T19:30:14.635Z"
   },
   {
    "duration": 15,
    "start_time": "2022-07-08T19:30:14.671Z"
   },
   {
    "duration": 13,
    "start_time": "2022-07-08T19:30:14.689Z"
   },
   {
    "duration": 12,
    "start_time": "2022-07-08T19:30:14.704Z"
   },
   {
    "duration": 2,
    "start_time": "2022-07-08T19:30:14.718Z"
   },
   {
    "duration": 13,
    "start_time": "2022-07-08T19:30:14.722Z"
   },
   {
    "duration": 9,
    "start_time": "2022-07-08T19:30:14.737Z"
   },
   {
    "duration": 10,
    "start_time": "2022-07-08T19:30:14.760Z"
   },
   {
    "duration": 14,
    "start_time": "2022-07-08T19:30:14.772Z"
   },
   {
    "duration": 10,
    "start_time": "2022-07-08T19:30:14.788Z"
   },
   {
    "duration": 3,
    "start_time": "2022-07-08T19:30:14.800Z"
   },
   {
    "duration": 6,
    "start_time": "2022-07-08T19:30:14.805Z"
   },
   {
    "duration": 12,
    "start_time": "2022-07-08T19:30:14.813Z"
   },
   {
    "duration": 44,
    "start_time": "2022-07-08T19:30:14.826Z"
   },
   {
    "duration": 10,
    "start_time": "2022-07-08T19:30:14.872Z"
   },
   {
    "duration": 6,
    "start_time": "2022-07-08T19:30:14.887Z"
   },
   {
    "duration": 8,
    "start_time": "2022-07-08T19:30:14.895Z"
   },
   {
    "duration": 12,
    "start_time": "2022-07-08T19:30:14.904Z"
   },
   {
    "duration": 10,
    "start_time": "2022-07-08T19:30:14.918Z"
   },
   {
    "duration": 12,
    "start_time": "2022-07-08T19:30:14.962Z"
   },
   {
    "duration": 2,
    "start_time": "2022-07-08T19:30:14.976Z"
   },
   {
    "duration": 13,
    "start_time": "2022-07-08T19:30:14.980Z"
   },
   {
    "duration": 7,
    "start_time": "2022-07-08T19:30:14.995Z"
   },
   {
    "duration": 25,
    "start_time": "2022-07-08T19:30:15.005Z"
   },
   {
    "duration": 11,
    "start_time": "2022-07-08T19:30:15.032Z"
   },
   {
    "duration": 7,
    "start_time": "2022-07-08T19:30:15.062Z"
   },
   {
    "duration": 13,
    "start_time": "2022-07-08T19:30:15.070Z"
   },
   {
    "duration": 9,
    "start_time": "2022-07-08T19:30:15.085Z"
   },
   {
    "duration": 29,
    "start_time": "2022-07-08T19:30:15.096Z"
   },
   {
    "duration": 5,
    "start_time": "2022-07-08T19:30:15.127Z"
   },
   {
    "duration": 7,
    "start_time": "2022-07-08T19:30:15.134Z"
   },
   {
    "duration": 10,
    "start_time": "2022-07-08T19:30:15.161Z"
   },
   {
    "duration": 5,
    "start_time": "2022-07-08T19:30:15.173Z"
   },
   {
    "duration": 5,
    "start_time": "2022-07-08T19:30:15.180Z"
   },
   {
    "duration": 9,
    "start_time": "2022-07-08T19:30:15.186Z"
   },
   {
    "duration": 4,
    "start_time": "2022-07-08T19:30:15.196Z"
   },
   {
    "duration": 5,
    "start_time": "2022-07-08T19:30:15.201Z"
   },
   {
    "duration": 14,
    "start_time": "2022-07-08T19:30:15.208Z"
   },
   {
    "duration": 11,
    "start_time": "2022-07-08T19:30:15.224Z"
   },
   {
    "duration": 25,
    "start_time": "2022-07-08T19:30:15.237Z"
   },
   {
    "duration": 15,
    "start_time": "2022-07-08T19:30:15.264Z"
   },
   {
    "duration": 5,
    "start_time": "2022-07-08T19:30:15.281Z"
   },
   {
    "duration": 7,
    "start_time": "2022-07-08T19:30:15.288Z"
   },
   {
    "duration": 25,
    "start_time": "2022-07-08T19:30:15.297Z"
   },
   {
    "duration": 12,
    "start_time": "2022-07-08T19:30:15.325Z"
   },
   {
    "duration": 6,
    "start_time": "2022-07-08T19:30:15.339Z"
   },
   {
    "duration": 7,
    "start_time": "2022-07-08T19:30:15.347Z"
   },
   {
    "duration": 7,
    "start_time": "2022-07-08T19:30:15.356Z"
   },
   {
    "duration": 4,
    "start_time": "2022-07-08T19:30:15.366Z"
   },
   {
    "duration": 5,
    "start_time": "2022-07-08T19:30:15.372Z"
   },
   {
    "duration": 7,
    "start_time": "2022-07-08T19:30:15.378Z"
   },
   {
    "duration": 6,
    "start_time": "2022-07-08T19:30:15.386Z"
   },
   {
    "duration": 6,
    "start_time": "2022-07-08T19:30:15.393Z"
   },
   {
    "duration": 5,
    "start_time": "2022-07-08T19:30:15.401Z"
   },
   {
    "duration": 7,
    "start_time": "2022-07-08T19:30:15.407Z"
   },
   {
    "duration": 13,
    "start_time": "2022-07-08T19:30:15.416Z"
   },
   {
    "duration": 7,
    "start_time": "2022-07-08T19:30:15.431Z"
   },
   {
    "duration": 4,
    "start_time": "2022-07-08T19:30:15.441Z"
   },
   {
    "duration": 7,
    "start_time": "2022-07-08T19:30:15.446Z"
   },
   {
    "duration": 9,
    "start_time": "2022-07-08T19:30:15.454Z"
   },
   {
    "duration": 7,
    "start_time": "2022-07-08T19:30:15.465Z"
   },
   {
    "duration": 7,
    "start_time": "2022-07-08T19:30:15.474Z"
   },
   {
    "duration": 6,
    "start_time": "2022-07-08T19:30:15.483Z"
   },
   {
    "duration": 7,
    "start_time": "2022-07-08T19:30:15.491Z"
   },
   {
    "duration": 8,
    "start_time": "2022-07-08T19:30:15.500Z"
   },
   {
    "duration": 6,
    "start_time": "2022-07-08T19:30:15.509Z"
   },
   {
    "duration": 7,
    "start_time": "2022-07-08T19:30:15.517Z"
   },
   {
    "duration": 16,
    "start_time": "2022-07-08T19:30:15.526Z"
   },
   {
    "duration": 10,
    "start_time": "2022-07-08T19:30:15.543Z"
   },
   {
    "duration": 4,
    "start_time": "2022-07-08T19:30:15.558Z"
   },
   {
    "duration": 9,
    "start_time": "2022-07-08T19:30:15.564Z"
   },
   {
    "duration": 6,
    "start_time": "2022-07-08T19:30:15.575Z"
   },
   {
    "duration": 7,
    "start_time": "2022-07-08T19:30:15.583Z"
   },
   {
    "duration": 17,
    "start_time": "2022-07-08T19:30:15.592Z"
   },
   {
    "duration": 5,
    "start_time": "2022-07-08T19:30:15.611Z"
   },
   {
    "duration": 10,
    "start_time": "2022-07-08T19:30:15.618Z"
   },
   {
    "duration": 3,
    "start_time": "2022-07-08T19:31:13.667Z"
   },
   {
    "duration": 49,
    "start_time": "2022-07-08T19:32:34.482Z"
   },
   {
    "duration": 3,
    "start_time": "2022-07-08T19:32:50.940Z"
   },
   {
    "duration": 3,
    "start_time": "2022-07-08T19:34:25.641Z"
   },
   {
    "duration": 6,
    "start_time": "2022-07-08T19:40:15.906Z"
   },
   {
    "duration": 65,
    "start_time": "2022-07-08T19:40:41.580Z"
   },
   {
    "duration": 14,
    "start_time": "2022-07-08T19:40:45.863Z"
   },
   {
    "duration": 6,
    "start_time": "2022-07-08T19:41:00.947Z"
   },
   {
    "duration": 3,
    "start_time": "2022-07-08T19:41:50.504Z"
   },
   {
    "duration": 11,
    "start_time": "2022-07-08T19:41:58.046Z"
   },
   {
    "duration": 10,
    "start_time": "2022-07-08T19:42:07.571Z"
   },
   {
    "duration": 4,
    "start_time": "2022-07-08T19:43:17.187Z"
   },
   {
    "duration": 49,
    "start_time": "2022-07-08T19:43:28.482Z"
   },
   {
    "duration": 7,
    "start_time": "2022-07-08T19:43:34.531Z"
   },
   {
    "duration": 12,
    "start_time": "2022-07-08T19:44:00.137Z"
   },
   {
    "duration": 10,
    "start_time": "2022-07-08T19:46:01.028Z"
   },
   {
    "duration": 7,
    "start_time": "2022-07-08T19:46:12.896Z"
   },
   {
    "duration": 21,
    "start_time": "2022-07-08T19:46:22.145Z"
   },
   {
    "duration": 21,
    "start_time": "2022-07-08T19:46:25.883Z"
   },
   {
    "duration": 18,
    "start_time": "2022-07-08T19:46:40.048Z"
   },
   {
    "duration": 15,
    "start_time": "2022-07-08T19:46:49.899Z"
   },
   {
    "duration": 54,
    "start_time": "2022-07-08T19:47:12.422Z"
   },
   {
    "duration": 2,
    "start_time": "2022-07-08T19:48:00.598Z"
   },
   {
    "duration": 7,
    "start_time": "2022-07-08T19:48:37.329Z"
   },
   {
    "duration": 7,
    "start_time": "2022-07-08T19:48:51.491Z"
   },
   {
    "duration": 8,
    "start_time": "2022-07-08T19:50:32.729Z"
   },
   {
    "duration": 17,
    "start_time": "2022-07-08T19:51:32.049Z"
   },
   {
    "duration": 19,
    "start_time": "2022-07-08T19:51:46.674Z"
   },
   {
    "duration": 21,
    "start_time": "2022-07-08T19:52:31.430Z"
   },
   {
    "duration": 15,
    "start_time": "2022-07-08T19:52:46.655Z"
   },
   {
    "duration": 742,
    "start_time": "2022-07-08T19:55:06.465Z"
   },
   {
    "duration": 876,
    "start_time": "2022-07-08T19:55:19.510Z"
   },
   {
    "duration": 852,
    "start_time": "2022-07-08T19:55:31.027Z"
   },
   {
    "duration": 18,
    "start_time": "2022-07-08T19:55:40.159Z"
   },
   {
    "duration": 4,
    "start_time": "2022-07-08T19:55:42.078Z"
   },
   {
    "duration": 15,
    "start_time": "2022-07-08T19:55:50.230Z"
   },
   {
    "duration": 57,
    "start_time": "2022-07-08T20:05:30.704Z"
   },
   {
    "duration": 22,
    "start_time": "2022-07-08T20:05:33.931Z"
   },
   {
    "duration": 35,
    "start_time": "2022-07-08T20:05:55.151Z"
   },
   {
    "duration": 24,
    "start_time": "2022-07-08T20:06:03.752Z"
   },
   {
    "duration": 35,
    "start_time": "2022-07-08T20:08:21.802Z"
   },
   {
    "duration": 23,
    "start_time": "2022-07-08T20:08:37.352Z"
   },
   {
    "duration": 25,
    "start_time": "2022-07-08T20:19:50.550Z"
   },
   {
    "duration": 4,
    "start_time": "2022-07-08T20:20:25.103Z"
   },
   {
    "duration": 5,
    "start_time": "2022-07-08T20:20:36.904Z"
   },
   {
    "duration": 4,
    "start_time": "2022-07-08T20:44:12.577Z"
   },
   {
    "duration": 22,
    "start_time": "2022-07-08T20:44:38.880Z"
   },
   {
    "duration": 70,
    "start_time": "2022-07-09T17:31:25.434Z"
   },
   {
    "duration": 550,
    "start_time": "2022-07-09T17:31:32.489Z"
   },
   {
    "duration": 20,
    "start_time": "2022-07-09T17:31:33.041Z"
   },
   {
    "duration": 22,
    "start_time": "2022-07-09T17:31:33.063Z"
   },
   {
    "duration": 5,
    "start_time": "2022-07-09T17:31:33.088Z"
   },
   {
    "duration": 20,
    "start_time": "2022-07-09T17:31:33.094Z"
   },
   {
    "duration": 34,
    "start_time": "2022-07-09T17:31:33.116Z"
   },
   {
    "duration": 22,
    "start_time": "2022-07-09T17:31:33.152Z"
   },
   {
    "duration": 86,
    "start_time": "2022-07-09T17:31:33.177Z"
   },
   {
    "duration": 3,
    "start_time": "2022-07-09T17:31:33.264Z"
   },
   {
    "duration": 10,
    "start_time": "2022-07-09T17:31:33.270Z"
   },
   {
    "duration": 22,
    "start_time": "2022-07-09T17:31:33.282Z"
   },
   {
    "duration": 11,
    "start_time": "2022-07-09T17:31:33.305Z"
   },
   {
    "duration": 32,
    "start_time": "2022-07-09T17:31:33.318Z"
   },
   {
    "duration": 5,
    "start_time": "2022-07-09T17:31:33.352Z"
   },
   {
    "duration": 12,
    "start_time": "2022-07-09T17:31:33.359Z"
   },
   {
    "duration": 11,
    "start_time": "2022-07-09T17:31:33.373Z"
   },
   {
    "duration": 3,
    "start_time": "2022-07-09T17:31:33.386Z"
   },
   {
    "duration": 14,
    "start_time": "2022-07-09T17:31:33.391Z"
   },
   {
    "duration": 8,
    "start_time": "2022-07-09T17:31:33.407Z"
   },
   {
    "duration": 35,
    "start_time": "2022-07-09T17:31:33.417Z"
   },
   {
    "duration": 16,
    "start_time": "2022-07-09T17:31:33.454Z"
   },
   {
    "duration": 11,
    "start_time": "2022-07-09T17:31:33.472Z"
   },
   {
    "duration": 5,
    "start_time": "2022-07-09T17:31:33.485Z"
   },
   {
    "duration": 9,
    "start_time": "2022-07-09T17:31:33.491Z"
   },
   {
    "duration": 44,
    "start_time": "2022-07-09T17:31:33.502Z"
   },
   {
    "duration": 12,
    "start_time": "2022-07-09T17:31:33.548Z"
   },
   {
    "duration": 10,
    "start_time": "2022-07-09T17:31:33.562Z"
   },
   {
    "duration": 9,
    "start_time": "2022-07-09T17:31:33.576Z"
   },
   {
    "duration": 11,
    "start_time": "2022-07-09T17:31:33.586Z"
   },
   {
    "duration": 10,
    "start_time": "2022-07-09T17:31:33.599Z"
   },
   {
    "duration": 36,
    "start_time": "2022-07-09T17:31:33.611Z"
   },
   {
    "duration": 18,
    "start_time": "2022-07-09T17:31:33.650Z"
   },
   {
    "duration": 3,
    "start_time": "2022-07-09T17:31:33.670Z"
   },
   {
    "duration": 14,
    "start_time": "2022-07-09T17:31:33.675Z"
   },
   {
    "duration": 6,
    "start_time": "2022-07-09T17:31:33.691Z"
   },
   {
    "duration": 47,
    "start_time": "2022-07-09T17:31:33.699Z"
   },
   {
    "duration": 7,
    "start_time": "2022-07-09T17:31:33.748Z"
   },
   {
    "duration": 7,
    "start_time": "2022-07-09T17:31:33.757Z"
   },
   {
    "duration": 6,
    "start_time": "2022-07-09T17:31:33.766Z"
   },
   {
    "duration": 8,
    "start_time": "2022-07-09T17:31:33.773Z"
   },
   {
    "duration": 31,
    "start_time": "2022-07-09T17:31:33.783Z"
   },
   {
    "duration": 31,
    "start_time": "2022-07-09T17:31:33.816Z"
   },
   {
    "duration": 6,
    "start_time": "2022-07-09T17:31:33.849Z"
   },
   {
    "duration": 21,
    "start_time": "2022-07-09T17:31:33.856Z"
   },
   {
    "duration": 3,
    "start_time": "2022-07-09T17:31:33.879Z"
   },
   {
    "duration": 10,
    "start_time": "2022-07-09T17:31:33.884Z"
   },
   {
    "duration": 13,
    "start_time": "2022-07-09T17:31:33.896Z"
   },
   {
    "duration": 51,
    "start_time": "2022-07-09T17:31:33.911Z"
   },
   {
    "duration": 0,
    "start_time": "2022-07-09T17:31:33.964Z"
   },
   {
    "duration": 0,
    "start_time": "2022-07-09T17:31:33.965Z"
   },
   {
    "duration": 0,
    "start_time": "2022-07-09T17:31:33.967Z"
   },
   {
    "duration": 0,
    "start_time": "2022-07-09T17:31:33.969Z"
   },
   {
    "duration": 0,
    "start_time": "2022-07-09T17:31:33.971Z"
   },
   {
    "duration": 0,
    "start_time": "2022-07-09T17:31:33.972Z"
   },
   {
    "duration": 0,
    "start_time": "2022-07-09T17:31:33.973Z"
   },
   {
    "duration": 0,
    "start_time": "2022-07-09T17:31:33.975Z"
   },
   {
    "duration": 0,
    "start_time": "2022-07-09T17:31:33.977Z"
   },
   {
    "duration": 0,
    "start_time": "2022-07-09T17:31:33.978Z"
   },
   {
    "duration": 0,
    "start_time": "2022-07-09T17:31:33.980Z"
   },
   {
    "duration": 0,
    "start_time": "2022-07-09T17:31:33.981Z"
   },
   {
    "duration": 0,
    "start_time": "2022-07-09T17:31:33.983Z"
   },
   {
    "duration": 0,
    "start_time": "2022-07-09T17:31:33.985Z"
   },
   {
    "duration": 0,
    "start_time": "2022-07-09T17:31:33.987Z"
   },
   {
    "duration": 0,
    "start_time": "2022-07-09T17:31:33.988Z"
   },
   {
    "duration": 0,
    "start_time": "2022-07-09T17:31:33.990Z"
   },
   {
    "duration": 0,
    "start_time": "2022-07-09T17:31:33.992Z"
   },
   {
    "duration": 0,
    "start_time": "2022-07-09T17:31:33.994Z"
   },
   {
    "duration": 0,
    "start_time": "2022-07-09T17:31:33.996Z"
   },
   {
    "duration": 0,
    "start_time": "2022-07-09T17:31:34.000Z"
   },
   {
    "duration": 0,
    "start_time": "2022-07-09T17:31:34.001Z"
   },
   {
    "duration": 0,
    "start_time": "2022-07-09T17:31:34.003Z"
   },
   {
    "duration": 0,
    "start_time": "2022-07-09T17:31:34.004Z"
   },
   {
    "duration": 0,
    "start_time": "2022-07-09T17:31:34.047Z"
   },
   {
    "duration": 0,
    "start_time": "2022-07-09T17:31:34.049Z"
   },
   {
    "duration": 0,
    "start_time": "2022-07-09T17:31:34.050Z"
   },
   {
    "duration": 0,
    "start_time": "2022-07-09T17:31:34.052Z"
   },
   {
    "duration": 0,
    "start_time": "2022-07-09T17:31:34.053Z"
   },
   {
    "duration": 0,
    "start_time": "2022-07-09T17:31:34.054Z"
   },
   {
    "duration": 0,
    "start_time": "2022-07-09T17:31:34.054Z"
   },
   {
    "duration": 0,
    "start_time": "2022-07-09T17:31:34.056Z"
   },
   {
    "duration": 0,
    "start_time": "2022-07-09T17:31:34.057Z"
   },
   {
    "duration": 0,
    "start_time": "2022-07-09T17:31:34.059Z"
   },
   {
    "duration": 0,
    "start_time": "2022-07-09T17:31:34.060Z"
   },
   {
    "duration": 0,
    "start_time": "2022-07-09T17:31:34.061Z"
   },
   {
    "duration": 0,
    "start_time": "2022-07-09T17:31:34.062Z"
   },
   {
    "duration": 0,
    "start_time": "2022-07-09T17:31:34.064Z"
   },
   {
    "duration": 0,
    "start_time": "2022-07-09T17:31:34.065Z"
   },
   {
    "duration": 0,
    "start_time": "2022-07-09T17:31:34.067Z"
   },
   {
    "duration": 0,
    "start_time": "2022-07-09T17:31:34.068Z"
   },
   {
    "duration": 0,
    "start_time": "2022-07-09T17:31:34.069Z"
   },
   {
    "duration": 15,
    "start_time": "2022-07-09T17:31:48.709Z"
   },
   {
    "duration": 3,
    "start_time": "2022-07-09T17:32:02.060Z"
   },
   {
    "duration": 2,
    "start_time": "2022-07-09T17:32:05.311Z"
   },
   {
    "duration": 2,
    "start_time": "2022-07-09T17:32:06.747Z"
   },
   {
    "duration": 6,
    "start_time": "2022-07-09T17:32:10.049Z"
   },
   {
    "duration": 61,
    "start_time": "2022-07-09T17:32:13.599Z"
   },
   {
    "duration": 7,
    "start_time": "2022-07-09T17:32:22.367Z"
   },
   {
    "duration": 13,
    "start_time": "2022-07-09T17:32:31.236Z"
   },
   {
    "duration": 3,
    "start_time": "2022-07-09T17:32:35.125Z"
   },
   {
    "duration": 32,
    "start_time": "2022-07-09T17:32:42.060Z"
   },
   {
    "duration": 6,
    "start_time": "2022-07-09T17:32:47.535Z"
   },
   {
    "duration": 16,
    "start_time": "2022-07-09T17:32:50.393Z"
   },
   {
    "duration": 64,
    "start_time": "2022-07-09T17:32:56.963Z"
   },
   {
    "duration": 15,
    "start_time": "2022-07-09T17:33:04.912Z"
   },
   {
    "duration": 10,
    "start_time": "2022-07-09T17:33:11.765Z"
   },
   {
    "duration": 5,
    "start_time": "2022-07-09T17:33:17.951Z"
   },
   {
    "duration": 25,
    "start_time": "2022-07-09T17:33:25.000Z"
   },
   {
    "duration": 11,
    "start_time": "2022-07-09T17:33:29.385Z"
   },
   {
    "duration": 12,
    "start_time": "2022-07-09T18:14:01.290Z"
   },
   {
    "duration": 11,
    "start_time": "2022-07-09T18:14:03.183Z"
   },
   {
    "duration": 16,
    "start_time": "2022-07-09T18:14:11.905Z"
   },
   {
    "duration": 6,
    "start_time": "2022-07-09T18:14:52.698Z"
   },
   {
    "duration": 13,
    "start_time": "2022-07-09T18:14:56.682Z"
   },
   {
    "duration": 5,
    "start_time": "2022-07-09T18:16:13.734Z"
   },
   {
    "duration": 6,
    "start_time": "2022-07-09T18:36:13.624Z"
   },
   {
    "duration": 49,
    "start_time": "2022-07-09T18:37:41.387Z"
   },
   {
    "duration": 15,
    "start_time": "2022-07-09T18:37:53.687Z"
   },
   {
    "duration": 13,
    "start_time": "2022-07-09T18:38:10.050Z"
   },
   {
    "duration": 44,
    "start_time": "2022-07-09T18:38:26.894Z"
   },
   {
    "duration": 13,
    "start_time": "2022-07-09T18:38:30.439Z"
   },
   {
    "duration": 13,
    "start_time": "2022-07-09T18:38:42.733Z"
   },
   {
    "duration": 14,
    "start_time": "2022-07-09T18:38:53.288Z"
   },
   {
    "duration": 14,
    "start_time": "2022-07-09T18:39:31.039Z"
   },
   {
    "duration": 12,
    "start_time": "2022-07-09T18:40:14.046Z"
   },
   {
    "duration": 6,
    "start_time": "2022-07-09T18:40:36.767Z"
   },
   {
    "duration": 8,
    "start_time": "2022-07-09T18:41:13.839Z"
   },
   {
    "duration": 7,
    "start_time": "2022-07-09T18:41:19.731Z"
   },
   {
    "duration": 7,
    "start_time": "2022-07-09T18:41:20.738Z"
   },
   {
    "duration": 8,
    "start_time": "2022-07-09T18:41:22.042Z"
   },
   {
    "duration": 11,
    "start_time": "2022-07-09T18:41:25.637Z"
   },
   {
    "duration": 486,
    "start_time": "2022-07-09T18:41:55.032Z"
   },
   {
    "duration": 18,
    "start_time": "2022-07-09T18:41:55.520Z"
   },
   {
    "duration": 20,
    "start_time": "2022-07-09T18:41:55.540Z"
   },
   {
    "duration": 7,
    "start_time": "2022-07-09T18:41:55.562Z"
   },
   {
    "duration": 14,
    "start_time": "2022-07-09T18:41:55.570Z"
   },
   {
    "duration": 14,
    "start_time": "2022-07-09T18:41:55.585Z"
   },
   {
    "duration": 18,
    "start_time": "2022-07-09T18:41:55.600Z"
   },
   {
    "duration": 82,
    "start_time": "2022-07-09T18:41:55.619Z"
   },
   {
    "duration": 2,
    "start_time": "2022-07-09T18:41:55.703Z"
   },
   {
    "duration": 7,
    "start_time": "2022-07-09T18:41:55.707Z"
   },
   {
    "duration": 17,
    "start_time": "2022-07-09T18:41:55.715Z"
   },
   {
    "duration": 4,
    "start_time": "2022-07-09T18:41:55.746Z"
   },
   {
    "duration": 14,
    "start_time": "2022-07-09T18:41:55.751Z"
   },
   {
    "duration": 5,
    "start_time": "2022-07-09T18:41:55.766Z"
   },
   {
    "duration": 9,
    "start_time": "2022-07-09T18:41:55.772Z"
   },
   {
    "duration": 8,
    "start_time": "2022-07-09T18:41:55.782Z"
   },
   {
    "duration": 12,
    "start_time": "2022-07-09T18:41:55.792Z"
   },
   {
    "duration": 41,
    "start_time": "2022-07-09T18:41:55.805Z"
   },
   {
    "duration": 2,
    "start_time": "2022-07-09T18:41:55.848Z"
   },
   {
    "duration": 9,
    "start_time": "2022-07-09T18:41:55.852Z"
   },
   {
    "duration": 9,
    "start_time": "2022-07-09T18:41:55.862Z"
   },
   {
    "duration": 15,
    "start_time": "2022-07-09T18:41:55.872Z"
   },
   {
    "duration": 8,
    "start_time": "2022-07-09T18:41:55.889Z"
   },
   {
    "duration": 5,
    "start_time": "2022-07-09T18:41:55.898Z"
   },
   {
    "duration": 6,
    "start_time": "2022-07-09T18:41:55.904Z"
   },
   {
    "duration": 40,
    "start_time": "2022-07-09T18:41:55.911Z"
   },
   {
    "duration": 8,
    "start_time": "2022-07-09T18:41:55.952Z"
   },
   {
    "duration": 8,
    "start_time": "2022-07-09T18:41:55.964Z"
   },
   {
    "duration": 6,
    "start_time": "2022-07-09T18:41:55.973Z"
   },
   {
    "duration": 6,
    "start_time": "2022-07-09T18:41:55.980Z"
   },
   {
    "duration": 13,
    "start_time": "2022-07-09T18:41:55.988Z"
   },
   {
    "duration": 9,
    "start_time": "2022-07-09T18:41:56.002Z"
   },
   {
    "duration": 38,
    "start_time": "2022-07-09T18:41:56.012Z"
   },
   {
    "duration": 2,
    "start_time": "2022-07-09T18:41:56.052Z"
   },
   {
    "duration": 16,
    "start_time": "2022-07-09T18:41:56.055Z"
   },
   {
    "duration": 14,
    "start_time": "2022-07-09T18:41:56.073Z"
   },
   {
    "duration": 15,
    "start_time": "2022-07-09T18:41:56.088Z"
   },
   {
    "duration": 12,
    "start_time": "2022-07-09T18:41:56.105Z"
   },
   {
    "duration": 6,
    "start_time": "2022-07-09T18:41:56.118Z"
   },
   {
    "duration": 21,
    "start_time": "2022-07-09T18:41:56.125Z"
   },
   {
    "duration": 5,
    "start_time": "2022-07-09T18:41:56.148Z"
   },
   {
    "duration": 25,
    "start_time": "2022-07-09T18:41:56.154Z"
   },
   {
    "duration": 6,
    "start_time": "2022-07-09T18:41:56.180Z"
   },
   {
    "duration": 5,
    "start_time": "2022-07-09T18:41:56.188Z"
   },
   {
    "duration": 14,
    "start_time": "2022-07-09T18:41:56.194Z"
   },
   {
    "duration": 2,
    "start_time": "2022-07-09T18:41:56.210Z"
   },
   {
    "duration": 5,
    "start_time": "2022-07-09T18:41:56.214Z"
   },
   {
    "duration": 5,
    "start_time": "2022-07-09T18:41:56.246Z"
   },
   {
    "duration": 7,
    "start_time": "2022-07-09T18:41:56.253Z"
   },
   {
    "duration": 23,
    "start_time": "2022-07-09T18:41:56.262Z"
   },
   {
    "duration": 1,
    "start_time": "2022-07-09T18:41:56.288Z"
   },
   {
    "duration": 30,
    "start_time": "2022-07-09T18:41:56.291Z"
   },
   {
    "duration": 4,
    "start_time": "2022-07-09T18:41:56.323Z"
   },
   {
    "duration": 2,
    "start_time": "2022-07-09T18:41:56.346Z"
   },
   {
    "duration": 6,
    "start_time": "2022-07-09T18:41:56.350Z"
   },
   {
    "duration": 16,
    "start_time": "2022-07-09T18:41:56.358Z"
   },
   {
    "duration": 8,
    "start_time": "2022-07-09T18:41:56.376Z"
   },
   {
    "duration": 24,
    "start_time": "2022-07-09T18:41:56.386Z"
   },
   {
    "duration": 2,
    "start_time": "2022-07-09T18:41:56.412Z"
   },
   {
    "duration": 5,
    "start_time": "2022-07-09T18:41:56.416Z"
   },
   {
    "duration": 25,
    "start_time": "2022-07-09T18:41:56.422Z"
   },
   {
    "duration": 12,
    "start_time": "2022-07-09T18:41:56.449Z"
   },
   {
    "duration": 6,
    "start_time": "2022-07-09T18:41:56.462Z"
   },
   {
    "duration": 7,
    "start_time": "2022-07-09T18:41:56.470Z"
   },
   {
    "duration": 12,
    "start_time": "2022-07-09T18:41:56.478Z"
   },
   {
    "duration": 8,
    "start_time": "2022-07-09T18:41:56.491Z"
   },
   {
    "duration": 7,
    "start_time": "2022-07-09T18:41:56.501Z"
   },
   {
    "duration": 8,
    "start_time": "2022-07-09T18:41:56.510Z"
   },
   {
    "duration": 8,
    "start_time": "2022-07-09T18:41:56.519Z"
   },
   {
    "duration": 9,
    "start_time": "2022-07-09T18:41:56.529Z"
   },
   {
    "duration": 7,
    "start_time": "2022-07-09T18:41:56.539Z"
   },
   {
    "duration": 4,
    "start_time": "2022-07-09T18:41:56.548Z"
   },
   {
    "duration": 7,
    "start_time": "2022-07-09T18:41:56.554Z"
   },
   {
    "duration": 4,
    "start_time": "2022-07-09T18:41:56.563Z"
   },
   {
    "duration": 8,
    "start_time": "2022-07-09T18:41:56.568Z"
   },
   {
    "duration": 7,
    "start_time": "2022-07-09T18:41:56.577Z"
   },
   {
    "duration": 4,
    "start_time": "2022-07-09T18:41:56.586Z"
   },
   {
    "duration": 6,
    "start_time": "2022-07-09T18:41:56.591Z"
   },
   {
    "duration": 5,
    "start_time": "2022-07-09T18:41:56.598Z"
   },
   {
    "duration": 4,
    "start_time": "2022-07-09T18:41:56.605Z"
   },
   {
    "duration": 5,
    "start_time": "2022-07-09T18:41:56.610Z"
   },
   {
    "duration": 3,
    "start_time": "2022-07-09T18:41:56.619Z"
   },
   {
    "duration": 7,
    "start_time": "2022-07-09T18:41:56.623Z"
   },
   {
    "duration": 14,
    "start_time": "2022-07-09T18:41:56.631Z"
   },
   {
    "duration": 2,
    "start_time": "2022-07-09T18:41:56.647Z"
   },
   {
    "duration": 5,
    "start_time": "2022-07-09T18:41:56.650Z"
   },
   {
    "duration": 6,
    "start_time": "2022-07-09T18:41:56.656Z"
   },
   {
    "duration": 5,
    "start_time": "2022-07-09T18:41:56.663Z"
   },
   {
    "duration": 4,
    "start_time": "2022-07-09T18:41:56.670Z"
   },
   {
    "duration": 8,
    "start_time": "2022-07-09T18:41:56.675Z"
   },
   {
    "duration": 8,
    "start_time": "2022-07-09T18:41:56.684Z"
   },
   {
    "duration": 7,
    "start_time": "2022-07-09T18:41:56.694Z"
   },
   {
    "duration": 72,
    "start_time": "2022-07-09T20:41:40.272Z"
   },
   {
    "duration": 15,
    "start_time": "2022-07-09T20:43:34.197Z"
   },
   {
    "duration": 9,
    "start_time": "2022-07-09T21:03:18.696Z"
   },
   {
    "duration": 56,
    "start_time": "2022-07-09T21:04:20.916Z"
   },
   {
    "duration": 16,
    "start_time": "2022-07-09T21:04:25.645Z"
   },
   {
    "duration": 14,
    "start_time": "2022-07-09T21:04:31.989Z"
   },
   {
    "duration": 10,
    "start_time": "2022-07-09T21:04:40.827Z"
   },
   {
    "duration": 14,
    "start_time": "2022-07-09T21:05:53.942Z"
   },
   {
    "duration": 20,
    "start_time": "2022-07-09T21:08:45.642Z"
   },
   {
    "duration": 12,
    "start_time": "2022-07-09T21:09:01.086Z"
   },
   {
    "duration": 10,
    "start_time": "2022-07-09T21:09:10.121Z"
   },
   {
    "duration": 24,
    "start_time": "2022-07-09T21:09:27.873Z"
   },
   {
    "duration": 5,
    "start_time": "2022-07-09T21:09:45.324Z"
   },
   {
    "duration": 4,
    "start_time": "2022-07-09T21:12:13.203Z"
   },
   {
    "duration": 47,
    "start_time": "2022-07-09T21:12:33.374Z"
   },
   {
    "duration": 9,
    "start_time": "2022-07-09T21:12:42.412Z"
   },
   {
    "duration": 10,
    "start_time": "2022-07-09T21:14:15.653Z"
   },
   {
    "duration": 66,
    "start_time": "2022-07-09T21:14:23.024Z"
   },
   {
    "duration": 6,
    "start_time": "2022-07-09T21:14:27.768Z"
   },
   {
    "duration": 6,
    "start_time": "2022-07-09T21:14:31.645Z"
   },
   {
    "duration": 9,
    "start_time": "2022-07-09T21:14:34.308Z"
   },
   {
    "duration": 10,
    "start_time": "2022-07-09T21:15:04.206Z"
   },
   {
    "duration": 29,
    "start_time": "2022-07-09T21:17:44.645Z"
   },
   {
    "duration": 10,
    "start_time": "2022-07-09T21:18:11.724Z"
   },
   {
    "duration": 43,
    "start_time": "2022-07-10T21:00:23.450Z"
   },
   {
    "duration": 559,
    "start_time": "2022-07-10T21:00:32.501Z"
   },
   {
    "duration": 19,
    "start_time": "2022-07-10T21:00:33.062Z"
   },
   {
    "duration": 17,
    "start_time": "2022-07-10T21:00:33.083Z"
   },
   {
    "duration": 6,
    "start_time": "2022-07-10T21:00:33.102Z"
   },
   {
    "duration": 19,
    "start_time": "2022-07-10T21:00:33.109Z"
   },
   {
    "duration": 10,
    "start_time": "2022-07-10T21:00:33.130Z"
   },
   {
    "duration": 18,
    "start_time": "2022-07-10T21:00:33.141Z"
   },
   {
    "duration": 80,
    "start_time": "2022-07-10T21:00:33.160Z"
   },
   {
    "duration": 2,
    "start_time": "2022-07-10T21:00:33.242Z"
   },
   {
    "duration": 5,
    "start_time": "2022-07-10T21:00:33.246Z"
   },
   {
    "duration": 14,
    "start_time": "2022-07-10T21:00:33.253Z"
   },
   {
    "duration": 4,
    "start_time": "2022-07-10T21:00:33.269Z"
   },
   {
    "duration": 15,
    "start_time": "2022-07-10T21:00:33.275Z"
   },
   {
    "duration": 5,
    "start_time": "2022-07-10T21:00:33.291Z"
   },
   {
    "duration": 6,
    "start_time": "2022-07-10T21:00:33.323Z"
   },
   {
    "duration": 7,
    "start_time": "2022-07-10T21:00:33.331Z"
   },
   {
    "duration": 9,
    "start_time": "2022-07-10T21:00:33.340Z"
   },
   {
    "duration": 10,
    "start_time": "2022-07-10T21:00:33.351Z"
   },
   {
    "duration": 4,
    "start_time": "2022-07-10T21:00:33.362Z"
   },
   {
    "duration": 14,
    "start_time": "2022-07-10T21:00:33.367Z"
   },
   {
    "duration": 15,
    "start_time": "2022-07-10T21:00:33.382Z"
   },
   {
    "duration": 38,
    "start_time": "2022-07-10T21:00:33.398Z"
   },
   {
    "duration": 9,
    "start_time": "2022-07-10T21:00:33.437Z"
   },
   {
    "duration": 3,
    "start_time": "2022-07-10T21:00:33.448Z"
   },
   {
    "duration": 6,
    "start_time": "2022-07-10T21:00:33.452Z"
   },
   {
    "duration": 8,
    "start_time": "2022-07-10T21:00:33.459Z"
   },
   {
    "duration": 11,
    "start_time": "2022-07-10T21:00:33.468Z"
   },
   {
    "duration": 7,
    "start_time": "2022-07-10T21:00:33.483Z"
   },
   {
    "duration": 33,
    "start_time": "2022-07-10T21:00:33.492Z"
   },
   {
    "duration": 8,
    "start_time": "2022-07-10T21:00:33.526Z"
   },
   {
    "duration": 12,
    "start_time": "2022-07-10T21:00:33.535Z"
   },
   {
    "duration": 9,
    "start_time": "2022-07-10T21:00:33.548Z"
   },
   {
    "duration": 12,
    "start_time": "2022-07-10T21:00:33.559Z"
   },
   {
    "duration": 2,
    "start_time": "2022-07-10T21:00:33.572Z"
   },
   {
    "duration": 9,
    "start_time": "2022-07-10T21:00:33.576Z"
   },
   {
    "duration": 4,
    "start_time": "2022-07-10T21:00:33.586Z"
   },
   {
    "duration": 32,
    "start_time": "2022-07-10T21:00:33.592Z"
   },
   {
    "duration": 6,
    "start_time": "2022-07-10T21:00:33.625Z"
   },
   {
    "duration": 4,
    "start_time": "2022-07-10T21:00:33.633Z"
   },
   {
    "duration": 4,
    "start_time": "2022-07-10T21:00:33.639Z"
   },
   {
    "duration": 5,
    "start_time": "2022-07-10T21:00:33.644Z"
   },
   {
    "duration": 21,
    "start_time": "2022-07-10T21:00:33.650Z"
   },
   {
    "duration": 6,
    "start_time": "2022-07-10T21:00:33.672Z"
   },
   {
    "duration": 6,
    "start_time": "2022-07-10T21:00:33.679Z"
   },
   {
    "duration": 41,
    "start_time": "2022-07-10T21:00:33.687Z"
   },
   {
    "duration": 3,
    "start_time": "2022-07-10T21:00:33.730Z"
   },
   {
    "duration": 5,
    "start_time": "2022-07-10T21:00:33.735Z"
   },
   {
    "duration": 8,
    "start_time": "2022-07-10T21:00:33.741Z"
   },
   {
    "duration": 6,
    "start_time": "2022-07-10T21:00:33.750Z"
   },
   {
    "duration": 12,
    "start_time": "2022-07-10T21:00:33.757Z"
   },
   {
    "duration": 2,
    "start_time": "2022-07-10T21:00:33.771Z"
   },
   {
    "duration": 26,
    "start_time": "2022-07-10T21:00:33.774Z"
   },
   {
    "duration": 24,
    "start_time": "2022-07-10T21:00:33.801Z"
   },
   {
    "duration": 5,
    "start_time": "2022-07-10T21:00:33.826Z"
   },
   {
    "duration": 5,
    "start_time": "2022-07-10T21:00:33.833Z"
   },
   {
    "duration": 22,
    "start_time": "2022-07-10T21:00:33.839Z"
   },
   {
    "duration": 7,
    "start_time": "2022-07-10T21:00:33.862Z"
   },
   {
    "duration": 17,
    "start_time": "2022-07-10T21:00:33.871Z"
   },
   {
    "duration": 72,
    "start_time": "2022-07-10T21:00:33.890Z"
   },
   {
    "duration": 0,
    "start_time": "2022-07-10T21:00:33.964Z"
   },
   {
    "duration": 0,
    "start_time": "2022-07-10T21:00:33.965Z"
   },
   {
    "duration": 0,
    "start_time": "2022-07-10T21:00:33.966Z"
   },
   {
    "duration": 0,
    "start_time": "2022-07-10T21:00:33.967Z"
   },
   {
    "duration": 0,
    "start_time": "2022-07-10T21:00:33.968Z"
   },
   {
    "duration": 0,
    "start_time": "2022-07-10T21:00:33.969Z"
   },
   {
    "duration": 0,
    "start_time": "2022-07-10T21:00:33.970Z"
   },
   {
    "duration": 0,
    "start_time": "2022-07-10T21:00:33.971Z"
   },
   {
    "duration": 0,
    "start_time": "2022-07-10T21:00:33.972Z"
   },
   {
    "duration": 0,
    "start_time": "2022-07-10T21:00:33.973Z"
   },
   {
    "duration": 0,
    "start_time": "2022-07-10T21:00:33.974Z"
   },
   {
    "duration": 0,
    "start_time": "2022-07-10T21:00:33.975Z"
   },
   {
    "duration": 0,
    "start_time": "2022-07-10T21:00:33.976Z"
   },
   {
    "duration": 0,
    "start_time": "2022-07-10T21:00:33.977Z"
   },
   {
    "duration": 0,
    "start_time": "2022-07-10T21:00:33.978Z"
   },
   {
    "duration": 0,
    "start_time": "2022-07-10T21:00:33.980Z"
   },
   {
    "duration": 0,
    "start_time": "2022-07-10T21:00:33.981Z"
   },
   {
    "duration": 0,
    "start_time": "2022-07-10T21:00:33.982Z"
   },
   {
    "duration": 0,
    "start_time": "2022-07-10T21:00:33.983Z"
   },
   {
    "duration": 0,
    "start_time": "2022-07-10T21:00:33.984Z"
   },
   {
    "duration": 0,
    "start_time": "2022-07-10T21:00:34.023Z"
   },
   {
    "duration": 0,
    "start_time": "2022-07-10T21:00:34.025Z"
   },
   {
    "duration": 0,
    "start_time": "2022-07-10T21:00:34.026Z"
   },
   {
    "duration": 0,
    "start_time": "2022-07-10T21:00:34.027Z"
   },
   {
    "duration": 0,
    "start_time": "2022-07-10T21:00:34.028Z"
   },
   {
    "duration": 0,
    "start_time": "2022-07-10T21:00:34.029Z"
   },
   {
    "duration": 0,
    "start_time": "2022-07-10T21:00:34.030Z"
   },
   {
    "duration": 0,
    "start_time": "2022-07-10T21:00:34.031Z"
   },
   {
    "duration": 0,
    "start_time": "2022-07-10T21:00:34.032Z"
   },
   {
    "duration": 0,
    "start_time": "2022-07-10T21:00:34.034Z"
   },
   {
    "duration": 0,
    "start_time": "2022-07-10T21:00:34.035Z"
   },
   {
    "duration": 0,
    "start_time": "2022-07-10T21:00:34.036Z"
   },
   {
    "duration": 0,
    "start_time": "2022-07-10T21:00:34.037Z"
   },
   {
    "duration": 0,
    "start_time": "2022-07-10T21:00:34.038Z"
   },
   {
    "duration": 0,
    "start_time": "2022-07-10T21:00:34.039Z"
   },
   {
    "duration": 1,
    "start_time": "2022-07-10T21:00:34.040Z"
   },
   {
    "duration": 10,
    "start_time": "2022-07-10T22:17:38.849Z"
   },
   {
    "duration": 9,
    "start_time": "2022-07-10T23:00:50.294Z"
   },
   {
    "duration": 23,
    "start_time": "2022-07-10T23:05:42.448Z"
   },
   {
    "duration": 7,
    "start_time": "2022-07-10T23:06:09.225Z"
   },
   {
    "duration": 16,
    "start_time": "2022-07-10T23:06:46.135Z"
   },
   {
    "duration": 15,
    "start_time": "2022-07-10T23:06:49.100Z"
   },
   {
    "duration": 25,
    "start_time": "2022-07-10T23:39:41.179Z"
   },
   {
    "duration": 7,
    "start_time": "2022-07-10T23:40:02.437Z"
   },
   {
    "duration": 7,
    "start_time": "2022-07-10T23:40:18.299Z"
   },
   {
    "duration": 9,
    "start_time": "2022-07-10T23:40:26.922Z"
   },
   {
    "duration": 10,
    "start_time": "2022-07-11T00:41:18.262Z"
   },
   {
    "duration": 530,
    "start_time": "2022-07-11T02:46:11.658Z"
   },
   {
    "duration": 17,
    "start_time": "2022-07-11T02:46:12.190Z"
   },
   {
    "duration": 17,
    "start_time": "2022-07-11T02:46:12.209Z"
   },
   {
    "duration": 8,
    "start_time": "2022-07-11T02:46:12.227Z"
   },
   {
    "duration": 11,
    "start_time": "2022-07-11T02:46:12.237Z"
   },
   {
    "duration": 10,
    "start_time": "2022-07-11T02:46:12.250Z"
   },
   {
    "duration": 18,
    "start_time": "2022-07-11T02:46:12.261Z"
   },
   {
    "duration": 78,
    "start_time": "2022-07-11T02:46:12.281Z"
   },
   {
    "duration": 2,
    "start_time": "2022-07-11T02:46:12.361Z"
   },
   {
    "duration": 7,
    "start_time": "2022-07-11T02:46:12.365Z"
   },
   {
    "duration": 15,
    "start_time": "2022-07-11T02:46:12.373Z"
   },
   {
    "duration": 5,
    "start_time": "2022-07-11T02:46:12.390Z"
   },
   {
    "duration": 27,
    "start_time": "2022-07-11T02:46:12.397Z"
   },
   {
    "duration": 5,
    "start_time": "2022-07-11T02:46:12.425Z"
   },
   {
    "duration": 8,
    "start_time": "2022-07-11T02:46:12.432Z"
   },
   {
    "duration": 10,
    "start_time": "2022-07-11T02:46:12.441Z"
   },
   {
    "duration": 11,
    "start_time": "2022-07-11T02:46:12.452Z"
   },
   {
    "duration": 10,
    "start_time": "2022-07-11T02:46:12.464Z"
   },
   {
    "duration": 2,
    "start_time": "2022-07-11T02:46:12.475Z"
   },
   {
    "duration": 13,
    "start_time": "2022-07-11T02:46:12.479Z"
   },
   {
    "duration": 11,
    "start_time": "2022-07-11T02:46:12.524Z"
   },
   {
    "duration": 7,
    "start_time": "2022-07-11T02:46:12.536Z"
   },
   {
    "duration": 9,
    "start_time": "2022-07-11T02:46:12.545Z"
   },
   {
    "duration": 10,
    "start_time": "2022-07-11T02:46:12.555Z"
   },
   {
    "duration": 2,
    "start_time": "2022-07-11T02:46:12.567Z"
   },
   {
    "duration": 6,
    "start_time": "2022-07-11T02:46:12.570Z"
   },
   {
    "duration": 8,
    "start_time": "2022-07-11T02:46:12.578Z"
   },
   {
    "duration": 36,
    "start_time": "2022-07-11T02:46:12.590Z"
   },
   {
    "duration": 8,
    "start_time": "2022-07-11T02:46:12.628Z"
   },
   {
    "duration": 10,
    "start_time": "2022-07-11T02:46:12.637Z"
   },
   {
    "duration": 7,
    "start_time": "2022-07-11T02:46:12.648Z"
   },
   {
    "duration": 10,
    "start_time": "2022-07-11T02:46:12.656Z"
   },
   {
    "duration": 6,
    "start_time": "2022-07-11T02:46:12.667Z"
   },
   {
    "duration": 11,
    "start_time": "2022-07-11T02:46:12.674Z"
   },
   {
    "duration": 2,
    "start_time": "2022-07-11T02:46:12.687Z"
   },
   {
    "duration": 9,
    "start_time": "2022-07-11T02:46:12.723Z"
   },
   {
    "duration": 6,
    "start_time": "2022-07-11T02:46:12.734Z"
   },
   {
    "duration": 12,
    "start_time": "2022-07-11T02:46:12.742Z"
   },
   {
    "duration": 7,
    "start_time": "2022-07-11T02:46:12.755Z"
   },
   {
    "duration": 5,
    "start_time": "2022-07-11T02:46:12.764Z"
   },
   {
    "duration": 7,
    "start_time": "2022-07-11T02:46:12.771Z"
   },
   {
    "duration": 6,
    "start_time": "2022-07-11T02:46:12.780Z"
   },
   {
    "duration": 39,
    "start_time": "2022-07-11T02:46:12.788Z"
   },
   {
    "duration": 5,
    "start_time": "2022-07-11T02:46:12.829Z"
   },
   {
    "duration": 6,
    "start_time": "2022-07-11T02:46:12.836Z"
   },
   {
    "duration": 11,
    "start_time": "2022-07-11T02:46:12.844Z"
   },
   {
    "duration": 5,
    "start_time": "2022-07-11T02:46:12.856Z"
   },
   {
    "duration": 7,
    "start_time": "2022-07-11T02:46:12.862Z"
   },
   {
    "duration": 8,
    "start_time": "2022-07-11T02:46:12.871Z"
   },
   {
    "duration": 7,
    "start_time": "2022-07-11T02:46:12.880Z"
   },
   {
    "duration": 37,
    "start_time": "2022-07-11T02:46:12.889Z"
   },
   {
    "duration": 2,
    "start_time": "2022-07-11T02:46:12.927Z"
   },
   {
    "duration": 31,
    "start_time": "2022-07-11T02:46:12.931Z"
   },
   {
    "duration": 4,
    "start_time": "2022-07-11T02:46:12.963Z"
   },
   {
    "duration": 6,
    "start_time": "2022-07-11T02:46:12.968Z"
   },
   {
    "duration": 5,
    "start_time": "2022-07-11T02:46:12.975Z"
   },
   {
    "duration": 17,
    "start_time": "2022-07-11T02:46:12.982Z"
   },
   {
    "duration": 8,
    "start_time": "2022-07-11T02:46:13.000Z"
   },
   {
    "duration": 15,
    "start_time": "2022-07-11T02:46:13.024Z"
   },
   {
    "duration": 60,
    "start_time": "2022-07-11T02:46:13.041Z"
   },
   {
    "duration": 0,
    "start_time": "2022-07-11T02:46:13.103Z"
   },
   {
    "duration": 0,
    "start_time": "2022-07-11T02:46:13.124Z"
   },
   {
    "duration": 0,
    "start_time": "2022-07-11T02:46:13.125Z"
   },
   {
    "duration": 0,
    "start_time": "2022-07-11T02:46:13.126Z"
   },
   {
    "duration": 0,
    "start_time": "2022-07-11T02:46:13.127Z"
   },
   {
    "duration": 0,
    "start_time": "2022-07-11T02:46:13.128Z"
   },
   {
    "duration": 0,
    "start_time": "2022-07-11T02:46:13.129Z"
   },
   {
    "duration": 0,
    "start_time": "2022-07-11T02:46:13.131Z"
   },
   {
    "duration": 0,
    "start_time": "2022-07-11T02:46:13.132Z"
   },
   {
    "duration": 0,
    "start_time": "2022-07-11T02:46:13.133Z"
   },
   {
    "duration": 0,
    "start_time": "2022-07-11T02:46:13.134Z"
   },
   {
    "duration": 0,
    "start_time": "2022-07-11T02:46:13.135Z"
   },
   {
    "duration": 0,
    "start_time": "2022-07-11T02:46:13.137Z"
   },
   {
    "duration": 0,
    "start_time": "2022-07-11T02:46:13.138Z"
   },
   {
    "duration": 0,
    "start_time": "2022-07-11T02:46:13.139Z"
   },
   {
    "duration": 0,
    "start_time": "2022-07-11T02:46:13.140Z"
   },
   {
    "duration": 0,
    "start_time": "2022-07-11T02:46:13.141Z"
   },
   {
    "duration": 0,
    "start_time": "2022-07-11T02:46:13.142Z"
   },
   {
    "duration": 0,
    "start_time": "2022-07-11T02:46:13.143Z"
   },
   {
    "duration": 0,
    "start_time": "2022-07-11T02:46:13.144Z"
   },
   {
    "duration": 0,
    "start_time": "2022-07-11T02:46:13.145Z"
   },
   {
    "duration": 0,
    "start_time": "2022-07-11T02:46:13.146Z"
   },
   {
    "duration": 0,
    "start_time": "2022-07-11T02:46:13.147Z"
   },
   {
    "duration": 0,
    "start_time": "2022-07-11T02:46:13.149Z"
   },
   {
    "duration": 0,
    "start_time": "2022-07-11T02:46:13.150Z"
   },
   {
    "duration": 0,
    "start_time": "2022-07-11T02:46:13.151Z"
   },
   {
    "duration": 0,
    "start_time": "2022-07-11T02:46:13.153Z"
   },
   {
    "duration": 0,
    "start_time": "2022-07-11T02:46:13.154Z"
   },
   {
    "duration": 0,
    "start_time": "2022-07-11T02:46:13.155Z"
   },
   {
    "duration": 0,
    "start_time": "2022-07-11T02:46:13.156Z"
   },
   {
    "duration": 0,
    "start_time": "2022-07-11T02:46:13.157Z"
   },
   {
    "duration": 0,
    "start_time": "2022-07-11T02:46:13.158Z"
   },
   {
    "duration": 0,
    "start_time": "2022-07-11T02:46:13.159Z"
   },
   {
    "duration": 0,
    "start_time": "2022-07-11T02:46:13.223Z"
   },
   {
    "duration": 0,
    "start_time": "2022-07-11T02:46:13.225Z"
   },
   {
    "duration": 0,
    "start_time": "2022-07-11T02:46:13.226Z"
   },
   {
    "duration": 12,
    "start_time": "2022-07-11T03:09:29.630Z"
   },
   {
    "duration": 656,
    "start_time": "2022-07-11T13:39:03.273Z"
   },
   {
    "duration": 19,
    "start_time": "2022-07-11T13:39:03.930Z"
   },
   {
    "duration": 21,
    "start_time": "2022-07-11T13:39:03.951Z"
   },
   {
    "duration": 6,
    "start_time": "2022-07-11T13:39:03.975Z"
   },
   {
    "duration": 40,
    "start_time": "2022-07-11T13:39:03.983Z"
   },
   {
    "duration": 10,
    "start_time": "2022-07-11T13:39:04.025Z"
   },
   {
    "duration": 20,
    "start_time": "2022-07-11T13:39:04.037Z"
   },
   {
    "duration": 87,
    "start_time": "2022-07-11T13:39:04.059Z"
   },
   {
    "duration": 3,
    "start_time": "2022-07-11T13:39:04.148Z"
   },
   {
    "duration": 12,
    "start_time": "2022-07-11T13:39:04.153Z"
   },
   {
    "duration": 19,
    "start_time": "2022-07-11T13:39:04.167Z"
   },
   {
    "duration": 19,
    "start_time": "2022-07-11T13:39:04.188Z"
   },
   {
    "duration": 12,
    "start_time": "2022-07-11T13:39:04.209Z"
   },
   {
    "duration": 7,
    "start_time": "2022-07-11T13:39:04.223Z"
   },
   {
    "duration": 8,
    "start_time": "2022-07-11T13:39:04.232Z"
   },
   {
    "duration": 15,
    "start_time": "2022-07-11T13:39:04.242Z"
   },
   {
    "duration": 48,
    "start_time": "2022-07-11T13:39:04.259Z"
   },
   {
    "duration": 11,
    "start_time": "2022-07-11T13:39:04.309Z"
   },
   {
    "duration": 3,
    "start_time": "2022-07-11T13:39:04.322Z"
   },
   {
    "duration": 8,
    "start_time": "2022-07-11T13:39:04.327Z"
   },
   {
    "duration": 11,
    "start_time": "2022-07-11T13:39:04.337Z"
   },
   {
    "duration": 7,
    "start_time": "2022-07-11T13:39:04.349Z"
   },
   {
    "duration": 11,
    "start_time": "2022-07-11T13:39:04.403Z"
   },
   {
    "duration": 16,
    "start_time": "2022-07-11T13:39:04.416Z"
   },
   {
    "duration": 3,
    "start_time": "2022-07-11T13:39:04.434Z"
   },
   {
    "duration": 6,
    "start_time": "2022-07-11T13:39:04.439Z"
   },
   {
    "duration": 12,
    "start_time": "2022-07-11T13:39:04.446Z"
   },
   {
    "duration": 45,
    "start_time": "2022-07-11T13:39:04.464Z"
   },
   {
    "duration": 10,
    "start_time": "2022-07-11T13:39:04.511Z"
   },
   {
    "duration": 6,
    "start_time": "2022-07-11T13:39:04.523Z"
   },
   {
    "duration": 9,
    "start_time": "2022-07-11T13:39:04.531Z"
   },
   {
    "duration": 12,
    "start_time": "2022-07-11T13:39:04.542Z"
   },
   {
    "duration": 49,
    "start_time": "2022-07-11T13:39:04.556Z"
   },
   {
    "duration": 15,
    "start_time": "2022-07-11T13:39:04.607Z"
   },
   {
    "duration": 3,
    "start_time": "2022-07-11T13:39:04.624Z"
   },
   {
    "duration": 16,
    "start_time": "2022-07-11T13:39:04.629Z"
   },
   {
    "duration": 6,
    "start_time": "2022-07-11T13:39:04.647Z"
   },
   {
    "duration": 9,
    "start_time": "2022-07-11T13:39:04.654Z"
   },
   {
    "duration": 46,
    "start_time": "2022-07-11T13:39:04.665Z"
   },
   {
    "duration": 7,
    "start_time": "2022-07-11T13:39:04.713Z"
   },
   {
    "duration": 5,
    "start_time": "2022-07-11T13:39:04.722Z"
   },
   {
    "duration": 5,
    "start_time": "2022-07-11T13:39:04.729Z"
   },
   {
    "duration": 23,
    "start_time": "2022-07-11T13:39:04.736Z"
   },
   {
    "duration": 7,
    "start_time": "2022-07-11T13:39:04.761Z"
   },
   {
    "duration": 5,
    "start_time": "2022-07-11T13:39:04.805Z"
   },
   {
    "duration": 16,
    "start_time": "2022-07-11T13:39:04.812Z"
   },
   {
    "duration": 4,
    "start_time": "2022-07-11T13:39:04.830Z"
   },
   {
    "duration": 6,
    "start_time": "2022-07-11T13:39:04.836Z"
   },
   {
    "duration": 10,
    "start_time": "2022-07-11T13:39:04.845Z"
   },
   {
    "duration": 10,
    "start_time": "2022-07-11T13:39:04.857Z"
   },
   {
    "duration": 14,
    "start_time": "2022-07-11T13:39:04.904Z"
   },
   {
    "duration": 9,
    "start_time": "2022-07-11T13:39:04.920Z"
   },
   {
    "duration": 32,
    "start_time": "2022-07-11T13:39:04.931Z"
   },
   {
    "duration": 4,
    "start_time": "2022-07-11T13:39:04.965Z"
   },
   {
    "duration": 5,
    "start_time": "2022-07-11T13:39:04.971Z"
   },
   {
    "duration": 3,
    "start_time": "2022-07-11T13:39:05.004Z"
   },
   {
    "duration": 20,
    "start_time": "2022-07-11T13:39:05.009Z"
   },
   {
    "duration": 10,
    "start_time": "2022-07-11T13:39:05.031Z"
   },
   {
    "duration": 63,
    "start_time": "2022-07-11T13:39:05.043Z"
   },
   {
    "duration": 80,
    "start_time": "2022-07-11T13:39:05.111Z"
   },
   {
    "duration": 0,
    "start_time": "2022-07-11T13:39:05.193Z"
   },
   {
    "duration": 0,
    "start_time": "2022-07-11T13:39:05.204Z"
   },
   {
    "duration": 0,
    "start_time": "2022-07-11T13:39:05.206Z"
   },
   {
    "duration": 0,
    "start_time": "2022-07-11T13:39:05.207Z"
   },
   {
    "duration": 0,
    "start_time": "2022-07-11T13:39:05.209Z"
   },
   {
    "duration": 0,
    "start_time": "2022-07-11T13:39:05.210Z"
   },
   {
    "duration": 0,
    "start_time": "2022-07-11T13:39:05.211Z"
   },
   {
    "duration": 0,
    "start_time": "2022-07-11T13:39:05.212Z"
   },
   {
    "duration": 0,
    "start_time": "2022-07-11T13:39:05.213Z"
   },
   {
    "duration": 0,
    "start_time": "2022-07-11T13:39:05.215Z"
   },
   {
    "duration": 0,
    "start_time": "2022-07-11T13:39:05.216Z"
   },
   {
    "duration": 0,
    "start_time": "2022-07-11T13:39:05.217Z"
   },
   {
    "duration": 0,
    "start_time": "2022-07-11T13:39:05.218Z"
   },
   {
    "duration": 0,
    "start_time": "2022-07-11T13:39:05.219Z"
   },
   {
    "duration": 0,
    "start_time": "2022-07-11T13:39:05.220Z"
   },
   {
    "duration": 0,
    "start_time": "2022-07-11T13:39:05.222Z"
   },
   {
    "duration": 0,
    "start_time": "2022-07-11T13:39:05.222Z"
   },
   {
    "duration": 0,
    "start_time": "2022-07-11T13:39:05.223Z"
   },
   {
    "duration": 0,
    "start_time": "2022-07-11T13:39:05.224Z"
   },
   {
    "duration": 0,
    "start_time": "2022-07-11T13:39:05.226Z"
   },
   {
    "duration": 0,
    "start_time": "2022-07-11T13:39:05.227Z"
   },
   {
    "duration": 0,
    "start_time": "2022-07-11T13:39:05.228Z"
   },
   {
    "duration": 0,
    "start_time": "2022-07-11T13:39:05.229Z"
   },
   {
    "duration": 0,
    "start_time": "2022-07-11T13:39:05.230Z"
   },
   {
    "duration": 0,
    "start_time": "2022-07-11T13:39:05.231Z"
   },
   {
    "duration": 0,
    "start_time": "2022-07-11T13:39:05.232Z"
   },
   {
    "duration": 0,
    "start_time": "2022-07-11T13:39:05.233Z"
   },
   {
    "duration": 0,
    "start_time": "2022-07-11T13:39:05.234Z"
   },
   {
    "duration": 0,
    "start_time": "2022-07-11T13:39:05.235Z"
   },
   {
    "duration": 0,
    "start_time": "2022-07-11T13:39:05.236Z"
   },
   {
    "duration": 0,
    "start_time": "2022-07-11T13:39:05.237Z"
   },
   {
    "duration": 0,
    "start_time": "2022-07-11T13:39:05.238Z"
   },
   {
    "duration": 0,
    "start_time": "2022-07-11T13:39:05.239Z"
   },
   {
    "duration": 0,
    "start_time": "2022-07-11T13:39:05.240Z"
   },
   {
    "duration": 0,
    "start_time": "2022-07-11T13:39:05.241Z"
   },
   {
    "duration": 0,
    "start_time": "2022-07-11T13:39:05.242Z"
   },
   {
    "duration": 9,
    "start_time": "2022-07-11T13:40:01.674Z"
   },
   {
    "duration": 7,
    "start_time": "2022-07-11T13:52:42.678Z"
   },
   {
    "duration": 6,
    "start_time": "2022-07-11T13:53:02.238Z"
   },
   {
    "duration": 9,
    "start_time": "2022-07-11T13:53:37.944Z"
   },
   {
    "duration": 5,
    "start_time": "2022-07-11T13:53:49.614Z"
   },
   {
    "duration": 6,
    "start_time": "2022-07-11T13:54:05.350Z"
   },
   {
    "duration": 6,
    "start_time": "2022-07-11T13:54:19.432Z"
   },
   {
    "duration": 4,
    "start_time": "2022-07-11T13:54:43.961Z"
   },
   {
    "duration": 5,
    "start_time": "2022-07-11T13:54:50.563Z"
   },
   {
    "duration": 4,
    "start_time": "2022-07-11T13:55:37.571Z"
   },
   {
    "duration": 21,
    "start_time": "2022-07-11T13:55:39.347Z"
   },
   {
    "duration": 3,
    "start_time": "2022-07-11T13:56:06.558Z"
   },
   {
    "duration": 18,
    "start_time": "2022-07-11T13:56:39.931Z"
   },
   {
    "duration": 11,
    "start_time": "2022-07-11T13:57:30.330Z"
   },
   {
    "duration": 18,
    "start_time": "2022-07-11T13:57:43.219Z"
   },
   {
    "duration": 7,
    "start_time": "2022-07-11T13:57:53.730Z"
   },
   {
    "duration": 10,
    "start_time": "2022-07-11T13:59:29.436Z"
   },
   {
    "duration": 516,
    "start_time": "2022-07-11T13:59:38.882Z"
   },
   {
    "duration": 26,
    "start_time": "2022-07-11T13:59:39.400Z"
   },
   {
    "duration": 55,
    "start_time": "2022-07-11T13:59:39.427Z"
   },
   {
    "duration": 14,
    "start_time": "2022-07-11T13:59:39.485Z"
   },
   {
    "duration": 50,
    "start_time": "2022-07-11T13:59:39.502Z"
   },
   {
    "duration": 10,
    "start_time": "2022-07-11T13:59:39.554Z"
   },
   {
    "duration": 29,
    "start_time": "2022-07-11T13:59:39.566Z"
   },
   {
    "duration": 86,
    "start_time": "2022-07-11T13:59:39.597Z"
   },
   {
    "duration": 2,
    "start_time": "2022-07-11T13:59:39.685Z"
   },
   {
    "duration": 8,
    "start_time": "2022-07-11T13:59:39.704Z"
   },
   {
    "duration": 36,
    "start_time": "2022-07-11T13:59:39.716Z"
   },
   {
    "duration": 5,
    "start_time": "2022-07-11T13:59:39.754Z"
   },
   {
    "duration": 21,
    "start_time": "2022-07-11T13:59:39.761Z"
   },
   {
    "duration": 18,
    "start_time": "2022-07-11T13:59:39.786Z"
   },
   {
    "duration": 47,
    "start_time": "2022-07-11T13:59:39.806Z"
   },
   {
    "duration": 10,
    "start_time": "2022-07-11T13:59:39.855Z"
   },
   {
    "duration": 15,
    "start_time": "2022-07-11T13:59:39.866Z"
   },
   {
    "duration": 15,
    "start_time": "2022-07-11T13:59:39.883Z"
   },
   {
    "duration": 2,
    "start_time": "2022-07-11T13:59:39.904Z"
   },
   {
    "duration": 8,
    "start_time": "2022-07-11T13:59:39.908Z"
   },
   {
    "duration": 38,
    "start_time": "2022-07-11T13:59:39.918Z"
   },
   {
    "duration": 8,
    "start_time": "2022-07-11T13:59:39.959Z"
   },
   {
    "duration": 12,
    "start_time": "2022-07-11T13:59:39.970Z"
   },
   {
    "duration": 32,
    "start_time": "2022-07-11T13:59:39.987Z"
   },
   {
    "duration": 37,
    "start_time": "2022-07-11T13:59:40.021Z"
   },
   {
    "duration": 5,
    "start_time": "2022-07-11T13:59:40.060Z"
   },
   {
    "duration": 9,
    "start_time": "2022-07-11T13:59:40.067Z"
   },
   {
    "duration": 20,
    "start_time": "2022-07-11T13:59:40.080Z"
   },
   {
    "duration": 15,
    "start_time": "2022-07-11T13:59:40.102Z"
   },
   {
    "duration": 45,
    "start_time": "2022-07-11T13:59:40.119Z"
   },
   {
    "duration": 10,
    "start_time": "2022-07-11T13:59:40.165Z"
   },
   {
    "duration": 18,
    "start_time": "2022-07-11T13:59:40.177Z"
   },
   {
    "duration": 64,
    "start_time": "2022-07-11T13:59:40.197Z"
   },
   {
    "duration": 9,
    "start_time": "2022-07-11T13:59:40.263Z"
   },
   {
    "duration": 24,
    "start_time": "2022-07-11T13:59:40.274Z"
   },
   {
    "duration": 3,
    "start_time": "2022-07-11T13:59:40.299Z"
   },
   {
    "duration": 42,
    "start_time": "2022-07-11T13:59:40.303Z"
   },
   {
    "duration": 5,
    "start_time": "2022-07-11T13:59:40.347Z"
   },
   {
    "duration": 9,
    "start_time": "2022-07-11T13:59:40.353Z"
   },
   {
    "duration": 8,
    "start_time": "2022-07-11T13:59:40.364Z"
   },
   {
    "duration": 6,
    "start_time": "2022-07-11T13:59:40.377Z"
   },
   {
    "duration": 8,
    "start_time": "2022-07-11T13:59:40.405Z"
   },
   {
    "duration": 24,
    "start_time": "2022-07-11T13:59:40.418Z"
   },
   {
    "duration": 13,
    "start_time": "2022-07-11T13:59:40.444Z"
   },
   {
    "duration": 5,
    "start_time": "2022-07-11T13:59:40.459Z"
   },
   {
    "duration": 21,
    "start_time": "2022-07-11T13:59:40.465Z"
   },
   {
    "duration": 4,
    "start_time": "2022-07-11T13:59:40.488Z"
   },
   {
    "duration": 43,
    "start_time": "2022-07-11T13:59:40.494Z"
   },
   {
    "duration": 19,
    "start_time": "2022-07-11T13:59:40.540Z"
   },
   {
    "duration": 6,
    "start_time": "2022-07-11T13:59:40.561Z"
   },
   {
    "duration": 14,
    "start_time": "2022-07-11T13:59:40.568Z"
   },
   {
    "duration": 2,
    "start_time": "2022-07-11T13:59:40.584Z"
   },
   {
    "duration": 58,
    "start_time": "2022-07-11T13:59:40.587Z"
   },
   {
    "duration": 4,
    "start_time": "2022-07-11T13:59:40.648Z"
   },
   {
    "duration": 4,
    "start_time": "2022-07-11T13:59:40.654Z"
   },
   {
    "duration": 4,
    "start_time": "2022-07-11T13:59:40.660Z"
   },
   {
    "duration": 50,
    "start_time": "2022-07-11T13:59:40.666Z"
   },
   {
    "duration": 21,
    "start_time": "2022-07-11T13:59:40.723Z"
   },
   {
    "duration": 13,
    "start_time": "2022-07-11T13:59:40.746Z"
   },
   {
    "duration": 12,
    "start_time": "2022-07-11T13:59:40.761Z"
   },
   {
    "duration": 7,
    "start_time": "2022-07-11T13:59:40.775Z"
   },
   {
    "duration": 29,
    "start_time": "2022-07-11T13:59:40.784Z"
   },
   {
    "duration": 30,
    "start_time": "2022-07-11T13:59:40.815Z"
   },
   {
    "duration": 8,
    "start_time": "2022-07-11T13:59:40.847Z"
   },
   {
    "duration": 9,
    "start_time": "2022-07-11T13:59:40.856Z"
   },
   {
    "duration": 7,
    "start_time": "2022-07-11T13:59:40.867Z"
   },
   {
    "duration": 10,
    "start_time": "2022-07-11T13:59:40.876Z"
   },
   {
    "duration": 6,
    "start_time": "2022-07-11T13:59:40.888Z"
   },
   {
    "duration": 6,
    "start_time": "2022-07-11T13:59:40.895Z"
   },
   {
    "duration": 43,
    "start_time": "2022-07-11T13:59:40.902Z"
   },
   {
    "duration": 5,
    "start_time": "2022-07-11T13:59:40.947Z"
   },
   {
    "duration": 4,
    "start_time": "2022-07-11T13:59:40.954Z"
   },
   {
    "duration": 5,
    "start_time": "2022-07-11T13:59:40.960Z"
   },
   {
    "duration": 5,
    "start_time": "2022-07-11T13:59:40.966Z"
   },
   {
    "duration": 7,
    "start_time": "2022-07-11T13:59:40.972Z"
   },
   {
    "duration": 6,
    "start_time": "2022-07-11T13:59:40.980Z"
   },
   {
    "duration": 5,
    "start_time": "2022-07-11T13:59:40.987Z"
   },
   {
    "duration": 5,
    "start_time": "2022-07-11T13:59:40.994Z"
   },
   {
    "duration": 34,
    "start_time": "2022-07-11T13:59:41.001Z"
   },
   {
    "duration": 3,
    "start_time": "2022-07-11T13:59:41.041Z"
   },
   {
    "duration": 5,
    "start_time": "2022-07-11T13:59:41.046Z"
   },
   {
    "duration": 5,
    "start_time": "2022-07-11T13:59:41.053Z"
   },
   {
    "duration": 7,
    "start_time": "2022-07-11T13:59:41.060Z"
   },
   {
    "duration": 7,
    "start_time": "2022-07-11T13:59:41.068Z"
   },
   {
    "duration": 9,
    "start_time": "2022-07-11T13:59:41.078Z"
   },
   {
    "duration": 7,
    "start_time": "2022-07-11T13:59:41.089Z"
   },
   {
    "duration": 6,
    "start_time": "2022-07-11T13:59:41.098Z"
   },
   {
    "duration": 40,
    "start_time": "2022-07-11T13:59:41.105Z"
   },
   {
    "duration": 8,
    "start_time": "2022-07-11T13:59:41.146Z"
   },
   {
    "duration": 5,
    "start_time": "2022-07-11T13:59:41.156Z"
   },
   {
    "duration": 7,
    "start_time": "2022-07-11T13:59:41.163Z"
   },
   {
    "duration": 10,
    "start_time": "2022-07-11T13:59:41.172Z"
   },
   {
    "duration": 6,
    "start_time": "2022-07-11T13:59:41.184Z"
   },
   {
    "duration": 9,
    "start_time": "2022-07-11T13:59:41.191Z"
   },
   {
    "duration": 38,
    "start_time": "2022-07-11T13:59:41.201Z"
   },
   {
    "duration": 23,
    "start_time": "2022-07-11T14:35:35.447Z"
   },
   {
    "duration": 8,
    "start_time": "2022-07-11T14:37:49.893Z"
   },
   {
    "duration": 10,
    "start_time": "2022-07-11T14:41:59.377Z"
   },
   {
    "duration": 69,
    "start_time": "2022-07-11T14:43:37.801Z"
   },
   {
    "duration": 120,
    "start_time": "2022-07-11T14:44:28.418Z"
   },
   {
    "duration": 88,
    "start_time": "2022-07-11T14:44:34.642Z"
   },
   {
    "duration": 108,
    "start_time": "2022-07-11T14:44:36.605Z"
   },
   {
    "duration": 9,
    "start_time": "2022-07-11T14:44:42.201Z"
   },
   {
    "duration": 9,
    "start_time": "2022-07-11T14:44:58.534Z"
   },
   {
    "duration": 528,
    "start_time": "2022-07-11T14:45:11.261Z"
   },
   {
    "duration": 27,
    "start_time": "2022-07-11T14:45:11.791Z"
   },
   {
    "duration": 26,
    "start_time": "2022-07-11T14:45:11.819Z"
   },
   {
    "duration": 9,
    "start_time": "2022-07-11T14:45:11.847Z"
   },
   {
    "duration": 14,
    "start_time": "2022-07-11T14:45:11.858Z"
   },
   {
    "duration": 42,
    "start_time": "2022-07-11T14:45:11.874Z"
   },
   {
    "duration": 23,
    "start_time": "2022-07-11T14:45:11.918Z"
   },
   {
    "duration": 90,
    "start_time": "2022-07-11T14:45:11.943Z"
   },
   {
    "duration": 2,
    "start_time": "2022-07-11T14:45:12.036Z"
   },
   {
    "duration": 6,
    "start_time": "2022-07-11T14:45:12.042Z"
   },
   {
    "duration": 15,
    "start_time": "2022-07-11T14:45:12.050Z"
   },
   {
    "duration": 4,
    "start_time": "2022-07-11T14:45:12.068Z"
   },
   {
    "duration": 47,
    "start_time": "2022-07-11T14:45:12.074Z"
   },
   {
    "duration": 29,
    "start_time": "2022-07-11T14:45:12.123Z"
   },
   {
    "duration": 13,
    "start_time": "2022-07-11T14:45:12.155Z"
   },
   {
    "duration": 15,
    "start_time": "2022-07-11T14:45:12.170Z"
   },
   {
    "duration": 29,
    "start_time": "2022-07-11T14:45:12.187Z"
   },
   {
    "duration": 13,
    "start_time": "2022-07-11T14:45:12.217Z"
   },
   {
    "duration": 3,
    "start_time": "2022-07-11T14:45:12.232Z"
   },
   {
    "duration": 9,
    "start_time": "2022-07-11T14:45:12.237Z"
   },
   {
    "duration": 10,
    "start_time": "2022-07-11T14:45:12.248Z"
   },
   {
    "duration": 111,
    "start_time": "2022-07-11T14:45:12.260Z"
   },
   {
    "duration": 0,
    "start_time": "2022-07-11T14:45:12.375Z"
   },
   {
    "duration": 0,
    "start_time": "2022-07-11T14:45:12.376Z"
   },
   {
    "duration": 0,
    "start_time": "2022-07-11T14:45:12.377Z"
   },
   {
    "duration": 0,
    "start_time": "2022-07-11T14:45:12.378Z"
   },
   {
    "duration": 0,
    "start_time": "2022-07-11T14:45:12.379Z"
   },
   {
    "duration": 0,
    "start_time": "2022-07-11T14:45:12.381Z"
   },
   {
    "duration": 0,
    "start_time": "2022-07-11T14:45:12.382Z"
   },
   {
    "duration": 0,
    "start_time": "2022-07-11T14:45:12.383Z"
   },
   {
    "duration": 0,
    "start_time": "2022-07-11T14:45:12.384Z"
   },
   {
    "duration": 0,
    "start_time": "2022-07-11T14:45:12.408Z"
   },
   {
    "duration": 0,
    "start_time": "2022-07-11T14:45:12.410Z"
   },
   {
    "duration": 0,
    "start_time": "2022-07-11T14:45:12.411Z"
   },
   {
    "duration": 0,
    "start_time": "2022-07-11T14:45:12.411Z"
   },
   {
    "duration": 0,
    "start_time": "2022-07-11T14:45:12.412Z"
   },
   {
    "duration": 0,
    "start_time": "2022-07-11T14:45:12.413Z"
   },
   {
    "duration": 0,
    "start_time": "2022-07-11T14:45:12.414Z"
   },
   {
    "duration": 0,
    "start_time": "2022-07-11T14:45:12.414Z"
   },
   {
    "duration": 0,
    "start_time": "2022-07-11T14:45:12.415Z"
   },
   {
    "duration": 0,
    "start_time": "2022-07-11T14:45:12.416Z"
   },
   {
    "duration": 0,
    "start_time": "2022-07-11T14:45:12.417Z"
   },
   {
    "duration": 0,
    "start_time": "2022-07-11T14:45:12.418Z"
   },
   {
    "duration": 0,
    "start_time": "2022-07-11T14:45:12.420Z"
   },
   {
    "duration": 0,
    "start_time": "2022-07-11T14:45:12.421Z"
   },
   {
    "duration": 0,
    "start_time": "2022-07-11T14:45:12.422Z"
   },
   {
    "duration": 0,
    "start_time": "2022-07-11T14:45:12.423Z"
   },
   {
    "duration": 0,
    "start_time": "2022-07-11T14:45:12.424Z"
   },
   {
    "duration": 0,
    "start_time": "2022-07-11T14:45:12.425Z"
   },
   {
    "duration": 0,
    "start_time": "2022-07-11T14:45:12.426Z"
   },
   {
    "duration": 0,
    "start_time": "2022-07-11T14:45:12.428Z"
   },
   {
    "duration": 0,
    "start_time": "2022-07-11T14:45:12.428Z"
   },
   {
    "duration": 0,
    "start_time": "2022-07-11T14:45:12.429Z"
   },
   {
    "duration": 0,
    "start_time": "2022-07-11T14:45:12.431Z"
   },
   {
    "duration": 0,
    "start_time": "2022-07-11T14:45:12.431Z"
   },
   {
    "duration": 0,
    "start_time": "2022-07-11T14:45:12.432Z"
   },
   {
    "duration": 0,
    "start_time": "2022-07-11T14:45:12.433Z"
   },
   {
    "duration": 0,
    "start_time": "2022-07-11T14:45:12.434Z"
   },
   {
    "duration": 0,
    "start_time": "2022-07-11T14:45:12.435Z"
   },
   {
    "duration": 0,
    "start_time": "2022-07-11T14:45:12.436Z"
   },
   {
    "duration": 0,
    "start_time": "2022-07-11T14:45:12.437Z"
   },
   {
    "duration": 0,
    "start_time": "2022-07-11T14:45:12.438Z"
   },
   {
    "duration": 0,
    "start_time": "2022-07-11T14:45:12.439Z"
   },
   {
    "duration": 0,
    "start_time": "2022-07-11T14:45:12.440Z"
   },
   {
    "duration": 0,
    "start_time": "2022-07-11T14:45:12.442Z"
   },
   {
    "duration": 0,
    "start_time": "2022-07-11T14:45:12.443Z"
   },
   {
    "duration": 0,
    "start_time": "2022-07-11T14:45:12.444Z"
   },
   {
    "duration": 0,
    "start_time": "2022-07-11T14:45:12.445Z"
   },
   {
    "duration": 0,
    "start_time": "2022-07-11T14:45:12.512Z"
   },
   {
    "duration": 0,
    "start_time": "2022-07-11T14:45:12.513Z"
   },
   {
    "duration": 0,
    "start_time": "2022-07-11T14:45:12.514Z"
   },
   {
    "duration": 0,
    "start_time": "2022-07-11T14:45:12.515Z"
   },
   {
    "duration": 0,
    "start_time": "2022-07-11T14:45:12.521Z"
   },
   {
    "duration": 0,
    "start_time": "2022-07-11T14:45:12.522Z"
   },
   {
    "duration": 0,
    "start_time": "2022-07-11T14:45:12.523Z"
   },
   {
    "duration": 0,
    "start_time": "2022-07-11T14:45:12.525Z"
   },
   {
    "duration": 0,
    "start_time": "2022-07-11T14:45:12.526Z"
   },
   {
    "duration": 0,
    "start_time": "2022-07-11T14:45:12.527Z"
   },
   {
    "duration": 0,
    "start_time": "2022-07-11T14:45:12.528Z"
   },
   {
    "duration": 0,
    "start_time": "2022-07-11T14:45:12.529Z"
   },
   {
    "duration": 0,
    "start_time": "2022-07-11T14:45:12.530Z"
   },
   {
    "duration": 0,
    "start_time": "2022-07-11T14:45:12.532Z"
   },
   {
    "duration": 1,
    "start_time": "2022-07-11T14:45:12.532Z"
   },
   {
    "duration": 0,
    "start_time": "2022-07-11T14:45:12.534Z"
   },
   {
    "duration": 0,
    "start_time": "2022-07-11T14:45:12.534Z"
   },
   {
    "duration": 0,
    "start_time": "2022-07-11T14:45:12.536Z"
   },
   {
    "duration": 0,
    "start_time": "2022-07-11T14:45:12.537Z"
   },
   {
    "duration": 0,
    "start_time": "2022-07-11T14:45:12.538Z"
   },
   {
    "duration": 0,
    "start_time": "2022-07-11T14:45:12.539Z"
   },
   {
    "duration": 0,
    "start_time": "2022-07-11T14:45:12.540Z"
   },
   {
    "duration": 0,
    "start_time": "2022-07-11T14:45:12.541Z"
   },
   {
    "duration": 0,
    "start_time": "2022-07-11T14:45:12.542Z"
   },
   {
    "duration": 0,
    "start_time": "2022-07-11T14:45:12.543Z"
   },
   {
    "duration": 0,
    "start_time": "2022-07-11T14:45:12.544Z"
   },
   {
    "duration": 13,
    "start_time": "2022-07-11T14:45:55.382Z"
   },
   {
    "duration": 16,
    "start_time": "2022-07-11T14:47:16.356Z"
   },
   {
    "duration": 9,
    "start_time": "2022-07-11T14:47:23.062Z"
   },
   {
    "duration": 14,
    "start_time": "2022-07-11T14:54:31.419Z"
   },
   {
    "duration": 10,
    "start_time": "2022-07-11T14:56:10.516Z"
   },
   {
    "duration": 10,
    "start_time": "2022-07-11T14:57:04.997Z"
   },
   {
    "duration": 9,
    "start_time": "2022-07-11T14:59:07.522Z"
   },
   {
    "duration": 9,
    "start_time": "2022-07-11T15:00:08.151Z"
   },
   {
    "duration": 11,
    "start_time": "2022-07-11T15:02:11.880Z"
   },
   {
    "duration": 9,
    "start_time": "2022-07-11T15:02:36.084Z"
   },
   {
    "duration": 14,
    "start_time": "2022-07-11T15:03:02.618Z"
   },
   {
    "duration": 25,
    "start_time": "2022-07-11T15:06:14.604Z"
   },
   {
    "duration": 13,
    "start_time": "2022-07-11T15:06:27.164Z"
   },
   {
    "duration": 14,
    "start_time": "2022-07-11T15:07:02.839Z"
   },
   {
    "duration": 6,
    "start_time": "2022-07-11T15:07:11.888Z"
   },
   {
    "duration": 6,
    "start_time": "2022-07-11T15:07:30.018Z"
   },
   {
    "duration": 16,
    "start_time": "2022-07-11T15:07:32.102Z"
   },
   {
    "duration": 9,
    "start_time": "2022-07-11T15:07:53.303Z"
   },
   {
    "duration": 6,
    "start_time": "2022-07-11T15:07:54.975Z"
   },
   {
    "duration": 11,
    "start_time": "2022-07-11T15:07:56.591Z"
   },
   {
    "duration": 6,
    "start_time": "2022-07-11T15:08:12.291Z"
   },
   {
    "duration": 8,
    "start_time": "2022-07-11T15:08:48.574Z"
   },
   {
    "duration": 18,
    "start_time": "2022-07-11T15:08:54.801Z"
   },
   {
    "duration": 547,
    "start_time": "2022-07-11T15:09:16.986Z"
   },
   {
    "duration": 36,
    "start_time": "2022-07-11T15:09:17.535Z"
   },
   {
    "duration": 40,
    "start_time": "2022-07-11T15:09:17.573Z"
   },
   {
    "duration": 15,
    "start_time": "2022-07-11T15:09:17.616Z"
   },
   {
    "duration": 18,
    "start_time": "2022-07-11T15:09:17.632Z"
   },
   {
    "duration": 20,
    "start_time": "2022-07-11T15:09:17.652Z"
   },
   {
    "duration": 32,
    "start_time": "2022-07-11T15:09:17.673Z"
   },
   {
    "duration": 63,
    "start_time": "2022-07-11T15:09:17.709Z"
   },
   {
    "duration": 3,
    "start_time": "2022-07-11T15:09:17.773Z"
   },
   {
    "duration": 45,
    "start_time": "2022-07-11T15:09:17.778Z"
   },
   {
    "duration": 19,
    "start_time": "2022-07-11T15:09:17.825Z"
   },
   {
    "duration": 11,
    "start_time": "2022-07-11T15:09:17.845Z"
   },
   {
    "duration": 20,
    "start_time": "2022-07-11T15:09:17.858Z"
   },
   {
    "duration": 11,
    "start_time": "2022-07-11T15:09:17.879Z"
   },
   {
    "duration": 8,
    "start_time": "2022-07-11T15:09:17.891Z"
   },
   {
    "duration": 20,
    "start_time": "2022-07-11T15:09:17.904Z"
   },
   {
    "duration": 18,
    "start_time": "2022-07-11T15:09:17.925Z"
   },
   {
    "duration": 11,
    "start_time": "2022-07-11T15:09:17.945Z"
   },
   {
    "duration": 3,
    "start_time": "2022-07-11T15:09:17.958Z"
   },
   {
    "duration": 22,
    "start_time": "2022-07-11T15:09:17.963Z"
   },
   {
    "duration": 31,
    "start_time": "2022-07-11T15:09:17.987Z"
   },
   {
    "duration": 12,
    "start_time": "2022-07-11T15:09:18.020Z"
   },
   {
    "duration": 12,
    "start_time": "2022-07-11T15:09:18.034Z"
   },
   {
    "duration": 3,
    "start_time": "2022-07-11T15:09:18.048Z"
   },
   {
    "duration": 14,
    "start_time": "2022-07-11T15:09:18.053Z"
   },
   {
    "duration": 38,
    "start_time": "2022-07-11T15:09:18.069Z"
   },
   {
    "duration": 16,
    "start_time": "2022-07-11T15:09:18.110Z"
   },
   {
    "duration": 15,
    "start_time": "2022-07-11T15:09:18.131Z"
   },
   {
    "duration": 6,
    "start_time": "2022-07-11T15:09:18.148Z"
   },
   {
    "duration": 21,
    "start_time": "2022-07-11T15:09:18.156Z"
   },
   {
    "duration": 26,
    "start_time": "2022-07-11T15:09:18.179Z"
   },
   {
    "duration": 23,
    "start_time": "2022-07-11T15:09:18.207Z"
   },
   {
    "duration": 17,
    "start_time": "2022-07-11T15:09:18.232Z"
   },
   {
    "duration": 3,
    "start_time": "2022-07-11T15:09:18.251Z"
   },
   {
    "duration": 16,
    "start_time": "2022-07-11T15:09:18.255Z"
   },
   {
    "duration": 6,
    "start_time": "2022-07-11T15:09:18.273Z"
   },
   {
    "duration": 27,
    "start_time": "2022-07-11T15:09:18.281Z"
   },
   {
    "duration": 24,
    "start_time": "2022-07-11T15:09:18.310Z"
   },
   {
    "duration": 11,
    "start_time": "2022-07-11T15:09:18.336Z"
   },
   {
    "duration": 8,
    "start_time": "2022-07-11T15:09:18.349Z"
   },
   {
    "duration": 9,
    "start_time": "2022-07-11T15:09:18.358Z"
   },
   {
    "duration": 12,
    "start_time": "2022-07-11T15:09:18.369Z"
   },
   {
    "duration": 11,
    "start_time": "2022-07-11T15:09:18.382Z"
   },
   {
    "duration": 14,
    "start_time": "2022-07-11T15:09:18.407Z"
   },
   {
    "duration": 8,
    "start_time": "2022-07-11T15:09:18.422Z"
   },
   {
    "duration": 10,
    "start_time": "2022-07-11T15:09:18.432Z"
   },
   {
    "duration": 11,
    "start_time": "2022-07-11T15:09:18.444Z"
   },
   {
    "duration": 11,
    "start_time": "2022-07-11T15:09:18.457Z"
   },
   {
    "duration": 36,
    "start_time": "2022-07-11T15:09:18.470Z"
   },
   {
    "duration": 3,
    "start_time": "2022-07-11T15:09:18.513Z"
   },
   {
    "duration": 50,
    "start_time": "2022-07-11T15:09:18.517Z"
   },
   {
    "duration": 4,
    "start_time": "2022-07-11T15:09:18.569Z"
   },
   {
    "duration": 9,
    "start_time": "2022-07-11T15:09:18.576Z"
   },
   {
    "duration": 9,
    "start_time": "2022-07-11T15:09:18.586Z"
   },
   {
    "duration": 41,
    "start_time": "2022-07-11T15:09:18.596Z"
   },
   {
    "duration": 10,
    "start_time": "2022-07-11T15:09:18.639Z"
   },
   {
    "duration": 27,
    "start_time": "2022-07-11T15:09:18.651Z"
   },
   {
    "duration": 8,
    "start_time": "2022-07-11T15:09:18.680Z"
   },
   {
    "duration": 26,
    "start_time": "2022-07-11T15:09:18.690Z"
   },
   {
    "duration": 9,
    "start_time": "2022-07-11T15:09:18.720Z"
   },
   {
    "duration": 5,
    "start_time": "2022-07-11T15:09:18.731Z"
   },
   {
    "duration": 11,
    "start_time": "2022-07-11T15:09:18.738Z"
   },
   {
    "duration": 8,
    "start_time": "2022-07-11T15:09:18.750Z"
   },
   {
    "duration": 5,
    "start_time": "2022-07-11T15:09:18.760Z"
   },
   {
    "duration": 1399,
    "start_time": "2022-07-11T15:09:18.767Z"
   },
   {
    "duration": 155,
    "start_time": "2022-07-11T15:09:20.169Z"
   },
   {
    "duration": 126,
    "start_time": "2022-07-11T15:09:20.325Z"
   },
   {
    "duration": 1590,
    "start_time": "2022-07-11T15:09:20.453Z"
   },
   {
    "duration": 1074,
    "start_time": "2022-07-11T15:09:22.046Z"
   },
   {
    "duration": 740,
    "start_time": "2022-07-11T15:09:23.122Z"
   },
   {
    "duration": 1159,
    "start_time": "2022-07-11T15:09:23.864Z"
   },
   {
    "duration": 420,
    "start_time": "2022-07-11T15:09:25.025Z"
   },
   {
    "duration": 8,
    "start_time": "2022-07-11T15:09:25.447Z"
   },
   {
    "duration": 19,
    "start_time": "2022-07-11T15:09:25.457Z"
   },
   {
    "duration": 21,
    "start_time": "2022-07-11T15:09:25.478Z"
   },
   {
    "duration": 28,
    "start_time": "2022-07-11T15:09:25.501Z"
   },
   {
    "duration": 13,
    "start_time": "2022-07-11T15:09:25.531Z"
   },
   {
    "duration": 10,
    "start_time": "2022-07-11T15:09:25.546Z"
   },
   {
    "duration": 11,
    "start_time": "2022-07-11T15:09:25.557Z"
   },
   {
    "duration": 9,
    "start_time": "2022-07-11T15:09:25.570Z"
   },
   {
    "duration": 13,
    "start_time": "2022-07-11T15:09:25.581Z"
   },
   {
    "duration": 2,
    "start_time": "2022-07-11T15:09:25.599Z"
   },
   {
    "duration": 26,
    "start_time": "2022-07-11T15:09:25.603Z"
   },
   {
    "duration": 8,
    "start_time": "2022-07-11T15:09:25.630Z"
   },
   {
    "duration": 8,
    "start_time": "2022-07-11T15:09:25.640Z"
   },
   {
    "duration": 7,
    "start_time": "2022-07-11T15:09:25.650Z"
   },
   {
    "duration": 8,
    "start_time": "2022-07-11T15:09:25.659Z"
   },
   {
    "duration": 12,
    "start_time": "2022-07-11T15:09:25.669Z"
   },
   {
    "duration": 7,
    "start_time": "2022-07-11T15:09:25.683Z"
   },
   {
    "duration": 5,
    "start_time": "2022-07-11T15:09:25.692Z"
   },
   {
    "duration": 7,
    "start_time": "2022-07-11T15:09:25.698Z"
   },
   {
    "duration": 19,
    "start_time": "2022-07-11T15:09:25.706Z"
   },
   {
    "duration": 6,
    "start_time": "2022-07-11T15:09:25.727Z"
   },
   {
    "duration": 5,
    "start_time": "2022-07-11T15:09:48.693Z"
   },
   {
    "duration": 23,
    "start_time": "2022-07-11T15:15:58.423Z"
   },
   {
    "duration": 7,
    "start_time": "2022-07-11T15:18:40.922Z"
   },
   {
    "duration": 20,
    "start_time": "2022-07-11T15:23:57.974Z"
   },
   {
    "duration": 11,
    "start_time": "2022-07-11T15:24:24.673Z"
   },
   {
    "duration": 6,
    "start_time": "2022-07-11T15:24:59.861Z"
   },
   {
    "duration": 80,
    "start_time": "2022-07-11T15:25:33.960Z"
   },
   {
    "duration": 7,
    "start_time": "2022-07-11T15:25:39.444Z"
   },
   {
    "duration": 5,
    "start_time": "2022-07-11T17:20:44.843Z"
   },
   {
    "duration": 5,
    "start_time": "2022-07-11T17:20:47.432Z"
   },
   {
    "duration": 7,
    "start_time": "2022-07-11T17:20:49.283Z"
   },
   {
    "duration": 7,
    "start_time": "2022-07-11T17:21:30.400Z"
   },
   {
    "duration": 106,
    "start_time": "2022-07-11T17:21:41.342Z"
   },
   {
    "duration": 6,
    "start_time": "2022-07-11T17:21:44.654Z"
   },
   {
    "duration": 6,
    "start_time": "2022-07-11T17:24:23.102Z"
   },
   {
    "duration": 4,
    "start_time": "2022-07-11T17:25:03.476Z"
   },
   {
    "duration": 10,
    "start_time": "2022-07-11T17:28:56.566Z"
   },
   {
    "duration": 7,
    "start_time": "2022-07-11T17:29:04.222Z"
   },
   {
    "duration": 7,
    "start_time": "2022-07-11T17:29:09.050Z"
   },
   {
    "duration": 10,
    "start_time": "2022-07-11T17:29:21.111Z"
   },
   {
    "duration": 73,
    "start_time": "2022-07-11T17:29:28.623Z"
   },
   {
    "duration": 10,
    "start_time": "2022-07-11T17:29:30.833Z"
   },
   {
    "duration": 82,
    "start_time": "2022-07-11T17:29:36.166Z"
   },
   {
    "duration": 11,
    "start_time": "2022-07-11T17:29:38.414Z"
   },
   {
    "duration": 495,
    "start_time": "2022-07-11T17:29:50.353Z"
   },
   {
    "duration": 22,
    "start_time": "2022-07-11T17:29:50.850Z"
   },
   {
    "duration": 33,
    "start_time": "2022-07-11T17:29:50.874Z"
   },
   {
    "duration": 9,
    "start_time": "2022-07-11T17:29:50.909Z"
   },
   {
    "duration": 18,
    "start_time": "2022-07-11T17:29:50.920Z"
   },
   {
    "duration": 17,
    "start_time": "2022-07-11T17:29:50.941Z"
   },
   {
    "duration": 69,
    "start_time": "2022-07-11T17:29:50.960Z"
   },
   {
    "duration": 83,
    "start_time": "2022-07-11T17:29:51.031Z"
   },
   {
    "duration": 2,
    "start_time": "2022-07-11T17:29:51.117Z"
   },
   {
    "duration": 8,
    "start_time": "2022-07-11T17:29:51.121Z"
   },
   {
    "duration": 16,
    "start_time": "2022-07-11T17:29:51.130Z"
   },
   {
    "duration": 4,
    "start_time": "2022-07-11T17:29:51.147Z"
   },
   {
    "duration": 17,
    "start_time": "2022-07-11T17:29:51.153Z"
   },
   {
    "duration": 32,
    "start_time": "2022-07-11T17:29:51.172Z"
   },
   {
    "duration": 8,
    "start_time": "2022-07-11T17:29:51.206Z"
   },
   {
    "duration": 13,
    "start_time": "2022-07-11T17:29:51.215Z"
   },
   {
    "duration": 11,
    "start_time": "2022-07-11T17:29:51.230Z"
   },
   {
    "duration": 63,
    "start_time": "2022-07-11T17:29:51.242Z"
   },
   {
    "duration": 3,
    "start_time": "2022-07-11T17:29:51.307Z"
   },
   {
    "duration": 11,
    "start_time": "2022-07-11T17:29:51.312Z"
   },
   {
    "duration": 13,
    "start_time": "2022-07-11T17:29:51.324Z"
   },
   {
    "duration": 8,
    "start_time": "2022-07-11T17:29:51.339Z"
   },
   {
    "duration": 58,
    "start_time": "2022-07-11T17:29:51.349Z"
   },
   {
    "duration": 3,
    "start_time": "2022-07-11T17:29:51.409Z"
   },
   {
    "duration": 6,
    "start_time": "2022-07-11T17:29:51.414Z"
   },
   {
    "duration": 17,
    "start_time": "2022-07-11T17:29:51.422Z"
   },
   {
    "duration": 11,
    "start_time": "2022-07-11T17:29:51.441Z"
   },
   {
    "duration": 9,
    "start_time": "2022-07-11T17:29:51.456Z"
   },
   {
    "duration": 40,
    "start_time": "2022-07-11T17:29:51.466Z"
   },
   {
    "duration": 12,
    "start_time": "2022-07-11T17:29:51.508Z"
   },
   {
    "duration": 10,
    "start_time": "2022-07-11T17:29:51.523Z"
   },
   {
    "duration": 12,
    "start_time": "2022-07-11T17:29:51.536Z"
   },
   {
    "duration": 59,
    "start_time": "2022-07-11T17:29:51.550Z"
   },
   {
    "duration": 6,
    "start_time": "2022-07-11T17:29:51.611Z"
   },
   {
    "duration": 21,
    "start_time": "2022-07-11T17:29:51.619Z"
   },
   {
    "duration": 13,
    "start_time": "2022-07-11T17:29:51.641Z"
   },
   {
    "duration": 13,
    "start_time": "2022-07-11T17:29:51.655Z"
   },
   {
    "duration": 5,
    "start_time": "2022-07-11T17:29:51.670Z"
   },
   {
    "duration": 27,
    "start_time": "2022-07-11T17:29:51.677Z"
   },
   {
    "duration": 13,
    "start_time": "2022-07-11T17:29:51.707Z"
   },
   {
    "duration": 7,
    "start_time": "2022-07-11T17:29:51.722Z"
   },
   {
    "duration": 17,
    "start_time": "2022-07-11T17:29:51.731Z"
   },
   {
    "duration": 13,
    "start_time": "2022-07-11T17:29:51.751Z"
   },
   {
    "duration": 19,
    "start_time": "2022-07-11T17:29:51.766Z"
   },
   {
    "duration": 18,
    "start_time": "2022-07-11T17:29:51.787Z"
   },
   {
    "duration": 8,
    "start_time": "2022-07-11T17:29:51.807Z"
   },
   {
    "duration": 12,
    "start_time": "2022-07-11T17:29:51.817Z"
   },
   {
    "duration": 2,
    "start_time": "2022-07-11T17:29:51.832Z"
   },
   {
    "duration": 82,
    "start_time": "2022-07-11T17:29:51.836Z"
   },
   {
    "duration": 5,
    "start_time": "2022-07-11T17:29:51.920Z"
   },
   {
    "duration": 21,
    "start_time": "2022-07-11T17:29:51.926Z"
   },
   {
    "duration": 2,
    "start_time": "2022-07-11T17:29:51.949Z"
   },
   {
    "duration": 21,
    "start_time": "2022-07-11T17:29:51.953Z"
   },
   {
    "duration": 15,
    "start_time": "2022-07-11T17:29:52.005Z"
   },
   {
    "duration": 30,
    "start_time": "2022-07-11T17:29:52.022Z"
   },
   {
    "duration": 8,
    "start_time": "2022-07-11T17:29:52.054Z"
   },
   {
    "duration": 1285,
    "start_time": "2022-07-11T17:29:52.064Z"
   },
   {
    "duration": 0,
    "start_time": "2022-07-11T17:29:53.351Z"
   },
   {
    "duration": 0,
    "start_time": "2022-07-11T17:29:53.353Z"
   },
   {
    "duration": 0,
    "start_time": "2022-07-11T17:29:53.354Z"
   },
   {
    "duration": 0,
    "start_time": "2022-07-11T17:29:53.356Z"
   },
   {
    "duration": 0,
    "start_time": "2022-07-11T17:29:53.357Z"
   },
   {
    "duration": 0,
    "start_time": "2022-07-11T17:29:53.357Z"
   },
   {
    "duration": 0,
    "start_time": "2022-07-11T17:29:53.358Z"
   },
   {
    "duration": 0,
    "start_time": "2022-07-11T17:29:53.359Z"
   },
   {
    "duration": 0,
    "start_time": "2022-07-11T17:29:53.360Z"
   },
   {
    "duration": 0,
    "start_time": "2022-07-11T17:29:53.361Z"
   },
   {
    "duration": 0,
    "start_time": "2022-07-11T17:29:53.362Z"
   },
   {
    "duration": 0,
    "start_time": "2022-07-11T17:29:53.363Z"
   },
   {
    "duration": 0,
    "start_time": "2022-07-11T17:29:53.364Z"
   },
   {
    "duration": 0,
    "start_time": "2022-07-11T17:29:53.365Z"
   },
   {
    "duration": 0,
    "start_time": "2022-07-11T17:29:53.366Z"
   },
   {
    "duration": 0,
    "start_time": "2022-07-11T17:29:53.367Z"
   },
   {
    "duration": 0,
    "start_time": "2022-07-11T17:29:53.368Z"
   },
   {
    "duration": 0,
    "start_time": "2022-07-11T17:29:53.369Z"
   },
   {
    "duration": 0,
    "start_time": "2022-07-11T17:29:53.370Z"
   },
   {
    "duration": 0,
    "start_time": "2022-07-11T17:29:53.371Z"
   },
   {
    "duration": 0,
    "start_time": "2022-07-11T17:29:53.372Z"
   },
   {
    "duration": 0,
    "start_time": "2022-07-11T17:29:53.373Z"
   },
   {
    "duration": 0,
    "start_time": "2022-07-11T17:29:53.374Z"
   },
   {
    "duration": 0,
    "start_time": "2022-07-11T17:29:53.375Z"
   },
   {
    "duration": 0,
    "start_time": "2022-07-11T17:29:53.376Z"
   },
   {
    "duration": 0,
    "start_time": "2022-07-11T17:29:53.377Z"
   },
   {
    "duration": 0,
    "start_time": "2022-07-11T17:29:53.378Z"
   },
   {
    "duration": 0,
    "start_time": "2022-07-11T17:29:53.379Z"
   },
   {
    "duration": 0,
    "start_time": "2022-07-11T17:29:53.381Z"
   },
   {
    "duration": 0,
    "start_time": "2022-07-11T17:29:53.382Z"
   },
   {
    "duration": 0,
    "start_time": "2022-07-11T17:29:53.383Z"
   },
   {
    "duration": 0,
    "start_time": "2022-07-11T17:29:53.384Z"
   },
   {
    "duration": 0,
    "start_time": "2022-07-11T17:29:53.385Z"
   },
   {
    "duration": 0,
    "start_time": "2022-07-11T17:29:53.385Z"
   },
   {
    "duration": 0,
    "start_time": "2022-07-11T17:29:53.387Z"
   },
   {
    "duration": 10,
    "start_time": "2022-07-11T17:31:00.393Z"
   },
   {
    "duration": 8,
    "start_time": "2022-07-11T17:31:03.643Z"
   },
   {
    "duration": 6,
    "start_time": "2022-07-11T17:35:32.212Z"
   },
   {
    "duration": 12,
    "start_time": "2022-07-11T17:35:57.382Z"
   },
   {
    "duration": 11,
    "start_time": "2022-07-11T17:36:05.741Z"
   },
   {
    "duration": 141,
    "start_time": "2022-07-11T17:38:49.149Z"
   },
   {
    "duration": 10,
    "start_time": "2022-07-11T17:38:55.031Z"
   },
   {
    "duration": 7,
    "start_time": "2022-07-11T17:39:39.418Z"
   },
   {
    "duration": 7,
    "start_time": "2022-07-11T17:40:19.129Z"
   },
   {
    "duration": 4,
    "start_time": "2022-07-11T17:40:50.759Z"
   },
   {
    "duration": 10,
    "start_time": "2022-07-11T17:42:04.366Z"
   },
   {
    "duration": 8,
    "start_time": "2022-07-11T17:42:09.453Z"
   },
   {
    "duration": 11,
    "start_time": "2022-07-11T17:42:16.968Z"
   },
   {
    "duration": 8,
    "start_time": "2022-07-11T17:42:22.026Z"
   },
   {
    "duration": 11,
    "start_time": "2022-07-11T17:42:35.435Z"
   },
   {
    "duration": 10,
    "start_time": "2022-07-11T17:43:59.768Z"
   },
   {
    "duration": 15,
    "start_time": "2022-07-11T17:44:18.617Z"
   },
   {
    "duration": 10,
    "start_time": "2022-07-11T17:44:34.281Z"
   },
   {
    "duration": 14,
    "start_time": "2022-07-11T17:45:10.354Z"
   },
   {
    "duration": 8,
    "start_time": "2022-07-11T17:45:18.663Z"
   },
   {
    "duration": 8,
    "start_time": "2022-07-11T17:45:27.982Z"
   },
   {
    "duration": 18,
    "start_time": "2022-07-11T17:45:59.414Z"
   },
   {
    "duration": 16,
    "start_time": "2022-07-11T17:47:06.593Z"
   },
   {
    "duration": 16,
    "start_time": "2022-07-11T17:47:12.830Z"
   },
   {
    "duration": 16,
    "start_time": "2022-07-11T17:47:42.089Z"
   },
   {
    "duration": 8,
    "start_time": "2022-07-11T17:47:55.221Z"
   },
   {
    "duration": 10,
    "start_time": "2022-07-11T17:48:35.900Z"
   },
   {
    "duration": 8,
    "start_time": "2022-07-11T17:48:48.026Z"
   },
   {
    "duration": 10,
    "start_time": "2022-07-11T17:50:06.868Z"
   },
   {
    "duration": 8,
    "start_time": "2022-07-11T17:50:37.883Z"
   },
   {
    "duration": 82,
    "start_time": "2022-07-11T17:51:42.603Z"
   },
   {
    "duration": 12,
    "start_time": "2022-07-11T17:51:44.628Z"
   },
   {
    "duration": 3,
    "start_time": "2022-07-11T18:00:42.338Z"
   },
   {
    "duration": 7,
    "start_time": "2022-07-11T18:04:34.658Z"
   },
   {
    "duration": 5,
    "start_time": "2022-07-11T18:04:50.892Z"
   },
   {
    "duration": 45,
    "start_time": "2022-07-11T18:07:20.871Z"
   },
   {
    "duration": 10,
    "start_time": "2022-07-11T18:08:16.263Z"
   },
   {
    "duration": 73,
    "start_time": "2022-07-11T18:19:24.618Z"
   },
   {
    "duration": 1380,
    "start_time": "2022-07-11T18:20:00.142Z"
   },
   {
    "duration": 12,
    "start_time": "2022-07-11T18:26:28.089Z"
   },
   {
    "duration": 13,
    "start_time": "2022-07-11T18:26:33.347Z"
   },
   {
    "duration": 12,
    "start_time": "2022-07-11T18:26:37.224Z"
   },
   {
    "duration": 14,
    "start_time": "2022-07-11T18:26:40.972Z"
   },
   {
    "duration": 20,
    "start_time": "2022-07-11T18:26:45.412Z"
   },
   {
    "duration": 12,
    "start_time": "2022-07-11T18:26:50.832Z"
   },
   {
    "duration": 13,
    "start_time": "2022-07-11T18:26:55.560Z"
   },
   {
    "duration": 1538,
    "start_time": "2022-07-11T18:28:45.317Z"
   },
   {
    "duration": 1269,
    "start_time": "2022-07-11T18:29:52.848Z"
   },
   {
    "duration": 1433,
    "start_time": "2022-07-11T18:32:43.821Z"
   },
   {
    "duration": 1422,
    "start_time": "2022-07-11T18:32:51.116Z"
   },
   {
    "duration": 1454,
    "start_time": "2022-07-11T18:34:29.738Z"
   },
   {
    "duration": 1535,
    "start_time": "2022-07-11T18:34:43.320Z"
   },
   {
    "duration": 11,
    "start_time": "2022-07-11T18:35:30.536Z"
   },
   {
    "duration": 15,
    "start_time": "2022-07-11T18:35:31.718Z"
   },
   {
    "duration": 16,
    "start_time": "2022-07-11T18:35:33.474Z"
   },
   {
    "duration": 9,
    "start_time": "2022-07-11T18:35:45.636Z"
   },
   {
    "duration": 11,
    "start_time": "2022-07-11T18:35:47.986Z"
   },
   {
    "duration": 1371,
    "start_time": "2022-07-11T18:39:25.795Z"
   },
   {
    "duration": 1377,
    "start_time": "2022-07-11T18:40:50.975Z"
   },
   {
    "duration": 1402,
    "start_time": "2022-07-11T18:41:18.461Z"
   },
   {
    "duration": 10,
    "start_time": "2022-07-11T18:42:12.318Z"
   },
   {
    "duration": 11,
    "start_time": "2022-07-11T18:42:16.576Z"
   },
   {
    "duration": 9,
    "start_time": "2022-07-11T18:42:26.983Z"
   },
   {
    "duration": 14,
    "start_time": "2022-07-11T18:47:09.264Z"
   },
   {
    "duration": 86,
    "start_time": "2022-07-11T18:47:32.136Z"
   },
   {
    "duration": 17,
    "start_time": "2022-07-11T18:47:37.759Z"
   },
   {
    "duration": 17,
    "start_time": "2022-07-11T18:49:27.558Z"
   },
   {
    "duration": 17,
    "start_time": "2022-07-11T18:50:03.365Z"
   },
   {
    "duration": 21,
    "start_time": "2022-07-11T18:50:17.106Z"
   },
   {
    "duration": 17,
    "start_time": "2022-07-11T18:53:52.959Z"
   },
   {
    "duration": 15,
    "start_time": "2022-07-11T18:53:57.781Z"
   },
   {
    "duration": 619,
    "start_time": "2022-07-11T18:54:06.060Z"
   },
   {
    "duration": 30,
    "start_time": "2022-07-11T18:54:06.682Z"
   },
   {
    "duration": 44,
    "start_time": "2022-07-11T18:54:06.714Z"
   },
   {
    "duration": 23,
    "start_time": "2022-07-11T18:54:06.761Z"
   },
   {
    "duration": 51,
    "start_time": "2022-07-11T18:54:06.786Z"
   },
   {
    "duration": 26,
    "start_time": "2022-07-11T18:54:06.839Z"
   },
   {
    "duration": 22,
    "start_time": "2022-07-11T18:54:06.866Z"
   },
   {
    "duration": 93,
    "start_time": "2022-07-11T18:54:06.889Z"
   },
   {
    "duration": 20,
    "start_time": "2022-07-11T18:54:06.984Z"
   },
   {
    "duration": 6,
    "start_time": "2022-07-11T18:54:07.007Z"
   },
   {
    "duration": 18,
    "start_time": "2022-07-11T18:54:07.014Z"
   },
   {
    "duration": 8,
    "start_time": "2022-07-11T18:54:07.034Z"
   },
   {
    "duration": 20,
    "start_time": "2022-07-11T18:54:07.044Z"
   },
   {
    "duration": 39,
    "start_time": "2022-07-11T18:54:07.066Z"
   },
   {
    "duration": 10,
    "start_time": "2022-07-11T18:54:07.107Z"
   },
   {
    "duration": 12,
    "start_time": "2022-07-11T18:54:07.119Z"
   },
   {
    "duration": 20,
    "start_time": "2022-07-11T18:54:07.134Z"
   },
   {
    "duration": 13,
    "start_time": "2022-07-11T18:54:07.203Z"
   },
   {
    "duration": 3,
    "start_time": "2022-07-11T18:54:07.218Z"
   },
   {
    "duration": 9,
    "start_time": "2022-07-11T18:54:07.224Z"
   },
   {
    "duration": 17,
    "start_time": "2022-07-11T18:54:07.235Z"
   },
   {
    "duration": 52,
    "start_time": "2022-07-11T18:54:07.255Z"
   },
   {
    "duration": 15,
    "start_time": "2022-07-11T18:54:07.310Z"
   },
   {
    "duration": 3,
    "start_time": "2022-07-11T18:54:07.328Z"
   },
   {
    "duration": 14,
    "start_time": "2022-07-11T18:54:07.334Z"
   },
   {
    "duration": 19,
    "start_time": "2022-07-11T18:54:07.350Z"
   },
   {
    "duration": 44,
    "start_time": "2022-07-11T18:54:07.372Z"
   },
   {
    "duration": 13,
    "start_time": "2022-07-11T18:54:07.423Z"
   },
   {
    "duration": 8,
    "start_time": "2022-07-11T18:54:07.439Z"
   },
   {
    "duration": 13,
    "start_time": "2022-07-11T18:54:07.450Z"
   },
   {
    "duration": 49,
    "start_time": "2022-07-11T18:54:07.465Z"
   },
   {
    "duration": 18,
    "start_time": "2022-07-11T18:54:07.516Z"
   },
   {
    "duration": 14,
    "start_time": "2022-07-11T18:54:07.537Z"
   },
   {
    "duration": 8,
    "start_time": "2022-07-11T18:54:07.553Z"
   },
   {
    "duration": 15,
    "start_time": "2022-07-11T18:54:07.605Z"
   },
   {
    "duration": 18,
    "start_time": "2022-07-11T18:54:07.622Z"
   },
   {
    "duration": 7,
    "start_time": "2022-07-11T18:54:07.642Z"
   },
   {
    "duration": 11,
    "start_time": "2022-07-11T18:54:07.650Z"
   },
   {
    "duration": 9,
    "start_time": "2022-07-11T18:54:07.663Z"
   },
   {
    "duration": 6,
    "start_time": "2022-07-11T18:54:07.705Z"
   },
   {
    "duration": 8,
    "start_time": "2022-07-11T18:54:07.713Z"
   },
   {
    "duration": 12,
    "start_time": "2022-07-11T18:54:07.723Z"
   },
   {
    "duration": 2,
    "start_time": "2022-07-11T18:54:07.737Z"
   },
   {
    "duration": 7,
    "start_time": "2022-07-11T18:54:07.741Z"
   },
   {
    "duration": 58,
    "start_time": "2022-07-11T18:54:07.749Z"
   },
   {
    "duration": 6,
    "start_time": "2022-07-11T18:54:07.809Z"
   },
   {
    "duration": 18,
    "start_time": "2022-07-11T18:54:07.817Z"
   },
   {
    "duration": 5,
    "start_time": "2022-07-11T18:54:07.837Z"
   },
   {
    "duration": 87,
    "start_time": "2022-07-11T18:54:07.844Z"
   },
   {
    "duration": 26,
    "start_time": "2022-07-11T18:54:07.934Z"
   },
   {
    "duration": 3,
    "start_time": "2022-07-11T18:54:07.962Z"
   },
   {
    "duration": 45,
    "start_time": "2022-07-11T18:54:07.968Z"
   },
   {
    "duration": 11,
    "start_time": "2022-07-11T18:54:08.015Z"
   },
   {
    "duration": 18,
    "start_time": "2022-07-11T18:54:08.028Z"
   },
   {
    "duration": 69,
    "start_time": "2022-07-11T18:54:08.047Z"
   },
   {
    "duration": 10,
    "start_time": "2022-07-11T18:54:08.118Z"
   },
   {
    "duration": 14,
    "start_time": "2022-07-11T18:54:08.129Z"
   },
   {
    "duration": 1330,
    "start_time": "2022-07-11T18:54:08.145Z"
   },
   {
    "duration": 0,
    "start_time": "2022-07-11T18:54:09.477Z"
   },
   {
    "duration": 0,
    "start_time": "2022-07-11T18:54:09.479Z"
   },
   {
    "duration": 0,
    "start_time": "2022-07-11T18:54:09.480Z"
   },
   {
    "duration": 0,
    "start_time": "2022-07-11T18:54:09.481Z"
   },
   {
    "duration": 0,
    "start_time": "2022-07-11T18:54:09.482Z"
   },
   {
    "duration": 0,
    "start_time": "2022-07-11T18:54:09.484Z"
   },
   {
    "duration": 0,
    "start_time": "2022-07-11T18:54:09.485Z"
   },
   {
    "duration": 0,
    "start_time": "2022-07-11T18:54:09.486Z"
   },
   {
    "duration": 0,
    "start_time": "2022-07-11T18:54:09.487Z"
   },
   {
    "duration": 0,
    "start_time": "2022-07-11T18:54:09.489Z"
   },
   {
    "duration": 0,
    "start_time": "2022-07-11T18:54:09.490Z"
   },
   {
    "duration": 0,
    "start_time": "2022-07-11T18:54:09.493Z"
   },
   {
    "duration": 0,
    "start_time": "2022-07-11T18:54:09.495Z"
   },
   {
    "duration": 0,
    "start_time": "2022-07-11T18:54:09.497Z"
   },
   {
    "duration": 0,
    "start_time": "2022-07-11T18:54:09.499Z"
   },
   {
    "duration": 0,
    "start_time": "2022-07-11T18:54:09.500Z"
   },
   {
    "duration": 0,
    "start_time": "2022-07-11T18:54:09.501Z"
   },
   {
    "duration": 0,
    "start_time": "2022-07-11T18:54:09.503Z"
   },
   {
    "duration": 0,
    "start_time": "2022-07-11T18:54:09.505Z"
   },
   {
    "duration": 0,
    "start_time": "2022-07-11T18:54:09.507Z"
   },
   {
    "duration": 0,
    "start_time": "2022-07-11T18:54:09.508Z"
   },
   {
    "duration": 0,
    "start_time": "2022-07-11T18:54:09.509Z"
   },
   {
    "duration": 0,
    "start_time": "2022-07-11T18:54:09.511Z"
   },
   {
    "duration": 0,
    "start_time": "2022-07-11T18:54:09.512Z"
   },
   {
    "duration": 0,
    "start_time": "2022-07-11T18:54:09.513Z"
   },
   {
    "duration": 0,
    "start_time": "2022-07-11T18:54:09.514Z"
   },
   {
    "duration": 0,
    "start_time": "2022-07-11T18:54:09.516Z"
   },
   {
    "duration": 0,
    "start_time": "2022-07-11T18:54:09.517Z"
   },
   {
    "duration": 0,
    "start_time": "2022-07-11T18:54:09.518Z"
   },
   {
    "duration": 0,
    "start_time": "2022-07-11T18:54:09.520Z"
   },
   {
    "duration": 0,
    "start_time": "2022-07-11T18:54:09.521Z"
   },
   {
    "duration": 0,
    "start_time": "2022-07-11T18:54:09.523Z"
   },
   {
    "duration": 0,
    "start_time": "2022-07-11T18:54:09.524Z"
   },
   {
    "duration": 17,
    "start_time": "2022-07-11T18:54:14.660Z"
   },
   {
    "duration": 18,
    "start_time": "2022-07-11T18:54:29.093Z"
   },
   {
    "duration": 19,
    "start_time": "2022-07-11T18:54:31.071Z"
   },
   {
    "duration": 1441,
    "start_time": "2022-07-11T18:56:23.181Z"
   },
   {
    "duration": 18,
    "start_time": "2022-07-11T18:56:45.152Z"
   },
   {
    "duration": 13,
    "start_time": "2022-07-11T18:57:20.801Z"
   },
   {
    "duration": 304,
    "start_time": "2022-07-11T18:58:21.095Z"
   },
   {
    "duration": 14,
    "start_time": "2022-07-11T18:59:47.701Z"
   },
   {
    "duration": 23,
    "start_time": "2022-07-11T19:00:07.021Z"
   },
   {
    "duration": 21,
    "start_time": "2022-07-11T19:00:36.656Z"
   },
   {
    "duration": 16,
    "start_time": "2022-07-11T19:01:12.653Z"
   },
   {
    "duration": 21,
    "start_time": "2022-07-11T19:01:24.336Z"
   },
   {
    "duration": 19,
    "start_time": "2022-07-11T19:01:30.891Z"
   },
   {
    "duration": 22,
    "start_time": "2022-07-11T19:01:35.054Z"
   },
   {
    "duration": 12,
    "start_time": "2022-07-11T19:04:04.362Z"
   },
   {
    "duration": 1514,
    "start_time": "2022-07-11T19:05:32.738Z"
   },
   {
    "duration": 89,
    "start_time": "2022-07-11T19:05:50.244Z"
   },
   {
    "duration": 17,
    "start_time": "2022-07-11T19:05:53.858Z"
   },
   {
    "duration": 17,
    "start_time": "2022-07-11T19:06:15.450Z"
   },
   {
    "duration": 15,
    "start_time": "2022-07-11T19:07:11.967Z"
   },
   {
    "duration": 13,
    "start_time": "2022-07-11T19:07:27.958Z"
   },
   {
    "duration": 19,
    "start_time": "2022-07-11T19:08:12.822Z"
   },
   {
    "duration": 15,
    "start_time": "2022-07-11T19:08:22.954Z"
   },
   {
    "duration": 12,
    "start_time": "2022-07-11T19:08:33.346Z"
   },
   {
    "duration": 13,
    "start_time": "2022-07-11T19:08:37.871Z"
   },
   {
    "duration": 15,
    "start_time": "2022-07-11T19:09:14.020Z"
   },
   {
    "duration": 20,
    "start_time": "2022-07-11T19:09:42.797Z"
   },
   {
    "duration": 13,
    "start_time": "2022-07-11T19:10:18.939Z"
   },
   {
    "duration": 15,
    "start_time": "2022-07-11T19:10:34.175Z"
   },
   {
    "duration": 15,
    "start_time": "2022-07-11T19:10:51.718Z"
   },
   {
    "duration": 12,
    "start_time": "2022-07-11T19:11:07.162Z"
   },
   {
    "duration": 4,
    "start_time": "2022-07-11T19:11:09.698Z"
   },
   {
    "duration": 12,
    "start_time": "2022-07-11T19:11:23.938Z"
   },
   {
    "duration": 5,
    "start_time": "2022-07-11T19:11:25.583Z"
   },
   {
    "duration": 11,
    "start_time": "2022-07-11T19:11:49.156Z"
   },
   {
    "duration": 17,
    "start_time": "2022-07-11T19:11:50.969Z"
   },
   {
    "duration": 17,
    "start_time": "2022-07-11T19:11:54.976Z"
   },
   {
    "duration": 6,
    "start_time": "2022-07-11T19:12:12.161Z"
   },
   {
    "duration": 11,
    "start_time": "2022-07-11T21:33:53.057Z"
   },
   {
    "duration": 6352,
    "start_time": "2022-07-11T21:35:08.847Z"
   },
   {
    "duration": 19,
    "start_time": "2022-07-11T21:35:33.300Z"
   },
   {
    "duration": 10,
    "start_time": "2022-07-11T21:36:15.854Z"
   },
   {
    "duration": 18,
    "start_time": "2022-07-11T21:36:18.193Z"
   },
   {
    "duration": 6,
    "start_time": "2022-07-11T21:38:37.174Z"
   },
   {
    "duration": 10,
    "start_time": "2022-07-11T21:39:26.301Z"
   },
   {
    "duration": 12,
    "start_time": "2022-07-11T21:39:35.038Z"
   },
   {
    "duration": 5,
    "start_time": "2022-07-11T21:39:36.558Z"
   },
   {
    "duration": 9,
    "start_time": "2022-07-11T21:39:38.624Z"
   },
   {
    "duration": 8,
    "start_time": "2022-07-11T21:41:34.217Z"
   },
   {
    "duration": 27,
    "start_time": "2022-07-11T21:42:47.893Z"
   },
   {
    "duration": 13,
    "start_time": "2022-07-11T21:43:08.755Z"
   },
   {
    "duration": 19,
    "start_time": "2022-07-11T21:43:18.458Z"
   },
   {
    "duration": 13,
    "start_time": "2022-07-11T21:43:34.345Z"
   },
   {
    "duration": 18,
    "start_time": "2022-07-11T21:43:53.023Z"
   },
   {
    "duration": 17,
    "start_time": "2022-07-11T21:45:03.740Z"
   },
   {
    "duration": 16,
    "start_time": "2022-07-11T21:45:18.832Z"
   },
   {
    "duration": 441,
    "start_time": "2022-07-11T21:45:41.556Z"
   },
   {
    "duration": 19,
    "start_time": "2022-07-11T21:45:41.999Z"
   },
   {
    "duration": 20,
    "start_time": "2022-07-11T21:45:42.020Z"
   },
   {
    "duration": 6,
    "start_time": "2022-07-11T21:45:42.042Z"
   },
   {
    "duration": 14,
    "start_time": "2022-07-11T21:45:42.050Z"
   },
   {
    "duration": 46,
    "start_time": "2022-07-11T21:45:42.066Z"
   },
   {
    "duration": 22,
    "start_time": "2022-07-11T21:45:42.114Z"
   },
   {
    "duration": 78,
    "start_time": "2022-07-11T21:45:42.139Z"
   },
   {
    "duration": 2,
    "start_time": "2022-07-11T21:45:42.219Z"
   },
   {
    "duration": 4,
    "start_time": "2022-07-11T21:45:42.226Z"
   },
   {
    "duration": 22,
    "start_time": "2022-07-11T21:45:42.232Z"
   },
   {
    "duration": 5,
    "start_time": "2022-07-11T21:45:42.257Z"
   },
   {
    "duration": 49,
    "start_time": "2022-07-11T21:45:42.264Z"
   },
   {
    "duration": 5,
    "start_time": "2022-07-11T21:45:42.314Z"
   },
   {
    "duration": 14,
    "start_time": "2022-07-11T21:45:42.320Z"
   },
   {
    "duration": 10,
    "start_time": "2022-07-11T21:45:42.336Z"
   },
   {
    "duration": 10,
    "start_time": "2022-07-11T21:45:42.348Z"
   },
   {
    "duration": 52,
    "start_time": "2022-07-11T21:45:42.359Z"
   },
   {
    "duration": 3,
    "start_time": "2022-07-11T21:45:42.412Z"
   },
   {
    "duration": 9,
    "start_time": "2022-07-11T21:45:42.416Z"
   },
   {
    "duration": 28,
    "start_time": "2022-07-11T21:45:42.427Z"
   },
   {
    "duration": 9,
    "start_time": "2022-07-11T21:45:42.457Z"
   },
   {
    "duration": 37,
    "start_time": "2022-07-11T21:45:42.467Z"
   },
   {
    "duration": 2,
    "start_time": "2022-07-11T21:45:42.506Z"
   },
   {
    "duration": 7,
    "start_time": "2022-07-11T21:45:42.509Z"
   },
   {
    "duration": 13,
    "start_time": "2022-07-11T21:45:42.518Z"
   },
   {
    "duration": 10,
    "start_time": "2022-07-11T21:45:42.532Z"
   },
   {
    "duration": 9,
    "start_time": "2022-07-11T21:45:42.546Z"
   },
   {
    "duration": 4,
    "start_time": "2022-07-11T21:45:42.604Z"
   },
   {
    "duration": 15,
    "start_time": "2022-07-11T21:45:42.610Z"
   },
   {
    "duration": 9,
    "start_time": "2022-07-11T21:45:42.626Z"
   },
   {
    "duration": 14,
    "start_time": "2022-07-11T21:45:42.637Z"
   },
   {
    "duration": 11,
    "start_time": "2022-07-11T21:45:42.653Z"
   },
   {
    "duration": 4,
    "start_time": "2022-07-11T21:45:42.705Z"
   },
   {
    "duration": 27,
    "start_time": "2022-07-11T21:45:42.711Z"
   },
   {
    "duration": 20,
    "start_time": "2022-07-11T21:45:42.740Z"
   },
   {
    "duration": 15,
    "start_time": "2022-07-11T21:45:42.762Z"
   },
   {
    "duration": 7,
    "start_time": "2022-07-11T21:45:42.778Z"
   },
   {
    "duration": 17,
    "start_time": "2022-07-11T21:45:42.787Z"
   },
   {
    "duration": 12,
    "start_time": "2022-07-11T21:45:42.805Z"
   },
   {
    "duration": 9,
    "start_time": "2022-07-11T21:45:42.819Z"
   },
   {
    "duration": 16,
    "start_time": "2022-07-11T21:45:42.829Z"
   },
   {
    "duration": 13,
    "start_time": "2022-07-11T21:45:42.847Z"
   },
   {
    "duration": 15,
    "start_time": "2022-07-11T21:45:42.861Z"
   },
   {
    "duration": 28,
    "start_time": "2022-07-11T21:45:42.877Z"
   },
   {
    "duration": 5,
    "start_time": "2022-07-11T21:45:42.907Z"
   },
   {
    "duration": 27,
    "start_time": "2022-07-11T21:45:42.914Z"
   },
   {
    "duration": 8,
    "start_time": "2022-07-11T21:45:42.943Z"
   },
   {
    "duration": 60,
    "start_time": "2022-07-11T21:45:42.952Z"
   },
   {
    "duration": 15,
    "start_time": "2022-07-11T21:45:43.014Z"
   },
   {
    "duration": 3,
    "start_time": "2022-07-11T21:45:43.031Z"
   },
   {
    "duration": 40,
    "start_time": "2022-07-11T21:45:43.035Z"
   },
   {
    "duration": 9,
    "start_time": "2022-07-11T21:45:43.077Z"
   },
   {
    "duration": 15,
    "start_time": "2022-07-11T21:45:43.105Z"
   },
   {
    "duration": 4,
    "start_time": "2022-07-11T21:45:43.122Z"
   },
   {
    "duration": 103,
    "start_time": "2022-07-11T21:45:43.128Z"
   },
   {
    "duration": 0,
    "start_time": "2022-07-11T21:45:43.232Z"
   },
   {
    "duration": 0,
    "start_time": "2022-07-11T21:45:43.234Z"
   },
   {
    "duration": 0,
    "start_time": "2022-07-11T21:45:43.235Z"
   },
   {
    "duration": 0,
    "start_time": "2022-07-11T21:45:43.236Z"
   },
   {
    "duration": 0,
    "start_time": "2022-07-11T21:45:43.237Z"
   },
   {
    "duration": 0,
    "start_time": "2022-07-11T21:45:43.238Z"
   },
   {
    "duration": 0,
    "start_time": "2022-07-11T21:45:43.239Z"
   },
   {
    "duration": 0,
    "start_time": "2022-07-11T21:45:43.240Z"
   },
   {
    "duration": 0,
    "start_time": "2022-07-11T21:45:43.241Z"
   },
   {
    "duration": 0,
    "start_time": "2022-07-11T21:45:43.242Z"
   },
   {
    "duration": 0,
    "start_time": "2022-07-11T21:45:43.242Z"
   },
   {
    "duration": 0,
    "start_time": "2022-07-11T21:45:43.243Z"
   },
   {
    "duration": 0,
    "start_time": "2022-07-11T21:45:43.244Z"
   },
   {
    "duration": 1,
    "start_time": "2022-07-11T21:45:43.245Z"
   },
   {
    "duration": 0,
    "start_time": "2022-07-11T21:45:43.246Z"
   },
   {
    "duration": 0,
    "start_time": "2022-07-11T21:45:43.247Z"
   },
   {
    "duration": 0,
    "start_time": "2022-07-11T21:45:43.248Z"
   },
   {
    "duration": 0,
    "start_time": "2022-07-11T21:45:43.249Z"
   },
   {
    "duration": 0,
    "start_time": "2022-07-11T21:45:43.250Z"
   },
   {
    "duration": 0,
    "start_time": "2022-07-11T21:45:43.251Z"
   },
   {
    "duration": 0,
    "start_time": "2022-07-11T21:45:43.252Z"
   },
   {
    "duration": 0,
    "start_time": "2022-07-11T21:45:43.253Z"
   },
   {
    "duration": 0,
    "start_time": "2022-07-11T21:45:43.254Z"
   },
   {
    "duration": 0,
    "start_time": "2022-07-11T21:45:43.255Z"
   },
   {
    "duration": 0,
    "start_time": "2022-07-11T21:45:43.256Z"
   },
   {
    "duration": 0,
    "start_time": "2022-07-11T21:45:43.257Z"
   },
   {
    "duration": 0,
    "start_time": "2022-07-11T21:45:43.259Z"
   },
   {
    "duration": 0,
    "start_time": "2022-07-11T21:45:43.304Z"
   },
   {
    "duration": 0,
    "start_time": "2022-07-11T21:45:43.305Z"
   },
   {
    "duration": 0,
    "start_time": "2022-07-11T21:45:43.306Z"
   },
   {
    "duration": 0,
    "start_time": "2022-07-11T21:45:43.307Z"
   },
   {
    "duration": 0,
    "start_time": "2022-07-11T21:45:43.308Z"
   },
   {
    "duration": 1,
    "start_time": "2022-07-11T21:45:43.309Z"
   },
   {
    "duration": 0,
    "start_time": "2022-07-11T21:45:43.311Z"
   },
   {
    "duration": 7,
    "start_time": "2022-07-11T21:45:48.070Z"
   },
   {
    "duration": 8,
    "start_time": "2022-07-11T21:46:00.075Z"
   },
   {
    "duration": 9,
    "start_time": "2022-07-11T21:46:14.182Z"
   },
   {
    "duration": 8,
    "start_time": "2022-07-11T21:46:33.356Z"
   },
   {
    "duration": 4,
    "start_time": "2022-07-11T21:46:40.184Z"
   },
   {
    "duration": 8,
    "start_time": "2022-07-11T21:46:42.697Z"
   },
   {
    "duration": 9,
    "start_time": "2022-07-11T21:46:57.096Z"
   },
   {
    "duration": 8,
    "start_time": "2022-07-11T21:47:14.297Z"
   },
   {
    "duration": 9,
    "start_time": "2022-07-11T21:47:21.521Z"
   },
   {
    "duration": 14,
    "start_time": "2022-07-11T21:47:31.385Z"
   },
   {
    "duration": 12,
    "start_time": "2022-07-11T21:47:32.781Z"
   },
   {
    "duration": 4,
    "start_time": "2022-07-11T21:47:34.127Z"
   },
   {
    "duration": 78,
    "start_time": "2022-07-11T21:47:43.639Z"
   },
   {
    "duration": 13,
    "start_time": "2022-07-11T21:47:47.275Z"
   },
   {
    "duration": 5,
    "start_time": "2022-07-11T21:47:49.000Z"
   },
   {
    "duration": 5,
    "start_time": "2022-07-11T21:47:59.804Z"
   },
   {
    "duration": 13,
    "start_time": "2022-07-11T21:48:05.811Z"
   },
   {
    "duration": 4,
    "start_time": "2022-07-11T21:48:09.392Z"
   },
   {
    "duration": 17,
    "start_time": "2022-07-11T21:48:25.342Z"
   },
   {
    "duration": 6,
    "start_time": "2022-07-11T21:48:26.993Z"
   },
   {
    "duration": 8,
    "start_time": "2022-07-11T21:48:28.892Z"
   },
   {
    "duration": 11,
    "start_time": "2022-07-11T21:48:44.217Z"
   },
   {
    "duration": 4,
    "start_time": "2022-07-11T21:48:46.190Z"
   },
   {
    "duration": 11,
    "start_time": "2022-07-11T21:48:47.594Z"
   },
   {
    "duration": 20,
    "start_time": "2022-07-11T21:49:10.848Z"
   },
   {
    "duration": 16,
    "start_time": "2022-07-11T21:49:12.587Z"
   },
   {
    "duration": 6,
    "start_time": "2022-07-11T21:49:14.092Z"
   },
   {
    "duration": 12,
    "start_time": "2022-07-11T21:49:16.954Z"
   },
   {
    "duration": 12,
    "start_time": "2022-07-11T21:49:27.808Z"
   },
   {
    "duration": 4,
    "start_time": "2022-07-11T21:49:29.170Z"
   },
   {
    "duration": 9,
    "start_time": "2022-07-11T21:49:30.629Z"
   },
   {
    "duration": 76,
    "start_time": "2022-07-11T21:50:25.593Z"
   },
   {
    "duration": 95,
    "start_time": "2022-07-11T21:50:30.083Z"
   },
   {
    "duration": 11,
    "start_time": "2022-07-11T21:51:32.095Z"
   },
   {
    "duration": 12,
    "start_time": "2022-07-11T21:51:51.406Z"
   },
   {
    "duration": 11,
    "start_time": "2022-07-11T21:51:52.731Z"
   },
   {
    "duration": 13,
    "start_time": "2022-07-11T21:52:17.498Z"
   },
   {
    "duration": 17,
    "start_time": "2022-07-11T21:52:18.859Z"
   },
   {
    "duration": 5,
    "start_time": "2022-07-11T21:52:20.348Z"
   },
   {
    "duration": 7,
    "start_time": "2022-07-11T21:52:23.796Z"
   },
   {
    "duration": 10,
    "start_time": "2022-07-11T21:52:47.339Z"
   },
   {
    "duration": 8,
    "start_time": "2022-07-11T21:52:49.428Z"
   },
   {
    "duration": 13,
    "start_time": "2022-07-11T21:53:10.206Z"
   },
   {
    "duration": 5,
    "start_time": "2022-07-11T21:53:11.410Z"
   },
   {
    "duration": 7,
    "start_time": "2022-07-11T21:53:12.572Z"
   },
   {
    "duration": 15,
    "start_time": "2022-07-11T21:53:17.669Z"
   },
   {
    "duration": 4,
    "start_time": "2022-07-11T21:53:18.674Z"
   },
   {
    "duration": 7,
    "start_time": "2022-07-11T21:53:19.775Z"
   },
   {
    "duration": 13,
    "start_time": "2022-07-11T21:53:48.395Z"
   },
   {
    "duration": 12,
    "start_time": "2022-07-11T21:53:50.028Z"
   },
   {
    "duration": 13,
    "start_time": "2022-07-11T21:54:01.225Z"
   },
   {
    "duration": 11,
    "start_time": "2022-07-11T21:54:02.931Z"
   },
   {
    "duration": 4,
    "start_time": "2022-07-11T21:54:04.209Z"
   },
   {
    "duration": 13,
    "start_time": "2022-07-11T21:54:06.570Z"
   },
   {
    "duration": 10,
    "start_time": "2022-07-11T21:54:29.922Z"
   },
   {
    "duration": 9,
    "start_time": "2022-07-11T21:54:41.053Z"
   },
   {
    "duration": 24,
    "start_time": "2022-07-11T21:54:54.606Z"
   },
   {
    "duration": 12,
    "start_time": "2022-07-11T21:55:30.611Z"
   },
   {
    "duration": 15,
    "start_time": "2022-07-11T22:10:59.402Z"
   },
   {
    "duration": 7,
    "start_time": "2022-07-11T22:12:31.637Z"
   },
   {
    "duration": 14,
    "start_time": "2022-07-11T22:18:51.227Z"
   },
   {
    "duration": 71,
    "start_time": "2022-07-11T22:20:45.168Z"
   },
   {
    "duration": 12,
    "start_time": "2022-07-11T22:20:51.622Z"
   },
   {
    "duration": 82,
    "start_time": "2022-07-11T22:21:51.526Z"
   },
   {
    "duration": 4,
    "start_time": "2022-07-11T22:21:53.951Z"
   },
   {
    "duration": 18,
    "start_time": "2022-07-11T22:22:06.531Z"
   },
   {
    "duration": 5,
    "start_time": "2022-07-11T22:22:08.422Z"
   },
   {
    "duration": 16,
    "start_time": "2022-07-11T22:22:20.230Z"
   },
   {
    "duration": 5,
    "start_time": "2022-07-11T22:22:23.473Z"
   },
   {
    "duration": 79,
    "start_time": "2022-07-11T22:23:27.513Z"
   },
   {
    "duration": 94,
    "start_time": "2022-07-11T22:24:34.503Z"
   },
   {
    "duration": 1222,
    "start_time": "2022-07-11T22:24:44.324Z"
   },
   {
    "duration": 9,
    "start_time": "2022-07-11T22:24:54.043Z"
   },
   {
    "duration": 12,
    "start_time": "2022-07-11T22:24:58.770Z"
   },
   {
    "duration": 10,
    "start_time": "2022-07-11T22:25:10.038Z"
   },
   {
    "duration": 89,
    "start_time": "2022-07-11T22:26:55.499Z"
   },
   {
    "duration": 76,
    "start_time": "2022-07-11T22:32:20.221Z"
   },
   {
    "duration": 77,
    "start_time": "2022-07-11T22:32:38.747Z"
   },
   {
    "duration": 83,
    "start_time": "2022-07-11T22:32:47.993Z"
   },
   {
    "duration": 78,
    "start_time": "2022-07-11T22:32:54.036Z"
   },
   {
    "duration": 4,
    "start_time": "2022-07-11T22:33:40.532Z"
   },
   {
    "duration": 79,
    "start_time": "2022-07-11T22:33:47.245Z"
   },
   {
    "duration": 79,
    "start_time": "2022-07-11T22:34:48.842Z"
   },
   {
    "duration": 72,
    "start_time": "2022-07-11T22:34:56.417Z"
   },
   {
    "duration": 495,
    "start_time": "2022-07-11T22:35:09.959Z"
   },
   {
    "duration": 12,
    "start_time": "2022-07-11T22:35:41.452Z"
   },
   {
    "duration": 11,
    "start_time": "2022-07-11T22:35:42.813Z"
   },
   {
    "duration": 35,
    "start_time": "2022-07-11T22:36:42.793Z"
   },
   {
    "duration": 38,
    "start_time": "2022-07-11T22:37:21.939Z"
   },
   {
    "duration": 27,
    "start_time": "2022-07-11T22:37:36.155Z"
   },
   {
    "duration": 24,
    "start_time": "2022-07-11T22:37:38.437Z"
   },
   {
    "duration": 10,
    "start_time": "2022-07-11T22:37:56.801Z"
   },
   {
    "duration": 11,
    "start_time": "2022-07-11T22:38:04.145Z"
   },
   {
    "duration": 6,
    "start_time": "2022-07-11T22:38:06.327Z"
   },
   {
    "duration": 78,
    "start_time": "2022-07-11T22:38:09.547Z"
   },
   {
    "duration": 78,
    "start_time": "2022-07-11T23:27:00.408Z"
   },
   {
    "duration": 77,
    "start_time": "2022-07-11T23:31:34.491Z"
   },
   {
    "duration": 97,
    "start_time": "2022-07-12T00:08:03.387Z"
   },
   {
    "duration": 127,
    "start_time": "2022-07-12T00:08:23.315Z"
   },
   {
    "duration": 79,
    "start_time": "2022-07-12T00:08:53.926Z"
   },
   {
    "duration": 5,
    "start_time": "2022-07-12T00:09:05.236Z"
   },
   {
    "duration": 16,
    "start_time": "2022-07-12T00:09:10.207Z"
   },
   {
    "duration": 12,
    "start_time": "2022-07-12T00:09:11.119Z"
   },
   {
    "duration": 5,
    "start_time": "2022-07-12T00:09:13.074Z"
   },
   {
    "duration": 131,
    "start_time": "2022-07-12T00:09:14.712Z"
   },
   {
    "duration": 93,
    "start_time": "2022-07-12T00:09:36.044Z"
   },
   {
    "duration": 86,
    "start_time": "2022-07-12T00:09:45.980Z"
   },
   {
    "duration": 7,
    "start_time": "2022-07-12T00:09:49.969Z"
   },
   {
    "duration": 5,
    "start_time": "2022-07-12T00:10:05.268Z"
   },
   {
    "duration": 5,
    "start_time": "2022-07-12T00:26:20.526Z"
   },
   {
    "duration": 344,
    "start_time": "2022-07-12T00:27:21.065Z"
   },
   {
    "duration": 1238,
    "start_time": "2022-07-12T00:43:50.781Z"
   },
   {
    "duration": 11,
    "start_time": "2022-07-12T00:44:12.783Z"
   },
   {
    "duration": 11,
    "start_time": "2022-07-12T00:44:22.662Z"
   },
   {
    "duration": 10,
    "start_time": "2022-07-12T00:44:54.104Z"
   },
   {
    "duration": 1247,
    "start_time": "2022-07-12T00:44:56.755Z"
   },
   {
    "duration": 7,
    "start_time": "2022-07-12T00:45:32.598Z"
   },
   {
    "duration": 7,
    "start_time": "2022-07-12T00:46:09.560Z"
   },
   {
    "duration": 7,
    "start_time": "2022-07-12T00:50:06.092Z"
   },
   {
    "duration": 6,
    "start_time": "2022-07-12T00:54:55.751Z"
   },
   {
    "duration": 300,
    "start_time": "2022-07-12T00:56:46.229Z"
   },
   {
    "duration": 1192,
    "start_time": "2022-07-12T00:57:12.923Z"
   },
   {
    "duration": 1352,
    "start_time": "2022-07-12T01:31:43.027Z"
   },
   {
    "duration": 1302,
    "start_time": "2022-07-12T01:34:26.881Z"
   },
   {
    "duration": 586,
    "start_time": "2022-07-12T01:35:26.092Z"
   },
   {
    "duration": 24,
    "start_time": "2022-07-12T01:35:26.680Z"
   },
   {
    "duration": 22,
    "start_time": "2022-07-12T01:35:26.705Z"
   },
   {
    "duration": 7,
    "start_time": "2022-07-12T01:35:26.729Z"
   },
   {
    "duration": 29,
    "start_time": "2022-07-12T01:35:26.738Z"
   },
   {
    "duration": 37,
    "start_time": "2022-07-12T01:35:26.768Z"
   },
   {
    "duration": 22,
    "start_time": "2022-07-12T01:35:26.807Z"
   },
   {
    "duration": 103,
    "start_time": "2022-07-12T01:35:26.831Z"
   },
   {
    "duration": 3,
    "start_time": "2022-07-12T01:35:26.935Z"
   },
   {
    "duration": 6,
    "start_time": "2022-07-12T01:35:26.940Z"
   },
   {
    "duration": 16,
    "start_time": "2022-07-12T01:35:26.947Z"
   },
   {
    "duration": 8,
    "start_time": "2022-07-12T01:35:26.965Z"
   },
   {
    "duration": 39,
    "start_time": "2022-07-12T01:35:26.975Z"
   },
   {
    "duration": 5,
    "start_time": "2022-07-12T01:35:27.017Z"
   },
   {
    "duration": 11,
    "start_time": "2022-07-12T01:35:27.024Z"
   },
   {
    "duration": 12,
    "start_time": "2022-07-12T01:35:27.037Z"
   },
   {
    "duration": 55,
    "start_time": "2022-07-12T01:35:27.052Z"
   },
   {
    "duration": 15,
    "start_time": "2022-07-12T01:35:27.109Z"
   },
   {
    "duration": 2,
    "start_time": "2022-07-12T01:35:27.127Z"
   },
   {
    "duration": 9,
    "start_time": "2022-07-12T01:35:27.132Z"
   },
   {
    "duration": 9,
    "start_time": "2022-07-12T01:35:27.142Z"
   },
   {
    "duration": 8,
    "start_time": "2022-07-12T01:35:27.153Z"
   },
   {
    "duration": 12,
    "start_time": "2022-07-12T01:35:27.203Z"
   },
   {
    "duration": 2,
    "start_time": "2022-07-12T01:35:27.217Z"
   },
   {
    "duration": 4,
    "start_time": "2022-07-12T01:35:27.221Z"
   },
   {
    "duration": 12,
    "start_time": "2022-07-12T01:35:27.227Z"
   },
   {
    "duration": 10,
    "start_time": "2022-07-12T01:35:27.240Z"
   },
   {
    "duration": 8,
    "start_time": "2022-07-12T01:35:27.254Z"
   },
   {
    "duration": 6,
    "start_time": "2022-07-12T01:35:27.303Z"
   },
   {
    "duration": 14,
    "start_time": "2022-07-12T01:35:27.311Z"
   },
   {
    "duration": 12,
    "start_time": "2022-07-12T01:35:27.327Z"
   },
   {
    "duration": 11,
    "start_time": "2022-07-12T01:35:27.341Z"
   },
   {
    "duration": 10,
    "start_time": "2022-07-12T01:35:27.354Z"
   },
   {
    "duration": 6,
    "start_time": "2022-07-12T01:35:27.404Z"
   },
   {
    "duration": 12,
    "start_time": "2022-07-12T01:35:27.411Z"
   },
   {
    "duration": 9,
    "start_time": "2022-07-12T01:35:27.424Z"
   },
   {
    "duration": 4,
    "start_time": "2022-07-12T01:35:27.435Z"
   },
   {
    "duration": 4,
    "start_time": "2022-07-12T01:35:27.441Z"
   },
   {
    "duration": 5,
    "start_time": "2022-07-12T01:35:27.447Z"
   },
   {
    "duration": 50,
    "start_time": "2022-07-12T01:35:27.454Z"
   },
   {
    "duration": 7,
    "start_time": "2022-07-12T01:35:27.506Z"
   },
   {
    "duration": 15,
    "start_time": "2022-07-12T01:35:27.515Z"
   },
   {
    "duration": 3,
    "start_time": "2022-07-12T01:35:27.532Z"
   },
   {
    "duration": 8,
    "start_time": "2022-07-12T01:35:27.537Z"
   },
   {
    "duration": 8,
    "start_time": "2022-07-12T01:35:27.547Z"
   },
   {
    "duration": 8,
    "start_time": "2022-07-12T01:35:27.557Z"
   },
   {
    "duration": 15,
    "start_time": "2022-07-12T01:35:27.605Z"
   },
   {
    "duration": 2,
    "start_time": "2022-07-12T01:35:27.623Z"
   },
   {
    "duration": 41,
    "start_time": "2022-07-12T01:35:27.627Z"
   },
   {
    "duration": 42,
    "start_time": "2022-07-12T01:35:27.670Z"
   },
   {
    "duration": 3,
    "start_time": "2022-07-12T01:35:27.714Z"
   },
   {
    "duration": 17,
    "start_time": "2022-07-12T01:35:27.719Z"
   },
   {
    "duration": 9,
    "start_time": "2022-07-12T01:35:27.737Z"
   },
   {
    "duration": 16,
    "start_time": "2022-07-12T01:35:27.748Z"
   },
   {
    "duration": 65,
    "start_time": "2022-07-12T01:35:27.765Z"
   },
   {
    "duration": 11,
    "start_time": "2022-07-12T01:35:27.831Z"
   },
   {
    "duration": 8,
    "start_time": "2022-07-12T01:35:27.843Z"
   },
   {
    "duration": 12,
    "start_time": "2022-07-12T01:35:27.852Z"
   },
   {
    "duration": 39,
    "start_time": "2022-07-12T01:35:27.866Z"
   },
   {
    "duration": 2810,
    "start_time": "2022-07-12T01:35:27.907Z"
   },
   {
    "duration": 0,
    "start_time": "2022-07-12T01:35:30.720Z"
   },
   {
    "duration": 0,
    "start_time": "2022-07-12T01:35:30.721Z"
   },
   {
    "duration": 0,
    "start_time": "2022-07-12T01:35:30.722Z"
   },
   {
    "duration": 0,
    "start_time": "2022-07-12T01:35:30.724Z"
   },
   {
    "duration": 0,
    "start_time": "2022-07-12T01:35:30.725Z"
   },
   {
    "duration": 0,
    "start_time": "2022-07-12T01:35:30.726Z"
   },
   {
    "duration": 0,
    "start_time": "2022-07-12T01:35:30.728Z"
   },
   {
    "duration": 0,
    "start_time": "2022-07-12T01:35:30.729Z"
   },
   {
    "duration": 0,
    "start_time": "2022-07-12T01:35:30.731Z"
   },
   {
    "duration": 0,
    "start_time": "2022-07-12T01:35:30.732Z"
   },
   {
    "duration": 0,
    "start_time": "2022-07-12T01:35:30.733Z"
   },
   {
    "duration": 1,
    "start_time": "2022-07-12T01:35:30.734Z"
   },
   {
    "duration": 0,
    "start_time": "2022-07-12T01:35:30.736Z"
   },
   {
    "duration": 0,
    "start_time": "2022-07-12T01:35:30.737Z"
   },
   {
    "duration": 0,
    "start_time": "2022-07-12T01:35:30.738Z"
   },
   {
    "duration": 0,
    "start_time": "2022-07-12T01:35:30.740Z"
   },
   {
    "duration": 0,
    "start_time": "2022-07-12T01:35:30.741Z"
   },
   {
    "duration": 0,
    "start_time": "2022-07-12T01:35:30.742Z"
   },
   {
    "duration": 0,
    "start_time": "2022-07-12T01:35:30.743Z"
   },
   {
    "duration": 0,
    "start_time": "2022-07-12T01:35:30.744Z"
   },
   {
    "duration": 0,
    "start_time": "2022-07-12T01:35:30.745Z"
   },
   {
    "duration": 0,
    "start_time": "2022-07-12T01:35:30.746Z"
   },
   {
    "duration": 0,
    "start_time": "2022-07-12T01:35:30.748Z"
   },
   {
    "duration": 0,
    "start_time": "2022-07-12T01:35:30.749Z"
   },
   {
    "duration": 0,
    "start_time": "2022-07-12T01:35:30.750Z"
   },
   {
    "duration": 0,
    "start_time": "2022-07-12T01:35:30.751Z"
   },
   {
    "duration": 0,
    "start_time": "2022-07-12T01:35:30.752Z"
   },
   {
    "duration": 0,
    "start_time": "2022-07-12T01:35:30.753Z"
   },
   {
    "duration": 0,
    "start_time": "2022-07-12T01:35:30.754Z"
   },
   {
    "duration": 0,
    "start_time": "2022-07-12T01:35:30.755Z"
   },
   {
    "duration": 0,
    "start_time": "2022-07-12T01:35:30.756Z"
   },
   {
    "duration": 12,
    "start_time": "2022-07-12T01:47:29.490Z"
   },
   {
    "duration": 15,
    "start_time": "2022-07-12T01:48:22.063Z"
   },
   {
    "duration": 9,
    "start_time": "2022-07-12T01:49:22.088Z"
   },
   {
    "duration": 9,
    "start_time": "2022-07-12T01:51:39.853Z"
   },
   {
    "duration": 19,
    "start_time": "2022-07-12T01:51:51.906Z"
   },
   {
    "duration": 12,
    "start_time": "2022-07-12T01:52:22.750Z"
   },
   {
    "duration": 9,
    "start_time": "2022-07-12T02:09:07.030Z"
   },
   {
    "duration": 1237,
    "start_time": "2022-07-12T02:09:29.460Z"
   },
   {
    "duration": 1164,
    "start_time": "2022-07-12T02:09:38.927Z"
   },
   {
    "duration": 6,
    "start_time": "2022-07-12T02:09:43.064Z"
   },
   {
    "duration": 8,
    "start_time": "2022-07-12T02:10:27.738Z"
   },
   {
    "duration": 35,
    "start_time": "2022-07-12T02:13:28.335Z"
   },
   {
    "duration": 36,
    "start_time": "2022-07-12T02:13:50.372Z"
   },
   {
    "duration": 9,
    "start_time": "2022-07-12T02:14:04.588Z"
   },
   {
    "duration": 9,
    "start_time": "2022-07-12T02:14:08.418Z"
   },
   {
    "duration": 10,
    "start_time": "2022-07-12T02:14:36.988Z"
   },
   {
    "duration": 12,
    "start_time": "2022-07-12T02:15:33.019Z"
   },
   {
    "duration": 8,
    "start_time": "2022-07-12T02:15:36.650Z"
   },
   {
    "duration": 11,
    "start_time": "2022-07-12T02:15:37.945Z"
   },
   {
    "duration": 13,
    "start_time": "2022-07-12T02:15:56.496Z"
   },
   {
    "duration": 34,
    "start_time": "2022-07-12T02:17:48.556Z"
   },
   {
    "duration": 12,
    "start_time": "2022-07-12T02:17:51.449Z"
   },
   {
    "duration": 10,
    "start_time": "2022-07-12T02:18:12.952Z"
   },
   {
    "duration": 11,
    "start_time": "2022-07-12T02:18:16.088Z"
   },
   {
    "duration": 38,
    "start_time": "2022-07-12T02:19:21.538Z"
   },
   {
    "duration": 11,
    "start_time": "2022-07-12T02:19:25.552Z"
   },
   {
    "duration": 12,
    "start_time": "2022-07-12T02:19:46.221Z"
   },
   {
    "duration": 12,
    "start_time": "2022-07-12T02:20:03.338Z"
   },
   {
    "duration": 32,
    "start_time": "2022-07-12T02:20:05.809Z"
   },
   {
    "duration": 38,
    "start_time": "2022-07-12T02:21:12.246Z"
   },
   {
    "duration": 11,
    "start_time": "2022-07-12T02:21:14.935Z"
   },
   {
    "duration": 6,
    "start_time": "2022-07-12T02:21:37.436Z"
   },
   {
    "duration": 12,
    "start_time": "2022-07-12T02:21:40.014Z"
   },
   {
    "duration": 17,
    "start_time": "2022-07-12T02:21:50.118Z"
   },
   {
    "duration": 12,
    "start_time": "2022-07-12T02:22:36.016Z"
   },
   {
    "duration": 13,
    "start_time": "2022-07-12T02:22:44.745Z"
   },
   {
    "duration": 13,
    "start_time": "2022-07-12T02:23:12.768Z"
   },
   {
    "duration": 15,
    "start_time": "2022-07-12T02:23:22.457Z"
   },
   {
    "duration": 16,
    "start_time": "2022-07-12T02:23:52.620Z"
   },
   {
    "duration": 13,
    "start_time": "2022-07-12T02:24:11.724Z"
   },
   {
    "duration": 82,
    "start_time": "2022-07-12T02:24:16.693Z"
   },
   {
    "duration": 15,
    "start_time": "2022-07-12T02:24:22.618Z"
   },
   {
    "duration": 17,
    "start_time": "2022-07-12T02:24:45.585Z"
   },
   {
    "duration": 15,
    "start_time": "2022-07-12T02:25:07.367Z"
   },
   {
    "duration": 12,
    "start_time": "2022-07-12T02:26:37.681Z"
   },
   {
    "duration": 11,
    "start_time": "2022-07-12T02:26:52.003Z"
   },
   {
    "duration": 17,
    "start_time": "2022-07-12T02:27:04.104Z"
   },
   {
    "duration": 32,
    "start_time": "2022-07-12T02:27:06.586Z"
   },
   {
    "duration": 12,
    "start_time": "2022-07-12T02:27:19.365Z"
   },
   {
    "duration": 8,
    "start_time": "2022-07-12T02:29:49.599Z"
   },
   {
    "duration": 7,
    "start_time": "2022-07-12T02:31:07.716Z"
   },
   {
    "duration": 4,
    "start_time": "2022-07-12T02:31:22.790Z"
   },
   {
    "duration": 18,
    "start_time": "2022-07-12T02:32:13.246Z"
   },
   {
    "duration": 486,
    "start_time": "2022-07-12T02:32:45.617Z"
   },
   {
    "duration": 21,
    "start_time": "2022-07-12T02:32:46.105Z"
   },
   {
    "duration": 31,
    "start_time": "2022-07-12T02:32:46.128Z"
   },
   {
    "duration": 7,
    "start_time": "2022-07-12T02:32:46.161Z"
   },
   {
    "duration": 43,
    "start_time": "2022-07-12T02:32:46.170Z"
   },
   {
    "duration": 16,
    "start_time": "2022-07-12T02:32:46.215Z"
   },
   {
    "duration": 23,
    "start_time": "2022-07-12T02:32:46.233Z"
   },
   {
    "duration": 88,
    "start_time": "2022-07-12T02:32:46.258Z"
   },
   {
    "duration": 2,
    "start_time": "2022-07-12T02:32:46.348Z"
   },
   {
    "duration": 4,
    "start_time": "2022-07-12T02:32:46.353Z"
   },
   {
    "duration": 18,
    "start_time": "2022-07-12T02:32:46.359Z"
   },
   {
    "duration": 5,
    "start_time": "2022-07-12T02:32:46.405Z"
   },
   {
    "duration": 15,
    "start_time": "2022-07-12T02:32:46.411Z"
   },
   {
    "duration": 6,
    "start_time": "2022-07-12T02:32:46.428Z"
   },
   {
    "duration": 8,
    "start_time": "2022-07-12T02:32:46.437Z"
   },
   {
    "duration": 59,
    "start_time": "2022-07-12T02:32:46.447Z"
   },
   {
    "duration": 15,
    "start_time": "2022-07-12T02:32:46.508Z"
   },
   {
    "duration": 91,
    "start_time": "2022-07-12T02:32:46.525Z"
   },
   {
    "duration": 0,
    "start_time": "2022-07-12T02:32:46.621Z"
   },
   {
    "duration": 0,
    "start_time": "2022-07-12T02:32:46.623Z"
   },
   {
    "duration": 0,
    "start_time": "2022-07-12T02:32:46.624Z"
   },
   {
    "duration": 0,
    "start_time": "2022-07-12T02:32:46.625Z"
   },
   {
    "duration": 0,
    "start_time": "2022-07-12T02:32:46.627Z"
   },
   {
    "duration": 0,
    "start_time": "2022-07-12T02:32:46.628Z"
   },
   {
    "duration": 0,
    "start_time": "2022-07-12T02:32:46.629Z"
   },
   {
    "duration": 0,
    "start_time": "2022-07-12T02:32:46.631Z"
   },
   {
    "duration": 0,
    "start_time": "2022-07-12T02:32:46.632Z"
   },
   {
    "duration": 0,
    "start_time": "2022-07-12T02:32:46.633Z"
   },
   {
    "duration": 0,
    "start_time": "2022-07-12T02:32:46.635Z"
   },
   {
    "duration": 0,
    "start_time": "2022-07-12T02:32:46.636Z"
   },
   {
    "duration": 0,
    "start_time": "2022-07-12T02:32:46.638Z"
   },
   {
    "duration": 0,
    "start_time": "2022-07-12T02:32:46.639Z"
   },
   {
    "duration": 0,
    "start_time": "2022-07-12T02:32:46.641Z"
   },
   {
    "duration": 0,
    "start_time": "2022-07-12T02:32:46.642Z"
   },
   {
    "duration": 0,
    "start_time": "2022-07-12T02:32:46.643Z"
   },
   {
    "duration": 0,
    "start_time": "2022-07-12T02:32:46.644Z"
   },
   {
    "duration": 0,
    "start_time": "2022-07-12T02:32:46.645Z"
   },
   {
    "duration": 0,
    "start_time": "2022-07-12T02:32:46.646Z"
   },
   {
    "duration": 0,
    "start_time": "2022-07-12T02:32:46.647Z"
   },
   {
    "duration": 0,
    "start_time": "2022-07-12T02:32:46.649Z"
   },
   {
    "duration": 0,
    "start_time": "2022-07-12T02:32:46.650Z"
   },
   {
    "duration": 0,
    "start_time": "2022-07-12T02:32:46.651Z"
   },
   {
    "duration": 0,
    "start_time": "2022-07-12T02:32:46.652Z"
   },
   {
    "duration": 0,
    "start_time": "2022-07-12T02:32:46.653Z"
   },
   {
    "duration": 0,
    "start_time": "2022-07-12T02:32:46.654Z"
   },
   {
    "duration": 0,
    "start_time": "2022-07-12T02:32:46.656Z"
   },
   {
    "duration": 0,
    "start_time": "2022-07-12T02:32:46.704Z"
   },
   {
    "duration": 0,
    "start_time": "2022-07-12T02:32:46.706Z"
   },
   {
    "duration": 0,
    "start_time": "2022-07-12T02:32:46.707Z"
   },
   {
    "duration": 0,
    "start_time": "2022-07-12T02:32:46.708Z"
   },
   {
    "duration": 0,
    "start_time": "2022-07-12T02:32:46.709Z"
   },
   {
    "duration": 0,
    "start_time": "2022-07-12T02:32:46.710Z"
   },
   {
    "duration": 0,
    "start_time": "2022-07-12T02:32:46.711Z"
   },
   {
    "duration": 0,
    "start_time": "2022-07-12T02:32:46.712Z"
   },
   {
    "duration": 0,
    "start_time": "2022-07-12T02:32:46.713Z"
   },
   {
    "duration": 0,
    "start_time": "2022-07-12T02:32:46.714Z"
   },
   {
    "duration": 0,
    "start_time": "2022-07-12T02:32:46.715Z"
   },
   {
    "duration": 0,
    "start_time": "2022-07-12T02:32:46.716Z"
   },
   {
    "duration": 0,
    "start_time": "2022-07-12T02:32:46.718Z"
   },
   {
    "duration": 0,
    "start_time": "2022-07-12T02:32:46.719Z"
   },
   {
    "duration": 0,
    "start_time": "2022-07-12T02:32:46.720Z"
   },
   {
    "duration": 0,
    "start_time": "2022-07-12T02:32:46.721Z"
   },
   {
    "duration": 0,
    "start_time": "2022-07-12T02:32:46.721Z"
   },
   {
    "duration": 0,
    "start_time": "2022-07-12T02:32:46.723Z"
   },
   {
    "duration": 0,
    "start_time": "2022-07-12T02:32:46.724Z"
   },
   {
    "duration": 0,
    "start_time": "2022-07-12T02:32:46.725Z"
   },
   {
    "duration": 0,
    "start_time": "2022-07-12T02:32:46.726Z"
   },
   {
    "duration": 0,
    "start_time": "2022-07-12T02:32:46.728Z"
   },
   {
    "duration": 0,
    "start_time": "2022-07-12T02:32:46.729Z"
   },
   {
    "duration": 0,
    "start_time": "2022-07-12T02:32:46.730Z"
   },
   {
    "duration": 0,
    "start_time": "2022-07-12T02:32:46.731Z"
   },
   {
    "duration": 0,
    "start_time": "2022-07-12T02:32:46.733Z"
   },
   {
    "duration": 0,
    "start_time": "2022-07-12T02:32:46.734Z"
   },
   {
    "duration": 0,
    "start_time": "2022-07-12T02:32:46.735Z"
   },
   {
    "duration": 0,
    "start_time": "2022-07-12T02:32:46.736Z"
   },
   {
    "duration": 0,
    "start_time": "2022-07-12T02:32:46.737Z"
   },
   {
    "duration": 0,
    "start_time": "2022-07-12T02:32:46.738Z"
   },
   {
    "duration": 0,
    "start_time": "2022-07-12T02:32:46.739Z"
   },
   {
    "duration": 0,
    "start_time": "2022-07-12T02:32:46.740Z"
   },
   {
    "duration": 0,
    "start_time": "2022-07-12T02:32:46.742Z"
   },
   {
    "duration": 0,
    "start_time": "2022-07-12T02:32:46.742Z"
   },
   {
    "duration": 0,
    "start_time": "2022-07-12T02:32:46.743Z"
   },
   {
    "duration": 0,
    "start_time": "2022-07-12T02:32:46.805Z"
   },
   {
    "duration": 0,
    "start_time": "2022-07-12T02:32:46.806Z"
   },
   {
    "duration": 0,
    "start_time": "2022-07-12T02:32:46.807Z"
   },
   {
    "duration": 0,
    "start_time": "2022-07-12T02:32:46.808Z"
   },
   {
    "duration": 0,
    "start_time": "2022-07-12T02:32:46.810Z"
   },
   {
    "duration": 0,
    "start_time": "2022-07-12T02:32:46.811Z"
   },
   {
    "duration": 0,
    "start_time": "2022-07-12T02:32:46.812Z"
   },
   {
    "duration": 0,
    "start_time": "2022-07-12T02:32:46.813Z"
   },
   {
    "duration": 0,
    "start_time": "2022-07-12T02:32:46.815Z"
   },
   {
    "duration": 0,
    "start_time": "2022-07-12T02:32:46.816Z"
   },
   {
    "duration": 17,
    "start_time": "2022-07-12T02:33:25.816Z"
   },
   {
    "duration": 41,
    "start_time": "2022-07-12T02:34:00.507Z"
   },
   {
    "duration": 15,
    "start_time": "2022-07-12T02:34:03.905Z"
   },
   {
    "duration": 65,
    "start_time": "2022-07-12T02:34:39.327Z"
   },
   {
    "duration": 469,
    "start_time": "2022-07-12T02:34:53.827Z"
   },
   {
    "duration": 18,
    "start_time": "2022-07-12T02:34:54.299Z"
   },
   {
    "duration": 22,
    "start_time": "2022-07-12T02:34:54.318Z"
   },
   {
    "duration": 6,
    "start_time": "2022-07-12T02:34:54.341Z"
   },
   {
    "duration": 23,
    "start_time": "2022-07-12T02:34:54.350Z"
   },
   {
    "duration": 42,
    "start_time": "2022-07-12T02:34:54.375Z"
   },
   {
    "duration": 27,
    "start_time": "2022-07-12T02:34:54.419Z"
   },
   {
    "duration": 76,
    "start_time": "2022-07-12T02:34:54.448Z"
   },
   {
    "duration": 2,
    "start_time": "2022-07-12T02:34:54.526Z"
   },
   {
    "duration": 8,
    "start_time": "2022-07-12T02:34:54.530Z"
   },
   {
    "duration": 18,
    "start_time": "2022-07-12T02:34:54.540Z"
   },
   {
    "duration": 6,
    "start_time": "2022-07-12T02:34:54.559Z"
   },
   {
    "duration": 38,
    "start_time": "2022-07-12T02:34:54.566Z"
   },
   {
    "duration": 4,
    "start_time": "2022-07-12T02:34:54.607Z"
   },
   {
    "duration": 9,
    "start_time": "2022-07-12T02:34:54.612Z"
   },
   {
    "duration": 11,
    "start_time": "2022-07-12T02:34:54.623Z"
   },
   {
    "duration": 101,
    "start_time": "2022-07-12T02:34:54.636Z"
   },
   {
    "duration": 0,
    "start_time": "2022-07-12T02:34:54.740Z"
   },
   {
    "duration": 0,
    "start_time": "2022-07-12T02:34:54.741Z"
   },
   {
    "duration": 0,
    "start_time": "2022-07-12T02:34:54.742Z"
   },
   {
    "duration": 0,
    "start_time": "2022-07-12T02:34:54.744Z"
   },
   {
    "duration": 0,
    "start_time": "2022-07-12T02:34:54.745Z"
   },
   {
    "duration": 0,
    "start_time": "2022-07-12T02:34:54.746Z"
   },
   {
    "duration": 0,
    "start_time": "2022-07-12T02:34:54.747Z"
   },
   {
    "duration": 0,
    "start_time": "2022-07-12T02:34:54.748Z"
   },
   {
    "duration": 0,
    "start_time": "2022-07-12T02:34:54.749Z"
   },
   {
    "duration": 0,
    "start_time": "2022-07-12T02:34:54.750Z"
   },
   {
    "duration": 0,
    "start_time": "2022-07-12T02:34:54.751Z"
   },
   {
    "duration": 0,
    "start_time": "2022-07-12T02:34:54.752Z"
   },
   {
    "duration": 0,
    "start_time": "2022-07-12T02:34:54.753Z"
   },
   {
    "duration": 0,
    "start_time": "2022-07-12T02:34:54.754Z"
   },
   {
    "duration": 0,
    "start_time": "2022-07-12T02:34:54.755Z"
   },
   {
    "duration": 0,
    "start_time": "2022-07-12T02:34:54.756Z"
   },
   {
    "duration": 0,
    "start_time": "2022-07-12T02:34:54.757Z"
   },
   {
    "duration": 0,
    "start_time": "2022-07-12T02:34:54.758Z"
   },
   {
    "duration": 0,
    "start_time": "2022-07-12T02:34:54.759Z"
   },
   {
    "duration": 0,
    "start_time": "2022-07-12T02:34:54.760Z"
   },
   {
    "duration": 0,
    "start_time": "2022-07-12T02:34:54.761Z"
   },
   {
    "duration": 0,
    "start_time": "2022-07-12T02:34:54.762Z"
   },
   {
    "duration": 0,
    "start_time": "2022-07-12T02:34:54.804Z"
   },
   {
    "duration": 0,
    "start_time": "2022-07-12T02:34:54.806Z"
   },
   {
    "duration": 0,
    "start_time": "2022-07-12T02:34:54.807Z"
   },
   {
    "duration": 0,
    "start_time": "2022-07-12T02:34:54.809Z"
   },
   {
    "duration": 0,
    "start_time": "2022-07-12T02:34:54.810Z"
   },
   {
    "duration": 0,
    "start_time": "2022-07-12T02:34:54.811Z"
   },
   {
    "duration": 0,
    "start_time": "2022-07-12T02:34:54.813Z"
   },
   {
    "duration": 0,
    "start_time": "2022-07-12T02:34:54.814Z"
   },
   {
    "duration": 0,
    "start_time": "2022-07-12T02:34:54.816Z"
   },
   {
    "duration": 0,
    "start_time": "2022-07-12T02:34:54.817Z"
   },
   {
    "duration": 0,
    "start_time": "2022-07-12T02:34:54.818Z"
   },
   {
    "duration": 0,
    "start_time": "2022-07-12T02:34:54.819Z"
   },
   {
    "duration": 0,
    "start_time": "2022-07-12T02:34:54.820Z"
   },
   {
    "duration": 0,
    "start_time": "2022-07-12T02:34:54.821Z"
   },
   {
    "duration": 0,
    "start_time": "2022-07-12T02:34:54.822Z"
   },
   {
    "duration": 0,
    "start_time": "2022-07-12T02:34:54.823Z"
   },
   {
    "duration": 0,
    "start_time": "2022-07-12T02:34:54.823Z"
   },
   {
    "duration": 0,
    "start_time": "2022-07-12T02:34:54.825Z"
   },
   {
    "duration": 0,
    "start_time": "2022-07-12T02:34:54.826Z"
   },
   {
    "duration": 0,
    "start_time": "2022-07-12T02:34:54.827Z"
   },
   {
    "duration": 0,
    "start_time": "2022-07-12T02:34:54.828Z"
   },
   {
    "duration": 0,
    "start_time": "2022-07-12T02:34:54.829Z"
   },
   {
    "duration": 0,
    "start_time": "2022-07-12T02:34:54.830Z"
   },
   {
    "duration": 0,
    "start_time": "2022-07-12T02:34:54.830Z"
   },
   {
    "duration": 0,
    "start_time": "2022-07-12T02:34:54.831Z"
   },
   {
    "duration": 0,
    "start_time": "2022-07-12T02:34:54.832Z"
   },
   {
    "duration": 0,
    "start_time": "2022-07-12T02:34:54.833Z"
   },
   {
    "duration": 0,
    "start_time": "2022-07-12T02:34:54.835Z"
   },
   {
    "duration": 0,
    "start_time": "2022-07-12T02:34:54.836Z"
   },
   {
    "duration": 0,
    "start_time": "2022-07-12T02:34:54.837Z"
   },
   {
    "duration": 0,
    "start_time": "2022-07-12T02:34:54.838Z"
   },
   {
    "duration": 0,
    "start_time": "2022-07-12T02:34:54.839Z"
   },
   {
    "duration": 0,
    "start_time": "2022-07-12T02:34:54.840Z"
   },
   {
    "duration": 0,
    "start_time": "2022-07-12T02:34:54.905Z"
   },
   {
    "duration": 0,
    "start_time": "2022-07-12T02:34:54.906Z"
   },
   {
    "duration": 0,
    "start_time": "2022-07-12T02:34:54.907Z"
   },
   {
    "duration": 0,
    "start_time": "2022-07-12T02:34:54.908Z"
   },
   {
    "duration": 0,
    "start_time": "2022-07-12T02:34:54.909Z"
   },
   {
    "duration": 0,
    "start_time": "2022-07-12T02:34:54.910Z"
   },
   {
    "duration": 0,
    "start_time": "2022-07-12T02:34:54.911Z"
   },
   {
    "duration": 0,
    "start_time": "2022-07-12T02:34:54.912Z"
   },
   {
    "duration": 0,
    "start_time": "2022-07-12T02:34:54.913Z"
   },
   {
    "duration": 0,
    "start_time": "2022-07-12T02:34:54.914Z"
   },
   {
    "duration": 0,
    "start_time": "2022-07-12T02:34:54.916Z"
   },
   {
    "duration": 0,
    "start_time": "2022-07-12T02:34:54.917Z"
   },
   {
    "duration": 0,
    "start_time": "2022-07-12T02:34:54.918Z"
   },
   {
    "duration": 0,
    "start_time": "2022-07-12T02:34:54.919Z"
   },
   {
    "duration": 0,
    "start_time": "2022-07-12T02:34:54.920Z"
   },
   {
    "duration": 0,
    "start_time": "2022-07-12T02:34:54.921Z"
   },
   {
    "duration": 0,
    "start_time": "2022-07-12T02:34:54.922Z"
   },
   {
    "duration": 0,
    "start_time": "2022-07-12T02:34:54.923Z"
   },
   {
    "duration": 0,
    "start_time": "2022-07-12T02:34:54.924Z"
   },
   {
    "duration": 0,
    "start_time": "2022-07-12T02:34:54.925Z"
   },
   {
    "duration": 13,
    "start_time": "2022-07-12T02:35:14.744Z"
   },
   {
    "duration": 158,
    "start_time": "2022-07-12T02:35:43.295Z"
   },
   {
    "duration": 122,
    "start_time": "2022-07-12T02:35:52.548Z"
   },
   {
    "duration": 87,
    "start_time": "2022-07-12T02:36:05.608Z"
   },
   {
    "duration": 80,
    "start_time": "2022-07-12T02:36:20.522Z"
   },
   {
    "duration": 12,
    "start_time": "2022-07-12T02:38:47.866Z"
   },
   {
    "duration": 11,
    "start_time": "2022-07-12T02:39:07.096Z"
   },
   {
    "duration": 13,
    "start_time": "2022-07-12T02:39:22.415Z"
   },
   {
    "duration": 11,
    "start_time": "2022-07-12T02:41:14.376Z"
   },
   {
    "duration": 7,
    "start_time": "2022-07-12T02:41:27.734Z"
   },
   {
    "duration": 11,
    "start_time": "2022-07-12T02:42:25.517Z"
   },
   {
    "duration": 9,
    "start_time": "2022-07-12T02:42:33.859Z"
   },
   {
    "duration": 77,
    "start_time": "2022-07-12T02:43:34.229Z"
   },
   {
    "duration": 5,
    "start_time": "2022-07-12T02:43:37.727Z"
   },
   {
    "duration": 12,
    "start_time": "2022-07-12T02:43:50.758Z"
   },
   {
    "duration": 12,
    "start_time": "2022-07-12T02:43:53.256Z"
   },
   {
    "duration": 8,
    "start_time": "2022-07-12T02:45:03.621Z"
   },
   {
    "duration": 5,
    "start_time": "2022-07-12T02:45:05.623Z"
   },
   {
    "duration": 11,
    "start_time": "2022-07-12T02:45:10.951Z"
   },
   {
    "duration": 7,
    "start_time": "2022-07-12T02:45:13.293Z"
   },
   {
    "duration": 5,
    "start_time": "2022-07-12T02:45:15.662Z"
   },
   {
    "duration": 10,
    "start_time": "2022-07-12T02:45:33.657Z"
   },
   {
    "duration": 9,
    "start_time": "2022-07-12T02:45:36.392Z"
   },
   {
    "duration": 6,
    "start_time": "2022-07-12T02:45:38.574Z"
   },
   {
    "duration": 5,
    "start_time": "2022-07-12T02:45:41.878Z"
   },
   {
    "duration": 10,
    "start_time": "2022-07-12T02:45:49.555Z"
   },
   {
    "duration": 7,
    "start_time": "2022-07-12T02:45:50.875Z"
   },
   {
    "duration": 7,
    "start_time": "2022-07-12T02:45:54.321Z"
   },
   {
    "duration": 26,
    "start_time": "2022-07-12T02:46:37.745Z"
   },
   {
    "duration": 5,
    "start_time": "2022-07-12T02:46:41.509Z"
   },
   {
    "duration": 10,
    "start_time": "2022-07-12T02:46:46.092Z"
   },
   {
    "duration": 31,
    "start_time": "2022-07-12T02:46:47.602Z"
   },
   {
    "duration": 5,
    "start_time": "2022-07-12T02:46:49.048Z"
   },
   {
    "duration": 8,
    "start_time": "2022-07-12T02:47:20.086Z"
   },
   {
    "duration": 15,
    "start_time": "2022-07-12T02:47:22.907Z"
   },
   {
    "duration": 4,
    "start_time": "2022-07-12T02:47:28.387Z"
   },
   {
    "duration": 7,
    "start_time": "2022-07-12T02:47:44.176Z"
   },
   {
    "duration": 13,
    "start_time": "2022-07-12T02:47:46.441Z"
   },
   {
    "duration": 8,
    "start_time": "2022-07-12T02:47:54.184Z"
   },
   {
    "duration": 12,
    "start_time": "2022-07-12T02:47:57.769Z"
   },
   {
    "duration": 5,
    "start_time": "2022-07-12T02:47:59.502Z"
   },
   {
    "duration": 12,
    "start_time": "2022-07-12T02:49:30.556Z"
   },
   {
    "duration": 10,
    "start_time": "2022-07-12T02:49:32.193Z"
   },
   {
    "duration": 5,
    "start_time": "2022-07-12T02:49:37.087Z"
   },
   {
    "duration": 10,
    "start_time": "2022-07-12T02:49:46.494Z"
   },
   {
    "duration": 10,
    "start_time": "2022-07-12T02:49:54.134Z"
   },
   {
    "duration": 9,
    "start_time": "2022-07-12T02:50:05.654Z"
   },
   {
    "duration": 12,
    "start_time": "2022-07-12T02:50:10.908Z"
   },
   {
    "duration": 13,
    "start_time": "2022-07-12T02:50:25.846Z"
   },
   {
    "duration": 4,
    "start_time": "2022-07-12T02:50:28.181Z"
   },
   {
    "duration": 9,
    "start_time": "2022-07-12T02:50:31.355Z"
   },
   {
    "duration": 7,
    "start_time": "2022-07-12T02:50:43.903Z"
   },
   {
    "duration": 11,
    "start_time": "2022-07-12T02:50:50.874Z"
   },
   {
    "duration": 10,
    "start_time": "2022-07-12T02:51:05.951Z"
   },
   {
    "duration": 14,
    "start_time": "2022-07-12T02:52:11.131Z"
   },
   {
    "duration": 424,
    "start_time": "2022-07-12T02:52:18.637Z"
   },
   {
    "duration": 19,
    "start_time": "2022-07-12T02:52:19.063Z"
   },
   {
    "duration": 44,
    "start_time": "2022-07-12T02:52:19.083Z"
   },
   {
    "duration": 34,
    "start_time": "2022-07-12T02:52:19.130Z"
   },
   {
    "duration": 5,
    "start_time": "2022-07-12T02:52:19.166Z"
   },
   {
    "duration": 21,
    "start_time": "2022-07-12T02:52:19.173Z"
   },
   {
    "duration": 20,
    "start_time": "2022-07-12T02:52:19.195Z"
   },
   {
    "duration": 38,
    "start_time": "2022-07-12T02:52:19.216Z"
   },
   {
    "duration": 122,
    "start_time": "2022-07-12T02:52:19.256Z"
   },
   {
    "duration": 2,
    "start_time": "2022-07-12T02:52:19.380Z"
   },
   {
    "duration": 7,
    "start_time": "2022-07-12T02:52:19.383Z"
   },
   {
    "duration": 12,
    "start_time": "2022-07-12T02:52:19.404Z"
   },
   {
    "duration": 4,
    "start_time": "2022-07-12T02:52:19.418Z"
   },
   {
    "duration": 11,
    "start_time": "2022-07-12T02:52:19.424Z"
   },
   {
    "duration": 6,
    "start_time": "2022-07-12T02:52:19.436Z"
   },
   {
    "duration": 19,
    "start_time": "2022-07-12T02:52:19.444Z"
   },
   {
    "duration": 47,
    "start_time": "2022-07-12T02:52:19.465Z"
   },
   {
    "duration": 13,
    "start_time": "2022-07-12T02:52:19.514Z"
   },
   {
    "duration": 29,
    "start_time": "2022-07-12T02:52:19.529Z"
   },
   {
    "duration": 4,
    "start_time": "2022-07-12T02:52:19.560Z"
   },
   {
    "duration": 71,
    "start_time": "2022-07-12T02:52:19.565Z"
   },
   {
    "duration": 0,
    "start_time": "2022-07-12T02:52:19.640Z"
   },
   {
    "duration": 0,
    "start_time": "2022-07-12T02:52:19.641Z"
   },
   {
    "duration": 0,
    "start_time": "2022-07-12T02:52:19.642Z"
   },
   {
    "duration": 0,
    "start_time": "2022-07-12T02:52:19.643Z"
   },
   {
    "duration": 0,
    "start_time": "2022-07-12T02:52:19.644Z"
   },
   {
    "duration": 0,
    "start_time": "2022-07-12T02:52:19.645Z"
   },
   {
    "duration": 0,
    "start_time": "2022-07-12T02:52:19.645Z"
   },
   {
    "duration": 0,
    "start_time": "2022-07-12T02:52:19.646Z"
   },
   {
    "duration": 0,
    "start_time": "2022-07-12T02:52:19.647Z"
   },
   {
    "duration": 0,
    "start_time": "2022-07-12T02:52:19.648Z"
   },
   {
    "duration": 0,
    "start_time": "2022-07-12T02:52:19.649Z"
   },
   {
    "duration": 0,
    "start_time": "2022-07-12T02:52:19.651Z"
   },
   {
    "duration": 0,
    "start_time": "2022-07-12T02:52:19.652Z"
   },
   {
    "duration": 0,
    "start_time": "2022-07-12T02:52:19.653Z"
   },
   {
    "duration": 0,
    "start_time": "2022-07-12T02:52:19.654Z"
   },
   {
    "duration": 0,
    "start_time": "2022-07-12T02:52:19.655Z"
   },
   {
    "duration": 0,
    "start_time": "2022-07-12T02:52:19.655Z"
   },
   {
    "duration": 0,
    "start_time": "2022-07-12T02:52:19.656Z"
   },
   {
    "duration": 0,
    "start_time": "2022-07-12T02:52:19.657Z"
   },
   {
    "duration": 0,
    "start_time": "2022-07-12T02:52:19.658Z"
   },
   {
    "duration": 0,
    "start_time": "2022-07-12T02:52:19.659Z"
   },
   {
    "duration": 0,
    "start_time": "2022-07-12T02:52:19.660Z"
   },
   {
    "duration": 0,
    "start_time": "2022-07-12T02:52:19.661Z"
   },
   {
    "duration": 0,
    "start_time": "2022-07-12T02:52:19.662Z"
   },
   {
    "duration": 0,
    "start_time": "2022-07-12T02:52:19.663Z"
   },
   {
    "duration": 0,
    "start_time": "2022-07-12T02:52:19.664Z"
   },
   {
    "duration": 1,
    "start_time": "2022-07-12T02:52:19.664Z"
   },
   {
    "duration": 0,
    "start_time": "2022-07-12T02:52:19.665Z"
   },
   {
    "duration": 0,
    "start_time": "2022-07-12T02:52:19.666Z"
   },
   {
    "duration": 0,
    "start_time": "2022-07-12T02:52:19.667Z"
   },
   {
    "duration": 0,
    "start_time": "2022-07-12T02:52:19.668Z"
   },
   {
    "duration": 0,
    "start_time": "2022-07-12T02:52:19.669Z"
   },
   {
    "duration": 0,
    "start_time": "2022-07-12T02:52:19.670Z"
   },
   {
    "duration": 0,
    "start_time": "2022-07-12T02:52:19.670Z"
   },
   {
    "duration": 0,
    "start_time": "2022-07-12T02:52:19.671Z"
   },
   {
    "duration": 0,
    "start_time": "2022-07-12T02:52:19.672Z"
   },
   {
    "duration": 0,
    "start_time": "2022-07-12T02:52:19.673Z"
   },
   {
    "duration": 0,
    "start_time": "2022-07-12T02:52:19.674Z"
   },
   {
    "duration": 0,
    "start_time": "2022-07-12T02:52:19.674Z"
   },
   {
    "duration": 0,
    "start_time": "2022-07-12T02:52:19.675Z"
   },
   {
    "duration": 0,
    "start_time": "2022-07-12T02:52:19.676Z"
   },
   {
    "duration": 0,
    "start_time": "2022-07-12T02:52:19.677Z"
   },
   {
    "duration": 0,
    "start_time": "2022-07-12T02:52:19.677Z"
   },
   {
    "duration": 0,
    "start_time": "2022-07-12T02:52:19.678Z"
   },
   {
    "duration": 0,
    "start_time": "2022-07-12T02:52:19.678Z"
   },
   {
    "duration": 0,
    "start_time": "2022-07-12T02:52:19.678Z"
   },
   {
    "duration": 0,
    "start_time": "2022-07-12T02:52:19.679Z"
   },
   {
    "duration": 0,
    "start_time": "2022-07-12T02:52:19.703Z"
   },
   {
    "duration": 0,
    "start_time": "2022-07-12T02:52:19.706Z"
   },
   {
    "duration": 0,
    "start_time": "2022-07-12T02:52:19.707Z"
   },
   {
    "duration": 0,
    "start_time": "2022-07-12T02:52:19.709Z"
   },
   {
    "duration": 0,
    "start_time": "2022-07-12T02:52:19.710Z"
   },
   {
    "duration": 0,
    "start_time": "2022-07-12T02:52:19.711Z"
   },
   {
    "duration": 0,
    "start_time": "2022-07-12T02:52:19.713Z"
   },
   {
    "duration": 0,
    "start_time": "2022-07-12T02:52:19.714Z"
   },
   {
    "duration": 0,
    "start_time": "2022-07-12T02:52:19.715Z"
   },
   {
    "duration": 0,
    "start_time": "2022-07-12T02:52:19.717Z"
   },
   {
    "duration": 0,
    "start_time": "2022-07-12T02:52:19.718Z"
   },
   {
    "duration": 0,
    "start_time": "2022-07-12T02:52:19.719Z"
   },
   {
    "duration": 0,
    "start_time": "2022-07-12T02:52:19.721Z"
   },
   {
    "duration": 0,
    "start_time": "2022-07-12T02:52:19.722Z"
   },
   {
    "duration": 0,
    "start_time": "2022-07-12T02:52:19.724Z"
   },
   {
    "duration": 0,
    "start_time": "2022-07-12T02:52:19.725Z"
   },
   {
    "duration": 0,
    "start_time": "2022-07-12T02:52:19.727Z"
   },
   {
    "duration": 0,
    "start_time": "2022-07-12T02:52:19.728Z"
   },
   {
    "duration": 0,
    "start_time": "2022-07-12T02:52:19.730Z"
   },
   {
    "duration": 0,
    "start_time": "2022-07-12T02:52:19.731Z"
   },
   {
    "duration": 0,
    "start_time": "2022-07-12T02:52:19.733Z"
   },
   {
    "duration": 0,
    "start_time": "2022-07-12T02:52:19.734Z"
   },
   {
    "duration": 0,
    "start_time": "2022-07-12T02:52:19.736Z"
   },
   {
    "duration": 0,
    "start_time": "2022-07-12T02:52:19.737Z"
   },
   {
    "duration": 0,
    "start_time": "2022-07-12T02:52:19.738Z"
   },
   {
    "duration": 0,
    "start_time": "2022-07-12T02:52:19.804Z"
   },
   {
    "duration": 12,
    "start_time": "2022-07-12T03:00:38.773Z"
   },
   {
    "duration": 77,
    "start_time": "2022-07-12T03:00:48.813Z"
   },
   {
    "duration": 8,
    "start_time": "2022-07-12T03:01:06.078Z"
   },
   {
    "duration": 13,
    "start_time": "2022-07-12T03:01:34.796Z"
   },
   {
    "duration": 25,
    "start_time": "2022-07-12T03:01:49.209Z"
   },
   {
    "duration": 6,
    "start_time": "2022-07-12T03:01:51.331Z"
   },
   {
    "duration": 6,
    "start_time": "2022-07-12T03:09:39.433Z"
   },
   {
    "duration": 77,
    "start_time": "2022-07-12T03:09:56.871Z"
   },
   {
    "duration": 6,
    "start_time": "2022-07-12T03:10:01.522Z"
   },
   {
    "duration": 508,
    "start_time": "2022-07-12T03:10:15.291Z"
   },
   {
    "duration": 18,
    "start_time": "2022-07-12T03:10:15.800Z"
   },
   {
    "duration": 20,
    "start_time": "2022-07-12T03:10:15.820Z"
   },
   {
    "duration": 32,
    "start_time": "2022-07-12T03:10:15.842Z"
   },
   {
    "duration": 33,
    "start_time": "2022-07-12T03:10:15.876Z"
   },
   {
    "duration": 16,
    "start_time": "2022-07-12T03:10:15.910Z"
   },
   {
    "duration": 12,
    "start_time": "2022-07-12T03:10:15.928Z"
   },
   {
    "duration": 22,
    "start_time": "2022-07-12T03:10:15.941Z"
   },
   {
    "duration": 161,
    "start_time": "2022-07-12T03:10:15.966Z"
   },
   {
    "duration": 2,
    "start_time": "2022-07-12T03:10:16.130Z"
   },
   {
    "duration": 23,
    "start_time": "2022-07-12T03:10:16.134Z"
   },
   {
    "duration": 16,
    "start_time": "2022-07-12T03:10:16.158Z"
   },
   {
    "duration": 6,
    "start_time": "2022-07-12T03:10:16.176Z"
   },
   {
    "duration": 22,
    "start_time": "2022-07-12T03:10:16.184Z"
   },
   {
    "duration": 11,
    "start_time": "2022-07-12T03:10:16.207Z"
   },
   {
    "duration": 9,
    "start_time": "2022-07-12T03:10:16.220Z"
   },
   {
    "duration": 20,
    "start_time": "2022-07-12T03:10:16.231Z"
   },
   {
    "duration": 7,
    "start_time": "2022-07-12T03:10:16.253Z"
   },
   {
    "duration": 64,
    "start_time": "2022-07-12T03:10:16.261Z"
   },
   {
    "duration": 5,
    "start_time": "2022-07-12T03:10:16.328Z"
   },
   {
    "duration": 69,
    "start_time": "2022-07-12T03:10:16.335Z"
   },
   {
    "duration": 0,
    "start_time": "2022-07-12T03:10:16.408Z"
   },
   {
    "duration": 0,
    "start_time": "2022-07-12T03:10:16.410Z"
   },
   {
    "duration": 0,
    "start_time": "2022-07-12T03:10:16.412Z"
   },
   {
    "duration": 0,
    "start_time": "2022-07-12T03:10:16.413Z"
   },
   {
    "duration": 0,
    "start_time": "2022-07-12T03:10:16.414Z"
   },
   {
    "duration": 0,
    "start_time": "2022-07-12T03:10:16.416Z"
   },
   {
    "duration": 0,
    "start_time": "2022-07-12T03:10:16.417Z"
   },
   {
    "duration": 0,
    "start_time": "2022-07-12T03:10:16.418Z"
   },
   {
    "duration": 0,
    "start_time": "2022-07-12T03:10:16.420Z"
   },
   {
    "duration": 0,
    "start_time": "2022-07-12T03:10:16.421Z"
   },
   {
    "duration": 0,
    "start_time": "2022-07-12T03:10:16.422Z"
   },
   {
    "duration": 0,
    "start_time": "2022-07-12T03:10:16.424Z"
   },
   {
    "duration": 0,
    "start_time": "2022-07-12T03:10:16.425Z"
   },
   {
    "duration": 0,
    "start_time": "2022-07-12T03:10:16.426Z"
   },
   {
    "duration": 0,
    "start_time": "2022-07-12T03:10:16.428Z"
   },
   {
    "duration": 0,
    "start_time": "2022-07-12T03:10:16.429Z"
   },
   {
    "duration": 0,
    "start_time": "2022-07-12T03:10:16.430Z"
   },
   {
    "duration": 0,
    "start_time": "2022-07-12T03:10:16.433Z"
   },
   {
    "duration": 0,
    "start_time": "2022-07-12T03:10:16.434Z"
   },
   {
    "duration": 0,
    "start_time": "2022-07-12T03:10:16.436Z"
   },
   {
    "duration": 0,
    "start_time": "2022-07-12T03:10:16.437Z"
   },
   {
    "duration": 0,
    "start_time": "2022-07-12T03:10:16.439Z"
   },
   {
    "duration": 0,
    "start_time": "2022-07-12T03:10:16.440Z"
   },
   {
    "duration": 0,
    "start_time": "2022-07-12T03:10:16.441Z"
   },
   {
    "duration": 0,
    "start_time": "2022-07-12T03:10:16.442Z"
   },
   {
    "duration": 0,
    "start_time": "2022-07-12T03:10:16.444Z"
   },
   {
    "duration": 0,
    "start_time": "2022-07-12T03:10:16.504Z"
   },
   {
    "duration": 0,
    "start_time": "2022-07-12T03:10:16.505Z"
   },
   {
    "duration": 0,
    "start_time": "2022-07-12T03:10:16.507Z"
   },
   {
    "duration": 0,
    "start_time": "2022-07-12T03:10:16.509Z"
   },
   {
    "duration": 0,
    "start_time": "2022-07-12T03:10:16.510Z"
   },
   {
    "duration": 0,
    "start_time": "2022-07-12T03:10:16.511Z"
   },
   {
    "duration": 0,
    "start_time": "2022-07-12T03:10:16.513Z"
   },
   {
    "duration": 0,
    "start_time": "2022-07-12T03:10:16.515Z"
   },
   {
    "duration": 0,
    "start_time": "2022-07-12T03:10:16.516Z"
   },
   {
    "duration": 0,
    "start_time": "2022-07-12T03:10:16.517Z"
   },
   {
    "duration": 0,
    "start_time": "2022-07-12T03:10:16.519Z"
   },
   {
    "duration": 0,
    "start_time": "2022-07-12T03:10:16.520Z"
   },
   {
    "duration": 0,
    "start_time": "2022-07-12T03:10:16.523Z"
   },
   {
    "duration": 0,
    "start_time": "2022-07-12T03:10:16.525Z"
   },
   {
    "duration": 0,
    "start_time": "2022-07-12T03:10:16.527Z"
   },
   {
    "duration": 0,
    "start_time": "2022-07-12T03:10:16.528Z"
   },
   {
    "duration": 0,
    "start_time": "2022-07-12T03:10:16.530Z"
   },
   {
    "duration": 0,
    "start_time": "2022-07-12T03:10:16.531Z"
   },
   {
    "duration": 0,
    "start_time": "2022-07-12T03:10:16.533Z"
   },
   {
    "duration": 0,
    "start_time": "2022-07-12T03:10:16.534Z"
   },
   {
    "duration": 0,
    "start_time": "2022-07-12T03:10:16.536Z"
   },
   {
    "duration": 0,
    "start_time": "2022-07-12T03:10:16.538Z"
   },
   {
    "duration": 0,
    "start_time": "2022-07-12T03:10:16.540Z"
   },
   {
    "duration": 0,
    "start_time": "2022-07-12T03:10:16.542Z"
   },
   {
    "duration": 0,
    "start_time": "2022-07-12T03:10:16.543Z"
   },
   {
    "duration": 0,
    "start_time": "2022-07-12T03:10:16.604Z"
   },
   {
    "duration": 0,
    "start_time": "2022-07-12T03:10:16.605Z"
   },
   {
    "duration": 0,
    "start_time": "2022-07-12T03:10:16.606Z"
   },
   {
    "duration": 0,
    "start_time": "2022-07-12T03:10:16.607Z"
   },
   {
    "duration": 0,
    "start_time": "2022-07-12T03:10:16.608Z"
   },
   {
    "duration": 0,
    "start_time": "2022-07-12T03:10:16.609Z"
   },
   {
    "duration": 0,
    "start_time": "2022-07-12T03:10:16.610Z"
   },
   {
    "duration": 0,
    "start_time": "2022-07-12T03:10:16.611Z"
   },
   {
    "duration": 0,
    "start_time": "2022-07-12T03:10:16.612Z"
   },
   {
    "duration": 0,
    "start_time": "2022-07-12T03:10:16.613Z"
   },
   {
    "duration": 0,
    "start_time": "2022-07-12T03:10:16.614Z"
   },
   {
    "duration": 0,
    "start_time": "2022-07-12T03:10:16.615Z"
   },
   {
    "duration": 0,
    "start_time": "2022-07-12T03:10:16.616Z"
   },
   {
    "duration": 0,
    "start_time": "2022-07-12T03:10:16.617Z"
   },
   {
    "duration": 0,
    "start_time": "2022-07-12T03:10:16.618Z"
   },
   {
    "duration": 0,
    "start_time": "2022-07-12T03:10:16.619Z"
   },
   {
    "duration": 0,
    "start_time": "2022-07-12T03:10:16.621Z"
   },
   {
    "duration": 0,
    "start_time": "2022-07-12T03:10:16.622Z"
   },
   {
    "duration": 0,
    "start_time": "2022-07-12T03:10:16.623Z"
   },
   {
    "duration": 0,
    "start_time": "2022-07-12T03:10:16.624Z"
   },
   {
    "duration": 0,
    "start_time": "2022-07-12T03:10:16.625Z"
   },
   {
    "duration": 0,
    "start_time": "2022-07-12T03:10:16.626Z"
   },
   {
    "duration": 10,
    "start_time": "2022-07-12T03:11:13.508Z"
   },
   {
    "duration": 9,
    "start_time": "2022-07-12T03:11:44.860Z"
   },
   {
    "duration": 8,
    "start_time": "2022-07-12T03:12:13.521Z"
   },
   {
    "duration": 10,
    "start_time": "2022-07-12T03:12:29.813Z"
   },
   {
    "duration": 132,
    "start_time": "2022-07-12T03:13:14.373Z"
   },
   {
    "duration": 77,
    "start_time": "2022-07-12T03:13:24.494Z"
   },
   {
    "duration": 10,
    "start_time": "2022-07-12T03:13:42.586Z"
   },
   {
    "duration": 13,
    "start_time": "2022-07-12T03:13:56.483Z"
   },
   {
    "duration": 12,
    "start_time": "2022-07-12T03:14:15.762Z"
   },
   {
    "duration": 12,
    "start_time": "2022-07-12T03:14:25.300Z"
   },
   {
    "duration": 8,
    "start_time": "2022-07-12T03:14:38.930Z"
   },
   {
    "duration": 23,
    "start_time": "2022-07-12T03:15:08.355Z"
   },
   {
    "duration": 6,
    "start_time": "2022-07-12T04:00:55.816Z"
   },
   {
    "duration": 22,
    "start_time": "2022-07-12T04:01:08.851Z"
   },
   {
    "duration": 18,
    "start_time": "2022-07-12T04:01:18.074Z"
   },
   {
    "duration": 10,
    "start_time": "2022-07-12T04:01:19.917Z"
   },
   {
    "duration": 18,
    "start_time": "2022-07-12T04:01:22.907Z"
   },
   {
    "duration": 510,
    "start_time": "2022-07-12T04:01:31.762Z"
   },
   {
    "duration": 23,
    "start_time": "2022-07-12T04:01:32.274Z"
   },
   {
    "duration": 23,
    "start_time": "2022-07-12T04:01:32.300Z"
   },
   {
    "duration": 46,
    "start_time": "2022-07-12T04:01:32.326Z"
   },
   {
    "duration": 9,
    "start_time": "2022-07-12T04:01:32.374Z"
   },
   {
    "duration": 27,
    "start_time": "2022-07-12T04:01:32.385Z"
   },
   {
    "duration": 13,
    "start_time": "2022-07-12T04:01:32.415Z"
   },
   {
    "duration": 23,
    "start_time": "2022-07-12T04:01:32.430Z"
   },
   {
    "duration": 158,
    "start_time": "2022-07-12T04:01:32.456Z"
   },
   {
    "duration": 2,
    "start_time": "2022-07-12T04:01:32.618Z"
   },
   {
    "duration": 8,
    "start_time": "2022-07-12T04:01:32.622Z"
   },
   {
    "duration": 22,
    "start_time": "2022-07-12T04:01:32.632Z"
   },
   {
    "duration": 11,
    "start_time": "2022-07-12T04:01:32.656Z"
   },
   {
    "duration": 12,
    "start_time": "2022-07-12T04:01:32.669Z"
   },
   {
    "duration": 5,
    "start_time": "2022-07-12T04:01:32.705Z"
   },
   {
    "duration": 14,
    "start_time": "2022-07-12T04:01:32.712Z"
   },
   {
    "duration": 18,
    "start_time": "2022-07-12T04:01:32.728Z"
   },
   {
    "duration": 11,
    "start_time": "2022-07-12T04:01:32.748Z"
   },
   {
    "duration": 53,
    "start_time": "2022-07-12T04:01:32.761Z"
   },
   {
    "duration": 6,
    "start_time": "2022-07-12T04:01:32.816Z"
   },
   {
    "duration": 13,
    "start_time": "2022-07-12T04:01:32.823Z"
   },
   {
    "duration": 21,
    "start_time": "2022-07-12T04:01:32.838Z"
   },
   {
    "duration": 48,
    "start_time": "2022-07-12T04:01:32.861Z"
   },
   {
    "duration": 94,
    "start_time": "2022-07-12T04:01:32.911Z"
   },
   {
    "duration": 0,
    "start_time": "2022-07-12T04:01:33.010Z"
   },
   {
    "duration": 0,
    "start_time": "2022-07-12T04:01:33.011Z"
   },
   {
    "duration": 0,
    "start_time": "2022-07-12T04:01:33.013Z"
   },
   {
    "duration": 0,
    "start_time": "2022-07-12T04:01:33.014Z"
   },
   {
    "duration": 0,
    "start_time": "2022-07-12T04:01:33.016Z"
   },
   {
    "duration": 0,
    "start_time": "2022-07-12T04:01:33.017Z"
   },
   {
    "duration": 0,
    "start_time": "2022-07-12T04:01:33.019Z"
   },
   {
    "duration": 0,
    "start_time": "2022-07-12T04:01:33.020Z"
   },
   {
    "duration": 0,
    "start_time": "2022-07-12T04:01:33.022Z"
   },
   {
    "duration": 0,
    "start_time": "2022-07-12T04:01:33.024Z"
   },
   {
    "duration": 0,
    "start_time": "2022-07-12T04:01:33.025Z"
   },
   {
    "duration": 0,
    "start_time": "2022-07-12T04:01:33.026Z"
   },
   {
    "duration": 0,
    "start_time": "2022-07-12T04:01:33.028Z"
   },
   {
    "duration": 0,
    "start_time": "2022-07-12T04:01:33.029Z"
   },
   {
    "duration": 0,
    "start_time": "2022-07-12T04:01:33.030Z"
   },
   {
    "duration": 0,
    "start_time": "2022-07-12T04:01:33.032Z"
   },
   {
    "duration": 0,
    "start_time": "2022-07-12T04:01:33.033Z"
   },
   {
    "duration": 0,
    "start_time": "2022-07-12T04:01:33.035Z"
   },
   {
    "duration": 0,
    "start_time": "2022-07-12T04:01:33.036Z"
   },
   {
    "duration": 0,
    "start_time": "2022-07-12T04:01:33.037Z"
   },
   {
    "duration": 0,
    "start_time": "2022-07-12T04:01:33.039Z"
   },
   {
    "duration": 0,
    "start_time": "2022-07-12T04:01:33.042Z"
   },
   {
    "duration": 0,
    "start_time": "2022-07-12T04:01:33.043Z"
   },
   {
    "duration": 0,
    "start_time": "2022-07-12T04:01:33.044Z"
   },
   {
    "duration": 0,
    "start_time": "2022-07-12T04:01:33.045Z"
   },
   {
    "duration": 0,
    "start_time": "2022-07-12T04:01:33.046Z"
   },
   {
    "duration": 0,
    "start_time": "2022-07-12T04:01:33.047Z"
   },
   {
    "duration": 0,
    "start_time": "2022-07-12T04:01:33.104Z"
   },
   {
    "duration": 0,
    "start_time": "2022-07-12T04:01:33.106Z"
   },
   {
    "duration": 0,
    "start_time": "2022-07-12T04:01:33.107Z"
   },
   {
    "duration": 0,
    "start_time": "2022-07-12T04:01:33.107Z"
   },
   {
    "duration": 0,
    "start_time": "2022-07-12T04:01:33.109Z"
   },
   {
    "duration": 0,
    "start_time": "2022-07-12T04:01:33.110Z"
   },
   {
    "duration": 0,
    "start_time": "2022-07-12T04:01:33.111Z"
   },
   {
    "duration": 0,
    "start_time": "2022-07-12T04:01:33.112Z"
   },
   {
    "duration": 0,
    "start_time": "2022-07-12T04:01:33.113Z"
   },
   {
    "duration": 0,
    "start_time": "2022-07-12T04:01:33.113Z"
   },
   {
    "duration": 0,
    "start_time": "2022-07-12T04:01:33.114Z"
   },
   {
    "duration": 0,
    "start_time": "2022-07-12T04:01:33.116Z"
   },
   {
    "duration": 0,
    "start_time": "2022-07-12T04:01:33.117Z"
   },
   {
    "duration": 0,
    "start_time": "2022-07-12T04:01:33.118Z"
   },
   {
    "duration": 0,
    "start_time": "2022-07-12T04:01:33.119Z"
   },
   {
    "duration": 0,
    "start_time": "2022-07-12T04:01:33.120Z"
   },
   {
    "duration": 0,
    "start_time": "2022-07-12T04:01:33.121Z"
   },
   {
    "duration": 0,
    "start_time": "2022-07-12T04:01:33.122Z"
   },
   {
    "duration": 0,
    "start_time": "2022-07-12T04:01:33.123Z"
   },
   {
    "duration": 0,
    "start_time": "2022-07-12T04:01:33.123Z"
   },
   {
    "duration": 0,
    "start_time": "2022-07-12T04:01:33.124Z"
   },
   {
    "duration": 0,
    "start_time": "2022-07-12T04:01:33.126Z"
   },
   {
    "duration": 0,
    "start_time": "2022-07-12T04:01:33.127Z"
   },
   {
    "duration": 0,
    "start_time": "2022-07-12T04:01:33.128Z"
   },
   {
    "duration": 0,
    "start_time": "2022-07-12T04:01:33.129Z"
   },
   {
    "duration": 0,
    "start_time": "2022-07-12T04:01:33.130Z"
   },
   {
    "duration": 0,
    "start_time": "2022-07-12T04:01:33.131Z"
   },
   {
    "duration": 0,
    "start_time": "2022-07-12T04:01:33.132Z"
   },
   {
    "duration": 0,
    "start_time": "2022-07-12T04:01:33.133Z"
   },
   {
    "duration": 0,
    "start_time": "2022-07-12T04:01:33.134Z"
   },
   {
    "duration": 0,
    "start_time": "2022-07-12T04:01:33.135Z"
   },
   {
    "duration": 0,
    "start_time": "2022-07-12T04:01:33.136Z"
   },
   {
    "duration": 0,
    "start_time": "2022-07-12T04:01:33.137Z"
   },
   {
    "duration": 0,
    "start_time": "2022-07-12T04:01:33.138Z"
   },
   {
    "duration": 0,
    "start_time": "2022-07-12T04:01:33.139Z"
   },
   {
    "duration": 1,
    "start_time": "2022-07-12T04:01:33.140Z"
   },
   {
    "duration": 0,
    "start_time": "2022-07-12T04:01:33.141Z"
   },
   {
    "duration": 0,
    "start_time": "2022-07-12T04:01:33.142Z"
   },
   {
    "duration": 0,
    "start_time": "2022-07-12T04:01:33.203Z"
   },
   {
    "duration": 0,
    "start_time": "2022-07-12T04:01:33.205Z"
   },
   {
    "duration": 0,
    "start_time": "2022-07-12T04:01:33.206Z"
   },
   {
    "duration": 29,
    "start_time": "2022-07-12T04:09:01.054Z"
   },
   {
    "duration": 15,
    "start_time": "2022-07-12T04:09:20.891Z"
   },
   {
    "duration": 9,
    "start_time": "2022-07-12T04:19:57.706Z"
   },
   {
    "duration": 15,
    "start_time": "2022-07-12T04:20:05.350Z"
   },
   {
    "duration": 11,
    "start_time": "2022-07-12T04:20:17.439Z"
   },
   {
    "duration": 10,
    "start_time": "2022-07-12T04:20:22.415Z"
   },
   {
    "duration": 11,
    "start_time": "2022-07-12T04:20:29.667Z"
   },
   {
    "duration": 13,
    "start_time": "2022-07-12T04:20:42.937Z"
   },
   {
    "duration": 14,
    "start_time": "2022-07-12T04:21:03.314Z"
   },
   {
    "duration": 12,
    "start_time": "2022-07-12T04:21:12.089Z"
   },
   {
    "duration": 15,
    "start_time": "2022-07-12T04:21:16.078Z"
   },
   {
    "duration": 13,
    "start_time": "2022-07-12T04:21:18.681Z"
   },
   {
    "duration": 12,
    "start_time": "2022-07-12T04:21:26.339Z"
   },
   {
    "duration": 11,
    "start_time": "2022-07-12T04:22:04.150Z"
   },
   {
    "duration": 10,
    "start_time": "2022-07-12T04:22:22.652Z"
   },
   {
    "duration": 10,
    "start_time": "2022-07-12T04:22:26.738Z"
   },
   {
    "duration": 16,
    "start_time": "2022-07-12T04:22:37.568Z"
   },
   {
    "duration": 17,
    "start_time": "2022-07-12T04:22:52.530Z"
   },
   {
    "duration": 15,
    "start_time": "2022-07-12T04:22:55.918Z"
   },
   {
    "duration": 11,
    "start_time": "2022-07-12T04:22:59.342Z"
   },
   {
    "duration": 16,
    "start_time": "2022-07-12T04:30:30.219Z"
   },
   {
    "duration": 9,
    "start_time": "2022-07-12T04:30:34.701Z"
   },
   {
    "duration": 25,
    "start_time": "2022-07-12T04:30:41.596Z"
   },
   {
    "duration": 12,
    "start_time": "2022-07-12T04:36:31.615Z"
   },
   {
    "duration": 9,
    "start_time": "2022-07-12T04:36:42.670Z"
   },
   {
    "duration": 21,
    "start_time": "2022-07-12T04:36:46.492Z"
   },
   {
    "duration": 11,
    "start_time": "2022-07-12T04:37:05.205Z"
   },
   {
    "duration": 12,
    "start_time": "2022-07-12T04:37:17.651Z"
   },
   {
    "duration": 13,
    "start_time": "2022-07-12T04:37:20.214Z"
   },
   {
    "duration": 12,
    "start_time": "2022-07-12T04:37:27.912Z"
   },
   {
    "duration": 12,
    "start_time": "2022-07-12T04:37:39.019Z"
   },
   {
    "duration": 12,
    "start_time": "2022-07-12T04:37:41.199Z"
   },
   {
    "duration": 9,
    "start_time": "2022-07-12T04:37:57.833Z"
   },
   {
    "duration": 7,
    "start_time": "2022-07-12T04:38:07.202Z"
   },
   {
    "duration": 20,
    "start_time": "2022-07-12T04:38:10.556Z"
   },
   {
    "duration": 6,
    "start_time": "2022-07-12T04:38:14.972Z"
   },
   {
    "duration": 10,
    "start_time": "2022-07-12T04:38:18.243Z"
   },
   {
    "duration": 8,
    "start_time": "2022-07-12T04:38:21.099Z"
   },
   {
    "duration": 5,
    "start_time": "2022-07-12T04:38:24.475Z"
   },
   {
    "duration": 3,
    "start_time": "2022-07-12T04:38:29.389Z"
   },
   {
    "duration": 7,
    "start_time": "2022-07-12T04:38:32.774Z"
   },
   {
    "duration": 5,
    "start_time": "2022-07-12T04:51:23.271Z"
   },
   {
    "duration": 11,
    "start_time": "2022-07-12T04:51:25.920Z"
   },
   {
    "duration": 43,
    "start_time": "2022-07-12T16:36:25.141Z"
   },
   {
    "duration": 574,
    "start_time": "2022-07-12T16:36:36.417Z"
   },
   {
    "duration": 17,
    "start_time": "2022-07-12T16:36:36.993Z"
   },
   {
    "duration": 19,
    "start_time": "2022-07-12T16:36:37.011Z"
   },
   {
    "duration": 29,
    "start_time": "2022-07-12T16:36:37.033Z"
   },
   {
    "duration": 5,
    "start_time": "2022-07-12T16:36:37.064Z"
   },
   {
    "duration": 21,
    "start_time": "2022-07-12T16:36:37.071Z"
   },
   {
    "duration": 31,
    "start_time": "2022-07-12T16:36:37.093Z"
   },
   {
    "duration": 20,
    "start_time": "2022-07-12T16:36:37.126Z"
   },
   {
    "duration": 149,
    "start_time": "2022-07-12T16:36:37.148Z"
   },
   {
    "duration": 3,
    "start_time": "2022-07-12T16:36:37.300Z"
   },
   {
    "duration": 10,
    "start_time": "2022-07-12T16:36:37.305Z"
   },
   {
    "duration": 21,
    "start_time": "2022-07-12T16:36:37.317Z"
   },
   {
    "duration": 9,
    "start_time": "2022-07-12T16:36:37.340Z"
   },
   {
    "duration": 15,
    "start_time": "2022-07-12T16:36:37.351Z"
   },
   {
    "duration": 11,
    "start_time": "2022-07-12T16:36:37.368Z"
   },
   {
    "duration": 15,
    "start_time": "2022-07-12T16:36:37.381Z"
   },
   {
    "duration": 40,
    "start_time": "2022-07-12T16:36:37.398Z"
   },
   {
    "duration": 13,
    "start_time": "2022-07-12T16:36:37.440Z"
   },
   {
    "duration": 24,
    "start_time": "2022-07-12T16:36:37.455Z"
   },
   {
    "duration": 3,
    "start_time": "2022-07-12T16:36:37.481Z"
   },
   {
    "duration": 41,
    "start_time": "2022-07-12T16:36:37.486Z"
   },
   {
    "duration": 20,
    "start_time": "2022-07-12T16:36:37.529Z"
   },
   {
    "duration": 9,
    "start_time": "2022-07-12T16:36:37.551Z"
   },
   {
    "duration": 17,
    "start_time": "2022-07-12T16:36:37.561Z"
   },
   {
    "duration": 2,
    "start_time": "2022-07-12T16:36:37.580Z"
   },
   {
    "duration": 16,
    "start_time": "2022-07-12T16:36:37.584Z"
   },
   {
    "duration": 18,
    "start_time": "2022-07-12T16:36:37.624Z"
   },
   {
    "duration": 10,
    "start_time": "2022-07-12T16:36:37.646Z"
   },
   {
    "duration": 7,
    "start_time": "2022-07-12T16:36:37.658Z"
   },
   {
    "duration": 21,
    "start_time": "2022-07-12T16:36:37.666Z"
   },
   {
    "duration": 6,
    "start_time": "2022-07-12T16:36:37.689Z"
   },
   {
    "duration": 8,
    "start_time": "2022-07-12T16:36:37.725Z"
   },
   {
    "duration": 21,
    "start_time": "2022-07-12T16:36:37.735Z"
   },
   {
    "duration": 5,
    "start_time": "2022-07-12T16:36:37.757Z"
   },
   {
    "duration": 11,
    "start_time": "2022-07-12T16:36:37.763Z"
   },
   {
    "duration": 8,
    "start_time": "2022-07-12T16:36:37.776Z"
   },
   {
    "duration": 4,
    "start_time": "2022-07-12T16:36:37.786Z"
   },
   {
    "duration": 34,
    "start_time": "2022-07-12T16:36:37.791Z"
   },
   {
    "duration": 6,
    "start_time": "2022-07-12T16:36:37.826Z"
   },
   {
    "duration": 11,
    "start_time": "2022-07-12T16:36:37.834Z"
   },
   {
    "duration": 5,
    "start_time": "2022-07-12T16:36:37.847Z"
   },
   {
    "duration": 14,
    "start_time": "2022-07-12T16:36:37.854Z"
   },
   {
    "duration": 2,
    "start_time": "2022-07-12T16:36:37.869Z"
   },
   {
    "duration": 6,
    "start_time": "2022-07-12T16:36:37.872Z"
   },
   {
    "duration": 9,
    "start_time": "2022-07-12T16:36:37.879Z"
   },
   {
    "duration": 7,
    "start_time": "2022-07-12T16:36:37.889Z"
   },
   {
    "duration": 11,
    "start_time": "2022-07-12T16:36:37.924Z"
   },
   {
    "duration": 2,
    "start_time": "2022-07-12T16:36:37.937Z"
   },
   {
    "duration": 50,
    "start_time": "2022-07-12T16:36:37.941Z"
   },
   {
    "duration": 37,
    "start_time": "2022-07-12T16:36:37.992Z"
   },
   {
    "duration": 2,
    "start_time": "2022-07-12T16:36:38.031Z"
   },
   {
    "duration": 18,
    "start_time": "2022-07-12T16:36:38.034Z"
   },
   {
    "duration": 9,
    "start_time": "2022-07-12T16:36:38.054Z"
   },
   {
    "duration": 14,
    "start_time": "2022-07-12T16:36:38.064Z"
   },
   {
    "duration": 10,
    "start_time": "2022-07-12T16:36:38.079Z"
   },
   {
    "duration": 38,
    "start_time": "2022-07-12T16:36:38.091Z"
   },
   {
    "duration": 9,
    "start_time": "2022-07-12T16:36:38.131Z"
   },
   {
    "duration": 3,
    "start_time": "2022-07-12T16:36:38.142Z"
   },
   {
    "duration": 7,
    "start_time": "2022-07-12T16:36:38.147Z"
   },
   {
    "duration": 16,
    "start_time": "2022-07-12T16:36:38.155Z"
   },
   {
    "duration": 64,
    "start_time": "2022-07-12T16:36:38.172Z"
   },
   {
    "duration": 14,
    "start_time": "2022-07-12T16:36:38.238Z"
   },
   {
    "duration": 3,
    "start_time": "2022-07-12T16:36:38.254Z"
   },
   {
    "duration": 6,
    "start_time": "2022-07-12T16:36:38.259Z"
   },
   {
    "duration": 7,
    "start_time": "2022-07-12T16:36:38.267Z"
   },
   {
    "duration": 10,
    "start_time": "2022-07-12T16:36:38.275Z"
   },
   {
    "duration": 6,
    "start_time": "2022-07-12T16:36:38.286Z"
   },
   {
    "duration": 10,
    "start_time": "2022-07-12T16:36:38.294Z"
   },
   {
    "duration": 18,
    "start_time": "2022-07-12T16:36:38.306Z"
   },
   {
    "duration": 8,
    "start_time": "2022-07-12T16:36:38.326Z"
   },
   {
    "duration": 8,
    "start_time": "2022-07-12T16:36:38.336Z"
   },
   {
    "duration": 8,
    "start_time": "2022-07-12T16:36:38.345Z"
   },
   {
    "duration": 5,
    "start_time": "2022-07-12T16:36:38.354Z"
   },
   {
    "duration": 5,
    "start_time": "2022-07-12T16:36:38.361Z"
   },
   {
    "duration": 5,
    "start_time": "2022-07-12T16:36:38.368Z"
   },
   {
    "duration": 5,
    "start_time": "2022-07-12T16:36:38.374Z"
   },
   {
    "duration": 3,
    "start_time": "2022-07-12T16:36:38.381Z"
   },
   {
    "duration": 4,
    "start_time": "2022-07-12T16:36:38.386Z"
   },
   {
    "duration": 5,
    "start_time": "2022-07-12T16:36:38.392Z"
   },
   {
    "duration": 5,
    "start_time": "2022-07-12T16:36:38.399Z"
   },
   {
    "duration": 5,
    "start_time": "2022-07-12T16:36:38.406Z"
   },
   {
    "duration": 2,
    "start_time": "2022-07-12T16:36:38.428Z"
   },
   {
    "duration": 6,
    "start_time": "2022-07-12T16:36:38.432Z"
   },
   {
    "duration": 7,
    "start_time": "2022-07-12T16:36:38.439Z"
   },
   {
    "duration": 5,
    "start_time": "2022-07-12T16:36:38.448Z"
   },
   {
    "duration": 5,
    "start_time": "2022-07-12T16:36:38.455Z"
   },
   {
    "duration": 7,
    "start_time": "2022-07-12T16:36:38.461Z"
   },
   {
    "duration": 5,
    "start_time": "2022-07-12T16:36:38.469Z"
   },
   {
    "duration": 5,
    "start_time": "2022-07-12T16:36:38.476Z"
   },
   {
    "duration": 5,
    "start_time": "2022-07-12T16:36:38.483Z"
   },
   {
    "duration": 5,
    "start_time": "2022-07-12T16:36:38.489Z"
   },
   {
    "duration": 8,
    "start_time": "2022-07-12T16:38:43.900Z"
   },
   {
    "duration": 10,
    "start_time": "2022-07-12T16:43:23.252Z"
   },
   {
    "duration": 6,
    "start_time": "2022-07-12T16:53:42.280Z"
   },
   {
    "duration": 10,
    "start_time": "2022-07-12T16:56:17.506Z"
   },
   {
    "duration": 112,
    "start_time": "2022-07-12T17:02:07.490Z"
   },
   {
    "duration": 93,
    "start_time": "2022-07-12T17:02:20.221Z"
   },
   {
    "duration": 13,
    "start_time": "2022-07-12T17:02:34.547Z"
   },
   {
    "duration": 128,
    "start_time": "2022-07-12T17:02:47.650Z"
   },
   {
    "duration": 5,
    "start_time": "2022-07-12T17:02:50.211Z"
   },
   {
    "duration": 5,
    "start_time": "2022-07-12T17:03:19.560Z"
   },
   {
    "duration": 7,
    "start_time": "2022-07-12T17:04:03.505Z"
   },
   {
    "duration": 13,
    "start_time": "2022-07-12T17:04:34.805Z"
   },
   {
    "duration": 1023,
    "start_time": "2022-07-12T19:47:55.792Z"
   },
   {
    "duration": 35,
    "start_time": "2022-07-12T19:47:56.817Z"
   },
   {
    "duration": 33,
    "start_time": "2022-07-12T19:47:56.854Z"
   },
   {
    "duration": 78,
    "start_time": "2022-07-12T19:47:56.890Z"
   },
   {
    "duration": 11,
    "start_time": "2022-07-12T19:47:56.971Z"
   },
   {
    "duration": 27,
    "start_time": "2022-07-12T19:47:56.985Z"
   },
   {
    "duration": 33,
    "start_time": "2022-07-12T19:47:57.014Z"
   },
   {
    "duration": 40,
    "start_time": "2022-07-12T19:47:57.050Z"
   },
   {
    "duration": 178,
    "start_time": "2022-07-12T19:47:57.093Z"
   },
   {
    "duration": 4,
    "start_time": "2022-07-12T19:47:57.275Z"
   },
   {
    "duration": 44,
    "start_time": "2022-07-12T19:47:57.281Z"
   },
   {
    "duration": 31,
    "start_time": "2022-07-12T19:47:57.328Z"
   },
   {
    "duration": 18,
    "start_time": "2022-07-12T19:47:57.363Z"
   },
   {
    "duration": 25,
    "start_time": "2022-07-12T19:47:57.384Z"
   },
   {
    "duration": 17,
    "start_time": "2022-07-12T19:47:57.411Z"
   },
   {
    "duration": 10,
    "start_time": "2022-07-12T19:47:57.431Z"
   },
   {
    "duration": 23,
    "start_time": "2022-07-12T19:47:57.444Z"
   },
   {
    "duration": 44,
    "start_time": "2022-07-12T19:47:57.470Z"
   },
   {
    "duration": 28,
    "start_time": "2022-07-12T19:47:57.516Z"
   },
   {
    "duration": 3,
    "start_time": "2022-07-12T19:47:57.546Z"
   },
   {
    "duration": 17,
    "start_time": "2022-07-12T19:47:57.551Z"
   },
   {
    "duration": 34,
    "start_time": "2022-07-12T19:47:57.570Z"
   },
   {
    "duration": 27,
    "start_time": "2022-07-12T19:47:57.606Z"
   },
   {
    "duration": 25,
    "start_time": "2022-07-12T19:47:57.635Z"
   },
   {
    "duration": 4,
    "start_time": "2022-07-12T19:47:57.662Z"
   },
   {
    "duration": 39,
    "start_time": "2022-07-12T19:47:57.669Z"
   },
   {
    "duration": 30,
    "start_time": "2022-07-12T19:47:57.710Z"
   },
   {
    "duration": 11,
    "start_time": "2022-07-12T19:47:57.744Z"
   },
   {
    "duration": 7,
    "start_time": "2022-07-12T19:47:57.757Z"
   },
   {
    "duration": 54,
    "start_time": "2022-07-12T19:47:57.766Z"
   },
   {
    "duration": 11,
    "start_time": "2022-07-12T19:47:57.823Z"
   },
   {
    "duration": 9,
    "start_time": "2022-07-12T19:47:57.837Z"
   },
   {
    "duration": 62,
    "start_time": "2022-07-12T19:47:57.847Z"
   },
   {
    "duration": 7,
    "start_time": "2022-07-12T19:47:57.911Z"
   },
   {
    "duration": 19,
    "start_time": "2022-07-12T19:47:57.921Z"
   },
   {
    "duration": 12,
    "start_time": "2022-07-12T19:47:57.942Z"
   },
   {
    "duration": 6,
    "start_time": "2022-07-12T19:47:57.956Z"
   },
   {
    "duration": 3,
    "start_time": "2022-07-12T19:47:57.999Z"
   },
   {
    "duration": 23,
    "start_time": "2022-07-12T19:47:58.004Z"
   },
   {
    "duration": 11,
    "start_time": "2022-07-12T19:47:58.030Z"
   },
   {
    "duration": 9,
    "start_time": "2022-07-12T19:47:58.043Z"
   },
   {
    "duration": 16,
    "start_time": "2022-07-12T19:47:58.054Z"
   },
   {
    "duration": 25,
    "start_time": "2022-07-12T19:47:58.073Z"
   },
   {
    "duration": 25,
    "start_time": "2022-07-12T19:47:58.101Z"
   },
   {
    "duration": 9,
    "start_time": "2022-07-12T19:47:58.127Z"
   },
   {
    "duration": 14,
    "start_time": "2022-07-12T19:47:58.138Z"
   },
   {
    "duration": 17,
    "start_time": "2022-07-12T19:47:58.154Z"
   },
   {
    "duration": 3,
    "start_time": "2022-07-12T19:47:58.174Z"
   },
   {
    "duration": 78,
    "start_time": "2022-07-12T19:47:58.178Z"
   },
   {
    "duration": 24,
    "start_time": "2022-07-12T19:47:58.258Z"
   },
   {
    "duration": 16,
    "start_time": "2022-07-12T19:47:58.284Z"
   },
   {
    "duration": 39,
    "start_time": "2022-07-12T19:47:58.302Z"
   },
   {
    "duration": 11,
    "start_time": "2022-07-12T19:47:58.343Z"
   },
   {
    "duration": 20,
    "start_time": "2022-07-12T19:47:58.356Z"
   },
   {
    "duration": 30,
    "start_time": "2022-07-12T19:47:58.378Z"
   },
   {
    "duration": 16,
    "start_time": "2022-07-12T19:47:58.409Z"
   },
   {
    "duration": 15,
    "start_time": "2022-07-12T19:47:58.427Z"
   },
   {
    "duration": 14,
    "start_time": "2022-07-12T19:47:58.444Z"
   },
   {
    "duration": 6,
    "start_time": "2022-07-12T19:47:58.460Z"
   },
   {
    "duration": 8,
    "start_time": "2022-07-12T19:47:58.499Z"
   },
   {
    "duration": 33,
    "start_time": "2022-07-12T19:47:58.508Z"
   },
   {
    "duration": 70,
    "start_time": "2022-07-12T19:47:58.544Z"
   },
   {
    "duration": 22,
    "start_time": "2022-07-12T19:47:58.616Z"
   },
   {
    "duration": 4,
    "start_time": "2022-07-12T19:47:58.639Z"
   },
   {
    "duration": 5,
    "start_time": "2022-07-12T19:47:58.645Z"
   },
   {
    "duration": 6,
    "start_time": "2022-07-12T19:47:58.651Z"
   },
   {
    "duration": 62,
    "start_time": "2022-07-12T19:47:58.659Z"
   },
   {
    "duration": 9,
    "start_time": "2022-07-12T19:47:58.723Z"
   },
   {
    "duration": 6,
    "start_time": "2022-07-12T19:47:58.733Z"
   },
   {
    "duration": 6,
    "start_time": "2022-07-12T19:47:58.741Z"
   },
   {
    "duration": 5,
    "start_time": "2022-07-12T19:47:58.749Z"
   },
   {
    "duration": 9,
    "start_time": "2022-07-12T19:47:58.755Z"
   },
   {
    "duration": 6,
    "start_time": "2022-07-12T19:47:58.766Z"
   },
   {
    "duration": 25,
    "start_time": "2022-07-12T19:47:58.774Z"
   },
   {
    "duration": 24,
    "start_time": "2022-07-12T19:47:58.801Z"
   },
   {
    "duration": 7,
    "start_time": "2022-07-12T19:47:58.827Z"
   },
   {
    "duration": 9,
    "start_time": "2022-07-12T19:47:58.836Z"
   },
   {
    "duration": 10,
    "start_time": "2022-07-12T19:47:58.847Z"
   },
   {
    "duration": 5,
    "start_time": "2022-07-12T19:47:58.860Z"
   },
   {
    "duration": 12,
    "start_time": "2022-07-12T19:47:58.867Z"
   },
   {
    "duration": 9,
    "start_time": "2022-07-12T19:47:58.881Z"
   },
   {
    "duration": 22,
    "start_time": "2022-07-12T19:47:58.898Z"
   },
   {
    "duration": 13,
    "start_time": "2022-07-12T19:47:58.923Z"
   },
   {
    "duration": 9,
    "start_time": "2022-07-12T19:47:58.939Z"
   },
   {
    "duration": 13,
    "start_time": "2022-07-12T19:47:58.950Z"
   },
   {
    "duration": 9,
    "start_time": "2022-07-12T19:47:58.965Z"
   },
   {
    "duration": 12,
    "start_time": "2022-07-12T19:47:58.977Z"
   },
   {
    "duration": 26,
    "start_time": "2022-07-12T19:47:58.991Z"
   },
   {
    "duration": 6,
    "start_time": "2022-07-12T19:47:59.019Z"
   },
   {
    "duration": 5,
    "start_time": "2022-07-12T19:47:59.027Z"
   },
   {
    "duration": 8,
    "start_time": "2022-07-12T19:47:59.034Z"
   },
   {
    "duration": 5,
    "start_time": "2022-07-12T19:47:59.044Z"
   },
   {
    "duration": 14,
    "start_time": "2022-07-12T19:52:57.534Z"
   },
   {
    "duration": 14,
    "start_time": "2022-07-12T19:53:13.069Z"
   },
   {
    "duration": 9,
    "start_time": "2022-07-12T21:47:13.363Z"
   },
   {
    "duration": 11,
    "start_time": "2022-07-12T21:48:01.115Z"
   },
   {
    "duration": 591,
    "start_time": "2022-07-13T18:31:11.669Z"
   },
   {
    "duration": 19,
    "start_time": "2022-07-13T18:31:12.262Z"
   },
   {
    "duration": 24,
    "start_time": "2022-07-13T18:31:12.283Z"
   },
   {
    "duration": 35,
    "start_time": "2022-07-13T18:31:12.310Z"
   },
   {
    "duration": 8,
    "start_time": "2022-07-13T18:31:12.347Z"
   },
   {
    "duration": 16,
    "start_time": "2022-07-13T18:31:12.357Z"
   },
   {
    "duration": 31,
    "start_time": "2022-07-13T18:31:12.375Z"
   },
   {
    "duration": 27,
    "start_time": "2022-07-13T18:31:12.408Z"
   },
   {
    "duration": 123,
    "start_time": "2022-07-13T18:31:12.436Z"
   },
   {
    "duration": 3,
    "start_time": "2022-07-13T18:31:12.561Z"
   },
   {
    "duration": 9,
    "start_time": "2022-07-13T18:31:12.566Z"
   },
   {
    "duration": 25,
    "start_time": "2022-07-13T18:31:12.577Z"
   },
   {
    "duration": 11,
    "start_time": "2022-07-13T18:31:12.604Z"
   },
   {
    "duration": 16,
    "start_time": "2022-07-13T18:31:12.616Z"
   },
   {
    "duration": 11,
    "start_time": "2022-07-13T18:31:12.633Z"
   },
   {
    "duration": 12,
    "start_time": "2022-07-13T18:31:12.646Z"
   },
   {
    "duration": 19,
    "start_time": "2022-07-13T18:31:12.659Z"
   },
   {
    "duration": 8,
    "start_time": "2022-07-13T18:31:12.679Z"
   },
   {
    "duration": 22,
    "start_time": "2022-07-13T18:31:12.688Z"
   },
   {
    "duration": 2,
    "start_time": "2022-07-13T18:31:12.712Z"
   },
   {
    "duration": 8,
    "start_time": "2022-07-13T18:31:12.715Z"
   },
   {
    "duration": 16,
    "start_time": "2022-07-13T18:31:12.725Z"
   },
   {
    "duration": 8,
    "start_time": "2022-07-13T18:31:12.743Z"
   },
   {
    "duration": 15,
    "start_time": "2022-07-13T18:31:12.753Z"
   },
   {
    "duration": 2,
    "start_time": "2022-07-13T18:31:12.770Z"
   },
   {
    "duration": 42,
    "start_time": "2022-07-13T18:31:12.773Z"
   },
   {
    "duration": 16,
    "start_time": "2022-07-13T18:31:12.817Z"
   },
   {
    "duration": 9,
    "start_time": "2022-07-13T18:31:12.837Z"
   },
   {
    "duration": 11,
    "start_time": "2022-07-13T18:31:12.847Z"
   },
   {
    "duration": 17,
    "start_time": "2022-07-13T18:31:12.859Z"
   },
   {
    "duration": 23,
    "start_time": "2022-07-13T18:31:12.877Z"
   },
   {
    "duration": 10,
    "start_time": "2022-07-13T18:31:12.902Z"
   },
   {
    "duration": 19,
    "start_time": "2022-07-13T18:31:12.913Z"
   },
   {
    "duration": 5,
    "start_time": "2022-07-13T18:31:12.933Z"
   },
   {
    "duration": 11,
    "start_time": "2022-07-13T18:31:12.939Z"
   },
   {
    "duration": 7,
    "start_time": "2022-07-13T18:31:12.952Z"
   },
   {
    "duration": 8,
    "start_time": "2022-07-13T18:31:12.960Z"
   },
   {
    "duration": 4,
    "start_time": "2022-07-13T18:31:12.970Z"
   },
   {
    "duration": 5,
    "start_time": "2022-07-13T18:31:12.976Z"
   },
   {
    "duration": 14,
    "start_time": "2022-07-13T18:31:13.001Z"
   },
   {
    "duration": 5,
    "start_time": "2022-07-13T18:31:13.016Z"
   },
   {
    "duration": 13,
    "start_time": "2022-07-13T18:31:13.022Z"
   },
   {
    "duration": 5,
    "start_time": "2022-07-13T18:31:13.036Z"
   },
   {
    "duration": 7,
    "start_time": "2022-07-13T18:31:13.042Z"
   },
   {
    "duration": 10,
    "start_time": "2022-07-13T18:31:13.050Z"
   },
   {
    "duration": 9,
    "start_time": "2022-07-13T18:31:13.061Z"
   },
   {
    "duration": 30,
    "start_time": "2022-07-13T18:31:13.071Z"
   },
   {
    "duration": 2,
    "start_time": "2022-07-13T18:31:13.103Z"
   },
   {
    "duration": 47,
    "start_time": "2022-07-13T18:31:13.107Z"
   },
   {
    "duration": 19,
    "start_time": "2022-07-13T18:31:13.156Z"
   },
   {
    "duration": 2,
    "start_time": "2022-07-13T18:31:13.177Z"
   },
   {
    "duration": 33,
    "start_time": "2022-07-13T18:31:13.180Z"
   },
   {
    "duration": 18,
    "start_time": "2022-07-13T18:31:13.215Z"
   },
   {
    "duration": 24,
    "start_time": "2022-07-13T18:31:13.235Z"
   },
   {
    "duration": 14,
    "start_time": "2022-07-13T18:31:13.261Z"
   },
   {
    "duration": 6,
    "start_time": "2022-07-13T18:31:13.276Z"
   },
   {
    "duration": 8,
    "start_time": "2022-07-13T18:31:13.300Z"
   },
   {
    "duration": 19,
    "start_time": "2022-07-13T18:31:13.310Z"
   },
   {
    "duration": 11,
    "start_time": "2022-07-13T18:31:13.331Z"
   },
   {
    "duration": 19,
    "start_time": "2022-07-13T18:31:13.344Z"
   },
   {
    "duration": 16,
    "start_time": "2022-07-13T18:31:13.365Z"
   },
   {
    "duration": 56,
    "start_time": "2022-07-13T18:31:13.383Z"
   },
   {
    "duration": 14,
    "start_time": "2022-07-13T18:31:13.440Z"
   },
   {
    "duration": 10,
    "start_time": "2022-07-13T18:31:13.456Z"
   },
   {
    "duration": 31,
    "start_time": "2022-07-13T18:31:13.468Z"
   },
   {
    "duration": 16,
    "start_time": "2022-07-13T18:31:13.501Z"
   },
   {
    "duration": 6,
    "start_time": "2022-07-13T18:31:13.518Z"
   },
   {
    "duration": 7,
    "start_time": "2022-07-13T18:31:13.525Z"
   },
   {
    "duration": 9,
    "start_time": "2022-07-13T18:31:13.534Z"
   },
   {
    "duration": 5,
    "start_time": "2022-07-13T18:31:13.545Z"
   },
   {
    "duration": 4,
    "start_time": "2022-07-13T18:31:13.552Z"
   },
   {
    "duration": 6,
    "start_time": "2022-07-13T18:31:13.558Z"
   },
   {
    "duration": 5,
    "start_time": "2022-07-13T18:31:13.566Z"
   },
   {
    "duration": 9,
    "start_time": "2022-07-13T18:31:13.573Z"
   },
   {
    "duration": 9,
    "start_time": "2022-07-13T18:31:13.584Z"
   },
   {
    "duration": 7,
    "start_time": "2022-07-13T18:31:13.594Z"
   },
   {
    "duration": 9,
    "start_time": "2022-07-13T18:31:13.602Z"
   },
   {
    "duration": 8,
    "start_time": "2022-07-13T18:31:13.612Z"
   },
   {
    "duration": 6,
    "start_time": "2022-07-13T18:31:13.621Z"
   },
   {
    "duration": 7,
    "start_time": "2022-07-13T18:31:13.628Z"
   },
   {
    "duration": 5,
    "start_time": "2022-07-13T18:31:13.636Z"
   },
   {
    "duration": 2,
    "start_time": "2022-07-13T18:31:13.647Z"
   },
   {
    "duration": 6,
    "start_time": "2022-07-13T18:31:13.650Z"
   },
   {
    "duration": 5,
    "start_time": "2022-07-13T18:31:13.657Z"
   },
   {
    "duration": 7,
    "start_time": "2022-07-13T18:31:13.664Z"
   },
   {
    "duration": 11,
    "start_time": "2022-07-13T18:31:13.673Z"
   },
   {
    "duration": 5,
    "start_time": "2022-07-13T18:31:13.686Z"
   },
   {
    "duration": 5,
    "start_time": "2022-07-13T18:31:13.693Z"
   },
   {
    "duration": 5,
    "start_time": "2022-07-13T18:31:13.699Z"
   },
   {
    "duration": 7,
    "start_time": "2022-07-13T18:31:13.706Z"
   },
   {
    "duration": 5,
    "start_time": "2022-07-13T18:31:13.715Z"
   },
   {
    "duration": 8,
    "start_time": "2022-07-13T18:31:13.721Z"
   },
   {
    "duration": 12,
    "start_time": "2022-07-13T18:33:11.559Z"
   },
   {
    "duration": 50,
    "start_time": "2022-07-13T18:35:05.450Z"
   },
   {
    "duration": 4,
    "start_time": "2022-07-13T18:35:08.988Z"
   },
   {
    "duration": 4,
    "start_time": "2022-07-13T18:35:10.739Z"
   },
   {
    "duration": 79,
    "start_time": "2022-07-13T18:35:12.010Z"
   },
   {
    "duration": 4,
    "start_time": "2022-07-13T18:35:30.794Z"
   },
   {
    "duration": 4,
    "start_time": "2022-07-13T18:35:31.411Z"
   },
   {
    "duration": 30,
    "start_time": "2022-07-13T18:35:32.598Z"
   },
   {
    "duration": 4,
    "start_time": "2022-07-13T18:41:46.015Z"
   },
   {
    "duration": 4,
    "start_time": "2022-07-13T18:42:14.646Z"
   },
   {
    "duration": 4,
    "start_time": "2022-07-13T18:42:16.351Z"
   },
   {
    "duration": 31,
    "start_time": "2022-07-13T18:42:24.526Z"
   },
   {
    "duration": 16,
    "start_time": "2022-07-13T18:43:34.391Z"
   },
   {
    "duration": 4,
    "start_time": "2022-07-13T18:55:35.307Z"
   },
   {
    "duration": 14,
    "start_time": "2022-07-13T18:56:18.727Z"
   },
   {
    "duration": 8,
    "start_time": "2022-07-13T19:08:17.957Z"
   },
   {
    "duration": 60,
    "start_time": "2022-07-13T19:08:39.698Z"
   },
   {
    "duration": 14,
    "start_time": "2022-07-13T19:08:53.004Z"
   },
   {
    "duration": 11,
    "start_time": "2022-07-13T19:14:07.850Z"
   },
   {
    "duration": 12,
    "start_time": "2022-07-13T19:14:36.254Z"
   },
   {
    "duration": 9,
    "start_time": "2022-07-13T19:15:07.783Z"
   },
   {
    "duration": 14,
    "start_time": "2022-07-13T19:18:27.238Z"
   },
   {
    "duration": 10,
    "start_time": "2022-07-13T19:19:08.372Z"
   },
   {
    "duration": 4,
    "start_time": "2022-07-13T19:19:12.241Z"
   },
   {
    "duration": 6,
    "start_time": "2022-07-13T19:19:16.587Z"
   },
   {
    "duration": 107,
    "start_time": "2022-07-13T19:19:45.476Z"
   },
   {
    "duration": 5,
    "start_time": "2022-07-13T19:20:10.148Z"
   },
   {
    "duration": 5,
    "start_time": "2022-07-13T19:20:53.051Z"
   },
   {
    "duration": 9,
    "start_time": "2022-07-13T19:21:36.526Z"
   },
   {
    "duration": 5,
    "start_time": "2022-07-13T19:21:42.020Z"
   },
   {
    "duration": 4,
    "start_time": "2022-07-13T19:21:44.364Z"
   },
   {
    "duration": 5,
    "start_time": "2022-07-13T19:21:53.765Z"
   },
   {
    "duration": 4,
    "start_time": "2022-07-13T19:21:56.364Z"
   },
   {
    "duration": 4,
    "start_time": "2022-07-13T19:22:01.732Z"
   },
   {
    "duration": 6,
    "start_time": "2022-07-13T19:22:03.915Z"
   },
   {
    "duration": 5,
    "start_time": "2022-07-13T19:22:06.591Z"
   },
   {
    "duration": 16,
    "start_time": "2022-07-13T19:22:14.131Z"
   },
   {
    "duration": 16,
    "start_time": "2022-07-13T19:22:56.776Z"
   },
   {
    "duration": 4,
    "start_time": "2022-07-13T19:23:07.522Z"
   },
   {
    "duration": 15,
    "start_time": "2022-07-13T19:23:09.989Z"
   },
   {
    "duration": 9,
    "start_time": "2022-07-13T19:30:10.652Z"
   },
   {
    "duration": 5,
    "start_time": "2022-07-13T21:21:09.618Z"
   },
   {
    "duration": 4,
    "start_time": "2022-07-13T21:51:09.465Z"
   },
   {
    "duration": 5,
    "start_time": "2022-07-13T22:04:10.451Z"
   },
   {
    "duration": 3,
    "start_time": "2022-07-13T22:10:22.845Z"
   },
   {
    "duration": 48,
    "start_time": "2022-07-13T22:15:03.615Z"
   },
   {
    "duration": 7,
    "start_time": "2022-07-13T22:15:31.318Z"
   },
   {
    "duration": 12,
    "start_time": "2022-07-13T22:17:35.720Z"
   },
   {
    "duration": 14,
    "start_time": "2022-07-13T22:17:57.772Z"
   },
   {
    "duration": 13,
    "start_time": "2022-07-13T22:18:04.511Z"
   },
   {
    "duration": 14,
    "start_time": "2022-07-13T22:18:10.437Z"
   },
   {
    "duration": 12,
    "start_time": "2022-07-13T22:18:17.000Z"
   },
   {
    "duration": 49,
    "start_time": "2022-07-13T22:18:45.332Z"
   },
   {
    "duration": 13,
    "start_time": "2022-07-13T22:18:57.018Z"
   },
   {
    "duration": 50,
    "start_time": "2022-07-13T22:19:05.263Z"
   },
   {
    "duration": 45,
    "start_time": "2022-07-13T22:20:16.296Z"
   },
   {
    "duration": 11,
    "start_time": "2022-07-13T22:20:19.171Z"
   },
   {
    "duration": 14,
    "start_time": "2022-07-13T22:20:33.918Z"
   },
   {
    "duration": 11,
    "start_time": "2022-07-13T22:21:06.553Z"
   },
   {
    "duration": 71,
    "start_time": "2022-07-13T22:21:09.748Z"
   },
   {
    "duration": 23,
    "start_time": "2022-07-13T22:21:37.336Z"
   },
   {
    "duration": 65,
    "start_time": "2022-07-13T22:22:01.408Z"
   },
   {
    "duration": 14,
    "start_time": "2022-07-13T22:22:04.905Z"
   },
   {
    "duration": 2,
    "start_time": "2022-07-13T22:22:09.108Z"
   },
   {
    "duration": 12,
    "start_time": "2022-07-13T22:22:10.152Z"
   },
   {
    "duration": 13,
    "start_time": "2022-07-13T22:22:20.707Z"
   },
   {
    "duration": 79,
    "start_time": "2022-07-13T22:22:45.020Z"
   },
   {
    "duration": 4,
    "start_time": "2022-07-13T22:22:49.454Z"
   },
   {
    "duration": 8,
    "start_time": "2022-07-13T22:22:55.624Z"
   },
   {
    "duration": 8,
    "start_time": "2022-07-13T22:23:13.004Z"
   },
   {
    "duration": 8,
    "start_time": "2022-07-13T22:24:03.243Z"
   },
   {
    "duration": 9,
    "start_time": "2022-07-13T22:35:48.177Z"
   },
   {
    "duration": 4,
    "start_time": "2022-07-13T22:45:50.933Z"
   },
   {
    "duration": 8,
    "start_time": "2022-07-13T22:45:54.523Z"
   },
   {
    "duration": 14,
    "start_time": "2022-07-13T22:46:08.457Z"
   },
   {
    "duration": 52,
    "start_time": "2022-07-13T22:48:29.644Z"
   },
   {
    "duration": 3,
    "start_time": "2022-07-13T22:48:43.623Z"
   },
   {
    "duration": 14,
    "start_time": "2022-07-13T22:48:46.955Z"
   },
   {
    "duration": 14,
    "start_time": "2022-07-13T22:50:41.136Z"
   },
   {
    "duration": 3,
    "start_time": "2022-07-13T22:50:57.823Z"
   },
   {
    "duration": 3,
    "start_time": "2022-07-13T22:50:59.411Z"
   },
   {
    "duration": 3,
    "start_time": "2022-07-13T22:51:01.723Z"
   },
   {
    "duration": 4,
    "start_time": "2022-07-13T22:51:02.923Z"
   },
   {
    "duration": 14,
    "start_time": "2022-07-13T22:51:04.747Z"
   },
   {
    "duration": 65,
    "start_time": "2022-07-13T22:51:42.019Z"
   },
   {
    "duration": 3,
    "start_time": "2022-07-13T22:51:52.261Z"
   },
   {
    "duration": 4,
    "start_time": "2022-07-13T22:51:55.429Z"
   },
   {
    "duration": 3,
    "start_time": "2022-07-13T22:51:56.819Z"
   },
   {
    "duration": 5,
    "start_time": "2022-07-13T22:51:57.725Z"
   },
   {
    "duration": 14,
    "start_time": "2022-07-13T22:51:59.419Z"
   },
   {
    "duration": 4,
    "start_time": "2022-07-13T22:55:08.758Z"
   },
   {
    "duration": 3,
    "start_time": "2022-07-13T22:55:11.049Z"
   },
   {
    "duration": 13,
    "start_time": "2022-07-13T22:55:26.012Z"
   },
   {
    "duration": 54,
    "start_time": "2022-07-13T22:55:40.136Z"
   },
   {
    "duration": 14,
    "start_time": "2022-07-13T22:55:44.861Z"
   },
   {
    "duration": 13,
    "start_time": "2022-07-13T22:56:32.147Z"
   },
   {
    "duration": 13,
    "start_time": "2022-07-13T22:56:51.745Z"
   },
   {
    "duration": 13,
    "start_time": "2022-07-13T22:57:05.075Z"
   },
   {
    "duration": 64,
    "start_time": "2022-07-13T22:58:15.132Z"
   },
   {
    "duration": 42,
    "start_time": "2022-07-13T22:58:46.611Z"
   },
   {
    "duration": 57,
    "start_time": "2022-07-13T22:59:00.381Z"
   },
   {
    "duration": 4,
    "start_time": "2022-07-13T23:01:29.156Z"
   },
   {
    "duration": 10,
    "start_time": "2022-07-13T23:01:31.013Z"
   },
   {
    "duration": 1004,
    "start_time": "2022-07-13T23:01:43.245Z"
   },
   {
    "duration": 15,
    "start_time": "2022-07-13T23:02:42.442Z"
   },
   {
    "duration": 3,
    "start_time": "2022-07-13T23:03:07.104Z"
   },
   {
    "duration": 4,
    "start_time": "2022-07-13T23:03:08.421Z"
   },
   {
    "duration": 3,
    "start_time": "2022-07-13T23:03:11.446Z"
   },
   {
    "duration": 8,
    "start_time": "2022-07-13T23:03:12.719Z"
   },
   {
    "duration": 14,
    "start_time": "2022-07-13T23:03:24.508Z"
   },
   {
    "duration": 15,
    "start_time": "2022-07-13T23:04:17.823Z"
   },
   {
    "duration": 810,
    "start_time": "2022-07-13T23:06:04.707Z"
   },
   {
    "duration": 9,
    "start_time": "2022-07-13T23:06:20.467Z"
   },
   {
    "duration": 3,
    "start_time": "2022-07-13T23:06:42.757Z"
   },
   {
    "duration": 4,
    "start_time": "2022-07-13T23:06:43.950Z"
   },
   {
    "duration": 237,
    "start_time": "2022-07-13T23:06:45.797Z"
   },
   {
    "duration": 3,
    "start_time": "2022-07-13T23:07:38.632Z"
   },
   {
    "duration": 4,
    "start_time": "2022-07-13T23:07:40.731Z"
   },
   {
    "duration": 316,
    "start_time": "2022-07-13T23:08:04.562Z"
   },
   {
    "duration": 216,
    "start_time": "2022-07-13T23:09:41.104Z"
   },
   {
    "duration": 3,
    "start_time": "2022-07-13T23:11:04.840Z"
   },
   {
    "duration": 8,
    "start_time": "2022-07-13T23:11:06.369Z"
   },
   {
    "duration": 366,
    "start_time": "2022-07-13T23:11:07.596Z"
   },
   {
    "duration": 4,
    "start_time": "2022-07-13T23:11:33.993Z"
   },
   {
    "duration": 5,
    "start_time": "2022-07-13T23:11:35.495Z"
   },
   {
    "duration": 228,
    "start_time": "2022-07-13T23:11:36.741Z"
   },
   {
    "duration": 71,
    "start_time": "2022-07-13T23:12:11.525Z"
   },
   {
    "duration": 3,
    "start_time": "2022-07-13T23:12:38.821Z"
   },
   {
    "duration": 4,
    "start_time": "2022-07-13T23:12:40.801Z"
   },
   {
    "duration": 4,
    "start_time": "2022-07-13T23:12:55.576Z"
   },
   {
    "duration": 4,
    "start_time": "2022-07-13T23:12:57.197Z"
   },
   {
    "duration": 302,
    "start_time": "2022-07-13T23:12:59.929Z"
   },
   {
    "duration": 3,
    "start_time": "2022-07-13T23:13:12.576Z"
   },
   {
    "duration": 5,
    "start_time": "2022-07-13T23:13:13.864Z"
   },
   {
    "duration": 6,
    "start_time": "2022-07-13T23:13:15.363Z"
   },
   {
    "duration": 283,
    "start_time": "2022-07-13T23:13:16.411Z"
   },
   {
    "duration": 3,
    "start_time": "2022-07-13T23:13:26.175Z"
   },
   {
    "duration": 9,
    "start_time": "2022-07-13T23:13:27.431Z"
   },
   {
    "duration": 202,
    "start_time": "2022-07-13T23:13:30.894Z"
   },
   {
    "duration": 2,
    "start_time": "2022-07-13T23:13:53.590Z"
   },
   {
    "duration": 35,
    "start_time": "2022-07-13T23:14:23.702Z"
   },
   {
    "duration": 4,
    "start_time": "2022-07-13T23:16:38.792Z"
   },
   {
    "duration": 5,
    "start_time": "2022-07-13T23:16:39.632Z"
   },
   {
    "duration": 19,
    "start_time": "2022-07-13T23:16:42.306Z"
   },
   {
    "duration": 9,
    "start_time": "2022-07-13T23:17:55.809Z"
   },
   {
    "duration": 4,
    "start_time": "2022-07-13T23:17:56.866Z"
   },
   {
    "duration": 853,
    "start_time": "2022-07-13T23:17:57.969Z"
   },
   {
    "duration": 3,
    "start_time": "2022-07-13T23:18:07.545Z"
   },
   {
    "duration": 13,
    "start_time": "2022-07-13T23:18:09.419Z"
   },
   {
    "duration": 6,
    "start_time": "2022-07-13T23:18:24.617Z"
   },
   {
    "duration": 4,
    "start_time": "2022-07-13T23:18:38.977Z"
   },
   {
    "duration": 4,
    "start_time": "2022-07-13T23:18:40.041Z"
   },
   {
    "duration": 5,
    "start_time": "2022-07-13T23:18:40.993Z"
   },
   {
    "duration": 5,
    "start_time": "2022-07-13T23:19:04.007Z"
   },
   {
    "duration": 4,
    "start_time": "2022-07-13T23:19:36.121Z"
   },
   {
    "duration": 4,
    "start_time": "2022-07-13T23:19:37.068Z"
   },
   {
    "duration": 6,
    "start_time": "2022-07-13T23:19:38.275Z"
   },
   {
    "duration": 48,
    "start_time": "2022-07-13T23:20:08.195Z"
   },
   {
    "duration": 794,
    "start_time": "2022-07-13T23:20:19.220Z"
   },
   {
    "duration": 8,
    "start_time": "2022-07-13T23:20:46.317Z"
   },
   {
    "duration": 10,
    "start_time": "2022-07-13T23:21:04.513Z"
   },
   {
    "duration": 10,
    "start_time": "2022-07-13T23:22:38.229Z"
   },
   {
    "duration": 16,
    "start_time": "2022-07-13T23:22:39.853Z"
   },
   {
    "duration": 9,
    "start_time": "2022-07-13T23:22:44.133Z"
   },
   {
    "duration": 56,
    "start_time": "2022-07-13T23:22:45.442Z"
   },
   {
    "duration": 11,
    "start_time": "2022-07-13T23:23:01.565Z"
   },
   {
    "duration": 4,
    "start_time": "2022-07-13T23:23:02.689Z"
   },
   {
    "duration": 1417,
    "start_time": "2022-07-13T23:23:06.943Z"
   },
   {
    "duration": 2,
    "start_time": "2022-07-13T23:23:18.889Z"
   },
   {
    "duration": 8,
    "start_time": "2022-07-13T23:23:21.437Z"
   },
   {
    "duration": 5,
    "start_time": "2022-07-13T23:24:25.322Z"
   },
   {
    "duration": 5,
    "start_time": "2022-07-13T23:24:26.521Z"
   },
   {
    "duration": 7,
    "start_time": "2022-07-13T23:24:48.137Z"
   },
   {
    "duration": 6,
    "start_time": "2022-07-13T23:24:51.960Z"
   },
   {
    "duration": 818,
    "start_time": "2022-07-13T23:26:15.847Z"
   },
   {
    "duration": 9,
    "start_time": "2022-07-13T23:26:37.795Z"
   },
   {
    "duration": 49,
    "start_time": "2022-07-13T23:26:53.569Z"
   },
   {
    "duration": 63,
    "start_time": "2022-07-13T23:26:57.539Z"
   },
   {
    "duration": 9,
    "start_time": "2022-07-13T23:27:01.311Z"
   },
   {
    "duration": 14,
    "start_time": "2022-07-13T23:27:23.923Z"
   },
   {
    "duration": 10,
    "start_time": "2022-07-14T00:38:25.650Z"
   },
   {
    "duration": 728,
    "start_time": "2022-07-14T00:39:05.497Z"
   },
   {
    "duration": 1629,
    "start_time": "2022-07-14T00:39:13.894Z"
   },
   {
    "duration": 770,
    "start_time": "2022-07-14T00:39:41.967Z"
   },
   {
    "duration": 751,
    "start_time": "2022-07-14T00:40:43.540Z"
   },
   {
    "duration": 7,
    "start_time": "2022-07-14T00:41:47.610Z"
   },
   {
    "duration": 15,
    "start_time": "2022-07-14T01:03:46.440Z"
   },
   {
    "duration": 8,
    "start_time": "2022-07-14T01:06:19.524Z"
   },
   {
    "duration": 11,
    "start_time": "2022-07-14T01:06:34.655Z"
   },
   {
    "duration": 11,
    "start_time": "2022-07-14T01:06:49.157Z"
   },
   {
    "duration": 15,
    "start_time": "2022-07-14T01:07:48.406Z"
   },
   {
    "duration": 6,
    "start_time": "2022-07-14T01:08:18.654Z"
   },
   {
    "duration": 7,
    "start_time": "2022-07-14T01:08:26.037Z"
   },
   {
    "duration": 4,
    "start_time": "2022-07-14T01:08:28.509Z"
   },
   {
    "duration": 4,
    "start_time": "2022-07-14T01:08:39.253Z"
   },
   {
    "duration": 6,
    "start_time": "2022-07-14T01:27:38.244Z"
   },
   {
    "duration": 61,
    "start_time": "2022-07-14T01:28:04.748Z"
   },
   {
    "duration": 5,
    "start_time": "2022-07-14T01:28:11.740Z"
   },
   {
    "duration": 5,
    "start_time": "2022-07-14T01:28:30.267Z"
   },
   {
    "duration": 29,
    "start_time": "2022-07-14T01:57:45.785Z"
   },
   {
    "duration": 9,
    "start_time": "2022-07-14T02:04:04.025Z"
   },
   {
    "duration": 10,
    "start_time": "2022-07-14T02:04:12.785Z"
   },
   {
    "duration": 22,
    "start_time": "2022-07-14T02:04:19.401Z"
   },
   {
    "duration": 21,
    "start_time": "2022-07-14T02:04:50.601Z"
   },
   {
    "duration": 28,
    "start_time": "2022-07-14T02:05:09.482Z"
   },
   {
    "duration": 13,
    "start_time": "2022-07-14T02:05:16.693Z"
   },
   {
    "duration": 25,
    "start_time": "2022-07-14T02:05:23.264Z"
   },
   {
    "duration": 11,
    "start_time": "2022-07-14T02:05:27.186Z"
   },
   {
    "duration": 16,
    "start_time": "2022-07-14T02:06:00.611Z"
   },
   {
    "duration": 7,
    "start_time": "2022-07-14T02:06:10.130Z"
   },
   {
    "duration": 7,
    "start_time": "2022-07-14T02:06:22.628Z"
   },
   {
    "duration": 7,
    "start_time": "2022-07-14T02:06:33.015Z"
   },
   {
    "duration": 7,
    "start_time": "2022-07-14T02:06:37.074Z"
   },
   {
    "duration": 6,
    "start_time": "2022-07-14T02:06:40.185Z"
   },
   {
    "duration": 7,
    "start_time": "2022-07-14T02:07:42.345Z"
   },
   {
    "duration": 6,
    "start_time": "2022-07-14T02:07:55.929Z"
   },
   {
    "duration": 7,
    "start_time": "2022-07-14T02:08:21.284Z"
   },
   {
    "duration": 10,
    "start_time": "2022-07-14T02:08:31.487Z"
   },
   {
    "duration": 431,
    "start_time": "2022-07-14T02:08:37.594Z"
   },
   {
    "duration": 16,
    "start_time": "2022-07-14T02:08:38.027Z"
   },
   {
    "duration": 16,
    "start_time": "2022-07-14T02:08:38.044Z"
   },
   {
    "duration": 27,
    "start_time": "2022-07-14T02:08:38.062Z"
   },
   {
    "duration": 5,
    "start_time": "2022-07-14T02:08:38.101Z"
   },
   {
    "duration": 17,
    "start_time": "2022-07-14T02:08:38.107Z"
   },
   {
    "duration": 9,
    "start_time": "2022-07-14T02:08:38.126Z"
   },
   {
    "duration": 21,
    "start_time": "2022-07-14T02:08:38.137Z"
   },
   {
    "duration": 113,
    "start_time": "2022-07-14T02:08:38.160Z"
   },
   {
    "duration": 2,
    "start_time": "2022-07-14T02:08:38.275Z"
   },
   {
    "duration": 8,
    "start_time": "2022-07-14T02:08:38.279Z"
   },
   {
    "duration": 20,
    "start_time": "2022-07-14T02:08:38.288Z"
   },
   {
    "duration": 4,
    "start_time": "2022-07-14T02:08:38.310Z"
   },
   {
    "duration": 13,
    "start_time": "2022-07-14T02:08:38.315Z"
   },
   {
    "duration": 8,
    "start_time": "2022-07-14T02:08:38.330Z"
   },
   {
    "duration": 12,
    "start_time": "2022-07-14T02:08:38.340Z"
   },
   {
    "duration": 15,
    "start_time": "2022-07-14T02:08:38.354Z"
   },
   {
    "duration": 30,
    "start_time": "2022-07-14T02:08:38.370Z"
   },
   {
    "duration": 15,
    "start_time": "2022-07-14T02:08:38.402Z"
   },
   {
    "duration": 2,
    "start_time": "2022-07-14T02:08:38.418Z"
   },
   {
    "duration": 8,
    "start_time": "2022-07-14T02:08:38.421Z"
   },
   {
    "duration": 19,
    "start_time": "2022-07-14T02:08:38.431Z"
   },
   {
    "duration": 8,
    "start_time": "2022-07-14T02:08:38.451Z"
   },
   {
    "duration": 43,
    "start_time": "2022-07-14T02:08:38.460Z"
   },
   {
    "duration": 2,
    "start_time": "2022-07-14T02:08:38.504Z"
   },
   {
    "duration": 14,
    "start_time": "2022-07-14T02:08:38.508Z"
   },
   {
    "duration": 17,
    "start_time": "2022-07-14T02:08:38.524Z"
   },
   {
    "duration": 10,
    "start_time": "2022-07-14T02:08:38.545Z"
   },
   {
    "duration": 5,
    "start_time": "2022-07-14T02:08:38.556Z"
   },
   {
    "duration": 50,
    "start_time": "2022-07-14T02:08:38.563Z"
   },
   {
    "duration": 8,
    "start_time": "2022-07-14T02:08:38.615Z"
   },
   {
    "duration": 8,
    "start_time": "2022-07-14T02:08:38.625Z"
   },
   {
    "duration": 16,
    "start_time": "2022-07-14T02:08:38.635Z"
   },
   {
    "duration": 5,
    "start_time": "2022-07-14T02:08:38.653Z"
   },
   {
    "duration": 42,
    "start_time": "2022-07-14T02:08:38.660Z"
   },
   {
    "duration": 14,
    "start_time": "2022-07-14T02:08:38.704Z"
   },
   {
    "duration": 5,
    "start_time": "2022-07-14T02:08:38.720Z"
   },
   {
    "duration": 6,
    "start_time": "2022-07-14T02:08:38.726Z"
   },
   {
    "duration": 7,
    "start_time": "2022-07-14T02:08:38.733Z"
   },
   {
    "duration": 11,
    "start_time": "2022-07-14T02:08:38.741Z"
   },
   {
    "duration": 8,
    "start_time": "2022-07-14T02:08:38.753Z"
   },
   {
    "duration": 12,
    "start_time": "2022-07-14T02:08:38.763Z"
   },
   {
    "duration": 24,
    "start_time": "2022-07-14T02:08:38.777Z"
   },
   {
    "duration": 9,
    "start_time": "2022-07-14T02:08:38.803Z"
   },
   {
    "duration": 9,
    "start_time": "2022-07-14T02:08:38.814Z"
   },
   {
    "duration": 7,
    "start_time": "2022-07-14T02:08:38.825Z"
   },
   {
    "duration": 12,
    "start_time": "2022-07-14T02:08:38.834Z"
   },
   {
    "duration": 4,
    "start_time": "2022-07-14T02:08:38.847Z"
   },
   {
    "duration": 59,
    "start_time": "2022-07-14T02:08:38.852Z"
   },
   {
    "duration": 20,
    "start_time": "2022-07-14T02:08:38.912Z"
   },
   {
    "duration": 3,
    "start_time": "2022-07-14T02:08:38.933Z"
   },
   {
    "duration": 15,
    "start_time": "2022-07-14T02:08:38.937Z"
   },
   {
    "duration": 8,
    "start_time": "2022-07-14T02:08:38.953Z"
   },
   {
    "duration": 38,
    "start_time": "2022-07-14T02:08:38.963Z"
   },
   {
    "duration": 12,
    "start_time": "2022-07-14T02:08:39.002Z"
   },
   {
    "duration": 8,
    "start_time": "2022-07-14T02:08:39.016Z"
   },
   {
    "duration": 10,
    "start_time": "2022-07-14T02:08:39.025Z"
   },
   {
    "duration": 10,
    "start_time": "2022-07-14T02:08:39.037Z"
   },
   {
    "duration": 4,
    "start_time": "2022-07-14T02:08:39.049Z"
   },
   {
    "duration": 8,
    "start_time": "2022-07-14T02:08:39.055Z"
   },
   {
    "duration": 44,
    "start_time": "2022-07-14T02:08:39.064Z"
   },
   {
    "duration": 6,
    "start_time": "2022-07-14T02:08:39.110Z"
   },
   {
    "duration": 7,
    "start_time": "2022-07-14T02:08:39.118Z"
   },
   {
    "duration": 15,
    "start_time": "2022-07-14T02:08:39.126Z"
   },
   {
    "duration": 12,
    "start_time": "2022-07-14T02:08:39.143Z"
   },
   {
    "duration": 9,
    "start_time": "2022-07-14T02:08:39.157Z"
   },
   {
    "duration": 8,
    "start_time": "2022-07-14T02:08:39.167Z"
   },
   {
    "duration": 3,
    "start_time": "2022-07-14T02:08:39.200Z"
   },
   {
    "duration": 9,
    "start_time": "2022-07-14T02:08:39.204Z"
   },
   {
    "duration": 8,
    "start_time": "2022-07-14T02:08:39.214Z"
   },
   {
    "duration": 9,
    "start_time": "2022-07-14T02:08:39.224Z"
   },
   {
    "duration": 9,
    "start_time": "2022-07-14T02:08:39.234Z"
   },
   {
    "duration": 6,
    "start_time": "2022-07-14T02:08:39.244Z"
   },
   {
    "duration": 6,
    "start_time": "2022-07-14T02:08:39.252Z"
   },
   {
    "duration": 7,
    "start_time": "2022-07-14T02:08:39.260Z"
   },
   {
    "duration": 6,
    "start_time": "2022-07-14T02:08:39.268Z"
   },
   {
    "duration": 10,
    "start_time": "2022-07-14T02:08:39.275Z"
   },
   {
    "duration": 8,
    "start_time": "2022-07-14T02:08:39.286Z"
   },
   {
    "duration": 6,
    "start_time": "2022-07-14T02:08:39.295Z"
   },
   {
    "duration": 6,
    "start_time": "2022-07-14T02:08:39.302Z"
   },
   {
    "duration": 9,
    "start_time": "2022-07-14T02:08:39.310Z"
   },
   {
    "duration": 4,
    "start_time": "2022-07-14T02:08:39.324Z"
   },
   {
    "duration": 8,
    "start_time": "2022-07-14T02:08:39.329Z"
   },
   {
    "duration": 5,
    "start_time": "2022-07-14T02:08:39.339Z"
   },
   {
    "duration": 6,
    "start_time": "2022-07-14T02:08:39.345Z"
   },
   {
    "duration": 7,
    "start_time": "2022-07-14T02:08:39.352Z"
   },
   {
    "duration": 7,
    "start_time": "2022-07-14T02:08:39.360Z"
   },
   {
    "duration": 5,
    "start_time": "2022-07-14T02:08:39.368Z"
   },
   {
    "duration": 8,
    "start_time": "2022-07-14T02:08:39.375Z"
   },
   {
    "duration": 5,
    "start_time": "2022-07-14T02:08:39.384Z"
   },
   {
    "duration": 16,
    "start_time": "2022-07-14T02:08:39.390Z"
   },
   {
    "duration": 21,
    "start_time": "2022-07-14T02:08:39.407Z"
   },
   {
    "duration": 8,
    "start_time": "2022-07-14T02:08:39.430Z"
   },
   {
    "duration": 8,
    "start_time": "2022-07-14T02:08:39.440Z"
   },
   {
    "duration": 12,
    "start_time": "2022-07-14T02:09:10.628Z"
   },
   {
    "duration": 12,
    "start_time": "2022-07-14T02:09:13.901Z"
   },
   {
    "duration": 12,
    "start_time": "2022-07-14T02:12:37.959Z"
   },
   {
    "duration": 59,
    "start_time": "2022-07-14T02:12:47.388Z"
   },
   {
    "duration": 3,
    "start_time": "2022-07-14T02:14:00.548Z"
   },
   {
    "duration": 57,
    "start_time": "2022-07-14T02:14:38.982Z"
   },
   {
    "duration": 10,
    "start_time": "2022-07-14T02:14:57.926Z"
   },
   {
    "duration": 759,
    "start_time": "2022-07-14T02:15:20.276Z"
   },
   {
    "duration": 5,
    "start_time": "2022-07-14T02:15:36.951Z"
   },
   {
    "duration": 2,
    "start_time": "2022-07-14T02:15:52.457Z"
   },
   {
    "duration": 10,
    "start_time": "2022-07-14T02:17:59.858Z"
   },
   {
    "duration": 13,
    "start_time": "2022-07-14T02:20:46.263Z"
   },
   {
    "duration": 18,
    "start_time": "2022-07-14T02:21:01.505Z"
   },
   {
    "duration": 6,
    "start_time": "2022-07-14T02:21:12.917Z"
   },
   {
    "duration": 6,
    "start_time": "2022-07-14T02:21:18.099Z"
   },
   {
    "duration": 11,
    "start_time": "2022-07-14T02:21:56.939Z"
   },
   {
    "duration": 77,
    "start_time": "2022-07-14T02:22:02.535Z"
   },
   {
    "duration": 12,
    "start_time": "2022-07-14T02:23:37.245Z"
   },
   {
    "duration": 10,
    "start_time": "2022-07-14T02:23:52.556Z"
   },
   {
    "duration": 5,
    "start_time": "2022-07-14T02:25:16.686Z"
   },
   {
    "duration": 19,
    "start_time": "2022-07-14T02:35:03.374Z"
   },
   {
    "duration": 58,
    "start_time": "2022-07-14T03:11:17.908Z"
   },
   {
    "duration": 10,
    "start_time": "2022-07-14T03:11:20.228Z"
   },
   {
    "duration": 9,
    "start_time": "2022-07-14T03:12:39.838Z"
   },
   {
    "duration": 10,
    "start_time": "2022-07-14T03:12:55.712Z"
   },
   {
    "duration": 10,
    "start_time": "2022-07-14T03:13:02.477Z"
   },
   {
    "duration": 9,
    "start_time": "2022-07-14T03:13:15.653Z"
   },
   {
    "duration": 10,
    "start_time": "2022-07-14T03:14:11.199Z"
   },
   {
    "duration": 10,
    "start_time": "2022-07-14T03:14:38.637Z"
   },
   {
    "duration": 4,
    "start_time": "2022-07-14T03:14:59.225Z"
   },
   {
    "duration": 13,
    "start_time": "2022-07-14T03:15:15.425Z"
   },
   {
    "duration": 10,
    "start_time": "2022-07-14T03:15:31.060Z"
   },
   {
    "duration": 10,
    "start_time": "2022-07-14T03:15:50.523Z"
   },
   {
    "duration": 15,
    "start_time": "2022-07-14T03:16:13.437Z"
   },
   {
    "duration": 14,
    "start_time": "2022-07-14T03:16:36.713Z"
   },
   {
    "duration": 15,
    "start_time": "2022-07-14T03:19:00.936Z"
   },
   {
    "duration": 15,
    "start_time": "2022-07-14T03:19:16.974Z"
   },
   {
    "duration": 16,
    "start_time": "2022-07-14T03:21:20.017Z"
   },
   {
    "duration": 15,
    "start_time": "2022-07-14T03:21:22.372Z"
   },
   {
    "duration": 20,
    "start_time": "2022-07-14T03:21:37.949Z"
   },
   {
    "duration": 22,
    "start_time": "2022-07-14T03:21:56.229Z"
   },
   {
    "duration": 22,
    "start_time": "2022-07-14T03:22:51.955Z"
   },
   {
    "duration": 25,
    "start_time": "2022-07-14T03:22:59.568Z"
   },
   {
    "duration": 17,
    "start_time": "2022-07-14T03:23:21.192Z"
   },
   {
    "duration": 53,
    "start_time": "2022-07-14T03:23:41.109Z"
   },
   {
    "duration": 18,
    "start_time": "2022-07-14T03:24:17.447Z"
   },
   {
    "duration": 18,
    "start_time": "2022-07-14T03:25:56.244Z"
   },
   {
    "duration": 20,
    "start_time": "2022-07-14T03:52:05.485Z"
   },
   {
    "duration": 15,
    "start_time": "2022-07-14T03:52:35.757Z"
   },
   {
    "duration": 26,
    "start_time": "2022-07-14T03:53:55.228Z"
   },
   {
    "duration": 17,
    "start_time": "2022-07-14T03:55:11.440Z"
   },
   {
    "duration": 56,
    "start_time": "2022-07-14T03:56:02.089Z"
   },
   {
    "duration": 16,
    "start_time": "2022-07-14T03:56:07.821Z"
   },
   {
    "duration": 15,
    "start_time": "2022-07-14T03:56:29.871Z"
   },
   {
    "duration": 16,
    "start_time": "2022-07-14T03:56:59.520Z"
   },
   {
    "duration": 17,
    "start_time": "2022-07-14T03:58:17.280Z"
   },
   {
    "duration": 17,
    "start_time": "2022-07-14T03:58:53.421Z"
   },
   {
    "duration": 86,
    "start_time": "2022-07-14T03:59:12.706Z"
   },
   {
    "duration": 4,
    "start_time": "2022-07-14T03:59:39.489Z"
   },
   {
    "duration": 18,
    "start_time": "2022-07-14T03:59:48.751Z"
   },
   {
    "duration": 621,
    "start_time": "2022-07-16T22:50:39.296Z"
   },
   {
    "duration": 20,
    "start_time": "2022-07-16T22:50:39.919Z"
   },
   {
    "duration": 17,
    "start_time": "2022-07-16T22:50:39.941Z"
   },
   {
    "duration": 32,
    "start_time": "2022-07-16T22:50:39.960Z"
   },
   {
    "duration": 6,
    "start_time": "2022-07-16T22:50:39.993Z"
   },
   {
    "duration": 18,
    "start_time": "2022-07-16T22:50:40.001Z"
   },
   {
    "duration": 13,
    "start_time": "2022-07-16T22:50:40.039Z"
   },
   {
    "duration": 22,
    "start_time": "2022-07-16T22:50:40.054Z"
   },
   {
    "duration": 136,
    "start_time": "2022-07-16T22:50:40.078Z"
   },
   {
    "duration": 2,
    "start_time": "2022-07-16T22:50:40.218Z"
   },
   {
    "duration": 18,
    "start_time": "2022-07-16T22:50:40.222Z"
   },
   {
    "duration": 24,
    "start_time": "2022-07-16T22:50:40.242Z"
   },
   {
    "duration": 8,
    "start_time": "2022-07-16T22:50:40.268Z"
   },
   {
    "duration": 10,
    "start_time": "2022-07-16T22:50:40.277Z"
   },
   {
    "duration": 6,
    "start_time": "2022-07-16T22:50:40.289Z"
   },
   {
    "duration": 10,
    "start_time": "2022-07-16T22:50:40.297Z"
   },
   {
    "duration": 44,
    "start_time": "2022-07-16T22:50:40.309Z"
   },
   {
    "duration": 9,
    "start_time": "2022-07-16T22:50:40.364Z"
   },
   {
    "duration": 17,
    "start_time": "2022-07-16T22:50:40.375Z"
   },
   {
    "duration": 3,
    "start_time": "2022-07-16T22:50:40.394Z"
   },
   {
    "duration": 9,
    "start_time": "2022-07-16T22:50:40.398Z"
   },
   {
    "duration": 43,
    "start_time": "2022-07-16T22:50:40.409Z"
   },
   {
    "duration": 11,
    "start_time": "2022-07-16T22:50:40.454Z"
   },
   {
    "duration": 16,
    "start_time": "2022-07-16T22:50:40.467Z"
   },
   {
    "duration": 3,
    "start_time": "2022-07-16T22:50:40.485Z"
   },
   {
    "duration": 14,
    "start_time": "2022-07-16T22:50:40.490Z"
   },
   {
    "duration": 45,
    "start_time": "2022-07-16T22:50:40.506Z"
   },
   {
    "duration": 10,
    "start_time": "2022-07-16T22:50:40.555Z"
   },
   {
    "duration": 23,
    "start_time": "2022-07-16T22:50:40.567Z"
   },
   {
    "duration": 17,
    "start_time": "2022-07-16T22:50:40.592Z"
   },
   {
    "duration": 9,
    "start_time": "2022-07-16T22:50:40.611Z"
   },
   {
    "duration": 25,
    "start_time": "2022-07-16T22:50:40.622Z"
   },
   {
    "duration": 19,
    "start_time": "2022-07-16T22:50:40.648Z"
   },
   {
    "duration": 5,
    "start_time": "2022-07-16T22:50:40.669Z"
   },
   {
    "duration": 13,
    "start_time": "2022-07-16T22:50:40.675Z"
   },
   {
    "duration": 15,
    "start_time": "2022-07-16T22:50:40.690Z"
   },
   {
    "duration": 4,
    "start_time": "2022-07-16T22:50:40.707Z"
   },
   {
    "duration": 6,
    "start_time": "2022-07-16T22:50:40.712Z"
   },
   {
    "duration": 22,
    "start_time": "2022-07-16T22:50:40.719Z"
   },
   {
    "duration": 12,
    "start_time": "2022-07-16T22:50:40.743Z"
   },
   {
    "duration": 7,
    "start_time": "2022-07-16T22:50:40.757Z"
   },
   {
    "duration": 12,
    "start_time": "2022-07-16T22:50:40.765Z"
   },
   {
    "duration": 5,
    "start_time": "2022-07-16T22:50:40.779Z"
   },
   {
    "duration": 13,
    "start_time": "2022-07-16T22:50:40.786Z"
   },
   {
    "duration": 12,
    "start_time": "2022-07-16T22:50:40.800Z"
   },
   {
    "duration": 9,
    "start_time": "2022-07-16T22:50:40.814Z"
   },
   {
    "duration": 11,
    "start_time": "2022-07-16T22:50:40.840Z"
   },
   {
    "duration": 3,
    "start_time": "2022-07-16T22:50:40.853Z"
   },
   {
    "duration": 54,
    "start_time": "2022-07-16T22:50:40.857Z"
   },
   {
    "duration": 39,
    "start_time": "2022-07-16T22:50:40.912Z"
   },
   {
    "duration": 3,
    "start_time": "2022-07-16T22:50:40.952Z"
   },
   {
    "duration": 29,
    "start_time": "2022-07-16T22:50:40.956Z"
   },
   {
    "duration": 9,
    "start_time": "2022-07-16T22:50:40.987Z"
   },
   {
    "duration": 25,
    "start_time": "2022-07-16T22:50:40.998Z"
   },
   {
    "duration": 20,
    "start_time": "2022-07-16T22:50:41.024Z"
   },
   {
    "duration": 9,
    "start_time": "2022-07-16T22:50:41.047Z"
   },
   {
    "duration": 12,
    "start_time": "2022-07-16T22:50:41.058Z"
   },
   {
    "duration": 12,
    "start_time": "2022-07-16T22:50:41.072Z"
   },
   {
    "duration": 9,
    "start_time": "2022-07-16T22:50:41.085Z"
   },
   {
    "duration": 9,
    "start_time": "2022-07-16T22:50:41.096Z"
   },
   {
    "duration": 34,
    "start_time": "2022-07-16T22:50:41.107Z"
   },
   {
    "duration": 4,
    "start_time": "2022-07-16T22:50:41.143Z"
   },
   {
    "duration": 15,
    "start_time": "2022-07-16T22:50:41.149Z"
   },
   {
    "duration": 27,
    "start_time": "2022-07-16T22:50:41.166Z"
   },
   {
    "duration": 19,
    "start_time": "2022-07-16T22:50:41.194Z"
   },
   {
    "duration": 37,
    "start_time": "2022-07-16T22:50:41.214Z"
   },
   {
    "duration": 2,
    "start_time": "2022-07-16T22:50:41.252Z"
   },
   {
    "duration": 7,
    "start_time": "2022-07-16T22:50:41.256Z"
   },
   {
    "duration": 5,
    "start_time": "2022-07-16T22:50:41.264Z"
   },
   {
    "duration": 6,
    "start_time": "2022-07-16T22:50:41.270Z"
   },
   {
    "duration": 5,
    "start_time": "2022-07-16T22:50:41.277Z"
   },
   {
    "duration": 11,
    "start_time": "2022-07-16T22:50:41.283Z"
   },
   {
    "duration": 7,
    "start_time": "2022-07-16T22:50:41.295Z"
   },
   {
    "duration": 6,
    "start_time": "2022-07-16T22:50:41.304Z"
   },
   {
    "duration": 6,
    "start_time": "2022-07-16T22:50:41.312Z"
   },
   {
    "duration": 7,
    "start_time": "2022-07-16T22:50:41.320Z"
   },
   {
    "duration": 2,
    "start_time": "2022-07-16T22:50:41.341Z"
   },
   {
    "duration": 4,
    "start_time": "2022-07-16T22:50:41.346Z"
   },
   {
    "duration": 18,
    "start_time": "2022-07-16T22:50:41.352Z"
   },
   {
    "duration": 15,
    "start_time": "2022-07-16T22:50:41.371Z"
   },
   {
    "duration": 12,
    "start_time": "2022-07-16T22:50:41.387Z"
   },
   {
    "duration": 24,
    "start_time": "2022-07-16T22:50:41.404Z"
   },
   {
    "duration": 4,
    "start_time": "2022-07-16T22:50:41.430Z"
   },
   {
    "duration": 9,
    "start_time": "2022-07-16T22:50:41.435Z"
   },
   {
    "duration": 4,
    "start_time": "2022-07-16T22:50:41.445Z"
   },
   {
    "duration": 7,
    "start_time": "2022-07-16T22:50:41.451Z"
   },
   {
    "duration": 7,
    "start_time": "2022-07-16T22:50:41.460Z"
   },
   {
    "duration": 6,
    "start_time": "2022-07-16T22:50:41.469Z"
   },
   {
    "duration": 7,
    "start_time": "2022-07-16T22:50:41.477Z"
   },
   {
    "duration": 5,
    "start_time": "2022-07-16T22:50:41.486Z"
   },
   {
    "duration": 9,
    "start_time": "2022-07-16T22:50:41.492Z"
   },
   {
    "duration": 7,
    "start_time": "2022-07-16T22:50:41.502Z"
   },
   {
    "duration": 7,
    "start_time": "2022-07-16T22:50:41.510Z"
   },
   {
    "duration": 577,
    "start_time": "2022-07-17T15:45:25.283Z"
   },
   {
    "duration": 16,
    "start_time": "2022-07-17T15:45:25.862Z"
   },
   {
    "duration": 18,
    "start_time": "2022-07-17T15:45:25.879Z"
   },
   {
    "duration": 24,
    "start_time": "2022-07-17T15:45:25.898Z"
   },
   {
    "duration": 5,
    "start_time": "2022-07-17T15:45:25.924Z"
   },
   {
    "duration": 13,
    "start_time": "2022-07-17T15:45:25.931Z"
   },
   {
    "duration": 9,
    "start_time": "2022-07-17T15:45:25.945Z"
   },
   {
    "duration": 17,
    "start_time": "2022-07-17T15:45:25.956Z"
   },
   {
    "duration": 113,
    "start_time": "2022-07-17T15:45:25.974Z"
   },
   {
    "duration": 3,
    "start_time": "2022-07-17T15:45:26.088Z"
   },
   {
    "duration": 11,
    "start_time": "2022-07-17T15:45:26.092Z"
   },
   {
    "duration": 13,
    "start_time": "2022-07-17T15:45:26.104Z"
   },
   {
    "duration": 6,
    "start_time": "2022-07-17T15:45:26.119Z"
   },
   {
    "duration": 9,
    "start_time": "2022-07-17T15:45:26.127Z"
   },
   {
    "duration": 5,
    "start_time": "2022-07-17T15:45:26.138Z"
   },
   {
    "duration": 7,
    "start_time": "2022-07-17T15:45:26.145Z"
   },
   {
    "duration": 13,
    "start_time": "2022-07-17T15:45:26.153Z"
   },
   {
    "duration": 37,
    "start_time": "2022-07-17T15:45:26.168Z"
   },
   {
    "duration": 13,
    "start_time": "2022-07-17T15:45:26.207Z"
   },
   {
    "duration": 2,
    "start_time": "2022-07-17T15:45:26.221Z"
   },
   {
    "duration": 9,
    "start_time": "2022-07-17T15:45:26.225Z"
   },
   {
    "duration": 17,
    "start_time": "2022-07-17T15:45:26.236Z"
   },
   {
    "duration": 8,
    "start_time": "2022-07-17T15:45:26.254Z"
   },
   {
    "duration": 39,
    "start_time": "2022-07-17T15:45:26.263Z"
   },
   {
    "duration": 1,
    "start_time": "2022-07-17T15:45:26.304Z"
   },
   {
    "duration": 11,
    "start_time": "2022-07-17T15:45:26.307Z"
   },
   {
    "duration": 14,
    "start_time": "2022-07-17T15:45:26.319Z"
   },
   {
    "duration": 8,
    "start_time": "2022-07-17T15:45:26.334Z"
   },
   {
    "duration": 5,
    "start_time": "2022-07-17T15:45:26.344Z"
   },
   {
    "duration": 14,
    "start_time": "2022-07-17T15:45:26.350Z"
   },
   {
    "duration": 6,
    "start_time": "2022-07-17T15:45:26.365Z"
   },
   {
    "duration": 6,
    "start_time": "2022-07-17T15:45:26.401Z"
   },
   {
    "duration": 14,
    "start_time": "2022-07-17T15:45:26.408Z"
   },
   {
    "duration": 4,
    "start_time": "2022-07-17T15:45:26.423Z"
   },
   {
    "duration": 13,
    "start_time": "2022-07-17T15:45:26.428Z"
   },
   {
    "duration": 9,
    "start_time": "2022-07-17T15:45:26.443Z"
   },
   {
    "duration": 5,
    "start_time": "2022-07-17T15:45:26.453Z"
   },
   {
    "duration": 5,
    "start_time": "2022-07-17T15:45:26.459Z"
   },
   {
    "duration": 8,
    "start_time": "2022-07-17T15:45:26.465Z"
   },
   {
    "duration": 28,
    "start_time": "2022-07-17T15:45:26.474Z"
   },
   {
    "duration": 5,
    "start_time": "2022-07-17T15:45:26.506Z"
   },
   {
    "duration": 10,
    "start_time": "2022-07-17T15:45:26.512Z"
   },
   {
    "duration": 2,
    "start_time": "2022-07-17T15:45:26.523Z"
   },
   {
    "duration": 6,
    "start_time": "2022-07-17T15:45:26.526Z"
   },
   {
    "duration": 8,
    "start_time": "2022-07-17T15:45:26.533Z"
   },
   {
    "duration": 9,
    "start_time": "2022-07-17T15:45:26.542Z"
   },
   {
    "duration": 10,
    "start_time": "2022-07-17T15:45:26.552Z"
   },
   {
    "duration": 3,
    "start_time": "2022-07-17T15:45:26.563Z"
   },
   {
    "duration": 65,
    "start_time": "2022-07-17T15:45:26.567Z"
   },
   {
    "duration": 17,
    "start_time": "2022-07-17T15:45:26.633Z"
   },
   {
    "duration": 2,
    "start_time": "2022-07-17T15:45:26.652Z"
   },
   {
    "duration": 15,
    "start_time": "2022-07-17T15:45:26.655Z"
   },
   {
    "duration": 7,
    "start_time": "2022-07-17T15:45:26.671Z"
   },
   {
    "duration": 34,
    "start_time": "2022-07-17T15:45:26.679Z"
   },
   {
    "duration": 11,
    "start_time": "2022-07-17T15:45:26.714Z"
   },
   {
    "duration": 5,
    "start_time": "2022-07-17T15:45:26.726Z"
   },
   {
    "duration": 8,
    "start_time": "2022-07-17T15:45:26.733Z"
   },
   {
    "duration": 9,
    "start_time": "2022-07-17T15:45:26.742Z"
   },
   {
    "duration": 3,
    "start_time": "2022-07-17T15:45:26.753Z"
   },
   {
    "duration": 5,
    "start_time": "2022-07-17T15:45:26.758Z"
   },
   {
    "duration": 39,
    "start_time": "2022-07-17T15:45:26.764Z"
   },
   {
    "duration": 4,
    "start_time": "2022-07-17T15:45:26.804Z"
   },
   {
    "duration": 11,
    "start_time": "2022-07-17T15:45:26.810Z"
   },
   {
    "duration": 19,
    "start_time": "2022-07-17T15:45:26.823Z"
   },
   {
    "duration": 18,
    "start_time": "2022-07-17T15:45:26.843Z"
   },
   {
    "duration": 40,
    "start_time": "2022-07-17T15:45:26.862Z"
   },
   {
    "duration": 2,
    "start_time": "2022-07-17T15:45:26.904Z"
   },
   {
    "duration": 6,
    "start_time": "2022-07-17T15:45:26.908Z"
   },
   {
    "duration": 8,
    "start_time": "2022-07-17T15:45:26.915Z"
   },
   {
    "duration": 8,
    "start_time": "2022-07-17T15:45:26.924Z"
   },
   {
    "duration": 5,
    "start_time": "2022-07-17T15:45:26.933Z"
   },
   {
    "duration": 6,
    "start_time": "2022-07-17T15:45:26.940Z"
   },
   {
    "duration": 7,
    "start_time": "2022-07-17T15:45:26.947Z"
   },
   {
    "duration": 6,
    "start_time": "2022-07-17T15:45:26.955Z"
   },
   {
    "duration": 8,
    "start_time": "2022-07-17T15:45:26.962Z"
   },
   {
    "duration": 4,
    "start_time": "2022-07-17T15:45:26.971Z"
   },
   {
    "duration": 5,
    "start_time": "2022-07-17T15:45:26.977Z"
   },
   {
    "duration": 9,
    "start_time": "2022-07-17T15:45:26.983Z"
   },
   {
    "duration": 6,
    "start_time": "2022-07-17T15:45:26.993Z"
   },
   {
    "duration": 6,
    "start_time": "2022-07-17T15:45:27.001Z"
   },
   {
    "duration": 6,
    "start_time": "2022-07-17T15:45:27.008Z"
   },
   {
    "duration": 5,
    "start_time": "2022-07-17T15:45:27.015Z"
   },
   {
    "duration": 5,
    "start_time": "2022-07-17T15:45:27.021Z"
   },
   {
    "duration": 18,
    "start_time": "2022-07-17T15:45:27.028Z"
   },
   {
    "duration": 8,
    "start_time": "2022-07-17T15:45:27.048Z"
   },
   {
    "duration": 7,
    "start_time": "2022-07-17T15:45:27.058Z"
   },
   {
    "duration": 5,
    "start_time": "2022-07-17T15:45:27.066Z"
   },
   {
    "duration": 6,
    "start_time": "2022-07-17T15:45:27.072Z"
   },
   {
    "duration": 5,
    "start_time": "2022-07-17T15:45:27.080Z"
   },
   {
    "duration": 9,
    "start_time": "2022-07-17T15:45:27.086Z"
   },
   {
    "duration": 6,
    "start_time": "2022-07-17T15:45:27.096Z"
   },
   {
    "duration": 5,
    "start_time": "2022-07-17T15:45:27.103Z"
   },
   {
    "duration": 5,
    "start_time": "2022-07-17T15:45:27.109Z"
   },
   {
    "duration": 3,
    "start_time": "2022-07-17T16:12:57.920Z"
   },
   {
    "duration": 3,
    "start_time": "2022-07-17T16:13:03.789Z"
   },
   {
    "duration": 10,
    "start_time": "2022-07-17T16:14:03.311Z"
   },
   {
    "duration": 8,
    "start_time": "2022-07-17T16:14:20.066Z"
   },
   {
    "duration": 10,
    "start_time": "2022-07-17T16:14:40.489Z"
   },
   {
    "duration": 5,
    "start_time": "2022-07-17T16:14:58.933Z"
   },
   {
    "duration": 1119,
    "start_time": "2022-07-17T16:19:11.994Z"
   },
   {
    "duration": 4,
    "start_time": "2022-07-17T16:19:13.336Z"
   },
   {
    "duration": 897,
    "start_time": "2022-07-17T16:19:46.000Z"
   },
   {
    "duration": 4,
    "start_time": "2022-07-17T16:19:50.568Z"
   },
   {
    "duration": 963,
    "start_time": "2022-07-17T16:19:53.274Z"
   },
   {
    "duration": 2,
    "start_time": "2022-07-17T16:20:00.722Z"
   },
   {
    "duration": 3628,
    "start_time": "2022-07-17T16:20:03.008Z"
   },
   {
    "duration": 16,
    "start_time": "2022-07-17T16:20:08.557Z"
   },
   {
    "duration": 3290,
    "start_time": "2022-07-17T16:20:11.019Z"
   },
   {
    "duration": 1186,
    "start_time": "2022-07-17T16:20:31.428Z"
   },
   {
    "duration": 3,
    "start_time": "2022-07-17T16:20:52.198Z"
   },
   {
    "duration": 3,
    "start_time": "2022-07-17T16:20:56.774Z"
   },
   {
    "duration": 4,
    "start_time": "2022-07-17T16:21:04.004Z"
   },
   {
    "duration": 2,
    "start_time": "2022-07-17T16:21:52.429Z"
   },
   {
    "duration": 14,
    "start_time": "2022-07-17T16:21:55.491Z"
   },
   {
    "duration": 10,
    "start_time": "2022-07-17T16:22:13.375Z"
   },
   {
    "duration": 4,
    "start_time": "2022-07-17T16:23:36.574Z"
   },
   {
    "duration": 4,
    "start_time": "2022-07-17T16:23:38.282Z"
   },
   {
    "duration": 4,
    "start_time": "2022-07-17T16:23:43.947Z"
   },
   {
    "duration": 6,
    "start_time": "2022-07-17T16:23:50.140Z"
   },
   {
    "duration": 7,
    "start_time": "2022-07-17T16:23:54.940Z"
   },
   {
    "duration": 9,
    "start_time": "2022-07-17T16:24:07.498Z"
   },
   {
    "duration": 1120,
    "start_time": "2022-07-17T16:25:00.189Z"
   },
   {
    "duration": 894,
    "start_time": "2022-07-17T16:25:14.079Z"
   },
   {
    "duration": 999,
    "start_time": "2022-07-17T16:25:25.210Z"
   },
   {
    "duration": 445,
    "start_time": "2022-07-17T16:49:32.478Z"
   },
   {
    "duration": 17,
    "start_time": "2022-07-17T16:49:32.925Z"
   },
   {
    "duration": 16,
    "start_time": "2022-07-17T16:49:32.943Z"
   },
   {
    "duration": 41,
    "start_time": "2022-07-17T16:49:32.961Z"
   },
   {
    "duration": 6,
    "start_time": "2022-07-17T16:49:33.006Z"
   },
   {
    "duration": 12,
    "start_time": "2022-07-17T16:49:33.013Z"
   },
   {
    "duration": 14,
    "start_time": "2022-07-17T16:49:33.027Z"
   },
   {
    "duration": 19,
    "start_time": "2022-07-17T16:49:33.042Z"
   },
   {
    "duration": 144,
    "start_time": "2022-07-17T16:49:33.063Z"
   },
   {
    "duration": 2,
    "start_time": "2022-07-17T16:49:33.210Z"
   },
   {
    "duration": 6,
    "start_time": "2022-07-17T16:49:33.214Z"
   },
   {
    "duration": 19,
    "start_time": "2022-07-17T16:49:33.222Z"
   },
   {
    "duration": 6,
    "start_time": "2022-07-17T16:49:33.242Z"
   },
   {
    "duration": 10,
    "start_time": "2022-07-17T16:49:33.251Z"
   },
   {
    "duration": 6,
    "start_time": "2022-07-17T16:49:33.263Z"
   },
   {
    "duration": 31,
    "start_time": "2022-07-17T16:49:33.271Z"
   },
   {
    "duration": 14,
    "start_time": "2022-07-17T16:49:33.304Z"
   },
   {
    "duration": 7,
    "start_time": "2022-07-17T16:49:33.319Z"
   },
   {
    "duration": 18,
    "start_time": "2022-07-17T16:49:33.328Z"
   },
   {
    "duration": 2,
    "start_time": "2022-07-17T16:49:33.347Z"
   },
   {
    "duration": 9,
    "start_time": "2022-07-17T16:49:33.351Z"
   },
   {
    "duration": 48,
    "start_time": "2022-07-17T16:49:33.362Z"
   },
   {
    "duration": 10,
    "start_time": "2022-07-17T16:49:33.412Z"
   },
   {
    "duration": 14,
    "start_time": "2022-07-17T16:49:33.424Z"
   },
   {
    "duration": 2,
    "start_time": "2022-07-17T16:49:33.440Z"
   },
   {
    "duration": 14,
    "start_time": "2022-07-17T16:49:33.444Z"
   },
   {
    "duration": 16,
    "start_time": "2022-07-17T16:49:33.459Z"
   },
   {
    "duration": 10,
    "start_time": "2022-07-17T16:49:33.502Z"
   },
   {
    "duration": 7,
    "start_time": "2022-07-17T16:49:33.513Z"
   },
   {
    "duration": 22,
    "start_time": "2022-07-17T16:49:33.522Z"
   },
   {
    "duration": 6,
    "start_time": "2022-07-17T16:49:33.545Z"
   },
   {
    "duration": 5,
    "start_time": "2022-07-17T16:49:33.553Z"
   },
   {
    "duration": 17,
    "start_time": "2022-07-17T16:49:33.559Z"
   },
   {
    "duration": 5,
    "start_time": "2022-07-17T16:49:33.602Z"
   },
   {
    "duration": 13,
    "start_time": "2022-07-17T16:49:33.609Z"
   },
   {
    "duration": 11,
    "start_time": "2022-07-17T16:49:33.624Z"
   },
   {
    "duration": 10,
    "start_time": "2022-07-17T16:49:33.636Z"
   },
   {
    "duration": 8,
    "start_time": "2022-07-17T16:49:33.647Z"
   },
   {
    "duration": 9,
    "start_time": "2022-07-17T16:49:33.656Z"
   },
   {
    "duration": 18,
    "start_time": "2022-07-17T16:49:33.667Z"
   },
   {
    "duration": 11,
    "start_time": "2022-07-17T16:49:33.692Z"
   },
   {
    "duration": 21,
    "start_time": "2022-07-17T16:49:33.705Z"
   },
   {
    "duration": 3,
    "start_time": "2022-07-17T16:49:33.728Z"
   },
   {
    "duration": 11,
    "start_time": "2022-07-17T16:49:33.732Z"
   },
   {
    "duration": 7,
    "start_time": "2022-07-17T16:49:33.744Z"
   },
   {
    "duration": 6,
    "start_time": "2022-07-17T16:49:33.753Z"
   },
   {
    "duration": 13,
    "start_time": "2022-07-17T16:49:33.761Z"
   },
   {
    "duration": 4,
    "start_time": "2022-07-17T16:49:33.776Z"
   },
   {
    "duration": 72,
    "start_time": "2022-07-17T16:49:33.782Z"
   },
   {
    "duration": 18,
    "start_time": "2022-07-17T16:49:33.856Z"
   },
   {
    "duration": 2,
    "start_time": "2022-07-17T16:49:33.875Z"
   },
   {
    "duration": 31,
    "start_time": "2022-07-17T16:49:33.879Z"
   },
   {
    "duration": 8,
    "start_time": "2022-07-17T16:49:33.912Z"
   },
   {
    "duration": 18,
    "start_time": "2022-07-17T16:49:33.922Z"
   },
   {
    "duration": 12,
    "start_time": "2022-07-17T16:49:33.941Z"
   },
   {
    "duration": 9,
    "start_time": "2022-07-17T16:49:33.955Z"
   },
   {
    "duration": 44,
    "start_time": "2022-07-17T16:49:33.965Z"
   },
   {
    "duration": 10,
    "start_time": "2022-07-17T16:49:34.011Z"
   },
   {
    "duration": 3,
    "start_time": "2022-07-17T16:49:34.023Z"
   },
   {
    "duration": 20,
    "start_time": "2022-07-17T16:49:34.028Z"
   },
   {
    "duration": 11,
    "start_time": "2022-07-17T16:49:34.050Z"
   },
   {
    "duration": 5,
    "start_time": "2022-07-17T16:49:34.062Z"
   },
   {
    "duration": 8,
    "start_time": "2022-07-17T16:49:34.069Z"
   },
   {
    "duration": 26,
    "start_time": "2022-07-17T16:49:34.103Z"
   },
   {
    "duration": 24,
    "start_time": "2022-07-17T16:49:34.131Z"
   },
   {
    "duration": 45,
    "start_time": "2022-07-17T16:49:34.157Z"
   },
   {
    "duration": 5,
    "start_time": "2022-07-17T16:49:34.204Z"
   },
   {
    "duration": 6,
    "start_time": "2022-07-17T16:49:34.210Z"
   },
   {
    "duration": 6,
    "start_time": "2022-07-17T16:49:34.218Z"
   },
   {
    "duration": 79,
    "start_time": "2022-07-17T16:49:34.226Z"
   },
   {
    "duration": 0,
    "start_time": "2022-07-17T16:49:34.307Z"
   },
   {
    "duration": 0,
    "start_time": "2022-07-17T16:49:34.309Z"
   },
   {
    "duration": 0,
    "start_time": "2022-07-17T16:49:34.310Z"
   },
   {
    "duration": 0,
    "start_time": "2022-07-17T16:49:34.312Z"
   },
   {
    "duration": 0,
    "start_time": "2022-07-17T16:49:34.313Z"
   },
   {
    "duration": 0,
    "start_time": "2022-07-17T16:49:34.314Z"
   },
   {
    "duration": 0,
    "start_time": "2022-07-17T16:49:34.316Z"
   },
   {
    "duration": 0,
    "start_time": "2022-07-17T16:49:34.317Z"
   },
   {
    "duration": 0,
    "start_time": "2022-07-17T16:49:34.318Z"
   },
   {
    "duration": 0,
    "start_time": "2022-07-17T16:49:34.320Z"
   },
   {
    "duration": 0,
    "start_time": "2022-07-17T16:49:34.322Z"
   },
   {
    "duration": 0,
    "start_time": "2022-07-17T16:49:34.323Z"
   },
   {
    "duration": 0,
    "start_time": "2022-07-17T16:49:34.325Z"
   },
   {
    "duration": 0,
    "start_time": "2022-07-17T16:49:34.326Z"
   },
   {
    "duration": 0,
    "start_time": "2022-07-17T16:49:34.328Z"
   },
   {
    "duration": 0,
    "start_time": "2022-07-17T16:49:34.330Z"
   },
   {
    "duration": 0,
    "start_time": "2022-07-17T16:49:34.331Z"
   },
   {
    "duration": 0,
    "start_time": "2022-07-17T16:49:34.333Z"
   },
   {
    "duration": 0,
    "start_time": "2022-07-17T16:49:34.334Z"
   },
   {
    "duration": 0,
    "start_time": "2022-07-17T16:49:34.335Z"
   },
   {
    "duration": 0,
    "start_time": "2022-07-17T16:49:34.336Z"
   },
   {
    "duration": 0,
    "start_time": "2022-07-17T16:49:34.338Z"
   },
   {
    "duration": 0,
    "start_time": "2022-07-17T16:49:34.339Z"
   },
   {
    "duration": 9,
    "start_time": "2022-07-17T16:50:18.211Z"
   },
   {
    "duration": 6,
    "start_time": "2022-07-17T16:50:29.899Z"
   },
   {
    "duration": 879,
    "start_time": "2022-07-17T16:51:41.398Z"
   },
   {
    "duration": 952,
    "start_time": "2022-07-17T16:51:52.402Z"
   },
   {
    "duration": 972,
    "start_time": "2022-07-17T16:52:06.594Z"
   },
   {
    "duration": 437,
    "start_time": "2022-07-17T16:52:16.575Z"
   },
   {
    "duration": 15,
    "start_time": "2022-07-17T16:52:17.014Z"
   },
   {
    "duration": 18,
    "start_time": "2022-07-17T16:52:17.031Z"
   },
   {
    "duration": 26,
    "start_time": "2022-07-17T16:52:17.050Z"
   },
   {
    "duration": 5,
    "start_time": "2022-07-17T16:52:17.078Z"
   },
   {
    "duration": 31,
    "start_time": "2022-07-17T16:52:17.084Z"
   },
   {
    "duration": 9,
    "start_time": "2022-07-17T16:52:17.116Z"
   },
   {
    "duration": 17,
    "start_time": "2022-07-17T16:52:17.127Z"
   },
   {
    "duration": 109,
    "start_time": "2022-07-17T16:52:17.145Z"
   },
   {
    "duration": 2,
    "start_time": "2022-07-17T16:52:17.255Z"
   },
   {
    "duration": 4,
    "start_time": "2022-07-17T16:52:17.259Z"
   },
   {
    "duration": 14,
    "start_time": "2022-07-17T16:52:17.264Z"
   },
   {
    "duration": 7,
    "start_time": "2022-07-17T16:52:17.280Z"
   },
   {
    "duration": 8,
    "start_time": "2022-07-17T16:52:17.301Z"
   },
   {
    "duration": 5,
    "start_time": "2022-07-17T16:52:17.310Z"
   },
   {
    "duration": 8,
    "start_time": "2022-07-17T16:52:17.317Z"
   },
   {
    "duration": 17,
    "start_time": "2022-07-17T16:52:17.326Z"
   },
   {
    "duration": 10,
    "start_time": "2022-07-17T16:52:17.344Z"
   },
   {
    "duration": 18,
    "start_time": "2022-07-17T16:52:17.355Z"
   },
   {
    "duration": 3,
    "start_time": "2022-07-17T16:52:17.402Z"
   },
   {
    "duration": 9,
    "start_time": "2022-07-17T16:52:17.406Z"
   },
   {
    "duration": 20,
    "start_time": "2022-07-17T16:52:17.417Z"
   },
   {
    "duration": 11,
    "start_time": "2022-07-17T16:52:17.439Z"
   },
   {
    "duration": 20,
    "start_time": "2022-07-17T16:52:17.452Z"
   },
   {
    "duration": 28,
    "start_time": "2022-07-17T16:52:17.474Z"
   },
   {
    "duration": 11,
    "start_time": "2022-07-17T16:52:17.504Z"
   },
   {
    "duration": 19,
    "start_time": "2022-07-17T16:52:17.517Z"
   },
   {
    "duration": 10,
    "start_time": "2022-07-17T16:52:17.537Z"
   },
   {
    "duration": 10,
    "start_time": "2022-07-17T16:52:17.549Z"
   },
   {
    "duration": 48,
    "start_time": "2022-07-17T16:52:17.561Z"
   },
   {
    "duration": 6,
    "start_time": "2022-07-17T16:52:17.610Z"
   },
   {
    "duration": 10,
    "start_time": "2022-07-17T16:52:17.618Z"
   },
   {
    "duration": 17,
    "start_time": "2022-07-17T16:52:17.630Z"
   },
   {
    "duration": 4,
    "start_time": "2022-07-17T16:52:17.648Z"
   },
   {
    "duration": 15,
    "start_time": "2022-07-17T16:52:17.654Z"
   },
   {
    "duration": 21,
    "start_time": "2022-07-17T16:52:17.670Z"
   },
   {
    "duration": 10,
    "start_time": "2022-07-17T16:52:17.692Z"
   },
   {
    "duration": 3,
    "start_time": "2022-07-17T16:52:17.703Z"
   },
   {
    "duration": 7,
    "start_time": "2022-07-17T16:52:17.707Z"
   },
   {
    "duration": 16,
    "start_time": "2022-07-17T16:52:17.715Z"
   },
   {
    "duration": 5,
    "start_time": "2022-07-17T16:52:17.735Z"
   },
   {
    "duration": 9,
    "start_time": "2022-07-17T16:52:17.741Z"
   },
   {
    "duration": 2,
    "start_time": "2022-07-17T16:52:17.752Z"
   },
   {
    "duration": 5,
    "start_time": "2022-07-17T16:52:17.755Z"
   },
   {
    "duration": 6,
    "start_time": "2022-07-17T16:52:17.761Z"
   },
   {
    "duration": 6,
    "start_time": "2022-07-17T16:52:17.768Z"
   },
   {
    "duration": 33,
    "start_time": "2022-07-17T16:52:17.775Z"
   },
   {
    "duration": 2,
    "start_time": "2022-07-17T16:52:17.809Z"
   },
   {
    "duration": 41,
    "start_time": "2022-07-17T16:52:17.813Z"
   },
   {
    "duration": 17,
    "start_time": "2022-07-17T16:52:17.856Z"
   },
   {
    "duration": 2,
    "start_time": "2022-07-17T16:52:17.874Z"
   },
   {
    "duration": 28,
    "start_time": "2022-07-17T16:52:17.878Z"
   },
   {
    "duration": 9,
    "start_time": "2022-07-17T16:52:17.907Z"
   },
   {
    "duration": 11,
    "start_time": "2022-07-17T16:52:17.917Z"
   },
   {
    "duration": 10,
    "start_time": "2022-07-17T16:52:17.929Z"
   },
   {
    "duration": 6,
    "start_time": "2022-07-17T16:52:17.941Z"
   },
   {
    "duration": 7,
    "start_time": "2022-07-17T16:52:17.949Z"
   },
   {
    "duration": 48,
    "start_time": "2022-07-17T16:52:17.958Z"
   },
   {
    "duration": 3,
    "start_time": "2022-07-17T16:52:18.008Z"
   },
   {
    "duration": 5,
    "start_time": "2022-07-17T16:52:18.013Z"
   },
   {
    "duration": 9,
    "start_time": "2022-07-17T16:52:18.019Z"
   },
   {
    "duration": 4,
    "start_time": "2022-07-17T16:52:18.029Z"
   },
   {
    "duration": 7,
    "start_time": "2022-07-17T16:52:18.035Z"
   },
   {
    "duration": 17,
    "start_time": "2022-07-17T16:52:18.043Z"
   },
   {
    "duration": 52,
    "start_time": "2022-07-17T16:52:18.062Z"
   },
   {
    "duration": 15,
    "start_time": "2022-07-17T16:52:18.115Z"
   },
   {
    "duration": 4,
    "start_time": "2022-07-17T16:52:18.131Z"
   },
   {
    "duration": 10,
    "start_time": "2022-07-17T16:52:18.136Z"
   },
   {
    "duration": 2,
    "start_time": "2022-07-17T16:52:18.147Z"
   },
   {
    "duration": 23,
    "start_time": "2022-07-17T16:52:18.150Z"
   },
   {
    "duration": 28,
    "start_time": "2022-07-17T16:52:18.174Z"
   },
   {
    "duration": 4,
    "start_time": "2022-07-17T16:52:18.204Z"
   },
   {
    "duration": 3,
    "start_time": "2022-07-17T16:52:18.209Z"
   },
   {
    "duration": 4,
    "start_time": "2022-07-17T16:52:18.214Z"
   },
   {
    "duration": 5,
    "start_time": "2022-07-17T16:52:18.219Z"
   },
   {
    "duration": 3,
    "start_time": "2022-07-17T16:52:18.226Z"
   },
   {
    "duration": 4,
    "start_time": "2022-07-17T16:52:18.231Z"
   },
   {
    "duration": 7,
    "start_time": "2022-07-17T16:52:18.236Z"
   },
   {
    "duration": 4,
    "start_time": "2022-07-17T16:52:18.244Z"
   },
   {
    "duration": 5,
    "start_time": "2022-07-17T16:52:18.249Z"
   },
   {
    "duration": 4,
    "start_time": "2022-07-17T16:52:18.256Z"
   },
   {
    "duration": 6,
    "start_time": "2022-07-17T16:52:18.261Z"
   },
   {
    "duration": 4,
    "start_time": "2022-07-17T16:52:18.268Z"
   },
   {
    "duration": 5,
    "start_time": "2022-07-17T16:52:18.273Z"
   },
   {
    "duration": 4,
    "start_time": "2022-07-17T16:52:18.279Z"
   },
   {
    "duration": 18,
    "start_time": "2022-07-17T16:52:18.284Z"
   },
   {
    "duration": 5,
    "start_time": "2022-07-17T16:52:18.303Z"
   },
   {
    "duration": 5,
    "start_time": "2022-07-17T16:52:18.309Z"
   },
   {
    "duration": 5,
    "start_time": "2022-07-17T16:52:18.315Z"
   },
   {
    "duration": 4,
    "start_time": "2022-07-17T16:52:18.321Z"
   },
   {
    "duration": 4,
    "start_time": "2022-07-17T16:52:18.326Z"
   },
   {
    "duration": 5,
    "start_time": "2022-07-17T16:52:18.331Z"
   },
   {
    "duration": 3,
    "start_time": "2022-07-17T16:52:18.338Z"
   },
   {
    "duration": 6,
    "start_time": "2022-07-17T16:52:53.094Z"
   },
   {
    "duration": 12,
    "start_time": "2022-07-17T16:53:53.214Z"
   },
   {
    "duration": 5,
    "start_time": "2022-07-17T16:54:12.209Z"
   },
   {
    "duration": 4,
    "start_time": "2022-07-17T16:54:14.361Z"
   },
   {
    "duration": 5,
    "start_time": "2022-07-17T16:54:17.859Z"
   },
   {
    "duration": 10,
    "start_time": "2022-07-17T21:01:43.408Z"
   },
   {
    "duration": 6,
    "start_time": "2022-07-17T21:10:47.768Z"
   },
   {
    "duration": 59,
    "start_time": "2022-07-17T21:13:06.099Z"
   },
   {
    "duration": 7,
    "start_time": "2022-07-17T21:13:09.704Z"
   },
   {
    "duration": 9,
    "start_time": "2022-07-17T21:13:34.377Z"
   },
   {
    "duration": 4,
    "start_time": "2022-07-17T21:43:45.867Z"
   },
   {
    "duration": 12,
    "start_time": "2022-07-17T21:53:45.015Z"
   },
   {
    "duration": 1011,
    "start_time": "2022-07-17T21:55:29.242Z"
   },
   {
    "duration": 894,
    "start_time": "2022-07-17T21:55:59.638Z"
   },
   {
    "duration": 974,
    "start_time": "2022-07-17T21:56:29.433Z"
   },
   {
    "duration": 926,
    "start_time": "2022-07-17T22:09:56.537Z"
   },
   {
    "duration": 1123,
    "start_time": "2022-07-17T22:10:05.427Z"
   },
   {
    "duration": 1445,
    "start_time": "2022-07-17T22:10:10.665Z"
   },
   {
    "duration": 946,
    "start_time": "2022-07-17T22:19:14.351Z"
   },
   {
    "duration": 1683,
    "start_time": "2022-07-17T22:20:15.630Z"
   },
   {
    "duration": 1001,
    "start_time": "2022-07-17T22:21:04.043Z"
   },
   {
    "duration": 963,
    "start_time": "2022-07-17T22:21:39.289Z"
   },
   {
    "duration": 867,
    "start_time": "2022-07-17T22:22:18.903Z"
   },
   {
    "duration": 7,
    "start_time": "2022-07-17T22:23:38.957Z"
   },
   {
    "duration": 923,
    "start_time": "2022-07-17T22:34:08.649Z"
   },
   {
    "duration": 1089,
    "start_time": "2022-07-17T22:35:51.008Z"
   },
   {
    "duration": 448,
    "start_time": "2022-07-17T22:36:00.811Z"
   },
   {
    "duration": 15,
    "start_time": "2022-07-17T22:36:01.261Z"
   },
   {
    "duration": 19,
    "start_time": "2022-07-17T22:36:01.277Z"
   },
   {
    "duration": 37,
    "start_time": "2022-07-17T22:36:01.298Z"
   },
   {
    "duration": 6,
    "start_time": "2022-07-17T22:36:01.336Z"
   },
   {
    "duration": 18,
    "start_time": "2022-07-17T22:36:01.343Z"
   },
   {
    "duration": 8,
    "start_time": "2022-07-17T22:36:01.363Z"
   },
   {
    "duration": 32,
    "start_time": "2022-07-17T22:36:01.373Z"
   },
   {
    "duration": 102,
    "start_time": "2022-07-17T22:36:01.407Z"
   },
   {
    "duration": 2,
    "start_time": "2022-07-17T22:36:01.511Z"
   },
   {
    "duration": 17,
    "start_time": "2022-07-17T22:36:01.514Z"
   },
   {
    "duration": 18,
    "start_time": "2022-07-17T22:36:01.532Z"
   },
   {
    "duration": 5,
    "start_time": "2022-07-17T22:36:01.551Z"
   },
   {
    "duration": 10,
    "start_time": "2022-07-17T22:36:01.557Z"
   },
   {
    "duration": 53,
    "start_time": "2022-07-17T22:36:01.568Z"
   },
   {
    "duration": 17,
    "start_time": "2022-07-17T22:36:01.623Z"
   },
   {
    "duration": 17,
    "start_time": "2022-07-17T22:36:01.641Z"
   },
   {
    "duration": 7,
    "start_time": "2022-07-17T22:36:01.660Z"
   },
   {
    "duration": 22,
    "start_time": "2022-07-17T22:36:01.668Z"
   },
   {
    "duration": 2,
    "start_time": "2022-07-17T22:36:01.691Z"
   },
   {
    "duration": 33,
    "start_time": "2022-07-17T22:36:01.695Z"
   },
   {
    "duration": 15,
    "start_time": "2022-07-17T22:36:01.730Z"
   },
   {
    "duration": 8,
    "start_time": "2022-07-17T22:36:01.747Z"
   },
   {
    "duration": 15,
    "start_time": "2022-07-17T22:36:01.756Z"
   },
   {
    "duration": 4,
    "start_time": "2022-07-17T22:36:01.773Z"
   },
   {
    "duration": 17,
    "start_time": "2022-07-17T22:36:01.778Z"
   },
   {
    "duration": 17,
    "start_time": "2022-07-17T22:36:01.796Z"
   },
   {
    "duration": 9,
    "start_time": "2022-07-17T22:36:01.816Z"
   },
   {
    "duration": 6,
    "start_time": "2022-07-17T22:36:01.827Z"
   },
   {
    "duration": 28,
    "start_time": "2022-07-17T22:36:01.834Z"
   },
   {
    "duration": 6,
    "start_time": "2022-07-17T22:36:01.863Z"
   },
   {
    "duration": 7,
    "start_time": "2022-07-17T22:36:01.871Z"
   },
   {
    "duration": 28,
    "start_time": "2022-07-17T22:36:01.879Z"
   },
   {
    "duration": 26,
    "start_time": "2022-07-17T22:36:01.908Z"
   },
   {
    "duration": 14,
    "start_time": "2022-07-17T22:36:01.936Z"
   },
   {
    "duration": 9,
    "start_time": "2022-07-17T22:36:01.951Z"
   },
   {
    "duration": 17,
    "start_time": "2022-07-17T22:36:01.961Z"
   },
   {
    "duration": 15,
    "start_time": "2022-07-17T22:36:01.979Z"
   },
   {
    "duration": 15,
    "start_time": "2022-07-17T22:36:01.995Z"
   },
   {
    "duration": 25,
    "start_time": "2022-07-17T22:36:02.011Z"
   },
   {
    "duration": 9,
    "start_time": "2022-07-17T22:36:02.038Z"
   },
   {
    "duration": 18,
    "start_time": "2022-07-17T22:36:02.048Z"
   },
   {
    "duration": 3,
    "start_time": "2022-07-17T22:36:02.067Z"
   },
   {
    "duration": 11,
    "start_time": "2022-07-17T22:36:02.071Z"
   },
   {
    "duration": 15,
    "start_time": "2022-07-17T22:36:02.084Z"
   },
   {
    "duration": 15,
    "start_time": "2022-07-17T22:36:02.100Z"
   },
   {
    "duration": 19,
    "start_time": "2022-07-17T22:36:02.116Z"
   },
   {
    "duration": 15,
    "start_time": "2022-07-17T22:36:02.137Z"
   },
   {
    "duration": 53,
    "start_time": "2022-07-17T22:36:02.154Z"
   },
   {
    "duration": 18,
    "start_time": "2022-07-17T22:36:02.208Z"
   },
   {
    "duration": 2,
    "start_time": "2022-07-17T22:36:02.227Z"
   },
   {
    "duration": 21,
    "start_time": "2022-07-17T22:36:02.230Z"
   },
   {
    "duration": 16,
    "start_time": "2022-07-17T22:36:02.253Z"
   },
   {
    "duration": 17,
    "start_time": "2022-07-17T22:36:02.270Z"
   },
   {
    "duration": 10,
    "start_time": "2022-07-17T22:36:02.288Z"
   },
   {
    "duration": 6,
    "start_time": "2022-07-17T22:36:02.299Z"
   },
   {
    "duration": 28,
    "start_time": "2022-07-17T22:36:02.306Z"
   },
   {
    "duration": 15,
    "start_time": "2022-07-17T22:36:02.336Z"
   },
   {
    "duration": 12,
    "start_time": "2022-07-17T22:36:02.353Z"
   },
   {
    "duration": 9,
    "start_time": "2022-07-17T22:36:02.367Z"
   },
   {
    "duration": 12,
    "start_time": "2022-07-17T22:36:02.378Z"
   },
   {
    "duration": 6,
    "start_time": "2022-07-17T22:36:02.391Z"
   },
   {
    "duration": 13,
    "start_time": "2022-07-17T22:36:02.398Z"
   },
   {
    "duration": 22,
    "start_time": "2022-07-17T22:36:02.412Z"
   },
   {
    "duration": 16,
    "start_time": "2022-07-17T22:36:02.436Z"
   },
   {
    "duration": 15,
    "start_time": "2022-07-17T22:36:02.453Z"
   },
   {
    "duration": 3,
    "start_time": "2022-07-17T22:36:02.470Z"
   },
   {
    "duration": 10,
    "start_time": "2022-07-17T22:36:02.474Z"
   },
   {
    "duration": 2,
    "start_time": "2022-07-17T22:36:02.485Z"
   },
   {
    "duration": 25,
    "start_time": "2022-07-17T22:36:02.488Z"
   },
   {
    "duration": 12,
    "start_time": "2022-07-17T22:36:02.514Z"
   },
   {
    "duration": 4,
    "start_time": "2022-07-17T22:36:02.528Z"
   },
   {
    "duration": 5,
    "start_time": "2022-07-17T22:36:02.533Z"
   },
   {
    "duration": 6,
    "start_time": "2022-07-17T22:36:02.540Z"
   },
   {
    "duration": 5,
    "start_time": "2022-07-17T22:36:02.547Z"
   },
   {
    "duration": 6,
    "start_time": "2022-07-17T22:36:02.554Z"
   },
   {
    "duration": 8,
    "start_time": "2022-07-17T22:36:02.561Z"
   },
   {
    "duration": 5,
    "start_time": "2022-07-17T22:36:02.570Z"
   },
   {
    "duration": 5,
    "start_time": "2022-07-17T22:36:02.576Z"
   },
   {
    "duration": 4,
    "start_time": "2022-07-17T22:36:02.582Z"
   },
   {
    "duration": 15,
    "start_time": "2022-07-17T22:36:02.587Z"
   },
   {
    "duration": 60,
    "start_time": "2022-07-17T22:36:02.606Z"
   },
   {
    "duration": 0,
    "start_time": "2022-07-17T22:36:02.668Z"
   },
   {
    "duration": 0,
    "start_time": "2022-07-17T22:36:02.669Z"
   },
   {
    "duration": 0,
    "start_time": "2022-07-17T22:36:02.670Z"
   },
   {
    "duration": 0,
    "start_time": "2022-07-17T22:36:02.671Z"
   },
   {
    "duration": 0,
    "start_time": "2022-07-17T22:36:02.672Z"
   },
   {
    "duration": 0,
    "start_time": "2022-07-17T22:36:02.673Z"
   },
   {
    "duration": 0,
    "start_time": "2022-07-17T22:36:02.673Z"
   },
   {
    "duration": 0,
    "start_time": "2022-07-17T22:36:02.674Z"
   },
   {
    "duration": 0,
    "start_time": "2022-07-17T22:36:02.675Z"
   },
   {
    "duration": 0,
    "start_time": "2022-07-17T22:36:02.676Z"
   },
   {
    "duration": 0,
    "start_time": "2022-07-17T22:36:02.677Z"
   },
   {
    "duration": 0,
    "start_time": "2022-07-17T22:36:02.702Z"
   },
   {
    "duration": 6,
    "start_time": "2022-07-17T23:22:14.433Z"
   },
   {
    "duration": 7,
    "start_time": "2022-07-17T23:23:17.822Z"
   },
   {
    "duration": 7,
    "start_time": "2022-07-17T23:35:36.242Z"
   },
   {
    "duration": 1024,
    "start_time": "2022-07-17T23:36:16.990Z"
   },
   {
    "duration": 1172,
    "start_time": "2022-07-17T23:36:53.963Z"
   },
   {
    "duration": 1172,
    "start_time": "2022-07-17T23:37:06.289Z"
   },
   {
    "duration": 916,
    "start_time": "2022-07-17T23:38:11.128Z"
   },
   {
    "duration": 959,
    "start_time": "2022-07-17T23:38:31.603Z"
   },
   {
    "duration": 1132,
    "start_time": "2022-07-17T23:38:38.596Z"
   },
   {
    "duration": 1093,
    "start_time": "2022-07-17T23:38:53.219Z"
   },
   {
    "duration": 851,
    "start_time": "2022-07-17T23:38:57.628Z"
   },
   {
    "duration": 906,
    "start_time": "2022-07-17T23:39:42.739Z"
   },
   {
    "duration": 1135,
    "start_time": "2022-07-17T23:40:42.008Z"
   },
   {
    "duration": 1000,
    "start_time": "2022-07-17T23:40:54.000Z"
   },
   {
    "duration": 833,
    "start_time": "2022-07-17T23:41:05.949Z"
   },
   {
    "duration": 930,
    "start_time": "2022-07-17T23:41:39.607Z"
   },
   {
    "duration": 842,
    "start_time": "2022-07-17T23:41:57.039Z"
   },
   {
    "duration": 1017,
    "start_time": "2022-07-17T23:42:11.285Z"
   },
   {
    "duration": 988,
    "start_time": "2022-07-17T23:42:22.670Z"
   },
   {
    "duration": 913,
    "start_time": "2022-07-17T23:42:37.125Z"
   },
   {
    "duration": 975,
    "start_time": "2022-07-18T00:12:45.924Z"
   },
   {
    "duration": 911,
    "start_time": "2022-07-18T00:13:29.569Z"
   },
   {
    "duration": 906,
    "start_time": "2022-07-18T00:27:16.553Z"
   },
   {
    "duration": 940,
    "start_time": "2022-07-18T00:27:53.938Z"
   },
   {
    "duration": 904,
    "start_time": "2022-07-18T00:29:55.473Z"
   },
   {
    "duration": 926,
    "start_time": "2022-07-18T00:36:12.524Z"
   },
   {
    "duration": 978,
    "start_time": "2022-07-18T00:36:14.945Z"
   },
   {
    "duration": 865,
    "start_time": "2022-07-18T00:42:09.148Z"
   },
   {
    "duration": 912,
    "start_time": "2022-07-18T00:42:47.062Z"
   },
   {
    "duration": 998,
    "start_time": "2022-07-18T00:43:07.172Z"
   },
   {
    "duration": 915,
    "start_time": "2022-07-18T00:43:17.339Z"
   },
   {
    "duration": 952,
    "start_time": "2022-07-18T00:43:34.815Z"
   },
   {
    "duration": 909,
    "start_time": "2022-07-18T00:43:56.914Z"
   },
   {
    "duration": 1154,
    "start_time": "2022-07-18T00:45:03.597Z"
   },
   {
    "duration": 884,
    "start_time": "2022-07-18T00:45:57.301Z"
   },
   {
    "duration": 850,
    "start_time": "2022-07-18T00:46:26.660Z"
   },
   {
    "duration": 897,
    "start_time": "2022-07-18T00:46:46.396Z"
   },
   {
    "duration": 838,
    "start_time": "2022-07-18T00:53:41.462Z"
   },
   {
    "duration": 983,
    "start_time": "2022-07-18T00:54:00.821Z"
   },
   {
    "duration": 933,
    "start_time": "2022-07-18T00:54:34.862Z"
   },
   {
    "duration": 964,
    "start_time": "2022-07-18T00:54:57.673Z"
   },
   {
    "duration": 896,
    "start_time": "2022-07-18T00:59:17.089Z"
   },
   {
    "duration": 896,
    "start_time": "2022-07-18T01:07:33.189Z"
   },
   {
    "duration": 1163,
    "start_time": "2022-07-18T01:08:09.373Z"
   },
   {
    "duration": 917,
    "start_time": "2022-07-18T01:08:51.241Z"
   },
   {
    "duration": 882,
    "start_time": "2022-07-18T01:09:35.116Z"
   },
   {
    "duration": 941,
    "start_time": "2022-07-18T01:17:11.533Z"
   },
   {
    "duration": 11,
    "start_time": "2022-07-18T01:19:04.681Z"
   },
   {
    "duration": 13,
    "start_time": "2022-07-18T01:19:17.269Z"
   },
   {
    "duration": 1210,
    "start_time": "2022-07-18T01:20:25.816Z"
   },
   {
    "duration": 1047,
    "start_time": "2022-07-18T01:20:42.166Z"
   },
   {
    "duration": 972,
    "start_time": "2022-07-18T01:20:54.556Z"
   },
   {
    "duration": 940,
    "start_time": "2022-07-18T01:21:30.772Z"
   },
   {
    "duration": 925,
    "start_time": "2022-07-18T01:21:48.371Z"
   },
   {
    "duration": 584,
    "start_time": "2022-07-18T02:50:47.367Z"
   },
   {
    "duration": 19,
    "start_time": "2022-07-18T02:50:47.953Z"
   },
   {
    "duration": 18,
    "start_time": "2022-07-18T02:50:47.973Z"
   },
   {
    "duration": 29,
    "start_time": "2022-07-18T02:50:47.994Z"
   },
   {
    "duration": 27,
    "start_time": "2022-07-18T02:50:48.025Z"
   },
   {
    "duration": 13,
    "start_time": "2022-07-18T02:50:48.054Z"
   },
   {
    "duration": 10,
    "start_time": "2022-07-18T02:50:48.069Z"
   },
   {
    "duration": 27,
    "start_time": "2022-07-18T02:50:48.080Z"
   },
   {
    "duration": 128,
    "start_time": "2022-07-18T02:50:48.109Z"
   },
   {
    "duration": 7,
    "start_time": "2022-07-18T02:50:48.239Z"
   },
   {
    "duration": 6,
    "start_time": "2022-07-18T02:50:48.247Z"
   },
   {
    "duration": 15,
    "start_time": "2022-07-18T02:50:48.254Z"
   },
   {
    "duration": 6,
    "start_time": "2022-07-18T02:50:48.271Z"
   },
   {
    "duration": 12,
    "start_time": "2022-07-18T02:50:48.279Z"
   },
   {
    "duration": 8,
    "start_time": "2022-07-18T02:50:48.292Z"
   },
   {
    "duration": 8,
    "start_time": "2022-07-18T02:50:48.301Z"
   },
   {
    "duration": 39,
    "start_time": "2022-07-18T02:50:48.310Z"
   },
   {
    "duration": 8,
    "start_time": "2022-07-18T02:50:48.351Z"
   },
   {
    "duration": 16,
    "start_time": "2022-07-18T02:50:48.361Z"
   },
   {
    "duration": 2,
    "start_time": "2022-07-18T02:50:48.379Z"
   },
   {
    "duration": 7,
    "start_time": "2022-07-18T02:50:48.383Z"
   },
   {
    "duration": 16,
    "start_time": "2022-07-18T02:50:48.392Z"
   },
   {
    "duration": 40,
    "start_time": "2022-07-18T02:50:48.410Z"
   },
   {
    "duration": 14,
    "start_time": "2022-07-18T02:50:48.452Z"
   },
   {
    "duration": 2,
    "start_time": "2022-07-18T02:50:48.468Z"
   },
   {
    "duration": 11,
    "start_time": "2022-07-18T02:50:48.472Z"
   },
   {
    "duration": 17,
    "start_time": "2022-07-18T02:50:48.484Z"
   },
   {
    "duration": 44,
    "start_time": "2022-07-18T02:50:48.506Z"
   },
   {
    "duration": 7,
    "start_time": "2022-07-18T02:50:48.551Z"
   },
   {
    "duration": 16,
    "start_time": "2022-07-18T02:50:48.559Z"
   },
   {
    "duration": 8,
    "start_time": "2022-07-18T02:50:48.577Z"
   },
   {
    "duration": 7,
    "start_time": "2022-07-18T02:50:48.586Z"
   },
   {
    "duration": 15,
    "start_time": "2022-07-18T02:50:48.595Z"
   },
   {
    "duration": 5,
    "start_time": "2022-07-18T02:50:48.646Z"
   },
   {
    "duration": 11,
    "start_time": "2022-07-18T02:50:48.652Z"
   },
   {
    "duration": 12,
    "start_time": "2022-07-18T02:50:48.665Z"
   },
   {
    "duration": 5,
    "start_time": "2022-07-18T02:50:48.678Z"
   },
   {
    "duration": 7,
    "start_time": "2022-07-18T02:50:48.685Z"
   },
   {
    "duration": 5,
    "start_time": "2022-07-18T02:50:48.694Z"
   },
   {
    "duration": 11,
    "start_time": "2022-07-18T02:50:48.700Z"
   },
   {
    "duration": 5,
    "start_time": "2022-07-18T02:50:48.713Z"
   },
   {
    "duration": 12,
    "start_time": "2022-07-18T02:50:48.746Z"
   },
   {
    "duration": 4,
    "start_time": "2022-07-18T02:50:48.760Z"
   },
   {
    "duration": 7,
    "start_time": "2022-07-18T02:50:48.766Z"
   },
   {
    "duration": 10,
    "start_time": "2022-07-18T02:50:48.775Z"
   },
   {
    "duration": 9,
    "start_time": "2022-07-18T02:50:48.787Z"
   },
   {
    "duration": 12,
    "start_time": "2022-07-18T02:50:48.798Z"
   },
   {
    "duration": 3,
    "start_time": "2022-07-18T02:50:48.811Z"
   },
   {
    "duration": 95,
    "start_time": "2022-07-18T02:50:48.816Z"
   },
   {
    "duration": 34,
    "start_time": "2022-07-18T02:50:48.913Z"
   },
   {
    "duration": 3,
    "start_time": "2022-07-18T02:50:48.949Z"
   },
   {
    "duration": 29,
    "start_time": "2022-07-18T02:50:48.955Z"
   },
   {
    "duration": 18,
    "start_time": "2022-07-18T02:50:48.987Z"
   },
   {
    "duration": 27,
    "start_time": "2022-07-18T02:50:49.007Z"
   },
   {
    "duration": 16,
    "start_time": "2022-07-18T02:50:49.036Z"
   },
   {
    "duration": 7,
    "start_time": "2022-07-18T02:50:49.054Z"
   },
   {
    "duration": 22,
    "start_time": "2022-07-18T02:50:49.062Z"
   },
   {
    "duration": 16,
    "start_time": "2022-07-18T02:50:49.086Z"
   },
   {
    "duration": 4,
    "start_time": "2022-07-18T02:50:49.103Z"
   },
   {
    "duration": 6,
    "start_time": "2022-07-18T02:50:49.109Z"
   },
   {
    "duration": 31,
    "start_time": "2022-07-18T02:50:49.117Z"
   },
   {
    "duration": 8,
    "start_time": "2022-07-18T02:50:49.149Z"
   },
   {
    "duration": 12,
    "start_time": "2022-07-18T02:50:49.159Z"
   },
   {
    "duration": 22,
    "start_time": "2022-07-18T02:50:49.173Z"
   },
   {
    "duration": 18,
    "start_time": "2022-07-18T02:50:49.197Z"
   },
   {
    "duration": 39,
    "start_time": "2022-07-18T02:50:49.216Z"
   },
   {
    "duration": 5,
    "start_time": "2022-07-18T02:50:49.257Z"
   },
   {
    "duration": 133,
    "start_time": "2022-07-18T02:50:49.264Z"
   },
   {
    "duration": 0,
    "start_time": "2022-07-18T02:50:49.399Z"
   },
   {
    "duration": 0,
    "start_time": "2022-07-18T02:50:49.400Z"
   },
   {
    "duration": 0,
    "start_time": "2022-07-18T02:50:49.401Z"
   },
   {
    "duration": 0,
    "start_time": "2022-07-18T02:50:49.402Z"
   },
   {
    "duration": 0,
    "start_time": "2022-07-18T02:50:49.403Z"
   },
   {
    "duration": 0,
    "start_time": "2022-07-18T02:50:49.404Z"
   },
   {
    "duration": 0,
    "start_time": "2022-07-18T02:50:49.405Z"
   },
   {
    "duration": 0,
    "start_time": "2022-07-18T02:50:49.407Z"
   },
   {
    "duration": 0,
    "start_time": "2022-07-18T02:50:49.408Z"
   },
   {
    "duration": 0,
    "start_time": "2022-07-18T02:50:49.410Z"
   },
   {
    "duration": 0,
    "start_time": "2022-07-18T02:50:49.411Z"
   },
   {
    "duration": 0,
    "start_time": "2022-07-18T02:50:49.412Z"
   },
   {
    "duration": 0,
    "start_time": "2022-07-18T02:50:49.413Z"
   },
   {
    "duration": 0,
    "start_time": "2022-07-18T02:50:49.415Z"
   },
   {
    "duration": 0,
    "start_time": "2022-07-18T02:50:49.416Z"
   },
   {
    "duration": 0,
    "start_time": "2022-07-18T02:50:49.446Z"
   },
   {
    "duration": 0,
    "start_time": "2022-07-18T02:50:49.448Z"
   },
   {
    "duration": 0,
    "start_time": "2022-07-18T02:50:49.449Z"
   },
   {
    "duration": 0,
    "start_time": "2022-07-18T02:50:49.451Z"
   },
   {
    "duration": 0,
    "start_time": "2022-07-18T02:50:49.452Z"
   },
   {
    "duration": 0,
    "start_time": "2022-07-18T02:50:49.454Z"
   },
   {
    "duration": 0,
    "start_time": "2022-07-18T02:50:49.455Z"
   },
   {
    "duration": 0,
    "start_time": "2022-07-18T02:50:49.457Z"
   },
   {
    "duration": 0,
    "start_time": "2022-07-18T02:50:49.458Z"
   },
   {
    "duration": 0,
    "start_time": "2022-07-18T02:50:49.459Z"
   },
   {
    "duration": 0,
    "start_time": "2022-07-18T02:50:49.462Z"
   },
   {
    "duration": 4,
    "start_time": "2022-07-18T02:53:25.803Z"
   },
   {
    "duration": 24,
    "start_time": "2022-07-18T02:54:11.403Z"
   },
   {
    "duration": 12,
    "start_time": "2022-07-18T02:54:27.036Z"
   },
   {
    "duration": 535,
    "start_time": "2022-07-18T13:38:53.302Z"
   },
   {
    "duration": 20,
    "start_time": "2022-07-18T13:38:53.839Z"
   },
   {
    "duration": 25,
    "start_time": "2022-07-18T13:38:53.861Z"
   },
   {
    "duration": 29,
    "start_time": "2022-07-18T13:38:53.888Z"
   },
   {
    "duration": 7,
    "start_time": "2022-07-18T13:38:53.918Z"
   },
   {
    "duration": 31,
    "start_time": "2022-07-18T13:38:53.927Z"
   },
   {
    "duration": 10,
    "start_time": "2022-07-18T13:38:53.959Z"
   },
   {
    "duration": 19,
    "start_time": "2022-07-18T13:38:53.971Z"
   },
   {
    "duration": 145,
    "start_time": "2022-07-18T13:38:53.992Z"
   },
   {
    "duration": 3,
    "start_time": "2022-07-18T13:38:54.139Z"
   },
   {
    "duration": 10,
    "start_time": "2022-07-18T13:38:54.143Z"
   },
   {
    "duration": 17,
    "start_time": "2022-07-18T13:38:54.154Z"
   },
   {
    "duration": 10,
    "start_time": "2022-07-18T13:38:54.173Z"
   },
   {
    "duration": 14,
    "start_time": "2022-07-18T13:38:54.184Z"
   },
   {
    "duration": 4,
    "start_time": "2022-07-18T13:38:54.201Z"
   },
   {
    "duration": 10,
    "start_time": "2022-07-18T13:38:54.207Z"
   },
   {
    "duration": 42,
    "start_time": "2022-07-18T13:38:54.219Z"
   },
   {
    "duration": 9,
    "start_time": "2022-07-18T13:38:54.262Z"
   },
   {
    "duration": 15,
    "start_time": "2022-07-18T13:38:54.272Z"
   },
   {
    "duration": 2,
    "start_time": "2022-07-18T13:38:54.289Z"
   },
   {
    "duration": 10,
    "start_time": "2022-07-18T13:38:54.293Z"
   },
   {
    "duration": 48,
    "start_time": "2022-07-18T13:38:54.305Z"
   },
   {
    "duration": 9,
    "start_time": "2022-07-18T13:38:54.355Z"
   },
   {
    "duration": 14,
    "start_time": "2022-07-18T13:38:54.366Z"
   },
   {
    "duration": 3,
    "start_time": "2022-07-18T13:38:54.381Z"
   },
   {
    "duration": 14,
    "start_time": "2022-07-18T13:38:54.385Z"
   },
   {
    "duration": 17,
    "start_time": "2022-07-18T13:38:54.401Z"
   },
   {
    "duration": 35,
    "start_time": "2022-07-18T13:38:54.422Z"
   },
   {
    "duration": 5,
    "start_time": "2022-07-18T13:38:54.459Z"
   },
   {
    "duration": 19,
    "start_time": "2022-07-18T13:38:54.466Z"
   },
   {
    "duration": 6,
    "start_time": "2022-07-18T13:38:54.487Z"
   },
   {
    "duration": 7,
    "start_time": "2022-07-18T13:38:54.495Z"
   },
   {
    "duration": 21,
    "start_time": "2022-07-18T13:38:54.503Z"
   },
   {
    "duration": 30,
    "start_time": "2022-07-18T13:38:54.525Z"
   },
   {
    "duration": 10,
    "start_time": "2022-07-18T13:38:54.556Z"
   },
   {
    "duration": 11,
    "start_time": "2022-07-18T13:38:54.568Z"
   },
   {
    "duration": 5,
    "start_time": "2022-07-18T13:38:54.581Z"
   },
   {
    "duration": 5,
    "start_time": "2022-07-18T13:38:54.587Z"
   },
   {
    "duration": 24,
    "start_time": "2022-07-18T13:38:54.594Z"
   },
   {
    "duration": 10,
    "start_time": "2022-07-18T13:38:54.620Z"
   },
   {
    "duration": 6,
    "start_time": "2022-07-18T13:38:54.632Z"
   },
   {
    "duration": 15,
    "start_time": "2022-07-18T13:38:54.653Z"
   },
   {
    "duration": 3,
    "start_time": "2022-07-18T13:38:54.670Z"
   },
   {
    "duration": 5,
    "start_time": "2022-07-18T13:38:54.675Z"
   },
   {
    "duration": 14,
    "start_time": "2022-07-18T13:38:54.682Z"
   },
   {
    "duration": 7,
    "start_time": "2022-07-18T13:38:54.697Z"
   },
   {
    "duration": 12,
    "start_time": "2022-07-18T13:38:54.705Z"
   },
   {
    "duration": 3,
    "start_time": "2022-07-18T13:38:54.718Z"
   },
   {
    "duration": 76,
    "start_time": "2022-07-18T13:38:54.722Z"
   },
   {
    "duration": 21,
    "start_time": "2022-07-18T13:38:54.800Z"
   },
   {
    "duration": 2,
    "start_time": "2022-07-18T13:38:54.823Z"
   },
   {
    "duration": 38,
    "start_time": "2022-07-18T13:38:54.827Z"
   },
   {
    "duration": 10,
    "start_time": "2022-07-18T13:38:54.867Z"
   },
   {
    "duration": 24,
    "start_time": "2022-07-18T13:38:54.879Z"
   },
   {
    "duration": 15,
    "start_time": "2022-07-18T13:38:54.904Z"
   },
   {
    "duration": 33,
    "start_time": "2022-07-18T13:38:54.920Z"
   },
   {
    "duration": 11,
    "start_time": "2022-07-18T13:38:54.955Z"
   },
   {
    "duration": 14,
    "start_time": "2022-07-18T13:38:54.967Z"
   },
   {
    "duration": 4,
    "start_time": "2022-07-18T13:38:54.982Z"
   },
   {
    "duration": 11,
    "start_time": "2022-07-18T13:38:54.988Z"
   },
   {
    "duration": 24,
    "start_time": "2022-07-18T13:38:55.001Z"
   },
   {
    "duration": 7,
    "start_time": "2022-07-18T13:38:55.027Z"
   },
   {
    "duration": 21,
    "start_time": "2022-07-18T13:38:55.035Z"
   },
   {
    "duration": 40,
    "start_time": "2022-07-18T13:38:55.059Z"
   },
   {
    "duration": 20,
    "start_time": "2022-07-18T13:38:55.100Z"
   },
   {
    "duration": 32,
    "start_time": "2022-07-18T13:38:55.122Z"
   },
   {
    "duration": 5,
    "start_time": "2022-07-18T13:38:55.155Z"
   },
   {
    "duration": 72,
    "start_time": "2022-07-18T13:38:55.162Z"
   },
   {
    "duration": 0,
    "start_time": "2022-07-18T13:38:55.236Z"
   },
   {
    "duration": 0,
    "start_time": "2022-07-18T13:38:55.237Z"
   },
   {
    "duration": 0,
    "start_time": "2022-07-18T13:38:55.239Z"
   },
   {
    "duration": 0,
    "start_time": "2022-07-18T13:38:55.240Z"
   },
   {
    "duration": 0,
    "start_time": "2022-07-18T13:38:55.241Z"
   },
   {
    "duration": 0,
    "start_time": "2022-07-18T13:38:55.242Z"
   },
   {
    "duration": 0,
    "start_time": "2022-07-18T13:38:55.244Z"
   },
   {
    "duration": 0,
    "start_time": "2022-07-18T13:38:55.245Z"
   },
   {
    "duration": 0,
    "start_time": "2022-07-18T13:38:55.246Z"
   },
   {
    "duration": 0,
    "start_time": "2022-07-18T13:38:55.248Z"
   },
   {
    "duration": 0,
    "start_time": "2022-07-18T13:38:55.249Z"
   },
   {
    "duration": 0,
    "start_time": "2022-07-18T13:38:55.250Z"
   },
   {
    "duration": 0,
    "start_time": "2022-07-18T13:38:55.252Z"
   },
   {
    "duration": 0,
    "start_time": "2022-07-18T13:38:55.253Z"
   },
   {
    "duration": 0,
    "start_time": "2022-07-18T13:38:55.255Z"
   },
   {
    "duration": 0,
    "start_time": "2022-07-18T13:38:55.256Z"
   },
   {
    "duration": 0,
    "start_time": "2022-07-18T13:38:55.258Z"
   },
   {
    "duration": 0,
    "start_time": "2022-07-18T13:38:55.259Z"
   },
   {
    "duration": 0,
    "start_time": "2022-07-18T13:38:55.261Z"
   },
   {
    "duration": 0,
    "start_time": "2022-07-18T13:38:55.262Z"
   },
   {
    "duration": 0,
    "start_time": "2022-07-18T13:38:55.263Z"
   },
   {
    "duration": 1,
    "start_time": "2022-07-18T13:38:55.264Z"
   },
   {
    "duration": 0,
    "start_time": "2022-07-18T13:38:55.266Z"
   },
   {
    "duration": 0,
    "start_time": "2022-07-18T13:38:55.267Z"
   },
   {
    "duration": 0,
    "start_time": "2022-07-18T13:38:55.269Z"
   },
   {
    "duration": 0,
    "start_time": "2022-07-18T13:38:55.272Z"
   },
   {
    "duration": 18,
    "start_time": "2022-07-18T13:46:13.902Z"
   },
   {
    "duration": 13,
    "start_time": "2022-07-18T13:48:29.717Z"
   },
   {
    "duration": 11,
    "start_time": "2022-07-18T13:48:36.548Z"
   },
   {
    "duration": 10,
    "start_time": "2022-07-18T13:49:09.789Z"
   },
   {
    "duration": 12,
    "start_time": "2022-07-18T13:49:40.227Z"
   },
   {
    "duration": 11,
    "start_time": "2022-07-18T13:50:06.480Z"
   },
   {
    "duration": 18,
    "start_time": "2022-07-18T13:50:39.569Z"
   },
   {
    "duration": 19,
    "start_time": "2022-07-18T13:56:15.764Z"
   },
   {
    "duration": 9,
    "start_time": "2022-07-18T13:58:11.738Z"
   },
   {
    "duration": 9,
    "start_time": "2022-07-18T13:58:19.602Z"
   },
   {
    "duration": 10,
    "start_time": "2022-07-18T13:58:30.656Z"
   },
   {
    "duration": 19,
    "start_time": "2022-07-18T14:00:31.172Z"
   },
   {
    "duration": 88,
    "start_time": "2022-07-18T14:03:40.928Z"
   },
   {
    "duration": 75,
    "start_time": "2022-07-18T14:03:54.142Z"
   },
   {
    "duration": 81,
    "start_time": "2022-07-18T14:04:11.556Z"
   },
   {
    "duration": 70,
    "start_time": "2022-07-18T14:04:34.921Z"
   },
   {
    "duration": 103,
    "start_time": "2022-07-18T14:04:41.816Z"
   },
   {
    "duration": 10,
    "start_time": "2022-07-18T14:17:02.316Z"
   },
   {
    "duration": 19,
    "start_time": "2022-07-18T14:17:13.615Z"
   },
   {
    "duration": 21,
    "start_time": "2022-07-18T14:17:38.890Z"
   },
   {
    "duration": 434,
    "start_time": "2022-07-18T14:18:02.923Z"
   },
   {
    "duration": 20,
    "start_time": "2022-07-18T14:18:03.359Z"
   },
   {
    "duration": 15,
    "start_time": "2022-07-18T14:18:03.380Z"
   },
   {
    "duration": 27,
    "start_time": "2022-07-18T14:18:03.397Z"
   },
   {
    "duration": 6,
    "start_time": "2022-07-18T14:18:03.425Z"
   },
   {
    "duration": 14,
    "start_time": "2022-07-18T14:18:03.452Z"
   },
   {
    "duration": 17,
    "start_time": "2022-07-18T14:18:03.468Z"
   },
   {
    "duration": 18,
    "start_time": "2022-07-18T14:18:03.486Z"
   },
   {
    "duration": 111,
    "start_time": "2022-07-18T14:18:03.507Z"
   },
   {
    "duration": 2,
    "start_time": "2022-07-18T14:18:03.621Z"
   },
   {
    "duration": 12,
    "start_time": "2022-07-18T14:18:03.624Z"
   },
   {
    "duration": 15,
    "start_time": "2022-07-18T14:18:03.637Z"
   },
   {
    "duration": 14,
    "start_time": "2022-07-18T14:18:03.653Z"
   },
   {
    "duration": 16,
    "start_time": "2022-07-18T14:18:03.668Z"
   },
   {
    "duration": 7,
    "start_time": "2022-07-18T14:18:03.686Z"
   },
   {
    "duration": 12,
    "start_time": "2022-07-18T14:18:03.694Z"
   },
   {
    "duration": 16,
    "start_time": "2022-07-18T14:18:03.708Z"
   },
   {
    "duration": 9,
    "start_time": "2022-07-18T14:18:03.725Z"
   },
   {
    "duration": 32,
    "start_time": "2022-07-18T14:18:03.735Z"
   },
   {
    "duration": 2,
    "start_time": "2022-07-18T14:18:03.769Z"
   },
   {
    "duration": 8,
    "start_time": "2022-07-18T14:18:03.772Z"
   },
   {
    "duration": 16,
    "start_time": "2022-07-18T14:18:03.781Z"
   },
   {
    "duration": 7,
    "start_time": "2022-07-18T14:18:03.798Z"
   },
   {
    "duration": 13,
    "start_time": "2022-07-18T14:18:03.807Z"
   },
   {
    "duration": 2,
    "start_time": "2022-07-18T14:18:03.821Z"
   },
   {
    "duration": 11,
    "start_time": "2022-07-18T14:18:03.852Z"
   },
   {
    "duration": 20,
    "start_time": "2022-07-18T14:18:03.865Z"
   },
   {
    "duration": 7,
    "start_time": "2022-07-18T14:18:03.888Z"
   },
   {
    "duration": 6,
    "start_time": "2022-07-18T14:18:03.896Z"
   },
   {
    "duration": 15,
    "start_time": "2022-07-18T14:18:03.904Z"
   },
   {
    "duration": 6,
    "start_time": "2022-07-18T14:18:03.920Z"
   },
   {
    "duration": 7,
    "start_time": "2022-07-18T14:18:03.951Z"
   },
   {
    "duration": 29,
    "start_time": "2022-07-18T14:18:03.959Z"
   },
   {
    "duration": 5,
    "start_time": "2022-07-18T14:18:03.989Z"
   },
   {
    "duration": 9,
    "start_time": "2022-07-18T14:18:03.995Z"
   },
   {
    "duration": 7,
    "start_time": "2022-07-18T14:18:04.005Z"
   },
   {
    "duration": 3,
    "start_time": "2022-07-18T14:18:04.014Z"
   },
   {
    "duration": 5,
    "start_time": "2022-07-18T14:18:04.019Z"
   },
   {
    "duration": 5,
    "start_time": "2022-07-18T14:18:04.025Z"
   },
   {
    "duration": 8,
    "start_time": "2022-07-18T14:18:04.031Z"
   },
   {
    "duration": 18,
    "start_time": "2022-07-18T14:18:04.040Z"
   },
   {
    "duration": 18,
    "start_time": "2022-07-18T14:18:04.059Z"
   },
   {
    "duration": 3,
    "start_time": "2022-07-18T14:18:04.079Z"
   },
   {
    "duration": 4,
    "start_time": "2022-07-18T14:18:04.083Z"
   },
   {
    "duration": 6,
    "start_time": "2022-07-18T14:18:04.088Z"
   },
   {
    "duration": 5,
    "start_time": "2022-07-18T14:18:04.096Z"
   },
   {
    "duration": 10,
    "start_time": "2022-07-18T14:18:04.102Z"
   },
   {
    "duration": 2,
    "start_time": "2022-07-18T14:18:04.113Z"
   },
   {
    "duration": 66,
    "start_time": "2022-07-18T14:18:04.116Z"
   },
   {
    "duration": 18,
    "start_time": "2022-07-18T14:18:04.184Z"
   },
   {
    "duration": 2,
    "start_time": "2022-07-18T14:18:04.203Z"
   },
   {
    "duration": 14,
    "start_time": "2022-07-18T14:18:04.206Z"
   },
   {
    "duration": 7,
    "start_time": "2022-07-18T14:18:04.222Z"
   },
   {
    "duration": 16,
    "start_time": "2022-07-18T14:18:04.252Z"
   },
   {
    "duration": 11,
    "start_time": "2022-07-18T14:18:04.270Z"
   },
   {
    "duration": 6,
    "start_time": "2022-07-18T14:18:04.282Z"
   },
   {
    "duration": 7,
    "start_time": "2022-07-18T14:18:04.290Z"
   },
   {
    "duration": 9,
    "start_time": "2022-07-18T14:18:04.299Z"
   },
   {
    "duration": 3,
    "start_time": "2022-07-18T14:18:04.310Z"
   },
   {
    "duration": 5,
    "start_time": "2022-07-18T14:18:04.314Z"
   },
   {
    "duration": 40,
    "start_time": "2022-07-18T14:18:04.321Z"
   },
   {
    "duration": 5,
    "start_time": "2022-07-18T14:18:04.362Z"
   },
   {
    "duration": 7,
    "start_time": "2022-07-18T14:18:04.369Z"
   },
   {
    "duration": 19,
    "start_time": "2022-07-18T14:18:04.377Z"
   },
   {
    "duration": 17,
    "start_time": "2022-07-18T14:18:04.397Z"
   },
   {
    "duration": 49,
    "start_time": "2022-07-18T14:18:04.415Z"
   },
   {
    "duration": 4,
    "start_time": "2022-07-18T14:18:04.466Z"
   },
   {
    "duration": 13,
    "start_time": "2022-07-18T14:18:04.471Z"
   },
   {
    "duration": 16,
    "start_time": "2022-07-18T14:18:04.485Z"
   },
   {
    "duration": 16,
    "start_time": "2022-07-18T14:18:04.502Z"
   },
   {
    "duration": 2,
    "start_time": "2022-07-18T14:18:04.519Z"
   },
   {
    "duration": 31,
    "start_time": "2022-07-18T14:18:04.523Z"
   },
   {
    "duration": 14,
    "start_time": "2022-07-18T14:18:04.556Z"
   },
   {
    "duration": 9,
    "start_time": "2022-07-18T14:18:04.571Z"
   },
   {
    "duration": 8,
    "start_time": "2022-07-18T14:18:04.582Z"
   },
   {
    "duration": 5,
    "start_time": "2022-07-18T14:18:04.591Z"
   },
   {
    "duration": 6,
    "start_time": "2022-07-18T14:18:04.598Z"
   },
   {
    "duration": 6,
    "start_time": "2022-07-18T14:18:04.605Z"
   },
   {
    "duration": 4,
    "start_time": "2022-07-18T14:18:04.613Z"
   },
   {
    "duration": 8,
    "start_time": "2022-07-18T14:18:04.618Z"
   },
   {
    "duration": 70,
    "start_time": "2022-07-18T14:18:04.628Z"
   },
   {
    "duration": 0,
    "start_time": "2022-07-18T14:18:04.700Z"
   },
   {
    "duration": 0,
    "start_time": "2022-07-18T14:18:04.701Z"
   },
   {
    "duration": 0,
    "start_time": "2022-07-18T14:18:04.702Z"
   },
   {
    "duration": 0,
    "start_time": "2022-07-18T14:18:04.703Z"
   },
   {
    "duration": 0,
    "start_time": "2022-07-18T14:18:04.704Z"
   },
   {
    "duration": 0,
    "start_time": "2022-07-18T14:18:04.705Z"
   },
   {
    "duration": 0,
    "start_time": "2022-07-18T14:18:04.706Z"
   },
   {
    "duration": 0,
    "start_time": "2022-07-18T14:18:04.707Z"
   },
   {
    "duration": 0,
    "start_time": "2022-07-18T14:18:04.708Z"
   },
   {
    "duration": 0,
    "start_time": "2022-07-18T14:18:04.709Z"
   },
   {
    "duration": 0,
    "start_time": "2022-07-18T14:18:04.709Z"
   },
   {
    "duration": 0,
    "start_time": "2022-07-18T14:18:04.710Z"
   },
   {
    "duration": 8,
    "start_time": "2022-07-18T15:27:10.801Z"
   },
   {
    "duration": 77,
    "start_time": "2022-07-18T15:27:30.754Z"
   },
   {
    "duration": 2,
    "start_time": "2022-07-18T17:05:43.930Z"
   },
   {
    "duration": 8,
    "start_time": "2022-07-18T17:13:40.441Z"
   },
   {
    "duration": 17,
    "start_time": "2022-07-18T17:19:40.846Z"
   },
   {
    "duration": 77,
    "start_time": "2022-07-18T17:19:57.393Z"
   },
   {
    "duration": 10,
    "start_time": "2022-07-18T17:20:23.351Z"
   },
   {
    "duration": 7,
    "start_time": "2022-07-18T17:20:53.000Z"
   },
   {
    "duration": 7,
    "start_time": "2022-07-18T17:20:59.596Z"
   },
   {
    "duration": 4,
    "start_time": "2022-07-18T17:21:14.552Z"
   },
   {
    "duration": 4,
    "start_time": "2022-07-18T17:21:24.262Z"
   },
   {
    "duration": 5,
    "start_time": "2022-07-18T17:21:53.517Z"
   },
   {
    "duration": 8,
    "start_time": "2022-07-18T17:22:29.372Z"
   },
   {
    "duration": 18,
    "start_time": "2022-07-18T17:24:02.411Z"
   },
   {
    "duration": 6,
    "start_time": "2022-07-18T17:33:59.593Z"
   },
   {
    "duration": 17,
    "start_time": "2022-07-18T17:34:18.980Z"
   },
   {
    "duration": 13,
    "start_time": "2022-07-18T17:46:22.572Z"
   },
   {
    "duration": 5,
    "start_time": "2022-07-18T17:46:48.044Z"
   },
   {
    "duration": 11,
    "start_time": "2022-07-18T18:14:51.000Z"
   },
   {
    "duration": 72,
    "start_time": "2022-07-18T18:15:13.463Z"
   },
   {
    "duration": 18,
    "start_time": "2022-07-18T18:15:19.146Z"
   },
   {
    "duration": 11,
    "start_time": "2022-07-18T18:15:38.363Z"
   },
   {
    "duration": 12,
    "start_time": "2022-07-18T18:30:07.545Z"
   },
   {
    "duration": 11,
    "start_time": "2022-07-18T19:45:49.408Z"
   },
   {
    "duration": 14,
    "start_time": "2022-07-18T19:53:02.162Z"
   },
   {
    "duration": 21,
    "start_time": "2022-07-18T19:53:16.014Z"
   },
   {
    "duration": 2,
    "start_time": "2022-07-18T20:01:12.056Z"
   },
   {
    "duration": 9,
    "start_time": "2022-07-18T20:04:03.214Z"
   },
   {
    "duration": 16,
    "start_time": "2022-07-18T20:04:24.398Z"
   },
   {
    "duration": 81,
    "start_time": "2022-07-18T20:04:52.311Z"
   },
   {
    "duration": 6,
    "start_time": "2022-07-18T20:05:00.702Z"
   },
   {
    "duration": 9,
    "start_time": "2022-07-18T20:12:16.639Z"
   },
   {
    "duration": 16,
    "start_time": "2022-07-18T20:15:21.332Z"
   },
   {
    "duration": 12,
    "start_time": "2022-07-18T20:17:54.756Z"
   },
   {
    "duration": 9,
    "start_time": "2022-07-18T20:18:50.386Z"
   },
   {
    "duration": 9,
    "start_time": "2022-07-18T20:18:58.282Z"
   },
   {
    "duration": 8,
    "start_time": "2022-07-18T20:19:04.708Z"
   },
   {
    "duration": 7,
    "start_time": "2022-07-18T20:19:08.394Z"
   },
   {
    "duration": 9,
    "start_time": "2022-07-18T20:19:17.139Z"
   },
   {
    "duration": 13,
    "start_time": "2022-07-18T20:19:29.538Z"
   },
   {
    "duration": 12,
    "start_time": "2022-07-18T20:23:43.829Z"
   },
   {
    "duration": 11,
    "start_time": "2022-07-18T20:23:56.206Z"
   },
   {
    "duration": 2,
    "start_time": "2022-07-18T21:21:49.049Z"
   },
   {
    "duration": 6,
    "start_time": "2022-07-18T21:24:36.209Z"
   },
   {
    "duration": 16,
    "start_time": "2022-07-18T21:25:58.918Z"
   },
   {
    "duration": 16,
    "start_time": "2022-07-18T21:26:18.844Z"
   },
   {
    "duration": 71,
    "start_time": "2022-07-18T21:26:23.734Z"
   },
   {
    "duration": 16,
    "start_time": "2022-07-18T21:26:29.450Z"
   },
   {
    "duration": 15,
    "start_time": "2022-07-18T21:26:32.203Z"
   },
   {
    "duration": 15,
    "start_time": "2022-07-18T21:26:57.256Z"
   },
   {
    "duration": 16,
    "start_time": "2022-07-18T21:48:31.701Z"
   },
   {
    "duration": 14,
    "start_time": "2022-07-18T21:48:47.189Z"
   },
   {
    "duration": 12,
    "start_time": "2022-07-18T21:50:38.727Z"
   },
   {
    "duration": 15,
    "start_time": "2022-07-18T21:50:42.877Z"
   },
   {
    "duration": 7,
    "start_time": "2022-07-18T21:52:48.767Z"
   },
   {
    "duration": 70,
    "start_time": "2022-07-18T22:22:35.237Z"
   },
   {
    "duration": 80,
    "start_time": "2022-07-18T22:22:51.429Z"
   },
   {
    "duration": 9,
    "start_time": "2022-07-18T22:23:25.173Z"
   },
   {
    "duration": 306,
    "start_time": "2022-07-18T22:35:16.223Z"
   },
   {
    "duration": 255,
    "start_time": "2022-07-18T22:35:25.361Z"
   },
   {
    "duration": 13,
    "start_time": "2022-07-18T22:35:55.454Z"
   },
   {
    "duration": 4,
    "start_time": "2022-07-18T22:38:04.819Z"
   },
   {
    "duration": 7,
    "start_time": "2022-07-18T22:38:08.646Z"
   },
   {
    "duration": 9,
    "start_time": "2022-07-18T22:39:19.763Z"
   },
   {
    "duration": 9,
    "start_time": "2022-07-18T22:39:48.434Z"
   },
   {
    "duration": 10,
    "start_time": "2022-07-18T22:40:07.507Z"
   },
   {
    "duration": 30,
    "start_time": "2022-07-18T22:40:36.081Z"
   },
   {
    "duration": 9,
    "start_time": "2022-07-18T22:41:04.271Z"
   },
   {
    "duration": 15,
    "start_time": "2022-07-18T22:41:13.141Z"
   },
   {
    "duration": 443,
    "start_time": "2022-07-18T22:41:17.579Z"
   },
   {
    "duration": 18,
    "start_time": "2022-07-18T22:41:18.024Z"
   },
   {
    "duration": 17,
    "start_time": "2022-07-18T22:41:18.044Z"
   },
   {
    "duration": 32,
    "start_time": "2022-07-18T22:41:18.063Z"
   },
   {
    "duration": 6,
    "start_time": "2022-07-18T22:41:18.096Z"
   },
   {
    "duration": 13,
    "start_time": "2022-07-18T22:41:18.103Z"
   },
   {
    "duration": 38,
    "start_time": "2022-07-18T22:41:18.117Z"
   },
   {
    "duration": 20,
    "start_time": "2022-07-18T22:41:18.157Z"
   },
   {
    "duration": 118,
    "start_time": "2022-07-18T22:41:18.178Z"
   },
   {
    "duration": 3,
    "start_time": "2022-07-18T22:41:18.299Z"
   },
   {
    "duration": 16,
    "start_time": "2022-07-18T22:41:18.303Z"
   },
   {
    "duration": 22,
    "start_time": "2022-07-18T22:41:18.322Z"
   },
   {
    "duration": 12,
    "start_time": "2022-07-18T22:41:18.346Z"
   },
   {
    "duration": 11,
    "start_time": "2022-07-18T22:41:18.360Z"
   },
   {
    "duration": 8,
    "start_time": "2022-07-18T22:41:18.373Z"
   },
   {
    "duration": 9,
    "start_time": "2022-07-18T22:41:18.382Z"
   },
   {
    "duration": 15,
    "start_time": "2022-07-18T22:41:18.393Z"
   },
   {
    "duration": 9,
    "start_time": "2022-07-18T22:41:18.410Z"
   },
   {
    "duration": 34,
    "start_time": "2022-07-18T22:41:18.420Z"
   },
   {
    "duration": 3,
    "start_time": "2022-07-18T22:41:18.455Z"
   },
   {
    "duration": 9,
    "start_time": "2022-07-18T22:41:18.459Z"
   },
   {
    "duration": 19,
    "start_time": "2022-07-18T22:41:18.469Z"
   },
   {
    "duration": 9,
    "start_time": "2022-07-18T22:41:18.490Z"
   },
   {
    "duration": 25,
    "start_time": "2022-07-18T22:41:18.500Z"
   },
   {
    "duration": 2,
    "start_time": "2022-07-18T22:41:18.526Z"
   },
   {
    "duration": 28,
    "start_time": "2022-07-18T22:41:18.529Z"
   },
   {
    "duration": 32,
    "start_time": "2022-07-18T22:41:18.558Z"
   },
   {
    "duration": 10,
    "start_time": "2022-07-18T22:41:18.595Z"
   },
   {
    "duration": 6,
    "start_time": "2022-07-18T22:41:18.607Z"
   },
   {
    "duration": 17,
    "start_time": "2022-07-18T22:41:18.615Z"
   },
   {
    "duration": 8,
    "start_time": "2022-07-18T22:41:18.651Z"
   },
   {
    "duration": 6,
    "start_time": "2022-07-18T22:41:18.661Z"
   },
   {
    "duration": 18,
    "start_time": "2022-07-18T22:41:18.669Z"
   },
   {
    "duration": 6,
    "start_time": "2022-07-18T22:41:18.689Z"
   },
   {
    "duration": 9,
    "start_time": "2022-07-18T22:41:18.697Z"
   },
   {
    "duration": 13,
    "start_time": "2022-07-18T22:41:18.707Z"
   },
   {
    "duration": 5,
    "start_time": "2022-07-18T22:41:18.751Z"
   },
   {
    "duration": 7,
    "start_time": "2022-07-18T22:41:18.757Z"
   },
   {
    "duration": 5,
    "start_time": "2022-07-18T22:41:18.765Z"
   },
   {
    "duration": 9,
    "start_time": "2022-07-18T22:41:18.772Z"
   },
   {
    "duration": 5,
    "start_time": "2022-07-18T22:41:18.782Z"
   },
   {
    "duration": 12,
    "start_time": "2022-07-18T22:41:18.788Z"
   },
   {
    "duration": 7,
    "start_time": "2022-07-18T22:41:18.802Z"
   },
   {
    "duration": 8,
    "start_time": "2022-07-18T22:41:18.810Z"
   },
   {
    "duration": 11,
    "start_time": "2022-07-18T22:41:18.820Z"
   },
   {
    "duration": 24,
    "start_time": "2022-07-18T22:41:18.833Z"
   },
   {
    "duration": 14,
    "start_time": "2022-07-18T22:41:18.859Z"
   },
   {
    "duration": 4,
    "start_time": "2022-07-18T22:41:18.875Z"
   },
   {
    "duration": 48,
    "start_time": "2022-07-18T22:41:18.881Z"
   },
   {
    "duration": 41,
    "start_time": "2022-07-18T22:41:18.931Z"
   },
   {
    "duration": 2,
    "start_time": "2022-07-18T22:41:18.974Z"
   },
   {
    "duration": 15,
    "start_time": "2022-07-18T22:41:18.978Z"
   },
   {
    "duration": 9,
    "start_time": "2022-07-18T22:41:18.995Z"
   },
   {
    "duration": 15,
    "start_time": "2022-07-18T22:41:19.006Z"
   },
   {
    "duration": 12,
    "start_time": "2022-07-18T22:41:19.052Z"
   },
   {
    "duration": 8,
    "start_time": "2022-07-18T22:41:19.065Z"
   },
   {
    "duration": 9,
    "start_time": "2022-07-18T22:41:19.074Z"
   },
   {
    "duration": 10,
    "start_time": "2022-07-18T22:41:19.084Z"
   },
   {
    "duration": 3,
    "start_time": "2022-07-18T22:41:19.095Z"
   },
   {
    "duration": 6,
    "start_time": "2022-07-18T22:41:19.100Z"
   },
   {
    "duration": 45,
    "start_time": "2022-07-18T22:41:19.108Z"
   },
   {
    "duration": 6,
    "start_time": "2022-07-18T22:41:19.155Z"
   },
   {
    "duration": 7,
    "start_time": "2022-07-18T22:41:19.163Z"
   },
   {
    "duration": 20,
    "start_time": "2022-07-18T22:41:19.172Z"
   },
   {
    "duration": 18,
    "start_time": "2022-07-18T22:41:19.194Z"
   },
   {
    "duration": 53,
    "start_time": "2022-07-18T22:41:19.214Z"
   },
   {
    "duration": 4,
    "start_time": "2022-07-18T22:41:19.269Z"
   },
   {
    "duration": 16,
    "start_time": "2022-07-18T22:41:19.275Z"
   },
   {
    "duration": 21,
    "start_time": "2022-07-18T22:41:19.293Z"
   },
   {
    "duration": 3,
    "start_time": "2022-07-18T22:41:19.316Z"
   },
   {
    "duration": 32,
    "start_time": "2022-07-18T22:41:19.320Z"
   },
   {
    "duration": 22,
    "start_time": "2022-07-18T22:41:19.354Z"
   },
   {
    "duration": 17,
    "start_time": "2022-07-18T22:41:19.377Z"
   },
   {
    "duration": 3,
    "start_time": "2022-07-18T22:41:19.395Z"
   },
   {
    "duration": 9,
    "start_time": "2022-07-18T22:41:19.399Z"
   },
   {
    "duration": 8,
    "start_time": "2022-07-18T22:41:19.410Z"
   },
   {
    "duration": 5,
    "start_time": "2022-07-18T22:41:19.420Z"
   },
   {
    "duration": 3,
    "start_time": "2022-07-18T22:41:19.451Z"
   },
   {
    "duration": 11,
    "start_time": "2022-07-18T22:41:19.456Z"
   },
   {
    "duration": 4,
    "start_time": "2022-07-18T22:41:19.469Z"
   },
   {
    "duration": 5,
    "start_time": "2022-07-18T22:41:19.475Z"
   },
   {
    "duration": 7,
    "start_time": "2022-07-18T22:41:19.485Z"
   },
   {
    "duration": 6,
    "start_time": "2022-07-18T22:41:19.493Z"
   },
   {
    "duration": 79,
    "start_time": "2022-07-18T22:41:19.501Z"
   },
   {
    "duration": 0,
    "start_time": "2022-07-18T22:41:19.582Z"
   },
   {
    "duration": 0,
    "start_time": "2022-07-18T22:41:19.583Z"
   },
   {
    "duration": 0,
    "start_time": "2022-07-18T22:41:19.584Z"
   },
   {
    "duration": 0,
    "start_time": "2022-07-18T22:41:19.584Z"
   },
   {
    "duration": 0,
    "start_time": "2022-07-18T22:41:19.586Z"
   },
   {
    "duration": 0,
    "start_time": "2022-07-18T22:41:19.587Z"
   },
   {
    "duration": 0,
    "start_time": "2022-07-18T22:41:19.588Z"
   },
   {
    "duration": 0,
    "start_time": "2022-07-18T22:41:19.589Z"
   },
   {
    "duration": 0,
    "start_time": "2022-07-18T22:41:19.590Z"
   },
   {
    "duration": 0,
    "start_time": "2022-07-18T22:41:19.591Z"
   },
   {
    "duration": 0,
    "start_time": "2022-07-18T22:41:19.592Z"
   },
   {
    "duration": 0,
    "start_time": "2022-07-18T22:41:19.593Z"
   },
   {
    "duration": 0,
    "start_time": "2022-07-18T22:41:19.594Z"
   },
   {
    "duration": 0,
    "start_time": "2022-07-18T22:41:19.595Z"
   },
   {
    "duration": 0,
    "start_time": "2022-07-18T22:41:19.595Z"
   },
   {
    "duration": 0,
    "start_time": "2022-07-18T22:41:19.596Z"
   },
   {
    "duration": 0,
    "start_time": "2022-07-18T22:41:19.597Z"
   },
   {
    "duration": 19,
    "start_time": "2022-07-18T22:42:54.283Z"
   },
   {
    "duration": 10,
    "start_time": "2022-07-18T22:43:31.864Z"
   },
   {
    "duration": 10,
    "start_time": "2022-07-18T22:43:49.948Z"
   },
   {
    "duration": 1122,
    "start_time": "2022-07-18T22:44:07.460Z"
   },
   {
    "duration": 10,
    "start_time": "2022-07-18T22:44:17.567Z"
   },
   {
    "duration": 10,
    "start_time": "2022-07-18T22:46:22.403Z"
   },
   {
    "duration": 9,
    "start_time": "2022-07-18T22:46:42.278Z"
   },
   {
    "duration": 16,
    "start_time": "2022-07-18T22:50:13.703Z"
   },
   {
    "duration": 9,
    "start_time": "2022-07-18T22:51:30.441Z"
   },
   {
    "duration": 82,
    "start_time": "2022-07-18T22:53:25.638Z"
   },
   {
    "duration": 23,
    "start_time": "2022-07-19T00:03:14.593Z"
   },
   {
    "duration": 10,
    "start_time": "2022-07-19T00:03:28.542Z"
   },
   {
    "duration": 72,
    "start_time": "2022-07-19T00:03:42.193Z"
   },
   {
    "duration": 8,
    "start_time": "2022-07-19T00:03:53.020Z"
   },
   {
    "duration": 8,
    "start_time": "2022-07-19T00:04:19.244Z"
   },
   {
    "duration": 21,
    "start_time": "2022-07-19T00:04:39.424Z"
   },
   {
    "duration": 23,
    "start_time": "2022-07-19T00:04:45.819Z"
   },
   {
    "duration": 114,
    "start_time": "2022-07-19T15:16:54.848Z"
   },
   {
    "duration": 63,
    "start_time": "2022-07-19T15:17:02.529Z"
   },
   {
    "duration": 50,
    "start_time": "2022-07-19T15:17:45.452Z"
   },
   {
    "duration": 10,
    "start_time": "2022-07-19T15:18:39.442Z"
   },
   {
    "duration": 714,
    "start_time": "2022-07-19T15:18:50.637Z"
   },
   {
    "duration": 24,
    "start_time": "2022-07-19T15:18:51.354Z"
   },
   {
    "duration": 19,
    "start_time": "2022-07-19T15:18:51.379Z"
   },
   {
    "duration": 95,
    "start_time": "2022-07-19T15:18:51.400Z"
   },
   {
    "duration": 8,
    "start_time": "2022-07-19T15:18:51.498Z"
   },
   {
    "duration": 64,
    "start_time": "2022-07-19T15:18:51.507Z"
   },
   {
    "duration": 29,
    "start_time": "2022-07-19T15:18:51.573Z"
   },
   {
    "duration": 51,
    "start_time": "2022-07-19T15:18:51.604Z"
   },
   {
    "duration": 180,
    "start_time": "2022-07-19T15:18:51.657Z"
   },
   {
    "duration": 6,
    "start_time": "2022-07-19T15:18:51.839Z"
   },
   {
    "duration": 16,
    "start_time": "2022-07-19T15:18:51.846Z"
   },
   {
    "duration": 17,
    "start_time": "2022-07-19T15:18:51.863Z"
   },
   {
    "duration": 6,
    "start_time": "2022-07-19T15:18:51.882Z"
   },
   {
    "duration": 11,
    "start_time": "2022-07-19T15:18:51.892Z"
   },
   {
    "duration": 13,
    "start_time": "2022-07-19T15:18:51.909Z"
   },
   {
    "duration": 36,
    "start_time": "2022-07-19T15:18:51.931Z"
   },
   {
    "duration": 25,
    "start_time": "2022-07-19T15:18:51.969Z"
   },
   {
    "duration": 8,
    "start_time": "2022-07-19T15:18:51.996Z"
   },
   {
    "duration": 27,
    "start_time": "2022-07-19T15:18:52.005Z"
   },
   {
    "duration": 26,
    "start_time": "2022-07-19T15:18:52.035Z"
   },
   {
    "duration": 11,
    "start_time": "2022-07-19T15:18:52.062Z"
   },
   {
    "duration": 19,
    "start_time": "2022-07-19T15:18:52.075Z"
   },
   {
    "duration": 12,
    "start_time": "2022-07-19T15:18:52.095Z"
   },
   {
    "duration": 55,
    "start_time": "2022-07-19T15:18:52.109Z"
   },
   {
    "duration": 2,
    "start_time": "2022-07-19T15:18:52.166Z"
   },
   {
    "duration": 11,
    "start_time": "2022-07-19T15:18:52.170Z"
   },
   {
    "duration": 17,
    "start_time": "2022-07-19T15:18:52.183Z"
   },
   {
    "duration": 13,
    "start_time": "2022-07-19T15:18:52.202Z"
   },
   {
    "duration": 39,
    "start_time": "2022-07-19T15:18:52.216Z"
   },
   {
    "duration": 20,
    "start_time": "2022-07-19T15:18:52.257Z"
   },
   {
    "duration": 6,
    "start_time": "2022-07-19T15:18:52.278Z"
   },
   {
    "duration": 8,
    "start_time": "2022-07-19T15:18:52.286Z"
   },
   {
    "duration": 25,
    "start_time": "2022-07-19T15:18:52.296Z"
   },
   {
    "duration": 34,
    "start_time": "2022-07-19T15:18:52.323Z"
   },
   {
    "duration": 14,
    "start_time": "2022-07-19T15:18:52.359Z"
   },
   {
    "duration": 21,
    "start_time": "2022-07-19T15:18:52.375Z"
   },
   {
    "duration": 6,
    "start_time": "2022-07-19T15:18:52.398Z"
   },
   {
    "duration": 10,
    "start_time": "2022-07-19T15:18:52.406Z"
   },
   {
    "duration": 5,
    "start_time": "2022-07-19T15:18:52.417Z"
   },
   {
    "duration": 40,
    "start_time": "2022-07-19T15:18:52.423Z"
   },
   {
    "duration": 5,
    "start_time": "2022-07-19T15:18:52.467Z"
   },
   {
    "duration": 12,
    "start_time": "2022-07-19T15:18:52.473Z"
   },
   {
    "duration": 2,
    "start_time": "2022-07-19T15:18:52.487Z"
   },
   {
    "duration": 7,
    "start_time": "2022-07-19T15:18:52.490Z"
   },
   {
    "duration": 21,
    "start_time": "2022-07-19T15:18:52.499Z"
   },
   {
    "duration": 27,
    "start_time": "2022-07-19T15:18:52.529Z"
   },
   {
    "duration": 13,
    "start_time": "2022-07-19T15:18:52.557Z"
   },
   {
    "duration": 5,
    "start_time": "2022-07-19T15:18:52.571Z"
   },
   {
    "duration": 74,
    "start_time": "2022-07-19T15:18:52.577Z"
   },
   {
    "duration": 22,
    "start_time": "2022-07-19T15:18:52.652Z"
   },
   {
    "duration": 2,
    "start_time": "2022-07-19T15:18:52.676Z"
   },
   {
    "duration": 34,
    "start_time": "2022-07-19T15:18:52.680Z"
   },
   {
    "duration": 26,
    "start_time": "2022-07-19T15:18:52.719Z"
   },
   {
    "duration": 21,
    "start_time": "2022-07-19T15:18:52.746Z"
   },
   {
    "duration": 11,
    "start_time": "2022-07-19T15:18:52.768Z"
   },
   {
    "duration": 7,
    "start_time": "2022-07-19T15:18:52.780Z"
   },
   {
    "duration": 11,
    "start_time": "2022-07-19T15:18:52.789Z"
   },
   {
    "duration": 55,
    "start_time": "2022-07-19T15:18:52.801Z"
   },
   {
    "duration": 3,
    "start_time": "2022-07-19T15:18:52.858Z"
   },
   {
    "duration": 8,
    "start_time": "2022-07-19T15:18:52.863Z"
   },
   {
    "duration": 10,
    "start_time": "2022-07-19T15:18:52.872Z"
   },
   {
    "duration": 4,
    "start_time": "2022-07-19T15:18:52.883Z"
   },
   {
    "duration": 8,
    "start_time": "2022-07-19T15:18:52.888Z"
   },
   {
    "duration": 36,
    "start_time": "2022-07-19T15:18:52.897Z"
   },
   {
    "duration": 31,
    "start_time": "2022-07-19T15:18:52.936Z"
   },
   {
    "duration": 18,
    "start_time": "2022-07-19T15:18:52.968Z"
   },
   {
    "duration": 5,
    "start_time": "2022-07-19T15:18:52.988Z"
   },
   {
    "duration": 45,
    "start_time": "2022-07-19T15:18:52.995Z"
   },
   {
    "duration": 28,
    "start_time": "2022-07-19T15:18:53.041Z"
   },
   {
    "duration": 2,
    "start_time": "2022-07-19T15:18:53.071Z"
   },
   {
    "duration": 5,
    "start_time": "2022-07-19T15:18:53.075Z"
   },
   {
    "duration": 35,
    "start_time": "2022-07-19T15:18:53.082Z"
   },
   {
    "duration": 27,
    "start_time": "2022-07-19T15:18:53.127Z"
   },
   {
    "duration": 13,
    "start_time": "2022-07-19T15:18:53.156Z"
   },
   {
    "duration": 7,
    "start_time": "2022-07-19T15:18:53.170Z"
   },
   {
    "duration": 20,
    "start_time": "2022-07-19T15:18:53.178Z"
   },
   {
    "duration": 38,
    "start_time": "2022-07-19T15:18:53.200Z"
   },
   {
    "duration": 24,
    "start_time": "2022-07-19T15:18:53.239Z"
   },
   {
    "duration": 11,
    "start_time": "2022-07-19T15:18:53.265Z"
   },
   {
    "duration": 8,
    "start_time": "2022-07-19T15:18:53.277Z"
   },
   {
    "duration": 10,
    "start_time": "2022-07-19T15:18:53.286Z"
   },
   {
    "duration": 11,
    "start_time": "2022-07-19T15:18:53.298Z"
   },
   {
    "duration": 51,
    "start_time": "2022-07-19T15:18:53.315Z"
   },
   {
    "duration": 129,
    "start_time": "2022-07-19T15:18:53.368Z"
   },
   {
    "duration": 5,
    "start_time": "2022-07-19T15:18:53.499Z"
   },
   {
    "duration": 27,
    "start_time": "2022-07-19T15:18:53.514Z"
   },
   {
    "duration": 23,
    "start_time": "2022-07-19T15:18:53.543Z"
   },
   {
    "duration": 22,
    "start_time": "2022-07-19T15:18:53.568Z"
   },
   {
    "duration": 89,
    "start_time": "2022-07-19T15:18:53.592Z"
   },
   {
    "duration": 0,
    "start_time": "2022-07-19T15:18:53.683Z"
   },
   {
    "duration": 0,
    "start_time": "2022-07-19T15:18:53.685Z"
   },
   {
    "duration": 0,
    "start_time": "2022-07-19T15:18:53.686Z"
   },
   {
    "duration": 0,
    "start_time": "2022-07-19T15:18:53.687Z"
   },
   {
    "duration": 0,
    "start_time": "2022-07-19T15:18:53.689Z"
   },
   {
    "duration": 0,
    "start_time": "2022-07-19T15:18:53.690Z"
   },
   {
    "duration": 0,
    "start_time": "2022-07-19T15:18:53.715Z"
   },
   {
    "duration": 0,
    "start_time": "2022-07-19T15:18:53.716Z"
   },
   {
    "duration": 1,
    "start_time": "2022-07-19T15:18:53.716Z"
   },
   {
    "duration": 10,
    "start_time": "2022-07-19T15:19:25.340Z"
   },
   {
    "duration": 141,
    "start_time": "2022-07-19T15:19:51.334Z"
   },
   {
    "duration": 145,
    "start_time": "2022-07-19T15:20:14.886Z"
   },
   {
    "duration": 138,
    "start_time": "2022-07-19T15:20:30.448Z"
   },
   {
    "duration": 139,
    "start_time": "2022-07-19T15:21:33.849Z"
   },
   {
    "duration": 156,
    "start_time": "2022-07-19T15:21:54.942Z"
   },
   {
    "duration": 131,
    "start_time": "2022-07-19T15:49:36.654Z"
   },
   {
    "duration": 162,
    "start_time": "2022-07-19T15:49:50.895Z"
   },
   {
    "duration": 2271,
    "start_time": "2022-07-19T15:52:19.790Z"
   },
   {
    "duration": 2138,
    "start_time": "2022-07-19T15:54:03.205Z"
   },
   {
    "duration": 79,
    "start_time": "2022-07-19T15:56:36.690Z"
   },
   {
    "duration": 2463,
    "start_time": "2022-07-19T15:56:46.118Z"
   },
   {
    "duration": 25,
    "start_time": "2022-07-19T16:16:41.220Z"
   },
   {
    "duration": 12,
    "start_time": "2022-07-19T16:17:04.331Z"
   },
   {
    "duration": 14,
    "start_time": "2022-07-19T16:17:39.432Z"
   },
   {
    "duration": 19,
    "start_time": "2022-07-19T16:20:42.567Z"
   },
   {
    "duration": 14,
    "start_time": "2022-07-19T16:21:59.189Z"
   },
   {
    "duration": 8,
    "start_time": "2022-07-19T18:28:22.695Z"
   },
   {
    "duration": 11,
    "start_time": "2022-07-19T18:36:46.078Z"
   },
   {
    "duration": 7,
    "start_time": "2022-07-19T18:37:26.239Z"
   },
   {
    "duration": 11,
    "start_time": "2022-07-19T18:37:34.773Z"
   },
   {
    "duration": 15,
    "start_time": "2022-07-19T18:37:54.861Z"
   },
   {
    "duration": 18,
    "start_time": "2022-07-19T18:37:59.390Z"
   },
   {
    "duration": 14,
    "start_time": "2022-07-19T18:41:23.937Z"
   },
   {
    "duration": 10,
    "start_time": "2022-07-19T18:41:45.639Z"
   },
   {
    "duration": 15,
    "start_time": "2022-07-19T18:42:13.321Z"
   },
   {
    "duration": 9,
    "start_time": "2022-07-19T18:42:16.173Z"
   },
   {
    "duration": 10,
    "start_time": "2022-07-19T18:47:00.287Z"
   },
   {
    "duration": 10,
    "start_time": "2022-07-19T18:47:16.491Z"
   },
   {
    "duration": 16,
    "start_time": "2022-07-19T18:47:51.909Z"
   },
   {
    "duration": 21,
    "start_time": "2022-07-19T18:48:13.743Z"
   },
   {
    "duration": 1003,
    "start_time": "2022-07-19T18:48:40.627Z"
   },
   {
    "duration": 1114,
    "start_time": "2022-07-19T18:48:45.190Z"
   },
   {
    "duration": 67,
    "start_time": "2022-07-19T18:49:01.755Z"
   },
   {
    "duration": 10,
    "start_time": "2022-07-19T18:49:08.863Z"
   },
   {
    "duration": 962,
    "start_time": "2022-07-19T18:49:36.701Z"
   },
   {
    "duration": 756,
    "start_time": "2022-07-19T18:50:23.645Z"
   },
   {
    "duration": 13,
    "start_time": "2022-07-19T18:50:40.213Z"
   },
   {
    "duration": 11,
    "start_time": "2022-07-19T18:50:54.226Z"
   },
   {
    "duration": 13,
    "start_time": "2022-07-19T18:51:09.930Z"
   },
   {
    "duration": 10,
    "start_time": "2022-07-19T18:51:21.764Z"
   },
   {
    "duration": 9,
    "start_time": "2022-07-19T18:52:01.821Z"
   },
   {
    "duration": 7,
    "start_time": "2022-07-19T18:52:26.636Z"
   },
   {
    "duration": 11,
    "start_time": "2022-07-19T18:53:58.027Z"
   },
   {
    "duration": 9,
    "start_time": "2022-07-19T18:57:03.721Z"
   },
   {
    "duration": 7,
    "start_time": "2022-07-19T18:57:29.162Z"
   },
   {
    "duration": 101,
    "start_time": "2022-07-19T19:32:11.490Z"
   },
   {
    "duration": 8,
    "start_time": "2022-07-19T19:35:01.913Z"
   },
   {
    "duration": 112,
    "start_time": "2022-07-19T19:39:59.804Z"
   },
   {
    "duration": 8,
    "start_time": "2022-07-19T19:40:05.571Z"
   },
   {
    "duration": 64,
    "start_time": "2022-07-19T19:40:20.591Z"
   },
   {
    "duration": 8,
    "start_time": "2022-07-19T19:40:24.550Z"
   },
   {
    "duration": 7,
    "start_time": "2022-07-19T19:41:13.139Z"
   },
   {
    "duration": 12,
    "start_time": "2022-07-19T19:41:40.098Z"
   },
   {
    "duration": 10,
    "start_time": "2022-07-19T19:41:50.866Z"
   },
   {
    "duration": 12,
    "start_time": "2022-07-19T19:41:58.828Z"
   },
   {
    "duration": 13,
    "start_time": "2022-07-19T19:42:31.300Z"
   },
   {
    "duration": 879,
    "start_time": "2022-07-19T19:42:47.275Z"
   },
   {
    "duration": 25,
    "start_time": "2022-07-19T19:42:57.337Z"
   },
   {
    "duration": 9,
    "start_time": "2022-07-19T19:43:10.754Z"
   },
   {
    "duration": 10,
    "start_time": "2022-07-19T19:43:26.417Z"
   },
   {
    "duration": 11,
    "start_time": "2022-07-19T19:43:46.027Z"
   },
   {
    "duration": 24,
    "start_time": "2022-07-19T20:01:43.264Z"
   },
   {
    "duration": 22,
    "start_time": "2022-07-19T20:02:09.634Z"
   },
   {
    "duration": 34,
    "start_time": "2022-07-19T20:02:11.900Z"
   },
   {
    "duration": 21,
    "start_time": "2022-07-19T20:06:13.956Z"
   },
   {
    "duration": 22,
    "start_time": "2022-07-19T20:07:25.835Z"
   },
   {
    "duration": 10,
    "start_time": "2022-07-19T20:08:28.230Z"
   },
   {
    "duration": 3387,
    "start_time": "2022-07-19T20:08:34.211Z"
   },
   {
    "duration": 223,
    "start_time": "2022-07-19T20:16:58.141Z"
   },
   {
    "duration": 219,
    "start_time": "2022-07-19T20:17:09.350Z"
   },
   {
    "duration": 17,
    "start_time": "2022-07-19T20:17:19.176Z"
   },
   {
    "duration": 243,
    "start_time": "2022-07-19T20:17:21.465Z"
   },
   {
    "duration": 204,
    "start_time": "2022-07-19T20:17:45.603Z"
   },
   {
    "duration": 193,
    "start_time": "2022-07-19T20:18:24.585Z"
   },
   {
    "duration": 193,
    "start_time": "2022-07-19T20:18:31.824Z"
   },
   {
    "duration": 193,
    "start_time": "2022-07-19T20:19:17.243Z"
   },
   {
    "duration": 60,
    "start_time": "2022-07-19T20:19:35.596Z"
   },
   {
    "duration": 245,
    "start_time": "2022-07-19T20:21:21.503Z"
   },
   {
    "duration": 190,
    "start_time": "2022-07-19T20:21:30.541Z"
   },
   {
    "duration": 127,
    "start_time": "2022-07-19T20:21:55.395Z"
   },
   {
    "duration": 69,
    "start_time": "2022-07-19T20:22:05.861Z"
   },
   {
    "duration": 187,
    "start_time": "2022-07-19T20:22:09.162Z"
   },
   {
    "duration": 886,
    "start_time": "2022-07-19T20:23:15.168Z"
   },
   {
    "duration": 196,
    "start_time": "2022-07-19T20:24:00.640Z"
   },
   {
    "duration": 203,
    "start_time": "2022-07-19T20:24:11.961Z"
   },
   {
    "duration": 198,
    "start_time": "2022-07-19T20:24:30.727Z"
   },
   {
    "duration": 186,
    "start_time": "2022-07-19T20:24:37.479Z"
   },
   {
    "duration": 184,
    "start_time": "2022-07-19T20:24:43.771Z"
   },
   {
    "duration": 190,
    "start_time": "2022-07-19T20:25:17.457Z"
   },
   {
    "duration": 198,
    "start_time": "2022-07-19T20:25:56.461Z"
   },
   {
    "duration": 56,
    "start_time": "2022-07-19T20:28:41.925Z"
   },
   {
    "duration": 57,
    "start_time": "2022-07-19T20:29:36.427Z"
   },
   {
    "duration": 196,
    "start_time": "2022-07-19T20:29:52.982Z"
   },
   {
    "duration": 208,
    "start_time": "2022-07-19T20:32:31.292Z"
   },
   {
    "duration": 81,
    "start_time": "2022-07-19T20:35:43.793Z"
   },
   {
    "duration": 13,
    "start_time": "2022-07-19T20:36:25.579Z"
   },
   {
    "duration": 5,
    "start_time": "2022-07-19T20:59:32.721Z"
   },
   {
    "duration": 6,
    "start_time": "2022-07-19T20:59:43.331Z"
   },
   {
    "duration": 76,
    "start_time": "2022-07-19T21:00:17.077Z"
   },
   {
    "duration": 29,
    "start_time": "2022-07-19T21:00:21.419Z"
   },
   {
    "duration": 4,
    "start_time": "2022-07-19T21:03:30.925Z"
   },
   {
    "duration": 16,
    "start_time": "2022-07-19T21:05:00.282Z"
   },
   {
    "duration": 12,
    "start_time": "2022-07-19T21:05:15.081Z"
   },
   {
    "duration": 11,
    "start_time": "2022-07-19T21:06:16.219Z"
   },
   {
    "duration": 7,
    "start_time": "2022-07-19T21:06:57.574Z"
   },
   {
    "duration": 45,
    "start_time": "2022-07-19T21:07:04.430Z"
   },
   {
    "duration": 73,
    "start_time": "2022-07-19T21:07:30.966Z"
   },
   {
    "duration": 108,
    "start_time": "2022-07-19T21:07:35.781Z"
   },
   {
    "duration": 7,
    "start_time": "2022-07-19T21:08:06.635Z"
   },
   {
    "duration": 218,
    "start_time": "2022-07-19T21:08:41.028Z"
   },
   {
    "duration": 226,
    "start_time": "2022-07-19T21:11:08.530Z"
   },
   {
    "duration": 217,
    "start_time": "2022-07-19T21:11:39.342Z"
   },
   {
    "duration": 7,
    "start_time": "2022-07-19T21:22:54.496Z"
   },
   {
    "duration": 6,
    "start_time": "2022-07-19T21:23:19.538Z"
   },
   {
    "duration": 15,
    "start_time": "2022-07-19T21:23:38.736Z"
   },
   {
    "duration": 12,
    "start_time": "2022-07-19T21:23:52.464Z"
   },
   {
    "duration": 10,
    "start_time": "2022-07-19T21:24:23.840Z"
   },
   {
    "duration": 7,
    "start_time": "2022-07-19T21:24:51.339Z"
   },
   {
    "duration": 24,
    "start_time": "2022-07-19T21:25:01.017Z"
   },
   {
    "duration": 17,
    "start_time": "2022-07-19T21:25:37.531Z"
   },
   {
    "duration": 9,
    "start_time": "2022-07-19T21:25:46.034Z"
   },
   {
    "duration": 9,
    "start_time": "2022-07-19T21:26:04.742Z"
   },
   {
    "duration": 9,
    "start_time": "2022-07-19T21:26:55.495Z"
   },
   {
    "duration": 22,
    "start_time": "2022-07-19T21:27:06.509Z"
   },
   {
    "duration": 15,
    "start_time": "2022-07-19T21:27:20.187Z"
   },
   {
    "duration": 15,
    "start_time": "2022-07-19T21:27:26.533Z"
   },
   {
    "duration": 19,
    "start_time": "2022-07-19T21:38:03.532Z"
   },
   {
    "duration": 21,
    "start_time": "2022-07-19T21:38:36.106Z"
   },
   {
    "duration": 15,
    "start_time": "2022-07-19T21:38:58.126Z"
   },
   {
    "duration": 11,
    "start_time": "2022-07-19T21:39:08.674Z"
   },
   {
    "duration": 8,
    "start_time": "2022-07-19T21:39:21.879Z"
   },
   {
    "duration": 8,
    "start_time": "2022-07-19T21:39:27.099Z"
   },
   {
    "duration": 17,
    "start_time": "2022-07-19T21:42:45.609Z"
   },
   {
    "duration": 5,
    "start_time": "2022-07-19T21:51:28.233Z"
   },
   {
    "duration": 209,
    "start_time": "2022-07-19T21:51:32.153Z"
   },
   {
    "duration": 19,
    "start_time": "2022-07-19T21:51:41.499Z"
   },
   {
    "duration": 20,
    "start_time": "2022-07-19T21:54:01.949Z"
   },
   {
    "duration": 17,
    "start_time": "2022-07-19T21:54:31.900Z"
   },
   {
    "duration": 21,
    "start_time": "2022-07-19T21:56:13.557Z"
   },
   {
    "duration": 27,
    "start_time": "2022-07-19T21:56:23.005Z"
   },
   {
    "duration": 24,
    "start_time": "2022-07-19T21:56:45.641Z"
   },
   {
    "duration": 23,
    "start_time": "2022-07-19T21:57:03.741Z"
   },
   {
    "duration": 35,
    "start_time": "2022-07-19T21:57:23.006Z"
   },
   {
    "duration": 17,
    "start_time": "2022-07-19T21:57:43.932Z"
   },
   {
    "duration": 14,
    "start_time": "2022-07-19T21:58:13.461Z"
   },
   {
    "duration": 17,
    "start_time": "2022-07-19T21:58:23.973Z"
   },
   {
    "duration": 19,
    "start_time": "2022-07-19T21:58:46.642Z"
   },
   {
    "duration": 16,
    "start_time": "2022-07-19T21:59:26.983Z"
   },
   {
    "duration": 449,
    "start_time": "2022-07-19T22:00:29.894Z"
   },
   {
    "duration": 288,
    "start_time": "2022-07-19T22:00:56.397Z"
   },
   {
    "duration": 326,
    "start_time": "2022-07-19T22:01:06.656Z"
   },
   {
    "duration": 398,
    "start_time": "2022-07-19T22:01:30.120Z"
   },
   {
    "duration": 390,
    "start_time": "2022-07-19T22:01:37.871Z"
   },
   {
    "duration": 469,
    "start_time": "2022-07-19T22:02:03.529Z"
   },
   {
    "duration": 317,
    "start_time": "2022-07-20T01:34:13.577Z"
   },
   {
    "duration": 52,
    "start_time": "2022-07-20T01:47:55.903Z"
   },
   {
    "duration": 13,
    "start_time": "2022-07-20T01:48:09.096Z"
   },
   {
    "duration": 22,
    "start_time": "2022-07-20T01:48:29.117Z"
   },
   {
    "duration": 18,
    "start_time": "2022-07-20T01:48:43.596Z"
   },
   {
    "duration": 257,
    "start_time": "2022-07-20T01:50:38.443Z"
   },
   {
    "duration": 50,
    "start_time": "2022-07-20T01:51:16.839Z"
   },
   {
    "duration": 218,
    "start_time": "2022-07-20T01:51:26.050Z"
   },
   {
    "duration": 219,
    "start_time": "2022-07-20T01:51:31.093Z"
   },
   {
    "duration": 280,
    "start_time": "2022-07-20T01:52:25.320Z"
   },
   {
    "duration": 19,
    "start_time": "2022-07-20T01:53:00.073Z"
   },
   {
    "duration": 20,
    "start_time": "2022-07-20T01:53:13.440Z"
   },
   {
    "duration": 19,
    "start_time": "2022-07-20T01:53:27.749Z"
   },
   {
    "duration": 21,
    "start_time": "2022-07-20T01:53:39.440Z"
   },
   {
    "duration": 20,
    "start_time": "2022-07-20T01:53:58.304Z"
   },
   {
    "duration": 57,
    "start_time": "2022-07-20T01:54:06.249Z"
   },
   {
    "duration": 22,
    "start_time": "2022-07-20T01:54:33.322Z"
   },
   {
    "duration": 15,
    "start_time": "2022-07-20T01:55:18.386Z"
   },
   {
    "duration": 14,
    "start_time": "2022-07-20T01:55:39.924Z"
   },
   {
    "duration": 207,
    "start_time": "2022-07-20T01:57:06.781Z"
   },
   {
    "duration": 247,
    "start_time": "2022-07-20T01:57:18.732Z"
   },
   {
    "duration": 221,
    "start_time": "2022-07-20T01:57:40.818Z"
   },
   {
    "duration": 218,
    "start_time": "2022-07-20T01:57:48.018Z"
   },
   {
    "duration": 837,
    "start_time": "2022-07-20T01:58:35.088Z"
   },
   {
    "duration": 18,
    "start_time": "2022-07-20T01:58:52.606Z"
   },
   {
    "duration": 24,
    "start_time": "2022-07-20T01:59:11.318Z"
   },
   {
    "duration": 15,
    "start_time": "2022-07-20T01:59:29.535Z"
   },
   {
    "duration": 13,
    "start_time": "2022-07-20T02:00:07.984Z"
   },
   {
    "duration": 11,
    "start_time": "2022-07-20T02:00:25.629Z"
   },
   {
    "duration": 13,
    "start_time": "2022-07-20T02:00:31.383Z"
   },
   {
    "duration": 12,
    "start_time": "2022-07-20T02:00:34.990Z"
   },
   {
    "duration": 13,
    "start_time": "2022-07-20T02:00:38.015Z"
   },
   {
    "duration": 244,
    "start_time": "2022-07-20T02:01:00.148Z"
   },
   {
    "duration": 280,
    "start_time": "2022-07-20T02:01:06.324Z"
   },
   {
    "duration": 217,
    "start_time": "2022-07-20T02:01:36.294Z"
   },
   {
    "duration": 211,
    "start_time": "2022-07-20T02:02:05.044Z"
   },
   {
    "duration": 750,
    "start_time": "2022-07-20T02:02:42.497Z"
   },
   {
    "duration": 45,
    "start_time": "2022-07-20T02:03:39.074Z"
   },
   {
    "duration": 52,
    "start_time": "2022-07-20T02:03:55.937Z"
   },
   {
    "duration": 46,
    "start_time": "2022-07-20T02:04:07.360Z"
   },
   {
    "duration": 53,
    "start_time": "2022-07-20T02:04:16.731Z"
   },
   {
    "duration": 15,
    "start_time": "2022-07-20T02:04:34.598Z"
   },
   {
    "duration": 3,
    "start_time": "2022-07-20T02:25:08.588Z"
   },
   {
    "duration": 6,
    "start_time": "2022-07-20T02:45:34.927Z"
   },
   {
    "duration": 7,
    "start_time": "2022-07-20T02:47:55.125Z"
   },
   {
    "duration": 5,
    "start_time": "2022-07-20T02:48:31.254Z"
   },
   {
    "duration": 9,
    "start_time": "2022-07-20T02:48:39.230Z"
   },
   {
    "duration": 11,
    "start_time": "2022-07-20T02:48:59.087Z"
   },
   {
    "duration": 64,
    "start_time": "2022-07-20T02:49:05.588Z"
   },
   {
    "duration": 53,
    "start_time": "2022-07-20T02:49:13.836Z"
   },
   {
    "duration": 62,
    "start_time": "2022-07-20T02:54:38.885Z"
   },
   {
    "duration": 57,
    "start_time": "2022-07-20T02:54:53.193Z"
   },
   {
    "duration": 45,
    "start_time": "2022-07-20T02:57:20.875Z"
   },
   {
    "duration": 10,
    "start_time": "2022-07-20T03:05:30.332Z"
   },
   {
    "duration": 58,
    "start_time": "2022-07-20T13:26:46.585Z"
   },
   {
    "duration": 7,
    "start_time": "2022-07-20T13:26:51.713Z"
   },
   {
    "duration": 865,
    "start_time": "2022-07-20T13:27:02.597Z"
   },
   {
    "duration": 19,
    "start_time": "2022-07-20T13:27:03.465Z"
   },
   {
    "duration": 32,
    "start_time": "2022-07-20T13:27:03.485Z"
   },
   {
    "duration": 36,
    "start_time": "2022-07-20T13:27:03.519Z"
   },
   {
    "duration": 6,
    "start_time": "2022-07-20T13:27:03.557Z"
   },
   {
    "duration": 23,
    "start_time": "2022-07-20T13:27:03.564Z"
   },
   {
    "duration": 21,
    "start_time": "2022-07-20T13:27:03.589Z"
   },
   {
    "duration": 32,
    "start_time": "2022-07-20T13:27:03.612Z"
   },
   {
    "duration": 124,
    "start_time": "2022-07-20T13:27:03.646Z"
   },
   {
    "duration": 3,
    "start_time": "2022-07-20T13:27:03.772Z"
   },
   {
    "duration": 8,
    "start_time": "2022-07-20T13:27:03.777Z"
   },
   {
    "duration": 22,
    "start_time": "2022-07-20T13:27:03.786Z"
   },
   {
    "duration": 11,
    "start_time": "2022-07-20T13:27:03.810Z"
   },
   {
    "duration": 23,
    "start_time": "2022-07-20T13:27:03.822Z"
   },
   {
    "duration": 13,
    "start_time": "2022-07-20T13:27:03.847Z"
   },
   {
    "duration": 13,
    "start_time": "2022-07-20T13:27:03.862Z"
   },
   {
    "duration": 28,
    "start_time": "2022-07-20T13:27:03.877Z"
   },
   {
    "duration": 9,
    "start_time": "2022-07-20T13:27:03.906Z"
   },
   {
    "duration": 21,
    "start_time": "2022-07-20T13:27:03.916Z"
   },
   {
    "duration": 2,
    "start_time": "2022-07-20T13:27:03.939Z"
   },
   {
    "duration": 9,
    "start_time": "2022-07-20T13:27:03.943Z"
   },
   {
    "duration": 20,
    "start_time": "2022-07-20T13:27:03.954Z"
   },
   {
    "duration": 34,
    "start_time": "2022-07-20T13:27:03.976Z"
   },
   {
    "duration": 23,
    "start_time": "2022-07-20T13:27:04.012Z"
   },
   {
    "duration": 2,
    "start_time": "2022-07-20T13:27:04.037Z"
   },
   {
    "duration": 15,
    "start_time": "2022-07-20T13:27:04.041Z"
   },
   {
    "duration": 19,
    "start_time": "2022-07-20T13:27:04.058Z"
   },
   {
    "duration": 31,
    "start_time": "2022-07-20T13:27:04.081Z"
   },
   {
    "duration": 5,
    "start_time": "2022-07-20T13:27:04.114Z"
   },
   {
    "duration": 23,
    "start_time": "2022-07-20T13:27:04.121Z"
   },
   {
    "duration": 8,
    "start_time": "2022-07-20T13:27:04.145Z"
   },
   {
    "duration": 18,
    "start_time": "2022-07-20T13:27:04.155Z"
   },
   {
    "duration": 45,
    "start_time": "2022-07-20T13:27:04.175Z"
   },
   {
    "duration": 6,
    "start_time": "2022-07-20T13:27:04.221Z"
   },
   {
    "duration": 13,
    "start_time": "2022-07-20T13:27:04.229Z"
   },
   {
    "duration": 16,
    "start_time": "2022-07-20T13:27:04.244Z"
   },
   {
    "duration": 6,
    "start_time": "2022-07-20T13:27:04.262Z"
   },
   {
    "duration": 7,
    "start_time": "2022-07-20T13:27:04.270Z"
   },
   {
    "duration": 26,
    "start_time": "2022-07-20T13:27:04.278Z"
   },
   {
    "duration": 8,
    "start_time": "2022-07-20T13:27:04.306Z"
   },
   {
    "duration": 8,
    "start_time": "2022-07-20T13:27:04.315Z"
   },
   {
    "duration": 12,
    "start_time": "2022-07-20T13:27:04.325Z"
   },
   {
    "duration": 2,
    "start_time": "2022-07-20T13:27:04.340Z"
   },
   {
    "duration": 6,
    "start_time": "2022-07-20T13:27:04.344Z"
   },
   {
    "duration": 16,
    "start_time": "2022-07-20T13:27:04.351Z"
   },
   {
    "duration": 36,
    "start_time": "2022-07-20T13:27:04.369Z"
   },
   {
    "duration": 17,
    "start_time": "2022-07-20T13:27:04.407Z"
   },
   {
    "duration": 5,
    "start_time": "2022-07-20T13:27:04.426Z"
   },
   {
    "duration": 56,
    "start_time": "2022-07-20T13:27:04.433Z"
   },
   {
    "duration": 29,
    "start_time": "2022-07-20T13:27:04.490Z"
   },
   {
    "duration": 2,
    "start_time": "2022-07-20T13:27:04.521Z"
   },
   {
    "duration": 18,
    "start_time": "2022-07-20T13:27:04.524Z"
   },
   {
    "duration": 9,
    "start_time": "2022-07-20T13:27:04.543Z"
   },
   {
    "duration": 23,
    "start_time": "2022-07-20T13:27:04.554Z"
   },
   {
    "duration": 36,
    "start_time": "2022-07-20T13:27:04.578Z"
   },
   {
    "duration": 7,
    "start_time": "2022-07-20T13:27:04.616Z"
   },
   {
    "duration": 11,
    "start_time": "2022-07-20T13:27:04.625Z"
   },
   {
    "duration": 12,
    "start_time": "2022-07-20T13:27:04.638Z"
   },
   {
    "duration": 5,
    "start_time": "2022-07-20T13:27:04.652Z"
   },
   {
    "duration": 11,
    "start_time": "2022-07-20T13:27:04.659Z"
   },
   {
    "duration": 40,
    "start_time": "2022-07-20T13:27:04.672Z"
   },
   {
    "duration": 7,
    "start_time": "2022-07-20T13:27:04.714Z"
   },
   {
    "duration": 12,
    "start_time": "2022-07-20T13:27:04.724Z"
   },
   {
    "duration": 23,
    "start_time": "2022-07-20T13:27:04.738Z"
   },
   {
    "duration": 44,
    "start_time": "2022-07-20T13:27:04.763Z"
   },
   {
    "duration": 20,
    "start_time": "2022-07-20T13:27:04.808Z"
   },
   {
    "duration": 5,
    "start_time": "2022-07-20T13:27:04.829Z"
   },
   {
    "duration": 15,
    "start_time": "2022-07-20T13:27:04.835Z"
   },
   {
    "duration": 21,
    "start_time": "2022-07-20T13:27:04.851Z"
   },
   {
    "duration": 2,
    "start_time": "2022-07-20T13:27:04.904Z"
   },
   {
    "duration": 8,
    "start_time": "2022-07-20T13:27:04.908Z"
   },
   {
    "duration": 26,
    "start_time": "2022-07-20T13:27:04.918Z"
   },
   {
    "duration": 19,
    "start_time": "2022-07-20T13:27:04.945Z"
   },
   {
    "duration": 2,
    "start_time": "2022-07-20T13:27:04.966Z"
   },
   {
    "duration": 5,
    "start_time": "2022-07-20T13:27:04.970Z"
   },
   {
    "duration": 28,
    "start_time": "2022-07-20T13:27:04.977Z"
   },
   {
    "duration": 14,
    "start_time": "2022-07-20T13:27:05.007Z"
   },
   {
    "duration": 9,
    "start_time": "2022-07-20T13:27:05.023Z"
   },
   {
    "duration": 9,
    "start_time": "2022-07-20T13:27:05.034Z"
   },
   {
    "duration": 24,
    "start_time": "2022-07-20T13:27:05.044Z"
   },
   {
    "duration": 9,
    "start_time": "2022-07-20T13:27:05.070Z"
   },
   {
    "duration": 10,
    "start_time": "2022-07-20T13:27:05.085Z"
   },
   {
    "duration": 2438,
    "start_time": "2022-07-20T13:27:05.099Z"
   },
   {
    "duration": 15,
    "start_time": "2022-07-20T13:27:07.538Z"
   },
   {
    "duration": 12,
    "start_time": "2022-07-20T13:27:07.554Z"
   },
   {
    "duration": 8,
    "start_time": "2022-07-20T13:27:07.568Z"
   },
   {
    "duration": 26,
    "start_time": "2022-07-20T13:27:07.578Z"
   },
   {
    "duration": 5,
    "start_time": "2022-07-20T13:27:07.606Z"
   },
   {
    "duration": 5,
    "start_time": "2022-07-20T13:27:07.613Z"
   },
   {
    "duration": 5,
    "start_time": "2022-07-20T13:27:07.619Z"
   },
   {
    "duration": 5,
    "start_time": "2022-07-20T13:27:07.626Z"
   },
   {
    "duration": 5,
    "start_time": "2022-07-20T13:27:07.632Z"
   },
   {
    "duration": 6,
    "start_time": "2022-07-20T13:27:07.639Z"
   },
   {
    "duration": 237,
    "start_time": "2022-07-20T13:27:07.647Z"
   },
   {
    "duration": 25,
    "start_time": "2022-07-20T13:27:07.885Z"
   },
   {
    "duration": 213,
    "start_time": "2022-07-20T13:27:07.912Z"
   },
   {
    "duration": 3,
    "start_time": "2022-07-20T13:27:08.126Z"
   },
   {
    "duration": 87,
    "start_time": "2022-07-20T13:27:08.130Z"
   },
   {
    "duration": 10,
    "start_time": "2022-07-20T13:27:35.174Z"
   },
   {
    "duration": 10,
    "start_time": "2022-07-20T13:28:13.927Z"
   },
   {
    "duration": 11,
    "start_time": "2022-07-20T13:28:31.503Z"
   },
   {
    "duration": 15,
    "start_time": "2022-07-20T13:37:47.020Z"
   },
   {
    "duration": 17,
    "start_time": "2022-07-20T13:37:53.416Z"
   },
   {
    "duration": 16,
    "start_time": "2022-07-20T13:37:58.951Z"
   },
   {
    "duration": 233,
    "start_time": "2022-07-20T13:38:37.771Z"
   },
   {
    "duration": 84,
    "start_time": "2022-07-20T13:55:01.158Z"
   },
   {
    "duration": 193,
    "start_time": "2022-07-20T13:55:27.179Z"
   },
   {
    "duration": 225,
    "start_time": "2022-07-20T13:55:48.297Z"
   },
   {
    "duration": 280,
    "start_time": "2022-07-20T13:55:56.512Z"
   },
   {
    "duration": 205,
    "start_time": "2022-07-20T13:56:04.736Z"
   },
   {
    "duration": 203,
    "start_time": "2022-07-20T13:56:20.753Z"
   },
   {
    "duration": 209,
    "start_time": "2022-07-20T13:56:48.560Z"
   },
   {
    "duration": 203,
    "start_time": "2022-07-20T13:57:23.654Z"
   },
   {
    "duration": 217,
    "start_time": "2022-07-20T13:57:59.021Z"
   },
   {
    "duration": 230,
    "start_time": "2022-07-20T13:58:20.604Z"
   },
   {
    "duration": 223,
    "start_time": "2022-07-20T14:00:21.756Z"
   },
   {
    "duration": 16,
    "start_time": "2022-07-20T14:00:32.362Z"
   },
   {
    "duration": 1069,
    "start_time": "2022-07-20T14:00:36.965Z"
   },
   {
    "duration": 215,
    "start_time": "2022-07-20T14:00:42.101Z"
   },
   {
    "duration": 214,
    "start_time": "2022-07-20T14:00:57.871Z"
   },
   {
    "duration": 220,
    "start_time": "2022-07-20T14:02:09.989Z"
   },
   {
    "duration": 239,
    "start_time": "2022-07-20T14:02:55.326Z"
   },
   {
    "duration": 7,
    "start_time": "2022-07-20T14:03:00.370Z"
   },
   {
    "duration": 201,
    "start_time": "2022-07-20T14:03:04.456Z"
   },
   {
    "duration": 13,
    "start_time": "2022-07-20T14:15:50.967Z"
   },
   {
    "duration": 17,
    "start_time": "2022-07-20T14:16:22.221Z"
   },
   {
    "duration": 18,
    "start_time": "2022-07-20T14:17:21.412Z"
   },
   {
    "duration": 9,
    "start_time": "2022-07-20T14:18:30.051Z"
   },
   {
    "duration": 11,
    "start_time": "2022-07-20T14:18:36.960Z"
   },
   {
    "duration": 119,
    "start_time": "2022-07-20T14:19:07.358Z"
   },
   {
    "duration": 8,
    "start_time": "2022-07-20T14:19:14.159Z"
   },
   {
    "duration": 11,
    "start_time": "2022-07-20T14:19:34.699Z"
   },
   {
    "duration": 16,
    "start_time": "2022-07-20T14:52:13.956Z"
   },
   {
    "duration": 20,
    "start_time": "2022-07-20T14:52:25.673Z"
   },
   {
    "duration": 14,
    "start_time": "2022-07-20T14:52:39.593Z"
   },
   {
    "duration": 148,
    "start_time": "2022-07-20T14:58:02.625Z"
   },
   {
    "duration": 17,
    "start_time": "2022-07-20T14:58:35.803Z"
   },
   {
    "duration": 17,
    "start_time": "2022-07-20T14:59:16.216Z"
   },
   {
    "duration": 17,
    "start_time": "2022-07-20T14:59:18.118Z"
   },
   {
    "duration": 12,
    "start_time": "2022-07-20T14:59:23.298Z"
   },
   {
    "duration": 12,
    "start_time": "2022-07-20T14:59:28.086Z"
   },
   {
    "duration": 16,
    "start_time": "2022-07-20T14:59:31.421Z"
   },
   {
    "duration": 9,
    "start_time": "2022-07-20T14:59:58.815Z"
   },
   {
    "duration": 9,
    "start_time": "2022-07-20T15:00:10.708Z"
   },
   {
    "duration": 79,
    "start_time": "2022-07-20T15:00:19.650Z"
   },
   {
    "duration": 10,
    "start_time": "2022-07-20T15:00:50.262Z"
   },
   {
    "duration": 9,
    "start_time": "2022-07-20T15:00:55.853Z"
   },
   {
    "duration": 12,
    "start_time": "2022-07-20T15:02:22.798Z"
   },
   {
    "duration": 14,
    "start_time": "2022-07-20T15:02:35.057Z"
   },
   {
    "duration": 85,
    "start_time": "2022-07-20T15:04:24.208Z"
   },
   {
    "duration": 9,
    "start_time": "2022-07-20T15:04:28.968Z"
   },
   {
    "duration": 13,
    "start_time": "2022-07-20T15:05:15.726Z"
   },
   {
    "duration": 12,
    "start_time": "2022-07-20T15:05:21.952Z"
   },
   {
    "duration": 12,
    "start_time": "2022-07-20T15:06:17.959Z"
   },
   {
    "duration": 12,
    "start_time": "2022-07-20T15:06:28.549Z"
   },
   {
    "duration": 12,
    "start_time": "2022-07-20T15:09:06.341Z"
   },
   {
    "duration": 16,
    "start_time": "2022-07-20T15:09:12.451Z"
   },
   {
    "duration": 17,
    "start_time": "2022-07-20T15:09:40.881Z"
   },
   {
    "duration": 14,
    "start_time": "2022-07-20T15:09:48.565Z"
   },
   {
    "duration": 14,
    "start_time": "2022-07-20T15:10:23.304Z"
   },
   {
    "duration": 16,
    "start_time": "2022-07-20T15:10:34.138Z"
   },
   {
    "duration": 79,
    "start_time": "2022-07-20T15:11:39.302Z"
   },
   {
    "duration": 13,
    "start_time": "2022-07-20T15:11:47.960Z"
   },
   {
    "duration": 15,
    "start_time": "2022-07-20T15:12:03.644Z"
   },
   {
    "duration": 11,
    "start_time": "2022-07-20T15:12:14.350Z"
   },
   {
    "duration": 12,
    "start_time": "2022-07-20T15:13:17.746Z"
   },
   {
    "duration": 86,
    "start_time": "2022-07-20T15:13:19.496Z"
   },
   {
    "duration": 13,
    "start_time": "2022-07-20T15:13:23.921Z"
   },
   {
    "duration": 8,
    "start_time": "2022-07-20T15:14:24.618Z"
   },
   {
    "duration": 86,
    "start_time": "2022-07-20T15:15:16.597Z"
   },
   {
    "duration": 8,
    "start_time": "2022-07-20T15:15:28.189Z"
   },
   {
    "duration": 84,
    "start_time": "2022-07-20T15:17:09.263Z"
   },
   {
    "duration": 80,
    "start_time": "2022-07-20T15:17:14.552Z"
   },
   {
    "duration": 10,
    "start_time": "2022-07-20T15:17:20.391Z"
   },
   {
    "duration": 87,
    "start_time": "2022-07-20T15:17:36.665Z"
   },
   {
    "duration": 7,
    "start_time": "2022-07-20T15:18:32.773Z"
   },
   {
    "duration": 10,
    "start_time": "2022-07-20T15:18:37.757Z"
   },
   {
    "duration": 15,
    "start_time": "2022-07-20T15:18:46.600Z"
   },
   {
    "duration": 13,
    "start_time": "2022-07-20T15:19:12.001Z"
   },
   {
    "duration": 11,
    "start_time": "2022-07-20T15:19:18.315Z"
   },
   {
    "duration": 8,
    "start_time": "2022-07-20T15:19:22.021Z"
   },
   {
    "duration": 348,
    "start_time": "2022-07-20T15:20:10.273Z"
   },
   {
    "duration": 848,
    "start_time": "2022-07-20T15:20:16.579Z"
   },
   {
    "duration": 95,
    "start_time": "2022-07-20T15:21:23.127Z"
   },
   {
    "duration": 81,
    "start_time": "2022-07-20T15:21:30.057Z"
   },
   {
    "duration": 2075,
    "start_time": "2022-07-20T15:21:34.556Z"
   },
   {
    "duration": 1229,
    "start_time": "2022-07-20T15:21:53.949Z"
   },
   {
    "duration": 16,
    "start_time": "2022-07-20T15:22:46.526Z"
   },
   {
    "duration": 640,
    "start_time": "2022-07-20T15:23:04.017Z"
   },
   {
    "duration": 9,
    "start_time": "2022-07-20T15:23:15.091Z"
   },
   {
    "duration": 12,
    "start_time": "2022-07-20T15:23:19.606Z"
   },
   {
    "duration": 4,
    "start_time": "2022-07-20T15:30:08.479Z"
   },
   {
    "duration": 12,
    "start_time": "2022-07-20T15:30:18.416Z"
   },
   {
    "duration": 10,
    "start_time": "2022-07-20T15:30:32.155Z"
   },
   {
    "duration": 111,
    "start_time": "2022-07-20T15:39:15.355Z"
   },
   {
    "duration": 321,
    "start_time": "2022-07-20T15:39:27.098Z"
   },
   {
    "duration": 5048,
    "start_time": "2022-07-20T15:40:23.667Z"
   },
   {
    "duration": 2631,
    "start_time": "2022-07-20T15:42:02.254Z"
   },
   {
    "duration": 4,
    "start_time": "2022-07-20T15:42:47.451Z"
   },
   {
    "duration": 2599,
    "start_time": "2022-07-20T15:43:01.652Z"
   },
   {
    "duration": 2436,
    "start_time": "2022-07-20T15:43:22.915Z"
   },
   {
    "duration": 2790,
    "start_time": "2022-07-20T15:43:32.387Z"
   },
   {
    "duration": 2,
    "start_time": "2022-07-20T17:50:49.145Z"
   },
   {
    "duration": 11,
    "start_time": "2022-07-20T17:52:00.142Z"
   },
   {
    "duration": 2551,
    "start_time": "2022-07-20T17:52:07.808Z"
   },
   {
    "duration": 10,
    "start_time": "2022-07-20T17:52:12.666Z"
   }
  ],
  "celltoolbar": "Edit Metadata",
  "kernelspec": {
   "display_name": "Python 3 (ipykernel)",
   "language": "python",
   "name": "python3"
  },
  "language_info": {
   "codemirror_mode": {
    "name": "ipython",
    "version": 3
   },
   "file_extension": ".py",
   "mimetype": "text/x-python",
   "name": "python",
   "nbconvert_exporter": "python",
   "pygments_lexer": "ipython3",
   "version": "3.9.5"
  },
  "toc": {
   "base_numbering": 1,
   "nav_menu": {
    "height": "171px",
    "width": "264px"
   },
   "number_sections": true,
   "sideBar": false,
   "skip_h1_title": true,
   "title_cell": "Table of Contents",
   "title_sidebar": "Contents",
   "toc_cell": false,
   "toc_position": {
    "height": "1121px",
    "left": "1791px",
    "top": "111.125px",
    "width": "392px"
   },
   "toc_section_display": true,
   "toc_window_display": false
  },
  "widgets": {
   "application/vnd.jupyter.widget-state+json": {
    "state": {},
    "version_major": 2,
    "version_minor": 0
   }
  }
 },
 "nbformat": 4,
 "nbformat_minor": 2
}
